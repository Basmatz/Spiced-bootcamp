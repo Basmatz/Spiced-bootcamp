{
 "cells": [
  {
   "cell_type": "code",
   "execution_count": 39,
   "metadata": {},
   "outputs": [],
   "source": [
    "import numpy as np\n",
    "import pandas as pd\n",
    "import seaborn as sns\n",
    "from matplotlib import pyplot as plt\n",
    "from sklearn.preprocessing import OneHotEncoder\n",
    "from sklearn.preprocessing import MinMaxScaler\n",
    "from sklearn.preprocessing import KBinsDiscretizer\n",
    "from sklearn.tree import DecisionTreeClassifier\n",
    "from sklearn.ensemble import RandomForestClassifier\n",
    "from sklearn.model_selection import cross_val_score\n",
    "from sklearn.model_selection import train_test_split"
   ]
  },
  {
   "cell_type": "code",
   "execution_count": 22,
   "metadata": {},
   "outputs": [
    {
     "data": {
      "text/plain": [
       "(334, 14)"
      ]
     },
     "execution_count": 22,
     "metadata": {},
     "output_type": "execute_result"
    }
   ],
   "source": [
    "df= pd.read_csv(\"all_penguins_clean.csv\", index_col=0)\n",
    "df.dropna(inplace=True) # quick solve for NaN error in m.fit below\n",
    "df.shape"
   ]
  },
  {
   "cell_type": "code",
   "execution_count": 23,
   "metadata": {},
   "outputs": [],
   "source": [
    "X = df[['Culmen Length (mm)', \"Body Mass (g)\"]]\n",
    "y = df[\"Species\"]"
   ]
  },
  {
   "cell_type": "markdown",
   "metadata": {},
   "source": [
    "We want to :\n",
    "* try different values for each hyperparameter\n",
    "* train the model for each\n",
    "* see which has the best validation score"
   ]
  },
  {
   "cell_type": "code",
   "execution_count": 24,
   "metadata": {},
   "outputs": [
    {
     "name": "stdout",
     "output_type": "stream",
     "text": [
      "  1    0.740\n",
      "  2    0.910\n",
      "  3    0.907\n",
      "  4    0.916\n",
      "  5    0.916\n",
      "  6    0.907\n",
      "  7    0.904\n",
      "  8    0.895\n",
      "  9    0.901\n",
      " 10    0.901\n"
     ]
    }
   ],
   "source": [
    "for i in range (1,11):\n",
    "    m = DecisionTreeClassifier(max_depth=i)\n",
    "    mean_acc = cross_val_score(m, X, y, cv=5, scoring='accuracy').mean().round(3)\n",
    "    print (f\"{i:3} {mean_acc:8.3f}\")"
   ]
  },
  {
   "cell_type": "code",
   "execution_count": 25,
   "metadata": {},
   "outputs": [],
   "source": [
    "from sklearn.model_selection import GridSearchCV"
   ]
  },
  {
   "cell_type": "code",
   "execution_count": 27,
   "metadata": {},
   "outputs": [
    {
     "data": {
      "text/plain": [
       "GridSearchCV(cv=5, error_score=nan,\n",
       "             estimator=DecisionTreeClassifier(ccp_alpha=0.0, class_weight=None,\n",
       "                                              criterion='gini', max_depth=None,\n",
       "                                              max_features=None,\n",
       "                                              max_leaf_nodes=None,\n",
       "                                              min_impurity_decrease=0.0,\n",
       "                                              min_impurity_split=None,\n",
       "                                              min_samples_leaf=1,\n",
       "                                              min_samples_split=2,\n",
       "                                              min_weight_fraction_leaf=0.0,\n",
       "                                              presort='deprecated',\n",
       "                                              random_state=None,\n",
       "                                              splitter='best'),\n",
       "             iid='deprecated', n_jobs=None,\n",
       "             param_grid={'max_depth': [1, 2, 3, 4, 5, 6, 7, 8, 9, 10],\n",
       "                         'min_samples_split': [2, 4, 6, 8, 10, 12, 14, 16, 18]},\n",
       "             pre_dispatch='2*n_jobs', refit=True, return_train_score=False,\n",
       "             scoring=None, verbose=0)"
      ]
     },
     "execution_count": 27,
     "metadata": {},
     "output_type": "execute_result"
    }
   ],
   "source": [
    "#define hyperparameters to combine\n",
    "hyperparams = {\n",
    "    'max_depth'  : list(range(1,11)),\n",
    "    'min_samples_split' : list(range(2,20,2))\n",
    "}\n",
    "\n",
    "# create an estimator\n",
    "m =DecisionTreeClassifier()\n",
    "g = GridSearchCV(m, hyperparams, cv=5)\n",
    "g.fit(X,y)"
   ]
  },
  {
   "cell_type": "code",
   "execution_count": 28,
   "metadata": {},
   "outputs": [
    {
     "data": {
      "text/plain": [
       "DecisionTreeClassifier(ccp_alpha=0.0, class_weight=None, criterion='gini',\n",
       "                       max_depth=5, max_features=None, max_leaf_nodes=None,\n",
       "                       min_impurity_decrease=0.0, min_impurity_split=None,\n",
       "                       min_samples_leaf=1, min_samples_split=6,\n",
       "                       min_weight_fraction_leaf=0.0, presort='deprecated',\n",
       "                       random_state=None, splitter='best')"
      ]
     },
     "execution_count": 28,
     "metadata": {},
     "output_type": "execute_result"
    }
   ],
   "source": [
    "g.best_estimator_"
   ]
  },
  {
   "cell_type": "code",
   "execution_count": 29,
   "metadata": {},
   "outputs": [
    {
     "data": {
      "text/plain": [
       "{'max_depth': 5, 'min_samples_split': 6}"
      ]
     },
     "execution_count": 29,
     "metadata": {},
     "output_type": "execute_result"
    }
   ],
   "source": [
    "g.best_params_"
   ]
  },
  {
   "cell_type": "code",
   "execution_count": 30,
   "metadata": {},
   "outputs": [
    {
     "data": {
      "text/plain": [
       "{'mean_fit_time': array([0.0075706 , 0.00388417, 0.0039866 , 0.00539312, 0.0035738 ,\n",
       "        0.0032752 , 0.00370827, 0.00421968, 0.00352459, 0.0034894 ,\n",
       "        0.00323114, 0.00469003, 0.00370755, 0.00366635, 0.0036932 ,\n",
       "        0.00339079, 0.0034214 , 0.00432773, 0.00613098, 0.00342288,\n",
       "        0.00399942, 0.00355654, 0.00365105, 0.00400157, 0.0033514 ,\n",
       "        0.00424933, 0.00378761, 0.00387349, 0.00510507, 0.01215496,\n",
       "        0.00477715, 0.01264486, 0.00490341, 0.00378957, 0.01103301,\n",
       "        0.00681958, 0.0061903 , 0.0055892 , 0.00444059, 0.00886555,\n",
       "        0.00629506, 0.00532541, 0.00454235, 0.00526133, 0.00391765,\n",
       "        0.00417242, 0.0055676 , 0.00504084, 0.00631065, 0.00426803,\n",
       "        0.00760241, 0.00583439, 0.00574841, 0.00534177, 0.00391827,\n",
       "        0.00435634, 0.00407739, 0.00392852, 0.00414381, 0.00598297,\n",
       "        0.00572906, 0.00838847, 0.00425763, 0.00372863, 0.00631042,\n",
       "        0.00515127, 0.00729394, 0.00389032, 0.00421491, 0.00405354,\n",
       "        0.00467534, 0.00428352, 0.00408745, 0.00385737, 0.00450697,\n",
       "        0.00364332, 0.00350099, 0.01033597, 0.00345101, 0.00362144,\n",
       "        0.00455341, 0.00452762, 0.00384026, 0.00364685, 0.00382295,\n",
       "        0.0053031 , 0.00388188, 0.00456934, 0.00339522, 0.00359583]),\n",
       " 'std_fit_time': array([0.00516318, 0.00072752, 0.00107336, 0.0038084 , 0.00080671,\n",
       "        0.00059   , 0.00048863, 0.00168526, 0.00058382, 0.00044999,\n",
       "        0.0002458 , 0.00139372, 0.00062193, 0.00080583, 0.00046361,\n",
       "        0.00033798, 0.00030074, 0.0018827 , 0.00387337, 0.00023469,\n",
       "        0.00129909, 0.00056429, 0.00053838, 0.00096892, 0.00049628,\n",
       "        0.00148755, 0.0008433 , 0.00067052, 0.00240552, 0.01315396,\n",
       "        0.00191541, 0.01723248, 0.00157714, 0.00036342, 0.01365028,\n",
       "        0.00295688, 0.00182458, 0.00243491, 0.00155889, 0.00541589,\n",
       "        0.00198502, 0.00117688, 0.0012042 , 0.00146357, 0.00040793,\n",
       "        0.00075611, 0.00117613, 0.00109034, 0.0017643 , 0.00097788,\n",
       "        0.00364767, 0.00147164, 0.00072309, 0.00237506, 0.00020663,\n",
       "        0.00051592, 0.00031565, 0.00082445, 0.00059912, 0.00315726,\n",
       "        0.00162616, 0.00524355, 0.00098327, 0.00064933, 0.00091844,\n",
       "        0.00108056, 0.00541366, 0.00058324, 0.0009163 , 0.00054739,\n",
       "        0.00160844, 0.00090843, 0.00068804, 0.00050324, 0.00174009,\n",
       "        0.00039041, 0.00039196, 0.01297725, 0.00032028, 0.00034232,\n",
       "        0.00170352, 0.00141914, 0.00052853, 0.00038816, 0.00053818,\n",
       "        0.00318271, 0.00039378, 0.00194938, 0.00029429, 0.00043677]),\n",
       " 'mean_score_time': array([0.00356827, 0.0025578 , 0.00258398, 0.00186005, 0.0023509 ,\n",
       "        0.00180101, 0.00190554, 0.00186653, 0.0019423 , 0.00208335,\n",
       "        0.00167179, 0.00189443, 0.00352054, 0.00208788, 0.00183859,\n",
       "        0.00165653, 0.00264745, 0.00162163, 0.00173841, 0.00175776,\n",
       "        0.00197854, 0.00198927, 0.00174317, 0.00204716, 0.00167937,\n",
       "        0.00419345, 0.00191646, 0.00179429, 0.00194116, 0.00243769,\n",
       "        0.00746603, 0.00588474, 0.00508351, 0.0018393 , 0.010672  ,\n",
       "        0.0018167 , 0.00209293, 0.00281172, 0.00229721, 0.00256968,\n",
       "        0.0028069 , 0.0027256 , 0.00282679, 0.00202036, 0.00200658,\n",
       "        0.00302739, 0.00326424, 0.00432816, 0.00257883, 0.001823  ,\n",
       "        0.00190811, 0.00265799, 0.00253534, 0.00210929, 0.00182128,\n",
       "        0.00413823, 0.00224285, 0.00192585, 0.00245275, 0.00206938,\n",
       "        0.00237231, 0.00407958, 0.0028276 , 0.00213504, 0.0018064 ,\n",
       "        0.00233412, 0.0025866 , 0.00172062, 0.00183454, 0.00184078,\n",
       "        0.00177221, 0.00211816, 0.00173831, 0.00474377, 0.00181642,\n",
       "        0.00212855, 0.00180507, 0.00418944, 0.00213261, 0.00286531,\n",
       "        0.00190439, 0.00180407, 0.00168939, 0.00210242, 0.00166602,\n",
       "        0.00164905, 0.00348358, 0.00175676, 0.00182395, 0.00171885]),\n",
       " 'std_score_time': array([0.00299742, 0.00131442, 0.0014512 , 0.00024032, 0.00046126,\n",
       "        0.00029865, 0.00041692, 0.00052047, 0.00066756, 0.0004344 ,\n",
       "        0.00023007, 0.000502  , 0.00359332, 0.00056451, 0.00026933,\n",
       "        0.00029127, 0.00132511, 0.00013332, 0.00018886, 0.00021399,\n",
       "        0.0003845 , 0.00046657, 0.00031742, 0.00051311, 0.0002576 ,\n",
       "        0.00414156, 0.00061392, 0.00023009, 0.00031332, 0.00099196,\n",
       "        0.00727436, 0.00653491, 0.00520253, 0.00049119, 0.00923761,\n",
       "        0.00038561, 0.00082454, 0.00126499, 0.00062347, 0.00115373,\n",
       "        0.00088395, 0.00165879, 0.00142269, 0.00065742, 0.00043199,\n",
       "        0.00208284, 0.00139324, 0.00152523, 0.0008118 , 0.00039375,\n",
       "        0.00049505, 0.00110301, 0.00095799, 0.00089325, 0.00029153,\n",
       "        0.00300983, 0.00077604, 0.000151  , 0.00130412, 0.00086931,\n",
       "        0.00130383, 0.00233097, 0.00140597, 0.00103365, 0.00031615,\n",
       "        0.00085851, 0.00098328, 0.00014209, 0.00013662, 0.00037857,\n",
       "        0.00015923, 0.00085011, 0.00032309, 0.00452414, 0.00028432,\n",
       "        0.00040205, 0.00029598, 0.00402793, 0.00051512, 0.00145711,\n",
       "        0.00041921, 0.00032762, 0.00015853, 0.0005938 , 0.00019595,\n",
       "        0.00013249, 0.00247717, 0.00025309, 0.00029938, 0.00026727]),\n",
       " 'param_max_depth': masked_array(data=[1, 1, 1, 1, 1, 1, 1, 1, 1, 2, 2, 2, 2, 2, 2, 2, 2, 2,\n",
       "                    3, 3, 3, 3, 3, 3, 3, 3, 3, 4, 4, 4, 4, 4, 4, 4, 4, 4,\n",
       "                    5, 5, 5, 5, 5, 5, 5, 5, 5, 6, 6, 6, 6, 6, 6, 6, 6, 6,\n",
       "                    7, 7, 7, 7, 7, 7, 7, 7, 7, 8, 8, 8, 8, 8, 8, 8, 8, 8,\n",
       "                    9, 9, 9, 9, 9, 9, 9, 9, 9, 10, 10, 10, 10, 10, 10, 10,\n",
       "                    10, 10],\n",
       "              mask=[False, False, False, False, False, False, False, False,\n",
       "                    False, False, False, False, False, False, False, False,\n",
       "                    False, False, False, False, False, False, False, False,\n",
       "                    False, False, False, False, False, False, False, False,\n",
       "                    False, False, False, False, False, False, False, False,\n",
       "                    False, False, False, False, False, False, False, False,\n",
       "                    False, False, False, False, False, False, False, False,\n",
       "                    False, False, False, False, False, False, False, False,\n",
       "                    False, False, False, False, False, False, False, False,\n",
       "                    False, False, False, False, False, False, False, False,\n",
       "                    False, False, False, False, False, False, False, False,\n",
       "                    False, False],\n",
       "        fill_value='?',\n",
       "             dtype=object),\n",
       " 'param_min_samples_split': masked_array(data=[2, 4, 6, 8, 10, 12, 14, 16, 18, 2, 4, 6, 8, 10, 12, 14,\n",
       "                    16, 18, 2, 4, 6, 8, 10, 12, 14, 16, 18, 2, 4, 6, 8, 10,\n",
       "                    12, 14, 16, 18, 2, 4, 6, 8, 10, 12, 14, 16, 18, 2, 4,\n",
       "                    6, 8, 10, 12, 14, 16, 18, 2, 4, 6, 8, 10, 12, 14, 16,\n",
       "                    18, 2, 4, 6, 8, 10, 12, 14, 16, 18, 2, 4, 6, 8, 10, 12,\n",
       "                    14, 16, 18, 2, 4, 6, 8, 10, 12, 14, 16, 18],\n",
       "              mask=[False, False, False, False, False, False, False, False,\n",
       "                    False, False, False, False, False, False, False, False,\n",
       "                    False, False, False, False, False, False, False, False,\n",
       "                    False, False, False, False, False, False, False, False,\n",
       "                    False, False, False, False, False, False, False, False,\n",
       "                    False, False, False, False, False, False, False, False,\n",
       "                    False, False, False, False, False, False, False, False,\n",
       "                    False, False, False, False, False, False, False, False,\n",
       "                    False, False, False, False, False, False, False, False,\n",
       "                    False, False, False, False, False, False, False, False,\n",
       "                    False, False, False, False, False, False, False, False,\n",
       "                    False, False],\n",
       "        fill_value='?',\n",
       "             dtype=object),\n",
       " 'params': [{'max_depth': 1, 'min_samples_split': 2},\n",
       "  {'max_depth': 1, 'min_samples_split': 4},\n",
       "  {'max_depth': 1, 'min_samples_split': 6},\n",
       "  {'max_depth': 1, 'min_samples_split': 8},\n",
       "  {'max_depth': 1, 'min_samples_split': 10},\n",
       "  {'max_depth': 1, 'min_samples_split': 12},\n",
       "  {'max_depth': 1, 'min_samples_split': 14},\n",
       "  {'max_depth': 1, 'min_samples_split': 16},\n",
       "  {'max_depth': 1, 'min_samples_split': 18},\n",
       "  {'max_depth': 2, 'min_samples_split': 2},\n",
       "  {'max_depth': 2, 'min_samples_split': 4},\n",
       "  {'max_depth': 2, 'min_samples_split': 6},\n",
       "  {'max_depth': 2, 'min_samples_split': 8},\n",
       "  {'max_depth': 2, 'min_samples_split': 10},\n",
       "  {'max_depth': 2, 'min_samples_split': 12},\n",
       "  {'max_depth': 2, 'min_samples_split': 14},\n",
       "  {'max_depth': 2, 'min_samples_split': 16},\n",
       "  {'max_depth': 2, 'min_samples_split': 18},\n",
       "  {'max_depth': 3, 'min_samples_split': 2},\n",
       "  {'max_depth': 3, 'min_samples_split': 4},\n",
       "  {'max_depth': 3, 'min_samples_split': 6},\n",
       "  {'max_depth': 3, 'min_samples_split': 8},\n",
       "  {'max_depth': 3, 'min_samples_split': 10},\n",
       "  {'max_depth': 3, 'min_samples_split': 12},\n",
       "  {'max_depth': 3, 'min_samples_split': 14},\n",
       "  {'max_depth': 3, 'min_samples_split': 16},\n",
       "  {'max_depth': 3, 'min_samples_split': 18},\n",
       "  {'max_depth': 4, 'min_samples_split': 2},\n",
       "  {'max_depth': 4, 'min_samples_split': 4},\n",
       "  {'max_depth': 4, 'min_samples_split': 6},\n",
       "  {'max_depth': 4, 'min_samples_split': 8},\n",
       "  {'max_depth': 4, 'min_samples_split': 10},\n",
       "  {'max_depth': 4, 'min_samples_split': 12},\n",
       "  {'max_depth': 4, 'min_samples_split': 14},\n",
       "  {'max_depth': 4, 'min_samples_split': 16},\n",
       "  {'max_depth': 4, 'min_samples_split': 18},\n",
       "  {'max_depth': 5, 'min_samples_split': 2},\n",
       "  {'max_depth': 5, 'min_samples_split': 4},\n",
       "  {'max_depth': 5, 'min_samples_split': 6},\n",
       "  {'max_depth': 5, 'min_samples_split': 8},\n",
       "  {'max_depth': 5, 'min_samples_split': 10},\n",
       "  {'max_depth': 5, 'min_samples_split': 12},\n",
       "  {'max_depth': 5, 'min_samples_split': 14},\n",
       "  {'max_depth': 5, 'min_samples_split': 16},\n",
       "  {'max_depth': 5, 'min_samples_split': 18},\n",
       "  {'max_depth': 6, 'min_samples_split': 2},\n",
       "  {'max_depth': 6, 'min_samples_split': 4},\n",
       "  {'max_depth': 6, 'min_samples_split': 6},\n",
       "  {'max_depth': 6, 'min_samples_split': 8},\n",
       "  {'max_depth': 6, 'min_samples_split': 10},\n",
       "  {'max_depth': 6, 'min_samples_split': 12},\n",
       "  {'max_depth': 6, 'min_samples_split': 14},\n",
       "  {'max_depth': 6, 'min_samples_split': 16},\n",
       "  {'max_depth': 6, 'min_samples_split': 18},\n",
       "  {'max_depth': 7, 'min_samples_split': 2},\n",
       "  {'max_depth': 7, 'min_samples_split': 4},\n",
       "  {'max_depth': 7, 'min_samples_split': 6},\n",
       "  {'max_depth': 7, 'min_samples_split': 8},\n",
       "  {'max_depth': 7, 'min_samples_split': 10},\n",
       "  {'max_depth': 7, 'min_samples_split': 12},\n",
       "  {'max_depth': 7, 'min_samples_split': 14},\n",
       "  {'max_depth': 7, 'min_samples_split': 16},\n",
       "  {'max_depth': 7, 'min_samples_split': 18},\n",
       "  {'max_depth': 8, 'min_samples_split': 2},\n",
       "  {'max_depth': 8, 'min_samples_split': 4},\n",
       "  {'max_depth': 8, 'min_samples_split': 6},\n",
       "  {'max_depth': 8, 'min_samples_split': 8},\n",
       "  {'max_depth': 8, 'min_samples_split': 10},\n",
       "  {'max_depth': 8, 'min_samples_split': 12},\n",
       "  {'max_depth': 8, 'min_samples_split': 14},\n",
       "  {'max_depth': 8, 'min_samples_split': 16},\n",
       "  {'max_depth': 8, 'min_samples_split': 18},\n",
       "  {'max_depth': 9, 'min_samples_split': 2},\n",
       "  {'max_depth': 9, 'min_samples_split': 4},\n",
       "  {'max_depth': 9, 'min_samples_split': 6},\n",
       "  {'max_depth': 9, 'min_samples_split': 8},\n",
       "  {'max_depth': 9, 'min_samples_split': 10},\n",
       "  {'max_depth': 9, 'min_samples_split': 12},\n",
       "  {'max_depth': 9, 'min_samples_split': 14},\n",
       "  {'max_depth': 9, 'min_samples_split': 16},\n",
       "  {'max_depth': 9, 'min_samples_split': 18},\n",
       "  {'max_depth': 10, 'min_samples_split': 2},\n",
       "  {'max_depth': 10, 'min_samples_split': 4},\n",
       "  {'max_depth': 10, 'min_samples_split': 6},\n",
       "  {'max_depth': 10, 'min_samples_split': 8},\n",
       "  {'max_depth': 10, 'min_samples_split': 10},\n",
       "  {'max_depth': 10, 'min_samples_split': 12},\n",
       "  {'max_depth': 10, 'min_samples_split': 14},\n",
       "  {'max_depth': 10, 'min_samples_split': 16},\n",
       "  {'max_depth': 10, 'min_samples_split': 18}],\n",
       " 'split0_test_score': array([0.74626866, 0.74626866, 0.74626866, 0.74626866, 0.74626866,\n",
       "        0.74626866, 0.74626866, 0.74626866, 0.74626866, 0.94029851,\n",
       "        0.94029851, 0.94029851, 0.94029851, 0.94029851, 0.94029851,\n",
       "        0.94029851, 0.94029851, 0.94029851, 0.94029851, 0.94029851,\n",
       "        0.94029851, 0.94029851, 0.94029851, 0.94029851, 0.94029851,\n",
       "        0.94029851, 0.94029851, 0.89552239, 0.89552239, 0.89552239,\n",
       "        0.89552239, 0.89552239, 0.89552239, 0.89552239, 0.89552239,\n",
       "        0.91044776, 0.91044776, 0.91044776, 0.91044776, 0.91044776,\n",
       "        0.91044776, 0.89552239, 0.89552239, 0.89552239, 0.91044776,\n",
       "        0.91044776, 0.91044776, 0.91044776, 0.91044776, 0.91044776,\n",
       "        0.89552239, 0.89552239, 0.89552239, 0.91044776, 0.91044776,\n",
       "        0.89552239, 0.91044776, 0.91044776, 0.91044776, 0.89552239,\n",
       "        0.89552239, 0.89552239, 0.91044776, 0.91044776, 0.91044776,\n",
       "        0.91044776, 0.91044776, 0.91044776, 0.89552239, 0.89552239,\n",
       "        0.89552239, 0.91044776, 0.91044776, 0.91044776, 0.91044776,\n",
       "        0.91044776, 0.91044776, 0.89552239, 0.89552239, 0.89552239,\n",
       "        0.91044776, 0.91044776, 0.89552239, 0.91044776, 0.91044776,\n",
       "        0.91044776, 0.89552239, 0.89552239, 0.89552239, 0.91044776]),\n",
       " 'split1_test_score': array([0.71641791, 0.71641791, 0.71641791, 0.71641791, 0.71641791,\n",
       "        0.71641791, 0.71641791, 0.71641791, 0.71641791, 0.88059701,\n",
       "        0.88059701, 0.88059701, 0.88059701, 0.88059701, 0.88059701,\n",
       "        0.88059701, 0.88059701, 0.88059701, 0.88059701, 0.89552239,\n",
       "        0.88059701, 0.88059701, 0.89552239, 0.89552239, 0.88059701,\n",
       "        0.88059701, 0.86567164, 0.86567164, 0.88059701, 0.88059701,\n",
       "        0.88059701, 0.88059701, 0.88059701, 0.89552239, 0.88059701,\n",
       "        0.88059701, 0.88059701, 0.88059701, 0.88059701, 0.88059701,\n",
       "        0.88059701, 0.88059701, 0.89552239, 0.88059701, 0.88059701,\n",
       "        0.86567164, 0.88059701, 0.88059701, 0.88059701, 0.88059701,\n",
       "        0.88059701, 0.89552239, 0.88059701, 0.88059701, 0.85074627,\n",
       "        0.88059701, 0.88059701, 0.88059701, 0.88059701, 0.88059701,\n",
       "        0.89552239, 0.88059701, 0.88059701, 0.86567164, 0.88059701,\n",
       "        0.88059701, 0.88059701, 0.88059701, 0.88059701, 0.89552239,\n",
       "        0.88059701, 0.88059701, 0.86567164, 0.88059701, 0.88059701,\n",
       "        0.88059701, 0.88059701, 0.88059701, 0.89552239, 0.88059701,\n",
       "        0.88059701, 0.86567164, 0.88059701, 0.88059701, 0.88059701,\n",
       "        0.88059701, 0.88059701, 0.89552239, 0.88059701, 0.88059701]),\n",
       " 'split2_test_score': array([0.74626866, 0.74626866, 0.74626866, 0.74626866, 0.74626866,\n",
       "        0.74626866, 0.74626866, 0.74626866, 0.74626866, 0.88059701,\n",
       "        0.88059701, 0.88059701, 0.88059701, 0.88059701, 0.88059701,\n",
       "        0.88059701, 0.88059701, 0.88059701, 0.86567164, 0.86567164,\n",
       "        0.86567164, 0.86567164, 0.86567164, 0.86567164, 0.86567164,\n",
       "        0.86567164, 0.86567164, 0.91044776, 0.91044776, 0.91044776,\n",
       "        0.91044776, 0.89552239, 0.89552239, 0.89552239, 0.86567164,\n",
       "        0.86567164, 0.91044776, 0.92537313, 0.92537313, 0.92537313,\n",
       "        0.91044776, 0.91044776, 0.89552239, 0.86567164, 0.86567164,\n",
       "        0.91044776, 0.92537313, 0.92537313, 0.92537313, 0.91044776,\n",
       "        0.91044776, 0.89552239, 0.86567164, 0.86567164, 0.91044776,\n",
       "        0.92537313, 0.92537313, 0.92537313, 0.91044776, 0.91044776,\n",
       "        0.89552239, 0.86567164, 0.86567164, 0.86567164, 0.88059701,\n",
       "        0.88059701, 0.92537313, 0.91044776, 0.91044776, 0.89552239,\n",
       "        0.86567164, 0.86567164, 0.88059701, 0.88059701, 0.88059701,\n",
       "        0.92537313, 0.91044776, 0.91044776, 0.89552239, 0.86567164,\n",
       "        0.86567164, 0.88059701, 0.88059701, 0.88059701, 0.92537313,\n",
       "        0.91044776, 0.91044776, 0.89552239, 0.86567164, 0.86567164]),\n",
       " 'split3_test_score': array([0.73134328, 0.73134328, 0.73134328, 0.73134328, 0.73134328,\n",
       "        0.73134328, 0.73134328, 0.73134328, 0.73134328, 0.89552239,\n",
       "        0.89552239, 0.89552239, 0.89552239, 0.89552239, 0.89552239,\n",
       "        0.89552239, 0.89552239, 0.89552239, 0.89552239, 0.89552239,\n",
       "        0.89552239, 0.89552239, 0.89552239, 0.89552239, 0.89552239,\n",
       "        0.89552239, 0.89552239, 0.95522388, 0.95522388, 0.95522388,\n",
       "        0.92537313, 0.92537313, 0.92537313, 0.92537313, 0.92537313,\n",
       "        0.92537313, 0.94029851, 0.94029851, 0.95522388, 0.92537313,\n",
       "        0.92537313, 0.92537313, 0.92537313, 0.92537313, 0.92537313,\n",
       "        0.94029851, 0.94029851, 0.95522388, 0.92537313, 0.92537313,\n",
       "        0.92537313, 0.92537313, 0.92537313, 0.92537313, 0.94029851,\n",
       "        0.94029851, 0.95522388, 0.92537313, 0.92537313, 0.92537313,\n",
       "        0.92537313, 0.92537313, 0.92537313, 0.89552239, 0.89552239,\n",
       "        0.95522388, 0.92537313, 0.92537313, 0.92537313, 0.92537313,\n",
       "        0.92537313, 0.92537313, 0.89552239, 0.94029851, 0.91044776,\n",
       "        0.92537313, 0.92537313, 0.92537313, 0.92537313, 0.92537313,\n",
       "        0.92537313, 0.89552239, 0.94029851, 0.91044776, 0.92537313,\n",
       "        0.92537313, 0.92537313, 0.92537313, 0.92537313, 0.92537313]),\n",
       " 'split4_test_score': array([0.75757576, 0.75757576, 0.75757576, 0.75757576, 0.75757576,\n",
       "        0.75757576, 0.75757576, 0.75757576, 0.75757576, 0.95454545,\n",
       "        0.95454545, 0.95454545, 0.95454545, 0.95454545, 0.95454545,\n",
       "        0.95454545, 0.95454545, 0.95454545, 0.93939394, 0.93939394,\n",
       "        0.93939394, 0.93939394, 0.93939394, 0.93939394, 0.93939394,\n",
       "        0.93939394, 0.93939394, 0.95454545, 0.95454545, 0.95454545,\n",
       "        0.93939394, 0.93939394, 0.93939394, 0.93939394, 0.93939394,\n",
       "        0.93939394, 0.95454545, 0.95454545, 0.95454545, 0.93939394,\n",
       "        0.93939394, 0.93939394, 0.93939394, 0.93939394, 0.93939394,\n",
       "        0.95454545, 0.95454545, 0.95454545, 0.93939394, 0.93939394,\n",
       "        0.93939394, 0.93939394, 0.93939394, 0.93939394, 0.95454545,\n",
       "        0.95454545, 0.95454545, 0.93939394, 0.93939394, 0.93939394,\n",
       "        0.93939394, 0.93939394, 0.93939394, 0.93939394, 0.93939394,\n",
       "        0.93939394, 0.92424242, 0.92424242, 0.92424242, 0.93939394,\n",
       "        0.93939394, 0.93939394, 0.95454545, 0.93939394, 0.93939394,\n",
       "        0.92424242, 0.92424242, 0.92424242, 0.93939394, 0.93939394,\n",
       "        0.93939394, 0.95454545, 0.93939394, 0.93939394, 0.92424242,\n",
       "        0.92424242, 0.92424242, 0.93939394, 0.93939394, 0.93939394]),\n",
       " 'mean_test_score': array([0.73957485, 0.73957485, 0.73957485, 0.73957485, 0.73957485,\n",
       "        0.73957485, 0.73957485, 0.73957485, 0.73957485, 0.91031208,\n",
       "        0.91031208, 0.91031208, 0.91031208, 0.91031208, 0.91031208,\n",
       "        0.91031208, 0.91031208, 0.91031208, 0.9042967 , 0.90728177,\n",
       "        0.9042967 , 0.9042967 , 0.90728177, 0.90728177, 0.9042967 ,\n",
       "        0.9042967 , 0.90131162, 0.91628223, 0.9192673 , 0.9192673 ,\n",
       "        0.91026685, 0.90728177, 0.90728177, 0.91026685, 0.90131162,\n",
       "        0.9042967 , 0.9192673 , 0.92225237, 0.92523745, 0.916237  ,\n",
       "        0.91325192, 0.91026685, 0.91026685, 0.90131162, 0.9042967 ,\n",
       "        0.91628223, 0.92225237, 0.92523745, 0.916237  , 0.91325192,\n",
       "        0.91026685, 0.91026685, 0.90131162, 0.9042967 , 0.91329715,\n",
       "        0.9192673 , 0.92523745, 0.916237  , 0.91325192, 0.91026685,\n",
       "        0.91026685, 0.90131162, 0.9042967 , 0.89534147, 0.90131162,\n",
       "        0.91325192, 0.91320669, 0.91022162, 0.90723654, 0.91026685,\n",
       "        0.90131162, 0.9042967 , 0.90135685, 0.91026685, 0.9042967 ,\n",
       "        0.91320669, 0.91022162, 0.90723654, 0.91026685, 0.90131162,\n",
       "        0.9042967 , 0.90135685, 0.90728177, 0.9042967 , 0.91320669,\n",
       "        0.91022162, 0.90723654, 0.91026685, 0.90131162, 0.9042967 ]),\n",
       " 'std_test_score': array([0.01426639, 0.01426639, 0.01426639, 0.01426639, 0.01426639,\n",
       "        0.01426639, 0.01426639, 0.01426639, 0.01426639, 0.03111425,\n",
       "        0.03111425, 0.03111425, 0.03111425, 0.03111425, 0.03111425,\n",
       "        0.03111425, 0.03111425, 0.03111425, 0.03052378, 0.02873766,\n",
       "        0.03052378, 0.03052378, 0.02873766, 0.02873766, 0.03052378,\n",
       "        0.03052378, 0.03329916, 0.03466113, 0.03057587, 0.03057587,\n",
       "        0.02085338, 0.02166625, 0.02166625, 0.01859454, 0.02743005,\n",
       "        0.02744973, 0.02583726, 0.02550593, 0.02817682, 0.0200345 ,\n",
       "        0.01955709, 0.02085338, 0.01859454, 0.02743005, 0.02744973,\n",
       "        0.03056262, 0.02550593, 0.02817682, 0.0200345 , 0.01955709,\n",
       "        0.02085338, 0.01859454, 0.02743005, 0.02744973, 0.03566328,\n",
       "        0.02750765, 0.02817682, 0.0200345 , 0.01955709, 0.02085338,\n",
       "        0.01859454, 0.02743005, 0.02744973, 0.02803373, 0.0220247 ,\n",
       "        0.03028399, 0.01725593, 0.0161485 , 0.01717751, 0.01859454,\n",
       "        0.02743005, 0.02744973, 0.03049629, 0.02649875, 0.02204921,\n",
       "        0.01725593, 0.0161485 , 0.01717751, 0.01859454, 0.02743005,\n",
       "        0.02744973, 0.03049629, 0.02714307, 0.02204921, 0.01725593,\n",
       "        0.0161485 , 0.01717751, 0.01859454, 0.02743005, 0.02744973]),\n",
       " 'rank_test_score': array([82, 82, 82, 82, 82, 82, 82, 82, 82, 23, 23, 23, 23, 23, 23, 23, 23,\n",
       "        23, 56, 47, 56, 56, 47, 47, 56, 56, 72, 10,  6,  6, 32, 47, 47, 32,\n",
       "        72, 56,  6,  4,  1, 12, 16, 32, 32, 72, 56, 11,  4,  1, 12, 16, 32,\n",
       "        32, 72, 56, 15,  6,  1, 12, 16, 32, 32, 72, 56, 81, 72, 16, 20, 44,\n",
       "        53, 32, 72, 56, 70, 32, 56, 20, 44, 53, 32, 72, 56, 70, 47, 56, 20,\n",
       "        44, 53, 32, 72, 56], dtype=int32)}"
      ]
     },
     "execution_count": 30,
     "metadata": {},
     "output_type": "execute_result"
    }
   ],
   "source": [
    "g.cv_results_"
   ]
  },
  {
   "cell_type": "code",
   "execution_count": 31,
   "metadata": {},
   "outputs": [
    {
     "data": {
      "text/plain": [
       "0.9252374491180462"
      ]
     },
     "execution_count": 31,
     "metadata": {},
     "output_type": "execute_result"
    }
   ],
   "source": [
    "g.best_score_"
   ]
  },
  {
   "cell_type": "markdown",
   "metadata": {},
   "source": [
    "## Hyperparameter optimisation\n",
    "### Column Transformer\n",
    "take columns a, b, c, apply feature engineering M to them, then put the result back in the dataframe\n"
   ]
  },
  {
   "cell_type": "code",
   "execution_count": 43,
   "metadata": {},
   "outputs": [],
   "source": [
    "from sklearn.compose import ColumnTransformer\n",
    "\n",
    "trans = ColumnTransformer([\n",
    "    ('onehot', OneHotEncoder(sparse=False, handle_unknown='ignore'), ['Island', 'Sex']),\n",
    "    ('my_binning', KBinsDiscretizer(n_bins=5, encode='onehot', strategy='quantile'), ['Culmen Depth (mm)'] ),\n",
    "    ('do_nothing', \"passthrough\", ['Culmen Length (mm)', 'Body Mass (g)'])\n",
    "])"
   ]
  },
  {
   "cell_type": "code",
   "execution_count": 55,
   "metadata": {},
   "outputs": [
    {
     "data": {
      "text/plain": [
       "ColumnTransformer(n_jobs=None, remainder='drop', sparse_threshold=0.3,\n",
       "                  transformer_weights=None,\n",
       "                  transformers=[('onehot',\n",
       "                                 OneHotEncoder(categories='auto', drop=None,\n",
       "                                               dtype=<class 'numpy.float64'>,\n",
       "                                               handle_unknown='ignore',\n",
       "                                               sparse=False),\n",
       "                                 ['Island', 'Sex']),\n",
       "                                ('my_binning',\n",
       "                                 KBinsDiscretizer(encode='onehot', n_bins=5,\n",
       "                                                  strategy='quantile'),\n",
       "                                 ['Culmen Depth (mm)']),\n",
       "                                ('do_nothing', 'passthrough',\n",
       "                                 ['Culmen Length (mm)', 'Body Mass (g)'])],\n",
       "                  verbose=False)"
      ]
     },
     "execution_count": 55,
     "metadata": {},
     "output_type": "execute_result"
    }
   ],
   "source": [
    "trans"
   ]
  },
  {
   "cell_type": "code",
   "execution_count": 44,
   "metadata": {},
   "outputs": [
    {
     "data": {
      "text/plain": [
       "(334, 13)"
      ]
     },
     "execution_count": 44,
     "metadata": {},
     "output_type": "execute_result"
    }
   ],
   "source": [
    "trans.fit(df)\n",
    "X = trans.transform(df)\n",
    "X.shape"
   ]
  },
  {
   "cell_type": "code",
   "execution_count": 48,
   "metadata": {},
   "outputs": [],
   "source": [
    "y = df['Species']"
   ]
  },
  {
   "cell_type": "code",
   "execution_count": 45,
   "metadata": {},
   "outputs": [
    {
     "data": {
      "text/plain": [
       "array([0.00e+00, 0.00e+00, 1.00e+00, 0.00e+00, 0.00e+00, 1.00e+00,\n",
       "       0.00e+00, 0.00e+00, 0.00e+00, 1.00e+00, 0.00e+00, 3.91e+01,\n",
       "       3.75e+03])"
      ]
     },
     "execution_count": 45,
     "metadata": {},
     "output_type": "execute_result"
    }
   ],
   "source": [
    "X[0]"
   ]
  },
  {
   "cell_type": "markdown",
   "metadata": {},
   "source": [
    "### Scaling\n",
    "uses the output of the Column Transformer\n"
   ]
  },
  {
   "cell_type": "code",
   "execution_count": 49,
   "metadata": {},
   "outputs": [],
   "source": [
    "scaler = MinMaxScaler()\n",
    "scaler.fit(X)\n",
    "Xsc = scaler.transform(X)"
   ]
  },
  {
   "cell_type": "markdown",
   "metadata": {},
   "source": [
    "## Modelling Pipeline:\n",
    "1. Apply column transformations (OneHot, Binning, Custom funcs)\n",
    "2. Scale everything\n",
    "3. Train a model\n"
   ]
  },
  {
   "cell_type": "code",
   "execution_count": 51,
   "metadata": {},
   "outputs": [],
   "source": [
    "from sklearn.pipeline import make_pipeline\n",
    "from sklearn.linear_model import LogisticRegression"
   ]
  },
  {
   "cell_type": "code",
   "execution_count": 52,
   "metadata": {},
   "outputs": [],
   "source": [
    "p = make_pipeline(trans, MinMaxScaler(), LogisticRegression())"
   ]
  },
  {
   "cell_type": "code",
   "execution_count": 54,
   "metadata": {},
   "outputs": [
    {
     "data": {
      "text/plain": [
       "0.9970059880239521"
      ]
     },
     "execution_count": 54,
     "metadata": {},
     "output_type": "execute_result"
    }
   ],
   "source": [
    "p.fit(df,y) # only on the training data\n",
    "p.score(df,y) # also on test data"
   ]
  },
  {
   "cell_type": "markdown",
   "metadata": {},
   "source": [
    "Using `pipeline` we only have to call `.fit` once"
   ]
  },
  {
   "cell_type": "markdown",
   "metadata": {},
   "source": [
    "We can use `p` in `cross_val_score` "
   ]
  },
  {
   "cell_type": "code",
   "execution_count": null,
   "metadata": {},
   "outputs": [],
   "source": [
    "#p.score(X_test, y_test) #<-- This is where the X_test is feature engineered to be the same as X_train"
   ]
  }
 ],
 "metadata": {
  "kernelspec": {
   "display_name": "Python 3",
   "language": "python",
   "name": "python3"
  },
  "language_info": {
   "codemirror_mode": {
    "name": "ipython",
    "version": 3
   },
   "file_extension": ".py",
   "mimetype": "text/x-python",
   "name": "python",
   "nbconvert_exporter": "python",
   "pygments_lexer": "ipython3",
   "version": "3.7.6"
  }
 },
 "nbformat": 4,
 "nbformat_minor": 4
}
