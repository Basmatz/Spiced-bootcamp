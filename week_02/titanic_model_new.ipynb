{
 "cells": [
  {
   "cell_type": "code",
   "execution_count": 275,
   "metadata": {},
   "outputs": [],
   "source": [
    "#Import all the necessary packages\n",
    "\n",
    "import numpy as np\n",
    "import pandas as pd\n",
    "\n",
    "import seaborn as sns\n",
    "import matplotlib.pyplot as plt\n",
    "\n",
    "from sklearn.model_selection import GridSearchCV\n",
    "from sklearn.model_selection import train_test_split\n",
    "\n",
    "from sklearn.dummy import DummyClassifier\n",
    "from sklearn.linear_model import LogisticRegression\n",
    "from sklearn.ensemble import RandomForestClassifier\n",
    "\n",
    "from sklearn.metrics import accuracy_score\n",
    "\n",
    "from sklearn.pipeline import make_pipeline\n",
    "from sklearn.pipeline import Pipeline\n",
    "\n",
    "from sklearn.impute import SimpleImputer\n",
    "\n",
    "from sklearn.compose import ColumnTransformer\n",
    "\n",
    "from sklearn.preprocessing import FunctionTransformer\n",
    "from sklearn.preprocessing import OneHotEncoder\n",
    "from sklearn.preprocessing import MinMaxScaler\n",
    "from sklearn.preprocessing import KBinsDiscretizer"
   ]
  },
  {
   "cell_type": "code",
   "execution_count": 276,
   "metadata": {},
   "outputs": [
    {
     "data": {
      "text/plain": [
       "(891, 11)"
      ]
     },
     "execution_count": 276,
     "metadata": {},
     "output_type": "execute_result"
    }
   ],
   "source": [
    "df = pd.read_csv(\"train.csv\", index_col=0)\n",
    "df.shape"
   ]
  },
  {
   "cell_type": "markdown",
   "metadata": {},
   "source": [
    "## 1. Data Exploration\n"
   ]
  },
  {
   "cell_type": "code",
   "execution_count": 277,
   "metadata": {},
   "outputs": [
    {
     "data": {
      "text/html": [
       "<div>\n",
       "<style scoped>\n",
       "    .dataframe tbody tr th:only-of-type {\n",
       "        vertical-align: middle;\n",
       "    }\n",
       "\n",
       "    .dataframe tbody tr th {\n",
       "        vertical-align: top;\n",
       "    }\n",
       "\n",
       "    .dataframe thead th {\n",
       "        text-align: right;\n",
       "    }\n",
       "</style>\n",
       "<table border=\"1\" class=\"dataframe\">\n",
       "  <thead>\n",
       "    <tr style=\"text-align: right;\">\n",
       "      <th></th>\n",
       "      <th>Survived</th>\n",
       "      <th>Pclass</th>\n",
       "      <th>Name</th>\n",
       "      <th>Sex</th>\n",
       "      <th>Age</th>\n",
       "      <th>SibSp</th>\n",
       "      <th>Parch</th>\n",
       "      <th>Ticket</th>\n",
       "      <th>Fare</th>\n",
       "      <th>Cabin</th>\n",
       "      <th>Embarked</th>\n",
       "    </tr>\n",
       "    <tr>\n",
       "      <th>PassengerId</th>\n",
       "      <th></th>\n",
       "      <th></th>\n",
       "      <th></th>\n",
       "      <th></th>\n",
       "      <th></th>\n",
       "      <th></th>\n",
       "      <th></th>\n",
       "      <th></th>\n",
       "      <th></th>\n",
       "      <th></th>\n",
       "      <th></th>\n",
       "    </tr>\n",
       "  </thead>\n",
       "  <tbody>\n",
       "    <tr>\n",
       "      <th>1</th>\n",
       "      <td>0</td>\n",
       "      <td>3</td>\n",
       "      <td>Braund, Mr. Owen Harris</td>\n",
       "      <td>male</td>\n",
       "      <td>22.0</td>\n",
       "      <td>1</td>\n",
       "      <td>0</td>\n",
       "      <td>A/5 21171</td>\n",
       "      <td>7.2500</td>\n",
       "      <td>NaN</td>\n",
       "      <td>S</td>\n",
       "    </tr>\n",
       "    <tr>\n",
       "      <th>2</th>\n",
       "      <td>1</td>\n",
       "      <td>1</td>\n",
       "      <td>Cumings, Mrs. John Bradley (Florence Briggs Th...</td>\n",
       "      <td>female</td>\n",
       "      <td>38.0</td>\n",
       "      <td>1</td>\n",
       "      <td>0</td>\n",
       "      <td>PC 17599</td>\n",
       "      <td>71.2833</td>\n",
       "      <td>C85</td>\n",
       "      <td>C</td>\n",
       "    </tr>\n",
       "    <tr>\n",
       "      <th>3</th>\n",
       "      <td>1</td>\n",
       "      <td>3</td>\n",
       "      <td>Heikkinen, Miss. Laina</td>\n",
       "      <td>female</td>\n",
       "      <td>26.0</td>\n",
       "      <td>0</td>\n",
       "      <td>0</td>\n",
       "      <td>STON/O2. 3101282</td>\n",
       "      <td>7.9250</td>\n",
       "      <td>NaN</td>\n",
       "      <td>S</td>\n",
       "    </tr>\n",
       "    <tr>\n",
       "      <th>4</th>\n",
       "      <td>1</td>\n",
       "      <td>1</td>\n",
       "      <td>Futrelle, Mrs. Jacques Heath (Lily May Peel)</td>\n",
       "      <td>female</td>\n",
       "      <td>35.0</td>\n",
       "      <td>1</td>\n",
       "      <td>0</td>\n",
       "      <td>113803</td>\n",
       "      <td>53.1000</td>\n",
       "      <td>C123</td>\n",
       "      <td>S</td>\n",
       "    </tr>\n",
       "    <tr>\n",
       "      <th>5</th>\n",
       "      <td>0</td>\n",
       "      <td>3</td>\n",
       "      <td>Allen, Mr. William Henry</td>\n",
       "      <td>male</td>\n",
       "      <td>35.0</td>\n",
       "      <td>0</td>\n",
       "      <td>0</td>\n",
       "      <td>373450</td>\n",
       "      <td>8.0500</td>\n",
       "      <td>NaN</td>\n",
       "      <td>S</td>\n",
       "    </tr>\n",
       "  </tbody>\n",
       "</table>\n",
       "</div>"
      ],
      "text/plain": [
       "             Survived  Pclass  \\\n",
       "PassengerId                     \n",
       "1                   0       3   \n",
       "2                   1       1   \n",
       "3                   1       3   \n",
       "4                   1       1   \n",
       "5                   0       3   \n",
       "\n",
       "                                                          Name     Sex   Age  \\\n",
       "PassengerId                                                                    \n",
       "1                                      Braund, Mr. Owen Harris    male  22.0   \n",
       "2            Cumings, Mrs. John Bradley (Florence Briggs Th...  female  38.0   \n",
       "3                                       Heikkinen, Miss. Laina  female  26.0   \n",
       "4                 Futrelle, Mrs. Jacques Heath (Lily May Peel)  female  35.0   \n",
       "5                                     Allen, Mr. William Henry    male  35.0   \n",
       "\n",
       "             SibSp  Parch            Ticket     Fare Cabin Embarked  \n",
       "PassengerId                                                          \n",
       "1                1      0         A/5 21171   7.2500   NaN        S  \n",
       "2                1      0          PC 17599  71.2833   C85        C  \n",
       "3                0      0  STON/O2. 3101282   7.9250   NaN        S  \n",
       "4                1      0            113803  53.1000  C123        S  \n",
       "5                0      0            373450   8.0500   NaN        S  "
      ]
     },
     "execution_count": 277,
     "metadata": {},
     "output_type": "execute_result"
    }
   ],
   "source": [
    "df.head()"
   ]
  },
  {
   "cell_type": "markdown",
   "metadata": {},
   "source": [
    "For each column, investigate whether it has any apparent influence on survival:"
   ]
  },
  {
   "cell_type": "code",
   "execution_count": 278,
   "metadata": {},
   "outputs": [
    {
     "data": {
      "text/plain": [
       "0    0.616\n",
       "1    0.384\n",
       "Name: Survived, dtype: float64"
      ]
     },
     "execution_count": 278,
     "metadata": {},
     "output_type": "execute_result"
    }
   ],
   "source": [
    "# Base survival rate:\n",
    "df[\"Survived\"].value_counts(normalize=True).round(3)"
   ]
  },
  {
   "cell_type": "code",
   "execution_count": 279,
   "metadata": {},
   "outputs": [
    {
     "data": {
      "text/plain": [
       "<AxesSubplot:xlabel='Survived', ylabel='count'>"
      ]
     },
     "execution_count": 279,
     "metadata": {},
     "output_type": "execute_result"
    },
    {
     "data": {
      "image/png": "[encoded data removed]",
      "text/plain": [
       "<Figure size 432x288 with 1 Axes>"
      ]
     },
     "metadata": {
      "needs_background": "light"
     },
     "output_type": "display_data"
    }
   ],
   "source": [
    "sns.countplot(df['Survived'])"
   ]
  },
  {
   "cell_type": "code",
   "execution_count": 280,
   "metadata": {},
   "outputs": [
    {
     "data": {
      "text/plain": [
       "Pclass  Survived\n",
       "1       1           0.630\n",
       "        0           0.370\n",
       "2       0           0.527\n",
       "        1           0.473\n",
       "3       0           0.758\n",
       "        1           0.242\n",
       "Name: Survived, dtype: float64"
      ]
     },
     "execution_count": 280,
     "metadata": {},
     "output_type": "execute_result"
    }
   ],
   "source": [
    "df['Survived'].groupby(df[\"Pclass\"]).value_counts(normalize=True).round(3)"
   ]
  },
  {
   "cell_type": "code",
   "execution_count": 281,
   "metadata": {},
   "outputs": [
    {
     "data": {
      "text/plain": [
       "<AxesSubplot:xlabel='Pclass', ylabel='count'>"
      ]
     },
     "execution_count": 281,
     "metadata": {},
     "output_type": "execute_result"
    },
    {
     "data": {
      "image/png": "[encoded data removed]",
      "text/plain": [
       "<Figure size 432x288 with 1 Axes>"
      ]
     },
     "metadata": {
      "needs_background": "light"
     },
     "output_type": "display_data"
    }
   ],
   "source": [
    "sns.countplot(df['Pclass'], hue=df['Survived'])"
   ]
  },
  {
   "cell_type": "markdown",
   "metadata": {},
   "source": [
    "We see that PClass seems to have a marked effect on survival rate."
   ]
  },
  {
   "cell_type": "code",
   "execution_count": 282,
   "metadata": {},
   "outputs": [
    {
     "data": {
      "text/plain": [
       "Sex     Survived\n",
       "female  1           0.742\n",
       "        0           0.258\n",
       "male    0           0.811\n",
       "        1           0.189\n",
       "Name: Survived, dtype: float64"
      ]
     },
     "execution_count": 282,
     "metadata": {},
     "output_type": "execute_result"
    }
   ],
   "source": [
    "df['Survived'].groupby(df[\"Sex\"]).value_counts(normalize=True).round(3)"
   ]
  },
  {
   "cell_type": "code",
   "execution_count": 283,
   "metadata": {},
   "outputs": [
    {
     "data": {
      "text/plain": [
       "<AxesSubplot:xlabel='Sex', ylabel='count'>"
      ]
     },
     "execution_count": 283,
     "metadata": {},
     "output_type": "execute_result"
    },
    {
     "data": {
      "image/png": "[encoded data removed]",
      "text/plain": [
       "<Figure size 432x288 with 1 Axes>"
      ]
     },
     "metadata": {
      "needs_background": "light"
     },
     "output_type": "display_data"
    }
   ],
   "source": [
    "sns.countplot(df['Sex'], hue=df['Survived'])"
   ]
  },
  {
   "cell_type": "code",
   "execution_count": 284,
   "metadata": {},
   "outputs": [
    {
     "data": {
      "text/plain": [
       "SibSp  Survived\n",
       "0      0           0.655\n",
       "       1           0.345\n",
       "1      1           0.536\n",
       "       0           0.464\n",
       "2      0           0.536\n",
       "       1           0.464\n",
       "3      0           0.750\n",
       "       1           0.250\n",
       "4      0           0.833\n",
       "       1           0.167\n",
       "5      0           1.000\n",
       "8      0           1.000\n",
       "Name: Survived, dtype: float64"
      ]
     },
     "execution_count": 284,
     "metadata": {},
     "output_type": "execute_result"
    }
   ],
   "source": [
    "df['Survived'].groupby(df[\"SibSp\"]).value_counts(normalize=True).round(3)"
   ]
  },
  {
   "cell_type": "code",
   "execution_count": 285,
   "metadata": {},
   "outputs": [
    {
     "data": {
      "text/plain": [
       "<AxesSubplot:xlabel='SibSp', ylabel='count'>"
      ]
     },
     "execution_count": 285,
     "metadata": {},
     "output_type": "execute_result"
    },
    {
     "data": {
      "image/png": "[encoded data removed]",
      "text/plain": [
       "<Figure size 432x288 with 1 Axes>"
      ]
     },
     "metadata": {
      "needs_background": "light"
     },
     "output_type": "display_data"
    }
   ],
   "source": [
    "sns.countplot(df['SibSp'], hue=df['Survived'])"
   ]
  },
  {
   "cell_type": "code",
   "execution_count": 286,
   "metadata": {},
   "outputs": [
    {
     "data": {
      "text/plain": [
       "Parch  Survived\n",
       "0      0           0.656\n",
       "       1           0.344\n",
       "1      1           0.551\n",
       "       0           0.449\n",
       "2      0           0.500\n",
       "       1           0.500\n",
       "3      1           0.600\n",
       "       0           0.400\n",
       "4      0           1.000\n",
       "5      0           0.800\n",
       "       1           0.200\n",
       "6      0           1.000\n",
       "Name: Survived, dtype: float64"
      ]
     },
     "execution_count": 286,
     "metadata": {},
     "output_type": "execute_result"
    }
   ],
   "source": [
    "df['Survived'].groupby(df[\"Parch\"]).value_counts(normalize=True).round(3)"
   ]
  },
  {
   "cell_type": "code",
   "execution_count": 287,
   "metadata": {},
   "outputs": [
    {
     "data": {
      "text/plain": [
       "<AxesSubplot:xlabel='Parch', ylabel='count'>"
      ]
     },
     "execution_count": 287,
     "metadata": {},
     "output_type": "execute_result"
    },
    {
     "data": {
      "image/png": "[encoded data removed]",
      "text/plain": [
       "<Figure size 432x288 with 1 Axes>"
      ]
     },
     "metadata": {
      "needs_background": "light"
     },
     "output_type": "display_data"
    }
   ],
   "source": [
    "sns.countplot(df['Parch'], hue=df['Survived'])"
   ]
  },
  {
   "cell_type": "code",
   "execution_count": 288,
   "metadata": {},
   "outputs": [
    {
     "data": {
      "text/plain": [
       "Fare      Survived\n",
       "0.0000    0           0.933\n",
       "          1           0.067\n",
       "4.0125    0           1.000\n",
       "5.0000    0           1.000\n",
       "6.2375    0           1.000\n",
       "                      ...  \n",
       "247.5208  1           0.500\n",
       "262.3750  1           1.000\n",
       "263.0000  0           0.500\n",
       "          1           0.500\n",
       "512.3292  1           1.000\n",
       "Name: Survived, Length: 330, dtype: float64"
      ]
     },
     "execution_count": 288,
     "metadata": {},
     "output_type": "execute_result"
    }
   ],
   "source": [
    "df['Survived'].groupby(df[\"Fare\"]).value_counts(normalize=True).round(3)"
   ]
  },
  {
   "cell_type": "code",
   "execution_count": 289,
   "metadata": {},
   "outputs": [
    {
     "data": {
      "text/plain": [
       "Embarked  Survived\n",
       "C         1           0.554\n",
       "          0           0.446\n",
       "Q         0           0.610\n",
       "          1           0.390\n",
       "S         0           0.663\n",
       "          1           0.337\n",
       "Name: Survived, dtype: float64"
      ]
     },
     "execution_count": 289,
     "metadata": {},
     "output_type": "execute_result"
    }
   ],
   "source": [
    "df['Survived'].groupby(df[\"Embarked\"]).value_counts(normalize=True).round(3)"
   ]
  },
  {
   "cell_type": "code",
   "execution_count": 290,
   "metadata": {},
   "outputs": [
    {
     "data": {
      "text/plain": [
       "<AxesSubplot:xlabel='Embarked', ylabel='count'>"
      ]
     },
     "execution_count": 290,
     "metadata": {},
     "output_type": "execute_result"
    },
    {
     "data": {
      "image/png": "[encoded data removed]",
      "text/plain": [
       "<Figure size 432x288 with 1 Axes>"
      ]
     },
     "metadata": {
      "needs_background": "light"
     },
     "output_type": "display_data"
    }
   ],
   "source": [
    "sns.countplot(df['Embarked'], hue=df['Survived'])"
   ]
  },
  {
   "cell_type": "code",
   "execution_count": 291,
   "metadata": {},
   "outputs": [
    {
     "data": {
      "text/plain": [
       "Cabin  Survived\n",
       "A      0           0.533\n",
       "       1           0.467\n",
       "B      1           0.745\n",
       "       0           0.255\n",
       "C      1           0.593\n",
       "       0           0.407\n",
       "D      1           0.758\n",
       "       0           0.242\n",
       "E      1           0.750\n",
       "       0           0.250\n",
       "F      1           0.615\n",
       "       0           0.385\n",
       "G      0           0.500\n",
       "       1           0.500\n",
       "T      0           1.000\n",
       "n      0           0.700\n",
       "       1           0.300\n",
       "Name: Survived, dtype: float64"
      ]
     },
     "execution_count": 291,
     "metadata": {},
     "output_type": "execute_result"
    }
   ],
   "source": [
    "df['Survived'].groupby(df[\"Cabin\"].astype(str).str[0]).value_counts(normalize=True).round(3)"
   ]
  },
  {
   "cell_type": "code",
   "execution_count": 292,
   "metadata": {},
   "outputs": [
    {
     "data": {
      "text/plain": [
       "<AxesSubplot:xlabel='Cabin', ylabel='count'>"
      ]
     },
     "execution_count": 292,
     "metadata": {},
     "output_type": "execute_result"
    },
    {
     "data": {
      "image/png": "[encoded data removed]",
      "text/plain": [
       "<Figure size 432x288 with 1 Axes>"
      ]
     },
     "metadata": {
      "needs_background": "light"
     },
     "output_type": "display_data"
    }
   ],
   "source": [
    "sns.countplot(df[\"Cabin\"].astype(str).str[0], hue=df['Survived'])"
   ]
  },
  {
   "cell_type": "code",
   "execution_count": 293,
   "metadata": {},
   "outputs": [
    {
     "data": {
      "text/plain": [
       "Name  Survived\n",
       "12    0           0.500\n",
       "      1           0.500\n",
       "13    0           0.500\n",
       "      1           0.500\n",
       "14    0           0.667\n",
       "                  ...  \n",
       "57    1           0.500\n",
       "61    1           1.000\n",
       "65    1           1.000\n",
       "67    1           1.000\n",
       "82    1           1.000\n",
       "Name: Survived, Length: 87, dtype: float64"
      ]
     },
     "execution_count": 293,
     "metadata": {},
     "output_type": "execute_result"
    }
   ],
   "source": [
    "df['Survived'].groupby(df[\"Name\"].str.len()).value_counts(normalize=True).round(3)\n"
   ]
  },
  {
   "cell_type": "code",
   "execution_count": 294,
   "metadata": {},
   "outputs": [
    {
     "data": {
      "text/plain": [
       "PassengerId\n",
       "1                              Braund, Mr. Owen Harris\n",
       "2    Cumings, Mrs. John Bradley (Florence Briggs Th...\n",
       "3                               Heikkinen, Miss. Laina\n",
       "4         Futrelle, Mrs. Jacques Heath (Lily May Peel)\n",
       "5                             Allen, Mr. William Henry\n",
       "Name: Name, dtype: object"
      ]
     },
     "execution_count": 294,
     "metadata": {},
     "output_type": "execute_result"
    }
   ],
   "source": [
    "df[\"Name\"].head()"
   ]
  },
  {
   "cell_type": "code",
   "execution_count": 295,
   "metadata": {},
   "outputs": [
    {
     "data": {
      "text/plain": [
       "Name       Survived\n",
       "Capt.      0           1.000\n",
       "Col.       0           0.500\n",
       "           1           0.500\n",
       "Don.       0           1.000\n",
       "Dr.        0           0.571\n",
       "           1           0.429\n",
       "Jonkheer.  0           1.000\n",
       "Lady.      1           1.000\n",
       "Major.     0           0.500\n",
       "           1           0.500\n",
       "Master.    1           0.575\n",
       "           0           0.425\n",
       "Miss.      1           0.698\n",
       "           0           0.302\n",
       "Mlle.      1           1.000\n",
       "Mme.       1           1.000\n",
       "Mr.        0           0.843\n",
       "           1           0.157\n",
       "Mrs.       1           0.792\n",
       "           0           0.208\n",
       "Ms.        1           1.000\n",
       "Rev.       0           1.000\n",
       "Sir.       1           1.000\n",
       "the        1           1.000\n",
       "Name: Survived, dtype: float64"
      ]
     },
     "execution_count": 295,
     "metadata": {},
     "output_type": "execute_result"
    }
   ],
   "source": [
    "df['Survived'].groupby(df[\"Name\"].apply(lambda x: x.split(\",\")[1]).apply(lambda x: x.split()[0])).value_counts(normalize=True).round(3)\n"
   ]
  },
  {
   "cell_type": "code",
   "execution_count": null,
   "metadata": {},
   "outputs": [],
   "source": []
  },
  {
   "cell_type": "markdown",
   "metadata": {},
   "source": [
    "## Train-Test-Split"
   ]
  },
  {
   "cell_type": "code",
   "execution_count": 308,
   "metadata": {},
   "outputs": [],
   "source": [
    "#We split the dataframe into training and testing data, looking to predict whether or not a given passenger survived.\n",
    "\n",
    "X_train, X_test, y_train, y_test = train_test_split(df.drop(['Survived'], axis=1), df['Survived'])\n"
   ]
  },
  {
   "cell_type": "markdown",
   "metadata": {},
   "source": [
    "## Feature Engineer\n",
    "1. Apply column transformations (OneHot, Binning, Custom funcs)\n",
    "2. Scale everything\n",
    "3. Train a model\n"
   ]
  },
  {
   "cell_type": "code",
   "execution_count": 297,
   "metadata": {},
   "outputs": [
    {
     "data": {
      "text/plain": [
       "Index(['Pclass', 'Name', 'Sex', 'Age', 'SibSp', 'Parch', 'Ticket', 'Fare',\n",
       "       'Cabin', 'Embarked'],\n",
       "      dtype='object')"
      ]
     },
     "execution_count": 297,
     "metadata": {},
     "output_type": "execute_result"
    }
   ],
   "source": [
    "X_train.columns"
   ]
  },
  {
   "cell_type": "code",
   "execution_count": 378,
   "metadata": {},
   "outputs": [],
   "source": [
    "def title_from_name(df):  # input is a df\n",
    "    \"\"\"Returns the title if a name is formatted <Surname, Title Name...>\"\"\"\n",
    "    title = df.iloc[:,0].apply(lambda x: str(x).split(\",\")[1]).apply(lambda x: x.split()[0])\n",
    "    return title.values.reshape(-1, 1)"
   ]
  },
  {
   "cell_type": "code",
   "execution_count": 379,
   "metadata": {},
   "outputs": [],
   "source": [
    "def cabin_level(df): \n",
    "    \"\"\"Returns letter signifying cabin level from Cabin name, or n for NaN \"\"\"\n",
    "   \n",
    "    level = df.iloc[:,0].apply(lambda x: str(x)[0])\n",
    "    result= level.values.reshape(-1, 1)\n",
    "    \n",
    "    return result\n",
    "    #return pd.DataFrame(level)\n",
    "    "
   ]
  },
  {
   "cell_type": "code",
   "execution_count": 380,
   "metadata": {},
   "outputs": [
    {
     "data": {
      "text/plain": [
       "(668, 1)"
      ]
     },
     "execution_count": 380,
     "metadata": {},
     "output_type": "execute_result"
    }
   ],
   "source": [
    "cabin_level(X_train[[\"Cabin\"]]).shape"
   ]
  },
  {
   "cell_type": "code",
   "execution_count": null,
   "metadata": {},
   "outputs": [],
   "source": []
  },
  {
   "cell_type": "code",
   "execution_count": 381,
   "metadata": {},
   "outputs": [
    {
     "data": {
      "text/plain": [
       "(668, 1)"
      ]
     },
     "execution_count": 381,
     "metadata": {},
     "output_type": "execute_result"
    }
   ],
   "source": [
    "title_from_name(X_train[['Name']]).shape\n"
   ]
  },
  {
   "cell_type": "code",
   "execution_count": null,
   "metadata": {},
   "outputs": [],
   "source": []
  },
  {
   "cell_type": "code",
   "execution_count": 382,
   "metadata": {},
   "outputs": [],
   "source": [
    "def categorise_family (df): #input is a df\n",
    "    fam_cat = df.iloc[:,0].replace({0 : 'none', 1:'one', 2 : 'more', 3: 'more', 4: 'more',5: 'more',6: 'more',7: 'more',8: 'more',9: 'more',10: 'more'})\n",
    "    return fam_cat.values.reshape(-1, 1)"
   ]
  },
  {
   "cell_type": "code",
   "execution_count": 383,
   "metadata": {},
   "outputs": [
    {
     "data": {
      "text/plain": [
       "(668, 1)"
      ]
     },
     "execution_count": 383,
     "metadata": {},
     "output_type": "execute_result"
    }
   ],
   "source": [
    "categorise_family(X_train[['SibSp']]).shape"
   ]
  },
  {
   "cell_type": "code",
   "execution_count": 384,
   "metadata": {},
   "outputs": [
    {
     "data": {
      "text/plain": [
       "(668, 10)"
      ]
     },
     "execution_count": 384,
     "metadata": {},
     "output_type": "execute_result"
    }
   ],
   "source": [
    "X_train.shape"
   ]
  },
  {
   "cell_type": "code",
   "execution_count": 387,
   "metadata": {},
   "outputs": [
    {
     "data": {
      "text/plain": [
       "(668, 36)"
      ]
     },
     "execution_count": 387,
     "metadata": {},
     "output_type": "execute_result"
    }
   ],
   "source": [
    "numeric_features = ['Age', 'Fare']\n",
    "numeric_transformer = Pipeline(steps=[\n",
    "    ('imputer_num', SimpleImputer(strategy='median')),\n",
    "    ('scaler_num', MinMaxScaler())])\n",
    "\n",
    "categorical_features = ['Embarked', 'Sex', 'Pclass']\n",
    "categorical_transformer = Pipeline(steps=[\n",
    "    ('imputer', SimpleImputer(strategy='most_frequent')),\n",
    "    ('onehot', OneHotEncoder(handle_unknown='ignore'))])\n",
    "\n",
    "family_features = ['SibSp', 'Parch']\n",
    "family_transformer = Pipeline(steps=[\n",
    "    ('family_cat', FunctionTransformer(categorise_family)),\n",
    "    ('onehot', OneHotEncoder(handle_unknown='ignore'))\n",
    "    ])\n",
    "\n",
    "name_feat = ['Name']\n",
    "name_transformer = Pipeline(steps=[\n",
    "    ('title_extract', FunctionTransformer(title_from_name)),\n",
    "    ('onehot', OneHotEncoder(handle_unknown='ignore'))])\n",
    "\n",
    "cabin_feat = ['Cabin']\n",
    "cabin_transformer = Pipeline(steps=[\n",
    "    ('cabin_level', FunctionTransformer(cabin_level)),\n",
    "    ('onehot', OneHotEncoder(handle_unknown='ignore'))\n",
    "])\n",
    "\n",
    "preprocessor = ColumnTransformer(\n",
    "    transformers=[\n",
    "        ('num', numeric_transformer, numeric_features),\n",
    "        ('cat', categorical_transformer, categorical_features),\n",
    "        ('fam', family_transformer, family_features),\n",
    "        ('name', name_transformer, name_feat),\n",
    "        ('cabin', cabin_transformer, cabin_feat)\n",
    "    ])\n",
    "\n",
    "# Append classifier to preprocessing pipeline.\n",
    "# Now we have a full prediction pipeline.\n",
    "\n",
    "\n",
    "X_train_preprocessed = preprocessor.fit_transform(X_train)\n",
    "X_test_preprocessed =  preprocessor.transform(X_test) # imutes median age from X_train\n",
    "X_train_preprocessed.shape"
   ]
  },
  {
   "cell_type": "code",
   "execution_count": 392,
   "metadata": {},
   "outputs": [
    {
     "data": {
      "text/plain": [
       "<668x36 sparse matrix of type '<class 'numpy.float64'>'\n",
       "\twith 5331 stored elements in Compressed Sparse Row format>"
      ]
     },
     "execution_count": 392,
     "metadata": {},
     "output_type": "execute_result"
    }
   ],
   "source": [
    "X_train_preprocessed"
   ]
  },
  {
   "cell_type": "code",
   "execution_count": 388,
   "metadata": {},
   "outputs": [
    {
     "data": {
      "text/plain": [
       "(223, 36)"
      ]
     },
     "execution_count": 388,
     "metadata": {},
     "output_type": "execute_result"
    }
   ],
   "source": [
    "X_test_preprocessed.shape"
   ]
  },
  {
   "cell_type": "code",
   "execution_count": 393,
   "metadata": {},
   "outputs": [
    {
     "data": {
      "text/plain": [
       "0.847"
      ]
     },
     "execution_count": 393,
     "metadata": {},
     "output_type": "execute_result"
    }
   ],
   "source": [
    "log_reg = LogisticRegression()\n",
    "log_reg.fit(X_train_preprocessed,y_train)\n",
    "log_reg.score(X_train_preprocessed, y_train).round(3)"
   ]
  },
  {
   "cell_type": "code",
   "execution_count": 395,
   "metadata": {},
   "outputs": [
    {
     "data": {
      "text/plain": [
       "0.789"
      ]
     },
     "execution_count": 395,
     "metadata": {},
     "output_type": "execute_result"
    }
   ],
   "source": [
    "log_reg.score(X_test_preprocessed, y_test).round(3)"
   ]
  },
  {
   "cell_type": "code",
   "execution_count": 391,
   "metadata": {
    "collapsed": true
   },
   "outputs": [
    {
     "name": "stderr",
     "output_type": "stream",
     "text": [
      "/opt/anaconda3/lib/python3.7/site-packages/sklearn/linear_model/_logistic.py:940: ConvergenceWarning: lbfgs failed to converge (status=1):\n",
      "STOP: TOTAL NO. of ITERATIONS REACHED LIMIT.\n",
      "\n",
      "Increase the number of iterations (max_iter) or scale the data as shown in:\n",
      "    https://scikit-learn.org/stable/modules/preprocessing.html\n",
      "Please also refer to the documentation for alternative solver options:\n",
      "    https://scikit-learn.org/stable/modules/linear_model.html#logistic-regression\n",
      "  extra_warning_msg=_LOGISTIC_SOLVER_CONVERGENCE_MSG)\n",
      "/opt/anaconda3/lib/python3.7/site-packages/sklearn/linear_model/_logistic.py:940: ConvergenceWarning: lbfgs failed to converge (status=1):\n",
      "STOP: TOTAL NO. of ITERATIONS REACHED LIMIT.\n",
      "\n",
      "Increase the number of iterations (max_iter) or scale the data as shown in:\n",
      "    https://scikit-learn.org/stable/modules/preprocessing.html\n",
      "Please also refer to the documentation for alternative solver options:\n",
      "    https://scikit-learn.org/stable/modules/linear_model.html#logistic-regression\n",
      "  extra_warning_msg=_LOGISTIC_SOLVER_CONVERGENCE_MSG)\n",
      "/opt/anaconda3/lib/python3.7/site-packages/sklearn/linear_model/_logistic.py:940: ConvergenceWarning: lbfgs failed to converge (status=1):\n",
      "STOP: TOTAL NO. of ITERATIONS REACHED LIMIT.\n",
      "\n",
      "Increase the number of iterations (max_iter) or scale the data as shown in:\n",
      "    https://scikit-learn.org/stable/modules/preprocessing.html\n",
      "Please also refer to the documentation for alternative solver options:\n",
      "    https://scikit-learn.org/stable/modules/linear_model.html#logistic-regression\n",
      "  extra_warning_msg=_LOGISTIC_SOLVER_CONVERGENCE_MSG)\n",
      "/opt/anaconda3/lib/python3.7/site-packages/sklearn/linear_model/_logistic.py:940: ConvergenceWarning: lbfgs failed to converge (status=1):\n",
      "STOP: TOTAL NO. of ITERATIONS REACHED LIMIT.\n",
      "\n",
      "Increase the number of iterations (max_iter) or scale the data as shown in:\n",
      "    https://scikit-learn.org/stable/modules/preprocessing.html\n",
      "Please also refer to the documentation for alternative solver options:\n",
      "    https://scikit-learn.org/stable/modules/linear_model.html#logistic-regression\n",
      "  extra_warning_msg=_LOGISTIC_SOLVER_CONVERGENCE_MSG)\n",
      "/opt/anaconda3/lib/python3.7/site-packages/sklearn/linear_model/_logistic.py:940: ConvergenceWarning: lbfgs failed to converge (status=1):\n",
      "STOP: TOTAL NO. of ITERATIONS REACHED LIMIT.\n",
      "\n",
      "Increase the number of iterations (max_iter) or scale the data as shown in:\n",
      "    https://scikit-learn.org/stable/modules/preprocessing.html\n",
      "Please also refer to the documentation for alternative solver options:\n",
      "    https://scikit-learn.org/stable/modules/linear_model.html#logistic-regression\n",
      "  extra_warning_msg=_LOGISTIC_SOLVER_CONVERGENCE_MSG)\n",
      "/opt/anaconda3/lib/python3.7/site-packages/sklearn/linear_model/_logistic.py:940: ConvergenceWarning: lbfgs failed to converge (status=1):\n",
      "STOP: TOTAL NO. of ITERATIONS REACHED LIMIT.\n",
      "\n",
      "Increase the number of iterations (max_iter) or scale the data as shown in:\n",
      "    https://scikit-learn.org/stable/modules/preprocessing.html\n",
      "Please also refer to the documentation for alternative solver options:\n",
      "    https://scikit-learn.org/stable/modules/linear_model.html#logistic-regression\n",
      "  extra_warning_msg=_LOGISTIC_SOLVER_CONVERGENCE_MSG)\n",
      "/opt/anaconda3/lib/python3.7/site-packages/sklearn/linear_model/_logistic.py:940: ConvergenceWarning: lbfgs failed to converge (status=1):\n",
      "STOP: TOTAL NO. of ITERATIONS REACHED LIMIT.\n",
      "\n",
      "Increase the number of iterations (max_iter) or scale the data as shown in:\n",
      "    https://scikit-learn.org/stable/modules/preprocessing.html\n",
      "Please also refer to the documentation for alternative solver options:\n",
      "    https://scikit-learn.org/stable/modules/linear_model.html#logistic-regression\n",
      "  extra_warning_msg=_LOGISTIC_SOLVER_CONVERGENCE_MSG)\n",
      "/opt/anaconda3/lib/python3.7/site-packages/sklearn/linear_model/_logistic.py:940: ConvergenceWarning: lbfgs failed to converge (status=1):\n",
      "STOP: TOTAL NO. of ITERATIONS REACHED LIMIT.\n",
      "\n",
      "Increase the number of iterations (max_iter) or scale the data as shown in:\n",
      "    https://scikit-learn.org/stable/modules/preprocessing.html\n",
      "Please also refer to the documentation for alternative solver options:\n",
      "    https://scikit-learn.org/stable/modules/linear_model.html#logistic-regression\n",
      "  extra_warning_msg=_LOGISTIC_SOLVER_CONVERGENCE_MSG)\n",
      "/opt/anaconda3/lib/python3.7/site-packages/sklearn/linear_model/_logistic.py:940: ConvergenceWarning: lbfgs failed to converge (status=1):\n",
      "STOP: TOTAL NO. of ITERATIONS REACHED LIMIT.\n",
      "\n",
      "Increase the number of iterations (max_iter) or scale the data as shown in:\n",
      "    https://scikit-learn.org/stable/modules/preprocessing.html\n",
      "Please also refer to the documentation for alternative solver options:\n",
      "    https://scikit-learn.org/stable/modules/linear_model.html#logistic-regression\n",
      "  extra_warning_msg=_LOGISTIC_SOLVER_CONVERGENCE_MSG)\n",
      "/opt/anaconda3/lib/python3.7/site-packages/sklearn/linear_model/_logistic.py:940: ConvergenceWarning: lbfgs failed to converge (status=1):\n",
      "STOP: TOTAL NO. of ITERATIONS REACHED LIMIT.\n",
      "\n",
      "Increase the number of iterations (max_iter) or scale the data as shown in:\n",
      "    https://scikit-learn.org/stable/modules/preprocessing.html\n",
      "Please also refer to the documentation for alternative solver options:\n",
      "    https://scikit-learn.org/stable/modules/linear_model.html#logistic-regression\n",
      "  extra_warning_msg=_LOGISTIC_SOLVER_CONVERGENCE_MSG)\n",
      "/opt/anaconda3/lib/python3.7/site-packages/sklearn/linear_model/_logistic.py:940: ConvergenceWarning: lbfgs failed to converge (status=1):\n",
      "STOP: TOTAL NO. of ITERATIONS REACHED LIMIT.\n",
      "\n",
      "Increase the number of iterations (max_iter) or scale the data as shown in:\n",
      "    https://scikit-learn.org/stable/modules/preprocessing.html\n",
      "Please also refer to the documentation for alternative solver options:\n",
      "    https://scikit-learn.org/stable/modules/linear_model.html#logistic-regression\n",
      "  extra_warning_msg=_LOGISTIC_SOLVER_CONVERGENCE_MSG)\n",
      "/opt/anaconda3/lib/python3.7/site-packages/sklearn/linear_model/_logistic.py:940: ConvergenceWarning: lbfgs failed to converge (status=1):\n",
      "STOP: TOTAL NO. of ITERATIONS REACHED LIMIT.\n",
      "\n",
      "Increase the number of iterations (max_iter) or scale the data as shown in:\n",
      "    https://scikit-learn.org/stable/modules/preprocessing.html\n",
      "Please also refer to the documentation for alternative solver options:\n",
      "    https://scikit-learn.org/stable/modules/linear_model.html#logistic-regression\n",
      "  extra_warning_msg=_LOGISTIC_SOLVER_CONVERGENCE_MSG)\n",
      "/opt/anaconda3/lib/python3.7/site-packages/sklearn/linear_model/_logistic.py:940: ConvergenceWarning: lbfgs failed to converge (status=1):\n",
      "STOP: TOTAL NO. of ITERATIONS REACHED LIMIT.\n",
      "\n",
      "Increase the number of iterations (max_iter) or scale the data as shown in:\n",
      "    https://scikit-learn.org/stable/modules/preprocessing.html\n",
      "Please also refer to the documentation for alternative solver options:\n",
      "    https://scikit-learn.org/stable/modules/linear_model.html#logistic-regression\n",
      "  extra_warning_msg=_LOGISTIC_SOLVER_CONVERGENCE_MSG)\n",
      "/opt/anaconda3/lib/python3.7/site-packages/sklearn/linear_model/_logistic.py:940: ConvergenceWarning: lbfgs failed to converge (status=1):\n",
      "STOP: TOTAL NO. of ITERATIONS REACHED LIMIT.\n",
      "\n",
      "Increase the number of iterations (max_iter) or scale the data as shown in:\n",
      "    https://scikit-learn.org/stable/modules/preprocessing.html\n",
      "Please also refer to the documentation for alternative solver options:\n",
      "    https://scikit-learn.org/stable/modules/linear_model.html#logistic-regression\n",
      "  extra_warning_msg=_LOGISTIC_SOLVER_CONVERGENCE_MSG)\n",
      "/opt/anaconda3/lib/python3.7/site-packages/sklearn/linear_model/_logistic.py:940: ConvergenceWarning: lbfgs failed to converge (status=1):\n",
      "STOP: TOTAL NO. of ITERATIONS REACHED LIMIT.\n",
      "\n",
      "Increase the number of iterations (max_iter) or scale the data as shown in:\n",
      "    https://scikit-learn.org/stable/modules/preprocessing.html\n",
      "Please also refer to the documentation for alternative solver options:\n",
      "    https://scikit-learn.org/stable/modules/linear_model.html#logistic-regression\n",
      "  extra_warning_msg=_LOGISTIC_SOLVER_CONVERGENCE_MSG)\n",
      "/opt/anaconda3/lib/python3.7/site-packages/sklearn/linear_model/_logistic.py:940: ConvergenceWarning: lbfgs failed to converge (status=1):\n",
      "STOP: TOTAL NO. of ITERATIONS REACHED LIMIT.\n",
      "\n",
      "Increase the number of iterations (max_iter) or scale the data as shown in:\n",
      "    https://scikit-learn.org/stable/modules/preprocessing.html\n",
      "Please also refer to the documentation for alternative solver options:\n",
      "    https://scikit-learn.org/stable/modules/linear_model.html#logistic-regression\n",
      "  extra_warning_msg=_LOGISTIC_SOLVER_CONVERGENCE_MSG)\n",
      "/opt/anaconda3/lib/python3.7/site-packages/sklearn/linear_model/_logistic.py:940: ConvergenceWarning: lbfgs failed to converge (status=1):\n",
      "STOP: TOTAL NO. of ITERATIONS REACHED LIMIT.\n",
      "\n",
      "Increase the number of iterations (max_iter) or scale the data as shown in:\n",
      "    https://scikit-learn.org/stable/modules/preprocessing.html\n",
      "Please also refer to the documentation for alternative solver options:\n",
      "    https://scikit-learn.org/stable/modules/linear_model.html#logistic-regression\n",
      "  extra_warning_msg=_LOGISTIC_SOLVER_CONVERGENCE_MSG)\n",
      "/opt/anaconda3/lib/python3.7/site-packages/sklearn/linear_model/_logistic.py:940: ConvergenceWarning: lbfgs failed to converge (status=1):\n",
      "STOP: TOTAL NO. of ITERATIONS REACHED LIMIT.\n",
      "\n",
      "Increase the number of iterations (max_iter) or scale the data as shown in:\n",
      "    https://scikit-learn.org/stable/modules/preprocessing.html\n",
      "Please also refer to the documentation for alternative solver options:\n",
      "    https://scikit-learn.org/stable/modules/linear_model.html#logistic-regression\n",
      "  extra_warning_msg=_LOGISTIC_SOLVER_CONVERGENCE_MSG)\n"
     ]
    },
    {
     "name": "stdout",
     "output_type": "stream",
     "text": [
      "best logistic regression from grid search: 0.847\n"
     ]
    },
    {
     "name": "stderr",
     "output_type": "stream",
     "text": [
      "/opt/anaconda3/lib/python3.7/site-packages/sklearn/linear_model/_logistic.py:940: ConvergenceWarning: lbfgs failed to converge (status=1):\n",
      "STOP: TOTAL NO. of ITERATIONS REACHED LIMIT.\n",
      "\n",
      "Increase the number of iterations (max_iter) or scale the data as shown in:\n",
      "    https://scikit-learn.org/stable/modules/preprocessing.html\n",
      "Please also refer to the documentation for alternative solver options:\n",
      "    https://scikit-learn.org/stable/modules/linear_model.html#logistic-regression\n",
      "  extra_warning_msg=_LOGISTIC_SOLVER_CONVERGENCE_MSG)\n"
     ]
    }
   ],
   "source": [
    "param_grid = {'C': [0.1, 1.0, 10, 100],\n",
    "}\n",
    "\n",
    "grid_search = GridSearchCV(log_reg, param_grid, cv=10)\n",
    "grid_search.fit(X_train_preprocessed, y_train)\n",
    "\n",
    "print((\"best logistic regression from grid search: %.3f\"\n",
    "       % grid_search.score(X_train_preprocessed, y_train)))"
   ]
  },
  {
   "cell_type": "code",
   "execution_count": 423,
   "metadata": {},
   "outputs": [
    {
     "data": {
      "text/plain": [
       "0.894"
      ]
     },
     "execution_count": 423,
     "metadata": {},
     "output_type": "execute_result"
    }
   ],
   "source": [
    "ran_forest = RandomForestClassifier(max_depth=10, min_samples_split = 10, n_estimators=900)\n",
    "ran_forest.fit(X_train_preprocessed, y_train)\n",
    "ran_forest.score(X_train_preprocessed, y_train).round(3)\n"
   ]
  },
  {
   "cell_type": "code",
   "execution_count": 425,
   "metadata": {},
   "outputs": [
    {
     "data": {
      "text/plain": [
       "0.807"
      ]
     },
     "execution_count": 425,
     "metadata": {},
     "output_type": "execute_result"
    }
   ],
   "source": [
    "ran_forest.score(X_test_preprocessed, y_test).round(3)"
   ]
  },
  {
   "cell_type": "code",
   "execution_count": 422,
   "metadata": {},
   "outputs": [
    {
     "name": "stdout",
     "output_type": "stream",
     "text": [
      "Fitting 5 folds for each of 50 candidates, totalling 250 fits\n",
      "[Parallel(n_jobs=1)]: Using backend SequentialBackend with 1 concurrent workers.\n",
      "[CV] max_depth=1, min_samples_split=10 ...............................\n",
      "[CV] ... max_depth=1, min_samples_split=10, score=0.784, total=   2.5s\n",
      "[Parallel(n_jobs=1)]: Done   1 out of   1 | elapsed:    2.5s remaining:    0.0s\n",
      "[CV] max_depth=1, min_samples_split=10 ...............................\n",
      "[CV] ... max_depth=1, min_samples_split=10, score=0.813, total=   2.4s\n",
      "[Parallel(n_jobs=1)]: Done   2 out of   2 | elapsed:    4.9s remaining:    0.0s\n",
      "[CV] max_depth=1, min_samples_split=10 ...............................\n",
      "[CV] ... max_depth=1, min_samples_split=10, score=0.769, total=   2.7s\n",
      "[Parallel(n_jobs=1)]: Done   3 out of   3 | elapsed:    7.6s remaining:    0.0s\n",
      "[CV] max_depth=1, min_samples_split=10 ...............................\n",
      "[CV] ... max_depth=1, min_samples_split=10, score=0.812, total=   2.7s\n",
      "[Parallel(n_jobs=1)]: Done   4 out of   4 | elapsed:   10.3s remaining:    0.0s\n",
      "[CV] max_depth=1, min_samples_split=10 ...............................\n",
      "[CV] ... max_depth=1, min_samples_split=10, score=0.812, total=   2.6s\n",
      "[Parallel(n_jobs=1)]: Done   5 out of   5 | elapsed:   12.9s remaining:    0.0s\n",
      "[CV] max_depth=1, min_samples_split=14 ...............................\n",
      "[CV] ... max_depth=1, min_samples_split=14, score=0.784, total=   2.4s\n",
      "[Parallel(n_jobs=1)]: Done   6 out of   6 | elapsed:   15.3s remaining:    0.0s\n",
      "[CV] max_depth=1, min_samples_split=14 ...............................\n",
      "[CV] ... max_depth=1, min_samples_split=14, score=0.813, total=   2.4s\n",
      "[Parallel(n_jobs=1)]: Done   7 out of   7 | elapsed:   17.7s remaining:    0.0s\n",
      "[CV] max_depth=1, min_samples_split=14 ...............................\n",
      "[CV] ... max_depth=1, min_samples_split=14, score=0.769, total=   2.8s\n",
      "[Parallel(n_jobs=1)]: Done   8 out of   8 | elapsed:   20.5s remaining:    0.0s\n",
      "[CV] max_depth=1, min_samples_split=14 ...............................\n",
      "[CV] ... max_depth=1, min_samples_split=14, score=0.812, total=   2.4s\n",
      "[Parallel(n_jobs=1)]: Done   9 out of   9 | elapsed:   22.9s remaining:    0.0s\n",
      "[CV] max_depth=1, min_samples_split=14 ...............................\n",
      "[CV] ... max_depth=1, min_samples_split=14, score=0.812, total=   2.7s\n",
      "[Parallel(n_jobs=1)]: Done  10 out of  10 | elapsed:   25.6s remaining:    0.0s\n",
      "[CV] max_depth=1, min_samples_split=18 ...............................\n",
      "[CV] ... max_depth=1, min_samples_split=18, score=0.784, total=   2.4s\n",
      "[Parallel(n_jobs=1)]: Done  11 out of  11 | elapsed:   28.0s remaining:    0.0s\n",
      "[CV] max_depth=1, min_samples_split=18 ...............................\n",
      "[CV] ... max_depth=1, min_samples_split=18, score=0.813, total=   2.4s\n",
      "[Parallel(n_jobs=1)]: Done  12 out of  12 | elapsed:   30.4s remaining:    0.0s\n",
      "[CV] max_depth=1, min_samples_split=18 ...............................\n",
      "[CV] ... max_depth=1, min_samples_split=18, score=0.769, total=   2.4s\n",
      "[Parallel(n_jobs=1)]: Done  13 out of  13 | elapsed:   32.8s remaining:    0.0s\n",
      "[CV] max_depth=1, min_samples_split=18 ...............................\n",
      "[CV] ... max_depth=1, min_samples_split=18, score=0.812, total=   2.8s\n",
      "[Parallel(n_jobs=1)]: Done  14 out of  14 | elapsed:   35.5s remaining:    0.0s\n",
      "[CV] max_depth=1, min_samples_split=18 ...............................\n",
      "[CV] ... max_depth=1, min_samples_split=18, score=0.812, total=   2.4s\n",
      "[Parallel(n_jobs=1)]: Done  15 out of  15 | elapsed:   38.0s remaining:    0.0s\n",
      "[CV] max_depth=1, min_samples_split=22 ...............................\n",
      "[CV] ... max_depth=1, min_samples_split=22, score=0.784, total=   2.4s\n",
      "[Parallel(n_jobs=1)]: Done  16 out of  16 | elapsed:   40.3s remaining:    0.0s\n",
      "[CV] max_depth=1, min_samples_split=22 ...............................\n",
      "[CV] ... max_depth=1, min_samples_split=22, score=0.813, total=   2.8s\n",
      "[Parallel(n_jobs=1)]: Done  17 out of  17 | elapsed:   43.1s remaining:    0.0s\n",
      "[CV] max_depth=1, min_samples_split=22 ...............................\n",
      "[CV] ... max_depth=1, min_samples_split=22, score=0.769, total=   2.9s\n",
      "[Parallel(n_jobs=1)]: Done  18 out of  18 | elapsed:   46.1s remaining:    0.0s\n",
      "[CV] max_depth=1, min_samples_split=22 ...............................\n",
      "[CV] ... max_depth=1, min_samples_split=22, score=0.812, total=   3.7s\n",
      "[Parallel(n_jobs=1)]: Done  19 out of  19 | elapsed:   49.8s remaining:    0.0s\n",
      "[CV] max_depth=1, min_samples_split=22 ...............................\n",
      "[CV] ... max_depth=1, min_samples_split=22, score=0.812, total=   3.3s\n",
      "[Parallel(n_jobs=1)]: Done  20 out of  20 | elapsed:   53.2s remaining:    0.0s\n",
      "[CV] max_depth=1, min_samples_split=26 ...............................\n",
      "[CV] ... max_depth=1, min_samples_split=26, score=0.784, total=   3.6s\n",
      "[Parallel(n_jobs=1)]: Done  21 out of  21 | elapsed:   56.8s remaining:    0.0s\n",
      "[CV] max_depth=1, min_samples_split=26 ...............................\n",
      "[CV] ... max_depth=1, min_samples_split=26, score=0.813, total=   2.6s\n",
      "[Parallel(n_jobs=1)]: Done  22 out of  22 | elapsed:   59.4s remaining:    0.0s\n",
      "[CV] max_depth=1, min_samples_split=26 ...............................\n",
      "[CV] ... max_depth=1, min_samples_split=26, score=0.769, total=   3.2s\n",
      "[Parallel(n_jobs=1)]: Done  23 out of  23 | elapsed:  1.0min remaining:    0.0s\n",
      "[CV] max_depth=1, min_samples_split=26 ...............................\n",
      "[CV] ... max_depth=1, min_samples_split=26, score=0.812, total=   2.4s\n",
      "[Parallel(n_jobs=1)]: Done  24 out of  24 | elapsed:  1.1min remaining:    0.0s\n",
      "[CV] max_depth=1, min_samples_split=26 ...............................\n",
      "[CV] ... max_depth=1, min_samples_split=26, score=0.812, total=   2.4s\n",
      "[Parallel(n_jobs=1)]: Done  25 out of  25 | elapsed:  1.1min remaining:    0.0s\n",
      "[CV] max_depth=2, min_samples_split=10 ...............................\n",
      "[CV] ... max_depth=2, min_samples_split=10, score=0.784, total=   4.6s\n",
      "[Parallel(n_jobs=1)]: Done  26 out of  26 | elapsed:  1.2min remaining:    0.0s\n",
      "[CV] max_depth=2, min_samples_split=10 ...............................\n",
      "[CV] ... max_depth=2, min_samples_split=10, score=0.813, total=   4.6s\n",
      "[Parallel(n_jobs=1)]: Done  27 out of  27 | elapsed:  1.3min remaining:    0.0s\n",
      "[CV] max_depth=2, min_samples_split=10 ...............................\n",
      "[CV] ... max_depth=2, min_samples_split=10, score=0.769, total=   3.8s\n",
      "[Parallel(n_jobs=1)]: Done  28 out of  28 | elapsed:  1.3min remaining:    0.0s\n",
      "[CV] max_depth=2, min_samples_split=10 ...............................\n",
      "[CV] ... max_depth=2, min_samples_split=10, score=0.812, total=   3.9s\n",
      "[Parallel(n_jobs=1)]: Done  29 out of  29 | elapsed:  1.4min remaining:    0.0s\n",
      "[CV] max_depth=2, min_samples_split=10 ...............................\n",
      "[CV] ... max_depth=2, min_samples_split=10, score=0.812, total=   4.0s\n",
      "[Parallel(n_jobs=1)]: Done  30 out of  30 | elapsed:  1.5min remaining:    0.0s\n",
      "[CV] max_depth=2, min_samples_split=14 ...............................\n",
      "[CV] ... max_depth=2, min_samples_split=14, score=0.784, total=   3.6s\n",
      "[Parallel(n_jobs=1)]: Done  31 out of  31 | elapsed:  1.5min remaining:    0.0s\n",
      "[CV] max_depth=2, min_samples_split=14 ...............................\n",
      "[CV] ... max_depth=2, min_samples_split=14, score=0.813, total=   3.1s\n",
      "[Parallel(n_jobs=1)]: Done  32 out of  32 | elapsed:  1.6min remaining:    0.0s\n",
      "[CV] max_depth=2, min_samples_split=14 ...............................\n",
      "[CV] ... max_depth=2, min_samples_split=14, score=0.769, total=   3.0s\n",
      "[Parallel(n_jobs=1)]: Done  33 out of  33 | elapsed:  1.6min remaining:    0.0s\n",
      "[CV] max_depth=2, min_samples_split=14 ...............................\n",
      "[CV] ... max_depth=2, min_samples_split=14, score=0.812, total=   3.4s\n",
      "[Parallel(n_jobs=1)]: Done  34 out of  34 | elapsed:  1.7min remaining:    0.0s\n",
      "[CV] max_depth=2, min_samples_split=14 ...............................\n",
      "[CV] ... max_depth=2, min_samples_split=14, score=0.812, total=   3.4s\n",
      "[Parallel(n_jobs=1)]: Done  35 out of  35 | elapsed:  1.7min remaining:    0.0s\n",
      "[CV] max_depth=2, min_samples_split=18 ...............................\n",
      "[CV] ... max_depth=2, min_samples_split=18, score=0.784, total=   3.0s\n",
      "[Parallel(n_jobs=1)]: Done  36 out of  36 | elapsed:  1.8min remaining:    0.0s\n",
      "[CV] max_depth=2, min_samples_split=18 ...............................\n"
     ]
    },
    {
     "name": "stdout",
     "output_type": "stream",
     "text": [
      "[CV] ... max_depth=2, min_samples_split=18, score=0.813, total=   3.3s\n",
      "[Parallel(n_jobs=1)]: Done  37 out of  37 | elapsed:  1.9min remaining:    0.0s\n",
      "[CV] max_depth=2, min_samples_split=18 ...............................\n",
      "[CV] ... max_depth=2, min_samples_split=18, score=0.769, total=   3.1s\n",
      "[Parallel(n_jobs=1)]: Done  38 out of  38 | elapsed:  1.9min remaining:    0.0s\n",
      "[CV] max_depth=2, min_samples_split=18 ...............................\n",
      "[CV] ... max_depth=2, min_samples_split=18, score=0.812, total=   3.2s\n",
      "[Parallel(n_jobs=1)]: Done  39 out of  39 | elapsed:  2.0min remaining:    0.0s\n",
      "[CV] max_depth=2, min_samples_split=18 ...............................\n",
      "[CV] ... max_depth=2, min_samples_split=18, score=0.812, total=   3.2s\n",
      "[Parallel(n_jobs=1)]: Done  40 out of  40 | elapsed:  2.0min remaining:    0.0s\n",
      "[CV] max_depth=2, min_samples_split=22 ...............................\n",
      "[CV] ... max_depth=2, min_samples_split=22, score=0.784, total=   3.2s\n",
      "[Parallel(n_jobs=1)]: Done  41 out of  41 | elapsed:  2.1min remaining:    0.0s\n",
      "[CV] max_depth=2, min_samples_split=22 ...............................\n",
      "[CV] ... max_depth=2, min_samples_split=22, score=0.813, total=   3.2s\n",
      "[Parallel(n_jobs=1)]: Done  42 out of  42 | elapsed:  2.1min remaining:    0.0s\n",
      "[CV] max_depth=2, min_samples_split=22 ...............................\n",
      "[CV] ... max_depth=2, min_samples_split=22, score=0.769, total=   3.4s\n",
      "[Parallel(n_jobs=1)]: Done  43 out of  43 | elapsed:  2.2min remaining:    0.0s\n",
      "[CV] max_depth=2, min_samples_split=22 ...............................\n",
      "[CV] ... max_depth=2, min_samples_split=22, score=0.812, total=   3.2s\n",
      "[Parallel(n_jobs=1)]: Done  44 out of  44 | elapsed:  2.2min remaining:    0.0s\n",
      "[CV] max_depth=2, min_samples_split=22 ...............................\n",
      "[CV] ... max_depth=2, min_samples_split=22, score=0.812, total=   3.2s\n",
      "[Parallel(n_jobs=1)]: Done  45 out of  45 | elapsed:  2.3min remaining:    0.0s\n",
      "[CV] max_depth=2, min_samples_split=26 ...............................\n",
      "[CV] ... max_depth=2, min_samples_split=26, score=0.784, total=   3.1s\n",
      "[Parallel(n_jobs=1)]: Done  46 out of  46 | elapsed:  2.3min remaining:    0.0s\n",
      "[CV] max_depth=2, min_samples_split=26 ...............................\n",
      "[CV] ... max_depth=2, min_samples_split=26, score=0.813, total=   3.2s\n",
      "[Parallel(n_jobs=1)]: Done  47 out of  47 | elapsed:  2.4min remaining:    0.0s\n",
      "[CV] max_depth=2, min_samples_split=26 ...............................\n",
      "[CV] ... max_depth=2, min_samples_split=26, score=0.769, total=   3.1s\n",
      "[Parallel(n_jobs=1)]: Done  48 out of  48 | elapsed:  2.4min remaining:    0.0s\n",
      "[CV] max_depth=2, min_samples_split=26 ...............................\n",
      "[CV] ... max_depth=2, min_samples_split=26, score=0.812, total=   3.2s\n",
      "[Parallel(n_jobs=1)]: Done  49 out of  49 | elapsed:  2.5min remaining:    0.0s\n",
      "[CV] max_depth=2, min_samples_split=26 ...............................\n",
      "[CV] ... max_depth=2, min_samples_split=26, score=0.812, total=   3.1s\n",
      "[CV] max_depth=3, min_samples_split=10 ...............................\n",
      "[CV] ... max_depth=3, min_samples_split=10, score=0.813, total=   3.3s\n",
      "[CV] max_depth=3, min_samples_split=10 ...............................\n",
      "[CV] ... max_depth=3, min_samples_split=10, score=0.806, total=   3.3s\n",
      "[CV] max_depth=3, min_samples_split=10 ...............................\n",
      "[CV] ... max_depth=3, min_samples_split=10, score=0.776, total=   3.2s\n",
      "[CV] max_depth=3, min_samples_split=10 ...............................\n",
      "[CV] ... max_depth=3, min_samples_split=10, score=0.812, total=   3.2s\n",
      "[CV] max_depth=3, min_samples_split=10 ...............................\n",
      "[CV] ... max_depth=3, min_samples_split=10, score=0.812, total=   3.3s\n",
      "[CV] max_depth=3, min_samples_split=14 ...............................\n",
      "[CV] ... max_depth=3, min_samples_split=14, score=0.813, total=   3.2s\n",
      "[CV] max_depth=3, min_samples_split=14 ...............................\n",
      "[CV] ... max_depth=3, min_samples_split=14, score=0.813, total=   3.2s\n",
      "[CV] max_depth=3, min_samples_split=14 ...............................\n",
      "[CV] ... max_depth=3, min_samples_split=14, score=0.776, total=   3.2s\n",
      "[CV] max_depth=3, min_samples_split=14 ...............................\n",
      "[CV] ... max_depth=3, min_samples_split=14, score=0.812, total=   3.1s\n",
      "[CV] max_depth=3, min_samples_split=14 ...............................\n",
      "[CV] ... max_depth=3, min_samples_split=14, score=0.812, total=   3.2s\n",
      "[CV] max_depth=3, min_samples_split=18 ...............................\n",
      "[CV] ... max_depth=3, min_samples_split=18, score=0.806, total=   3.2s\n",
      "[CV] max_depth=3, min_samples_split=18 ...............................\n",
      "[CV] ... max_depth=3, min_samples_split=18, score=0.813, total=   3.3s\n",
      "[CV] max_depth=3, min_samples_split=18 ...............................\n",
      "[CV] ... max_depth=3, min_samples_split=18, score=0.799, total=   3.3s\n",
      "[CV] max_depth=3, min_samples_split=18 ...............................\n",
      "[CV] ... max_depth=3, min_samples_split=18, score=0.812, total=   3.2s\n",
      "[CV] max_depth=3, min_samples_split=18 ...............................\n",
      "[CV] ... max_depth=3, min_samples_split=18, score=0.812, total=   3.2s\n",
      "[CV] max_depth=3, min_samples_split=22 ...............................\n",
      "[CV] ... max_depth=3, min_samples_split=22, score=0.806, total=   3.2s\n",
      "[CV] max_depth=3, min_samples_split=22 ...............................\n",
      "[CV] ... max_depth=3, min_samples_split=22, score=0.806, total=   3.3s\n",
      "[CV] max_depth=3, min_samples_split=22 ...............................\n",
      "[CV] ... max_depth=3, min_samples_split=22, score=0.791, total=   3.2s\n",
      "[CV] max_depth=3, min_samples_split=22 ...............................\n",
      "[CV] ... max_depth=3, min_samples_split=22, score=0.812, total=   3.2s\n",
      "[CV] max_depth=3, min_samples_split=22 ...............................\n",
      "[CV] ... max_depth=3, min_samples_split=22, score=0.812, total=   3.2s\n",
      "[CV] max_depth=3, min_samples_split=26 ...............................\n",
      "[CV] ... max_depth=3, min_samples_split=26, score=0.813, total=   3.2s\n",
      "[CV] max_depth=3, min_samples_split=26 ...............................\n",
      "[CV] ... max_depth=3, min_samples_split=26, score=0.821, total=   3.4s\n",
      "[CV] max_depth=3, min_samples_split=26 ...............................\n",
      "[CV] ... max_depth=3, min_samples_split=26, score=0.776, total=   3.3s\n",
      "[CV] max_depth=3, min_samples_split=26 ...............................\n",
      "[CV] ... max_depth=3, min_samples_split=26, score=0.812, total=   4.8s\n",
      "[CV] max_depth=3, min_samples_split=26 ...............................\n",
      "[CV] ... max_depth=3, min_samples_split=26, score=0.812, total=   3.3s\n",
      "[CV] max_depth=4, min_samples_split=10 ...............................\n",
      "[CV] ... max_depth=4, min_samples_split=10, score=0.828, total=   3.3s\n",
      "[CV] max_depth=4, min_samples_split=10 ...............................\n",
      "[CV] ... max_depth=4, min_samples_split=10, score=0.836, total=   3.3s\n",
      "[CV] max_depth=4, min_samples_split=10 ...............................\n",
      "[CV] ... max_depth=4, min_samples_split=10, score=0.813, total=   3.3s\n",
      "[CV] max_depth=4, min_samples_split=10 ...............................\n",
      "[CV] ... max_depth=4, min_samples_split=10, score=0.857, total=   3.5s\n",
      "[CV] max_depth=4, min_samples_split=10 ...............................\n",
      "[CV] ... max_depth=4, min_samples_split=10, score=0.827, total=   3.3s\n",
      "[CV] max_depth=4, min_samples_split=14 ...............................\n",
      "[CV] ... max_depth=4, min_samples_split=14, score=0.828, total=   3.1s\n",
      "[CV] max_depth=4, min_samples_split=14 ...............................\n",
      "[CV] ... max_depth=4, min_samples_split=14, score=0.836, total=   3.0s\n",
      "[CV] max_depth=4, min_samples_split=14 ...............................\n",
      "[CV] ... max_depth=4, min_samples_split=14, score=0.806, total=   3.0s\n",
      "[CV] max_depth=4, min_samples_split=14 ...............................\n",
      "[CV] ... max_depth=4, min_samples_split=14, score=0.872, total=   3.1s\n",
      "[CV] max_depth=4, min_samples_split=14 ...............................\n",
      "[CV] ... max_depth=4, min_samples_split=14, score=0.820, total=   3.8s\n",
      "[CV] max_depth=4, min_samples_split=18 ...............................\n",
      "[CV] ... max_depth=4, min_samples_split=18, score=0.828, total=   8.0s\n",
      "[CV] max_depth=4, min_samples_split=18 ...............................\n",
      "[CV] ... max_depth=4, min_samples_split=18, score=0.836, total=  10.3s\n",
      "[CV] max_depth=4, min_samples_split=18 ...............................\n"
     ]
    },
    {
     "name": "stdout",
     "output_type": "stream",
     "text": [
      "[CV] ... max_depth=4, min_samples_split=18, score=0.813, total=   8.1s\n",
      "[CV] max_depth=4, min_samples_split=18 ...............................\n",
      "[CV] ... max_depth=4, min_samples_split=18, score=0.865, total=  12.0s\n",
      "[CV] max_depth=4, min_samples_split=18 ...............................\n",
      "[CV] ... max_depth=4, min_samples_split=18, score=0.820, total=   6.3s\n",
      "[CV] max_depth=4, min_samples_split=22 ...............................\n",
      "[CV] ... max_depth=4, min_samples_split=22, score=0.828, total=  13.0s\n",
      "[CV] max_depth=4, min_samples_split=22 ...............................\n",
      "[CV] ... max_depth=4, min_samples_split=22, score=0.828, total=  13.6s\n",
      "[CV] max_depth=4, min_samples_split=22 ...............................\n",
      "[CV] ... max_depth=4, min_samples_split=22, score=0.813, total=   7.3s\n",
      "[CV] max_depth=4, min_samples_split=22 ...............................\n",
      "[CV] ... max_depth=4, min_samples_split=22, score=0.865, total=   3.7s\n",
      "[CV] max_depth=4, min_samples_split=22 ...............................\n",
      "[CV] ... max_depth=4, min_samples_split=22, score=0.820, total=   4.4s\n",
      "[CV] max_depth=4, min_samples_split=26 ...............................\n",
      "[CV] ... max_depth=4, min_samples_split=26, score=0.828, total=   4.8s\n",
      "[CV] max_depth=4, min_samples_split=26 ...............................\n",
      "[CV] ... max_depth=4, min_samples_split=26, score=0.828, total=   4.0s\n",
      "[CV] max_depth=4, min_samples_split=26 ...............................\n",
      "[CV] ... max_depth=4, min_samples_split=26, score=0.799, total=   3.2s\n",
      "[CV] max_depth=4, min_samples_split=26 ...............................\n",
      "[CV] ... max_depth=4, min_samples_split=26, score=0.865, total=   3.2s\n",
      "[CV] max_depth=4, min_samples_split=26 ...............................\n",
      "[CV] ... max_depth=4, min_samples_split=26, score=0.820, total=   3.1s\n",
      "[CV] max_depth=5, min_samples_split=10 ...............................\n",
      "[CV] ... max_depth=5, min_samples_split=10, score=0.843, total=   5.9s\n",
      "[CV] max_depth=5, min_samples_split=10 ...............................\n",
      "[CV] ... max_depth=5, min_samples_split=10, score=0.836, total=   7.0s\n",
      "[CV] max_depth=5, min_samples_split=10 ...............................\n",
      "[CV] ... max_depth=5, min_samples_split=10, score=0.806, total=   3.3s\n",
      "[CV] max_depth=5, min_samples_split=10 ...............................\n",
      "[CV] ... max_depth=5, min_samples_split=10, score=0.880, total=   3.3s\n",
      "[CV] max_depth=5, min_samples_split=10 ...............................\n",
      "[CV] ... max_depth=5, min_samples_split=10, score=0.827, total=   3.3s\n",
      "[CV] max_depth=5, min_samples_split=14 ...............................\n",
      "[CV] ... max_depth=5, min_samples_split=14, score=0.836, total=   3.3s\n",
      "[CV] max_depth=5, min_samples_split=14 ...............................\n",
      "[CV] ... max_depth=5, min_samples_split=14, score=0.836, total=   3.3s\n",
      "[CV] max_depth=5, min_samples_split=14 ...............................\n",
      "[CV] ... max_depth=5, min_samples_split=14, score=0.791, total=   3.3s\n",
      "[CV] max_depth=5, min_samples_split=14 ...............................\n",
      "[CV] ... max_depth=5, min_samples_split=14, score=0.880, total=   3.3s\n",
      "[CV] max_depth=5, min_samples_split=14 ...............................\n",
      "[CV] ... max_depth=5, min_samples_split=14, score=0.827, total=   3.3s\n",
      "[CV] max_depth=5, min_samples_split=18 ...............................\n",
      "[CV] ... max_depth=5, min_samples_split=18, score=0.843, total=   3.2s\n",
      "[CV] max_depth=5, min_samples_split=18 ...............................\n",
      "[CV] ... max_depth=5, min_samples_split=18, score=0.836, total=   3.2s\n",
      "[CV] max_depth=5, min_samples_split=18 ...............................\n",
      "[CV] ... max_depth=5, min_samples_split=18, score=0.806, total=   3.2s\n",
      "[CV] max_depth=5, min_samples_split=18 ...............................\n",
      "[CV] ... max_depth=5, min_samples_split=18, score=0.872, total=   3.2s\n",
      "[CV] max_depth=5, min_samples_split=18 ...............................\n",
      "[CV] ... max_depth=5, min_samples_split=18, score=0.827, total=   3.3s\n",
      "[CV] max_depth=5, min_samples_split=22 ...............................\n",
      "[CV] ... max_depth=5, min_samples_split=22, score=0.828, total=   3.2s\n",
      "[CV] max_depth=5, min_samples_split=22 ...............................\n",
      "[CV] ... max_depth=5, min_samples_split=22, score=0.836, total=   3.2s\n",
      "[CV] max_depth=5, min_samples_split=22 ...............................\n",
      "[CV] ... max_depth=5, min_samples_split=22, score=0.806, total=   3.1s\n",
      "[CV] max_depth=5, min_samples_split=22 ...............................\n",
      "[CV] ... max_depth=5, min_samples_split=22, score=0.872, total=   3.2s\n",
      "[CV] max_depth=5, min_samples_split=22 ...............................\n",
      "[CV] ... max_depth=5, min_samples_split=22, score=0.827, total=   3.2s\n",
      "[CV] max_depth=5, min_samples_split=26 ...............................\n",
      "[CV] ... max_depth=5, min_samples_split=26, score=0.828, total=   3.2s\n",
      "[CV] max_depth=5, min_samples_split=26 ...............................\n",
      "[CV] ... max_depth=5, min_samples_split=26, score=0.836, total=   3.2s\n",
      "[CV] max_depth=5, min_samples_split=26 ...............................\n",
      "[CV] ... max_depth=5, min_samples_split=26, score=0.806, total=   3.2s\n",
      "[CV] max_depth=5, min_samples_split=26 ...............................\n",
      "[CV] ... max_depth=5, min_samples_split=26, score=0.880, total=   3.2s\n",
      "[CV] max_depth=5, min_samples_split=26 ...............................\n",
      "[CV] ... max_depth=5, min_samples_split=26, score=0.820, total=   3.3s\n",
      "[CV] max_depth=6, min_samples_split=10 ...............................\n",
      "[CV] ... max_depth=6, min_samples_split=10, score=0.851, total=   3.4s\n",
      "[CV] max_depth=6, min_samples_split=10 ...............................\n",
      "[CV] ... max_depth=6, min_samples_split=10, score=0.843, total=   5.0s\n",
      "[CV] max_depth=6, min_samples_split=10 ...............................\n",
      "[CV] ... max_depth=6, min_samples_split=10, score=0.799, total=   4.0s\n",
      "[CV] max_depth=6, min_samples_split=10 ...............................\n",
      "[CV] ... max_depth=6, min_samples_split=10, score=0.872, total=   3.6s\n",
      "[CV] max_depth=6, min_samples_split=10 ...............................\n",
      "[CV] ... max_depth=6, min_samples_split=10, score=0.842, total=   3.3s\n",
      "[CV] max_depth=6, min_samples_split=14 ...............................\n",
      "[CV] ... max_depth=6, min_samples_split=14, score=0.858, total=   3.3s\n",
      "[CV] max_depth=6, min_samples_split=14 ...............................\n",
      "[CV] ... max_depth=6, min_samples_split=14, score=0.836, total=   3.3s\n",
      "[CV] max_depth=6, min_samples_split=14 ...............................\n",
      "[CV] ... max_depth=6, min_samples_split=14, score=0.791, total=   3.5s\n",
      "[CV] max_depth=6, min_samples_split=14 ...............................\n",
      "[CV] ... max_depth=6, min_samples_split=14, score=0.872, total=   3.3s\n",
      "[CV] max_depth=6, min_samples_split=14 ...............................\n",
      "[CV] ... max_depth=6, min_samples_split=14, score=0.842, total=   3.3s\n",
      "[CV] max_depth=6, min_samples_split=18 ...............................\n",
      "[CV] ... max_depth=6, min_samples_split=18, score=0.858, total=   3.3s\n",
      "[CV] max_depth=6, min_samples_split=18 ...............................\n",
      "[CV] ... max_depth=6, min_samples_split=18, score=0.836, total=   3.3s\n",
      "[CV] max_depth=6, min_samples_split=18 ...............................\n",
      "[CV] ... max_depth=6, min_samples_split=18, score=0.791, total=   3.3s\n",
      "[CV] max_depth=6, min_samples_split=18 ...............................\n",
      "[CV] ... max_depth=6, min_samples_split=18, score=0.880, total=   3.3s\n",
      "[CV] max_depth=6, min_samples_split=18 ...............................\n",
      "[CV] ... max_depth=6, min_samples_split=18, score=0.835, total=   3.3s\n",
      "[CV] max_depth=6, min_samples_split=22 ...............................\n",
      "[CV] ... max_depth=6, min_samples_split=22, score=0.843, total=   3.4s\n",
      "[CV] max_depth=6, min_samples_split=22 ...............................\n",
      "[CV] ... max_depth=6, min_samples_split=22, score=0.836, total=   3.3s\n",
      "[CV] max_depth=6, min_samples_split=22 ...............................\n",
      "[CV] ... max_depth=6, min_samples_split=22, score=0.799, total=   3.3s\n",
      "[CV] max_depth=6, min_samples_split=22 ...............................\n",
      "[CV] ... max_depth=6, min_samples_split=22, score=0.880, total=   3.2s\n",
      "[CV] max_depth=6, min_samples_split=22 ...............................\n",
      "[CV] ... max_depth=6, min_samples_split=22, score=0.827, total=   3.2s\n",
      "[CV] max_depth=6, min_samples_split=26 ...............................\n"
     ]
    },
    {
     "name": "stdout",
     "output_type": "stream",
     "text": [
      "[CV] ... max_depth=6, min_samples_split=26, score=0.843, total=   3.2s\n",
      "[CV] max_depth=6, min_samples_split=26 ...............................\n",
      "[CV] ... max_depth=6, min_samples_split=26, score=0.836, total=   3.2s\n",
      "[CV] max_depth=6, min_samples_split=26 ...............................\n",
      "[CV] ... max_depth=6, min_samples_split=26, score=0.799, total=   3.2s\n",
      "[CV] max_depth=6, min_samples_split=26 ...............................\n",
      "[CV] ... max_depth=6, min_samples_split=26, score=0.872, total=   3.2s\n",
      "[CV] max_depth=6, min_samples_split=26 ...............................\n",
      "[CV] ... max_depth=6, min_samples_split=26, score=0.827, total=   3.2s\n",
      "[CV] max_depth=7, min_samples_split=10 ...............................\n",
      "[CV] ... max_depth=7, min_samples_split=10, score=0.851, total=   3.4s\n",
      "[CV] max_depth=7, min_samples_split=10 ...............................\n",
      "[CV] ... max_depth=7, min_samples_split=10, score=0.851, total=   4.1s\n",
      "[CV] max_depth=7, min_samples_split=10 ...............................\n",
      "[CV] ... max_depth=7, min_samples_split=10, score=0.784, total=   5.3s\n",
      "[CV] max_depth=7, min_samples_split=10 ...............................\n",
      "[CV] ... max_depth=7, min_samples_split=10, score=0.872, total=   3.4s\n",
      "[CV] max_depth=7, min_samples_split=10 ...............................\n",
      "[CV] ... max_depth=7, min_samples_split=10, score=0.842, total=   3.4s\n",
      "[CV] max_depth=7, min_samples_split=14 ...............................\n",
      "[CV] ... max_depth=7, min_samples_split=14, score=0.851, total=   3.4s\n",
      "[CV] max_depth=7, min_samples_split=14 ...............................\n",
      "[CV] ... max_depth=7, min_samples_split=14, score=0.843, total=   3.4s\n",
      "[CV] max_depth=7, min_samples_split=14 ...............................\n",
      "[CV] ... max_depth=7, min_samples_split=14, score=0.776, total=   3.5s\n",
      "[CV] max_depth=7, min_samples_split=14 ...............................\n",
      "[CV] ... max_depth=7, min_samples_split=14, score=0.880, total=   3.4s\n",
      "[CV] max_depth=7, min_samples_split=14 ...............................\n",
      "[CV] ... max_depth=7, min_samples_split=14, score=0.850, total=   3.6s\n",
      "[CV] max_depth=7, min_samples_split=18 ...............................\n",
      "[CV] ... max_depth=7, min_samples_split=18, score=0.858, total=   3.4s\n",
      "[CV] max_depth=7, min_samples_split=18 ...............................\n",
      "[CV] ... max_depth=7, min_samples_split=18, score=0.836, total=   3.5s\n",
      "[CV] max_depth=7, min_samples_split=18 ...............................\n",
      "[CV] ... max_depth=7, min_samples_split=18, score=0.784, total=   3.3s\n",
      "[CV] max_depth=7, min_samples_split=18 ...............................\n",
      "[CV] ... max_depth=7, min_samples_split=18, score=0.872, total=   3.3s\n",
      "[CV] max_depth=7, min_samples_split=18 ...............................\n",
      "[CV] ... max_depth=7, min_samples_split=18, score=0.850, total=   4.4s\n",
      "[CV] max_depth=7, min_samples_split=22 ...............................\n",
      "[CV] ... max_depth=7, min_samples_split=22, score=0.851, total=   3.3s\n",
      "[CV] max_depth=7, min_samples_split=22 ...............................\n",
      "[CV] ... max_depth=7, min_samples_split=22, score=0.828, total=   3.3s\n",
      "[CV] max_depth=7, min_samples_split=22 ...............................\n",
      "[CV] ... max_depth=7, min_samples_split=22, score=0.776, total=   3.3s\n",
      "[CV] max_depth=7, min_samples_split=22 ...............................\n",
      "[CV] ... max_depth=7, min_samples_split=22, score=0.872, total=   3.3s\n",
      "[CV] max_depth=7, min_samples_split=22 ...............................\n",
      "[CV] ... max_depth=7, min_samples_split=22, score=0.850, total=   4.2s\n",
      "[CV] max_depth=7, min_samples_split=26 ...............................\n",
      "[CV] ... max_depth=7, min_samples_split=26, score=0.851, total=   5.4s\n",
      "[CV] max_depth=7, min_samples_split=26 ...............................\n",
      "[CV] ... max_depth=7, min_samples_split=26, score=0.836, total=   6.8s\n",
      "[CV] max_depth=7, min_samples_split=26 ...............................\n",
      "[CV] ... max_depth=7, min_samples_split=26, score=0.791, total=   5.2s\n",
      "[CV] max_depth=7, min_samples_split=26 ...............................\n",
      "[CV] ... max_depth=7, min_samples_split=26, score=0.872, total=   5.3s\n",
      "[CV] max_depth=7, min_samples_split=26 ...............................\n",
      "[CV] ... max_depth=7, min_samples_split=26, score=0.835, total=   5.6s\n",
      "[CV] max_depth=8, min_samples_split=10 ...............................\n",
      "[CV] ... max_depth=8, min_samples_split=10, score=0.843, total=   5.2s\n",
      "[CV] max_depth=8, min_samples_split=10 ...............................\n",
      "[CV] ... max_depth=8, min_samples_split=10, score=0.858, total=   3.9s\n",
      "[CV] max_depth=8, min_samples_split=10 ...............................\n",
      "[CV] ... max_depth=8, min_samples_split=10, score=0.791, total=   4.0s\n",
      "[CV] max_depth=8, min_samples_split=10 ...............................\n",
      "[CV] ... max_depth=8, min_samples_split=10, score=0.872, total=   4.3s\n",
      "[CV] max_depth=8, min_samples_split=10 ...............................\n",
      "[CV] ... max_depth=8, min_samples_split=10, score=0.835, total=   3.7s\n",
      "[CV] max_depth=8, min_samples_split=14 ...............................\n",
      "[CV] ... max_depth=8, min_samples_split=14, score=0.851, total=   4.2s\n",
      "[CV] max_depth=8, min_samples_split=14 ...............................\n",
      "[CV] ... max_depth=8, min_samples_split=14, score=0.836, total=   4.6s\n",
      "[CV] max_depth=8, min_samples_split=14 ...............................\n",
      "[CV] ... max_depth=8, min_samples_split=14, score=0.784, total=   3.6s\n",
      "[CV] max_depth=8, min_samples_split=14 ...............................\n",
      "[CV] ... max_depth=8, min_samples_split=14, score=0.872, total=   3.5s\n",
      "[CV] max_depth=8, min_samples_split=14 ...............................\n",
      "[CV] ... max_depth=8, min_samples_split=14, score=0.842, total=   3.5s\n",
      "[CV] max_depth=8, min_samples_split=18 ...............................\n",
      "[CV] ... max_depth=8, min_samples_split=18, score=0.851, total=   3.5s\n",
      "[CV] max_depth=8, min_samples_split=18 ...............................\n",
      "[CV] ... max_depth=8, min_samples_split=18, score=0.836, total=   3.5s\n",
      "[CV] max_depth=8, min_samples_split=18 ...............................\n",
      "[CV] ... max_depth=8, min_samples_split=18, score=0.784, total=   3.5s\n",
      "[CV] max_depth=8, min_samples_split=18 ...............................\n",
      "[CV] ... max_depth=8, min_samples_split=18, score=0.880, total=   3.5s\n",
      "[CV] max_depth=8, min_samples_split=18 ...............................\n",
      "[CV] ... max_depth=8, min_samples_split=18, score=0.850, total=   3.6s\n",
      "[CV] max_depth=8, min_samples_split=22 ...............................\n",
      "[CV] ... max_depth=8, min_samples_split=22, score=0.858, total=   3.5s\n",
      "[CV] max_depth=8, min_samples_split=22 ...............................\n",
      "[CV] ... max_depth=8, min_samples_split=22, score=0.836, total=   3.5s\n",
      "[CV] max_depth=8, min_samples_split=22 ...............................\n",
      "[CV] ... max_depth=8, min_samples_split=22, score=0.776, total=   3.6s\n",
      "[CV] max_depth=8, min_samples_split=22 ...............................\n",
      "[CV] ... max_depth=8, min_samples_split=22, score=0.872, total=   3.4s\n",
      "[CV] max_depth=8, min_samples_split=22 ...............................\n",
      "[CV] ... max_depth=8, min_samples_split=22, score=0.850, total=   3.4s\n",
      "[CV] max_depth=8, min_samples_split=26 ...............................\n",
      "[CV] ... max_depth=8, min_samples_split=26, score=0.851, total=   3.4s\n",
      "[CV] max_depth=8, min_samples_split=26 ...............................\n",
      "[CV] ... max_depth=8, min_samples_split=26, score=0.828, total=   3.5s\n",
      "[CV] max_depth=8, min_samples_split=26 ...............................\n",
      "[CV] ... max_depth=8, min_samples_split=26, score=0.791, total=   3.4s\n",
      "[CV] max_depth=8, min_samples_split=26 ...............................\n",
      "[CV] ... max_depth=8, min_samples_split=26, score=0.880, total=   3.4s\n",
      "[CV] max_depth=8, min_samples_split=26 ...............................\n",
      "[CV] ... max_depth=8, min_samples_split=26, score=0.835, total=   3.4s\n",
      "[CV] max_depth=9, min_samples_split=10 ...............................\n",
      "[CV] ... max_depth=9, min_samples_split=10, score=0.858, total=   3.6s\n",
      "[CV] max_depth=9, min_samples_split=10 ...............................\n",
      "[CV] ... max_depth=9, min_samples_split=10, score=0.858, total=   3.6s\n",
      "[CV] max_depth=9, min_samples_split=10 ...............................\n",
      "[CV] ... max_depth=9, min_samples_split=10, score=0.791, total=   3.7s\n",
      "[CV] max_depth=9, min_samples_split=10 ...............................\n"
     ]
    },
    {
     "name": "stdout",
     "output_type": "stream",
     "text": [
      "[CV] ... max_depth=9, min_samples_split=10, score=0.872, total=   3.6s\n",
      "[CV] max_depth=9, min_samples_split=10 ...............................\n",
      "[CV] ... max_depth=9, min_samples_split=10, score=0.842, total=   3.6s\n",
      "[CV] max_depth=9, min_samples_split=14 ...............................\n",
      "[CV] ... max_depth=9, min_samples_split=14, score=0.858, total=   3.5s\n",
      "[CV] max_depth=9, min_samples_split=14 ...............................\n",
      "[CV] ... max_depth=9, min_samples_split=14, score=0.843, total=   3.6s\n",
      "[CV] max_depth=9, min_samples_split=14 ...............................\n",
      "[CV] ... max_depth=9, min_samples_split=14, score=0.776, total=   3.6s\n",
      "[CV] max_depth=9, min_samples_split=14 ...............................\n",
      "[CV] ... max_depth=9, min_samples_split=14, score=0.872, total=   3.6s\n",
      "[CV] max_depth=9, min_samples_split=14 ...............................\n",
      "[CV] ... max_depth=9, min_samples_split=14, score=0.842, total=   3.5s\n",
      "[CV] max_depth=9, min_samples_split=18 ...............................\n",
      "[CV] ... max_depth=9, min_samples_split=18, score=0.858, total=   3.8s\n",
      "[CV] max_depth=9, min_samples_split=18 ...............................\n",
      "[CV] ... max_depth=9, min_samples_split=18, score=0.843, total=   4.1s\n",
      "[CV] max_depth=9, min_samples_split=18 ...............................\n",
      "[CV] ... max_depth=9, min_samples_split=18, score=0.784, total=   3.6s\n",
      "[CV] max_depth=9, min_samples_split=18 ...............................\n",
      "[CV] ... max_depth=9, min_samples_split=18, score=0.872, total=   3.3s\n",
      "[CV] max_depth=9, min_samples_split=18 ...............................\n",
      "[CV] ... max_depth=9, min_samples_split=18, score=0.842, total=   3.3s\n",
      "[CV] max_depth=9, min_samples_split=22 ...............................\n",
      "[CV] ... max_depth=9, min_samples_split=22, score=0.858, total=   3.3s\n",
      "[CV] max_depth=9, min_samples_split=22 ...............................\n",
      "[CV] ... max_depth=9, min_samples_split=22, score=0.836, total=   3.3s\n",
      "[CV] max_depth=9, min_samples_split=22 ...............................\n",
      "[CV] ... max_depth=9, min_samples_split=22, score=0.776, total=   3.3s\n",
      "[CV] max_depth=9, min_samples_split=22 ...............................\n",
      "[CV] ... max_depth=9, min_samples_split=22, score=0.865, total=   3.2s\n",
      "[CV] max_depth=9, min_samples_split=22 ...............................\n",
      "[CV] ... max_depth=9, min_samples_split=22, score=0.850, total=   3.3s\n",
      "[CV] max_depth=9, min_samples_split=26 ...............................\n",
      "[CV] ... max_depth=9, min_samples_split=26, score=0.851, total=   3.1s\n",
      "[CV] max_depth=9, min_samples_split=26 ...............................\n",
      "[CV] ... max_depth=9, min_samples_split=26, score=0.836, total=   3.3s\n",
      "[CV] max_depth=9, min_samples_split=26 ...............................\n",
      "[CV] ... max_depth=9, min_samples_split=26, score=0.791, total=   3.2s\n",
      "[CV] max_depth=9, min_samples_split=26 ...............................\n",
      "[CV] ... max_depth=9, min_samples_split=26, score=0.880, total=   3.3s\n",
      "[CV] max_depth=9, min_samples_split=26 ...............................\n",
      "[CV] ... max_depth=9, min_samples_split=26, score=0.842, total=   3.2s\n",
      "[CV] max_depth=10, min_samples_split=10 ..............................\n",
      "[CV] .. max_depth=10, min_samples_split=10, score=0.858, total=   3.5s\n",
      "[CV] max_depth=10, min_samples_split=10 ..............................\n",
      "[CV] .. max_depth=10, min_samples_split=10, score=0.858, total=   3.4s\n",
      "[CV] max_depth=10, min_samples_split=10 ..............................\n",
      "[CV] .. max_depth=10, min_samples_split=10, score=0.791, total=   3.4s\n",
      "[CV] max_depth=10, min_samples_split=10 ..............................\n",
      "[CV] .. max_depth=10, min_samples_split=10, score=0.880, total=   3.4s\n",
      "[CV] max_depth=10, min_samples_split=10 ..............................\n",
      "[CV] .. max_depth=10, min_samples_split=10, score=0.842, total=   3.4s\n",
      "[CV] max_depth=10, min_samples_split=14 ..............................\n",
      "[CV] .. max_depth=10, min_samples_split=14, score=0.858, total=   3.2s\n",
      "[CV] max_depth=10, min_samples_split=14 ..............................\n",
      "[CV] .. max_depth=10, min_samples_split=14, score=0.843, total=   3.4s\n",
      "[CV] max_depth=10, min_samples_split=14 ..............................\n",
      "[CV] .. max_depth=10, min_samples_split=14, score=0.784, total=   3.3s\n",
      "[CV] max_depth=10, min_samples_split=14 ..............................\n",
      "[CV] .. max_depth=10, min_samples_split=14, score=0.872, total=   3.7s\n",
      "[CV] max_depth=10, min_samples_split=14 ..............................\n",
      "[CV] .. max_depth=10, min_samples_split=14, score=0.842, total=   3.2s\n",
      "[CV] max_depth=10, min_samples_split=18 ..............................\n",
      "[CV] .. max_depth=10, min_samples_split=18, score=0.866, total=   3.2s\n",
      "[CV] max_depth=10, min_samples_split=18 ..............................\n",
      "[CV] .. max_depth=10, min_samples_split=18, score=0.836, total=   3.3s\n",
      "[CV] max_depth=10, min_samples_split=18 ..............................\n",
      "[CV] .. max_depth=10, min_samples_split=18, score=0.784, total=   3.3s\n",
      "[CV] max_depth=10, min_samples_split=18 ..............................\n",
      "[CV] .. max_depth=10, min_samples_split=18, score=0.872, total=   3.2s\n",
      "[CV] max_depth=10, min_samples_split=18 ..............................\n",
      "[CV] .. max_depth=10, min_samples_split=18, score=0.842, total=   3.2s\n",
      "[CV] max_depth=10, min_samples_split=22 ..............................\n",
      "[CV] .. max_depth=10, min_samples_split=22, score=0.851, total=   3.2s\n",
      "[CV] max_depth=10, min_samples_split=22 ..............................\n",
      "[CV] .. max_depth=10, min_samples_split=22, score=0.836, total=   3.2s\n",
      "[CV] max_depth=10, min_samples_split=22 ..............................\n",
      "[CV] .. max_depth=10, min_samples_split=22, score=0.776, total=   3.3s\n",
      "[CV] max_depth=10, min_samples_split=22 ..............................\n",
      "[CV] .. max_depth=10, min_samples_split=22, score=0.865, total=   3.2s\n",
      "[CV] max_depth=10, min_samples_split=22 ..............................\n",
      "[CV] .. max_depth=10, min_samples_split=22, score=0.850, total=   3.2s\n",
      "[CV] max_depth=10, min_samples_split=26 ..............................\n",
      "[CV] .. max_depth=10, min_samples_split=26, score=0.851, total=   3.1s\n",
      "[CV] max_depth=10, min_samples_split=26 ..............................\n",
      "[CV] .. max_depth=10, min_samples_split=26, score=0.836, total=   3.2s\n",
      "[CV] max_depth=10, min_samples_split=26 ..............................\n",
      "[CV] .. max_depth=10, min_samples_split=26, score=0.776, total=   3.2s\n",
      "[CV] max_depth=10, min_samples_split=26 ..............................\n",
      "[CV] .. max_depth=10, min_samples_split=26, score=0.872, total=   3.1s\n",
      "[CV] max_depth=10, min_samples_split=26 ..............................\n",
      "[CV] .. max_depth=10, min_samples_split=26, score=0.842, total=   3.1s\n",
      "[Parallel(n_jobs=1)]: Done 250 out of 250 | elapsed: 15.1min finished\n",
      "Best parameter (CV score=0.846):\n",
      "{'max_depth': 10, 'min_samples_split': 10}\n"
     ]
    }
   ],
   "source": [
    "#param_grid = {\"max_depth\": list(range(1, 11)), 'min_samples_split': list(range(10, 30, 4))}\n",
    "\n",
    "#search = GridSearchCV(ran_forest, param_grid, cv = 5, verbose=50, n_jobs=-1)\n",
    "#search.fit(X_train_preprocessed, y_train)\n",
    "#print(\"Best parameter (CV score=%0.3f):\" % search.best_score_)\n",
    "#print(search.best_params_)"
   ]
  },
  {
   "cell_type": "markdown",
   "metadata": {},
   "source": []
  },
  {
   "cell_type": "markdown",
   "metadata": {},
   "source": [
    "## Result of above Gridsearch:\n",
    "Best parameter (CV score=0.846):\n",
    "{'max_depth': 10, 'min_samples_split': 10}"
   ]
  },
  {
   "cell_type": "raw",
   "metadata": {},
   "source": []
  },
  {
   "cell_type": "code",
   "execution_count": null,
   "metadata": {
    "scrolled": true
   },
   "outputs": [],
   "source": []
  },
  {
   "cell_type": "code",
   "execution_count": 178,
   "metadata": {
    "collapsed": true
   },
   "outputs": [
    {
     "ename": "ValueError",
     "evalue": "Invalid parameter imputer for estimator Pipeline(memory=None,\n         steps=[('imputer_num',\n                 SimpleImputer(add_indicator=False, copy=True, fill_value=None,\n                               missing_values=nan, strategy='median',\n                               verbose=0)),\n                ('scaler_num', MinMaxScaler(copy=True, feature_range=(0, 1)))],\n         verbose=False). Check the list of available parameters with `estimator.get_params().keys()`.",
     "output_type": "error",
     "traceback": [
      "\u001b[0;31m---------------------------------------------------------------------------\u001b[0m",
      "\u001b[0;31mValueError\u001b[0m                                Traceback (most recent call last)",
      "\u001b[0;32m<ipython-input-178-4ced22fbb24d>\u001b[0m in \u001b[0;36m<module>\u001b[0;34m\u001b[0m\n\u001b[1;32m      5\u001b[0m \u001b[0;34m\u001b[0m\u001b[0m\n\u001b[1;32m      6\u001b[0m \u001b[0mgrid_search\u001b[0m \u001b[0;34m=\u001b[0m \u001b[0mGridSearchCV\u001b[0m\u001b[0;34m(\u001b[0m\u001b[0mlog_reg\u001b[0m\u001b[0;34m,\u001b[0m \u001b[0mparam_grid\u001b[0m\u001b[0;34m,\u001b[0m \u001b[0mcv\u001b[0m\u001b[0;34m=\u001b[0m\u001b[0;36m10\u001b[0m\u001b[0;34m)\u001b[0m\u001b[0;34m\u001b[0m\u001b[0;34m\u001b[0m\u001b[0m\n\u001b[0;32m----> 7\u001b[0;31m \u001b[0mgrid_search\u001b[0m\u001b[0;34m.\u001b[0m\u001b[0mfit\u001b[0m\u001b[0;34m(\u001b[0m\u001b[0mX_train\u001b[0m\u001b[0;34m,\u001b[0m \u001b[0my_train\u001b[0m\u001b[0;34m)\u001b[0m\u001b[0;34m\u001b[0m\u001b[0;34m\u001b[0m\u001b[0m\n\u001b[0m\u001b[1;32m      8\u001b[0m \u001b[0;34m\u001b[0m\u001b[0m\n\u001b[1;32m      9\u001b[0m print((\"best logistic regression from grid search: %.3f\"\n",
      "\u001b[0;32m/opt/anaconda3/lib/python3.7/site-packages/sklearn/model_selection/_search.py\u001b[0m in \u001b[0;36mfit\u001b[0;34m(self, X, y, groups, **fit_params)\u001b[0m\n\u001b[1;32m    708\u001b[0m                 \u001b[0;32mreturn\u001b[0m \u001b[0mresults\u001b[0m\u001b[0;34m\u001b[0m\u001b[0;34m\u001b[0m\u001b[0m\n\u001b[1;32m    709\u001b[0m \u001b[0;34m\u001b[0m\u001b[0m\n\u001b[0;32m--> 710\u001b[0;31m             \u001b[0mself\u001b[0m\u001b[0;34m.\u001b[0m\u001b[0m_run_search\u001b[0m\u001b[0;34m(\u001b[0m\u001b[0mevaluate_candidates\u001b[0m\u001b[0;34m)\u001b[0m\u001b[0;34m\u001b[0m\u001b[0;34m\u001b[0m\u001b[0m\n\u001b[0m\u001b[1;32m    711\u001b[0m \u001b[0;34m\u001b[0m\u001b[0m\n\u001b[1;32m    712\u001b[0m         \u001b[0;31m# For multi-metric evaluation, store the best_index_, best_params_ and\u001b[0m\u001b[0;34m\u001b[0m\u001b[0;34m\u001b[0m\u001b[0;34m\u001b[0m\u001b[0m\n",
      "\u001b[0;32m/opt/anaconda3/lib/python3.7/site-packages/sklearn/model_selection/_search.py\u001b[0m in \u001b[0;36m_run_search\u001b[0;34m(self, evaluate_candidates)\u001b[0m\n\u001b[1;32m   1149\u001b[0m     \u001b[0;32mdef\u001b[0m \u001b[0m_run_search\u001b[0m\u001b[0;34m(\u001b[0m\u001b[0mself\u001b[0m\u001b[0;34m,\u001b[0m \u001b[0mevaluate_candidates\u001b[0m\u001b[0;34m)\u001b[0m\u001b[0;34m:\u001b[0m\u001b[0;34m\u001b[0m\u001b[0;34m\u001b[0m\u001b[0m\n\u001b[1;32m   1150\u001b[0m         \u001b[0;34m\"\"\"Search all candidates in param_grid\"\"\"\u001b[0m\u001b[0;34m\u001b[0m\u001b[0;34m\u001b[0m\u001b[0m\n\u001b[0;32m-> 1151\u001b[0;31m         \u001b[0mevaluate_candidates\u001b[0m\u001b[0;34m(\u001b[0m\u001b[0mParameterGrid\u001b[0m\u001b[0;34m(\u001b[0m\u001b[0mself\u001b[0m\u001b[0;34m.\u001b[0m\u001b[0mparam_grid\u001b[0m\u001b[0;34m)\u001b[0m\u001b[0;34m)\u001b[0m\u001b[0;34m\u001b[0m\u001b[0;34m\u001b[0m\u001b[0m\n\u001b[0m\u001b[1;32m   1152\u001b[0m \u001b[0;34m\u001b[0m\u001b[0m\n\u001b[1;32m   1153\u001b[0m \u001b[0;34m\u001b[0m\u001b[0m\n",
      "\u001b[0;32m/opt/anaconda3/lib/python3.7/site-packages/sklearn/model_selection/_search.py\u001b[0m in \u001b[0;36mevaluate_candidates\u001b[0;34m(candidate_params)\u001b[0m\n\u001b[1;32m    687\u001b[0m                                \u001b[0;32mfor\u001b[0m \u001b[0mparameters\u001b[0m\u001b[0;34m,\u001b[0m \u001b[0;34m(\u001b[0m\u001b[0mtrain\u001b[0m\u001b[0;34m,\u001b[0m \u001b[0mtest\u001b[0m\u001b[0;34m)\u001b[0m\u001b[0;34m\u001b[0m\u001b[0;34m\u001b[0m\u001b[0m\n\u001b[1;32m    688\u001b[0m                                in product(candidate_params,\n\u001b[0;32m--> 689\u001b[0;31m                                           cv.split(X, y, groups)))\n\u001b[0m\u001b[1;32m    690\u001b[0m \u001b[0;34m\u001b[0m\u001b[0m\n\u001b[1;32m    691\u001b[0m                 \u001b[0;32mif\u001b[0m \u001b[0mlen\u001b[0m\u001b[0;34m(\u001b[0m\u001b[0mout\u001b[0m\u001b[0;34m)\u001b[0m \u001b[0;34m<\u001b[0m \u001b[0;36m1\u001b[0m\u001b[0;34m:\u001b[0m\u001b[0;34m\u001b[0m\u001b[0;34m\u001b[0m\u001b[0m\n",
      "\u001b[0;32m/opt/anaconda3/lib/python3.7/site-packages/joblib/parallel.py\u001b[0m in \u001b[0;36m__call__\u001b[0;34m(self, iterable)\u001b[0m\n\u001b[1;32m   1002\u001b[0m             \u001b[0;31m# remaining jobs.\u001b[0m\u001b[0;34m\u001b[0m\u001b[0;34m\u001b[0m\u001b[0;34m\u001b[0m\u001b[0m\n\u001b[1;32m   1003\u001b[0m             \u001b[0mself\u001b[0m\u001b[0;34m.\u001b[0m\u001b[0m_iterating\u001b[0m \u001b[0;34m=\u001b[0m \u001b[0;32mFalse\u001b[0m\u001b[0;34m\u001b[0m\u001b[0;34m\u001b[0m\u001b[0m\n\u001b[0;32m-> 1004\u001b[0;31m             \u001b[0;32mif\u001b[0m \u001b[0mself\u001b[0m\u001b[0;34m.\u001b[0m\u001b[0mdispatch_one_batch\u001b[0m\u001b[0;34m(\u001b[0m\u001b[0miterator\u001b[0m\u001b[0;34m)\u001b[0m\u001b[0;34m:\u001b[0m\u001b[0;34m\u001b[0m\u001b[0;34m\u001b[0m\u001b[0m\n\u001b[0m\u001b[1;32m   1005\u001b[0m                 \u001b[0mself\u001b[0m\u001b[0;34m.\u001b[0m\u001b[0m_iterating\u001b[0m \u001b[0;34m=\u001b[0m \u001b[0mself\u001b[0m\u001b[0;34m.\u001b[0m\u001b[0m_original_iterator\u001b[0m \u001b[0;32mis\u001b[0m \u001b[0;32mnot\u001b[0m \u001b[0;32mNone\u001b[0m\u001b[0;34m\u001b[0m\u001b[0;34m\u001b[0m\u001b[0m\n\u001b[1;32m   1006\u001b[0m \u001b[0;34m\u001b[0m\u001b[0m\n",
      "\u001b[0;32m/opt/anaconda3/lib/python3.7/site-packages/joblib/parallel.py\u001b[0m in \u001b[0;36mdispatch_one_batch\u001b[0;34m(self, iterator)\u001b[0m\n\u001b[1;32m    833\u001b[0m                 \u001b[0;32mreturn\u001b[0m \u001b[0;32mFalse\u001b[0m\u001b[0;34m\u001b[0m\u001b[0;34m\u001b[0m\u001b[0m\n\u001b[1;32m    834\u001b[0m             \u001b[0;32melse\u001b[0m\u001b[0;34m:\u001b[0m\u001b[0;34m\u001b[0m\u001b[0;34m\u001b[0m\u001b[0m\n\u001b[0;32m--> 835\u001b[0;31m                 \u001b[0mself\u001b[0m\u001b[0;34m.\u001b[0m\u001b[0m_dispatch\u001b[0m\u001b[0;34m(\u001b[0m\u001b[0mtasks\u001b[0m\u001b[0;34m)\u001b[0m\u001b[0;34m\u001b[0m\u001b[0;34m\u001b[0m\u001b[0m\n\u001b[0m\u001b[1;32m    836\u001b[0m                 \u001b[0;32mreturn\u001b[0m \u001b[0;32mTrue\u001b[0m\u001b[0;34m\u001b[0m\u001b[0;34m\u001b[0m\u001b[0m\n\u001b[1;32m    837\u001b[0m \u001b[0;34m\u001b[0m\u001b[0m\n",
      "\u001b[0;32m/opt/anaconda3/lib/python3.7/site-packages/joblib/parallel.py\u001b[0m in \u001b[0;36m_dispatch\u001b[0;34m(self, batch)\u001b[0m\n\u001b[1;32m    752\u001b[0m         \u001b[0;32mwith\u001b[0m \u001b[0mself\u001b[0m\u001b[0;34m.\u001b[0m\u001b[0m_lock\u001b[0m\u001b[0;34m:\u001b[0m\u001b[0;34m\u001b[0m\u001b[0;34m\u001b[0m\u001b[0m\n\u001b[1;32m    753\u001b[0m             \u001b[0mjob_idx\u001b[0m \u001b[0;34m=\u001b[0m \u001b[0mlen\u001b[0m\u001b[0;34m(\u001b[0m\u001b[0mself\u001b[0m\u001b[0;34m.\u001b[0m\u001b[0m_jobs\u001b[0m\u001b[0;34m)\u001b[0m\u001b[0;34m\u001b[0m\u001b[0;34m\u001b[0m\u001b[0m\n\u001b[0;32m--> 754\u001b[0;31m             \u001b[0mjob\u001b[0m \u001b[0;34m=\u001b[0m \u001b[0mself\u001b[0m\u001b[0;34m.\u001b[0m\u001b[0m_backend\u001b[0m\u001b[0;34m.\u001b[0m\u001b[0mapply_async\u001b[0m\u001b[0;34m(\u001b[0m\u001b[0mbatch\u001b[0m\u001b[0;34m,\u001b[0m \u001b[0mcallback\u001b[0m\u001b[0;34m=\u001b[0m\u001b[0mcb\u001b[0m\u001b[0;34m)\u001b[0m\u001b[0;34m\u001b[0m\u001b[0;34m\u001b[0m\u001b[0m\n\u001b[0m\u001b[1;32m    755\u001b[0m             \u001b[0;31m# A job can complete so quickly than its callback is\u001b[0m\u001b[0;34m\u001b[0m\u001b[0;34m\u001b[0m\u001b[0;34m\u001b[0m\u001b[0m\n\u001b[1;32m    756\u001b[0m             \u001b[0;31m# called before we get here, causing self._jobs to\u001b[0m\u001b[0;34m\u001b[0m\u001b[0;34m\u001b[0m\u001b[0;34m\u001b[0m\u001b[0m\n",
      "\u001b[0;32m/opt/anaconda3/lib/python3.7/site-packages/joblib/_parallel_backends.py\u001b[0m in \u001b[0;36mapply_async\u001b[0;34m(self, func, callback)\u001b[0m\n\u001b[1;32m    207\u001b[0m     \u001b[0;32mdef\u001b[0m \u001b[0mapply_async\u001b[0m\u001b[0;34m(\u001b[0m\u001b[0mself\u001b[0m\u001b[0;34m,\u001b[0m \u001b[0mfunc\u001b[0m\u001b[0;34m,\u001b[0m \u001b[0mcallback\u001b[0m\u001b[0;34m=\u001b[0m\u001b[0;32mNone\u001b[0m\u001b[0;34m)\u001b[0m\u001b[0;34m:\u001b[0m\u001b[0;34m\u001b[0m\u001b[0;34m\u001b[0m\u001b[0m\n\u001b[1;32m    208\u001b[0m         \u001b[0;34m\"\"\"Schedule a func to be run\"\"\"\u001b[0m\u001b[0;34m\u001b[0m\u001b[0;34m\u001b[0m\u001b[0m\n\u001b[0;32m--> 209\u001b[0;31m         \u001b[0mresult\u001b[0m \u001b[0;34m=\u001b[0m \u001b[0mImmediateResult\u001b[0m\u001b[0;34m(\u001b[0m\u001b[0mfunc\u001b[0m\u001b[0;34m)\u001b[0m\u001b[0;34m\u001b[0m\u001b[0;34m\u001b[0m\u001b[0m\n\u001b[0m\u001b[1;32m    210\u001b[0m         \u001b[0;32mif\u001b[0m \u001b[0mcallback\u001b[0m\u001b[0;34m:\u001b[0m\u001b[0;34m\u001b[0m\u001b[0;34m\u001b[0m\u001b[0m\n\u001b[1;32m    211\u001b[0m             \u001b[0mcallback\u001b[0m\u001b[0;34m(\u001b[0m\u001b[0mresult\u001b[0m\u001b[0;34m)\u001b[0m\u001b[0;34m\u001b[0m\u001b[0;34m\u001b[0m\u001b[0m\n",
      "\u001b[0;32m/opt/anaconda3/lib/python3.7/site-packages/joblib/_parallel_backends.py\u001b[0m in \u001b[0;36m__init__\u001b[0;34m(self, batch)\u001b[0m\n\u001b[1;32m    588\u001b[0m         \u001b[0;31m# Don't delay the application, to avoid keeping the input\u001b[0m\u001b[0;34m\u001b[0m\u001b[0;34m\u001b[0m\u001b[0;34m\u001b[0m\u001b[0m\n\u001b[1;32m    589\u001b[0m         \u001b[0;31m# arguments in memory\u001b[0m\u001b[0;34m\u001b[0m\u001b[0;34m\u001b[0m\u001b[0;34m\u001b[0m\u001b[0m\n\u001b[0;32m--> 590\u001b[0;31m         \u001b[0mself\u001b[0m\u001b[0;34m.\u001b[0m\u001b[0mresults\u001b[0m \u001b[0;34m=\u001b[0m \u001b[0mbatch\u001b[0m\u001b[0;34m(\u001b[0m\u001b[0;34m)\u001b[0m\u001b[0;34m\u001b[0m\u001b[0;34m\u001b[0m\u001b[0m\n\u001b[0m\u001b[1;32m    591\u001b[0m \u001b[0;34m\u001b[0m\u001b[0m\n\u001b[1;32m    592\u001b[0m     \u001b[0;32mdef\u001b[0m \u001b[0mget\u001b[0m\u001b[0;34m(\u001b[0m\u001b[0mself\u001b[0m\u001b[0;34m)\u001b[0m\u001b[0;34m:\u001b[0m\u001b[0;34m\u001b[0m\u001b[0;34m\u001b[0m\u001b[0m\n",
      "\u001b[0;32m/opt/anaconda3/lib/python3.7/site-packages/joblib/parallel.py\u001b[0m in \u001b[0;36m__call__\u001b[0;34m(self)\u001b[0m\n\u001b[1;32m    254\u001b[0m         \u001b[0;32mwith\u001b[0m \u001b[0mparallel_backend\u001b[0m\u001b[0;34m(\u001b[0m\u001b[0mself\u001b[0m\u001b[0;34m.\u001b[0m\u001b[0m_backend\u001b[0m\u001b[0;34m,\u001b[0m \u001b[0mn_jobs\u001b[0m\u001b[0;34m=\u001b[0m\u001b[0mself\u001b[0m\u001b[0;34m.\u001b[0m\u001b[0m_n_jobs\u001b[0m\u001b[0;34m)\u001b[0m\u001b[0;34m:\u001b[0m\u001b[0;34m\u001b[0m\u001b[0;34m\u001b[0m\u001b[0m\n\u001b[1;32m    255\u001b[0m             return [func(*args, **kwargs)\n\u001b[0;32m--> 256\u001b[0;31m                     for func, args, kwargs in self.items]\n\u001b[0m\u001b[1;32m    257\u001b[0m \u001b[0;34m\u001b[0m\u001b[0m\n\u001b[1;32m    258\u001b[0m     \u001b[0;32mdef\u001b[0m \u001b[0m__len__\u001b[0m\u001b[0;34m(\u001b[0m\u001b[0mself\u001b[0m\u001b[0;34m)\u001b[0m\u001b[0;34m:\u001b[0m\u001b[0;34m\u001b[0m\u001b[0;34m\u001b[0m\u001b[0m\n",
      "\u001b[0;32m/opt/anaconda3/lib/python3.7/site-packages/joblib/parallel.py\u001b[0m in \u001b[0;36m<listcomp>\u001b[0;34m(.0)\u001b[0m\n\u001b[1;32m    254\u001b[0m         \u001b[0;32mwith\u001b[0m \u001b[0mparallel_backend\u001b[0m\u001b[0;34m(\u001b[0m\u001b[0mself\u001b[0m\u001b[0;34m.\u001b[0m\u001b[0m_backend\u001b[0m\u001b[0;34m,\u001b[0m \u001b[0mn_jobs\u001b[0m\u001b[0;34m=\u001b[0m\u001b[0mself\u001b[0m\u001b[0;34m.\u001b[0m\u001b[0m_n_jobs\u001b[0m\u001b[0;34m)\u001b[0m\u001b[0;34m:\u001b[0m\u001b[0;34m\u001b[0m\u001b[0;34m\u001b[0m\u001b[0m\n\u001b[1;32m    255\u001b[0m             return [func(*args, **kwargs)\n\u001b[0;32m--> 256\u001b[0;31m                     for func, args, kwargs in self.items]\n\u001b[0m\u001b[1;32m    257\u001b[0m \u001b[0;34m\u001b[0m\u001b[0m\n\u001b[1;32m    258\u001b[0m     \u001b[0;32mdef\u001b[0m \u001b[0m__len__\u001b[0m\u001b[0;34m(\u001b[0m\u001b[0mself\u001b[0m\u001b[0;34m)\u001b[0m\u001b[0;34m:\u001b[0m\u001b[0;34m\u001b[0m\u001b[0;34m\u001b[0m\u001b[0m\n",
      "\u001b[0;32m/opt/anaconda3/lib/python3.7/site-packages/sklearn/model_selection/_validation.py\u001b[0m in \u001b[0;36m_fit_and_score\u001b[0;34m(estimator, X, y, scorer, train, test, verbose, parameters, fit_params, return_train_score, return_parameters, return_n_test_samples, return_times, return_estimator, error_score)\u001b[0m\n\u001b[1;32m    502\u001b[0m             \u001b[0mcloned_parameters\u001b[0m\u001b[0;34m[\u001b[0m\u001b[0mk\u001b[0m\u001b[0;34m]\u001b[0m \u001b[0;34m=\u001b[0m \u001b[0mclone\u001b[0m\u001b[0;34m(\u001b[0m\u001b[0mv\u001b[0m\u001b[0;34m,\u001b[0m \u001b[0msafe\u001b[0m\u001b[0;34m=\u001b[0m\u001b[0;32mFalse\u001b[0m\u001b[0;34m)\u001b[0m\u001b[0;34m\u001b[0m\u001b[0;34m\u001b[0m\u001b[0m\n\u001b[1;32m    503\u001b[0m \u001b[0;34m\u001b[0m\u001b[0m\n\u001b[0;32m--> 504\u001b[0;31m         \u001b[0mestimator\u001b[0m \u001b[0;34m=\u001b[0m \u001b[0mestimator\u001b[0m\u001b[0;34m.\u001b[0m\u001b[0mset_params\u001b[0m\u001b[0;34m(\u001b[0m\u001b[0;34m**\u001b[0m\u001b[0mcloned_parameters\u001b[0m\u001b[0;34m)\u001b[0m\u001b[0;34m\u001b[0m\u001b[0;34m\u001b[0m\u001b[0m\n\u001b[0m\u001b[1;32m    505\u001b[0m \u001b[0;34m\u001b[0m\u001b[0m\n\u001b[1;32m    506\u001b[0m     \u001b[0mstart_time\u001b[0m \u001b[0;34m=\u001b[0m \u001b[0mtime\u001b[0m\u001b[0;34m.\u001b[0m\u001b[0mtime\u001b[0m\u001b[0;34m(\u001b[0m\u001b[0;34m)\u001b[0m\u001b[0;34m\u001b[0m\u001b[0;34m\u001b[0m\u001b[0m\n",
      "\u001b[0;32m/opt/anaconda3/lib/python3.7/site-packages/sklearn/pipeline.py\u001b[0m in \u001b[0;36mset_params\u001b[0;34m(self, **kwargs)\u001b[0m\n\u001b[1;32m    161\u001b[0m         \u001b[0mself\u001b[0m\u001b[0;34m\u001b[0m\u001b[0;34m\u001b[0m\u001b[0m\n\u001b[1;32m    162\u001b[0m         \"\"\"\n\u001b[0;32m--> 163\u001b[0;31m         \u001b[0mself\u001b[0m\u001b[0;34m.\u001b[0m\u001b[0m_set_params\u001b[0m\u001b[0;34m(\u001b[0m\u001b[0;34m'steps'\u001b[0m\u001b[0;34m,\u001b[0m \u001b[0;34m**\u001b[0m\u001b[0mkwargs\u001b[0m\u001b[0;34m)\u001b[0m\u001b[0;34m\u001b[0m\u001b[0;34m\u001b[0m\u001b[0m\n\u001b[0m\u001b[1;32m    164\u001b[0m         \u001b[0;32mreturn\u001b[0m \u001b[0mself\u001b[0m\u001b[0;34m\u001b[0m\u001b[0;34m\u001b[0m\u001b[0m\n\u001b[1;32m    165\u001b[0m \u001b[0;34m\u001b[0m\u001b[0m\n",
      "\u001b[0;32m/opt/anaconda3/lib/python3.7/site-packages/sklearn/utils/metaestimators.py\u001b[0m in \u001b[0;36m_set_params\u001b[0;34m(self, attr, **params)\u001b[0m\n\u001b[1;32m     48\u001b[0m                 \u001b[0mself\u001b[0m\u001b[0;34m.\u001b[0m\u001b[0m_replace_estimator\u001b[0m\u001b[0;34m(\u001b[0m\u001b[0mattr\u001b[0m\u001b[0;34m,\u001b[0m \u001b[0mname\u001b[0m\u001b[0;34m,\u001b[0m \u001b[0mparams\u001b[0m\u001b[0;34m.\u001b[0m\u001b[0mpop\u001b[0m\u001b[0;34m(\u001b[0m\u001b[0mname\u001b[0m\u001b[0;34m)\u001b[0m\u001b[0;34m)\u001b[0m\u001b[0;34m\u001b[0m\u001b[0;34m\u001b[0m\u001b[0m\n\u001b[1;32m     49\u001b[0m         \u001b[0;31m# 3. Step parameters and other initialisation arguments\u001b[0m\u001b[0;34m\u001b[0m\u001b[0;34m\u001b[0m\u001b[0;34m\u001b[0m\u001b[0m\n\u001b[0;32m---> 50\u001b[0;31m         \u001b[0msuper\u001b[0m\u001b[0;34m(\u001b[0m\u001b[0;34m)\u001b[0m\u001b[0;34m.\u001b[0m\u001b[0mset_params\u001b[0m\u001b[0;34m(\u001b[0m\u001b[0;34m**\u001b[0m\u001b[0mparams\u001b[0m\u001b[0;34m)\u001b[0m\u001b[0;34m\u001b[0m\u001b[0;34m\u001b[0m\u001b[0m\n\u001b[0m\u001b[1;32m     51\u001b[0m         \u001b[0;32mreturn\u001b[0m \u001b[0mself\u001b[0m\u001b[0;34m\u001b[0m\u001b[0;34m\u001b[0m\u001b[0m\n\u001b[1;32m     52\u001b[0m \u001b[0;34m\u001b[0m\u001b[0m\n",
      "\u001b[0;32m/opt/anaconda3/lib/python3.7/site-packages/sklearn/base.py\u001b[0m in \u001b[0;36mset_params\u001b[0;34m(self, **params)\u001b[0m\n\u001b[1;32m    243\u001b[0m \u001b[0;34m\u001b[0m\u001b[0m\n\u001b[1;32m    244\u001b[0m         \u001b[0;32mfor\u001b[0m \u001b[0mkey\u001b[0m\u001b[0;34m,\u001b[0m \u001b[0msub_params\u001b[0m \u001b[0;32min\u001b[0m \u001b[0mnested_params\u001b[0m\u001b[0;34m.\u001b[0m\u001b[0mitems\u001b[0m\u001b[0;34m(\u001b[0m\u001b[0;34m)\u001b[0m\u001b[0;34m:\u001b[0m\u001b[0;34m\u001b[0m\u001b[0;34m\u001b[0m\u001b[0m\n\u001b[0;32m--> 245\u001b[0;31m             \u001b[0mvalid_params\u001b[0m\u001b[0;34m[\u001b[0m\u001b[0mkey\u001b[0m\u001b[0;34m]\u001b[0m\u001b[0;34m.\u001b[0m\u001b[0mset_params\u001b[0m\u001b[0;34m(\u001b[0m\u001b[0;34m**\u001b[0m\u001b[0msub_params\u001b[0m\u001b[0;34m)\u001b[0m\u001b[0;34m\u001b[0m\u001b[0;34m\u001b[0m\u001b[0m\n\u001b[0m\u001b[1;32m    246\u001b[0m \u001b[0;34m\u001b[0m\u001b[0m\n\u001b[1;32m    247\u001b[0m         \u001b[0;32mreturn\u001b[0m \u001b[0mself\u001b[0m\u001b[0;34m\u001b[0m\u001b[0;34m\u001b[0m\u001b[0m\n",
      "\u001b[0;32m/opt/anaconda3/lib/python3.7/site-packages/sklearn/compose/_column_transformer.py\u001b[0m in \u001b[0;36mset_params\u001b[0;34m(self, **kwargs)\u001b[0m\n\u001b[1;32m    227\u001b[0m         \u001b[0mself\u001b[0m\u001b[0;34m\u001b[0m\u001b[0;34m\u001b[0m\u001b[0m\n\u001b[1;32m    228\u001b[0m         \"\"\"\n\u001b[0;32m--> 229\u001b[0;31m         \u001b[0mself\u001b[0m\u001b[0;34m.\u001b[0m\u001b[0m_set_params\u001b[0m\u001b[0;34m(\u001b[0m\u001b[0;34m'_transformers'\u001b[0m\u001b[0;34m,\u001b[0m \u001b[0;34m**\u001b[0m\u001b[0mkwargs\u001b[0m\u001b[0;34m)\u001b[0m\u001b[0;34m\u001b[0m\u001b[0;34m\u001b[0m\u001b[0m\n\u001b[0m\u001b[1;32m    230\u001b[0m         \u001b[0;32mreturn\u001b[0m \u001b[0mself\u001b[0m\u001b[0;34m\u001b[0m\u001b[0;34m\u001b[0m\u001b[0m\n\u001b[1;32m    231\u001b[0m \u001b[0;34m\u001b[0m\u001b[0m\n",
      "\u001b[0;32m/opt/anaconda3/lib/python3.7/site-packages/sklearn/utils/metaestimators.py\u001b[0m in \u001b[0;36m_set_params\u001b[0;34m(self, attr, **params)\u001b[0m\n\u001b[1;32m     48\u001b[0m                 \u001b[0mself\u001b[0m\u001b[0;34m.\u001b[0m\u001b[0m_replace_estimator\u001b[0m\u001b[0;34m(\u001b[0m\u001b[0mattr\u001b[0m\u001b[0;34m,\u001b[0m \u001b[0mname\u001b[0m\u001b[0;34m,\u001b[0m \u001b[0mparams\u001b[0m\u001b[0;34m.\u001b[0m\u001b[0mpop\u001b[0m\u001b[0;34m(\u001b[0m\u001b[0mname\u001b[0m\u001b[0;34m)\u001b[0m\u001b[0;34m)\u001b[0m\u001b[0;34m\u001b[0m\u001b[0;34m\u001b[0m\u001b[0m\n\u001b[1;32m     49\u001b[0m         \u001b[0;31m# 3. Step parameters and other initialisation arguments\u001b[0m\u001b[0;34m\u001b[0m\u001b[0;34m\u001b[0m\u001b[0;34m\u001b[0m\u001b[0m\n\u001b[0;32m---> 50\u001b[0;31m         \u001b[0msuper\u001b[0m\u001b[0;34m(\u001b[0m\u001b[0;34m)\u001b[0m\u001b[0;34m.\u001b[0m\u001b[0mset_params\u001b[0m\u001b[0;34m(\u001b[0m\u001b[0;34m**\u001b[0m\u001b[0mparams\u001b[0m\u001b[0;34m)\u001b[0m\u001b[0;34m\u001b[0m\u001b[0;34m\u001b[0m\u001b[0m\n\u001b[0m\u001b[1;32m     51\u001b[0m         \u001b[0;32mreturn\u001b[0m \u001b[0mself\u001b[0m\u001b[0;34m\u001b[0m\u001b[0;34m\u001b[0m\u001b[0m\n\u001b[1;32m     52\u001b[0m \u001b[0;34m\u001b[0m\u001b[0m\n",
      "\u001b[0;32m/opt/anaconda3/lib/python3.7/site-packages/sklearn/base.py\u001b[0m in \u001b[0;36mset_params\u001b[0;34m(self, **params)\u001b[0m\n\u001b[1;32m    243\u001b[0m \u001b[0;34m\u001b[0m\u001b[0m\n\u001b[1;32m    244\u001b[0m         \u001b[0;32mfor\u001b[0m \u001b[0mkey\u001b[0m\u001b[0;34m,\u001b[0m \u001b[0msub_params\u001b[0m \u001b[0;32min\u001b[0m \u001b[0mnested_params\u001b[0m\u001b[0;34m.\u001b[0m\u001b[0mitems\u001b[0m\u001b[0;34m(\u001b[0m\u001b[0;34m)\u001b[0m\u001b[0;34m:\u001b[0m\u001b[0;34m\u001b[0m\u001b[0;34m\u001b[0m\u001b[0m\n\u001b[0;32m--> 245\u001b[0;31m             \u001b[0mvalid_params\u001b[0m\u001b[0;34m[\u001b[0m\u001b[0mkey\u001b[0m\u001b[0;34m]\u001b[0m\u001b[0;34m.\u001b[0m\u001b[0mset_params\u001b[0m\u001b[0;34m(\u001b[0m\u001b[0;34m**\u001b[0m\u001b[0msub_params\u001b[0m\u001b[0;34m)\u001b[0m\u001b[0;34m\u001b[0m\u001b[0;34m\u001b[0m\u001b[0m\n\u001b[0m\u001b[1;32m    246\u001b[0m \u001b[0;34m\u001b[0m\u001b[0m\n\u001b[1;32m    247\u001b[0m         \u001b[0;32mreturn\u001b[0m \u001b[0mself\u001b[0m\u001b[0;34m\u001b[0m\u001b[0;34m\u001b[0m\u001b[0m\n",
      "\u001b[0;32m/opt/anaconda3/lib/python3.7/site-packages/sklearn/pipeline.py\u001b[0m in \u001b[0;36mset_params\u001b[0;34m(self, **kwargs)\u001b[0m\n\u001b[1;32m    161\u001b[0m         \u001b[0mself\u001b[0m\u001b[0;34m\u001b[0m\u001b[0;34m\u001b[0m\u001b[0m\n\u001b[1;32m    162\u001b[0m         \"\"\"\n\u001b[0;32m--> 163\u001b[0;31m         \u001b[0mself\u001b[0m\u001b[0;34m.\u001b[0m\u001b[0m_set_params\u001b[0m\u001b[0;34m(\u001b[0m\u001b[0;34m'steps'\u001b[0m\u001b[0;34m,\u001b[0m \u001b[0;34m**\u001b[0m\u001b[0mkwargs\u001b[0m\u001b[0;34m)\u001b[0m\u001b[0;34m\u001b[0m\u001b[0;34m\u001b[0m\u001b[0m\n\u001b[0m\u001b[1;32m    164\u001b[0m         \u001b[0;32mreturn\u001b[0m \u001b[0mself\u001b[0m\u001b[0;34m\u001b[0m\u001b[0;34m\u001b[0m\u001b[0m\n\u001b[1;32m    165\u001b[0m \u001b[0;34m\u001b[0m\u001b[0m\n",
      "\u001b[0;32m/opt/anaconda3/lib/python3.7/site-packages/sklearn/utils/metaestimators.py\u001b[0m in \u001b[0;36m_set_params\u001b[0;34m(self, attr, **params)\u001b[0m\n\u001b[1;32m     48\u001b[0m                 \u001b[0mself\u001b[0m\u001b[0;34m.\u001b[0m\u001b[0m_replace_estimator\u001b[0m\u001b[0;34m(\u001b[0m\u001b[0mattr\u001b[0m\u001b[0;34m,\u001b[0m \u001b[0mname\u001b[0m\u001b[0;34m,\u001b[0m \u001b[0mparams\u001b[0m\u001b[0;34m.\u001b[0m\u001b[0mpop\u001b[0m\u001b[0;34m(\u001b[0m\u001b[0mname\u001b[0m\u001b[0;34m)\u001b[0m\u001b[0;34m)\u001b[0m\u001b[0;34m\u001b[0m\u001b[0;34m\u001b[0m\u001b[0m\n\u001b[1;32m     49\u001b[0m         \u001b[0;31m# 3. Step parameters and other initialisation arguments\u001b[0m\u001b[0;34m\u001b[0m\u001b[0;34m\u001b[0m\u001b[0;34m\u001b[0m\u001b[0m\n\u001b[0;32m---> 50\u001b[0;31m         \u001b[0msuper\u001b[0m\u001b[0;34m(\u001b[0m\u001b[0;34m)\u001b[0m\u001b[0;34m.\u001b[0m\u001b[0mset_params\u001b[0m\u001b[0;34m(\u001b[0m\u001b[0;34m**\u001b[0m\u001b[0mparams\u001b[0m\u001b[0;34m)\u001b[0m\u001b[0;34m\u001b[0m\u001b[0;34m\u001b[0m\u001b[0m\n\u001b[0m\u001b[1;32m     51\u001b[0m         \u001b[0;32mreturn\u001b[0m \u001b[0mself\u001b[0m\u001b[0;34m\u001b[0m\u001b[0;34m\u001b[0m\u001b[0m\n\u001b[1;32m     52\u001b[0m \u001b[0;34m\u001b[0m\u001b[0m\n",
      "\u001b[0;32m/opt/anaconda3/lib/python3.7/site-packages/sklearn/base.py\u001b[0m in \u001b[0;36mset_params\u001b[0;34m(self, **params)\u001b[0m\n\u001b[1;32m    234\u001b[0m                                  \u001b[0;34m'Check the list of available parameters '\u001b[0m\u001b[0;34m\u001b[0m\u001b[0;34m\u001b[0m\u001b[0m\n\u001b[1;32m    235\u001b[0m                                  \u001b[0;34m'with `estimator.get_params().keys()`.'\u001b[0m \u001b[0;34m%\u001b[0m\u001b[0;34m\u001b[0m\u001b[0;34m\u001b[0m\u001b[0m\n\u001b[0;32m--> 236\u001b[0;31m                                  (key, self))\n\u001b[0m\u001b[1;32m    237\u001b[0m \u001b[0;34m\u001b[0m\u001b[0m\n\u001b[1;32m    238\u001b[0m             \u001b[0;32mif\u001b[0m \u001b[0mdelim\u001b[0m\u001b[0;34m:\u001b[0m\u001b[0;34m\u001b[0m\u001b[0;34m\u001b[0m\u001b[0m\n",
      "\u001b[0;31mValueError\u001b[0m: Invalid parameter imputer for estimator Pipeline(memory=None,\n         steps=[('imputer_num',\n                 SimpleImputer(add_indicator=False, copy=True, fill_value=None,\n                               missing_values=nan, strategy='median',\n                               verbose=0)),\n                ('scaler_num', MinMaxScaler(copy=True, feature_range=(0, 1)))],\n         verbose=False). Check the list of available parameters with `estimator.get_params().keys()`."
     ]
    }
   ],
   "source": []
  },
  {
   "cell_type": "code",
   "execution_count": null,
   "metadata": {},
   "outputs": [],
   "source": []
  },
  {
   "cell_type": "code",
   "execution_count": null,
   "metadata": {},
   "outputs": [],
   "source": []
  }
 ],
 "metadata": {
  "kernelspec": {
   "display_name": "Python 3",
   "language": "python",
   "name": "python3"
  },
  "language_info": {
   "codemirror_mode": {
    "name": "ipython",
    "version": 3
   },
   "file_extension": ".py",
   "mimetype": "text/x-python",
   "name": "python",
   "nbconvert_exporter": "python",
   "pygments_lexer": "ipython3",
   "version": "3.7.6"
  }
 },
 "nbformat": 4,
 "nbformat_minor": 4
}
