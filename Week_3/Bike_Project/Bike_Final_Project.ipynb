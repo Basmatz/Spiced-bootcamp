{
 "cells": [
  {
   "cell_type": "markdown",
   "metadata": {},
   "source": [
    "# Capital Bikeshare Project\n",
    "\n",
    "## Step 1: Loading data, quality check"
   ]
  },
  {
   "cell_type": "code",
   "execution_count": 208,
   "metadata": {},
   "outputs": [],
   "source": [
    "import numpy as np\n",
    "import pandas as pd\n",
    "import seaborn as sns\n",
    "from matplotlib import pyplot as plt\n",
    "\n",
    "import time\n",
    "\n",
    "from sklearn.utils import resample\n",
    "\n",
    "from sklearn.model_selection import train_test_split\n",
    "from sklearn.model_selection import cross_val_score\n",
    "from sklearn.model_selection import GridSearchCV\n",
    "from sklearn.model_selection import RandomizedSearchCV\n",
    "\n",
    "from sklearn.feature_selection import RFE\n",
    "\n",
    "from sklearn.dummy import DummyRegressor\n",
    "\n",
    "from sklearn.preprocessing import OneHotEncoder\n",
    "from sklearn.preprocessing import MinMaxScaler, StandardScaler\n",
    "from sklearn.preprocessing import KBinsDiscretizer\n",
    "from sklearn.preprocessing import FunctionTransformer\n",
    "from sklearn.preprocessing import PolynomialFeatures\n",
    "\n",
    "from sklearn.impute import SimpleImputer\n",
    "\n",
    "from sklearn.compose import ColumnTransformer\n",
    "from sklearn.compose import make_column_transformer\n",
    "\n",
    "from sklearn.decomposition import PCA\n",
    "\n",
    "from sklearn.pipeline import Pipeline\n",
    "from sklearn.pipeline import make_pipeline\n",
    "\n",
    "from sklearn.linear_model import LinearRegression\n",
    "from sklearn.tree import DecisionTreeClassifier\n",
    "from sklearn.ensemble import RandomForestClassifier"
   ]
  },
  {
   "cell_type": "code",
   "execution_count": 2,
   "metadata": {},
   "outputs": [],
   "source": [
    "df_raw = pd.read_csv('train_bike.csv')"
   ]
  },
  {
   "cell_type": "code",
   "execution_count": 3,
   "metadata": {},
   "outputs": [
    {
     "data": {
      "text/html": [
       "<div>\n",
       "<style scoped>\n",
       "    .dataframe tbody tr th:only-of-type {\n",
       "        vertical-align: middle;\n",
       "    }\n",
       "\n",
       "    .dataframe tbody tr th {\n",
       "        vertical-align: top;\n",
       "    }\n",
       "\n",
       "    .dataframe thead th {\n",
       "        text-align: right;\n",
       "    }\n",
       "</style>\n",
       "<table border=\"1\" class=\"dataframe\">\n",
       "  <thead>\n",
       "    <tr style=\"text-align: right;\">\n",
       "      <th></th>\n",
       "      <th>datetime</th>\n",
       "      <th>season</th>\n",
       "      <th>holiday</th>\n",
       "      <th>workingday</th>\n",
       "      <th>weather</th>\n",
       "      <th>temp</th>\n",
       "      <th>atemp</th>\n",
       "      <th>humidity</th>\n",
       "      <th>windspeed</th>\n",
       "      <th>casual</th>\n",
       "      <th>registered</th>\n",
       "      <th>count</th>\n",
       "    </tr>\n",
       "  </thead>\n",
       "  <tbody>\n",
       "    <tr>\n",
       "      <th>0</th>\n",
       "      <td>2011-01-01 00:00:00</td>\n",
       "      <td>1</td>\n",
       "      <td>0</td>\n",
       "      <td>0</td>\n",
       "      <td>1</td>\n",
       "      <td>9.84</td>\n",
       "      <td>14.395</td>\n",
       "      <td>81</td>\n",
       "      <td>0.0</td>\n",
       "      <td>3</td>\n",
       "      <td>13</td>\n",
       "      <td>16</td>\n",
       "    </tr>\n",
       "    <tr>\n",
       "      <th>1</th>\n",
       "      <td>2011-01-01 01:00:00</td>\n",
       "      <td>1</td>\n",
       "      <td>0</td>\n",
       "      <td>0</td>\n",
       "      <td>1</td>\n",
       "      <td>9.02</td>\n",
       "      <td>13.635</td>\n",
       "      <td>80</td>\n",
       "      <td>0.0</td>\n",
       "      <td>8</td>\n",
       "      <td>32</td>\n",
       "      <td>40</td>\n",
       "    </tr>\n",
       "    <tr>\n",
       "      <th>2</th>\n",
       "      <td>2011-01-01 02:00:00</td>\n",
       "      <td>1</td>\n",
       "      <td>0</td>\n",
       "      <td>0</td>\n",
       "      <td>1</td>\n",
       "      <td>9.02</td>\n",
       "      <td>13.635</td>\n",
       "      <td>80</td>\n",
       "      <td>0.0</td>\n",
       "      <td>5</td>\n",
       "      <td>27</td>\n",
       "      <td>32</td>\n",
       "    </tr>\n",
       "    <tr>\n",
       "      <th>3</th>\n",
       "      <td>2011-01-01 03:00:00</td>\n",
       "      <td>1</td>\n",
       "      <td>0</td>\n",
       "      <td>0</td>\n",
       "      <td>1</td>\n",
       "      <td>9.84</td>\n",
       "      <td>14.395</td>\n",
       "      <td>75</td>\n",
       "      <td>0.0</td>\n",
       "      <td>3</td>\n",
       "      <td>10</td>\n",
       "      <td>13</td>\n",
       "    </tr>\n",
       "    <tr>\n",
       "      <th>4</th>\n",
       "      <td>2011-01-01 04:00:00</td>\n",
       "      <td>1</td>\n",
       "      <td>0</td>\n",
       "      <td>0</td>\n",
       "      <td>1</td>\n",
       "      <td>9.84</td>\n",
       "      <td>14.395</td>\n",
       "      <td>75</td>\n",
       "      <td>0.0</td>\n",
       "      <td>0</td>\n",
       "      <td>1</td>\n",
       "      <td>1</td>\n",
       "    </tr>\n",
       "  </tbody>\n",
       "</table>\n",
       "</div>"
      ],
      "text/plain": [
       "              datetime  season  holiday  workingday  weather  temp   atemp  \\\n",
       "0  2011-01-01 00:00:00       1        0           0        1  9.84  14.395   \n",
       "1  2011-01-01 01:00:00       1        0           0        1  9.02  13.635   \n",
       "2  2011-01-01 02:00:00       1        0           0        1  9.02  13.635   \n",
       "3  2011-01-01 03:00:00       1        0           0        1  9.84  14.395   \n",
       "4  2011-01-01 04:00:00       1        0           0        1  9.84  14.395   \n",
       "\n",
       "   humidity  windspeed  casual  registered  count  \n",
       "0        81        0.0       3          13     16  \n",
       "1        80        0.0       8          32     40  \n",
       "2        80        0.0       5          27     32  \n",
       "3        75        0.0       3          10     13  \n",
       "4        75        0.0       0           1      1  "
      ]
     },
     "execution_count": 3,
     "metadata": {},
     "output_type": "execute_result"
    }
   ],
   "source": [
    "df_raw.head()"
   ]
  },
  {
   "cell_type": "code",
   "execution_count": 4,
   "metadata": {},
   "outputs": [
    {
     "name": "stdout",
     "output_type": "stream",
     "text": [
      "<class 'pandas.core.frame.DataFrame'>\n",
      "RangeIndex: 10886 entries, 0 to 10885\n",
      "Data columns (total 12 columns):\n",
      " #   Column      Non-Null Count  Dtype  \n",
      "---  ------      --------------  -----  \n",
      " 0   datetime    10886 non-null  object \n",
      " 1   season      10886 non-null  int64  \n",
      " 2   holiday     10886 non-null  int64  \n",
      " 3   workingday  10886 non-null  int64  \n",
      " 4   weather     10886 non-null  int64  \n",
      " 5   temp        10886 non-null  float64\n",
      " 6   atemp       10886 non-null  float64\n",
      " 7   humidity    10886 non-null  int64  \n",
      " 8   windspeed   10886 non-null  float64\n",
      " 9   casual      10886 non-null  int64  \n",
      " 10  registered  10886 non-null  int64  \n",
      " 11  count       10886 non-null  int64  \n",
      "dtypes: float64(3), int64(8), object(1)\n",
      "memory usage: 1020.7+ KB\n"
     ]
    }
   ],
   "source": [
    "df_raw.info()"
   ]
  },
  {
   "cell_type": "code",
   "execution_count": 5,
   "metadata": {},
   "outputs": [
    {
     "data": {
      "text/plain": [
       "<matplotlib.axes._subplots.AxesSubplot at 0x1a1b657150>"
      ]
     },
     "execution_count": 5,
     "metadata": {},
     "output_type": "execute_result"
    },
    {
     "data": {
      "image/png": "[encoded data removed]",
      "text/plain": [
       "<Figure size 432x288 with 2 Axes>"
      ]
     },
     "metadata": {
      "needs_background": "light"
     },
     "output_type": "display_data"
    }
   ],
   "source": [
    "# check for missing data\n",
    "\n",
    "sns.heatmap(df_raw.isna())"
   ]
  },
  {
   "cell_type": "markdown",
   "metadata": {},
   "source": [
    "## Train-test split\n",
    "\n",
    "From a first glance, we don't have any missing values. \n",
    "\n",
    "Before any further analysis, I'm going to split between the training and test sets."
   ]
  },
  {
   "cell_type": "code",
   "execution_count": 6,
   "metadata": {},
   "outputs": [
    {
     "data": {
      "text/plain": [
       "((8164, 11), (2722, 11), (8164,), (2722,))"
      ]
     },
     "execution_count": 6,
     "metadata": {},
     "output_type": "execute_result"
    }
   ],
   "source": [
    "y = df_raw['count']\n",
    "\n",
    "X = df_raw.drop(['count'], axis = 1)\n",
    "\n",
    "Xtrain, Xtest, ytrain, ytest = train_test_split(X, y)\n",
    "\n",
    "Xtrain.shape, Xtest.shape, ytrain.shape, ytest.shape"
   ]
  },
  {
   "cell_type": "code",
   "execution_count": 7,
   "metadata": {},
   "outputs": [],
   "source": [
    "# I'm renaming Xtrain because I want to do some manipulations that I will add in separate steps of feature encoding\n",
    "# I also want to investigate how y behaves, so I'm adding it back in for exploration purposes\n",
    "df = Xtrain.join(ytrain)\n",
    "\n",
    "# make sure it is sorted in chronological order\n",
    "df = df.sort_values(by = 'datetime')"
   ]
  },
  {
   "cell_type": "markdown",
   "metadata": {},
   "source": [
    "### Remove casual and registered riders\n",
    "\n",
    "Since casual + registered = count, I need to remove these from the data I'm using for my model. (Doing this here so I don't forget later...)"
   ]
  },
  {
   "cell_type": "code",
   "execution_count": 8,
   "metadata": {},
   "outputs": [
    {
     "data": {
      "text/plain": [
       "((8164, 9), (2722, 9), (8164,), (2722,))"
      ]
     },
     "execution_count": 8,
     "metadata": {},
     "output_type": "execute_result"
    }
   ],
   "source": [
    "Xtrain = Xtrain.drop(['casual', 'registered'], axis = 1)\n",
    "Xtest = Xtest.drop(['casual', 'registered'], axis = 1)\n",
    "\n",
    "Xtrain.shape, Xtest.shape, ytrain.shape, ytest.shape"
   ]
  },
  {
   "cell_type": "markdown",
   "metadata": {},
   "source": [
    "## Step 2: Exploring the Capital Bikeshare data set"
   ]
  },
  {
   "cell_type": "markdown",
   "metadata": {},
   "source": [
    "### Aims of data exploration\n",
    "\n",
    "- Get a sense of the data\n",
    "\n",
    "Questions to address (from textbook):\n",
    "\n",
    "- Which factors contribute most to the number of bicycles being checked out out over the course of a given day?\n",
    "- How much of an impact does weather have on demand?\n",
    "- How does the behavior of casual users differ from subscribers?\n",
    "\n",
    "\n",
    "Aims of the project:\n",
    "\n",
    "“Given the forecasted weather conditions, how many bicycles can we expect to be checkout this Saturday at 2pm?”\n",
    "\n",
    "Important information to take into account for prediction:\n",
    "- Effect of weather\n",
    "- Effect of day (weekday vs. weekend)\n",
    "- Effect of time (2 pm)"
   ]
  },
  {
   "cell_type": "code",
   "execution_count": 9,
   "metadata": {},
   "outputs": [
    {
     "data": {
      "text/plain": [
       "<matplotlib.axes._subplots.AxesSubplot at 0x1a1cf13bd0>"
      ]
     },
     "execution_count": 9,
     "metadata": {},
     "output_type": "execute_result"
    },
    {
     "data": {
      "image/png": "[encoded data removed]",
      "text/plain": [
       "<Figure size 720x720 with 2 Axes>"
      ]
     },
     "metadata": {
      "needs_background": "light"
     },
     "output_type": "display_data"
    }
   ],
   "source": [
    "# quick look at correlations: what columns is \"count\" (= no. bikes rented on a given day) correlated with?\n",
    "\n",
    "plt.subplots(figsize=(10,10))\n",
    "sns.heatmap(df.corr(), annot = True)"
   ]
  },
  {
   "cell_type": "markdown",
   "metadata": {},
   "source": [
    "Some quick notes:\n",
    "- (disregard casual/registered in this plot as casual + registered = count)\n",
    "- workingday/holiday and casual are linked (suggesting the workday/weekend distinction is important for casual users; less so for registered users)\n",
    "- temperature is  correlated with count; \"weather\" less so (possibly because it is a less granular measure and therefore captures data trends at a higher level); humidity is not correlated (this is surprising given my experience of DC summers, but it's possible that humidity is confounded with season); windspeed is somewhat correlated\n",
    "\n",
    "\n",
    "### Understanding the data\n",
    "\n",
    "- Is the distinction between actual and felt temperature important? (Is felt temperature going to incorporate values from wind and humidity data, potentially introducing a confound?)\n",
    "\n",
    "### How to assess strength of factors that affect count:\n",
    "\n",
    "- linear regression analysis with p-values"
   ]
  },
  {
   "cell_type": "markdown",
   "metadata": {},
   "source": [
    "### Plotting: Ridership Over Time By Rider Category\n",
    "\n",
    "Start by getting a sense of how the two categories of ridership compare in their behaviour, and how ridership has evolved in the two-year time span covered by this data set."
   ]
  },
  {
   "cell_type": "code",
   "execution_count": 10,
   "metadata": {},
   "outputs": [],
   "source": [
    "# Create new df with totals aggregated over each day\n",
    "\n",
    "# first separate out hour and day in new columns\n",
    "\n",
    "# set index as column\n",
    "\n",
    "# df.reset_index(inplace = True)\n",
    "\n",
    "df['hour'] = pd.to_datetime(df['datetime']).dt.hour\n",
    "\n",
    "df['date'] = pd.to_datetime(df['datetime']).dt.date\n",
    "\n",
    "df['month'] = pd.to_datetime(df['datetime']).dt.month\n",
    "\n",
    "df['year'] = pd.to_datetime(df['datetime']).dt.year\n",
    "\n",
    "# df.set_index('datetime', inplace = True)"
   ]
  },
  {
   "cell_type": "code",
   "execution_count": 11,
   "metadata": {},
   "outputs": [
    {
     "data": {
      "text/html": [
       "<div>\n",
       "<style scoped>\n",
       "    .dataframe tbody tr th:only-of-type {\n",
       "        vertical-align: middle;\n",
       "    }\n",
       "\n",
       "    .dataframe tbody tr th {\n",
       "        vertical-align: top;\n",
       "    }\n",
       "\n",
       "    .dataframe thead th {\n",
       "        text-align: right;\n",
       "    }\n",
       "</style>\n",
       "<table border=\"1\" class=\"dataframe\">\n",
       "  <thead>\n",
       "    <tr style=\"text-align: right;\">\n",
       "      <th></th>\n",
       "      <th>datetime</th>\n",
       "      <th>season</th>\n",
       "      <th>holiday</th>\n",
       "      <th>workingday</th>\n",
       "      <th>weather</th>\n",
       "      <th>temp</th>\n",
       "      <th>atemp</th>\n",
       "      <th>humidity</th>\n",
       "      <th>windspeed</th>\n",
       "      <th>casual</th>\n",
       "      <th>registered</th>\n",
       "      <th>count</th>\n",
       "      <th>hour</th>\n",
       "      <th>date</th>\n",
       "      <th>month</th>\n",
       "      <th>year</th>\n",
       "    </tr>\n",
       "  </thead>\n",
       "  <tbody>\n",
       "    <tr>\n",
       "      <th>0</th>\n",
       "      <td>2011-01-01 00:00:00</td>\n",
       "      <td>1</td>\n",
       "      <td>0</td>\n",
       "      <td>0</td>\n",
       "      <td>1</td>\n",
       "      <td>9.84</td>\n",
       "      <td>14.395</td>\n",
       "      <td>81</td>\n",
       "      <td>0.0</td>\n",
       "      <td>3</td>\n",
       "      <td>13</td>\n",
       "      <td>16</td>\n",
       "      <td>0</td>\n",
       "      <td>2011-01-01</td>\n",
       "      <td>1</td>\n",
       "      <td>2011</td>\n",
       "    </tr>\n",
       "    <tr>\n",
       "      <th>1</th>\n",
       "      <td>2011-01-01 01:00:00</td>\n",
       "      <td>1</td>\n",
       "      <td>0</td>\n",
       "      <td>0</td>\n",
       "      <td>1</td>\n",
       "      <td>9.02</td>\n",
       "      <td>13.635</td>\n",
       "      <td>80</td>\n",
       "      <td>0.0</td>\n",
       "      <td>8</td>\n",
       "      <td>32</td>\n",
       "      <td>40</td>\n",
       "      <td>1</td>\n",
       "      <td>2011-01-01</td>\n",
       "      <td>1</td>\n",
       "      <td>2011</td>\n",
       "    </tr>\n",
       "    <tr>\n",
       "      <th>2</th>\n",
       "      <td>2011-01-01 02:00:00</td>\n",
       "      <td>1</td>\n",
       "      <td>0</td>\n",
       "      <td>0</td>\n",
       "      <td>1</td>\n",
       "      <td>9.02</td>\n",
       "      <td>13.635</td>\n",
       "      <td>80</td>\n",
       "      <td>0.0</td>\n",
       "      <td>5</td>\n",
       "      <td>27</td>\n",
       "      <td>32</td>\n",
       "      <td>2</td>\n",
       "      <td>2011-01-01</td>\n",
       "      <td>1</td>\n",
       "      <td>2011</td>\n",
       "    </tr>\n",
       "    <tr>\n",
       "      <th>3</th>\n",
       "      <td>2011-01-01 03:00:00</td>\n",
       "      <td>1</td>\n",
       "      <td>0</td>\n",
       "      <td>0</td>\n",
       "      <td>1</td>\n",
       "      <td>9.84</td>\n",
       "      <td>14.395</td>\n",
       "      <td>75</td>\n",
       "      <td>0.0</td>\n",
       "      <td>3</td>\n",
       "      <td>10</td>\n",
       "      <td>13</td>\n",
       "      <td>3</td>\n",
       "      <td>2011-01-01</td>\n",
       "      <td>1</td>\n",
       "      <td>2011</td>\n",
       "    </tr>\n",
       "    <tr>\n",
       "      <th>4</th>\n",
       "      <td>2011-01-01 04:00:00</td>\n",
       "      <td>1</td>\n",
       "      <td>0</td>\n",
       "      <td>0</td>\n",
       "      <td>1</td>\n",
       "      <td>9.84</td>\n",
       "      <td>14.395</td>\n",
       "      <td>75</td>\n",
       "      <td>0.0</td>\n",
       "      <td>0</td>\n",
       "      <td>1</td>\n",
       "      <td>1</td>\n",
       "      <td>4</td>\n",
       "      <td>2011-01-01</td>\n",
       "      <td>1</td>\n",
       "      <td>2011</td>\n",
       "    </tr>\n",
       "  </tbody>\n",
       "</table>\n",
       "</div>"
      ],
      "text/plain": [
       "              datetime  season  holiday  workingday  weather  temp   atemp  \\\n",
       "0  2011-01-01 00:00:00       1        0           0        1  9.84  14.395   \n",
       "1  2011-01-01 01:00:00       1        0           0        1  9.02  13.635   \n",
       "2  2011-01-01 02:00:00       1        0           0        1  9.02  13.635   \n",
       "3  2011-01-01 03:00:00       1        0           0        1  9.84  14.395   \n",
       "4  2011-01-01 04:00:00       1        0           0        1  9.84  14.395   \n",
       "\n",
       "   humidity  windspeed  casual  registered  count  hour        date  month  \\\n",
       "0        81        0.0       3          13     16     0  2011-01-01      1   \n",
       "1        80        0.0       8          32     40     1  2011-01-01      1   \n",
       "2        80        0.0       5          27     32     2  2011-01-01      1   \n",
       "3        75        0.0       3          10     13     3  2011-01-01      1   \n",
       "4        75        0.0       0           1      1     4  2011-01-01      1   \n",
       "\n",
       "   year  \n",
       "0  2011  \n",
       "1  2011  \n",
       "2  2011  \n",
       "3  2011  \n",
       "4  2011  "
      ]
     },
     "execution_count": 11,
     "metadata": {},
     "output_type": "execute_result"
    }
   ],
   "source": [
    "df.head()"
   ]
  },
  {
   "cell_type": "code",
   "execution_count": 12,
   "metadata": {},
   "outputs": [
    {
     "data": {
      "text/html": [
       "<div>\n",
       "<style scoped>\n",
       "    .dataframe tbody tr th:only-of-type {\n",
       "        vertical-align: middle;\n",
       "    }\n",
       "\n",
       "    .dataframe tbody tr th {\n",
       "        vertical-align: top;\n",
       "    }\n",
       "\n",
       "    .dataframe thead th {\n",
       "        text-align: right;\n",
       "    }\n",
       "</style>\n",
       "<table border=\"1\" class=\"dataframe\">\n",
       "  <thead>\n",
       "    <tr style=\"text-align: right;\">\n",
       "      <th></th>\n",
       "      <th>date</th>\n",
       "      <th>season</th>\n",
       "      <th>holiday</th>\n",
       "      <th>workingday</th>\n",
       "      <th>weather</th>\n",
       "      <th>temp</th>\n",
       "      <th>atemp</th>\n",
       "      <th>humidity</th>\n",
       "      <th>windspeed</th>\n",
       "      <th>casual</th>\n",
       "      <th>registered</th>\n",
       "      <th>count</th>\n",
       "      <th>hour</th>\n",
       "      <th>month</th>\n",
       "      <th>year</th>\n",
       "    </tr>\n",
       "  </thead>\n",
       "  <tbody>\n",
       "    <tr>\n",
       "      <th>0</th>\n",
       "      <td>2011-01-01</td>\n",
       "      <td>18</td>\n",
       "      <td>0</td>\n",
       "      <td>0</td>\n",
       "      <td>29</td>\n",
       "      <td>239.44</td>\n",
       "      <td>315.145</td>\n",
       "      <td>1446</td>\n",
       "      <td>165.9925</td>\n",
       "      <td>207</td>\n",
       "      <td>451</td>\n",
       "      <td>658</td>\n",
       "      <td>185</td>\n",
       "      <td>18</td>\n",
       "      <td>36198</td>\n",
       "    </tr>\n",
       "    <tr>\n",
       "      <th>1</th>\n",
       "      <td>2011-01-02</td>\n",
       "      <td>19</td>\n",
       "      <td>0</td>\n",
       "      <td>0</td>\n",
       "      <td>38</td>\n",
       "      <td>284.54</td>\n",
       "      <td>338.620</td>\n",
       "      <td>1346</td>\n",
       "      <td>311.9989</td>\n",
       "      <td>102</td>\n",
       "      <td>504</td>\n",
       "      <td>606</td>\n",
       "      <td>219</td>\n",
       "      <td>19</td>\n",
       "      <td>38209</td>\n",
       "    </tr>\n",
       "    <tr>\n",
       "      <th>2</th>\n",
       "      <td>2011-01-03</td>\n",
       "      <td>19</td>\n",
       "      <td>0</td>\n",
       "      <td>19</td>\n",
       "      <td>19</td>\n",
       "      <td>153.34</td>\n",
       "      <td>178.040</td>\n",
       "      <td>835</td>\n",
       "      <td>332.0051</td>\n",
       "      <td>100</td>\n",
       "      <td>828</td>\n",
       "      <td>928</td>\n",
       "      <td>227</td>\n",
       "      <td>19</td>\n",
       "      <td>38209</td>\n",
       "    </tr>\n",
       "    <tr>\n",
       "      <th>3</th>\n",
       "      <td>2011-01-04</td>\n",
       "      <td>18</td>\n",
       "      <td>0</td>\n",
       "      <td>18</td>\n",
       "      <td>19</td>\n",
       "      <td>147.60</td>\n",
       "      <td>187.125</td>\n",
       "      <td>1049</td>\n",
       "      <td>210.0115</td>\n",
       "      <td>90</td>\n",
       "      <td>1283</td>\n",
       "      <td>1373</td>\n",
       "      <td>209</td>\n",
       "      <td>18</td>\n",
       "      <td>36198</td>\n",
       "    </tr>\n",
       "    <tr>\n",
       "      <th>4</th>\n",
       "      <td>2011-01-05</td>\n",
       "      <td>21</td>\n",
       "      <td>0</td>\n",
       "      <td>21</td>\n",
       "      <td>21</td>\n",
       "      <td>199.26</td>\n",
       "      <td>240.930</td>\n",
       "      <td>884</td>\n",
       "      <td>282.0097</td>\n",
       "      <td>81</td>\n",
       "      <td>1494</td>\n",
       "      <td>1575</td>\n",
       "      <td>249</td>\n",
       "      <td>21</td>\n",
       "      <td>42231</td>\n",
       "    </tr>\n",
       "    <tr>\n",
       "      <th>...</th>\n",
       "      <td>...</td>\n",
       "      <td>...</td>\n",
       "      <td>...</td>\n",
       "      <td>...</td>\n",
       "      <td>...</td>\n",
       "      <td>...</td>\n",
       "      <td>...</td>\n",
       "      <td>...</td>\n",
       "      <td>...</td>\n",
       "      <td>...</td>\n",
       "      <td>...</td>\n",
       "      <td>...</td>\n",
       "      <td>...</td>\n",
       "      <td>...</td>\n",
       "      <td>...</td>\n",
       "    </tr>\n",
       "    <tr>\n",
       "      <th>451</th>\n",
       "      <td>2012-12-15</td>\n",
       "      <td>80</td>\n",
       "      <td>0</td>\n",
       "      <td>0</td>\n",
       "      <td>27</td>\n",
       "      <td>271.42</td>\n",
       "      <td>343.180</td>\n",
       "      <td>1280</td>\n",
       "      <td>150.0063</td>\n",
       "      <td>667</td>\n",
       "      <td>3731</td>\n",
       "      <td>4398</td>\n",
       "      <td>243</td>\n",
       "      <td>240</td>\n",
       "      <td>40240</td>\n",
       "    </tr>\n",
       "    <tr>\n",
       "      <th>452</th>\n",
       "      <td>2012-12-16</td>\n",
       "      <td>64</td>\n",
       "      <td>0</td>\n",
       "      <td>0</td>\n",
       "      <td>33</td>\n",
       "      <td>237.80</td>\n",
       "      <td>296.205</td>\n",
       "      <td>1326</td>\n",
       "      <td>98.0009</td>\n",
       "      <td>404</td>\n",
       "      <td>2350</td>\n",
       "      <td>2754</td>\n",
       "      <td>181</td>\n",
       "      <td>192</td>\n",
       "      <td>32192</td>\n",
       "    </tr>\n",
       "    <tr>\n",
       "      <th>453</th>\n",
       "      <td>2012-12-17</td>\n",
       "      <td>68</td>\n",
       "      <td>0</td>\n",
       "      <td>17</td>\n",
       "      <td>36</td>\n",
       "      <td>276.34</td>\n",
       "      <td>343.925</td>\n",
       "      <td>1535</td>\n",
       "      <td>118.9987</td>\n",
       "      <td>170</td>\n",
       "      <td>3300</td>\n",
       "      <td>3470</td>\n",
       "      <td>205</td>\n",
       "      <td>204</td>\n",
       "      <td>34204</td>\n",
       "    </tr>\n",
       "    <tr>\n",
       "      <th>454</th>\n",
       "      <td>2012-12-18</td>\n",
       "      <td>72</td>\n",
       "      <td>0</td>\n",
       "      <td>18</td>\n",
       "      <td>20</td>\n",
       "      <td>300.94</td>\n",
       "      <td>368.170</td>\n",
       "      <td>1273</td>\n",
       "      <td>249.0256</td>\n",
       "      <td>307</td>\n",
       "      <td>3910</td>\n",
       "      <td>4217</td>\n",
       "      <td>191</td>\n",
       "      <td>216</td>\n",
       "      <td>36216</td>\n",
       "    </tr>\n",
       "    <tr>\n",
       "      <th>455</th>\n",
       "      <td>2012-12-19</td>\n",
       "      <td>88</td>\n",
       "      <td>0</td>\n",
       "      <td>22</td>\n",
       "      <td>22</td>\n",
       "      <td>299.30</td>\n",
       "      <td>374.990</td>\n",
       "      <td>1376</td>\n",
       "      <td>271.0150</td>\n",
       "      <td>303</td>\n",
       "      <td>4696</td>\n",
       "      <td>4999</td>\n",
       "      <td>256</td>\n",
       "      <td>264</td>\n",
       "      <td>44264</td>\n",
       "    </tr>\n",
       "  </tbody>\n",
       "</table>\n",
       "<p>456 rows × 15 columns</p>\n",
       "</div>"
      ],
      "text/plain": [
       "           date  season  holiday  workingday  weather    temp    atemp  \\\n",
       "0    2011-01-01      18        0           0       29  239.44  315.145   \n",
       "1    2011-01-02      19        0           0       38  284.54  338.620   \n",
       "2    2011-01-03      19        0          19       19  153.34  178.040   \n",
       "3    2011-01-04      18        0          18       19  147.60  187.125   \n",
       "4    2011-01-05      21        0          21       21  199.26  240.930   \n",
       "..          ...     ...      ...         ...      ...     ...      ...   \n",
       "451  2012-12-15      80        0           0       27  271.42  343.180   \n",
       "452  2012-12-16      64        0           0       33  237.80  296.205   \n",
       "453  2012-12-17      68        0          17       36  276.34  343.925   \n",
       "454  2012-12-18      72        0          18       20  300.94  368.170   \n",
       "455  2012-12-19      88        0          22       22  299.30  374.990   \n",
       "\n",
       "     humidity  windspeed  casual  registered  count  hour  month   year  \n",
       "0        1446   165.9925     207         451    658   185     18  36198  \n",
       "1        1346   311.9989     102         504    606   219     19  38209  \n",
       "2         835   332.0051     100         828    928   227     19  38209  \n",
       "3        1049   210.0115      90        1283   1373   209     18  36198  \n",
       "4         884   282.0097      81        1494   1575   249     21  42231  \n",
       "..        ...        ...     ...         ...    ...   ...    ...    ...  \n",
       "451      1280   150.0063     667        3731   4398   243    240  40240  \n",
       "452      1326    98.0009     404        2350   2754   181    192  32192  \n",
       "453      1535   118.9987     170        3300   3470   205    204  34204  \n",
       "454      1273   249.0256     307        3910   4217   191    216  36216  \n",
       "455      1376   271.0150     303        4696   4999   256    264  44264  \n",
       "\n",
       "[456 rows x 15 columns]"
      ]
     },
     "execution_count": 12,
     "metadata": {},
     "output_type": "execute_result"
    }
   ],
   "source": [
    "# now count totals by day\n",
    "\n",
    "days = df.groupby(['date']).sum()\n",
    "days.reset_index(inplace = True)\n",
    "days"
   ]
  },
  {
   "cell_type": "code",
   "execution_count": 13,
   "metadata": {},
   "outputs": [
    {
     "data": {
      "text/plain": [
       "datetime.date(2011, 1, 1)"
      ]
     },
     "execution_count": 13,
     "metadata": {},
     "output_type": "execute_result"
    }
   ],
   "source": [
    "days['date'].min()"
   ]
  },
  {
   "cell_type": "code",
   "execution_count": 14,
   "metadata": {},
   "outputs": [],
   "source": [
    "firstdate = days['date'][0]"
   ]
  },
  {
   "cell_type": "code",
   "execution_count": 15,
   "metadata": {},
   "outputs": [],
   "source": [
    "lastdate = days['date'][len(days['date'])-1]"
   ]
  },
  {
   "cell_type": "code",
   "execution_count": 16,
   "metadata": {},
   "outputs": [
    {
     "data": {
      "text/plain": [
       "<matplotlib.legend.Legend at 0x107f9b310>"
      ]
     },
     "execution_count": 16,
     "metadata": {},
     "output_type": "execute_result"
    },
    {
     "data": {
      "image/png": "[encoded data removed]",
      "text/plain": [
       "<Figure size 432x288 with 1 Axes>"
      ]
     },
     "metadata": {
      "needs_background": "light"
     },
     "output_type": "display_data"
    }
   ],
   "source": [
    "# plot total rentals across time, separated by ridership\n",
    "\n",
    "sns.scatterplot(x = 'date', y = 'casual', data = days, label = 'casual')\n",
    "sns.scatterplot(x = 'date', y = 'registered', data = days, label = 'registered')\n",
    "plt.xlim(firstdate, lastdate)    # xlim = first and last date in data set\n",
    "plt.legend()"
   ]
  },
  {
   "cell_type": "markdown",
   "metadata": {},
   "source": [
    "Conclusions from this plot:\n",
    "- Steadily increasing overall ridership over the two-year time period.\n",
    "- Surges in the summer months across both ridership groups.\n",
    "- Rentals by registered riders overall consistently higher per day than rentals by casual riders -- though the two groups sometimes overlap in their rental numbers."
   ]
  },
  {
   "cell_type": "code",
   "execution_count": 17,
   "metadata": {},
   "outputs": [
    {
     "data": {
      "text/html": [
       "<div>\n",
       "<style scoped>\n",
       "    .dataframe tbody tr th:only-of-type {\n",
       "        vertical-align: middle;\n",
       "    }\n",
       "\n",
       "    .dataframe tbody tr th {\n",
       "        vertical-align: top;\n",
       "    }\n",
       "\n",
       "    .dataframe thead th {\n",
       "        text-align: right;\n",
       "    }\n",
       "</style>\n",
       "<table border=\"1\" class=\"dataframe\">\n",
       "  <thead>\n",
       "    <tr style=\"text-align: right;\">\n",
       "      <th></th>\n",
       "      <th>month</th>\n",
       "      <th>season</th>\n",
       "      <th>holiday</th>\n",
       "      <th>workingday</th>\n",
       "      <th>weather</th>\n",
       "      <th>temp</th>\n",
       "      <th>atemp</th>\n",
       "      <th>humidity</th>\n",
       "      <th>windspeed</th>\n",
       "      <th>casual</th>\n",
       "      <th>registered</th>\n",
       "      <th>count</th>\n",
       "      <th>hour</th>\n",
       "      <th>year</th>\n",
       "    </tr>\n",
       "  </thead>\n",
       "  <tbody>\n",
       "    <tr>\n",
       "      <th>0</th>\n",
       "      <td>1</td>\n",
       "      <td>339</td>\n",
       "      <td>37</td>\n",
       "      <td>212</td>\n",
       "      <td>462</td>\n",
       "      <td>3744.12</td>\n",
       "      <td>4531.805</td>\n",
       "      <td>18817</td>\n",
       "      <td>5302.1187</td>\n",
       "      <td>4229</td>\n",
       "      <td>39037</td>\n",
       "      <td>43266</td>\n",
       "      <td>3866</td>\n",
       "      <td>682068</td>\n",
       "    </tr>\n",
       "    <tr>\n",
       "      <th>1</th>\n",
       "      <td>2</td>\n",
       "      <td>339</td>\n",
       "      <td>0</td>\n",
       "      <td>230</td>\n",
       "      <td>524</td>\n",
       "      <td>4186.10</td>\n",
       "      <td>5138.570</td>\n",
       "      <td>20133</td>\n",
       "      <td>4284.1274</td>\n",
       "      <td>4189</td>\n",
       "      <td>45270</td>\n",
       "      <td>49459</td>\n",
       "      <td>3956</td>\n",
       "      <td>682068</td>\n",
       "    </tr>\n",
       "    <tr>\n",
       "      <th>2</th>\n",
       "      <td>3</td>\n",
       "      <td>341</td>\n",
       "      <td>0</td>\n",
       "      <td>232</td>\n",
       "      <td>468</td>\n",
       "      <td>5952.38</td>\n",
       "      <td>7102.140</td>\n",
       "      <td>19684</td>\n",
       "      <td>4990.1533</td>\n",
       "      <td>12229</td>\n",
       "      <td>55934</td>\n",
       "      <td>68163</td>\n",
       "      <td>3911</td>\n",
       "      <td>686092</td>\n",
       "    </tr>\n",
       "    <tr>\n",
       "      <th>3</th>\n",
       "      <td>4</td>\n",
       "      <td>672</td>\n",
       "      <td>20</td>\n",
       "      <td>230</td>\n",
       "      <td>423</td>\n",
       "      <td>6637.08</td>\n",
       "      <td>7890.005</td>\n",
       "      <td>15230</td>\n",
       "      <td>5125.0511</td>\n",
       "      <td>20805</td>\n",
       "      <td>66732</td>\n",
       "      <td>87537</td>\n",
       "      <td>3917</td>\n",
       "      <td>676032</td>\n",
       "    </tr>\n",
       "    <tr>\n",
       "      <th>4</th>\n",
       "      <td>5</td>\n",
       "      <td>674</td>\n",
       "      <td>0</td>\n",
       "      <td>252</td>\n",
       "      <td>516</td>\n",
       "      <td>7972.04</td>\n",
       "      <td>9306.145</td>\n",
       "      <td>22362</td>\n",
       "      <td>4028.0467</td>\n",
       "      <td>16953</td>\n",
       "      <td>67844</td>\n",
       "      <td>84797</td>\n",
       "      <td>3753</td>\n",
       "      <td>678044</td>\n",
       "    </tr>\n",
       "    <tr>\n",
       "      <th>5</th>\n",
       "      <td>6</td>\n",
       "      <td>694</td>\n",
       "      <td>0</td>\n",
       "      <td>231</td>\n",
       "      <td>462</td>\n",
       "      <td>9067.56</td>\n",
       "      <td>10394.825</td>\n",
       "      <td>20542</td>\n",
       "      <td>4347.0806</td>\n",
       "      <td>23190</td>\n",
       "      <td>80058</td>\n",
       "      <td>103248</td>\n",
       "      <td>4083</td>\n",
       "      <td>698164</td>\n",
       "    </tr>\n",
       "    <tr>\n",
       "      <th>6</th>\n",
       "      <td>7</td>\n",
       "      <td>1083</td>\n",
       "      <td>21</td>\n",
       "      <td>239</td>\n",
       "      <td>474</td>\n",
       "      <td>11454.58</td>\n",
       "      <td>12928.895</td>\n",
       "      <td>20389</td>\n",
       "      <td>3632.0566</td>\n",
       "      <td>19832</td>\n",
       "      <td>75604</td>\n",
       "      <td>95436</td>\n",
       "      <td>4116</td>\n",
       "      <td>726332</td>\n",
       "    </tr>\n",
       "    <tr>\n",
       "      <th>7</th>\n",
       "      <td>8</td>\n",
       "      <td>990</td>\n",
       "      <td>0</td>\n",
       "      <td>223</td>\n",
       "      <td>446</td>\n",
       "      <td>9830.98</td>\n",
       "      <td>10911.550</td>\n",
       "      <td>21140</td>\n",
       "      <td>3681.0403</td>\n",
       "      <td>20737</td>\n",
       "      <td>73406</td>\n",
       "      <td>94143</td>\n",
       "      <td>3797</td>\n",
       "      <td>663960</td>\n",
       "    </tr>\n",
       "    <tr>\n",
       "      <th>8</th>\n",
       "      <td>9</td>\n",
       "      <td>1014</td>\n",
       "      <td>19</td>\n",
       "      <td>213</td>\n",
       "      <td>463</td>\n",
       "      <td>8941.28</td>\n",
       "      <td>10324.440</td>\n",
       "      <td>22538</td>\n",
       "      <td>3918.1064</td>\n",
       "      <td>20804</td>\n",
       "      <td>78584</td>\n",
       "      <td>99388</td>\n",
       "      <td>3949</td>\n",
       "      <td>680056</td>\n",
       "    </tr>\n",
       "    <tr>\n",
       "      <th>9</th>\n",
       "      <td>10</td>\n",
       "      <td>1388</td>\n",
       "      <td>17</td>\n",
       "      <td>261</td>\n",
       "      <td>527</td>\n",
       "      <td>7338.18</td>\n",
       "      <td>8649.215</td>\n",
       "      <td>23207</td>\n",
       "      <td>3919.1047</td>\n",
       "      <td>16926</td>\n",
       "      <td>84509</td>\n",
       "      <td>101435</td>\n",
       "      <td>3986</td>\n",
       "      <td>698164</td>\n",
       "    </tr>\n",
       "    <tr>\n",
       "      <th>10</th>\n",
       "      <td>11</td>\n",
       "      <td>1372</td>\n",
       "      <td>17</td>\n",
       "      <td>213</td>\n",
       "      <td>481</td>\n",
       "      <td>4918.36</td>\n",
       "      <td>5905.180</td>\n",
       "      <td>19756</td>\n",
       "      <td>4899.0802</td>\n",
       "      <td>11451</td>\n",
       "      <td>68155</td>\n",
       "      <td>79606</td>\n",
       "      <td>3943</td>\n",
       "      <td>690116</td>\n",
       "    </tr>\n",
       "    <tr>\n",
       "      <th>11</th>\n",
       "      <td>12</td>\n",
       "      <td>1320</td>\n",
       "      <td>0</td>\n",
       "      <td>227</td>\n",
       "      <td>519</td>\n",
       "      <td>4907.70</td>\n",
       "      <td>6035.395</td>\n",
       "      <td>23454</td>\n",
       "      <td>3508.1535</td>\n",
       "      <td>7118</td>\n",
       "      <td>67120</td>\n",
       "      <td>74238</td>\n",
       "      <td>3787</td>\n",
       "      <td>663960</td>\n",
       "    </tr>\n",
       "  </tbody>\n",
       "</table>\n",
       "</div>"
      ],
      "text/plain": [
       "    month  season  holiday  workingday  weather      temp      atemp  \\\n",
       "0       1     339       37         212      462   3744.12   4531.805   \n",
       "1       2     339        0         230      524   4186.10   5138.570   \n",
       "2       3     341        0         232      468   5952.38   7102.140   \n",
       "3       4     672       20         230      423   6637.08   7890.005   \n",
       "4       5     674        0         252      516   7972.04   9306.145   \n",
       "5       6     694        0         231      462   9067.56  10394.825   \n",
       "6       7    1083       21         239      474  11454.58  12928.895   \n",
       "7       8     990        0         223      446   9830.98  10911.550   \n",
       "8       9    1014       19         213      463   8941.28  10324.440   \n",
       "9      10    1388       17         261      527   7338.18   8649.215   \n",
       "10     11    1372       17         213      481   4918.36   5905.180   \n",
       "11     12    1320        0         227      519   4907.70   6035.395   \n",
       "\n",
       "    humidity  windspeed  casual  registered   count  hour    year  \n",
       "0      18817  5302.1187    4229       39037   43266  3866  682068  \n",
       "1      20133  4284.1274    4189       45270   49459  3956  682068  \n",
       "2      19684  4990.1533   12229       55934   68163  3911  686092  \n",
       "3      15230  5125.0511   20805       66732   87537  3917  676032  \n",
       "4      22362  4028.0467   16953       67844   84797  3753  678044  \n",
       "5      20542  4347.0806   23190       80058  103248  4083  698164  \n",
       "6      20389  3632.0566   19832       75604   95436  4116  726332  \n",
       "7      21140  3681.0403   20737       73406   94143  3797  663960  \n",
       "8      22538  3918.1064   20804       78584   99388  3949  680056  \n",
       "9      23207  3919.1047   16926       84509  101435  3986  698164  \n",
       "10     19756  4899.0802   11451       68155   79606  3943  690116  \n",
       "11     23454  3508.1535    7118       67120   74238  3787  663960  "
      ]
     },
     "execution_count": 17,
     "metadata": {},
     "output_type": "execute_result"
    }
   ],
   "source": [
    "# Aggregate across months\n",
    "\n",
    "# 2011\n",
    "\n",
    "months_2011 = df.loc[df['year'] == 2011]\n",
    "\n",
    "months_2011 = months_2011.groupby(['month']).sum()\n",
    "months_2011.reset_index(inplace = True)\n",
    "months_2011\n",
    "\n",
    "# 2012\n",
    "\n",
    "months_2012 = df.loc[df['year'] == 2012]\n",
    "\n",
    "months_2012 = months_2012.groupby(['month']).sum()\n",
    "months_2012.reset_index(inplace = True)\n",
    "months_2012"
   ]
  },
  {
   "cell_type": "code",
   "execution_count": 18,
   "metadata": {},
   "outputs": [
    {
     "data": {
      "image/png": "[encoded data removed]",
      "text/plain": [
       "<Figure size 432x288 with 1 Axes>"
      ]
     },
     "metadata": {
      "needs_background": "light"
     },
     "output_type": "display_data"
    },
    {
     "data": {
      "text/plain": [
       "Text(0.5, 1.0, '2012')"
      ]
     },
     "execution_count": 18,
     "metadata": {},
     "output_type": "execute_result"
    },
    {
     "data": {
      "image/png": "[encoded data removed]",
      "text/plain": [
       "<Figure size 432x288 with 1 Axes>"
      ]
     },
     "metadata": {
      "needs_background": "light"
     },
     "output_type": "display_data"
    }
   ],
   "source": [
    "# Plot ridership by month each year\n",
    "\n",
    "sns.scatterplot(x = 'month', y = 'casual', data = months_2011, label = 'casual')\n",
    "sns.scatterplot(x = 'month', y = 'registered', data = months_2011, label = 'registered')\n",
    "plt.ylim(0, 120_000)\n",
    "plt.legend()\n",
    "plt.title('2011')\n",
    "plt.show()\n",
    "plt.close()\n",
    "\n",
    "\n",
    "sns.scatterplot(x = 'month', y = 'casual', data = months_2012, label = 'casual')\n",
    "sns.scatterplot(x = 'month', y = 'registered', data = months_2012, label = 'registered')\n",
    "plt.ylim(0, 120_000)\n",
    "plt.legend()\n",
    "plt.title('2012')"
   ]
  },
  {
   "cell_type": "markdown",
   "metadata": {},
   "source": [
    "### Plotting: Weekdays and Holidays\n",
    "\n",
    "- How does weekday and holiday status affect bike rentals?\n",
    "\n",
    "- Do we need to break out holidays from weekends? Or can we do a work day/not work day distinction?\n",
    "\n",
    "#### Weekdays Plots\n",
    "- Choice: Box plot to show range of distribution\n",
    "- Secondary choice: plot by season"
   ]
  },
  {
   "cell_type": "code",
   "execution_count": 19,
   "metadata": {},
   "outputs": [
    {
     "data": {
      "text/plain": [
       "<matplotlib.axes._subplots.AxesSubplot at 0x1a1d9b1190>"
      ]
     },
     "execution_count": 19,
     "metadata": {},
     "output_type": "execute_result"
    },
    {
     "data": {
      "image/png": "[encoded data removed]",
      "text/plain": [
       "<Figure size 432x288 with 1 Axes>"
      ]
     },
     "metadata": {
      "needs_background": "light"
     },
     "output_type": "display_data"
    }
   ],
   "source": [
    "# Plot rentals: weekday vs. non weekday\n",
    "sns.boxplot(x = 'workingday', y = 'count', hue = 'season', data = df)"
   ]
  },
  {
   "cell_type": "code",
   "execution_count": 20,
   "metadata": {},
   "outputs": [
    {
     "data": {
      "text/plain": [
       "<matplotlib.axes._subplots.AxesSubplot at 0x1a1edf7b10>"
      ]
     },
     "execution_count": 20,
     "metadata": {},
     "output_type": "execute_result"
    },
    {
     "data": {
      "image/png": "[encoded data removed]",
      "text/plain": [
       "<Figure size 432x288 with 1 Axes>"
      ]
     },
     "metadata": {
      "needs_background": "light"
     },
     "output_type": "display_data"
    }
   ],
   "source": [
    "# asymmetric violin plot\n",
    "\n",
    "sns.violinplot(x = 'season', y = 'count', hue = 'workingday',\n",
    "                    data = df, split=True)"
   ]
  },
  {
   "cell_type": "code",
   "execution_count": 21,
   "metadata": {},
   "outputs": [
    {
     "data": {
      "text/plain": [
       "<matplotlib.axes._subplots.AxesSubplot at 0x1a1ef0b250>"
      ]
     },
     "execution_count": 21,
     "metadata": {},
     "output_type": "execute_result"
    },
    {
     "data": {
      "image/png": "[encoded data removed]",
      "text/plain": [
       "<Figure size 432x288 with 1 Axes>"
      ]
     },
     "metadata": {
      "needs_background": "light"
     },
     "output_type": "display_data"
    }
   ],
   "source": [
    "sns.violinplot(x = 'season', y = 'count', hue = 'holiday',\n",
    "                    data = df, split=True)"
   ]
  },
  {
   "cell_type": "markdown",
   "metadata": {},
   "source": [
    "Conclusions from comparing holiday and workingday rental volume:\n",
    "- Holidays (1; orange in this plot) behave similarly to non-working days (0; blue in the plot before)\n",
    "- For simplicity I'll distinguish between workdays and non-workdays"
   ]
  },
  {
   "cell_type": "markdown",
   "metadata": {},
   "source": [
    "Some conclusions from this:\n",
    "- Seasonal patterns are similar across day type -- with highest no. of rentals in summer, and lowest ones in winter\n",
    "- Long-tailed distribution for most season\n",
    "- These graphs doesn't let us see difference between the casual and registered ridership. For this purpose, an asymmetrical violin plot could be helpful.\n",
    "- The violin plot suggests that there are bimodal distributions: in summer, it seems like the counts are either very low or quite high. Except in winter, workday distributions are always bimodal. Since this is hour-by-hour data, this looks like a \"rush hour\" kind of phenomenon.\n",
    "\n",
    "Another thought:\n",
    "- This data is all hour by hour. \n",
    "- To get a more coarse-grained overview of patterns of demand, I might want to look at averages over a full day (midnight to midnight).\n",
    "- And we haven't looked at ridership yet."
   ]
  },
  {
   "cell_type": "markdown",
   "metadata": {},
   "source": [
    "### Plotting: Time of day\n",
    "- For each type of day, plot activity\n",
    "- Possibility: plot by season\n",
    "- Another possibility: plot by casual/registered user?\n",
    "- Not reflected in heatmap as this collapsed across days (but data points are available for every hour)"
   ]
  },
  {
   "cell_type": "code",
   "execution_count": 22,
   "metadata": {},
   "outputs": [
    {
     "data": {
      "text/html": [
       "<div>\n",
       "<style scoped>\n",
       "    .dataframe tbody tr th:only-of-type {\n",
       "        vertical-align: middle;\n",
       "    }\n",
       "\n",
       "    .dataframe tbody tr th {\n",
       "        vertical-align: top;\n",
       "    }\n",
       "\n",
       "    .dataframe thead th {\n",
       "        text-align: right;\n",
       "    }\n",
       "</style>\n",
       "<table border=\"1\" class=\"dataframe\">\n",
       "  <thead>\n",
       "    <tr style=\"text-align: right;\">\n",
       "      <th></th>\n",
       "      <th>hour</th>\n",
       "      <th>workingday</th>\n",
       "      <th>season</th>\n",
       "      <th>holiday</th>\n",
       "      <th>weather</th>\n",
       "      <th>temp</th>\n",
       "      <th>atemp</th>\n",
       "      <th>humidity</th>\n",
       "      <th>windspeed</th>\n",
       "      <th>casual</th>\n",
       "      <th>registered</th>\n",
       "      <th>count</th>\n",
       "      <th>month</th>\n",
       "      <th>year</th>\n",
       "    </tr>\n",
       "  </thead>\n",
       "  <tbody>\n",
       "    <tr>\n",
       "      <th>0</th>\n",
       "      <td>0</td>\n",
       "      <td>0</td>\n",
       "      <td>261</td>\n",
       "      <td>11</td>\n",
       "      <td>140</td>\n",
       "      <td>1999.16</td>\n",
       "      <td>2347.740</td>\n",
       "      <td>7049</td>\n",
       "      <td>1098.0563</td>\n",
       "      <td>1879</td>\n",
       "      <td>8122</td>\n",
       "      <td>10001</td>\n",
       "      <td>675</td>\n",
       "      <td>209198</td>\n",
       "    </tr>\n",
       "    <tr>\n",
       "      <th>1</th>\n",
       "      <td>0</td>\n",
       "      <td>1</td>\n",
       "      <td>576</td>\n",
       "      <td>0</td>\n",
       "      <td>320</td>\n",
       "      <td>4318.12</td>\n",
       "      <td>5085.625</td>\n",
       "      <td>15503</td>\n",
       "      <td>2452.0928</td>\n",
       "      <td>1645</td>\n",
       "      <td>6856</td>\n",
       "      <td>8501</td>\n",
       "      <td>1493</td>\n",
       "      <td>452588</td>\n",
       "    </tr>\n",
       "    <tr>\n",
       "      <th>2</th>\n",
       "      <td>1</td>\n",
       "      <td>0</td>\n",
       "      <td>263</td>\n",
       "      <td>9</td>\n",
       "      <td>150</td>\n",
       "      <td>1891.74</td>\n",
       "      <td>2237.895</td>\n",
       "      <td>7263</td>\n",
       "      <td>1053.0189</td>\n",
       "      <td>1324</td>\n",
       "      <td>5990</td>\n",
       "      <td>7314</td>\n",
       "      <td>675</td>\n",
       "      <td>209195</td>\n",
       "    </tr>\n",
       "    <tr>\n",
       "      <th>3</th>\n",
       "      <td>1</td>\n",
       "      <td>1</td>\n",
       "      <td>568</td>\n",
       "      <td>0</td>\n",
       "      <td>339</td>\n",
       "      <td>4310.74</td>\n",
       "      <td>5108.350</td>\n",
       "      <td>16113</td>\n",
       "      <td>2420.0802</td>\n",
       "      <td>799</td>\n",
       "      <td>2754</td>\n",
       "      <td>3553</td>\n",
       "      <td>1479</td>\n",
       "      <td>458620</td>\n",
       "    </tr>\n",
       "    <tr>\n",
       "      <th>4</th>\n",
       "      <td>2</td>\n",
       "      <td>0</td>\n",
       "      <td>278</td>\n",
       "      <td>8</td>\n",
       "      <td>151</td>\n",
       "      <td>1947.50</td>\n",
       "      <td>2306.820</td>\n",
       "      <td>7479</td>\n",
       "      <td>1109.0577</td>\n",
       "      <td>1091</td>\n",
       "      <td>4647</td>\n",
       "      <td>5738</td>\n",
       "      <td>729</td>\n",
       "      <td>215230</td>\n",
       "    </tr>\n",
       "  </tbody>\n",
       "</table>\n",
       "</div>"
      ],
      "text/plain": [
       "   hour  workingday  season  holiday  weather     temp     atemp  humidity  \\\n",
       "0     0           0     261       11      140  1999.16  2347.740      7049   \n",
       "1     0           1     576        0      320  4318.12  5085.625     15503   \n",
       "2     1           0     263        9      150  1891.74  2237.895      7263   \n",
       "3     1           1     568        0      339  4310.74  5108.350     16113   \n",
       "4     2           0     278        8      151  1947.50  2306.820      7479   \n",
       "\n",
       "   windspeed  casual  registered  count  month    year  \n",
       "0  1098.0563    1879        8122  10001    675  209198  \n",
       "1  2452.0928    1645        6856   8501   1493  452588  \n",
       "2  1053.0189    1324        5990   7314    675  209195  \n",
       "3  2420.0802     799        2754   3553   1479  458620  \n",
       "4  1109.0577    1091        4647   5738    729  215230  "
      ]
     },
     "execution_count": 22,
     "metadata": {},
     "output_type": "execute_result"
    }
   ],
   "source": [
    "# Creating a data set that is grouped by hours\n",
    "# disregarding season for now but taking into account the workingday difference\n",
    "\n",
    "hours = df.groupby(['hour', 'workingday']).sum()\n",
    "hours.reset_index(inplace = True)\n",
    "hours.head()\n",
    "\n",
    "# hours['hour'].unique()\n",
    "# check if hours reported as 24-h clock; answer: yes!"
   ]
  },
  {
   "cell_type": "code",
   "execution_count": 23,
   "metadata": {},
   "outputs": [
    {
     "data": {
      "text/plain": [
       "<matplotlib.axes._subplots.AxesSubplot at 0x1a1f010a50>"
      ]
     },
     "execution_count": 23,
     "metadata": {},
     "output_type": "execute_result"
    },
    {
     "data": {
      "image/png": "[encoded data removed]",
      "text/plain": [
       "<Figure size 432x288 with 1 Axes>"
      ]
     },
     "metadata": {
      "needs_background": "light"
     },
     "output_type": "display_data"
    }
   ],
   "source": [
    "# Plot as bar chart\n",
    "\n",
    "sns.barplot(x = 'hour', y = 'count', data = hours, hue = 'workingday')"
   ]
  },
  {
   "cell_type": "markdown",
   "metadata": {},
   "source": [
    "**Conclusions from this plot:**\n",
    "\n",
    "- Patterns for bike rental numbers for working/non-working days are very similar between midnight and 5 am.\n",
    "- Patterns diverge between 5 am - midnight.\n",
    "- On work days, there are two big spikes in bike rentals peaking at 8 and 6 pm (before and after a 9-5 work day). Bimodal distribution.\n",
    "- On non-work days, bike rentals build gradually, peaking at noon. Unimodal distribution. The peak of the non-working day rental no. is equivalent to the trough between the two working day peaks.\n",
    "\n",
    "**Conclusion: People's commute to work may be a significant factor in bike rentals.**\n",
    "\n",
    "Next up: If work schedules impact bike rentals, we may see differences between registered and casual ridership patterns.\n",
    "\n",
    "### Plotting: Ridership vs. time of day"
   ]
  },
  {
   "cell_type": "code",
   "execution_count": 24,
   "metadata": {},
   "outputs": [
    {
     "data": {
      "image/png": "[encoded data removed]",
      "text/plain": [
       "<Figure size 432x288 with 1 Axes>"
      ]
     },
     "metadata": {
      "needs_background": "light"
     },
     "output_type": "display_data"
    },
    {
     "data": {
      "text/plain": [
       "<matplotlib.legend.Legend at 0x1a1f46ff90>"
      ]
     },
     "execution_count": 24,
     "metadata": {},
     "output_type": "execute_result"
    },
    {
     "data": {
      "image/png": "[encoded data removed]",
      "text/plain": [
       "<Figure size 432x288 with 1 Axes>"
      ]
     },
     "metadata": {
      "needs_background": "light"
     },
     "output_type": "display_data"
    }
   ],
   "source": [
    "# plot\n",
    "\n",
    "sns.barplot(x = 'hour', y = 'casual', data = hours, hue = 'workingday')\n",
    "plt.ylim(0, 150_000)\n",
    "plt.show()\n",
    "plt.close()\n",
    "\n",
    "sns.barplot(x = 'hour', y = 'registered', data = hours, hue = 'workingday')\n",
    "plt.ylim(0, 150_000)\n",
    "plt.legend()\n",
    "\n"
   ]
  },
  {
   "cell_type": "markdown",
   "metadata": {},
   "source": [
    "**Conclusions from these plots:**\n",
    "\n",
    "- Registered ridership dwarfs casual ridership.\n",
    "- The distribution pattern for non-working days is the same for registered and casual riders, though there are many more registered riders using bikes on non-working days (looks like a factor of about 10)."
   ]
  },
  {
   "cell_type": "markdown",
   "metadata": {},
   "source": [
    "### Plotting: Weather\n",
    "\n",
    "Look at how seasonal weather patterns affect total bike rentals. (No separation for now between casual and registered riders.)\n",
    "- Different plot for each season (easier to grasp); same x and y axis\n",
    "- For each season, plot relationship of rentals with:\n",
    "    - Weather (1, 2, 3, 4)\n",
    "    - Temperature (real and felt)\n",
    "    - Humidity"
   ]
  },
  {
   "cell_type": "code",
   "execution_count": 25,
   "metadata": {},
   "outputs": [
    {
     "data": {
      "text/html": [
       "<div>\n",
       "<style scoped>\n",
       "    .dataframe tbody tr th:only-of-type {\n",
       "        vertical-align: middle;\n",
       "    }\n",
       "\n",
       "    .dataframe tbody tr th {\n",
       "        vertical-align: top;\n",
       "    }\n",
       "\n",
       "    .dataframe thead th {\n",
       "        text-align: right;\n",
       "    }\n",
       "</style>\n",
       "<table border=\"1\" class=\"dataframe\">\n",
       "  <thead>\n",
       "    <tr style=\"text-align: right;\">\n",
       "      <th></th>\n",
       "      <th>season</th>\n",
       "      <th>weather</th>\n",
       "      <th>casual</th>\n",
       "      <th>registered</th>\n",
       "      <th>count</th>\n",
       "    </tr>\n",
       "  </thead>\n",
       "  <tbody>\n",
       "    <tr>\n",
       "      <th>0</th>\n",
       "      <td>1</td>\n",
       "      <td>1</td>\n",
       "      <td>16.946646</td>\n",
       "      <td>108.159299</td>\n",
       "      <td>125.105945</td>\n",
       "    </tr>\n",
       "    <tr>\n",
       "      <th>1</th>\n",
       "      <td>1</td>\n",
       "      <td>2</td>\n",
       "      <td>14.799618</td>\n",
       "      <td>95.375954</td>\n",
       "      <td>110.175573</td>\n",
       "    </tr>\n",
       "    <tr>\n",
       "      <th>2</th>\n",
       "      <td>1</td>\n",
       "      <td>3</td>\n",
       "      <td>3.488372</td>\n",
       "      <td>53.191860</td>\n",
       "      <td>56.680233</td>\n",
       "    </tr>\n",
       "    <tr>\n",
       "      <th>3</th>\n",
       "      <td>1</td>\n",
       "      <td>4</td>\n",
       "      <td>6.000000</td>\n",
       "      <td>158.000000</td>\n",
       "      <td>164.000000</td>\n",
       "    </tr>\n",
       "    <tr>\n",
       "      <th>4</th>\n",
       "      <td>2</td>\n",
       "      <td>1</td>\n",
       "      <td>53.259941</td>\n",
       "      <td>181.047128</td>\n",
       "      <td>234.307069</td>\n",
       "    </tr>\n",
       "    <tr>\n",
       "      <th>5</th>\n",
       "      <td>2</td>\n",
       "      <td>2</td>\n",
       "      <td>40.330813</td>\n",
       "      <td>150.274102</td>\n",
       "      <td>190.604915</td>\n",
       "    </tr>\n",
       "    <tr>\n",
       "      <th>6</th>\n",
       "      <td>2</td>\n",
       "      <td>3</td>\n",
       "      <td>21.244318</td>\n",
       "      <td>105.068182</td>\n",
       "      <td>126.312500</td>\n",
       "    </tr>\n",
       "    <tr>\n",
       "      <th>7</th>\n",
       "      <td>3</td>\n",
       "      <td>1</td>\n",
       "      <td>55.758978</td>\n",
       "      <td>189.830110</td>\n",
       "      <td>245.589088</td>\n",
       "    </tr>\n",
       "    <tr>\n",
       "      <th>8</th>\n",
       "      <td>3</td>\n",
       "      <td>2</td>\n",
       "      <td>48.920455</td>\n",
       "      <td>181.327273</td>\n",
       "      <td>230.247727</td>\n",
       "    </tr>\n",
       "    <tr>\n",
       "      <th>9</th>\n",
       "      <td>3</td>\n",
       "      <td>3</td>\n",
       "      <td>29.470199</td>\n",
       "      <td>119.198675</td>\n",
       "      <td>148.668874</td>\n",
       "    </tr>\n",
       "    <tr>\n",
       "      <th>10</th>\n",
       "      <td>4</td>\n",
       "      <td>1</td>\n",
       "      <td>34.189736</td>\n",
       "      <td>179.784603</td>\n",
       "      <td>213.974339</td>\n",
       "    </tr>\n",
       "    <tr>\n",
       "      <th>11</th>\n",
       "      <td>4</td>\n",
       "      <td>2</td>\n",
       "      <td>22.425461</td>\n",
       "      <td>173.569514</td>\n",
       "      <td>195.994975</td>\n",
       "    </tr>\n",
       "    <tr>\n",
       "      <th>12</th>\n",
       "      <td>4</td>\n",
       "      <td>3</td>\n",
       "      <td>13.888235</td>\n",
       "      <td>119.994118</td>\n",
       "      <td>133.882353</td>\n",
       "    </tr>\n",
       "  </tbody>\n",
       "</table>\n",
       "</div>"
      ],
      "text/plain": [
       "    season  weather     casual  registered       count\n",
       "0        1        1  16.946646  108.159299  125.105945\n",
       "1        1        2  14.799618   95.375954  110.175573\n",
       "2        1        3   3.488372   53.191860   56.680233\n",
       "3        1        4   6.000000  158.000000  164.000000\n",
       "4        2        1  53.259941  181.047128  234.307069\n",
       "5        2        2  40.330813  150.274102  190.604915\n",
       "6        2        3  21.244318  105.068182  126.312500\n",
       "7        3        1  55.758978  189.830110  245.589088\n",
       "8        3        2  48.920455  181.327273  230.247727\n",
       "9        3        3  29.470199  119.198675  148.668874\n",
       "10       4        1  34.189736  179.784603  213.974339\n",
       "11       4        2  22.425461  173.569514  195.994975\n",
       "12       4        3  13.888235  119.994118  133.882353"
      ]
     },
     "execution_count": 25,
     "metadata": {},
     "output_type": "execute_result"
    }
   ],
   "source": [
    "# Create df of mean rentals by season by weather\n",
    "\n",
    "weather = df.groupby(['season', 'weather']).mean()\n",
    "weather = weather[['casual', 'registered', 'count']]\n",
    "weather.reset_index(inplace = True)\n",
    "\n",
    "weather"
   ]
  },
  {
   "cell_type": "code",
   "execution_count": 26,
   "metadata": {},
   "outputs": [
    {
     "data": {
      "text/plain": [
       "season  weather\n",
       "1       1          1312\n",
       "        2           524\n",
       "        3           172\n",
       "        4             1\n",
       "2       1          1358\n",
       "        2           529\n",
       "        3           176\n",
       "3       1          1448\n",
       "        2           440\n",
       "        3           151\n",
       "4       1          1286\n",
       "        2           597\n",
       "        3           170\n",
       "Name: count, dtype: int64"
      ]
     },
     "execution_count": 26,
     "metadata": {},
     "output_type": "execute_result"
    }
   ],
   "source": [
    "df.groupby(['season', 'weather'])['count'].count()"
   ]
  },
  {
   "cell_type": "code",
   "execution_count": 27,
   "metadata": {},
   "outputs": [
    {
     "name": "stderr",
     "output_type": "stream",
     "text": [
      "/opt/anaconda3/lib/python3.7/site-packages/seaborn/axisgrid.py:728: UserWarning: Using the barplot function without specifying `order` is likely to produce an incorrect plot.\n",
      "  warnings.warn(warning)\n"
     ]
    },
    {
     "data": {
      "image/png": "[encoded data removed]",
      "text/plain": [
       "<Figure size 864x216 with 4 Axes>"
      ]
     },
     "metadata": {
      "needs_background": "light"
     },
     "output_type": "display_data"
    }
   ],
   "source": [
    "# Plotting: Weather\n",
    "\n",
    "g = sns.FacetGrid(weather, col = 'season', ylim = (0, 250))\n",
    "g = g.map(sns.barplot, 'weather', 'count')\n",
    "plt.show()"
   ]
  },
  {
   "cell_type": "code",
   "execution_count": 28,
   "metadata": {},
   "outputs": [
    {
     "name": "stderr",
     "output_type": "stream",
     "text": [
      "/opt/anaconda3/lib/python3.7/site-packages/seaborn/axisgrid.py:728: UserWarning: Using the barplot function without specifying `order` is likely to produce an incorrect plot.\n",
      "  warnings.warn(warning)\n"
     ]
    },
    {
     "data": {
      "image/png": "[encoded data removed]",
      "text/plain": [
       "<Figure size 864x216 with 4 Axes>"
      ]
     },
     "metadata": {
      "needs_background": "light"
     },
     "output_type": "display_data"
    },
    {
     "name": "stderr",
     "output_type": "stream",
     "text": [
      "/opt/anaconda3/lib/python3.7/site-packages/seaborn/axisgrid.py:728: UserWarning: Using the barplot function without specifying `order` is likely to produce an incorrect plot.\n",
      "  warnings.warn(warning)\n"
     ]
    },
    {
     "data": {
      "image/png": "[encoded data removed]",
      "text/plain": [
       "<Figure size 864x216 with 4 Axes>"
      ]
     },
     "metadata": {
      "needs_background": "light"
     },
     "output_type": "display_data"
    }
   ],
   "source": [
    "# Plotting: Weather II\n",
    "\n",
    "g = sns.FacetGrid(weather, col = 'season', ylim = (0, 250))\n",
    "g = g.map(sns.barplot, 'weather', 'casual')\n",
    "plt.show()\n",
    "\n",
    "g = sns.FacetGrid(weather, col = 'season', ylim = (0, 250))\n",
    "g = g.map(sns.barplot, 'weather', 'registered')"
   ]
  },
  {
   "cell_type": "markdown",
   "metadata": {},
   "source": [
    "Conclusions from these plots:\n",
    "- As we already know, casual ridership is really low\n",
    "- Across all seasons, the worse the weather (the higher the number) the lower, on average, the rentals in a given hour across the day\n",
    "- In this data set there is only one recorded instance of type 4 weather, so it is not shown in the bar plots"
   ]
  },
  {
   "cell_type": "markdown",
   "metadata": {},
   "source": [
    "#### Weather: Humidity\n",
    "\n",
    "My firsthand experience of the Mid-Atlantic suggests that humidity affects rental numbers differently across seasons. Specifically, high humidity in summer feels atrocious, and you wouldn't want to be out on a bike, but in the coldest season (spring), it doesn't especially matter. Let's find out!"
   ]
  },
  {
   "cell_type": "code",
   "execution_count": 29,
   "metadata": {},
   "outputs": [
    {
     "data": {
      "text/html": [
       "<div>\n",
       "<style scoped>\n",
       "    .dataframe tbody tr th:only-of-type {\n",
       "        vertical-align: middle;\n",
       "    }\n",
       "\n",
       "    .dataframe tbody tr th {\n",
       "        vertical-align: top;\n",
       "    }\n",
       "\n",
       "    .dataframe thead th {\n",
       "        text-align: right;\n",
       "    }\n",
       "</style>\n",
       "<table border=\"1\" class=\"dataframe\">\n",
       "  <thead>\n",
       "    <tr style=\"text-align: right;\">\n",
       "      <th></th>\n",
       "      <th>datetime</th>\n",
       "      <th>season</th>\n",
       "      <th>holiday</th>\n",
       "      <th>workingday</th>\n",
       "      <th>weather</th>\n",
       "      <th>temp</th>\n",
       "      <th>atemp</th>\n",
       "      <th>humidity</th>\n",
       "      <th>windspeed</th>\n",
       "      <th>casual</th>\n",
       "      <th>registered</th>\n",
       "      <th>count</th>\n",
       "      <th>hour</th>\n",
       "      <th>date</th>\n",
       "      <th>month</th>\n",
       "      <th>year</th>\n",
       "      <th>hum_bins</th>\n",
       "    </tr>\n",
       "  </thead>\n",
       "  <tbody>\n",
       "    <tr>\n",
       "      <th>0</th>\n",
       "      <td>2011-01-01 00:00:00</td>\n",
       "      <td>1</td>\n",
       "      <td>0</td>\n",
       "      <td>0</td>\n",
       "      <td>1</td>\n",
       "      <td>9.84</td>\n",
       "      <td>14.395</td>\n",
       "      <td>81</td>\n",
       "      <td>0.0</td>\n",
       "      <td>3</td>\n",
       "      <td>13</td>\n",
       "      <td>16</td>\n",
       "      <td>0</td>\n",
       "      <td>2011-01-01</td>\n",
       "      <td>1</td>\n",
       "      <td>2011</td>\n",
       "      <td>(80.1, 90.0]</td>\n",
       "    </tr>\n",
       "    <tr>\n",
       "      <th>1</th>\n",
       "      <td>2011-01-01 01:00:00</td>\n",
       "      <td>1</td>\n",
       "      <td>0</td>\n",
       "      <td>0</td>\n",
       "      <td>1</td>\n",
       "      <td>9.02</td>\n",
       "      <td>13.635</td>\n",
       "      <td>80</td>\n",
       "      <td>0.0</td>\n",
       "      <td>8</td>\n",
       "      <td>32</td>\n",
       "      <td>40</td>\n",
       "      <td>1</td>\n",
       "      <td>2011-01-01</td>\n",
       "      <td>1</td>\n",
       "      <td>2011</td>\n",
       "      <td>(70.1, 80.0]</td>\n",
       "    </tr>\n",
       "    <tr>\n",
       "      <th>2</th>\n",
       "      <td>2011-01-01 02:00:00</td>\n",
       "      <td>1</td>\n",
       "      <td>0</td>\n",
       "      <td>0</td>\n",
       "      <td>1</td>\n",
       "      <td>9.02</td>\n",
       "      <td>13.635</td>\n",
       "      <td>80</td>\n",
       "      <td>0.0</td>\n",
       "      <td>5</td>\n",
       "      <td>27</td>\n",
       "      <td>32</td>\n",
       "      <td>2</td>\n",
       "      <td>2011-01-01</td>\n",
       "      <td>1</td>\n",
       "      <td>2011</td>\n",
       "      <td>(70.1, 80.0]</td>\n",
       "    </tr>\n",
       "    <tr>\n",
       "      <th>3</th>\n",
       "      <td>2011-01-01 03:00:00</td>\n",
       "      <td>1</td>\n",
       "      <td>0</td>\n",
       "      <td>0</td>\n",
       "      <td>1</td>\n",
       "      <td>9.84</td>\n",
       "      <td>14.395</td>\n",
       "      <td>75</td>\n",
       "      <td>0.0</td>\n",
       "      <td>3</td>\n",
       "      <td>10</td>\n",
       "      <td>13</td>\n",
       "      <td>3</td>\n",
       "      <td>2011-01-01</td>\n",
       "      <td>1</td>\n",
       "      <td>2011</td>\n",
       "      <td>(70.1, 80.0]</td>\n",
       "    </tr>\n",
       "    <tr>\n",
       "      <th>4</th>\n",
       "      <td>2011-01-01 04:00:00</td>\n",
       "      <td>1</td>\n",
       "      <td>0</td>\n",
       "      <td>0</td>\n",
       "      <td>1</td>\n",
       "      <td>9.84</td>\n",
       "      <td>14.395</td>\n",
       "      <td>75</td>\n",
       "      <td>0.0</td>\n",
       "      <td>0</td>\n",
       "      <td>1</td>\n",
       "      <td>1</td>\n",
       "      <td>4</td>\n",
       "      <td>2011-01-01</td>\n",
       "      <td>1</td>\n",
       "      <td>2011</td>\n",
       "      <td>(70.1, 80.0]</td>\n",
       "    </tr>\n",
       "  </tbody>\n",
       "</table>\n",
       "</div>"
      ],
      "text/plain": [
       "              datetime  season  holiday  workingday  weather  temp   atemp  \\\n",
       "0  2011-01-01 00:00:00       1        0           0        1  9.84  14.395   \n",
       "1  2011-01-01 01:00:00       1        0           0        1  9.02  13.635   \n",
       "2  2011-01-01 02:00:00       1        0           0        1  9.02  13.635   \n",
       "3  2011-01-01 03:00:00       1        0           0        1  9.84  14.395   \n",
       "4  2011-01-01 04:00:00       1        0           0        1  9.84  14.395   \n",
       "\n",
       "   humidity  windspeed  casual  registered  count  hour        date  month  \\\n",
       "0        81        0.0       3          13     16     0  2011-01-01      1   \n",
       "1        80        0.0       8          32     40     1  2011-01-01      1   \n",
       "2        80        0.0       5          27     32     2  2011-01-01      1   \n",
       "3        75        0.0       3          10     13     3  2011-01-01      1   \n",
       "4        75        0.0       0           1      1     4  2011-01-01      1   \n",
       "\n",
       "   year      hum_bins  \n",
       "0  2011  (80.1, 90.0]  \n",
       "1  2011  (70.1, 80.0]  \n",
       "2  2011  (70.1, 80.0]  \n",
       "3  2011  (70.1, 80.0]  \n",
       "4  2011  (70.1, 80.0]  "
      ]
     },
     "execution_count": 29,
     "metadata": {},
     "output_type": "execute_result"
    }
   ],
   "source": [
    "# Create a new column binning humidity\n",
    "\n",
    "bins = pd.IntervalIndex.from_tuples([(0, 10), (10.1, 20), (20.1, 30), (30.1, 40), (40.1, 50), (50.1, 60), (60.1, 70), (70.1, 80), (80.1, 90), (90.1, 100)])\n",
    "\n",
    "labels = ['>= 10', '>= 20', '>= 30', '>= 40', '>= 50', '>= 60', '>= 70', '>= 80', '>= 90', '>= 100']\n",
    "\n",
    "df['hum_bins'] = pd.cut(df['humidity'], bins)\n",
    "\n",
    "df.head()"
   ]
  },
  {
   "cell_type": "code",
   "execution_count": 30,
   "metadata": {},
   "outputs": [
    {
     "data": {
      "text/html": [
       "<div>\n",
       "<style scoped>\n",
       "    .dataframe tbody tr th:only-of-type {\n",
       "        vertical-align: middle;\n",
       "    }\n",
       "\n",
       "    .dataframe tbody tr th {\n",
       "        vertical-align: top;\n",
       "    }\n",
       "\n",
       "    .dataframe thead th {\n",
       "        text-align: right;\n",
       "    }\n",
       "</style>\n",
       "<table border=\"1\" class=\"dataframe\">\n",
       "  <thead>\n",
       "    <tr style=\"text-align: right;\">\n",
       "      <th></th>\n",
       "      <th>season</th>\n",
       "      <th>hum_bins</th>\n",
       "      <th>count</th>\n",
       "      <th>casual</th>\n",
       "      <th>registered</th>\n",
       "    </tr>\n",
       "  </thead>\n",
       "  <tbody>\n",
       "    <tr>\n",
       "      <th>0</th>\n",
       "      <td>1</td>\n",
       "      <td>(0.0, 10.0]</td>\n",
       "      <td>77.000000</td>\n",
       "      <td>16.000000</td>\n",
       "      <td>61.000000</td>\n",
       "    </tr>\n",
       "    <tr>\n",
       "      <th>1</th>\n",
       "      <td>1</td>\n",
       "      <td>(10.1, 20.0]</td>\n",
       "      <td>79.315789</td>\n",
       "      <td>22.578947</td>\n",
       "      <td>56.736842</td>\n",
       "    </tr>\n",
       "    <tr>\n",
       "      <th>2</th>\n",
       "      <td>1</td>\n",
       "      <td>(20.1, 30.0]</td>\n",
       "      <td>172.735294</td>\n",
       "      <td>30.872549</td>\n",
       "      <td>141.862745</td>\n",
       "    </tr>\n",
       "    <tr>\n",
       "      <th>3</th>\n",
       "      <td>1</td>\n",
       "      <td>(30.1, 40.0]</td>\n",
       "      <td>160.070588</td>\n",
       "      <td>22.555882</td>\n",
       "      <td>137.514706</td>\n",
       "    </tr>\n",
       "    <tr>\n",
       "      <th>4</th>\n",
       "      <td>1</td>\n",
       "      <td>(40.1, 50.0]</td>\n",
       "      <td>116.678571</td>\n",
       "      <td>15.576190</td>\n",
       "      <td>101.102381</td>\n",
       "    </tr>\n",
       "  </tbody>\n",
       "</table>\n",
       "</div>"
      ],
      "text/plain": [
       "   season      hum_bins       count     casual  registered\n",
       "0       1   (0.0, 10.0]   77.000000  16.000000   61.000000\n",
       "1       1  (10.1, 20.0]   79.315789  22.578947   56.736842\n",
       "2       1  (20.1, 30.0]  172.735294  30.872549  141.862745\n",
       "3       1  (30.1, 40.0]  160.070588  22.555882  137.514706\n",
       "4       1  (40.1, 50.0]  116.678571  15.576190  101.102381"
      ]
     },
     "execution_count": 30,
     "metadata": {},
     "output_type": "execute_result"
    }
   ],
   "source": [
    "# Now must average across humidity bins\n",
    "\n",
    "humid = df.groupby(['season', 'hum_bins']).mean()\n",
    "humid = humid[['count', 'casual', 'registered']]\n",
    "\n",
    "humid = humid.reset_index()\n",
    "\n",
    "humid.head()"
   ]
  },
  {
   "cell_type": "code",
   "execution_count": 31,
   "metadata": {},
   "outputs": [
    {
     "name": "stdout",
     "output_type": "stream",
     "text": [
      "53.53900709219858\n",
      "423.0\n"
     ]
    }
   ],
   "source": [
    "# find out max and min values so we can set y limits\n",
    "\n",
    "print(humid['count'].min())\n",
    "print(humid['count'].max())"
   ]
  },
  {
   "cell_type": "code",
   "execution_count": 32,
   "metadata": {},
   "outputs": [
    {
     "name": "stderr",
     "output_type": "stream",
     "text": [
      "/opt/anaconda3/lib/python3.7/site-packages/seaborn/axisgrid.py:728: UserWarning: Using the barplot function without specifying `order` is likely to produce an incorrect plot.\n",
      "  warnings.warn(warning)\n"
     ]
    },
    {
     "data": {
      "image/png": "[encoded data removed]",
      "text/plain": [
       "<Figure size 864x216 with 4 Axes>"
      ]
     },
     "metadata": {
      "needs_background": "light"
     },
     "output_type": "display_data"
    }
   ],
   "source": [
    "# Plotting humidity\n",
    "\n",
    "g = sns.FacetGrid(humid, col = 'season', ylim = (0, 500))\n",
    "g = g.map(sns.barplot, 'hum_bins', 'count')\n",
    "plt.show()"
   ]
  },
  {
   "cell_type": "code",
   "execution_count": 33,
   "metadata": {},
   "outputs": [
    {
     "name": "stderr",
     "output_type": "stream",
     "text": [
      "/opt/anaconda3/lib/python3.7/site-packages/seaborn/axisgrid.py:728: UserWarning: Using the barplot function without specifying `order` is likely to produce an incorrect plot.\n",
      "  warnings.warn(warning)\n"
     ]
    },
    {
     "data": {
      "image/png": "[encoded data removed]",
      "text/plain": [
       "<Figure size 864x216 with 4 Axes>"
      ]
     },
     "metadata": {
      "needs_background": "light"
     },
     "output_type": "display_data"
    },
    {
     "name": "stderr",
     "output_type": "stream",
     "text": [
      "/opt/anaconda3/lib/python3.7/site-packages/seaborn/axisgrid.py:728: UserWarning: Using the barplot function without specifying `order` is likely to produce an incorrect plot.\n",
      "  warnings.warn(warning)\n"
     ]
    },
    {
     "data": {
      "image/png": "[encoded data removed]",
      "text/plain": [
       "<Figure size 864x216 with 4 Axes>"
      ]
     },
     "metadata": {
      "needs_background": "light"
     },
     "output_type": "display_data"
    }
   ],
   "source": [
    "# Plotting humidity by ridership\n",
    "\n",
    "g = sns.FacetGrid(humid, col = 'season', ylim = (0, 300))\n",
    "g = g.map(sns.barplot, 'hum_bins', 'casual')\n",
    "plt.show()\n",
    "\n",
    "g = sns.FacetGrid(humid, col = 'season', ylim = (0, 300))\n",
    "g = g.map(sns.barplot, 'hum_bins', 'registered')\n",
    "plt.show()"
   ]
  },
  {
   "cell_type": "markdown",
   "metadata": {},
   "source": [
    "Conclusions from these data:\n",
    "\n",
    "- Across both ridership types, there is little relationship between humidity and rentals in spring.\n",
    "- However, across both ridership types, rentals decrease as humidity rises.\n",
    "- This is as I predicted."
   ]
  },
  {
   "cell_type": "markdown",
   "metadata": {},
   "source": [
    "#### Weather: Temperature"
   ]
  },
  {
   "cell_type": "code",
   "execution_count": 34,
   "metadata": {},
   "outputs": [
    {
     "name": "stdout",
     "output_type": "stream",
     "text": [
      "temp\n",
      "0.82\n",
      "41.0\n",
      "atemp\n",
      "0.76\n",
      "44.695\n"
     ]
    }
   ],
   "source": [
    "# find out min and max values for temp and atemp\n",
    "\n",
    "temps = ['temp', 'atemp']\n",
    "\n",
    "for i in temps:\n",
    "    print(i)\n",
    "    print(df[i].min())\n",
    "    print(df[i].max())"
   ]
  },
  {
   "cell_type": "code",
   "execution_count": 35,
   "metadata": {},
   "outputs": [
    {
     "data": {
      "text/html": [
       "<div>\n",
       "<style scoped>\n",
       "    .dataframe tbody tr th:only-of-type {\n",
       "        vertical-align: middle;\n",
       "    }\n",
       "\n",
       "    .dataframe tbody tr th {\n",
       "        vertical-align: top;\n",
       "    }\n",
       "\n",
       "    .dataframe thead th {\n",
       "        text-align: right;\n",
       "    }\n",
       "</style>\n",
       "<table border=\"1\" class=\"dataframe\">\n",
       "  <thead>\n",
       "    <tr style=\"text-align: right;\">\n",
       "      <th></th>\n",
       "      <th>datetime</th>\n",
       "      <th>season</th>\n",
       "      <th>holiday</th>\n",
       "      <th>workingday</th>\n",
       "      <th>weather</th>\n",
       "      <th>temp</th>\n",
       "      <th>atemp</th>\n",
       "      <th>humidity</th>\n",
       "      <th>windspeed</th>\n",
       "      <th>casual</th>\n",
       "      <th>registered</th>\n",
       "      <th>count</th>\n",
       "      <th>hour</th>\n",
       "      <th>date</th>\n",
       "      <th>month</th>\n",
       "      <th>year</th>\n",
       "      <th>hum_bins</th>\n",
       "      <th>temp_bins</th>\n",
       "      <th>atemp_bins</th>\n",
       "    </tr>\n",
       "  </thead>\n",
       "  <tbody>\n",
       "    <tr>\n",
       "      <th>0</th>\n",
       "      <td>2011-01-01 00:00:00</td>\n",
       "      <td>1</td>\n",
       "      <td>0</td>\n",
       "      <td>0</td>\n",
       "      <td>1</td>\n",
       "      <td>9.84</td>\n",
       "      <td>14.395</td>\n",
       "      <td>81</td>\n",
       "      <td>0.0</td>\n",
       "      <td>3</td>\n",
       "      <td>13</td>\n",
       "      <td>16</td>\n",
       "      <td>0</td>\n",
       "      <td>2011-01-01</td>\n",
       "      <td>1</td>\n",
       "      <td>2011</td>\n",
       "      <td>(80.1, 90.0]</td>\n",
       "      <td>(0.0, 10.0]</td>\n",
       "      <td>(10.1, 20.0]</td>\n",
       "    </tr>\n",
       "    <tr>\n",
       "      <th>1</th>\n",
       "      <td>2011-01-01 01:00:00</td>\n",
       "      <td>1</td>\n",
       "      <td>0</td>\n",
       "      <td>0</td>\n",
       "      <td>1</td>\n",
       "      <td>9.02</td>\n",
       "      <td>13.635</td>\n",
       "      <td>80</td>\n",
       "      <td>0.0</td>\n",
       "      <td>8</td>\n",
       "      <td>32</td>\n",
       "      <td>40</td>\n",
       "      <td>1</td>\n",
       "      <td>2011-01-01</td>\n",
       "      <td>1</td>\n",
       "      <td>2011</td>\n",
       "      <td>(70.1, 80.0]</td>\n",
       "      <td>(0.0, 10.0]</td>\n",
       "      <td>(10.1, 20.0]</td>\n",
       "    </tr>\n",
       "    <tr>\n",
       "      <th>2</th>\n",
       "      <td>2011-01-01 02:00:00</td>\n",
       "      <td>1</td>\n",
       "      <td>0</td>\n",
       "      <td>0</td>\n",
       "      <td>1</td>\n",
       "      <td>9.02</td>\n",
       "      <td>13.635</td>\n",
       "      <td>80</td>\n",
       "      <td>0.0</td>\n",
       "      <td>5</td>\n",
       "      <td>27</td>\n",
       "      <td>32</td>\n",
       "      <td>2</td>\n",
       "      <td>2011-01-01</td>\n",
       "      <td>1</td>\n",
       "      <td>2011</td>\n",
       "      <td>(70.1, 80.0]</td>\n",
       "      <td>(0.0, 10.0]</td>\n",
       "      <td>(10.1, 20.0]</td>\n",
       "    </tr>\n",
       "    <tr>\n",
       "      <th>3</th>\n",
       "      <td>2011-01-01 03:00:00</td>\n",
       "      <td>1</td>\n",
       "      <td>0</td>\n",
       "      <td>0</td>\n",
       "      <td>1</td>\n",
       "      <td>9.84</td>\n",
       "      <td>14.395</td>\n",
       "      <td>75</td>\n",
       "      <td>0.0</td>\n",
       "      <td>3</td>\n",
       "      <td>10</td>\n",
       "      <td>13</td>\n",
       "      <td>3</td>\n",
       "      <td>2011-01-01</td>\n",
       "      <td>1</td>\n",
       "      <td>2011</td>\n",
       "      <td>(70.1, 80.0]</td>\n",
       "      <td>(0.0, 10.0]</td>\n",
       "      <td>(10.1, 20.0]</td>\n",
       "    </tr>\n",
       "    <tr>\n",
       "      <th>4</th>\n",
       "      <td>2011-01-01 04:00:00</td>\n",
       "      <td>1</td>\n",
       "      <td>0</td>\n",
       "      <td>0</td>\n",
       "      <td>1</td>\n",
       "      <td>9.84</td>\n",
       "      <td>14.395</td>\n",
       "      <td>75</td>\n",
       "      <td>0.0</td>\n",
       "      <td>0</td>\n",
       "      <td>1</td>\n",
       "      <td>1</td>\n",
       "      <td>4</td>\n",
       "      <td>2011-01-01</td>\n",
       "      <td>1</td>\n",
       "      <td>2011</td>\n",
       "      <td>(70.1, 80.0]</td>\n",
       "      <td>(0.0, 10.0]</td>\n",
       "      <td>(10.1, 20.0]</td>\n",
       "    </tr>\n",
       "  </tbody>\n",
       "</table>\n",
       "</div>"
      ],
      "text/plain": [
       "              datetime  season  holiday  workingday  weather  temp   atemp  \\\n",
       "0  2011-01-01 00:00:00       1        0           0        1  9.84  14.395   \n",
       "1  2011-01-01 01:00:00       1        0           0        1  9.02  13.635   \n",
       "2  2011-01-01 02:00:00       1        0           0        1  9.02  13.635   \n",
       "3  2011-01-01 03:00:00       1        0           0        1  9.84  14.395   \n",
       "4  2011-01-01 04:00:00       1        0           0        1  9.84  14.395   \n",
       "\n",
       "   humidity  windspeed  casual  registered  count  hour        date  month  \\\n",
       "0        81        0.0       3          13     16     0  2011-01-01      1   \n",
       "1        80        0.0       8          32     40     1  2011-01-01      1   \n",
       "2        80        0.0       5          27     32     2  2011-01-01      1   \n",
       "3        75        0.0       3          10     13     3  2011-01-01      1   \n",
       "4        75        0.0       0           1      1     4  2011-01-01      1   \n",
       "\n",
       "   year      hum_bins    temp_bins    atemp_bins  \n",
       "0  2011  (80.1, 90.0]  (0.0, 10.0]  (10.1, 20.0]  \n",
       "1  2011  (70.1, 80.0]  (0.0, 10.0]  (10.1, 20.0]  \n",
       "2  2011  (70.1, 80.0]  (0.0, 10.0]  (10.1, 20.0]  \n",
       "3  2011  (70.1, 80.0]  (0.0, 10.0]  (10.1, 20.0]  \n",
       "4  2011  (70.1, 80.0]  (0.0, 10.0]  (10.1, 20.0]  "
      ]
     },
     "execution_count": 35,
     "metadata": {},
     "output_type": "execute_result"
    }
   ],
   "source": [
    "# Like for humidity, let's bin temp and atemp\n",
    "\n",
    "bins_temp = pd.IntervalIndex.from_tuples([(0, 10), (10.1, 20), (20.1, 30), (30.1, 40), (40.1, 50)])\n",
    "\n",
    "labels = ['10', '20', '30', '40', '50']\n",
    "\n",
    "# it's the same bins and labels for the two kinds of temperature, so recycle the bins and labels\n",
    "df['temp_bins'] = pd.cut(df['temp'], bins_temp)\n",
    "df['atemp_bins'] = pd.cut(df['atemp'], bins_temp)\n",
    "\n",
    "df.head()"
   ]
  },
  {
   "cell_type": "code",
   "execution_count": 36,
   "metadata": {},
   "outputs": [
    {
     "data": {
      "text/html": [
       "<div>\n",
       "<style scoped>\n",
       "    .dataframe tbody tr th:only-of-type {\n",
       "        vertical-align: middle;\n",
       "    }\n",
       "\n",
       "    .dataframe tbody tr th {\n",
       "        vertical-align: top;\n",
       "    }\n",
       "\n",
       "    .dataframe thead th {\n",
       "        text-align: right;\n",
       "    }\n",
       "</style>\n",
       "<table border=\"1\" class=\"dataframe\">\n",
       "  <thead>\n",
       "    <tr style=\"text-align: right;\">\n",
       "      <th></th>\n",
       "      <th>season</th>\n",
       "      <th>temp_bins</th>\n",
       "      <th>count</th>\n",
       "      <th>casual</th>\n",
       "      <th>registered</th>\n",
       "    </tr>\n",
       "  </thead>\n",
       "  <tbody>\n",
       "    <tr>\n",
       "      <th>0</th>\n",
       "      <td>1</td>\n",
       "      <td>(0.0, 10.0]</td>\n",
       "      <td>68.293436</td>\n",
       "      <td>3.803089</td>\n",
       "      <td>64.490347</td>\n",
       "    </tr>\n",
       "    <tr>\n",
       "      <th>1</th>\n",
       "      <td>1</td>\n",
       "      <td>(10.1, 20.0]</td>\n",
       "      <td>127.365922</td>\n",
       "      <td>17.042831</td>\n",
       "      <td>110.323091</td>\n",
       "    </tr>\n",
       "    <tr>\n",
       "      <th>2</th>\n",
       "      <td>1</td>\n",
       "      <td>(20.1, 30.0]</td>\n",
       "      <td>265.373418</td>\n",
       "      <td>59.088608</td>\n",
       "      <td>206.284810</td>\n",
       "    </tr>\n",
       "    <tr>\n",
       "      <th>3</th>\n",
       "      <td>1</td>\n",
       "      <td>(30.1, 40.0]</td>\n",
       "      <td>NaN</td>\n",
       "      <td>NaN</td>\n",
       "      <td>NaN</td>\n",
       "    </tr>\n",
       "    <tr>\n",
       "      <th>4</th>\n",
       "      <td>1</td>\n",
       "      <td>(40.1, 50.0]</td>\n",
       "      <td>NaN</td>\n",
       "      <td>NaN</td>\n",
       "      <td>NaN</td>\n",
       "    </tr>\n",
       "  </tbody>\n",
       "</table>\n",
       "</div>"
      ],
      "text/plain": [
       "   season     temp_bins       count     casual  registered\n",
       "0       1   (0.0, 10.0]   68.293436   3.803089   64.490347\n",
       "1       1  (10.1, 20.0]  127.365922  17.042831  110.323091\n",
       "2       1  (20.1, 30.0]  265.373418  59.088608  206.284810\n",
       "3       1  (30.1, 40.0]         NaN        NaN         NaN\n",
       "4       1  (40.1, 50.0]         NaN        NaN         NaN"
      ]
     },
     "execution_count": 36,
     "metadata": {},
     "output_type": "execute_result"
    }
   ],
   "source": [
    "# New dfs that average across bins\n",
    "\n",
    "# temp\n",
    "df_temp = df.groupby(['season', 'temp_bins']).mean()\n",
    "\n",
    "df_temp = df_temp[['count', 'casual', 'registered']]\n",
    "\n",
    "df_temp.reset_index(inplace = True)\n",
    "\n",
    "df_temp.head()"
   ]
  },
  {
   "cell_type": "code",
   "execution_count": 37,
   "metadata": {},
   "outputs": [
    {
     "data": {
      "text/html": [
       "<div>\n",
       "<style scoped>\n",
       "    .dataframe tbody tr th:only-of-type {\n",
       "        vertical-align: middle;\n",
       "    }\n",
       "\n",
       "    .dataframe tbody tr th {\n",
       "        vertical-align: top;\n",
       "    }\n",
       "\n",
       "    .dataframe thead th {\n",
       "        text-align: right;\n",
       "    }\n",
       "</style>\n",
       "<table border=\"1\" class=\"dataframe\">\n",
       "  <thead>\n",
       "    <tr style=\"text-align: right;\">\n",
       "      <th></th>\n",
       "      <th>season</th>\n",
       "      <th>atemp_bins</th>\n",
       "      <th>count</th>\n",
       "      <th>casual</th>\n",
       "      <th>registered</th>\n",
       "    </tr>\n",
       "  </thead>\n",
       "  <tbody>\n",
       "    <tr>\n",
       "      <th>0</th>\n",
       "      <td>1</td>\n",
       "      <td>(0.0, 10.0]</td>\n",
       "      <td>64.326877</td>\n",
       "      <td>3.121065</td>\n",
       "      <td>61.205811</td>\n",
       "    </tr>\n",
       "    <tr>\n",
       "      <th>1</th>\n",
       "      <td>1</td>\n",
       "      <td>(10.1, 20.0]</td>\n",
       "      <td>98.999081</td>\n",
       "      <td>9.537684</td>\n",
       "      <td>89.461397</td>\n",
       "    </tr>\n",
       "    <tr>\n",
       "      <th>2</th>\n",
       "      <td>1</td>\n",
       "      <td>(20.1, 30.0]</td>\n",
       "      <td>176.868709</td>\n",
       "      <td>34.054705</td>\n",
       "      <td>142.814004</td>\n",
       "    </tr>\n",
       "    <tr>\n",
       "      <th>3</th>\n",
       "      <td>1</td>\n",
       "      <td>(30.1, 40.0]</td>\n",
       "      <td>327.000000</td>\n",
       "      <td>66.000000</td>\n",
       "      <td>261.000000</td>\n",
       "    </tr>\n",
       "    <tr>\n",
       "      <th>4</th>\n",
       "      <td>1</td>\n",
       "      <td>(40.1, 50.0]</td>\n",
       "      <td>NaN</td>\n",
       "      <td>NaN</td>\n",
       "      <td>NaN</td>\n",
       "    </tr>\n",
       "  </tbody>\n",
       "</table>\n",
       "</div>"
      ],
      "text/plain": [
       "   season    atemp_bins       count     casual  registered\n",
       "0       1   (0.0, 10.0]   64.326877   3.121065   61.205811\n",
       "1       1  (10.1, 20.0]   98.999081   9.537684   89.461397\n",
       "2       1  (20.1, 30.0]  176.868709  34.054705  142.814004\n",
       "3       1  (30.1, 40.0]  327.000000  66.000000  261.000000\n",
       "4       1  (40.1, 50.0]         NaN        NaN         NaN"
      ]
     },
     "execution_count": 37,
     "metadata": {},
     "output_type": "execute_result"
    }
   ],
   "source": [
    "# same for atemp\n",
    "\n",
    "df_Atemp = df.groupby(['season', 'atemp_bins']).mean()\n",
    "\n",
    "df_Atemp = df_Atemp[['count', 'casual', 'registered']]\n",
    "\n",
    "df_Atemp.reset_index(inplace = True)\n",
    "\n",
    "df_Atemp.head()"
   ]
  },
  {
   "cell_type": "code",
   "execution_count": 38,
   "metadata": {},
   "outputs": [
    {
     "name": "stderr",
     "output_type": "stream",
     "text": [
      "/opt/anaconda3/lib/python3.7/site-packages/seaborn/axisgrid.py:728: UserWarning: Using the barplot function without specifying `order` is likely to produce an incorrect plot.\n",
      "  warnings.warn(warning)\n"
     ]
    },
    {
     "data": {
      "image/png": "[encoded data removed]",
      "text/plain": [
       "<Figure size 864x216 with 4 Axes>"
      ]
     },
     "metadata": {
      "needs_background": "light"
     },
     "output_type": "display_data"
    }
   ],
   "source": [
    "# Plotting temperature: Real temp\n",
    "\n",
    "g = sns.FacetGrid(df_temp, col = 'season', ylim = (0, 500))\n",
    "g = g.map(sns.barplot, 'temp_bins', 'count')\n",
    "plt.show()"
   ]
  },
  {
   "cell_type": "code",
   "execution_count": 39,
   "metadata": {},
   "outputs": [
    {
     "name": "stderr",
     "output_type": "stream",
     "text": [
      "/opt/anaconda3/lib/python3.7/site-packages/seaborn/axisgrid.py:728: UserWarning: Using the barplot function without specifying `order` is likely to produce an incorrect plot.\n",
      "  warnings.warn(warning)\n"
     ]
    },
    {
     "data": {
      "image/png": "[encoded data removed]",
      "text/plain": [
       "<Figure size 864x216 with 4 Axes>"
      ]
     },
     "metadata": {
      "needs_background": "light"
     },
     "output_type": "display_data"
    }
   ],
   "source": [
    "# Plotting temperature: Felt temp\n",
    "\n",
    "g = sns.FacetGrid(df_Atemp, col = 'season', ylim = (0, 500))\n",
    "g = g.map(sns.barplot, 'atemp_bins', 'count')\n",
    "plt.show()"
   ]
  },
  {
   "cell_type": "markdown",
   "metadata": {},
   "source": [
    "#### Weather plotting: Wind speed\n",
    "\n",
    "I'm again going to plot wind speed separately by season. A strong wind is probably unpleasant no matter what the temperature, but more moderate wind speeds may vary in their effect as to whether they are warm or cold winds."
   ]
  },
  {
   "cell_type": "code",
   "execution_count": 40,
   "metadata": {},
   "outputs": [
    {
     "data": {
      "text/plain": [
       "count    8164.000000\n",
       "mean       12.788877\n",
       "std         8.085933\n",
       "min         0.000000\n",
       "25%         7.001500\n",
       "50%        12.998000\n",
       "75%        16.997900\n",
       "max        50.002100\n",
       "Name: windspeed, dtype: float64"
      ]
     },
     "execution_count": 40,
     "metadata": {},
     "output_type": "execute_result"
    }
   ],
   "source": [
    "# What are the highest and lowest wind speeds?\n",
    "\n",
    "df['windspeed'].describe()"
   ]
  },
  {
   "cell_type": "code",
   "execution_count": 41,
   "metadata": {},
   "outputs": [
    {
     "data": {
      "image/png": "[encoded data removed]",
      "text/plain": [
       "<Figure size 864x216 with 4 Axes>"
      ]
     },
     "metadata": {
      "needs_background": "light"
     },
     "output_type": "display_data"
    }
   ],
   "source": [
    "# Get a sense of the distribution of wind speeds in each season\n",
    "\n",
    "g = sns.FacetGrid(df, col = 'season', ylim = (0, 1_000))\n",
    "g = g.map(plt.hist, 'windspeed')\n",
    "plt.show()"
   ]
  },
  {
   "cell_type": "markdown",
   "metadata": {},
   "source": [
    "We see that the shape of the distribution of wind speeds doesn't differ all that much between the different seasons. In order to get much out of plotting wind speed against rental counts, I'll bin them."
   ]
  },
  {
   "cell_type": "code",
   "execution_count": 42,
   "metadata": {},
   "outputs": [
    {
     "data": {
      "text/html": [
       "<div>\n",
       "<style scoped>\n",
       "    .dataframe tbody tr th:only-of-type {\n",
       "        vertical-align: middle;\n",
       "    }\n",
       "\n",
       "    .dataframe tbody tr th {\n",
       "        vertical-align: top;\n",
       "    }\n",
       "\n",
       "    .dataframe thead th {\n",
       "        text-align: right;\n",
       "    }\n",
       "</style>\n",
       "<table border=\"1\" class=\"dataframe\">\n",
       "  <thead>\n",
       "    <tr style=\"text-align: right;\">\n",
       "      <th></th>\n",
       "      <th>season</th>\n",
       "      <th>wind_bins</th>\n",
       "      <th>count</th>\n",
       "      <th>casual</th>\n",
       "      <th>registered</th>\n",
       "    </tr>\n",
       "  </thead>\n",
       "  <tbody>\n",
       "    <tr>\n",
       "      <th>0</th>\n",
       "      <td>1</td>\n",
       "      <td>(-0.1, 10.0]</td>\n",
       "      <td>99.154993</td>\n",
       "      <td>11.494784</td>\n",
       "      <td>87.660209</td>\n",
       "    </tr>\n",
       "    <tr>\n",
       "      <th>1</th>\n",
       "      <td>1</td>\n",
       "      <td>(10.1, 20.0]</td>\n",
       "      <td>122.617582</td>\n",
       "      <td>17.156044</td>\n",
       "      <td>105.461538</td>\n",
       "    </tr>\n",
       "    <tr>\n",
       "      <th>2</th>\n",
       "      <td>1</td>\n",
       "      <td>(20.1, 30.0]</td>\n",
       "      <td>123.032491</td>\n",
       "      <td>17.891697</td>\n",
       "      <td>105.140794</td>\n",
       "    </tr>\n",
       "    <tr>\n",
       "      <th>3</th>\n",
       "      <td>1</td>\n",
       "      <td>(30.1, 40.0]</td>\n",
       "      <td>120.425743</td>\n",
       "      <td>13.584158</td>\n",
       "      <td>106.841584</td>\n",
       "    </tr>\n",
       "    <tr>\n",
       "      <th>4</th>\n",
       "      <td>1</td>\n",
       "      <td>(40.1, 50.0]</td>\n",
       "      <td>142.444444</td>\n",
       "      <td>17.666667</td>\n",
       "      <td>124.777778</td>\n",
       "    </tr>\n",
       "  </tbody>\n",
       "</table>\n",
       "</div>"
      ],
      "text/plain": [
       "   season     wind_bins       count     casual  registered\n",
       "0       1  (-0.1, 10.0]   99.154993  11.494784   87.660209\n",
       "1       1  (10.1, 20.0]  122.617582  17.156044  105.461538\n",
       "2       1  (20.1, 30.0]  123.032491  17.891697  105.140794\n",
       "3       1  (30.1, 40.0]  120.425743  13.584158  106.841584\n",
       "4       1  (40.1, 50.0]  142.444444  17.666667  124.777778"
      ]
     },
     "execution_count": 42,
     "metadata": {},
     "output_type": "execute_result"
    }
   ],
   "source": [
    "# Binning for wind speed\n",
    "\n",
    "# need to define some new bins\n",
    "bins_wind = pd.IntervalIndex.from_tuples([(-0.1, 10), (10.1, 20), (20.1, 30), (30.1, 40), (40.1, 50), (50.1, 60)])\n",
    "\n",
    "# create bins in new column\n",
    "\n",
    "df['wind_bins'] = pd.cut(df['windspeed'], bins_wind)\n",
    "\n",
    "# new df which averages within bins\n",
    "\n",
    "df_wind = df.groupby(['season', 'wind_bins']).mean()\n",
    "\n",
    "df_wind = df_wind[['count', 'casual', 'registered']]\n",
    "\n",
    "df_wind.reset_index(inplace = True)\n",
    "\n",
    "df_wind.head()"
   ]
  },
  {
   "cell_type": "code",
   "execution_count": 43,
   "metadata": {},
   "outputs": [
    {
     "name": "stderr",
     "output_type": "stream",
     "text": [
      "/opt/anaconda3/lib/python3.7/site-packages/seaborn/axisgrid.py:728: UserWarning: Using the barplot function without specifying `order` is likely to produce an incorrect plot.\n",
      "  warnings.warn(warning)\n"
     ]
    },
    {
     "data": {
      "image/png": "[encoded data removed]",
      "text/plain": [
       "<Figure size 864x216 with 4 Axes>"
      ]
     },
     "metadata": {
      "needs_background": "light"
     },
     "output_type": "display_data"
    }
   ],
   "source": [
    "# Plotting wind speeds across seasons\n",
    "\n",
    "g = sns.FacetGrid(df_wind, col = 'season', ylim = (0, 500))\n",
    "g = g.map(sns.barplot, 'wind_bins', 'count')\n",
    "plt.show()"
   ]
  },
  {
   "cell_type": "markdown",
   "metadata": {},
   "source": [
    "### Conclusions from data exploration\n",
    "\n",
    "What am I taking away from this to decide about feature exploration?\n",
    "\n",
    "- Overall, there are some significant differences between casual and registered ridership patterns. This is interesting, but since the challenge is only interested in the number of bikes rented at a given time, it's not relevant to further modelling.\n",
    "- Climate affects bike rental numbers in a variety of ways:\n",
    "    - Generally rentals peak in summer and are lowest in spring.\n",
    "    - Higher humidity is inversely correlated with rentals, but this relationship does not hold in spring.\n",
    "    - Higher temperatures are correlated with rentals.\n",
    "    - Season appears to interact with wind speed to impact rentals. While wind speeds above 50 still enjoy robust rental numbers in summer and autumn, rentals drop steeply for those wind speeds in winter.\n",
    "- Workingday affects bike rental numbers:\n",
    "    - Since holidays are a subcategory of non-workingdays, I want to focus on the workingday distinction -- holidays don't add any additional information.\n",
    "    - On working days, ridership patterns diverge. Registered users tend to use a bike at rush hour.\n",
    "    - On non-working days, ridership patterns are more similar, peaking unimodally around lunchtime.\n",
    "- Time of day is very important in predicting bike rentals. Rentals are lowest between midnight and 5 am, but then vary throughough the day, with big peaks around rush hour times (on workdays) or lunchtime (non-workdays).\n",
    "    \n",
    "### Conclusions for feature engineering\n",
    "\n",
    "- Temp and atemp: Bin\n",
    "    - Include only one of these in the model; test which one works better.\n",
    "- Humidity: Bin\n",
    "- Wind speed: Bin\n",
    "- Weather: One-hot encode\n",
    "- Season is important: One-hot encode\n",
    "- Workingday is important: One-hot encode\n",
    "    - Include this as an interaction term as well\n",
    "- Time of day: Factorise and include as categorical variable"
   ]
  },
  {
   "cell_type": "markdown",
   "metadata": {},
   "source": [
    "## Step 2: Feature selection"
   ]
  },
  {
   "cell_type": "code",
   "execution_count": 44,
   "metadata": {},
   "outputs": [],
   "source": [
    "# Drop casual and registered rental counts\n",
    "df = df.drop(['casual', 'registered'], axis = 1)"
   ]
  },
  {
   "cell_type": "markdown",
   "metadata": {},
   "source": [
    "I want to take another look at the correlated features and decide which ones to throw out. I'm using a threshold of 0.9 as suggested in this article: https://towardsdatascience.com/feature-selection-correlation-and-p-value-da8921bfb3cf"
   ]
  },
  {
   "cell_type": "code",
   "execution_count": 45,
   "metadata": {},
   "outputs": [
    {
     "data": {
      "text/plain": [
       "<matplotlib.axes._subplots.AxesSubplot at 0x1a200f3ed0>"
      ]
     },
     "execution_count": 45,
     "metadata": {},
     "output_type": "execute_result"
    },
    {
     "data": {
      "image/png": "[encoded data removed]",
      "text/plain": [
       "<Figure size 720x720 with 2 Axes>"
      ]
     },
     "metadata": {
      "needs_background": "light"
     },
     "output_type": "display_data"
    }
   ],
   "source": [
    "plt.subplots(figsize=(10,10))\n",
    "sns.heatmap(df.corr(), annot = True)"
   ]
  },
  {
   "cell_type": "markdown",
   "metadata": {},
   "source": [
    "We see that `temp` and `atemp` are highly correlated with each other. I'm going to select `temp`, as it does not take into account wind speed and humidity information the way that `atemp` does (see this explainer from the UK Met Office: https://blog.metoffice.gov.uk/2012/02/15/what-is-feels-like-temperature/#:~:text=We%20calculate%20a%20'feels%20like,during%20cold%20and%20windy%20days) and therefore helps me avoid multicolinearity in my features.\n",
    "\n",
    "Additionally, `season` and `month` are highly correlated -- makes sense as one is a more coarse-grained indication of the other. I note that I'm getting a slightly higher correlation between `month` and `count` than between `season` and `count`, so I'm going to drop `season`."
   ]
  },
  {
   "cell_type": "code",
   "execution_count": 46,
   "metadata": {},
   "outputs": [],
   "source": [
    "df = df.drop(['atemp', 'season'], axis = 1)"
   ]
  },
  {
   "cell_type": "markdown",
   "metadata": {},
   "source": [
    "Do we have the same amount of observations per day across all of the data? If not, we will need to impute some missing values in the feature engineering section."
   ]
  },
  {
   "cell_type": "code",
   "execution_count": 47,
   "metadata": {},
   "outputs": [
    {
     "data": {
      "text/plain": [
       "2011-06-13    23\n",
       "2011-03-08    23\n",
       "2011-04-17    23\n",
       "2011-02-17    22\n",
       "2012-12-19    22\n",
       "              ..\n",
       "2012-05-19    13\n",
       "2012-06-06    13\n",
       "2012-08-17    12\n",
       "2011-07-03    11\n",
       "2011-01-18     9\n",
       "Name: date, Length: 456, dtype: int64"
      ]
     },
     "execution_count": 47,
     "metadata": {},
     "output_type": "execute_result"
    }
   ],
   "source": [
    "# count number of values for each day\n",
    "\n",
    "df['date'].value_counts()"
   ]
  },
  {
   "cell_type": "code",
   "execution_count": 48,
   "metadata": {},
   "outputs": [],
   "source": [
    "# Which days have fewer than 24 data points?\n",
    "\n",
    "investigate = df['date'].value_counts() == 24"
   ]
  },
  {
   "cell_type": "code",
   "execution_count": 49,
   "metadata": {},
   "outputs": [
    {
     "data": {
      "text/plain": [
       "False    456\n",
       "Name: date, dtype: int64"
      ]
     },
     "execution_count": 49,
     "metadata": {},
     "output_type": "execute_result"
    }
   ],
   "source": [
    "investigate.value_counts()"
   ]
  },
  {
   "cell_type": "markdown",
   "metadata": {},
   "source": [
    "On further thought: It doesn't especially matter if some days have fewer data points than others, since each row is complete. \n",
    "\n"
   ]
  },
  {
   "cell_type": "markdown",
   "metadata": {},
   "source": [
    "## Step 3: Feature Engineering, Feature Selection and Feature Expansion\n",
    "\n",
    "Lesson learned from last week: Define a preprocessing pipeline that is separate from fitting a model, so that it's easier to tweak preprocessing steps.\n",
    "\n",
    "Revision of the steps from above:\n",
    "\n",
    "- Temp ~and atemp~: Bin\n",
    "    - Decision to use only Temp, because Temp and Atemp are highly correlated\n",
    "- Humidity: Bin\n",
    "- Wind speed: Bin\n",
    "- Weather: One-hot encode\n",
    "- ~Season is important: One-hot encode~\n",
    "    - Decided that month is a more fine-grained feature. Factorise, then one-hot encode.\n",
    "- Workingday is important: One-hot encode\n",
    "    - Include this as an interaction term as well\n",
    "    - New decision: Interaction term with all of the weather categories\n",
    "- Hour: Factorise, then one-hot encoding.\n",
    "- Year: Initially I didn't even consider this. But actually it is important too, since the volume of bike rentals overall increases by year. So I'm going to factorise, then one-hot encode this.\n",
    "- Date: I want to be able to capture the fact that as the dates get later, there tend to be more rentals overall. I will include a new 'timestep' feature that is numerical (rather than a datetime).\n",
    "- Polynomials: Just for funsies, let's add some of these (degree 4)"
   ]
  },
  {
   "cell_type": "code",
   "execution_count": 50,
   "metadata": {},
   "outputs": [
    {
     "data": {
      "text/plain": [
       "(Index(['datetime', 'season', 'holiday', 'workingday', 'weather', 'temp',\n",
       "        'atemp', 'humidity', 'windspeed'],\n",
       "       dtype='object'),\n",
       " Index(['datetime', 'season', 'holiday', 'workingday', 'weather', 'temp',\n",
       "        'atemp', 'humidity', 'windspeed'],\n",
       "       dtype='object'))"
      ]
     },
     "execution_count": 50,
     "metadata": {},
     "output_type": "execute_result"
    }
   ],
   "source": [
    "Xtrain.columns, Xtest.columns"
   ]
  },
  {
   "cell_type": "code",
   "execution_count": 51,
   "metadata": {},
   "outputs": [],
   "source": [
    "# It is simpler to create the various date/time columns in a separate function\n",
    "\n",
    "def make_time_cols(df):\n",
    "    df['hour'] = pd.DataFrame(pd.to_datetime(df['datetime']).dt.hour)\n",
    "    df['date'] = pd.DataFrame(pd.to_datetime(df['datetime']).dt.day)\n",
    "    df['month'] = pd.DataFrame(pd.to_datetime(df['datetime']).dt.month)\n",
    "    df['year'] = pd.DataFrame(pd.to_datetime(df['datetime']).dt.year)\n",
    "    return df"
   ]
  },
  {
   "cell_type": "code",
   "execution_count": 52,
   "metadata": {},
   "outputs": [
    {
     "data": {
      "text/plain": [
       "((8164, 13), (2722, 13))"
      ]
     },
     "execution_count": 52,
     "metadata": {},
     "output_type": "execute_result"
    }
   ],
   "source": [
    "# Make time columns in Xtrain and Xtest\n",
    "\n",
    "make_time_cols(Xtrain)\n",
    "make_time_cols(Xtest)\n",
    "\n",
    "Xtrain.columns, Xtest.columns\n",
    "\n",
    "Xtrain.shape, Xtest.shape\n"
   ]
  },
  {
   "cell_type": "code",
   "execution_count": 53,
   "metadata": {},
   "outputs": [],
   "source": [
    "# Drop atemp column\n",
    "\n",
    "Xtrain.drop(['atemp'], axis = 1, inplace = True)\n",
    "Xtest.drop(['atemp'], axis = 1, inplace = True)"
   ]
  },
  {
   "cell_type": "code",
   "execution_count": 54,
   "metadata": {},
   "outputs": [
    {
     "data": {
      "text/plain": [
       "(Index(['datetime', 'season', 'holiday', 'workingday', 'weather', 'temp',\n",
       "        'humidity', 'windspeed', 'hour', 'date', 'month', 'year'],\n",
       "       dtype='object'),\n",
       " Index(['datetime', 'season', 'holiday', 'workingday', 'weather', 'temp',\n",
       "        'humidity', 'windspeed', 'hour', 'date', 'month', 'year'],\n",
       "       dtype='object'))"
      ]
     },
     "execution_count": 54,
     "metadata": {},
     "output_type": "execute_result"
    }
   ],
   "source": [
    "Xtrain.columns, Xtest.columns"
   ]
  },
  {
   "cell_type": "code",
   "execution_count": 55,
   "metadata": {},
   "outputs": [],
   "source": [
    "# Need to sort Xtrain and Xtest chronologically in order for my timestep function below to work\n",
    "\n",
    "Xtrain = Xtrain.sort_values(by = 'datetime')\n",
    "Xtest = Xtest.sort_values(by = 'datetime')"
   ]
  },
  {
   "cell_type": "code",
   "execution_count": 56,
   "metadata": {},
   "outputs": [
    {
     "data": {
      "text/plain": [
       "1"
      ]
     },
     "execution_count": 56,
     "metadata": {},
     "output_type": "execute_result"
    }
   ],
   "source": [
    "Xtrain['date'][1]"
   ]
  },
  {
   "cell_type": "code",
   "execution_count": 57,
   "metadata": {},
   "outputs": [
    {
     "data": {
      "text/html": [
       "<div>\n",
       "<style scoped>\n",
       "    .dataframe tbody tr th:only-of-type {\n",
       "        vertical-align: middle;\n",
       "    }\n",
       "\n",
       "    .dataframe tbody tr th {\n",
       "        vertical-align: top;\n",
       "    }\n",
       "\n",
       "    .dataframe thead th {\n",
       "        text-align: right;\n",
       "    }\n",
       "</style>\n",
       "<table border=\"1\" class=\"dataframe\">\n",
       "  <thead>\n",
       "    <tr style=\"text-align: right;\">\n",
       "      <th></th>\n",
       "      <th>datetime</th>\n",
       "      <th>season</th>\n",
       "      <th>holiday</th>\n",
       "      <th>workingday</th>\n",
       "      <th>weather</th>\n",
       "      <th>temp</th>\n",
       "      <th>humidity</th>\n",
       "      <th>windspeed</th>\n",
       "      <th>hour</th>\n",
       "      <th>date</th>\n",
       "      <th>month</th>\n",
       "      <th>year</th>\n",
       "    </tr>\n",
       "  </thead>\n",
       "  <tbody>\n",
       "    <tr>\n",
       "      <th>0</th>\n",
       "      <td>2011-01-01 00:00:00</td>\n",
       "      <td>1</td>\n",
       "      <td>0</td>\n",
       "      <td>0</td>\n",
       "      <td>1</td>\n",
       "      <td>9.84</td>\n",
       "      <td>81</td>\n",
       "      <td>0.0</td>\n",
       "      <td>0</td>\n",
       "      <td>1</td>\n",
       "      <td>1</td>\n",
       "      <td>2011</td>\n",
       "    </tr>\n",
       "    <tr>\n",
       "      <th>1</th>\n",
       "      <td>2011-01-01 01:00:00</td>\n",
       "      <td>1</td>\n",
       "      <td>0</td>\n",
       "      <td>0</td>\n",
       "      <td>1</td>\n",
       "      <td>9.02</td>\n",
       "      <td>80</td>\n",
       "      <td>0.0</td>\n",
       "      <td>1</td>\n",
       "      <td>1</td>\n",
       "      <td>1</td>\n",
       "      <td>2011</td>\n",
       "    </tr>\n",
       "    <tr>\n",
       "      <th>2</th>\n",
       "      <td>2011-01-01 02:00:00</td>\n",
       "      <td>1</td>\n",
       "      <td>0</td>\n",
       "      <td>0</td>\n",
       "      <td>1</td>\n",
       "      <td>9.02</td>\n",
       "      <td>80</td>\n",
       "      <td>0.0</td>\n",
       "      <td>2</td>\n",
       "      <td>1</td>\n",
       "      <td>1</td>\n",
       "      <td>2011</td>\n",
       "    </tr>\n",
       "    <tr>\n",
       "      <th>3</th>\n",
       "      <td>2011-01-01 03:00:00</td>\n",
       "      <td>1</td>\n",
       "      <td>0</td>\n",
       "      <td>0</td>\n",
       "      <td>1</td>\n",
       "      <td>9.84</td>\n",
       "      <td>75</td>\n",
       "      <td>0.0</td>\n",
       "      <td>3</td>\n",
       "      <td>1</td>\n",
       "      <td>1</td>\n",
       "      <td>2011</td>\n",
       "    </tr>\n",
       "    <tr>\n",
       "      <th>4</th>\n",
       "      <td>2011-01-01 04:00:00</td>\n",
       "      <td>1</td>\n",
       "      <td>0</td>\n",
       "      <td>0</td>\n",
       "      <td>1</td>\n",
       "      <td>9.84</td>\n",
       "      <td>75</td>\n",
       "      <td>0.0</td>\n",
       "      <td>4</td>\n",
       "      <td>1</td>\n",
       "      <td>1</td>\n",
       "      <td>2011</td>\n",
       "    </tr>\n",
       "  </tbody>\n",
       "</table>\n",
       "</div>"
      ],
      "text/plain": [
       "              datetime  season  holiday  workingday  weather  temp  humidity  \\\n",
       "0  2011-01-01 00:00:00       1        0           0        1  9.84        81   \n",
       "1  2011-01-01 01:00:00       1        0           0        1  9.02        80   \n",
       "2  2011-01-01 02:00:00       1        0           0        1  9.02        80   \n",
       "3  2011-01-01 03:00:00       1        0           0        1  9.84        75   \n",
       "4  2011-01-01 04:00:00       1        0           0        1  9.84        75   \n",
       "\n",
       "   windspeed  hour  date  month  year  \n",
       "0        0.0     0     1      1  2011  \n",
       "1        0.0     1     1      1  2011  \n",
       "2        0.0     2     1      1  2011  \n",
       "3        0.0     3     1      1  2011  \n",
       "4        0.0     4     1      1  2011  "
      ]
     },
     "execution_count": 57,
     "metadata": {},
     "output_type": "execute_result"
    }
   ],
   "source": [
    "Xtrain.head()"
   ]
  },
  {
   "cell_type": "code",
   "execution_count": 145,
   "metadata": {},
   "outputs": [],
   "source": [
    "# Define the columns that will have each kind of feature engineering\n",
    "\n",
    "bin_cols = ['temp', 'windspeed', 'humidity']\n",
    "\n",
    "onehot_cols = ['weather', 'workingday', 'holiday', 'hour', 'month', 'year']\n",
    "\n",
    "timestep_cols = ['datetime']\n",
    "\n",
    "# interaction: want to code an interaction of workingday and the weather columns\n",
    "\n",
    "workingday_weather_cols = ['workingday', 'weather']\n",
    "workingday_temp_cols = ['workingday', 'temp']\n",
    "workingday_hum_cols = ['workingday', 'humidity']\n",
    "workingday_wind_cols = ['workingday', 'windspeed']\n",
    "\n",
    "# polynomiaaaallllllzzzzzz!!! Let's try some overfitting by hour and various weather features\n",
    "all_cols = ['weather', 'temp','humidity', 'windspeed', 'hour']"
   ]
  },
  {
   "cell_type": "markdown",
   "metadata": {},
   "source": [
    "**Note to self concerning time stamps and subtracting days**\n",
    "\n",
    "- You can subtract two items in datetime format from each other and calculate the difference between the two (e.g. in days)\n",
    "- This will look like a series that includes a date-time item (see what happens when you do `steps.head()`) but it is in fact (?) just a number, the difference between the two dates (see what happens when you do `steps[59]`)"
   ]
  },
  {
   "cell_type": "code",
   "execution_count": 146,
   "metadata": {},
   "outputs": [],
   "source": [
    "# code for illustration of how datetime subtraction works\n",
    "# steps = (steps - pd.to_datetime(df['date'][0])).dt.days\n",
    "# steps[59]"
   ]
  },
  {
   "cell_type": "code",
   "execution_count": 147,
   "metadata": {},
   "outputs": [],
   "source": [
    "# Define a custom function to create a timestep\n",
    "# I can't just allocate a number based on e.g. the row of the frame, because I need the timesteps to be based on the date itself.\n",
    "# Subtract timestamp of first day in data set from all other days\n",
    "\n",
    "# note that input is df (in order to work with transformer)\n",
    "\n",
    "# first step must be defined as the earliest date in Xtrain\n",
    "first_step = pd.to_datetime(Xtrain['datetime'][1])\n",
    "\n",
    "def timestep(df): \n",
    "    '''\n",
    "    Returns timestep calculated in no. days since first day in data set\n",
    "    '''\n",
    "   \n",
    "    step = (pd.to_datetime(df.iloc[:,0]) - first_step).dt.days\n",
    "    step = step.values.reshape(-1, 1)\n",
    "    \n",
    "    return step     \n",
    "    \n",
    "    "
   ]
  },
  {
   "cell_type": "code",
   "execution_count": 148,
   "metadata": {},
   "outputs": [
    {
     "data": {
      "text/plain": [
       "array([[ -1],\n",
       "       [  0],\n",
       "       [  0],\n",
       "       ...,\n",
       "       [718],\n",
       "       [718],\n",
       "       [718]])"
      ]
     },
     "execution_count": 148,
     "metadata": {},
     "output_type": "execute_result"
    }
   ],
   "source": [
    "# check if this has the desired output\n",
    "testing = timestep(Xtrain[['datetime']])\n",
    "testing\n",
    "\n",
    "# yes, it does! phew!"
   ]
  },
  {
   "cell_type": "markdown",
   "metadata": {},
   "source": [
    "### Define a feature engineering pipeline (preprocessing only)"
   ]
  },
  {
   "cell_type": "code",
   "execution_count": 149,
   "metadata": {},
   "outputs": [],
   "source": [
    "onehot_transformer = Pipeline(steps = [\n",
    "    ('onehot', OneHotEncoder(handle_unknown = 'ignore'))\n",
    "])\n",
    "\n",
    "timestep_transformer = Pipeline(steps = [\n",
    "    ('make_timesteps', FunctionTransformer(timestep))\n",
    "])\n",
    "\n",
    "interaction_transformer = Pipeline(steps = [\n",
    "    ('create_interaction', PolynomialFeatures(interaction_only = True, include_bias = False))\n",
    "])\n",
    "\n",
    "bin_transformer = Pipeline(steps = [\n",
    "    ('binning', KBinsDiscretizer(n_bins = 5))\n",
    "])\n",
    "\n",
    "polynomial_transformer = Pipeline(steps = [\n",
    "    ('polynomials', PolynomialFeatures(degree = 4, include_bias = False))\n",
    "])\n",
    "\n",
    "scale_transformer = Pipeline(steps = [\n",
    "    ('scaler', StandardScaler())\n",
    "])"
   ]
  },
  {
   "cell_type": "markdown",
   "metadata": {},
   "source": [
    "## Question: How to make bins for specific intervals?"
   ]
  },
  {
   "cell_type": "code",
   "execution_count": 150,
   "metadata": {},
   "outputs": [],
   "source": [
    "# Make preprocessing pipeline\n",
    "\n",
    "preprocessor = ColumnTransformer(\n",
    "    transformers=[\n",
    "        ('onehot', onehot_transformer, onehot_cols),\n",
    "        ('timestep', timestep_transformer, timestep_cols),\n",
    "        ('interactions1', interaction_transformer, workingday_weather_cols),\n",
    "        ('interactions2', interaction_transformer, workingday_hum_cols),\n",
    "        ('interactions3', interaction_transformer, workingday_temp_cols),\n",
    "        ('interactions4', interaction_transformer, workingday_wind_cols),\n",
    "        ('polynomials', polynomial_transformer, all_cols),\n",
    "        ('scaling', scale_transformer, bin_cols), # the columns we want to scale are also the ones we want to bin\n",
    "        ('bins', bin_transformer, bin_cols)\n",
    "    ])"
   ]
  },
  {
   "cell_type": "code",
   "execution_count": 151,
   "metadata": {},
   "outputs": [
    {
     "data": {
      "text/plain": [
       "Index(['datetime', 'season', 'holiday', 'workingday', 'weather', 'temp',\n",
       "       'humidity', 'windspeed', 'hour', 'date', 'month', 'year'],\n",
       "      dtype='object')"
      ]
     },
     "execution_count": 151,
     "metadata": {},
     "output_type": "execute_result"
    }
   ],
   "source": [
    "Xtrain.columns"
   ]
  },
  {
   "cell_type": "code",
   "execution_count": 152,
   "metadata": {},
   "outputs": [
    {
     "data": {
      "text/plain": [
       "Index(['datetime', 'season', 'holiday', 'workingday', 'weather', 'temp',\n",
       "       'humidity', 'windspeed', 'hour', 'date', 'month', 'year'],\n",
       "      dtype='object')"
      ]
     },
     "execution_count": 152,
     "metadata": {},
     "output_type": "execute_result"
    }
   ],
   "source": [
    "Xtest.columns"
   ]
  },
  {
   "cell_type": "code",
   "execution_count": 153,
   "metadata": {},
   "outputs": [],
   "source": [
    "Xtrain_prep = preprocessor.fit_transform(Xtrain)\n",
    "Xtest_prep = preprocessor.transform(Xtest)"
   ]
  },
  {
   "cell_type": "code",
   "execution_count": 154,
   "metadata": {},
   "outputs": [
    {
     "data": {
      "text/plain": [
       "((8164, 202), (2722, 202))"
      ]
     },
     "execution_count": 154,
     "metadata": {},
     "output_type": "execute_result"
    }
   ],
   "source": [
    "Xtrain_prep.shape, Xtest_prep.shape"
   ]
  },
  {
   "cell_type": "markdown",
   "metadata": {},
   "source": [
    "## Fit a baseline model\n",
    "\n",
    "- Establish a null model, which is generally useful"
   ]
  },
  {
   "cell_type": "code",
   "execution_count": 155,
   "metadata": {},
   "outputs": [],
   "source": [
    "m_base = DummyRegressor(strategy='median')\n",
    "m_base.fit(Xtrain_prep, ytrain)\n",
    "y_pred_base = m_base.predict(Xtrain_prep)"
   ]
  },
  {
   "cell_type": "code",
   "execution_count": 156,
   "metadata": {},
   "outputs": [
    {
     "data": {
      "text/plain": [
       "'Training accuracy: -0.06681858254541351'"
      ]
     },
     "execution_count": 156,
     "metadata": {},
     "output_type": "execute_result"
    }
   ],
   "source": [
    "f'Training accuracy: {m_base.score(Xtrain_prep, ytrain)}'"
   ]
  },
  {
   "cell_type": "code",
   "execution_count": 157,
   "metadata": {},
   "outputs": [
    {
     "data": {
      "text/plain": [
       "'Training accuracy: -0.06399913936221702'"
      ]
     },
     "execution_count": 157,
     "metadata": {},
     "output_type": "execute_result"
    }
   ],
   "source": [
    "f'Training accuracy: {m_base.score(Xtest_prep, ytest)}'"
   ]
  },
  {
   "cell_type": "markdown",
   "metadata": {},
   "source": [
    "Preliminary conclusions: this baseline model is terrible!"
   ]
  },
  {
   "cell_type": "markdown",
   "metadata": {},
   "source": [
    "## Recursive Feature Elimination"
   ]
  },
  {
   "cell_type": "markdown",
   "metadata": {},
   "source": [
    "https://machinelearningmastery.com/rfe-feature-selection-in-python/\n",
    "\n",
    "https://stackoverflow.com/questions/47730328/extract-optimal-features-from-recursive-feature-elimination-rfe"
   ]
  },
  {
   "cell_type": "code",
   "execution_count": 188,
   "metadata": {},
   "outputs": [
    {
     "data": {
      "text/plain": [
       "RFE(estimator=LinearRegression(), n_features_to_select=50)"
      ]
     },
     "execution_count": 188,
     "metadata": {},
     "output_type": "execute_result"
    }
   ],
   "source": [
    "# adapted from textbook\n",
    "# drop datetime column because it is a headache\n",
    "\n",
    "rfe = RFE(estimator = LinearRegression(), n_features_to_select = 50)\n",
    "rfe.fit(Xtrain_prep, ytrain)"
   ]
  },
  {
   "cell_type": "code",
   "execution_count": 190,
   "metadata": {},
   "outputs": [
    {
     "name": "stdout",
     "output_type": "stream",
     "text": [
      "Column: 0, Selected False, Rank: 43.000\n",
      "Column: 1, Selected False, Rank: 42.000\n",
      "Column: 2, Selected False, Rank: 41.000\n",
      "Column: 3, Selected False, Rank: 40.000\n",
      "Column: 4, Selected False, Rank: 39.000\n",
      "Column: 5, Selected False, Rank: 38.000\n",
      "Column: 6, Selected False, Rank: 37.000\n",
      "Column: 7, Selected False, Rank: 36.000\n",
      "Column: 8, Selected False, Rank: 35.000\n",
      "Column: 9, Selected True, Rank: 1.000\n",
      "Column: 10, Selected True, Rank: 1.000\n",
      "Column: 11, Selected True, Rank: 1.000\n",
      "Column: 12, Selected True, Rank: 1.000\n",
      "Column: 13, Selected True, Rank: 1.000\n",
      "Column: 14, Selected True, Rank: 1.000\n",
      "Column: 15, Selected True, Rank: 1.000\n",
      "Column: 16, Selected True, Rank: 1.000\n",
      "Column: 17, Selected False, Rank: 17.000\n",
      "Column: 18, Selected True, Rank: 1.000\n",
      "Column: 19, Selected True, Rank: 1.000\n",
      "Column: 20, Selected True, Rank: 1.000\n",
      "Column: 21, Selected True, Rank: 1.000\n",
      "Column: 22, Selected False, Rank: 9.000\n",
      "Column: 23, Selected True, Rank: 1.000\n",
      "Column: 24, Selected False, Rank: 8.000\n",
      "Column: 25, Selected False, Rank: 6.000\n",
      "Column: 26, Selected True, Rank: 1.000\n",
      "Column: 27, Selected True, Rank: 1.000\n",
      "Column: 28, Selected True, Rank: 1.000\n",
      "Column: 29, Selected True, Rank: 1.000\n",
      "Column: 30, Selected True, Rank: 1.000\n",
      "Column: 31, Selected True, Rank: 1.000\n",
      "Column: 32, Selected True, Rank: 1.000\n",
      "Column: 33, Selected True, Rank: 1.000\n",
      "Column: 34, Selected True, Rank: 1.000\n",
      "Column: 35, Selected False, Rank: 2.000\n",
      "Column: 36, Selected True, Rank: 1.000\n",
      "Column: 37, Selected False, Rank: 22.000\n",
      "Column: 38, Selected True, Rank: 1.000\n",
      "Column: 39, Selected True, Rank: 1.000\n",
      "Column: 40, Selected False, Rank: 34.000\n",
      "Column: 41, Selected False, Rank: 18.000\n",
      "Column: 42, Selected True, Rank: 1.000\n",
      "Column: 43, Selected True, Rank: 1.000\n",
      "Column: 44, Selected True, Rank: 1.000\n",
      "Column: 45, Selected True, Rank: 1.000\n",
      "Column: 46, Selected False, Rank: 88.000\n",
      "Column: 47, Selected True, Rank: 1.000\n",
      "Column: 48, Selected True, Rank: 1.000\n",
      "Column: 49, Selected False, Rank: 44.000\n",
      "Column: 50, Selected True, Rank: 1.000\n",
      "Column: 51, Selected False, Rank: 19.000\n",
      "Column: 52, Selected False, Rank: 46.000\n",
      "Column: 53, Selected False, Rank: 15.000\n",
      "Column: 54, Selected False, Rank: 12.000\n",
      "Column: 55, Selected False, Rank: 97.000\n",
      "Column: 56, Selected True, Rank: 1.000\n",
      "Column: 57, Selected False, Rank: 16.000\n",
      "Column: 58, Selected False, Rank: 45.000\n",
      "Column: 59, Selected True, Rank: 1.000\n",
      "Column: 60, Selected False, Rank: 10.000\n",
      "Column: 61, Selected False, Rank: 20.000\n",
      "Column: 62, Selected False, Rank: 23.000\n",
      "Column: 63, Selected False, Rank: 3.000\n",
      "Column: 64, Selected True, Rank: 1.000\n",
      "Column: 65, Selected False, Rank: 31.000\n",
      "Column: 66, Selected False, Rank: 21.000\n",
      "Column: 67, Selected False, Rank: 29.000\n",
      "Column: 68, Selected False, Rank: 4.000\n",
      "Column: 69, Selected False, Rank: 53.000\n",
      "Column: 70, Selected False, Rank: 60.000\n",
      "Column: 71, Selected False, Rank: 63.000\n",
      "Column: 72, Selected False, Rank: 47.000\n",
      "Column: 73, Selected False, Rank: 69.000\n",
      "Column: 74, Selected False, Rank: 68.000\n",
      "Column: 75, Selected False, Rank: 50.000\n",
      "Column: 76, Selected False, Rank: 55.000\n",
      "Column: 77, Selected False, Rank: 58.000\n",
      "Column: 78, Selected False, Rank: 66.000\n",
      "Column: 79, Selected True, Rank: 1.000\n",
      "Column: 80, Selected False, Rank: 13.000\n",
      "Column: 81, Selected False, Rank: 24.000\n",
      "Column: 82, Selected False, Rank: 27.000\n",
      "Column: 83, Selected False, Rank: 5.000\n",
      "Column: 84, Selected False, Rank: 54.000\n",
      "Column: 85, Selected False, Rank: 61.000\n",
      "Column: 86, Selected False, Rank: 64.000\n",
      "Column: 87, Selected False, Rank: 48.000\n",
      "Column: 88, Selected False, Rank: 70.000\n",
      "Column: 89, Selected False, Rank: 67.000\n",
      "Column: 90, Selected False, Rank: 51.000\n",
      "Column: 91, Selected False, Rank: 56.000\n",
      "Column: 92, Selected False, Rank: 59.000\n",
      "Column: 93, Selected False, Rank: 80.000\n",
      "Column: 94, Selected False, Rank: 98.000\n",
      "Column: 95, Selected False, Rank: 100.000\n",
      "Column: 96, Selected False, Rank: 79.000\n",
      "Column: 97, Selected False, Rank: 83.000\n",
      "Column: 98, Selected False, Rank: 95.000\n",
      "Column: 99, Selected False, Rank: 89.000\n",
      "Column: 100, Selected False, Rank: 92.000\n",
      "Column: 101, Selected False, Rank: 86.000\n",
      "Column: 102, Selected False, Rank: 105.000\n",
      "Column: 103, Selected False, Rank: 77.000\n",
      "Column: 104, Selected False, Rank: 117.000\n",
      "Column: 105, Selected False, Rank: 119.000\n",
      "Column: 106, Selected False, Rank: 115.000\n",
      "Column: 107, Selected False, Rank: 109.000\n",
      "Column: 108, Selected False, Rank: 145.000\n",
      "Column: 109, Selected False, Rank: 93.000\n",
      "Column: 110, Selected False, Rank: 110.000\n",
      "Column: 111, Selected False, Rank: 85.000\n",
      "Column: 112, Selected False, Rank: 112.000\n",
      "Column: 113, Selected False, Rank: 74.000\n",
      "Column: 114, Selected True, Rank: 1.000\n",
      "Column: 115, Selected False, Rank: 14.000\n",
      "Column: 116, Selected False, Rank: 26.000\n",
      "Column: 117, Selected False, Rank: 28.000\n",
      "Column: 118, Selected False, Rank: 11.000\n",
      "Column: 119, Selected False, Rank: 101.000\n",
      "Column: 120, Selected False, Rank: 62.000\n",
      "Column: 121, Selected False, Rank: 65.000\n",
      "Column: 122, Selected False, Rank: 49.000\n",
      "Column: 123, Selected False, Rank: 71.000\n",
      "Column: 124, Selected False, Rank: 72.000\n",
      "Column: 125, Selected False, Rank: 52.000\n",
      "Column: 126, Selected False, Rank: 57.000\n",
      "Column: 127, Selected False, Rank: 82.000\n",
      "Column: 128, Selected False, Rank: 73.000\n",
      "Column: 129, Selected False, Rank: 99.000\n",
      "Column: 130, Selected False, Rank: 102.000\n",
      "Column: 131, Selected False, Rank: 81.000\n",
      "Column: 132, Selected False, Rank: 84.000\n",
      "Column: 133, Selected False, Rank: 96.000\n",
      "Column: 134, Selected False, Rank: 90.000\n",
      "Column: 135, Selected False, Rank: 91.000\n",
      "Column: 136, Selected False, Rank: 87.000\n",
      "Column: 137, Selected False, Rank: 125.000\n",
      "Column: 138, Selected False, Rank: 78.000\n",
      "Column: 139, Selected False, Rank: 143.000\n",
      "Column: 140, Selected False, Rank: 120.000\n",
      "Column: 141, Selected False, Rank: 116.000\n",
      "Column: 142, Selected False, Rank: 108.000\n",
      "Column: 143, Selected False, Rank: 106.000\n",
      "Column: 144, Selected False, Rank: 94.000\n",
      "Column: 145, Selected False, Rank: 122.000\n",
      "Column: 146, Selected False, Rank: 103.000\n",
      "Column: 147, Selected False, Rank: 104.000\n",
      "Column: 148, Selected False, Rank: 75.000\n",
      "Column: 149, Selected False, Rank: 107.000\n",
      "Column: 150, Selected False, Rank: 146.000\n",
      "Column: 151, Selected False, Rank: 121.000\n",
      "Column: 152, Selected False, Rank: 130.000\n",
      "Column: 153, Selected False, Rank: 137.000\n",
      "Column: 154, Selected False, Rank: 135.000\n",
      "Column: 155, Selected False, Rank: 124.000\n",
      "Column: 156, Selected False, Rank: 123.000\n",
      "Column: 157, Selected False, Rank: 147.000\n",
      "Column: 158, Selected False, Rank: 131.000\n",
      "Column: 159, Selected False, Rank: 149.000\n",
      "Column: 160, Selected False, Rank: 134.000\n",
      "Column: 161, Selected False, Rank: 136.000\n",
      "Column: 162, Selected False, Rank: 132.000\n",
      "Column: 163, Selected False, Rank: 139.000\n",
      "Column: 164, Selected False, Rank: 113.000\n",
      "Column: 165, Selected False, Rank: 151.000\n",
      "Column: 166, Selected False, Rank: 126.000\n",
      "Column: 167, Selected False, Rank: 111.000\n",
      "Column: 168, Selected False, Rank: 114.000\n",
      "Column: 169, Selected False, Rank: 144.000\n",
      "Column: 170, Selected False, Rank: 140.000\n",
      "Column: 171, Selected False, Rank: 153.000\n",
      "Column: 172, Selected False, Rank: 152.000\n",
      "Column: 173, Selected False, Rank: 150.000\n",
      "Column: 174, Selected False, Rank: 142.000\n",
      "Column: 175, Selected False, Rank: 133.000\n",
      "Column: 176, Selected False, Rank: 138.000\n",
      "Column: 177, Selected False, Rank: 148.000\n",
      "Column: 178, Selected False, Rank: 118.000\n",
      "Column: 179, Selected False, Rank: 141.000\n",
      "Column: 180, Selected False, Rank: 127.000\n",
      "Column: 181, Selected False, Rank: 129.000\n",
      "Column: 182, Selected False, Rank: 128.000\n",
      "Column: 183, Selected False, Rank: 76.000\n",
      "Column: 184, Selected False, Rank: 30.000\n",
      "Column: 185, Selected False, Rank: 33.000\n",
      "Column: 186, Selected False, Rank: 32.000\n",
      "Column: 187, Selected True, Rank: 1.000\n",
      "Column: 188, Selected True, Rank: 1.000\n",
      "Column: 189, Selected True, Rank: 1.000\n",
      "Column: 190, Selected True, Rank: 1.000\n",
      "Column: 191, Selected True, Rank: 1.000\n",
      "Column: 192, Selected True, Rank: 1.000\n",
      "Column: 193, Selected True, Rank: 1.000\n",
      "Column: 194, Selected True, Rank: 1.000\n",
      "Column: 195, Selected True, Rank: 1.000\n",
      "Column: 196, Selected True, Rank: 1.000\n",
      "Column: 197, Selected True, Rank: 1.000\n",
      "Column: 198, Selected False, Rank: 7.000\n",
      "Column: 199, Selected True, Rank: 1.000\n",
      "Column: 200, Selected True, Rank: 1.000\n"
     ]
    }
   ],
   "source": [
    "# summarise all features\n",
    "for i in range(Xtrain_prep.shape[1]-1):\n",
    "    print('Column: %d, Selected %s, Rank: %.3f' % (i, rfe.support_[i], rfe.ranking_[i]))"
   ]
  },
  {
   "cell_type": "code",
   "execution_count": 191,
   "metadata": {},
   "outputs": [
    {
     "data": {
      "text/plain": [
       "array([  9,  10,  11,  12,  13,  14,  15,  16,  18,  19,  20,  21,  23,\n",
       "        26,  27,  28,  29,  30,  31,  32,  33,  34,  36,  38,  39,  42,\n",
       "        43,  44,  45,  47,  48,  50,  56,  59,  64,  79, 114, 187, 188,\n",
       "       189, 190, 191, 192, 193, 194, 195, 196, 197, 199, 200])"
      ]
     },
     "execution_count": 191,
     "metadata": {},
     "output_type": "execute_result"
    }
   ],
   "source": [
    "summary_features = rfe.get_support(1)\n",
    "summary_features"
   ]
  },
  {
   "cell_type": "code",
   "execution_count": 192,
   "metadata": {},
   "outputs": [
    {
     "data": {
      "text/plain": [
       "(50,)"
      ]
     },
     "execution_count": 192,
     "metadata": {},
     "output_type": "execute_result"
    }
   ],
   "source": [
    "summary_features.shape"
   ]
  },
  {
   "cell_type": "code",
   "execution_count": 175,
   "metadata": {},
   "outputs": [
    {
     "data": {
      "text/plain": [
       "array([[1., 0., 0., ..., 0., 1., 0.],\n",
       "       [1., 0., 0., ..., 0., 1., 0.],\n",
       "       [1., 0., 0., ..., 0., 1., 0.],\n",
       "       ...,\n",
       "       [1., 0., 0., ..., 1., 0., 0.],\n",
       "       [1., 0., 0., ..., 1., 0., 0.],\n",
       "       [1., 0., 0., ..., 1., 0., 0.]])"
      ]
     },
     "execution_count": 175,
     "metadata": {},
     "output_type": "execute_result"
    }
   ],
   "source": [
    "Xtrain_prep"
   ]
  },
  {
   "cell_type": "code",
   "execution_count": 197,
   "metadata": {},
   "outputs": [
    {
     "data": {
      "text/plain": [
       "(8164, 1, 50)"
      ]
     },
     "execution_count": 197,
     "metadata": {},
     "output_type": "execute_result"
    }
   ],
   "source": [
    "Xtrain_prep[:, [summary_features]].shape"
   ]
  },
  {
   "cell_type": "code",
   "execution_count": 186,
   "metadata": {},
   "outputs": [
    {
     "data": {
      "text/plain": [
       "(8164, 202)"
      ]
     },
     "execution_count": 186,
     "metadata": {},
     "output_type": "execute_result"
    }
   ],
   "source": [
    "Xtrain_prep.shape"
   ]
  },
  {
   "cell_type": "markdown",
   "metadata": {},
   "source": [
    "## how to reduce dimensions of sliced array? for further training?"
   ]
  },
  {
   "cell_type": "markdown",
   "metadata": {},
   "source": [
    "## Experiment with PCA"
   ]
  },
  {
   "cell_type": "code",
   "execution_count": 220,
   "metadata": {},
   "outputs": [],
   "source": [
    "# first, scale everything: incorporate in new preprocessor\n",
    "\n",
    "preprocessor_PCA = ColumnTransformer(\n",
    "    transformers=[\n",
    "        ('onehot', onehot_transformer, onehot_cols),\n",
    "        ('timestep', timestep_transformer, timestep_cols),\n",
    "        ('interactions1', interaction_transformer, workingday_weather_cols),\n",
    "        ('interactions2', interaction_transformer, workingday_hum_cols),\n",
    "        ('interactions3', interaction_transformer, workingday_temp_cols),\n",
    "        ('interactions4', interaction_transformer, workingday_wind_cols),\n",
    "#        ('polynomials', polynomial_transformer, all_cols),\n",
    "        ('scaling', scale_transformer, bin_cols), # the columns we want to scale are also the ones we want to bin\n",
    "        ('bins', bin_transformer, bin_cols),\n",
    "        ('scaling_for_PCA', scale_transformer, all_cols)\n",
    "    ])\n"
   ]
  },
  {
   "cell_type": "code",
   "execution_count": 246,
   "metadata": {},
   "outputs": [],
   "source": [
    "Xtrain_PCA_prep = preprocessor_PCA.fit_transform(Xtrain)\n",
    "\n",
    "Xtest_PCA_prep = preprocessor_PCA.transform(Xtest)"
   ]
  },
  {
   "cell_type": "code",
   "execution_count": 247,
   "metadata": {},
   "outputs": [
    {
     "data": {
      "text/plain": [
       "(8164, 82)"
      ]
     },
     "execution_count": 247,
     "metadata": {},
     "output_type": "execute_result"
    }
   ],
   "source": [
    "Xtrain_PCA.shape"
   ]
  },
  {
   "cell_type": "code",
   "execution_count": 248,
   "metadata": {},
   "outputs": [
    {
     "data": {
      "text/plain": [
       "array([[ 3.60296592e+02, -3.66018565e+01, -3.33115436e+01, ...,\n",
       "         8.24438023e-14,  2.36086693e-14, -1.10630852e-13],\n",
       "       [ 3.59305296e+02, -3.68758724e+01, -3.24840327e+01, ...,\n",
       "         7.76672695e-15,  3.97045228e-14,  3.50342668e-13],\n",
       "       [ 3.59305286e+02, -3.68764065e+01, -3.24820821e+01, ...,\n",
       "        -7.17953748e-14,  3.78349723e-15, -1.91575261e-15],\n",
       "       ...,\n",
       "       [-3.58747990e+02,  1.66945239e+01,  6.06185593e+00, ...,\n",
       "        -1.89364571e-15,  4.68793363e-15,  1.13849944e-16],\n",
       "       [-3.58800155e+02,  1.59390038e+01,  1.89683557e+00, ...,\n",
       "        -2.45744076e-15,  4.68078587e-15,  5.96716103e-17],\n",
       "       [-3.58797156e+02,  2.19688281e+01, -6.74238466e-01, ...,\n",
       "         3.45196161e-15,  4.71701221e-15,  1.41988430e-16]])"
      ]
     },
     "execution_count": 248,
     "metadata": {},
     "output_type": "execute_result"
    }
   ],
   "source": [
    "pca = PCA()\n",
    "pca.fit_transform(Xtrain_PCA_prep)"
   ]
  },
  {
   "cell_type": "code",
   "execution_count": 249,
   "metadata": {},
   "outputs": [
    {
     "data": {
      "text/plain": [
       "array([9.60623287e-01, 2.71470406e-02, 7.72959454e-03, 2.03272621e-03,\n",
       "       1.76281735e-03, 3.69020372e-04, 1.94341926e-04, 3.44109492e-05,\n",
       "       1.99768966e-05, 5.44621683e-06, 4.88128291e-06, 4.63141620e-06,\n",
       "       4.50470767e-06, 4.35884974e-06, 4.26371951e-06, 4.17507770e-06,\n",
       "       4.12778293e-06, 3.83054101e-06, 3.65337289e-06, 3.19553070e-06,\n",
       "       1.86662172e-06, 1.82921630e-06, 1.81809349e-06, 1.80877166e-06,\n",
       "       1.79338177e-06, 1.77581988e-06, 1.75545456e-06, 1.58738049e-06,\n",
       "       1.31807563e-06, 1.11144938e-06, 1.04476542e-06, 9.49620690e-07,\n",
       "       9.40910464e-07, 9.37490116e-07, 9.32116828e-07, 9.25240146e-07,\n",
       "       9.22184579e-07, 9.20085935e-07, 9.15489092e-07, 9.09008924e-07,\n",
       "       9.08002427e-07, 9.05724645e-07, 8.99842761e-07, 8.95782650e-07,\n",
       "       8.94007034e-07, 8.91110952e-07, 8.80942916e-07, 8.76377460e-07,\n",
       "       8.74206586e-07, 8.70213675e-07, 8.68254594e-07, 8.63605664e-07,\n",
       "       8.57582710e-07, 7.24732398e-07, 6.33286718e-07, 2.98573662e-07,\n",
       "       2.61078483e-07, 2.39628876e-07, 8.11379512e-09, 3.10706544e-09,\n",
       "       1.97415153e-31, 6.49354321e-33, 6.49354321e-33, 6.49354321e-33,\n",
       "       6.49354321e-33, 6.49354321e-33, 6.49354321e-33, 6.49354321e-33,\n",
       "       6.49354321e-33, 6.49354321e-33, 6.49354321e-33, 6.49354321e-33,\n",
       "       6.49354321e-33, 6.49354321e-33, 6.49354321e-33, 6.49354321e-33,\n",
       "       6.49354321e-33, 6.49354321e-33, 6.49354321e-33, 6.49354321e-33,\n",
       "       4.75695546e-34, 3.76820728e-34])"
      ]
     },
     "execution_count": 249,
     "metadata": {},
     "output_type": "execute_result"
    }
   ],
   "source": [
    "pca.explained_variance_ratio_"
   ]
  },
  {
   "cell_type": "code",
   "execution_count": 250,
   "metadata": {},
   "outputs": [
    {
     "data": {
      "text/plain": [
       "82"
      ]
     },
     "execution_count": 250,
     "metadata": {},
     "output_type": "execute_result"
    }
   ],
   "source": [
    "len(pca.explained_variance_ratio_)"
   ]
  },
  {
   "cell_type": "code",
   "execution_count": 251,
   "metadata": {},
   "outputs": [
    {
     "data": {
      "image/png": "[encoded data removed]",
      "text/plain": [
       "<Figure size 432x288 with 1 Axes>"
      ]
     },
     "metadata": {
      "needs_background": "light"
     },
     "output_type": "display_data"
    }
   ],
   "source": [
    "# copy-pasted from Paula's notebook\n",
    "\n",
    "plt.plot(np.cumsum(pca.explained_variance_ratio_*100))\n",
    "plt.xlabel('number of components')\n",
    "plt.ylabel('cumulative explained variance')\n",
    "plt.xticks(np.arange(len(pca.explained_variance_ratio_)), np.arange(1,len(pca.explained_variance_ratio_)+1)) \n",
    "plt.show()"
   ]
  },
  {
   "cell_type": "code",
   "execution_count": 252,
   "metadata": {},
   "outputs": [
    {
     "data": {
      "image/png": "[encoded data removed]",
      "text/plain": [
       "<Figure size 432x288 with 1 Axes>"
      ]
     },
     "metadata": {
      "needs_background": "light"
     },
     "output_type": "display_data"
    }
   ],
   "source": [
    "# hmmm... not so useful. let's cut it down to the first few components\n",
    "\n",
    "plt.plot(np.cumsum(pca.explained_variance_ratio_*100))\n",
    "plt.xlim(-1, 10)\n",
    "plt.ylim(50, 100)\n",
    "plt.xlabel('number of components')\n",
    "plt.ylabel('cumulative explained variance')\n",
    "# plt.xticks(np.arange(len(pca.explained_variance_ratio_)), np.arange(1,len(pca.explained_variance_ratio_)+1)) \n",
    "plt.show()"
   ]
  },
  {
   "cell_type": "markdown",
   "metadata": {},
   "source": [
    "## Use PCA model to train linear regression"
   ]
  },
  {
   "cell_type": "code",
   "execution_count": 253,
   "metadata": {},
   "outputs": [],
   "source": [
    "# transform Xtrain_PCA_prep and Xtest_PCA_prep according to pca\n",
    "Xtrain_PCA = pca.fit_transform(Xtrain_PCA_prep)\n",
    "Xtest_PCA = pca.transform(Xtest_PCA_prep)"
   ]
  },
  {
   "cell_type": "code",
   "execution_count": 254,
   "metadata": {},
   "outputs": [
    {
     "data": {
      "text/plain": [
       "LinearRegression()"
      ]
     },
     "execution_count": 254,
     "metadata": {},
     "output_type": "execute_result"
    }
   ],
   "source": [
    "# Set up linear regression model\n",
    "\n",
    "m = LinearRegression()\n",
    "\n",
    "# train model\n",
    "\n",
    "m.fit(Xtrain_PCA_prep, ytrain)"
   ]
  },
  {
   "cell_type": "code",
   "execution_count": 255,
   "metadata": {},
   "outputs": [
    {
     "data": {
      "text/plain": [
       "-2.0176255670523735e+22"
      ]
     },
     "execution_count": 255,
     "metadata": {},
     "output_type": "execute_result"
    }
   ],
   "source": [
    "m.score(Xtest_PCA, ytest)"
   ]
  },
  {
   "cell_type": "code",
   "execution_count": null,
   "metadata": {},
   "outputs": [],
   "source": []
  }
 ],
 "metadata": {
  "kernelspec": {
   "display_name": "Python 3",
   "language": "python",
   "name": "python3"
  },
  "language_info": {
   "codemirror_mode": {
    "name": "ipython",
    "version": 3
   },
   "file_extension": ".py",
   "mimetype": "text/x-python",
   "name": "python",
   "nbconvert_exporter": "python",
   "pygments_lexer": "ipython3",
   "version": "3.7.6"
  }
 },
 "nbformat": 4,
 "nbformat_minor": 4
}
