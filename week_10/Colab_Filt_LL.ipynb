{
 "cells": [
  {
   "cell_type": "markdown",
   "metadata": {},
   "source": [
    "# Colaborative Filtering"
   ]
  },
  {
   "cell_type": "markdown",
   "metadata": {},
   "source": [
    "---"
   ]
  },
  {
   "cell_type": "markdown",
   "metadata": {},
   "source": [
    "## Two types\n",
    "* Memory/neighborhood-based \n",
    "* Model-based"
   ]
  },
  {
   "cell_type": "markdown",
   "metadata": {},
   "source": [
    "---"
   ]
  },
  {
   "cell_type": "markdown",
   "metadata": {},
   "source": [
    "### Model based - e.g. NMF, SVD"
   ]
  },
  {
   "cell_type": "code",
   "execution_count": null,
   "metadata": {},
   "outputs": [],
   "source": [
    "from sklearn.decomposition import NMF\n",
    "..."
   ]
  },
  {
   "cell_type": "markdown",
   "metadata": {},
   "source": [
    "---"
   ]
  },
  {
   "cell_type": "markdown",
   "metadata": {},
   "source": [
    "### Memory/neighborhood-based \n",
    "* Cosine Similarity\n",
    "* Euclidean Distance\n",
    "* Jaccard Similarity\n",
    "* More to try: Clustering, e.g. KNN, Kmeans"
   ]
  },
  {
   "cell_type": "markdown",
   "metadata": {},
   "source": [
    "---"
   ]
  },
  {
   "cell_type": "markdown",
   "metadata": {},
   "source": [
    "## Cosine Similarity"
   ]
  },
  {
   "cell_type": "markdown",
   "metadata": {},
   "source": [
    "* Basically just the normalized dot product!\n",
    "* Numerator = dot product\n",
    "* Denominator = Euclidean norm of the vectors multiplied"
   ]
  },
  {
   "cell_type": "markdown",
   "metadata": {},
   "source": [
    "$cos(X,Y)=\\frac{X∗Y}{||X||∗||Y||}$"
   ]
  },
  {
   "cell_type": "markdown",
   "metadata": {},
   "source": [
    "---"
   ]
  },
  {
   "cell_type": "markdown",
   "metadata": {},
   "source": [
    "#### A bit of intuition"
   ]
  },
  {
   "cell_type": "markdown",
   "metadata": {},
   "source": [
    "* Dot product can be written as :\n",
    "\n",
    "$DP = X_1*Y_1+X_2*Y_2+X_3*Y_3....X_n*Y_n$\n",
    "\n",
    "* OR:\n",
    "\n",
    "$DP = ||X||∗||Y||*\\cos(\\theta)$\n",
    "\n",
    "* Therefore\n",
    "\n",
    "$\\cos(\\theta) = \\frac{DP}{||X||∗||Y||}$"
   ]
  },
  {
   "cell_type": "markdown",
   "metadata": {},
   "source": [
    "---"
   ]
  },
  {
   "cell_type": "markdown",
   "metadata": {},
   "source": [
    "### Imports and Data"
   ]
  },
  {
   "cell_type": "code",
   "execution_count": null,
   "metadata": {},
   "outputs": [],
   "source": [
    "import pandas as pd\n",
    "import numpy as np\n",
    "import tqdm\n",
    "import seaborn as sns\n",
    "from sqlalchemy import create_engine\n",
    "from sklearn.metrics.pairwise import cosine_distances, euclidean_distances\n",
    "from sklearn.metrics import jaccard_score\n",
    "\n",
    "HOST = 'localhost'\n",
    "USERNAME = 'postgres'\n",
    "PASSWORD = 'postgres'\n",
    "PORT = '5432'\n",
    "DATABASE = 'movies'\n",
    "\n",
    "conn_string = f'postgres://{USERNAME}:{PASSWORD}@{HOST}:{PORT}/{DATABASE}'\n",
    "engine = create_engine(conn_string)\n",
    "\n",
    "df = pd.read_sql('ratings',conn_string)\n",
    "umr = df.pivot_table(values='rating', index='userId', columns='movieId')"
   ]
  },
  {
   "cell_type": "markdown",
   "metadata": {},
   "source": [
    "### Manually \n",
    "* We need to fillnas to manually calculate cosim"
   ]
  },
  {
   "cell_type": "code",
   "execution_count": null,
   "metadata": {},
   "outputs": [],
   "source": [
    "umr.fillna(0,inplace=True)"
   ]
  },
  {
   "cell_type": "code",
   "execution_count": null,
   "metadata": {},
   "outputs": [],
   "source": [
    "def cosim(vec1, vec2):\n",
    "    num = np.dot(vec1, vec2)\n",
    "    denom = np.sqrt(np.dot(vec1,vec1) * np.dot(vec2,vec2))\n",
    "    return num / denom"
   ]
  },
  {
   "cell_type": "code",
   "execution_count": null,
   "metadata": {},
   "outputs": [],
   "source": [
    "data = []\n",
    "for i, row1 in tqdm.tqdm(umr.iterrows()):\n",
    "    row = []\n",
    "    for j, row2 in umr.iterrows():\n",
    "        c = cosim(row1, row2)\n",
    "        row.append(c)\n",
    "    data.append(row)"
   ]
  },
  {
   "cell_type": "markdown",
   "metadata": {},
   "source": [
    "### Now we can create our own cosim matrix"
   ]
  },
  {
   "cell_type": "code",
   "execution_count": null,
   "metadata": {},
   "outputs": [],
   "source": [
    "cs = pd.DataFrame(data, index=umr.index, columns=umr.index).round(2)"
   ]
  },
  {
   "cell_type": "markdown",
   "metadata": {},
   "source": [
    "#### And use it to find k closest users"
   ]
  },
  {
   "cell_type": "code",
   "execution_count": null,
   "metadata": {},
   "outputs": [],
   "source": [
    "def pick_closest_existing_users(user_id, k):\n",
    "    closest_users = [cs.iloc[x] for x in np.argsort(cs.iloc[user_id])[-k+1:].values if x != user_id]\n",
    "    return closest_users"
   ]
  },
  {
   "cell_type": "markdown",
   "metadata": {},
   "source": [
    "### Automatically\n",
    "* All in one line of code!"
   ]
  },
  {
   "cell_type": "code",
   "execution_count": null,
   "metadata": {},
   "outputs": [],
   "source": [
    "cosim = pd.DataFrame(cosine_similarity(umr))\n",
    "sns.heatmap(cosim)"
   ]
  },
  {
   "cell_type": "markdown",
   "metadata": {},
   "source": [
    "---"
   ]
  },
  {
   "cell_type": "markdown",
   "metadata": {},
   "source": [
    "### Advantages of Cosim\n",
    "\n",
    "* fast\n",
    "* works for huge datasets\n",
    "* works with other types of features (genres, demography)\n",
    "* item based or user based\n",
    "\n",
    "### Disadvantages of Cosim\n",
    "* Treats missing data as negative\n",
    "* Most data is typically missing!\n",
    "* SOLUTION: normalize the data by subtracting the mean"
   ]
  },
  {
   "cell_type": "markdown",
   "metadata": {},
   "source": [
    "---"
   ]
  },
  {
   "cell_type": "markdown",
   "metadata": {},
   "source": [
    "### Challenge:\n",
    "* Handle a new user"
   ]
  },
  {
   "cell_type": "markdown",
   "metadata": {},
   "source": [
    "---"
   ]
  },
  {
   "cell_type": "markdown",
   "metadata": {},
   "source": [
    "### Euclidean Distance"
   ]
  },
  {
   "cell_type": "code",
   "execution_count": null,
   "metadata": {},
   "outputs": [],
   "source": [
    "euclid = pd.DataFrame(euclidean_distances(umr))\n",
    "sns.heatmap(euclid)"
   ]
  },
  {
   "cell_type": "markdown",
   "metadata": {},
   "source": [
    "---"
   ]
  },
  {
   "cell_type": "markdown",
   "metadata": {},
   "source": [
    "### Jaccard Similarity / Tanimoto Coefficient\n",
    "* Size of the intersection divided by the size of the union of the sample sets\n",
    "\n",
    "$ \\frac{| A \\cap B |}{|A \\cup B|}$\n",
    "\n",
    "* Pros: Quick and easy calcuation\n",
    "* Cons: Ignores the ratings of the set values"
   ]
  },
  {
   "cell_type": "code",
   "execution_count": null,
   "metadata": {},
   "outputs": [],
   "source": [
    "umr.fillna(0, inplace=True)\n",
    "jaccard_score(umr.iloc[0].round(), umr.iloc[1].round(), average='weighted')"
   ]
  },
  {
   "cell_type": "markdown",
   "metadata": {},
   "source": [
    "---"
   ]
  },
  {
   "cell_type": "markdown",
   "metadata": {},
   "source": [
    "### Other to try:\n",
    "* Clustering - KNN, Kmeans, etc"
   ]
  },
  {
   "cell_type": "code",
   "execution_count": null,
   "metadata": {},
   "outputs": [],
   "source": []
  }
 ],
 "metadata": {
  "kernelspec": {
   "display_name": "Python 3",
   "language": "python",
   "name": "python3"
  },
  "language_info": {
   "codemirror_mode": {
    "name": "ipython",
    "version": 3
   },
   "file_extension": ".py",
   "mimetype": "text/x-python",
   "name": "python",
   "nbconvert_exporter": "python",
   "pygments_lexer": "ipython3",
   "version": "3.7.6"
  }
 },
 "nbformat": 4,
 "nbformat_minor": 4
}
