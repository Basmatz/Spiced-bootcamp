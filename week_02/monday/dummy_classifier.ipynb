{
 "cells": [
  {
   "cell_type": "code",
   "execution_count": 6,
   "metadata": {},
   "outputs": [],
   "source": [
    "import pandas as pd\n",
    "import matplotlib.pyplot as plt\n",
    "import seaborn as sns\n",
    "\n",
    "from sklearn.dummy import DummyClassifier\n",
    "from sklearn.model_selection import train_test_split\n",
    "\n",
    "df=pd.read_csv(\"train.csv\")\n"
   ]
  },
  {
   "cell_type": "code",
   "execution_count": 7,
   "metadata": {},
   "outputs": [],
   "source": [
    "X = df[\"Embarked\"]\n",
    "y= df[\"Pclass\"]\n",
    "\n",
    "X_train, X_test, y_train, y_test = train_test_split(X,y) \n"
   ]
  },
  {
   "cell_type": "code",
   "execution_count": 14,
   "metadata": {},
   "outputs": [
    {
     "data": {
      "text/plain": [
       "array([3, 1, 2, 3, 3, 1, 3, 3, 3, 1, 3, 2, 2, 2, 3, 3, 1, 3, 2, 3, 3, 3,\n",
       "       3, 1, 2, 2, 3, 3, 3, 3, 3, 3, 2, 3, 3, 1, 3, 1, 3, 1, 3, 3, 1, 3,\n",
       "       3, 3, 1, 3, 2, 1, 2, 3, 3, 3, 3, 3, 3, 3, 2, 3, 3, 1, 3, 1, 3, 3,\n",
       "       2, 3, 2, 1, 3, 2, 3, 3, 2, 3, 2, 2, 1, 1, 3, 3, 3, 3, 1, 3, 2, 1,\n",
       "       3, 3, 2, 2, 1, 1, 3, 3, 3, 3, 1, 3, 3, 2, 3, 3, 3, 2, 3, 3, 1, 3,\n",
       "       2, 2, 1, 1, 3, 3, 3, 1, 3, 3, 2, 2, 3, 3, 2, 2, 3, 1, 3, 3, 3, 3,\n",
       "       3, 3, 1, 3, 1, 3, 3, 1, 3, 3, 3, 1, 2, 2, 3, 1, 3, 2, 1, 3, 2, 2,\n",
       "       3, 1, 2, 3, 3, 3, 1, 2, 3, 3, 3, 3, 1, 3, 3, 3, 3, 3, 1, 2, 3, 3,\n",
       "       1, 2, 3, 3, 1, 3, 2, 3, 3, 3, 3, 3, 3, 3, 3, 3, 3, 3, 3, 2, 3, 1,\n",
       "       3, 1, 1, 3, 3, 2, 1, 1, 3, 3, 3, 3, 2, 3, 3, 1, 3, 3, 3, 3, 3, 3,\n",
       "       3, 2, 1])"
      ]
     },
     "execution_count": 14,
     "metadata": {},
     "output_type": "execute_result"
    }
   ],
   "source": [
    "m = DummyClassifier(strategy='stratified')\n",
    "m.fit(X_train, y_train)\n",
    "ypred = m.predict(X_test)\n",
    "ypred \n"
   ]
  },
  {
   "cell_type": "code",
   "execution_count": 10,
   "metadata": {},
   "outputs": [
    {
     "data": {
      "text/plain": [
       "410    3\n",
       "331    1\n",
       "569    3\n",
       "650    3\n",
       "384    3\n",
       "      ..\n",
       "115    3\n",
       "259    2\n",
       "5      3\n",
       "761    3\n",
       "245    1\n",
       "Name: Pclass, Length: 223, dtype: int64"
      ]
     },
     "execution_count": 10,
     "metadata": {},
     "output_type": "execute_result"
    }
   ],
   "source": [
    "y_test"
   ]
  },
  {
   "cell_type": "code",
   "execution_count": null,
   "metadata": {},
   "outputs": [],
   "source": []
  }
 ],
 "metadata": {
  "kernelspec": {
   "display_name": "Python 3",
   "language": "python",
   "name": "python3"
  },
  "language_info": {
   "codemirror_mode": {
    "name": "ipython",
    "version": 3
   },
   "file_extension": ".py",
   "mimetype": "text/x-python",
   "name": "python",
   "nbconvert_exporter": "python",
   "pygments_lexer": "ipython3",
   "version": "3.7.6"
  }
 },
 "nbformat": 4,
 "nbformat_minor": 4
}
