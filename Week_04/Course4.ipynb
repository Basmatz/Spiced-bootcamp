{
 "cells": [
  {
   "cell_type": "code",
   "execution_count": 1,
   "outputs": [
    {
     "name": "stdout",
     "output_type": "stream",
     "text": [
      "Hamlet, Polonius, Ophelia, Claudius, \n"
     ]
    }
   ],
   "source": [
    "from bs4 import BeautifulSoup\n",
    "\n",
    "html = \"\"\"<html><head></head><body>\n",
    "<h1>Hamlet</h1>\n",
    "<ul class=\"cast\">\n",
    "  <li>Hamlet</li>\n",
    "  <li>Polonius</li>\n",
    "  <li>Ophelia</li>\n",
    "  <li>Claudius</li>\n",
    "</ul>\n",
    "<ul class=\"authors\">\n",
    "  <li>William Shakespeare</li>\n",
    "</ul>\n",
    "</body></html>\"\"\"\n",
    "\n",
    "soup = BeautifulSoup(html, \"lxml\")\n",
    "\n",
    "for ul in soup.find_all('ul'):\n",
    "    if \"cast\" in ul.get('class', []):\n",
    "        for item in ul.find_all('li'):\n",
    "            print(item.get_text(), end=\", \")\n",
    "        print()"
   ],
   "metadata": {
    "collapsed": false,
    "pycharm": {
     "name": "#%%\n"
    }
   }
  },
  {
   "cell_type": "code",
   "execution_count": null,
   "outputs": [],
   "source": [],
   "metadata": {
    "collapsed": false,
    "pycharm": {
     "name": "#%%\n"
    }
   }
  },
  {
   "cell_type": "code",
   "execution_count": null,
   "outputs": [],
   "source": [],
   "metadata": {
    "collapsed": false,
    "pycharm": {
     "name": "#%%\n"
    }
   }
  }
 ],
 "metadata": {
  "kernelspec": {
   "display_name": "Python 3",
   "language": "python",
   "name": "python3"
  },
  "language_info": {
   "codemirror_mode": {
    "name": "ipython",
    "version": 2
   },
   "file_extension": ".py",
   "mimetype": "text/x-python",
   "name": "python",
   "nbconvert_exporter": "python",
   "pygments_lexer": "ipython2",
   "version": "2.7.6"
  }
 },
 "nbformat": 4,
 "nbformat_minor": 0
}