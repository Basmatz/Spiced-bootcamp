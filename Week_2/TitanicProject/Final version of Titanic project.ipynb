{
 "cells": [
  {
   "cell_type": "markdown",
   "metadata": {},
   "source": [
    "# Final version of Titanic project"
   ]
  },
  {
   "cell_type": "code",
   "execution_count": 1,
   "metadata": {},
   "outputs": [],
   "source": [
    "import numpy as np\n",
    "import pandas as pd\n",
    "import seaborn as sns\n",
    "from matplotlib import pyplot as plt\n",
    "\n",
    "import time\n",
    "\n",
    "from sklearn.utils import resample\n",
    "\n",
    "from sklearn.model_selection import train_test_split\n",
    "from sklearn.model_selection import cross_val_score\n",
    "from sklearn.model_selection import GridSearchCV\n",
    "from sklearn.model_selection import RandomizedSearchCV\n",
    "\n",
    "from sklearn.preprocessing import OneHotEncoder\n",
    "from sklearn.preprocessing import MinMaxScaler, StandardScaler\n",
    "from sklearn.preprocessing import KBinsDiscretizer\n",
    "\n",
    "from sklearn.impute import SimpleImputer\n",
    "\n",
    "from sklearn.compose import ColumnTransformer\n",
    "from sklearn.compose import make_column_transformer\n",
    "\n",
    "from sklearn.pipeline import Pipeline\n",
    "from sklearn.pipeline import make_pipeline\n",
    "\n",
    "from sklearn.linear_model import LogisticRegression\n",
    "from sklearn.tree import DecisionTreeClassifier\n",
    "from sklearn.ensemble import RandomForestClassifier"
   ]
  },
  {
   "cell_type": "markdown",
   "metadata": {},
   "source": [
    "## Intro\n",
    "\n",
    "**Aims:**\n",
    "I'm trying to predict the survival outcomes of the passengers on the Titanic using machine learning techniques.\n",
    "\n",
    "**Feature Engineering Choices:**\n",
    "I did some exploratory data analysis and visualisation (see [my very messy Jupyter notebook from Monday](Titanic_Exploratory_Data_Analysis.ipynb)), and have made a few decisions:\n",
    "- *Passenger class:* Highly correlated with survival outcome. Since this is a categorical value, I'm using one-hot encoding to represent this variable.\n",
    "- *Imputing age:* There are missing values for the passengers' age. I'm imputing them by using the median age. This is more robust to outlier distortion.\n",
    "- *Age*: I'm scaling age so that any accidental differences in range between the training and test data do not bias the model.\n",
    "- *SibSp and Parch:* These indicate how many siblings or spouses a passenger is travelling with (i.e. people roughly your age) and how many parents or children (i.e. people either much older or much younger). Neither seem to be strongly correlated with survival, but I will combine them into a \"GroupSize\" metric that hopefully will magnify whatever predictive power either of them has. Again, I will scale this.\n",
    "- *Embark:* Indicates where a passenger embarked. There are different distributions especially in passenger class depending on where someone got on the *Titanic* -- e.g. many first-class passengers got on at Cherbourg. I'm going to use one-hot encoding here. There is one missing value. Since SimpleImputer() doesn't work for categorical values [see here] (https://jorisvandenbossche.github.io/blog/2018/05/28/scikit-learn-columntransformer/), I'm going to replace this by a value of 'M' for missing data point.\n",
    "- *Sex* appears to have had quite a strong effect on survival outcome. I'm using one-hot encoding for this.\n",
    "- *Name, Ticket, Cabin:* It is possible to get information out of these columns, as indicated [here] (https://www.kaggle.com/viczyf/titanic-random-forest-82-78), but that would require a lot of engineering. I'm not going to focus on these columns and will therefore remove them from the data under consideration.\n",
    "- *Fare:* Odd distribution that doesn't really align well with passenger class (there are first-class passengers whose fare was around the same as third-class passengers). I will leave this in as a scaled value but am not sure it will really help the model.\n",
    "\n",
    "**Model Choice:**\n",
    "I'm going to compare a logistic regression model (good for binary outcomes) and a random forest model.\n",
    "\n",
    "**Model Evaluation:**\n",
    "The evaluation metric we're using for this project is pre-defined (by the terms of the Kaggle competition) as accuracy.\n",
    "\n",
    "**Cross-Validation:**\n",
    "I'm using bootstrapping to cross-validate."
   ]
  },
  {
   "cell_type": "markdown",
   "metadata": {},
   "source": [
    "## Import data and split"
   ]
  },
  {
   "cell_type": "code",
   "execution_count": 2,
   "metadata": {},
   "outputs": [
    {
     "data": {
      "text/plain": [
       "<matplotlib.axes._subplots.AxesSubplot at 0x1a18174f10>"
      ]
     },
     "execution_count": 2,
     "metadata": {},
     "output_type": "execute_result"
    },
    {
     "data": {
      "image/png": "[encoded data removed]",
      "text/plain": [
       "<Figure size 432x288 with 2 Axes>"
      ]
     },
     "metadata": {
      "needs_background": "light"
     },
     "output_type": "display_data"
    }
   ],
   "source": [
    "### IMPORT DATA\n",
    "df = pd.read_csv('train.csv', index_col = 0)\n",
    "\n",
    "df = df.drop(['Cabin', 'Ticket', 'Name'], axis = 1)\n",
    "\n",
    "y = df['Survived']\n",
    "\n",
    "# just to be sure -- dropping survival column from df\n",
    "df = df.drop(['Survived'], axis = 1)\n",
    "\n",
    "sns.heatmap(df.isna())"
   ]
  },
  {
   "cell_type": "code",
   "execution_count": 3,
   "metadata": {},
   "outputs": [],
   "source": [
    "### CREATE NEW GROUPSIZE COLUMN\n",
    "\n",
    "df['GroupSize'] = df['SibSp'] + df['Parch']\n",
    "\n",
    "df = df.drop(['SibSp', 'Parch'], axis = 1)"
   ]
  },
  {
   "cell_type": "code",
   "execution_count": 4,
   "metadata": {},
   "outputs": [],
   "source": [
    "### EMBARK COLUMN\n",
    "\n",
    "## Turns out it is a huge pain to use factorize() here as it outputs an array, which then needs transformation to be inserted back into the df.\n",
    "## I am going to manually replace values.\n",
    "\n",
    "\n",
    "# df['Embarked'] = df['Embarked'].fillna(np.nan, 'M')\n",
    "\n",
    "df['Embarked'] = df['Embarked'].fillna('M')"
   ]
  },
  {
   "cell_type": "code",
   "execution_count": 5,
   "metadata": {},
   "outputs": [],
   "source": [
    "### For pipeline below, passenger class must be formatted as string\n",
    "\n",
    "df['Pclass'] = df['Pclass'].astype(str)\n"
   ]
  },
  {
   "cell_type": "code",
   "execution_count": 6,
   "metadata": {
    "scrolled": true
   },
   "outputs": [
    {
     "name": "stdout",
     "output_type": "stream",
     "text": [
      "<class 'pandas.core.frame.DataFrame'>\n",
      "Int64Index: 891 entries, 1 to 891\n",
      "Data columns (total 6 columns):\n",
      " #   Column     Non-Null Count  Dtype  \n",
      "---  ------     --------------  -----  \n",
      " 0   Pclass     891 non-null    object \n",
      " 1   Sex        891 non-null    object \n",
      " 2   Age        714 non-null    float64\n",
      " 3   Fare       891 non-null    float64\n",
      " 4   Embarked   891 non-null    object \n",
      " 5   GroupSize  891 non-null    int64  \n",
      "dtypes: float64(2), int64(1), object(3)\n",
      "memory usage: 48.7+ KB\n"
     ]
    }
   ],
   "source": [
    "df.info()"
   ]
  },
  {
   "cell_type": "code",
   "execution_count": 7,
   "metadata": {},
   "outputs": [
    {
     "data": {
      "text/plain": [
       "((668, 6), (223, 6), (668,), (223,))"
      ]
     },
     "execution_count": 7,
     "metadata": {},
     "output_type": "execute_result"
    }
   ],
   "source": [
    "### SPLIT DATA INTO TRAIN AND TEST SETS\n",
    "Xtrain, Xtest, ytrain, ytest = train_test_split(df, y)\n",
    "\n",
    "Xtrain.shape, Xtest.shape, ytrain.shape, ytest.shape"
   ]
  },
  {
   "cell_type": "code",
   "execution_count": 8,
   "metadata": {},
   "outputs": [
    {
     "name": "stdout",
     "output_type": "stream",
     "text": [
      "<class 'pandas.core.frame.DataFrame'>\n",
      "Int64Index: 668 entries, 538 to 25\n",
      "Data columns (total 6 columns):\n",
      " #   Column     Non-Null Count  Dtype  \n",
      "---  ------     --------------  -----  \n",
      " 0   Pclass     668 non-null    object \n",
      " 1   Sex        668 non-null    object \n",
      " 2   Age        531 non-null    float64\n",
      " 3   Fare       668 non-null    float64\n",
      " 4   Embarked   668 non-null    object \n",
      " 5   GroupSize  668 non-null    int64  \n",
      "dtypes: float64(2), int64(1), object(3)\n",
      "memory usage: 36.5+ KB\n"
     ]
    }
   ],
   "source": [
    "Xtrain.info()"
   ]
  },
  {
   "cell_type": "markdown",
   "metadata": {},
   "source": [
    "## Build and evaluate a baseline model\n",
    "\n",
    "(From Monday afternoon challenges)"
   ]
  },
  {
   "cell_type": "code",
   "execution_count": 7,
   "metadata": {},
   "outputs": [],
   "source": [
    "# take out all of the columns we can't immediately use because they're in the wrong format, have too many NaNs, etc.\n",
    "\n",
    "dummy_cols = ['Pclass', 'Age', 'SibSp', 'Fare']\n",
    "\n",
    "X_dummy_train = X_train[dummy_cols]\n",
    "X_dummy_test = X_test[dummy_cols]"
   ]
  },
  {
   "cell_type": "code",
   "execution_count": 8,
   "metadata": {},
   "outputs": [],
   "source": [
    "m_base = DummyClassifier(strategy='most_frequent')\n",
    "m_base.fit(X_dummy_train, y_train)\n",
    "y_pred_base = m_base.predict(X_dummy_train)"
   ]
  },
  {
   "cell_type": "code",
   "execution_count": 9,
   "metadata": {},
   "outputs": [
    {
     "data": {
      "text/plain": [
       "'Training accuracy: 0.6107784431137725'"
      ]
     },
     "execution_count": 9,
     "metadata": {},
     "output_type": "execute_result"
    }
   ],
   "source": [
    "f'Training accuracy: {m_base.score(X_dummy_train, y_train)}'"
   ]
  },
  {
   "cell_type": "code",
   "execution_count": 10,
   "metadata": {},
   "outputs": [
    {
     "data": {
      "text/plain": [
       "'Test accuracy: 0.6322869955156951'"
      ]
     },
     "execution_count": 10,
     "metadata": {},
     "output_type": "execute_result"
    }
   ],
   "source": [
    "f'Test accuracy: {m_base.score(X_dummy_test, y_test)}'"
   ]
  },
  {
   "cell_type": "markdown",
   "metadata": {},
   "source": [
    "**Dummy model before any kind of feature engineering has a test accuracy of 63%.**\n",
    "\n",
    "If our dummy model predicted \"do not survive\" for every passenger, it would have an accuracy of around 60% (around 60% of passengers died in the shipwreck).\n",
    "\n",
    "If the dummy model is flipping a coin, it should do worse than this (and this is borne out above).\n",
    "\n",
    "**Interesting note for later:** The dummy model has a higher accuracy on the test than the training"
   ]
  },
  {
   "cell_type": "markdown",
   "metadata": {},
   "source": [
    "## Feature Engineering"
   ]
  },
  {
   "cell_type": "markdown",
   "metadata": {},
   "source": [
    "### Dealing with missing values\n",
    "\n",
    "I initially hoped to use `impute.SimpleImputer` to do impute missing ages and points of embarkation within my transformer below. For Embark, we will need to first factorise into 3 categories. I did this above before splitting into training and test data. Since I ended up having a lot of trouble getting `impute.SimpleImputer` to work, for the purposes of this project (and meeting the Friday deadline!) I ended up doing this manually after all."
   ]
  },
  {
   "cell_type": "markdown",
   "metadata": {},
   "source": [
    "### New variable: GroupSize\n",
    "\n",
    "I created this before splitting the data. Perhaps not the best practice, but only values from within each row interact, meaning that each row remains independent of other rows (and we maintain separation of the test and training data). This is a lot simpler than implementing it within the transformer. :)\n",
    "\n",
    "### Create Transformer\n",
    "\n",
    "To Do list for transformer, in order:\n",
    "\n",
    "- Impute missing ages using median\n",
    "- Impute missing Embark values using median\n",
    "- One-hot encode Pclass, Sex, Embark\n",
    "- Pass through Fare, Age, GroupSize (will be scaled later)\n",
    "\n",
    "Note: Because we are doing different kinds of feature encoding, sometimes on the same columns, we need to define separate `pipeline` steps. This is because `ColumnTransformer()` itself runs on the original column each line, rather than the output of a previous line, meaning that you can't run it on the same column.\n",
    "\n",
    "**[EDIT]** I've removed from this notebook a lot of different things that I treid to do and couldn't get to work... we are picking up after my decision not to include imputing missing values in the preprocessing pipeline."
   ]
  },
  {
   "cell_type": "markdown",
   "metadata": {},
   "source": [
    "## Ultimate decision on imputating missing ages"
   ]
  },
  {
   "cell_type": "markdown",
   "metadata": {},
   "source": [
    "Let's do this manually."
   ]
  },
  {
   "cell_type": "code",
   "execution_count": 9,
   "metadata": {},
   "outputs": [
    {
     "data": {
      "text/plain": [
       "28.0"
      ]
     },
     "execution_count": 9,
     "metadata": {},
     "output_type": "execute_result"
    }
   ],
   "source": [
    "# Find median age in Xtrain\n",
    "\n",
    "median_age = Xtrain['Age'].median()\n",
    "median_age"
   ]
  },
  {
   "cell_type": "code",
   "execution_count": 10,
   "metadata": {},
   "outputs": [
    {
     "name": "stderr",
     "output_type": "stream",
     "text": [
      "/opt/anaconda3/lib/python3.7/site-packages/ipykernel_launcher.py:3: SettingWithCopyWarning: \n",
      "A value is trying to be set on a copy of a slice from a DataFrame.\n",
      "Try using .loc[row_indexer,col_indexer] = value instead\n",
      "\n",
      "See the caveats in the documentation: https://pandas.pydata.org/pandas-docs/stable/user_guide/indexing.html#returning-a-view-versus-a-copy\n",
      "  This is separate from the ipykernel package so we can avoid doing imports until\n",
      "/opt/anaconda3/lib/python3.7/site-packages/ipykernel_launcher.py:4: SettingWithCopyWarning: \n",
      "A value is trying to be set on a copy of a slice from a DataFrame.\n",
      "Try using .loc[row_indexer,col_indexer] = value instead\n",
      "\n",
      "See the caveats in the documentation: https://pandas.pydata.org/pandas-docs/stable/user_guide/indexing.html#returning-a-view-versus-a-copy\n",
      "  after removing the cwd from sys.path.\n"
     ]
    }
   ],
   "source": [
    "# Replace missing values with median in training and test data\n",
    "\n",
    "Xtrain['Age'] = Xtrain['Age'].fillna(median_age)\n",
    "Xtest['Age'] = Xtest['Age'].fillna(median_age)"
   ]
  },
  {
   "cell_type": "markdown",
   "metadata": {},
   "source": [
    "### Build pipeline"
   ]
  },
  {
   "cell_type": "code",
   "execution_count": 11,
   "metadata": {},
   "outputs": [
    {
     "data": {
      "text/plain": [
       "Index(['Pclass', 'Sex', 'Age', 'Fare', 'Embarked', 'GroupSize'], dtype='object')"
      ]
     },
     "execution_count": 11,
     "metadata": {},
     "output_type": "execute_result"
    }
   ],
   "source": [
    "Xtrain.columns"
   ]
  },
  {
   "cell_type": "code",
   "execution_count": 75,
   "metadata": {},
   "outputs": [],
   "source": [
    "trans = ColumnTransformer([\n",
    "    ('onehot', OneHotEncoder(sparse = False, handle_unknown = 'ignore'), ['Pclass', 'Sex', 'Embarked']), # cols to one-hot-encode\n",
    "#    ('binning', KBinsDiscretizer(n_bins = 3, encode = 'onehot', strategy = 'quantile'), ['GroupSize', 'Fare']), \n",
    "    ('do_nothing', 'passthrough', ['Age'])   # columns to ignore\n",
    "])"
   ]
  },
  {
   "cell_type": "code",
   "execution_count": 73,
   "metadata": {},
   "outputs": [
    {
     "data": {
      "text/plain": [
       "Pipeline(steps=[('columntransformer',\n",
       "                 ColumnTransformer(transformers=[('onehot',\n",
       "                                                  OneHotEncoder(handle_unknown='ignore',\n",
       "                                                                sparse=False),\n",
       "                                                  ['Pclass', 'Sex',\n",
       "                                                   'Embarked']),\n",
       "                                                 ('binning',\n",
       "                                                  KBinsDiscretizer(n_bins=3),\n",
       "                                                  ['GroupSize', 'Fare']),\n",
       "                                                 ('do_nothing', 'passthrough',\n",
       "                                                  ['Age'])])),\n",
       "                ('minmaxscaler', MinMaxScaler())])"
      ]
     },
     "execution_count": 73,
     "metadata": {},
     "output_type": "execute_result"
    }
   ],
   "source": [
    "# Pipeline that transforms, then scales, then feeds into LogReg\n",
    "\n",
    "preprocessor = make_pipeline(\n",
    "    trans,                 # transformed data\n",
    "    MinMaxScaler()        # scale\n",
    ")\n",
    "\n",
    "preprocessor"
   ]
  },
  {
   "cell_type": "markdown",
   "metadata": {},
   "source": [
    "#### Preprocess training and test data"
   ]
  },
  {
   "cell_type": "code",
   "execution_count": 74,
   "metadata": {},
   "outputs": [
    {
     "name": "stdout",
     "output_type": "stream",
     "text": [
      "(668, 15)\n"
     ]
    },
    {
     "name": "stderr",
     "output_type": "stream",
     "text": [
      "/opt/anaconda3/lib/python3.7/site-packages/sklearn/preprocessing/_discretization.py:202: UserWarning: Bins whose width are too small (i.e., <= 1e-8) in feature 0 are removed. Consider decreasing the number of bins.\n",
      "  'decreasing the number of bins.' % jj)\n"
     ]
    },
    {
     "data": {
      "text/plain": [
       "(223, 15)"
      ]
     },
     "execution_count": 74,
     "metadata": {},
     "output_type": "execute_result"
    }
   ],
   "source": [
    "# Preprocess the Xtrain data\n",
    "Xtrain_preprocessed = preprocessor.fit_transform(Xtrain)\n",
    "print(Xtrain_preprocessed.shape)\n",
    "\n",
    "# Preprocess Xtest data\n",
    "Xtest_preprocessed = preprocessor.transform(Xtest)\n",
    "Xtest_preprocessed.shape"
   ]
  },
  {
   "cell_type": "markdown",
   "metadata": {},
   "source": [
    "#### Fit model"
   ]
  },
  {
   "cell_type": "code",
   "execution_count": 15,
   "metadata": {},
   "outputs": [
    {
     "data": {
      "text/plain": [
       "0.8008982035928144"
      ]
     },
     "execution_count": 15,
     "metadata": {},
     "output_type": "execute_result"
    }
   ],
   "source": [
    "m = LogisticRegression()\n",
    "\n",
    "# fit log reg model to preprocessed data\n",
    "m.fit(Xtrain_preprocessed, ytrain)\n",
    "m.score(Xtrain_preprocessed, ytrain)"
   ]
  },
  {
   "cell_type": "markdown",
   "metadata": {},
   "source": [
    "### Optimisation"
   ]
  },
  {
   "cell_type": "markdown",
   "metadata": {},
   "source": [
    "#### Step 1: Randomized search to select hyperparameters\n",
    "\n",
    "Sources: https://chrisalbon.com/machine_learning/model_selection/hyperparameter_tuning_using_grid_search/; \n",
    "https://chrisalbon.com/machine_learning/model_selection/pipelines_with_parameter_optimization/"
   ]
  },
  {
   "cell_type": "code",
   "execution_count": 16,
   "metadata": {},
   "outputs": [
    {
     "data": {
      "text/plain": [
       "{'C': array([1.00000000e-04, 1.93069773e-04, 3.72759372e-04, 7.19685673e-04,\n",
       "        1.38949549e-03, 2.68269580e-03, 5.17947468e-03, 1.00000000e-02,\n",
       "        1.93069773e-02, 3.72759372e-02, 7.19685673e-02, 1.38949549e-01,\n",
       "        2.68269580e-01, 5.17947468e-01, 1.00000000e+00, 1.93069773e+00,\n",
       "        3.72759372e+00, 7.19685673e+00, 1.38949549e+01, 2.68269580e+01,\n",
       "        5.17947468e+01, 1.00000000e+02, 1.93069773e+02, 3.72759372e+02,\n",
       "        7.19685673e+02, 1.38949549e+03, 2.68269580e+03, 5.17947468e+03,\n",
       "        1.00000000e+04, 1.93069773e+04, 3.72759372e+04, 7.19685673e+04,\n",
       "        1.38949549e+05, 2.68269580e+05, 5.17947468e+05, 1.00000000e+06,\n",
       "        1.93069773e+06, 3.72759372e+06, 7.19685673e+06, 1.38949549e+07,\n",
       "        2.68269580e+07, 5.17947468e+07, 1.00000000e+08, 1.93069773e+08,\n",
       "        3.72759372e+08, 7.19685673e+08, 1.38949549e+09, 2.68269580e+09,\n",
       "        5.17947468e+09, 1.00000000e+10])}"
      ]
     },
     "execution_count": 16,
     "metadata": {},
     "output_type": "execute_result"
    }
   ],
   "source": [
    "# define hyperparameters: we will learn next week what these actually are\n",
    "hyperparameters = {\n",
    "    'C' : np.logspace(-4, 10, 50),\n",
    "}\n",
    "\n",
    "hyperparameters"
   ]
  },
  {
   "cell_type": "code",
   "execution_count": 17,
   "metadata": {},
   "outputs": [
    {
     "data": {
      "text/plain": [
       "RandomizedSearchCV(estimator=LogisticRegression(),\n",
       "                   param_distributions={'C': array([1.00000000e-04, 1.93069773e-04, 3.72759372e-04, 7.19685673e-04,\n",
       "       1.38949549e-03, 2.68269580e-03, 5.17947468e-03, 1.00000000e-02,\n",
       "       1.93069773e-02, 3.72759372e-02, 7.19685673e-02, 1.38949549e-01,\n",
       "       2.68269580e-01, 5.17947468e-01, 1.00000000e+00, 1.93069773e+00,\n",
       "       3.72759372e+00, 7.19685673e+0...\n",
       "       7.19685673e+02, 1.38949549e+03, 2.68269580e+03, 5.17947468e+03,\n",
       "       1.00000000e+04, 1.93069773e+04, 3.72759372e+04, 7.19685673e+04,\n",
       "       1.38949549e+05, 2.68269580e+05, 5.17947468e+05, 1.00000000e+06,\n",
       "       1.93069773e+06, 3.72759372e+06, 7.19685673e+06, 1.38949549e+07,\n",
       "       2.68269580e+07, 5.17947468e+07, 1.00000000e+08, 1.93069773e+08,\n",
       "       3.72759372e+08, 7.19685673e+08, 1.38949549e+09, 2.68269580e+09,\n",
       "       5.17947468e+09, 1.00000000e+10])})"
      ]
     },
     "execution_count": 17,
     "metadata": {},
     "output_type": "execute_result"
    }
   ],
   "source": [
    "# define the grid search: which model to use (the one we defined above) and which hyperparameters\n",
    "clf = RandomizedSearchCV(m, hyperparameters)\n",
    "\n",
    "# \n",
    "clf.fit(Xtrain_preprocessed, ytrain)"
   ]
  },
  {
   "cell_type": "code",
   "execution_count": 23,
   "metadata": {},
   "outputs": [
    {
     "name": "stdout",
     "output_type": "stream",
     "text": [
      "0.7874251497005988\n",
      "0.8116591928251121\n"
     ]
    }
   ],
   "source": [
    "# run the best model on the preprocessed TRAINING data\n",
    "print(clf.best_estimator_.score(Xtrain_preprocessed, ytrain))\n",
    "\n",
    "# run the best model on the preprocessed TEST data; store in variable\n",
    "test_score = clf.best_estimator_.score(Xtest_preprocessed, ytest)\n",
    "print(clf.best_estimator_.score(Xtest_preprocessed, ytest))\n",
    "\n"
   ]
  },
  {
   "cell_type": "markdown",
   "metadata": {},
   "source": [
    "### Bootstrapping accuracy with confidence interval"
   ]
  },
  {
   "cell_type": "code",
   "execution_count": 36,
   "metadata": {},
   "outputs": [],
   "source": [
    "boots_train = []\n",
    "\n",
    "for i in range(1000):\n",
    "    Xb, yb = resample(Xtrain_preprocessed, ytrain)\n",
    "    clf.best_estimator_.fit(Xb, yb)\n",
    "    score = clf.best_estimator_.score(Xb, yb)\n",
    "    boots_train.append(score)\n",
    "    \n",
    "    \n",
    "boots_test = []\n",
    "\n",
    "for i in range(1000):\n",
    "    Xb, yb = resample(Xtest_preprocessed, ytest)\n",
    "    clf.best_estimator_.fit(Xb, yb)\n",
    "    score = clf.best_estimator_.score(Xb, yb)\n",
    "    boots_test.append(score)"
   ]
  },
  {
   "cell_type": "code",
   "execution_count": null,
   "metadata": {},
   "outputs": [],
   "source": [
    "# Sort bootstrapping outcomes\n",
    "boots_train.sort()\n",
    "boots_test.sort()"
   ]
  },
  {
   "cell_type": "code",
   "execution_count": 92,
   "metadata": {},
   "outputs": [],
   "source": [
    "ci95_train = boots_train[25:-25]\n",
    "ci95_test = boots_test[25:-25]"
   ]
  },
  {
   "cell_type": "code",
   "execution_count": 67,
   "metadata": {},
   "outputs": [
    {
     "data": {
      "text/plain": [
       "(0.72, 0.9)"
      ]
     },
     "execution_count": 67,
     "metadata": {},
     "output_type": "execute_result"
    },
    {
     "data": {
      "image/png": "[encoded data removed]",
      "text/plain": [
       "<Figure size 432x288 with 1 Axes>"
      ]
     },
     "metadata": {
      "needs_background": "light"
     },
     "output_type": "display_data"
    }
   ],
   "source": [
    "# Plotting\n",
    "\n",
    "sns.distplot(boots_train,  kde=False, label = 'train; LogReg')\n",
    "plt.axvline(ci95_train[0], color = 'black', alpha = 0.5)\n",
    "plt.axvline(ci95_train[-1], color = 'black', alpha = 0.5)\n",
    "\n",
    "sns.distplot(boots_test,  kde=False, label = 'test; LogReg')\n",
    "plt.axvline(ci95_test[0], color = 'black', linestyle = '--', alpha = 0.5)\n",
    "plt.axvline(ci95_test[-1] , color = 'black', linestyle = '--', alpha = 0.5)\n",
    "\n",
    "plt.legend()\n",
    "plt.xlim(.72, .9)"
   ]
  },
  {
   "cell_type": "markdown",
   "metadata": {},
   "source": [
    "## Random Forest Model"
   ]
  },
  {
   "cell_type": "markdown",
   "metadata": {},
   "source": [
    "I'm going to use the data I've already preprocessed, so that I can compare the outcomes better between the LogReg and Random Forest models."
   ]
  },
  {
   "cell_type": "code",
   "execution_count": 54,
   "metadata": {},
   "outputs": [],
   "source": [
    "# Set up model\n",
    "\n",
    "rf = RandomForestClassifier()"
   ]
  },
  {
   "cell_type": "markdown",
   "metadata": {},
   "source": [
    "### Parameter optimization using randomized search"
   ]
  },
  {
   "cell_type": "code",
   "execution_count": 93,
   "metadata": {},
   "outputs": [],
   "source": [
    "import time"
   ]
  },
  {
   "cell_type": "code",
   "execution_count": 98,
   "metadata": {},
   "outputs": [],
   "source": [
    "# Dictionary of hyperparameters\n",
    "\n",
    "hyperparams = {\n",
    "    'max_depth' : list(range(1, 11)),\n",
    "    'min_samples_split' : list(range(2, 20, 5))\n",
    "}\n",
    "\n",
    "# create an estimator\n",
    "g = GridSearchCV(rf, hyperparams, cv = 5)"
   ]
  },
  {
   "cell_type": "code",
   "execution_count": 100,
   "metadata": {},
   "outputs": [
    {
     "name": "stdout",
     "output_type": "stream",
     "text": [
      "Runtime for training RandomForestClassifier was:      29.73627781867981s\n"
     ]
    }
   ],
   "source": [
    "start = time.time()\n",
    "# now fit it on your data\n",
    "g.fit(Xtrain_preprocessed, ytrain)\n",
    "\n",
    "stop = time.time()\n",
    "\n",
    "print(f'Runtime for training RandomForestClassifier was:      {stop - start}s')"
   ]
  },
  {
   "cell_type": "code",
   "execution_count": 84,
   "metadata": {},
   "outputs": [
    {
     "data": {
      "text/plain": [
       "RandomForestClassifier(max_depth=5, min_samples_split=12)"
      ]
     },
     "execution_count": 84,
     "metadata": {},
     "output_type": "execute_result"
    }
   ],
   "source": [
    "g.best_estimator_"
   ]
  },
  {
   "cell_type": "markdown",
   "metadata": {},
   "source": [
    "### Bootstrapping"
   ]
  },
  {
   "cell_type": "code",
   "execution_count": 85,
   "metadata": {},
   "outputs": [],
   "source": [
    "rf_boots_train = []\n",
    "\n",
    "for i in range(100):\n",
    "    Xb, yb = resample(Xtrain_preprocessed, ytrain)\n",
    "    g.best_estimator_.fit(Xb, yb)\n",
    "    score = g.best_estimator_.score(Xb, yb)\n",
    "    rf_boots_train.append(score)\n",
    "    \n",
    "    \n",
    "rf_boots_test = []\n",
    "\n",
    "for i in range(100):\n",
    "    Xb, yb = resample(Xtest_preprocessed, ytest)\n",
    "    g.best_estimator_.fit(Xb, yb)\n",
    "    score = g.best_estimator_.score(Xb, yb)\n",
    "    rf_boots_test.append(score)"
   ]
  },
  {
   "cell_type": "code",
   "execution_count": 86,
   "metadata": {},
   "outputs": [],
   "source": [
    "# Sort bootstrapping outcomes\n",
    "rf_boots_train.sort()\n",
    "rf_boots_test.sort()"
   ]
  },
  {
   "cell_type": "code",
   "execution_count": 87,
   "metadata": {},
   "outputs": [],
   "source": [
    "rf_ci90_train = rf_boots_train[5:-5]\n",
    "rf_ci90_test = rf_boots_test[5:-5]"
   ]
  },
  {
   "cell_type": "code",
   "execution_count": 91,
   "metadata": {},
   "outputs": [
    {
     "data": {
      "text/plain": [
       "(0.8, 0.95)"
      ]
     },
     "execution_count": 91,
     "metadata": {},
     "output_type": "execute_result"
    },
    {
     "data": {
      "image/png": "[encoded data removed]",
      "text/plain": [
       "<Figure size 432x288 with 1 Axes>"
      ]
     },
     "metadata": {
      "needs_background": "light"
     },
     "output_type": "display_data"
    }
   ],
   "source": [
    "# Plotting\n",
    "\n",
    "sns.distplot(rf_boots_train,  kde=False, label = 'train; RandomForest')\n",
    "plt.axvline(rf_ci90_train[0], color = 'black', alpha = 0.5)\n",
    "plt.axvline(rf_ci90_train[-1], color = 'black', alpha = 0.5)\n",
    "\n",
    "sns.distplot(rf_boots_test,  kde=False, label = 'test; RandomForest')\n",
    "plt.axvline(rf_ci90_test[0], color = 'black', linestyle = '--', alpha = 0.5)\n",
    "plt.axvline(rf_ci90_test[-1] , color = 'black', linestyle = '--', alpha = 0.5)\n",
    "\n",
    "plt.legend()\n",
    "plt.xlim(.8, .95)"
   ]
  },
  {
   "cell_type": "code",
   "execution_count": null,
   "metadata": {},
   "outputs": [],
   "source": []
  }
 ],
 "metadata": {
  "kernelspec": {
   "display_name": "Python 3",
   "language": "python",
   "name": "python3"
  },
  "language_info": {
   "codemirror_mode": {
    "name": "ipython",
    "version": 3
   },
   "file_extension": ".py",
   "mimetype": "text/x-python",
   "name": "python",
   "nbconvert_exporter": "python",
   "pygments_lexer": "ipython3",
   "version": "3.7.6"
  }
 },
 "nbformat": 4,
 "nbformat_minor": 4
}
