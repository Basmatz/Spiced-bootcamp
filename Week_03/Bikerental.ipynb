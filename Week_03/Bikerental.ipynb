{
 "cells": [
  {
   "cell_type": "code",
   "execution_count": null,
   "metadata": {},
   "outputs": [],
   "source": [
    "###Imports\n",
    "import seaborn as sns\n",
    "import pandas as pd\n",
    "import numpy as np\n",
    "import matplotlib.pyplot as plt\n",
    "from sklearn.linear_model import LinearRegression\n",
    "from sklearn.preprocessing import OneHotEncoder\n",
    "from sklearn.model_selection import train_test_split\n",
    "from sklearn.preprocessing import RobustScaler\n",
    "import time\n",
    "from sklearn.preprocessing import StandardScaler\n",
    "\n",
    "#Plot Size\n",
    "plt.rcParams[\"figure.figsize\"] = (14, 8)"
   ]
  },
  {
   "cell_type": "code",
   "metadata": {
    "pycharm": {
     "name": "#%%\n"
    }
   },
   "source": [
    "###Load Data\n",
    "df = pd.read_csv(\"train.csv\")\n",
    "df_test = pd.read_csv(\"test.csv\")"
   ],
   "execution_count": null,
   "outputs": []
  },
  {
   "cell_type": "markdown",
   "metadata": {
    "pycharm": {
     "name": "#%% md\n"
    }
   },
   "source": [
    "### Train Test Split"
   ]
  },
  {
   "cell_type": "code",
   "metadata": {
    "pycharm": {
     "name": "#%%\n"
    }
   },
   "source": [
    "X = df.drop([\"count\",\"casual\",\"registered\"], axis=1)\n",
    "y = df[\"count\"]\n",
    "\n",
    "X_train, X_test, y_train, y_test = train_test_split(X, y, train_size=0.8, test_size=0.2, random_state=0)"
   ],
   "execution_count": null,
   "outputs": []
  },
  {
   "cell_type": "markdown",
   "metadata": {
    "pycharm": {
     "name": "#%% md\n"
    }
   },
   "source": [
    "### Data Exploration"
   ]
  },
  {
   "cell_type": "code",
   "execution_count": null,
   "outputs": [],
   "source": [
    "eda = X_train.join(y_train)"
   ],
   "metadata": {
    "collapsed": false,
    "pycharm": {
     "name": "#%%\n"
    }
   }
  },
  {
   "cell_type": "code",
   "execution_count": null,
   "outputs": [],
   "source": [
    "eda.isna().any().sum()"
   ],
   "metadata": {
    "collapsed": false,
    "pycharm": {
     "name": "#%%\n"
    }
   }
  },
  {
   "cell_type": "code",
   "execution_count": null,
   "outputs": [],
   "source": [
    "#Transform date column to datetime format\n",
    "eda[\"datetime\"] = pd.to_datetime(eda[\"datetime\"])\n"
   ],
   "metadata": {
    "collapsed": false,
    "pycharm": {
     "name": "#%%\n"
    }
   }
  },
  {
   "cell_type": "code",
   "execution_count": null,
   "outputs": [],
   "source": [
    "#Create time columns\n",
    "eda[\"hour\"] = eda[\"datetime\"].dt.hour\n",
    "eda[\"day\"] = eda[\"datetime\"].dt.day\n",
    "eda[\"month\"] = eda[\"datetime\"].dt.month\n",
    "eda[\"year\"] = eda[\"datetime\"].dt.year\n",
    "eda[\"yday\"] = eda[\"datetime\"].dt.dayofyear\n",
    "eda[\"wday\"] = eda[\"datetime\"].dt.dayofweek"
   ],
   "metadata": {
    "collapsed": false,
    "pycharm": {
     "name": "#%%\n"
    }
   }
  },
  {
   "cell_type": "code",
   "execution_count": null,
   "outputs": [],
   "source": [
    "#Create column for weekend\n",
    "eda.loc[(eda[\"datetime\"].apply(lambda x: x.weekday() > 4)), \"weekend\"] = 1\n",
    "eda.loc[(eda[\"datetime\"].apply(lambda x: x.weekday() <= 4)), \"weekend\"] = 0\n"
   ],
   "metadata": {
    "collapsed": false,
    "pycharm": {
     "name": "#%%\n"
    }
   }
  },
  {
   "cell_type": "code",
   "metadata": {
    "pycharm": {
     "name": "#%%\n"
    }
   },
   "source": [
    "#Difference between holiday, weekday and weekend\n",
    "\n",
    "sns.lineplot(x=eda[\"hour\"],y=eda[\"count\"],hue=eda[\"holiday\"])\n",
    "plt.show()\n",
    "sns.lineplot(x=eda[\"hour\"],y=eda[\"count\"],hue=eda[\"workingday\"])\n",
    "plt.show()\n",
    "sns.lineplot(x=eda[\"hour\"],y=eda[\"count\"],hue=eda[\"weekend\"])\n",
    "\n",
    "# daytype = train[(train[\"holiday\"] == 0)\n",
    "#     & (train[\"workingday\"] == 0)\n",
    "#                     ]\n",
    "# daytype"
   ],
   "execution_count": null,
   "outputs": []
  },
  {
   "cell_type": "code",
   "metadata": {
    "pycharm": {
     "name": "#%%\n"
    }
   },
   "source": [
    "#Overall Average\n",
    "overall_mean = int(round(eda[\"count\"].mean()))\n",
    "print(f\"Average Usage overall: {overall_mean}\")\n",
    "\n",
    "#Average usage on holidays\n",
    "holiday_mean = int(round(eda[\"count\"].loc[(eda[\"holiday\"] == 1)].mean()))\n",
    "print(f\"Average Usage on holidays: {holiday_mean}\")\n",
    "\n",
    "noholiday_mean = int(round(eda[\"count\"].loc[(eda[\"holiday\"] == 0)].mean()))\n",
    "print(f\"Average Usage on non-holidays: {noholiday_mean}\")\n",
    "\n",
    "#Average usage on weekends\n",
    "weekend_mean = int(round(eda[\"count\"].loc[(eda[\"weekend\"] == 1)].mean()))\n",
    "print(f\"Average Usage on weekends: {weekend_mean}\")\n",
    "\n",
    "workingday_mean = int(round(eda[\"count\"].loc[(eda[\"workingday\"] == 1)].mean()))\n",
    "print(f\"Average Usage on working days: {workingday_mean}\")\n"
   ],
   "execution_count": null,
   "outputs": []
  },
  {
   "cell_type": "code",
   "source": [
    "\n",
    "#Usage per weekday through the seasons\n",
    "heat = pd.pivot_table(data=eda,\n",
    "                    index='season',\n",
    "                    values='count',\n",
    "                    columns='wday',\n",
    "                    aggfunc=np.mean)\n",
    "\n",
    "heat\n",
    "sns.heatmap(data=heat,cmap='coolwarm', annot=True, fmt=\".1f\", annot_kws={'size':16})\n",
    "\n"
   ],
   "metadata": {
    "collapsed": false,
    "pycharm": {
     "name": "#%%\n"
    }
   },
   "execution_count": null,
   "outputs": []
  },
  {
   "cell_type": "code",
   "execution_count": null,
   "outputs": [],
   "source": [
    "#Correlations\n",
    "sns.heatmap(eda.corr(), annot=True)"
   ],
   "metadata": {
    "collapsed": false,
    "pycharm": {
     "name": "#%%\n"
    }
   }
  },
  {
   "cell_type": "code",
   "execution_count": null,
   "outputs": [],
   "source": [
    "#Pairplot\n",
    "# pair = eda[eda[\"month\"] == 6]\n",
    "# sns.pairplot(pair,\n",
    "#         palette=\"husl\",\n",
    "#         plot_kws={'line_kws':{'color':'red'}},\n",
    "#         kind=\"reg\")"
   ],
   "metadata": {
    "collapsed": false,
    "pycharm": {
     "name": "#%%\n"
    }
   }
  },
  {
   "cell_type": "markdown",
   "metadata": {
    "pycharm": {
     "name": "#%% md\n"
    }
   },
   "source": [
    "### Feature Engineering"
   ]
  },
  {
   "cell_type": "code",
   "metadata": {
    "pycharm": {
     "name": "#%%\n"
    }
   },
   "source": [
    "#Relevant Categories\n",
    "cats = [\n",
    "    \"season\",\n",
    "    \"weather\",\n",
    "    \"temp\",\n",
    "    \"atemp\",\n",
    "    \"humidity\",\n",
    "    \"hour\",\n",
    "    \"month\",\n",
    "    \"year\",\n",
    "    \"yday\"\n",
    "        ]"
   ],
   "execution_count": null,
   "outputs": []
  },
  {
   "cell_type": "code",
   "execution_count": null,
   "outputs": [],
   "source": [
    "#PCA\n",
    "from sklearn.preprocessing import StandardScaler\n",
    "from sklearn.decomposition import PCA\n",
    "\n",
    "\n",
    "\n",
    "features = [\n",
    "    \"temp\",\n",
    "    \"yday\"\n",
    "        ]\n",
    "\n",
    "sns.scatterplot(eda[features[0]],eda[features[1]])\n",
    "plt.show()\n",
    "\n",
    "X_train = eda[features]\n",
    "X_train\n",
    "\n",
    "X_train = StandardScaler().fit_transform(X_train)\n",
    "\n",
    "pca = PCA(n_components=2)\n",
    "pca.fit_transform(X_train)\n",
    "\n",
    "print(pca.components_)\n",
    "\n",
    "print(pca.explained_variance_)\n",
    "\n",
    "\n",
    "def draw_vector(v0, v1, ax=None):\n",
    "    ax = ax or plt.gca()\n",
    "    arrowprops=dict(arrowstyle='->',\n",
    "                    linewidth=2,\n",
    "                    shrinkA=0, shrinkB=0)\n",
    "    ax.annotate('', v1, v0, arrowprops=arrowprops)\n",
    "\n",
    "# plot data\n",
    "plt.scatter(X_train[:, 0], X_train[:, 1], alpha=0.2)\n",
    "for length, vector in zip(pca.explained_variance_, pca.components_):\n",
    "    v = vector * 3 * np.sqrt(length)\n",
    "    draw_vector(pca.mean_, pca.mean_ + v)\n",
    "\n",
    "plt.axis('equal')\n",
    "\n"
   ],
   "metadata": {
    "collapsed": false,
    "pycharm": {
     "name": "#%%\n"
    }
   }
  },
  {
   "cell_type": "markdown",
   "metadata": {},
   "source": [
    "### Train a model"
   ]
  },
  {
   "cell_type": "code",
   "execution_count": null,
   "metadata": {},
   "outputs": [],
   "source": [
    "\n",
    "\n",
    "m = LinearRegression()\n",
    "\n",
    "m.fit(X_train,y_train)\n",
    "\n",
    "print(m.score(X_train,y_train))"
   ]
  },
  {
   "cell_type": "code",
   "execution_count": null,
   "metadata": {},
   "outputs": [],
   "source": []
  }
 ],
 "metadata": {
  "kernelspec": {
   "display_name": "Python 3",
   "language": "python",
   "name": "python3"
  },
  "language_info": {
   "codemirror_mode": {
    "name": "ipython",
    "version": 3
   },
   "file_extension": ".py",
   "mimetype": "text/x-python",
   "name": "python",
   "nbconvert_exporter": "python",
   "pygments_lexer": "ipython3",
   "version": "3.7.6"
  }
 },
 "nbformat": 4,
 "nbformat_minor": 4
}