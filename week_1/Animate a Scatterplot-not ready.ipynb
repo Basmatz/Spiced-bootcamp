{
 "cells": [
  {
   "cell_type": "markdown",
   "metadata": {},
   "source": [
    "## Animate a Scatterplot"
   ]
  },
  {
   "cell_type": "code",
   "execution_count": 9,
   "metadata": {},
   "outputs": [],
   "source": [
    "import pandas as pd\n"
   ]
  },
  {
   "cell_type": "code",
   "execution_count": null,
   "metadata": {},
   "outputs": [],
   "source": []
  },
  {
   "cell_type": "code",
   "execution_count": 146,
   "metadata": {},
   "outputs": [],
   "source": [
    "fert = pd.read_csv('gapminder_total_fertility.csv', index_col=0)\n",
    "life=pd.read_excel('gapminder_lifeexpectancy.xlsx' , index_col=0)\n",
    "popul=pd.read_excel('gapminder_population.xlsx', index_col=0)\n"
   ]
  },
  {
   "cell_type": "markdown",
   "metadata": {},
   "source": [
    "Check whether both tables have the same size and shape."
   ]
  },
  {
   "cell_type": "code",
   "execution_count": 147,
   "metadata": {},
   "outputs": [
    {
     "name": "stdout",
     "output_type": "stream",
     "text": [
      "(260, 217)\n",
      "(260, 216)\n"
     ]
    }
   ],
   "source": [
    "print(life.shape)\n",
    "print(fert.shape)"
   ]
  },
  {
   "cell_type": "markdown",
   "metadata": {},
   "source": [
    "Take a look at the columns of both tables"
   ]
  },
  {
   "cell_type": "code",
   "execution_count": 127,
   "metadata": {},
   "outputs": [
    {
     "data": {
      "text/plain": [
       "Index(['1800', '1801', '1802', '1803', '1804', '1805', '1806', '1807', '1808',\n",
       "       '1809',\n",
       "       ...\n",
       "       '2006', '2007', '2008', '2009', '2010', '2011', '2012', '2013', '2014',\n",
       "       '2015'],\n",
       "      dtype='object', length=216)"
      ]
     },
     "execution_count": 127,
     "metadata": {},
     "output_type": "execute_result"
    }
   ],
   "source": [
    "fert.columns"
   ]
  },
  {
   "cell_type": "code",
   "execution_count": 148,
   "metadata": {},
   "outputs": [
    {
     "data": {
      "text/plain": [
       "Int64Index([1800, 1801, 1802, 1803, 1804, 1805, 1806, 1807, 1808, 1809,\n",
       "            ...\n",
       "            2007, 2008, 2009, 2010, 2011, 2012, 2013, 2014, 2015, 2016],\n",
       "           dtype='int64', length=217)"
      ]
     },
     "execution_count": 148,
     "metadata": {},
     "output_type": "execute_result"
    }
   ],
   "source": [
    "life.columns"
   ]
  },
  {
   "cell_type": "markdown",
   "metadata": {},
   "source": [
    "One table has columns as strings, the other has integer numbers. To merge the tables, we need to convert both into the same format. First, we create a list of years as integers."
   ]
  },
  {
   "cell_type": "code",
   "execution_count": 149,
   "metadata": {},
   "outputs": [],
   "source": [
    "ncol = [int(x) for x in fert.columns]\n",
    "fert.set_axis(axis=1, labels=ncol, inplace=True)\n"
   ]
  },
  {
   "cell_type": "code",
   "execution_count": 150,
   "metadata": {},
   "outputs": [
    {
     "data": {
      "text/plain": [
       "Int64Index([1800, 1801, 1802, 1803, 1804, 1805, 1806, 1807, 1808, 1809,\n",
       "            ...\n",
       "            2006, 2007, 2008, 2009, 2010, 2011, 2012, 2013, 2014, 2015],\n",
       "           dtype='int64', length=216)"
      ]
     },
     "execution_count": 150,
     "metadata": {},
     "output_type": "execute_result"
    }
   ],
   "source": [
    "fert.columns\n",
    "\n"
   ]
  },
  {
   "cell_type": "code",
   "execution_count": 151,
   "metadata": {},
   "outputs": [],
   "source": [
    "sfert = fert.stack()\n",
    "slife = life.stack()\n",
    "spopul=popul.stack()"
   ]
  },
  {
   "cell_type": "code",
   "execution_count": 152,
   "metadata": {},
   "outputs": [
    {
     "data": {
      "text/html": [
       "<div>\n",
       "<style scoped>\n",
       "    .dataframe tbody tr th:only-of-type {\n",
       "        vertical-align: middle;\n",
       "    }\n",
       "\n",
       "    .dataframe tbody tr th {\n",
       "        vertical-align: top;\n",
       "    }\n",
       "\n",
       "    .dataframe thead th {\n",
       "        text-align: right;\n",
       "    }\n",
       "</style>\n",
       "<table border=\"1\" class=\"dataframe\">\n",
       "  <thead>\n",
       "    <tr style=\"text-align: right;\">\n",
       "      <th></th>\n",
       "      <th></th>\n",
       "      <th>fertility</th>\n",
       "      <th>lifeexp</th>\n",
       "      <th>popul</th>\n",
       "    </tr>\n",
       "  </thead>\n",
       "  <tbody>\n",
       "    <tr>\n",
       "      <td rowspan=\"5\" valign=\"top\">Afghanistan</td>\n",
       "      <td>1800</td>\n",
       "      <td>7.0</td>\n",
       "      <td>28.21</td>\n",
       "      <td>3280000.0</td>\n",
       "    </tr>\n",
       "    <tr>\n",
       "      <td>1801</td>\n",
       "      <td>7.0</td>\n",
       "      <td>28.20</td>\n",
       "      <td>NaN</td>\n",
       "    </tr>\n",
       "    <tr>\n",
       "      <td>1802</td>\n",
       "      <td>7.0</td>\n",
       "      <td>28.19</td>\n",
       "      <td>NaN</td>\n",
       "    </tr>\n",
       "    <tr>\n",
       "      <td>1803</td>\n",
       "      <td>7.0</td>\n",
       "      <td>28.18</td>\n",
       "      <td>NaN</td>\n",
       "    </tr>\n",
       "    <tr>\n",
       "      <td>1804</td>\n",
       "      <td>7.0</td>\n",
       "      <td>28.17</td>\n",
       "      <td>NaN</td>\n",
       "    </tr>\n",
       "    <tr>\n",
       "      <td>...</td>\n",
       "      <td>...</td>\n",
       "      <td>...</td>\n",
       "      <td>...</td>\n",
       "      <td>...</td>\n",
       "    </tr>\n",
       "    <tr>\n",
       "      <td rowspan=\"5\" valign=\"top\">Åland</td>\n",
       "      <td>2006</td>\n",
       "      <td>NaN</td>\n",
       "      <td>80.10</td>\n",
       "      <td>26923.0</td>\n",
       "    </tr>\n",
       "    <tr>\n",
       "      <td>2007</td>\n",
       "      <td>NaN</td>\n",
       "      <td>NaN</td>\n",
       "      <td>26923.0</td>\n",
       "    </tr>\n",
       "    <tr>\n",
       "      <td>2008</td>\n",
       "      <td>NaN</td>\n",
       "      <td>NaN</td>\n",
       "      <td>26923.0</td>\n",
       "    </tr>\n",
       "    <tr>\n",
       "      <td>2009</td>\n",
       "      <td>NaN</td>\n",
       "      <td>NaN</td>\n",
       "      <td>26923.0</td>\n",
       "    </tr>\n",
       "    <tr>\n",
       "      <td>2010</td>\n",
       "      <td>NaN</td>\n",
       "      <td>NaN</td>\n",
       "      <td>26923.0</td>\n",
       "    </tr>\n",
       "  </tbody>\n",
       "</table>\n",
       "<p>47688 rows × 3 columns</p>\n",
       "</div>"
      ],
      "text/plain": [
       "                  fertility  lifeexp      popul\n",
       "Afghanistan 1800        7.0    28.21  3280000.0\n",
       "            1801        7.0    28.20        NaN\n",
       "            1802        7.0    28.19        NaN\n",
       "            1803        7.0    28.18        NaN\n",
       "            1804        7.0    28.17        NaN\n",
       "...                     ...      ...        ...\n",
       "Åland       2006        NaN    80.10    26923.0\n",
       "            2007        NaN      NaN    26923.0\n",
       "            2008        NaN      NaN    26923.0\n",
       "            2009        NaN      NaN    26923.0\n",
       "            2010        NaN      NaN    26923.0\n",
       "\n",
       "[47688 rows x 3 columns]"
      ]
     },
     "execution_count": 152,
     "metadata": {},
     "output_type": "execute_result"
    }
   ],
   "source": [
    "# The variables now have the type pd.Series. Multiple Series can be converted to a pd.DataFrame, using a dictionary with the values:\n",
    "d = {'fertility': sfert, 'lifeexp': slife, 'popul':spopul}\n",
    "df2 = pd.DataFrame(data=d)\n",
    "df2"
   ]
  },
  {
   "cell_type": "code",
   "execution_count": 153,
   "metadata": {},
   "outputs": [
    {
     "data": {
      "text/plain": [
       "Afghanistan  1800  fertility          7.00\n",
       "                   lifeexp           28.21\n",
       "                   popul        3280000.00\n",
       "             1801  fertility          7.00\n",
       "                   lifeexp           28.20\n",
       "                                   ...    \n",
       "Åland        2006  popul          26923.00\n",
       "             2007  popul          26923.00\n",
       "             2008  popul          26923.00\n",
       "             2009  popul          26923.00\n",
       "             2010  popul          26923.00\n",
       "Length: 107445, dtype: float64"
      ]
     },
     "execution_count": 153,
     "metadata": {},
     "output_type": "execute_result"
    }
   ],
   "source": [
    "df3 = df2.stack()\n",
    "df3"
   ]
  },
  {
   "cell_type": "code",
   "execution_count": 154,
   "metadata": {},
   "outputs": [
    {
     "data": {
      "text/html": [
       "<div>\n",
       "<style scoped>\n",
       "    .dataframe tbody tr th:only-of-type {\n",
       "        vertical-align: middle;\n",
       "    }\n",
       "\n",
       "    .dataframe tbody tr th {\n",
       "        vertical-align: top;\n",
       "    }\n",
       "\n",
       "    .dataframe thead tr th {\n",
       "        text-align: left;\n",
       "    }\n",
       "</style>\n",
       "<table border=\"1\" class=\"dataframe\">\n",
       "  <thead>\n",
       "    <tr>\n",
       "      <th></th>\n",
       "      <th colspan=\"3\" halign=\"left\">Afghanistan</th>\n",
       "      <th>Akrotiri and Dhekelia</th>\n",
       "      <th colspan=\"3\" halign=\"left\">Albania</th>\n",
       "      <th colspan=\"3\" halign=\"left\">Algeria</th>\n",
       "      <th>...</th>\n",
       "      <th>Yemen</th>\n",
       "      <th>Yugoslavia</th>\n",
       "      <th colspan=\"3\" halign=\"left\">Zambia</th>\n",
       "      <th colspan=\"3\" halign=\"left\">Zimbabwe</th>\n",
       "      <th colspan=\"2\" halign=\"left\">Åland</th>\n",
       "    </tr>\n",
       "    <tr>\n",
       "      <th></th>\n",
       "      <th>fertility</th>\n",
       "      <th>lifeexp</th>\n",
       "      <th>popul</th>\n",
       "      <th>popul</th>\n",
       "      <th>fertility</th>\n",
       "      <th>lifeexp</th>\n",
       "      <th>popul</th>\n",
       "      <th>fertility</th>\n",
       "      <th>lifeexp</th>\n",
       "      <th>popul</th>\n",
       "      <th>...</th>\n",
       "      <th>popul</th>\n",
       "      <th>popul</th>\n",
       "      <th>fertility</th>\n",
       "      <th>lifeexp</th>\n",
       "      <th>popul</th>\n",
       "      <th>fertility</th>\n",
       "      <th>lifeexp</th>\n",
       "      <th>popul</th>\n",
       "      <th>popul</th>\n",
       "      <th>lifeexp</th>\n",
       "    </tr>\n",
       "  </thead>\n",
       "  <tbody>\n",
       "    <tr>\n",
       "      <td>1800</td>\n",
       "      <td>7.00</td>\n",
       "      <td>28.21</td>\n",
       "      <td>3280000.0</td>\n",
       "      <td>NaN</td>\n",
       "      <td>4.60</td>\n",
       "      <td>35.4</td>\n",
       "      <td>410445.0</td>\n",
       "      <td>6.99</td>\n",
       "      <td>28.82</td>\n",
       "      <td>2503218.0</td>\n",
       "      <td>...</td>\n",
       "      <td>2593000.0</td>\n",
       "      <td>NaN</td>\n",
       "      <td>6.71</td>\n",
       "      <td>32.6</td>\n",
       "      <td>747000.0</td>\n",
       "      <td>6.75</td>\n",
       "      <td>33.70</td>\n",
       "      <td>1085814.0</td>\n",
       "      <td>NaN</td>\n",
       "      <td>NaN</td>\n",
       "    </tr>\n",
       "    <tr>\n",
       "      <td>1801</td>\n",
       "      <td>7.00</td>\n",
       "      <td>28.20</td>\n",
       "      <td>NaN</td>\n",
       "      <td>NaN</td>\n",
       "      <td>4.60</td>\n",
       "      <td>35.4</td>\n",
       "      <td>NaN</td>\n",
       "      <td>6.99</td>\n",
       "      <td>28.82</td>\n",
       "      <td>NaN</td>\n",
       "      <td>...</td>\n",
       "      <td>NaN</td>\n",
       "      <td>NaN</td>\n",
       "      <td>6.71</td>\n",
       "      <td>32.6</td>\n",
       "      <td>NaN</td>\n",
       "      <td>6.75</td>\n",
       "      <td>33.70</td>\n",
       "      <td>NaN</td>\n",
       "      <td>NaN</td>\n",
       "      <td>NaN</td>\n",
       "    </tr>\n",
       "    <tr>\n",
       "      <td>1802</td>\n",
       "      <td>7.00</td>\n",
       "      <td>28.19</td>\n",
       "      <td>NaN</td>\n",
       "      <td>NaN</td>\n",
       "      <td>4.60</td>\n",
       "      <td>35.4</td>\n",
       "      <td>NaN</td>\n",
       "      <td>6.99</td>\n",
       "      <td>28.82</td>\n",
       "      <td>NaN</td>\n",
       "      <td>...</td>\n",
       "      <td>NaN</td>\n",
       "      <td>NaN</td>\n",
       "      <td>6.71</td>\n",
       "      <td>32.6</td>\n",
       "      <td>NaN</td>\n",
       "      <td>6.75</td>\n",
       "      <td>33.70</td>\n",
       "      <td>NaN</td>\n",
       "      <td>NaN</td>\n",
       "      <td>NaN</td>\n",
       "    </tr>\n",
       "    <tr>\n",
       "      <td>1803</td>\n",
       "      <td>7.00</td>\n",
       "      <td>28.18</td>\n",
       "      <td>NaN</td>\n",
       "      <td>NaN</td>\n",
       "      <td>4.60</td>\n",
       "      <td>35.4</td>\n",
       "      <td>NaN</td>\n",
       "      <td>6.99</td>\n",
       "      <td>28.82</td>\n",
       "      <td>NaN</td>\n",
       "      <td>...</td>\n",
       "      <td>NaN</td>\n",
       "      <td>NaN</td>\n",
       "      <td>6.71</td>\n",
       "      <td>32.6</td>\n",
       "      <td>NaN</td>\n",
       "      <td>6.75</td>\n",
       "      <td>33.70</td>\n",
       "      <td>NaN</td>\n",
       "      <td>NaN</td>\n",
       "      <td>NaN</td>\n",
       "    </tr>\n",
       "    <tr>\n",
       "      <td>1804</td>\n",
       "      <td>7.00</td>\n",
       "      <td>28.17</td>\n",
       "      <td>NaN</td>\n",
       "      <td>NaN</td>\n",
       "      <td>4.60</td>\n",
       "      <td>35.4</td>\n",
       "      <td>NaN</td>\n",
       "      <td>6.99</td>\n",
       "      <td>28.82</td>\n",
       "      <td>NaN</td>\n",
       "      <td>...</td>\n",
       "      <td>NaN</td>\n",
       "      <td>NaN</td>\n",
       "      <td>6.71</td>\n",
       "      <td>32.6</td>\n",
       "      <td>NaN</td>\n",
       "      <td>6.75</td>\n",
       "      <td>33.70</td>\n",
       "      <td>NaN</td>\n",
       "      <td>NaN</td>\n",
       "      <td>NaN</td>\n",
       "    </tr>\n",
       "    <tr>\n",
       "      <td>...</td>\n",
       "      <td>...</td>\n",
       "      <td>...</td>\n",
       "      <td>...</td>\n",
       "      <td>...</td>\n",
       "      <td>...</td>\n",
       "      <td>...</td>\n",
       "      <td>...</td>\n",
       "      <td>...</td>\n",
       "      <td>...</td>\n",
       "      <td>...</td>\n",
       "      <td>...</td>\n",
       "      <td>...</td>\n",
       "      <td>...</td>\n",
       "      <td>...</td>\n",
       "      <td>...</td>\n",
       "      <td>...</td>\n",
       "      <td>...</td>\n",
       "      <td>...</td>\n",
       "      <td>...</td>\n",
       "      <td>...</td>\n",
       "      <td>...</td>\n",
       "    </tr>\n",
       "    <tr>\n",
       "      <td>2012</td>\n",
       "      <td>5.14</td>\n",
       "      <td>54.40</td>\n",
       "      <td>29726803.0</td>\n",
       "      <td>NaN</td>\n",
       "      <td>1.76</td>\n",
       "      <td>77.5</td>\n",
       "      <td>2880667.0</td>\n",
       "      <td>2.82</td>\n",
       "      <td>76.20</td>\n",
       "      <td>37439427.0</td>\n",
       "      <td>...</td>\n",
       "      <td>24882792.0</td>\n",
       "      <td>NaN</td>\n",
       "      <td>5.73</td>\n",
       "      <td>54.7</td>\n",
       "      <td>14786581.0</td>\n",
       "      <td>3.56</td>\n",
       "      <td>54.20</td>\n",
       "      <td>14565482.0</td>\n",
       "      <td>NaN</td>\n",
       "      <td>NaN</td>\n",
       "    </tr>\n",
       "    <tr>\n",
       "      <td>2013</td>\n",
       "      <td>4.90</td>\n",
       "      <td>54.80</td>\n",
       "      <td>30682500.0</td>\n",
       "      <td>NaN</td>\n",
       "      <td>1.77</td>\n",
       "      <td>77.7</td>\n",
       "      <td>2883281.0</td>\n",
       "      <td>2.80</td>\n",
       "      <td>76.30</td>\n",
       "      <td>38186135.0</td>\n",
       "      <td>...</td>\n",
       "      <td>25533217.0</td>\n",
       "      <td>NaN</td>\n",
       "      <td>5.69</td>\n",
       "      <td>55.6</td>\n",
       "      <td>15246086.0</td>\n",
       "      <td>3.49</td>\n",
       "      <td>55.70</td>\n",
       "      <td>14898092.0</td>\n",
       "      <td>NaN</td>\n",
       "      <td>NaN</td>\n",
       "    </tr>\n",
       "    <tr>\n",
       "      <td>2014</td>\n",
       "      <td>4.68</td>\n",
       "      <td>54.90</td>\n",
       "      <td>31627506.0</td>\n",
       "      <td>NaN</td>\n",
       "      <td>1.78</td>\n",
       "      <td>77.9</td>\n",
       "      <td>2889676.0</td>\n",
       "      <td>2.76</td>\n",
       "      <td>76.30</td>\n",
       "      <td>38934334.0</td>\n",
       "      <td>...</td>\n",
       "      <td>26183676.0</td>\n",
       "      <td>NaN</td>\n",
       "      <td>5.64</td>\n",
       "      <td>56.3</td>\n",
       "      <td>15721343.0</td>\n",
       "      <td>3.41</td>\n",
       "      <td>57.00</td>\n",
       "      <td>15245855.0</td>\n",
       "      <td>NaN</td>\n",
       "      <td>NaN</td>\n",
       "    </tr>\n",
       "    <tr>\n",
       "      <td>2015</td>\n",
       "      <td>4.47</td>\n",
       "      <td>53.80</td>\n",
       "      <td>32526562.0</td>\n",
       "      <td>NaN</td>\n",
       "      <td>1.78</td>\n",
       "      <td>78.0</td>\n",
       "      <td>2896679.0</td>\n",
       "      <td>2.71</td>\n",
       "      <td>76.40</td>\n",
       "      <td>39666519.0</td>\n",
       "      <td>...</td>\n",
       "      <td>26832215.0</td>\n",
       "      <td>NaN</td>\n",
       "      <td>5.59</td>\n",
       "      <td>56.7</td>\n",
       "      <td>16211767.0</td>\n",
       "      <td>3.35</td>\n",
       "      <td>59.30</td>\n",
       "      <td>15602751.0</td>\n",
       "      <td>NaN</td>\n",
       "      <td>NaN</td>\n",
       "    </tr>\n",
       "    <tr>\n",
       "      <td>2016</td>\n",
       "      <td>NaN</td>\n",
       "      <td>52.72</td>\n",
       "      <td>NaN</td>\n",
       "      <td>NaN</td>\n",
       "      <td>NaN</td>\n",
       "      <td>78.1</td>\n",
       "      <td>NaN</td>\n",
       "      <td>NaN</td>\n",
       "      <td>76.50</td>\n",
       "      <td>NaN</td>\n",
       "      <td>...</td>\n",
       "      <td>NaN</td>\n",
       "      <td>NaN</td>\n",
       "      <td>NaN</td>\n",
       "      <td>57.1</td>\n",
       "      <td>NaN</td>\n",
       "      <td>NaN</td>\n",
       "      <td>61.69</td>\n",
       "      <td>NaN</td>\n",
       "      <td>NaN</td>\n",
       "      <td>NaN</td>\n",
       "    </tr>\n",
       "  </tbody>\n",
       "</table>\n",
       "<p>217 rows × 667 columns</p>\n",
       "</div>"
      ],
      "text/plain": [
       "     Afghanistan                     Akrotiri and Dhekelia   Albania          \\\n",
       "       fertility lifeexp       popul                 popul fertility lifeexp   \n",
       "1800        7.00   28.21   3280000.0                   NaN      4.60    35.4   \n",
       "1801        7.00   28.20         NaN                   NaN      4.60    35.4   \n",
       "1802        7.00   28.19         NaN                   NaN      4.60    35.4   \n",
       "1803        7.00   28.18         NaN                   NaN      4.60    35.4   \n",
       "1804        7.00   28.17         NaN                   NaN      4.60    35.4   \n",
       "...          ...     ...         ...                   ...       ...     ...   \n",
       "2012        5.14   54.40  29726803.0                   NaN      1.76    77.5   \n",
       "2013        4.90   54.80  30682500.0                   NaN      1.77    77.7   \n",
       "2014        4.68   54.90  31627506.0                   NaN      1.78    77.9   \n",
       "2015        4.47   53.80  32526562.0                   NaN      1.78    78.0   \n",
       "2016         NaN   52.72         NaN                   NaN       NaN    78.1   \n",
       "\n",
       "                  Algeria                      ...       Yemen Yugoslavia  \\\n",
       "          popul fertility lifeexp       popul  ...       popul      popul   \n",
       "1800   410445.0      6.99   28.82   2503218.0  ...   2593000.0        NaN   \n",
       "1801        NaN      6.99   28.82         NaN  ...         NaN        NaN   \n",
       "1802        NaN      6.99   28.82         NaN  ...         NaN        NaN   \n",
       "1803        NaN      6.99   28.82         NaN  ...         NaN        NaN   \n",
       "1804        NaN      6.99   28.82         NaN  ...         NaN        NaN   \n",
       "...         ...       ...     ...         ...  ...         ...        ...   \n",
       "2012  2880667.0      2.82   76.20  37439427.0  ...  24882792.0        NaN   \n",
       "2013  2883281.0      2.80   76.30  38186135.0  ...  25533217.0        NaN   \n",
       "2014  2889676.0      2.76   76.30  38934334.0  ...  26183676.0        NaN   \n",
       "2015  2896679.0      2.71   76.40  39666519.0  ...  26832215.0        NaN   \n",
       "2016        NaN       NaN   76.50         NaN  ...         NaN        NaN   \n",
       "\n",
       "        Zambia                      Zimbabwe                     Åland          \n",
       "     fertility lifeexp       popul fertility lifeexp       popul popul lifeexp  \n",
       "1800      6.71    32.6    747000.0      6.75   33.70   1085814.0   NaN     NaN  \n",
       "1801      6.71    32.6         NaN      6.75   33.70         NaN   NaN     NaN  \n",
       "1802      6.71    32.6         NaN      6.75   33.70         NaN   NaN     NaN  \n",
       "1803      6.71    32.6         NaN      6.75   33.70         NaN   NaN     NaN  \n",
       "1804      6.71    32.6         NaN      6.75   33.70         NaN   NaN     NaN  \n",
       "...        ...     ...         ...       ...     ...         ...   ...     ...  \n",
       "2012      5.73    54.7  14786581.0      3.56   54.20  14565482.0   NaN     NaN  \n",
       "2013      5.69    55.6  15246086.0      3.49   55.70  14898092.0   NaN     NaN  \n",
       "2014      5.64    56.3  15721343.0      3.41   57.00  15245855.0   NaN     NaN  \n",
       "2015      5.59    56.7  16211767.0      3.35   59.30  15602751.0   NaN     NaN  \n",
       "2016       NaN    57.1         NaN       NaN   61.69         NaN   NaN     NaN  \n",
       "\n",
       "[217 rows x 667 columns]"
      ]
     },
     "execution_count": 154,
     "metadata": {},
     "output_type": "execute_result"
    }
   ],
   "source": [
    "df4 = df3.unstack((0,2))\n",
    "df4"
   ]
  },
  {
   "cell_type": "code",
   "execution_count": 155,
   "metadata": {},
   "outputs": [
    {
     "data": {
      "text/plain": [
       "<matplotlib.axes._subplots.AxesSubplot at 0x20cdf8cfc48>"
      ]
     },
     "execution_count": 155,
     "metadata": {},
     "output_type": "execute_result"
    },
    {
     "data": {
      "image/png": "[encoded data removed]",
      "text/plain": [
       "<Figure size 432x288 with 1 Axes>"
      ]
     },
     "metadata": {
      "needs_background": "light"
     },
     "output_type": "display_data"
    }
   ],
   "source": [
    "import pylab as plt\n",
    "\n",
    "df4[['Germany', 'France', 'Sweden']].plot()"
   ]
  },
  {
   "cell_type": "markdown",
   "metadata": {},
   "source": [
    "To create a scatterplot, we extract the columns to plot from df3"
   ]
  },
  {
   "cell_type": "code",
   "execution_count": 156,
   "metadata": {},
   "outputs": [
    {
     "data": {
      "text/plain": [
       "<matplotlib.axes._subplots.AxesSubplot at 0x20cdf89e888>"
      ]
     },
     "execution_count": 156,
     "metadata": {},
     "output_type": "execute_result"
    },
    {
     "data": {
      "image/png": "[encoded data removed]",
      "text/plain": [
       "<Figure size 432x288 with 1 Axes>"
      ]
     },
     "metadata": {
      "needs_background": "light"
     },
     "output_type": "display_data"
    }
   ],
   "source": [
    "df5 = df3.unstack(2)\n",
    "df5.plot.scatter('fertility', 'lifeexp', s=0.1)\n"
   ]
  },
  {
   "cell_type": "markdown",
   "metadata": {},
   "source": [
    "Using stack and unstack you can also select a year. That makes the plot easier to read:"
   ]
  },
  {
   "cell_type": "code",
   "execution_count": 157,
   "metadata": {},
   "outputs": [
    {
     "data": {
      "text/plain": [
       "<matplotlib.axes._subplots.AxesSubplot at 0x20cdf8a8788>"
      ]
     },
     "execution_count": 157,
     "metadata": {},
     "output_type": "execute_result"
    },
    {
     "data": {
      "image/png": "[encoded data removed]",
      "text/plain": [
       "<Figure size 432x288 with 1 Axes>"
      ]
     },
     "metadata": {
      "needs_background": "light"
     },
     "output_type": "display_data"
    }
   ],
   "source": [
    "df6 = df3.unstack(1)\n",
    "df6 = df6[1950]\n",
    "df6 = df6.unstack(1)\n",
    "df6.plot.scatter('fertility', 'lifeexp', s=0.1)"
   ]
  },
  {
   "cell_type": "markdown",
   "metadata": {},
   "source": [
    "Now we can improve our graphics, e.g. color each country differently:"
   ]
  },
  {
   "cell_type": "code",
   "execution_count": 158,
   "metadata": {},
   "outputs": [
    {
     "data": {
      "text/plain": [
       "<matplotlib.axes._subplots.AxesSubplot at 0x20ce0851c88>"
      ]
     },
     "execution_count": 158,
     "metadata": {},
     "output_type": "execute_result"
    },
    {
     "data": {
      "image/png": "[encoded data removed]",
      "text/plain": [
       "<Figure size 432x288 with 1 Axes>"
      ]
     },
     "metadata": {
      "needs_background": "light"
     },
     "output_type": "display_data"
    }
   ],
   "source": [
    "cmap = plt.get_cmap('tab20', lut = len(df6)).colors\n",
    "df6.plot.scatter('fertility', 'lifeexp', s=0.1, c=cmap)\n",
    "\n",
    "#  The lut parameter allows you to control the length of the color array (which by default is 20),\n",
    "#  and in the above code we ensure that it is same length as the index of our dataframe."
   ]
  },
  {
   "cell_type": "markdown",
   "metadata": {},
   "source": [
    "To create an animated scatterplot showing the correlation between life expectancy and fertility, create one plot for each year between 1960 and 2015\n",
    "Adjust the plot, so that the size of the symbols represents the population from the gapminder dataset."
   ]
  },
  {
   "cell_type": "code",
   "execution_count": 159,
   "metadata": {},
   "outputs": [
    {
     "data": {
      "text/html": [
       "<div>\n",
       "<style scoped>\n",
       "    .dataframe tbody tr th:only-of-type {\n",
       "        vertical-align: middle;\n",
       "    }\n",
       "\n",
       "    .dataframe tbody tr th {\n",
       "        vertical-align: top;\n",
       "    }\n",
       "\n",
       "    .dataframe thead th {\n",
       "        text-align: right;\n",
       "    }\n",
       "</style>\n",
       "<table border=\"1\" class=\"dataframe\">\n",
       "  <thead>\n",
       "    <tr style=\"text-align: right;\">\n",
       "      <th></th>\n",
       "      <th>fertility</th>\n",
       "      <th>lifeexp</th>\n",
       "      <th>popul</th>\n",
       "    </tr>\n",
       "  </thead>\n",
       "  <tbody>\n",
       "    <tr>\n",
       "      <td>Afghanistan</td>\n",
       "      <td>7.67</td>\n",
       "      <td>26.85</td>\n",
       "      <td>7752118.0</td>\n",
       "    </tr>\n",
       "    <tr>\n",
       "      <td>Akrotiri and Dhekelia</td>\n",
       "      <td>NaN</td>\n",
       "      <td>NaN</td>\n",
       "      <td>10661.0</td>\n",
       "    </tr>\n",
       "    <tr>\n",
       "      <td>Albania</td>\n",
       "      <td>5.80</td>\n",
       "      <td>54.48</td>\n",
       "      <td>1263171.0</td>\n",
       "    </tr>\n",
       "    <tr>\n",
       "      <td>Algeria</td>\n",
       "      <td>7.65</td>\n",
       "      <td>42.77</td>\n",
       "      <td>8872247.0</td>\n",
       "    </tr>\n",
       "    <tr>\n",
       "      <td>American Samoa</td>\n",
       "      <td>NaN</td>\n",
       "      <td>NaN</td>\n",
       "      <td>18937.0</td>\n",
       "    </tr>\n",
       "    <tr>\n",
       "      <td>Andorra</td>\n",
       "      <td>NaN</td>\n",
       "      <td>NaN</td>\n",
       "      <td>6197.0</td>\n",
       "    </tr>\n",
       "    <tr>\n",
       "      <td>Angola</td>\n",
       "      <td>6.93</td>\n",
       "      <td>30.70</td>\n",
       "      <td>4354882.0</td>\n",
       "    </tr>\n",
       "    <tr>\n",
       "      <td>Anguilla</td>\n",
       "      <td>NaN</td>\n",
       "      <td>NaN</td>\n",
       "      <td>5121.0</td>\n",
       "    </tr>\n",
       "    <tr>\n",
       "      <td>Antigua and Barbuda</td>\n",
       "      <td>4.45</td>\n",
       "      <td>57.97</td>\n",
       "      <td>46301.0</td>\n",
       "    </tr>\n",
       "    <tr>\n",
       "      <td>Argentina</td>\n",
       "      <td>3.16</td>\n",
       "      <td>61.61</td>\n",
       "      <td>17150335.0</td>\n",
       "    </tr>\n",
       "    <tr>\n",
       "      <td>Armenia</td>\n",
       "      <td>4.53</td>\n",
       "      <td>62.41</td>\n",
       "      <td>1353506.0</td>\n",
       "    </tr>\n",
       "    <tr>\n",
       "      <td>Aruba</td>\n",
       "      <td>5.80</td>\n",
       "      <td>58.42</td>\n",
       "      <td>38066.0</td>\n",
       "    </tr>\n",
       "    <tr>\n",
       "      <td>Australia</td>\n",
       "      <td>3.07</td>\n",
       "      <td>69.01</td>\n",
       "      <td>8177344.0</td>\n",
       "    </tr>\n",
       "    <tr>\n",
       "      <td>Austria</td>\n",
       "      <td>1.87</td>\n",
       "      <td>64.87</td>\n",
       "      <td>6936445.0</td>\n",
       "    </tr>\n",
       "    <tr>\n",
       "      <td>Azerbaijan</td>\n",
       "      <td>5.64</td>\n",
       "      <td>57.29</td>\n",
       "      <td>2895997.0</td>\n",
       "    </tr>\n",
       "    <tr>\n",
       "      <td>Bahamas</td>\n",
       "      <td>3.98</td>\n",
       "      <td>58.74</td>\n",
       "      <td>79088.0</td>\n",
       "    </tr>\n",
       "    <tr>\n",
       "      <td>Bahrain</td>\n",
       "      <td>7.03</td>\n",
       "      <td>41.04</td>\n",
       "      <td>115614.0</td>\n",
       "    </tr>\n",
       "    <tr>\n",
       "      <td>Bangladesh</td>\n",
       "      <td>6.23</td>\n",
       "      <td>42.46</td>\n",
       "      <td>37894680.0</td>\n",
       "    </tr>\n",
       "    <tr>\n",
       "      <td>Barbados</td>\n",
       "      <td>4.52</td>\n",
       "      <td>56.50</td>\n",
       "      <td>210995.0</td>\n",
       "    </tr>\n",
       "    <tr>\n",
       "      <td>Belarus</td>\n",
       "      <td>2.53</td>\n",
       "      <td>64.89</td>\n",
       "      <td>7745003.0</td>\n",
       "    </tr>\n",
       "  </tbody>\n",
       "</table>\n",
       "</div>"
      ],
      "text/plain": [
       "                       fertility  lifeexp       popul\n",
       "Afghanistan                 7.67    26.85   7752118.0\n",
       "Akrotiri and Dhekelia        NaN      NaN     10661.0\n",
       "Albania                     5.80    54.48   1263171.0\n",
       "Algeria                     7.65    42.77   8872247.0\n",
       "American Samoa               NaN      NaN     18937.0\n",
       "Andorra                      NaN      NaN      6197.0\n",
       "Angola                      6.93    30.70   4354882.0\n",
       "Anguilla                     NaN      NaN      5121.0\n",
       "Antigua and Barbuda         4.45    57.97     46301.0\n",
       "Argentina                   3.16    61.61  17150335.0\n",
       "Armenia                     4.53    62.41   1353506.0\n",
       "Aruba                       5.80    58.42     38066.0\n",
       "Australia                   3.07    69.01   8177344.0\n",
       "Austria                     1.87    64.87   6936445.0\n",
       "Azerbaijan                  5.64    57.29   2895997.0\n",
       "Bahamas                     3.98    58.74     79088.0\n",
       "Bahrain                     7.03    41.04    115614.0\n",
       "Bangladesh                  6.23    42.46  37894680.0\n",
       "Barbados                    4.52    56.50    210995.0\n",
       "Belarus                     2.53    64.89   7745003.0"
      ]
     },
     "execution_count": 159,
     "metadata": {},
     "output_type": "execute_result"
    }
   ],
   "source": [
    "df6.head(20)"
   ]
  },
  {
   "cell_type": "code",
   "execution_count": 161,
   "metadata": {},
   "outputs": [
    {
     "data": {
      "text/plain": [
       "Text(0, 0.5, 'Life Expectancy (Years)')"
      ]
     },
     "execution_count": 161,
     "metadata": {},
     "output_type": "execute_result"
    },
    {
     "data": {
      "image/png": "[encoded data removed]",
      "text/plain": [
       "<Figure size 432x288 with 1 Axes>"
      ]
     },
     "metadata": {
      "needs_background": "light"
     },
     "output_type": "display_data"
    }
   ],
   "source": [
    "df6.plot.scatter('fertility', 'lifeexp', s=0.1, c=cmap, sizes = df6['popul'] /10**5 , alpha=0.3)\n",
    "plt.axis([1, 12, 20, 80])\n",
    "plt.xlabel('Fertility')\n",
    "plt.ylabel('Life Expectancy (Years)')"
   ]
  },
  {
   "cell_type": "code",
   "execution_count": null,
   "metadata": {},
   "outputs": [],
   "source": [
    "for year in range(1960, 2016):\n",
    "    df6 = df3.unstack(1)\n",
    "    df7 = df6[year]\n",
    "    df7 = df6.unstack(1)\n",
    "    df7.plot.scatter('fertility', 'lifeexp', size= df6['popul'] /10**5, c=cmap,alpha=0.3)\n",
    "\n",
    "    plt.axis([1, 12, 20, 80])\n",
    "    plt.xlabel('Fertility')\n",
    "    plt.ylabel('Life Expectancy (Years)')\n",
    "\n",
    "    plt.title(str(year))\n",
    "    plt.savefig(str(year)+'.png')"
   ]
  },
  {
   "cell_type": "code",
   "execution_count": null,
   "metadata": {},
   "outputs": [],
   "source": [
    "\n",
    "    "
   ]
  },
  {
   "cell_type": "code",
   "execution_count": null,
   "metadata": {},
   "outputs": [],
   "source": []
  },
  {
   "cell_type": "code",
   "execution_count": null,
   "metadata": {},
   "outputs": [],
   "source": []
  }
 ],
 "metadata": {
  "kernelspec": {
   "display_name": "Python 3",
   "language": "python",
   "name": "python3"
  },
  "language_info": {
   "codemirror_mode": {
    "name": "ipython",
    "version": 3
   },
   "file_extension": ".py",
   "mimetype": "text/x-python",
   "name": "python",
   "nbconvert_exporter": "python",
   "pygments_lexer": "ipython3",
   "version": "3.7.4"
  }
 },
 "nbformat": 4,
 "nbformat_minor": 2
}
