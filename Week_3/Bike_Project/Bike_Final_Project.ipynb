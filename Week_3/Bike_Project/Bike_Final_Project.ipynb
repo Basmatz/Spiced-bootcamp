{
 "cells": [
  {
   "cell_type": "markdown",
   "metadata": {},
   "source": [
    "# Capital Bikeshare Project\n",
    "\n",
    "## Step 1: Exploring the Capital Bikeshare data set"
   ]
  },
  {
   "cell_type": "code",
   "execution_count": 1,
   "metadata": {},
   "outputs": [],
   "source": [
    "import numpy as np\n",
    "import pandas as pd\n",
    "import seaborn as sns\n",
    "from matplotlib import pyplot as plt\n",
    "\n",
    "import time\n",
    "\n",
    "from sklearn.utils import resample\n",
    "\n",
    "from sklearn.model_selection import train_test_split\n",
    "from sklearn.model_selection import cross_val_score\n",
    "from sklearn.model_selection import GridSearchCV\n",
    "from sklearn.model_selection import RandomizedSearchCV\n",
    "\n",
    "from sklearn.preprocessing import OneHotEncoder\n",
    "from sklearn.preprocessing import MinMaxScaler, StandardScaler\n",
    "from sklearn.preprocessing import KBinsDiscretizer\n",
    "from sklearn.preprocessing import FunctionTransformer\n",
    "from sklearn.preprocessing import PolynomialFeatures\n",
    "\n",
    "from sklearn.impute import SimpleImputer\n",
    "\n",
    "from sklearn.compose import ColumnTransformer\n",
    "from sklearn.compose import make_column_transformer\n",
    "\n",
    "from sklearn.pipeline import Pipeline\n",
    "from sklearn.pipeline import make_pipeline\n",
    "\n",
    "from sklearn.linear_model import LogisticRegression\n",
    "from sklearn.tree import DecisionTreeClassifier\n",
    "from sklearn.ensemble import RandomForestClassifier"
   ]
  },
  {
   "cell_type": "markdown",
   "metadata": {},
   "source": [
    "### Aims of data exploration\n",
    "\n",
    "- Get a sense of the data\n",
    "\n",
    "Questions to address:\n",
    "\n",
    "- Which factors contribute most to the number of bicycles being checkout out over the course of a given day?\n",
    "- How much of an impact does weather have on demand?\n",
    "- How does the behavior of casual users differ from subscribers?\n",
    "\n",
    "\n",
    "Aims of the project:\n",
    "\n",
    "“Given the forecasted weather conditions, how many bicycles can we expect to be checkout this Saturday at 2pm?”\n",
    "\n",
    "Important information to take into account for prediction:\n",
    "- Effect of weather\n",
    "- Effect of day (weekday vs. weekend)\n",
    "- Effect of time (2 pm)\n",
    "\n",
    "### Import data"
   ]
  },
  {
   "cell_type": "code",
   "execution_count": 2,
   "metadata": {},
   "outputs": [],
   "source": [
    "df = pd.read_csv('train_bike.csv', index_col=0)"
   ]
  },
  {
   "cell_type": "code",
   "execution_count": 3,
   "metadata": {},
   "outputs": [
    {
     "data": {
      "text/html": [
       "<div>\n",
       "<style scoped>\n",
       "    .dataframe tbody tr th:only-of-type {\n",
       "        vertical-align: middle;\n",
       "    }\n",
       "\n",
       "    .dataframe tbody tr th {\n",
       "        vertical-align: top;\n",
       "    }\n",
       "\n",
       "    .dataframe thead th {\n",
       "        text-align: right;\n",
       "    }\n",
       "</style>\n",
       "<table border=\"1\" class=\"dataframe\">\n",
       "  <thead>\n",
       "    <tr style=\"text-align: right;\">\n",
       "      <th></th>\n",
       "      <th>season</th>\n",
       "      <th>holiday</th>\n",
       "      <th>workingday</th>\n",
       "      <th>weather</th>\n",
       "      <th>temp</th>\n",
       "      <th>atemp</th>\n",
       "      <th>humidity</th>\n",
       "      <th>windspeed</th>\n",
       "      <th>casual</th>\n",
       "      <th>registered</th>\n",
       "      <th>count</th>\n",
       "    </tr>\n",
       "    <tr>\n",
       "      <th>datetime</th>\n",
       "      <th></th>\n",
       "      <th></th>\n",
       "      <th></th>\n",
       "      <th></th>\n",
       "      <th></th>\n",
       "      <th></th>\n",
       "      <th></th>\n",
       "      <th></th>\n",
       "      <th></th>\n",
       "      <th></th>\n",
       "      <th></th>\n",
       "    </tr>\n",
       "  </thead>\n",
       "  <tbody>\n",
       "    <tr>\n",
       "      <th>2011-01-01 00:00:00</th>\n",
       "      <td>1</td>\n",
       "      <td>0</td>\n",
       "      <td>0</td>\n",
       "      <td>1</td>\n",
       "      <td>9.84</td>\n",
       "      <td>14.395</td>\n",
       "      <td>81</td>\n",
       "      <td>0.0</td>\n",
       "      <td>3</td>\n",
       "      <td>13</td>\n",
       "      <td>16</td>\n",
       "    </tr>\n",
       "    <tr>\n",
       "      <th>2011-01-01 01:00:00</th>\n",
       "      <td>1</td>\n",
       "      <td>0</td>\n",
       "      <td>0</td>\n",
       "      <td>1</td>\n",
       "      <td>9.02</td>\n",
       "      <td>13.635</td>\n",
       "      <td>80</td>\n",
       "      <td>0.0</td>\n",
       "      <td>8</td>\n",
       "      <td>32</td>\n",
       "      <td>40</td>\n",
       "    </tr>\n",
       "    <tr>\n",
       "      <th>2011-01-01 02:00:00</th>\n",
       "      <td>1</td>\n",
       "      <td>0</td>\n",
       "      <td>0</td>\n",
       "      <td>1</td>\n",
       "      <td>9.02</td>\n",
       "      <td>13.635</td>\n",
       "      <td>80</td>\n",
       "      <td>0.0</td>\n",
       "      <td>5</td>\n",
       "      <td>27</td>\n",
       "      <td>32</td>\n",
       "    </tr>\n",
       "    <tr>\n",
       "      <th>2011-01-01 03:00:00</th>\n",
       "      <td>1</td>\n",
       "      <td>0</td>\n",
       "      <td>0</td>\n",
       "      <td>1</td>\n",
       "      <td>9.84</td>\n",
       "      <td>14.395</td>\n",
       "      <td>75</td>\n",
       "      <td>0.0</td>\n",
       "      <td>3</td>\n",
       "      <td>10</td>\n",
       "      <td>13</td>\n",
       "    </tr>\n",
       "    <tr>\n",
       "      <th>2011-01-01 04:00:00</th>\n",
       "      <td>1</td>\n",
       "      <td>0</td>\n",
       "      <td>0</td>\n",
       "      <td>1</td>\n",
       "      <td>9.84</td>\n",
       "      <td>14.395</td>\n",
       "      <td>75</td>\n",
       "      <td>0.0</td>\n",
       "      <td>0</td>\n",
       "      <td>1</td>\n",
       "      <td>1</td>\n",
       "    </tr>\n",
       "  </tbody>\n",
       "</table>\n",
       "</div>"
      ],
      "text/plain": [
       "                     season  holiday  workingday  weather  temp   atemp  \\\n",
       "datetime                                                                  \n",
       "2011-01-01 00:00:00       1        0           0        1  9.84  14.395   \n",
       "2011-01-01 01:00:00       1        0           0        1  9.02  13.635   \n",
       "2011-01-01 02:00:00       1        0           0        1  9.02  13.635   \n",
       "2011-01-01 03:00:00       1        0           0        1  9.84  14.395   \n",
       "2011-01-01 04:00:00       1        0           0        1  9.84  14.395   \n",
       "\n",
       "                     humidity  windspeed  casual  registered  count  \n",
       "datetime                                                             \n",
       "2011-01-01 00:00:00        81        0.0       3          13     16  \n",
       "2011-01-01 01:00:00        80        0.0       8          32     40  \n",
       "2011-01-01 02:00:00        80        0.0       5          27     32  \n",
       "2011-01-01 03:00:00        75        0.0       3          10     13  \n",
       "2011-01-01 04:00:00        75        0.0       0           1      1  "
      ]
     },
     "execution_count": 3,
     "metadata": {},
     "output_type": "execute_result"
    }
   ],
   "source": [
    "df.head()"
   ]
  },
  {
   "cell_type": "code",
   "execution_count": 4,
   "metadata": {},
   "outputs": [
    {
     "data": {
      "text/html": [
       "<div>\n",
       "<style scoped>\n",
       "    .dataframe tbody tr th:only-of-type {\n",
       "        vertical-align: middle;\n",
       "    }\n",
       "\n",
       "    .dataframe tbody tr th {\n",
       "        vertical-align: top;\n",
       "    }\n",
       "\n",
       "    .dataframe thead th {\n",
       "        text-align: right;\n",
       "    }\n",
       "</style>\n",
       "<table border=\"1\" class=\"dataframe\">\n",
       "  <thead>\n",
       "    <tr style=\"text-align: right;\">\n",
       "      <th></th>\n",
       "      <th>season</th>\n",
       "      <th>holiday</th>\n",
       "      <th>workingday</th>\n",
       "      <th>weather</th>\n",
       "      <th>temp</th>\n",
       "      <th>atemp</th>\n",
       "      <th>humidity</th>\n",
       "      <th>windspeed</th>\n",
       "      <th>casual</th>\n",
       "      <th>registered</th>\n",
       "      <th>count</th>\n",
       "    </tr>\n",
       "  </thead>\n",
       "  <tbody>\n",
       "    <tr>\n",
       "      <th>count</th>\n",
       "      <td>10886.000000</td>\n",
       "      <td>10886.000000</td>\n",
       "      <td>10886.000000</td>\n",
       "      <td>10886.000000</td>\n",
       "      <td>10886.00000</td>\n",
       "      <td>10886.000000</td>\n",
       "      <td>10886.000000</td>\n",
       "      <td>10886.000000</td>\n",
       "      <td>10886.000000</td>\n",
       "      <td>10886.000000</td>\n",
       "      <td>10886.000000</td>\n",
       "    </tr>\n",
       "    <tr>\n",
       "      <th>mean</th>\n",
       "      <td>2.506614</td>\n",
       "      <td>0.028569</td>\n",
       "      <td>0.680875</td>\n",
       "      <td>1.418427</td>\n",
       "      <td>20.23086</td>\n",
       "      <td>23.655084</td>\n",
       "      <td>61.886460</td>\n",
       "      <td>12.799395</td>\n",
       "      <td>36.021955</td>\n",
       "      <td>155.552177</td>\n",
       "      <td>191.574132</td>\n",
       "    </tr>\n",
       "    <tr>\n",
       "      <th>std</th>\n",
       "      <td>1.116174</td>\n",
       "      <td>0.166599</td>\n",
       "      <td>0.466159</td>\n",
       "      <td>0.633839</td>\n",
       "      <td>7.79159</td>\n",
       "      <td>8.474601</td>\n",
       "      <td>19.245033</td>\n",
       "      <td>8.164537</td>\n",
       "      <td>49.960477</td>\n",
       "      <td>151.039033</td>\n",
       "      <td>181.144454</td>\n",
       "    </tr>\n",
       "    <tr>\n",
       "      <th>min</th>\n",
       "      <td>1.000000</td>\n",
       "      <td>0.000000</td>\n",
       "      <td>0.000000</td>\n",
       "      <td>1.000000</td>\n",
       "      <td>0.82000</td>\n",
       "      <td>0.760000</td>\n",
       "      <td>0.000000</td>\n",
       "      <td>0.000000</td>\n",
       "      <td>0.000000</td>\n",
       "      <td>0.000000</td>\n",
       "      <td>1.000000</td>\n",
       "    </tr>\n",
       "    <tr>\n",
       "      <th>25%</th>\n",
       "      <td>2.000000</td>\n",
       "      <td>0.000000</td>\n",
       "      <td>0.000000</td>\n",
       "      <td>1.000000</td>\n",
       "      <td>13.94000</td>\n",
       "      <td>16.665000</td>\n",
       "      <td>47.000000</td>\n",
       "      <td>7.001500</td>\n",
       "      <td>4.000000</td>\n",
       "      <td>36.000000</td>\n",
       "      <td>42.000000</td>\n",
       "    </tr>\n",
       "    <tr>\n",
       "      <th>50%</th>\n",
       "      <td>3.000000</td>\n",
       "      <td>0.000000</td>\n",
       "      <td>1.000000</td>\n",
       "      <td>1.000000</td>\n",
       "      <td>20.50000</td>\n",
       "      <td>24.240000</td>\n",
       "      <td>62.000000</td>\n",
       "      <td>12.998000</td>\n",
       "      <td>17.000000</td>\n",
       "      <td>118.000000</td>\n",
       "      <td>145.000000</td>\n",
       "    </tr>\n",
       "    <tr>\n",
       "      <th>75%</th>\n",
       "      <td>4.000000</td>\n",
       "      <td>0.000000</td>\n",
       "      <td>1.000000</td>\n",
       "      <td>2.000000</td>\n",
       "      <td>26.24000</td>\n",
       "      <td>31.060000</td>\n",
       "      <td>77.000000</td>\n",
       "      <td>16.997900</td>\n",
       "      <td>49.000000</td>\n",
       "      <td>222.000000</td>\n",
       "      <td>284.000000</td>\n",
       "    </tr>\n",
       "    <tr>\n",
       "      <th>max</th>\n",
       "      <td>4.000000</td>\n",
       "      <td>1.000000</td>\n",
       "      <td>1.000000</td>\n",
       "      <td>4.000000</td>\n",
       "      <td>41.00000</td>\n",
       "      <td>45.455000</td>\n",
       "      <td>100.000000</td>\n",
       "      <td>56.996900</td>\n",
       "      <td>367.000000</td>\n",
       "      <td>886.000000</td>\n",
       "      <td>977.000000</td>\n",
       "    </tr>\n",
       "  </tbody>\n",
       "</table>\n",
       "</div>"
      ],
      "text/plain": [
       "             season       holiday    workingday       weather         temp  \\\n",
       "count  10886.000000  10886.000000  10886.000000  10886.000000  10886.00000   \n",
       "mean       2.506614      0.028569      0.680875      1.418427     20.23086   \n",
       "std        1.116174      0.166599      0.466159      0.633839      7.79159   \n",
       "min        1.000000      0.000000      0.000000      1.000000      0.82000   \n",
       "25%        2.000000      0.000000      0.000000      1.000000     13.94000   \n",
       "50%        3.000000      0.000000      1.000000      1.000000     20.50000   \n",
       "75%        4.000000      0.000000      1.000000      2.000000     26.24000   \n",
       "max        4.000000      1.000000      1.000000      4.000000     41.00000   \n",
       "\n",
       "              atemp      humidity     windspeed        casual    registered  \\\n",
       "count  10886.000000  10886.000000  10886.000000  10886.000000  10886.000000   \n",
       "mean      23.655084     61.886460     12.799395     36.021955    155.552177   \n",
       "std        8.474601     19.245033      8.164537     49.960477    151.039033   \n",
       "min        0.760000      0.000000      0.000000      0.000000      0.000000   \n",
       "25%       16.665000     47.000000      7.001500      4.000000     36.000000   \n",
       "50%       24.240000     62.000000     12.998000     17.000000    118.000000   \n",
       "75%       31.060000     77.000000     16.997900     49.000000    222.000000   \n",
       "max       45.455000    100.000000     56.996900    367.000000    886.000000   \n",
       "\n",
       "              count  \n",
       "count  10886.000000  \n",
       "mean     191.574132  \n",
       "std      181.144454  \n",
       "min        1.000000  \n",
       "25%       42.000000  \n",
       "50%      145.000000  \n",
       "75%      284.000000  \n",
       "max      977.000000  "
      ]
     },
     "execution_count": 4,
     "metadata": {},
     "output_type": "execute_result"
    }
   ],
   "source": [
    "df.describe()"
   ]
  },
  {
   "cell_type": "code",
   "execution_count": 5,
   "metadata": {},
   "outputs": [
    {
     "name": "stdout",
     "output_type": "stream",
     "text": [
      "<class 'pandas.core.frame.DataFrame'>\n",
      "Index: 10886 entries, 2011-01-01 00:00:00 to 2012-12-19 23:00:00\n",
      "Data columns (total 11 columns):\n",
      " #   Column      Non-Null Count  Dtype  \n",
      "---  ------      --------------  -----  \n",
      " 0   season      10886 non-null  int64  \n",
      " 1   holiday     10886 non-null  int64  \n",
      " 2   workingday  10886 non-null  int64  \n",
      " 3   weather     10886 non-null  int64  \n",
      " 4   temp        10886 non-null  float64\n",
      " 5   atemp       10886 non-null  float64\n",
      " 6   humidity    10886 non-null  int64  \n",
      " 7   windspeed   10886 non-null  float64\n",
      " 8   casual      10886 non-null  int64  \n",
      " 9   registered  10886 non-null  int64  \n",
      " 10  count       10886 non-null  int64  \n",
      "dtypes: float64(3), int64(8)\n",
      "memory usage: 1020.6+ KB\n"
     ]
    }
   ],
   "source": [
    "df.info()"
   ]
  },
  {
   "cell_type": "code",
   "execution_count": 6,
   "metadata": {},
   "outputs": [
    {
     "data": {
      "text/plain": [
       "<matplotlib.axes._subplots.AxesSubplot at 0x10e373310>"
      ]
     },
     "execution_count": 6,
     "metadata": {},
     "output_type": "execute_result"
    },
    {
     "data": {
      "image/png": "[encoded data removed]",
      "text/plain": [
       "<Figure size 432x288 with 2 Axes>"
      ]
     },
     "metadata": {
      "needs_background": "light"
     },
     "output_type": "display_data"
    }
   ],
   "source": [
    "# check for missing data\n",
    "\n",
    "sns.heatmap(df.isna())"
   ]
  },
  {
   "cell_type": "code",
   "execution_count": 7,
   "metadata": {},
   "outputs": [
    {
     "data": {
      "text/plain": [
       "<matplotlib.axes._subplots.AxesSubplot at 0x1a243f3610>"
      ]
     },
     "execution_count": 7,
     "metadata": {},
     "output_type": "execute_result"
    },
    {
     "data": {
      "image/png": "[encoded data removed]",
      "text/plain": [
       "<Figure size 720x720 with 2 Axes>"
      ]
     },
     "metadata": {
      "needs_background": "light"
     },
     "output_type": "display_data"
    }
   ],
   "source": [
    "# quick look at correlations: what columns is \"count\" (= no. bikes rented on a given day) correlated with?\n",
    "\n",
    "plt.subplots(figsize=(10,10))\n",
    "sns.heatmap(df.corr(), annot = True)"
   ]
  },
  {
   "cell_type": "markdown",
   "metadata": {},
   "source": [
    "Some quick notes:\n",
    "- (disregard casual/registered in this plot as casual + registered = count)\n",
    "- workingday/holiday and casual are linked (suggesting the workday/weekend distinction is important for casual users; less so for registered users)\n",
    "- temperature is  correlated with count; \"weather\" less so (possibly because it is a less granular measure and therefore captures data trends at a higher level); humidity is not correlated (this is surprising given my experience of DC summers, but it's possible that humidity is confounded with season); windspeed is somewhat correlated\n",
    "\n",
    "\n",
    "### Understanding the data\n",
    "\n",
    "- Is the distinction between actual and felt temperature important? (Is felt temperature going to incorporate values from wind and humidity data, potentially introducing a confound?)\n",
    "\n",
    "### How to assess strength of factors that affect count:\n",
    "\n",
    "- linear regression analysis with p-values"
   ]
  },
  {
   "cell_type": "markdown",
   "metadata": {},
   "source": [
    "### Plotting: Ridership Over Time By Rider Category\n",
    "\n",
    "Start by getting a sense of how the two categories of ridership compare in their behaviour, and how ridership has evolved in the two-year time span covered by this data set."
   ]
  },
  {
   "cell_type": "code",
   "execution_count": 8,
   "metadata": {},
   "outputs": [],
   "source": [
    "# Create new df with totals aggregated over each day\n",
    "\n",
    "# first separate out hour and day in new columns\n",
    "\n",
    "# set index as column\n",
    "\n",
    "df.reset_index(inplace = True)\n",
    "\n",
    "df['hour'] = pd.to_datetime(df['datetime']).dt.hour\n",
    "\n",
    "df['date'] = pd.to_datetime(df['datetime']).dt.date\n",
    "\n",
    "df['month'] = pd.to_datetime(df['datetime']).dt.month\n",
    "\n",
    "df['year'] = pd.to_datetime(df['datetime']).dt.year\n",
    "\n",
    "df.set_index('datetime', inplace = True)"
   ]
  },
  {
   "cell_type": "code",
   "execution_count": 9,
   "metadata": {},
   "outputs": [
    {
     "data": {
      "text/html": [
       "<div>\n",
       "<style scoped>\n",
       "    .dataframe tbody tr th:only-of-type {\n",
       "        vertical-align: middle;\n",
       "    }\n",
       "\n",
       "    .dataframe tbody tr th {\n",
       "        vertical-align: top;\n",
       "    }\n",
       "\n",
       "    .dataframe thead th {\n",
       "        text-align: right;\n",
       "    }\n",
       "</style>\n",
       "<table border=\"1\" class=\"dataframe\">\n",
       "  <thead>\n",
       "    <tr style=\"text-align: right;\">\n",
       "      <th></th>\n",
       "      <th>date</th>\n",
       "      <th>season</th>\n",
       "      <th>holiday</th>\n",
       "      <th>workingday</th>\n",
       "      <th>weather</th>\n",
       "      <th>temp</th>\n",
       "      <th>atemp</th>\n",
       "      <th>humidity</th>\n",
       "      <th>windspeed</th>\n",
       "      <th>casual</th>\n",
       "      <th>registered</th>\n",
       "      <th>count</th>\n",
       "      <th>hour</th>\n",
       "      <th>month</th>\n",
       "      <th>year</th>\n",
       "    </tr>\n",
       "  </thead>\n",
       "  <tbody>\n",
       "    <tr>\n",
       "      <th>0</th>\n",
       "      <td>2011-01-01</td>\n",
       "      <td>24</td>\n",
       "      <td>0</td>\n",
       "      <td>0</td>\n",
       "      <td>38</td>\n",
       "      <td>338.66</td>\n",
       "      <td>436.350</td>\n",
       "      <td>1934</td>\n",
       "      <td>257.9969</td>\n",
       "      <td>331</td>\n",
       "      <td>654</td>\n",
       "      <td>985</td>\n",
       "      <td>276</td>\n",
       "      <td>24</td>\n",
       "      <td>48264</td>\n",
       "    </tr>\n",
       "    <tr>\n",
       "      <th>1</th>\n",
       "      <td>2011-01-02</td>\n",
       "      <td>23</td>\n",
       "      <td>0</td>\n",
       "      <td>0</td>\n",
       "      <td>45</td>\n",
       "      <td>342.76</td>\n",
       "      <td>406.800</td>\n",
       "      <td>1601</td>\n",
       "      <td>382.9988</td>\n",
       "      <td>131</td>\n",
       "      <td>670</td>\n",
       "      <td>801</td>\n",
       "      <td>271</td>\n",
       "      <td>23</td>\n",
       "      <td>46253</td>\n",
       "    </tr>\n",
       "    <tr>\n",
       "      <th>2</th>\n",
       "      <td>2011-01-03</td>\n",
       "      <td>22</td>\n",
       "      <td>0</td>\n",
       "      <td>22</td>\n",
       "      <td>22</td>\n",
       "      <td>177.12</td>\n",
       "      <td>208.345</td>\n",
       "      <td>962</td>\n",
       "      <td>366.0076</td>\n",
       "      <td>120</td>\n",
       "      <td>1229</td>\n",
       "      <td>1349</td>\n",
       "      <td>271</td>\n",
       "      <td>22</td>\n",
       "      <td>44242</td>\n",
       "    </tr>\n",
       "    <tr>\n",
       "      <th>3</th>\n",
       "      <td>2011-01-04</td>\n",
       "      <td>23</td>\n",
       "      <td>0</td>\n",
       "      <td>23</td>\n",
       "      <td>24</td>\n",
       "      <td>188.60</td>\n",
       "      <td>243.940</td>\n",
       "      <td>1358</td>\n",
       "      <td>247.0156</td>\n",
       "      <td>108</td>\n",
       "      <td>1454</td>\n",
       "      <td>1562</td>\n",
       "      <td>273</td>\n",
       "      <td>23</td>\n",
       "      <td>46253</td>\n",
       "    </tr>\n",
       "    <tr>\n",
       "      <th>4</th>\n",
       "      <td>2011-01-05</td>\n",
       "      <td>23</td>\n",
       "      <td>0</td>\n",
       "      <td>23</td>\n",
       "      <td>23</td>\n",
       "      <td>214.02</td>\n",
       "      <td>263.660</td>\n",
       "      <td>1005</td>\n",
       "      <td>288.0129</td>\n",
       "      <td>82</td>\n",
       "      <td>1518</td>\n",
       "      <td>1600</td>\n",
       "      <td>273</td>\n",
       "      <td>23</td>\n",
       "      <td>46253</td>\n",
       "    </tr>\n",
       "    <tr>\n",
       "      <th>...</th>\n",
       "      <td>...</td>\n",
       "      <td>...</td>\n",
       "      <td>...</td>\n",
       "      <td>...</td>\n",
       "      <td>...</td>\n",
       "      <td>...</td>\n",
       "      <td>...</td>\n",
       "      <td>...</td>\n",
       "      <td>...</td>\n",
       "      <td>...</td>\n",
       "      <td>...</td>\n",
       "      <td>...</td>\n",
       "      <td>...</td>\n",
       "      <td>...</td>\n",
       "      <td>...</td>\n",
       "    </tr>\n",
       "    <tr>\n",
       "      <th>451</th>\n",
       "      <td>2012-12-15</td>\n",
       "      <td>96</td>\n",
       "      <td>0</td>\n",
       "      <td>0</td>\n",
       "      <td>33</td>\n",
       "      <td>318.98</td>\n",
       "      <td>406.060</td>\n",
       "      <td>1561</td>\n",
       "      <td>171.0108</td>\n",
       "      <td>767</td>\n",
       "      <td>4280</td>\n",
       "      <td>5047</td>\n",
       "      <td>276</td>\n",
       "      <td>288</td>\n",
       "      <td>48288</td>\n",
       "    </tr>\n",
       "    <tr>\n",
       "      <th>452</th>\n",
       "      <td>2012-12-16</td>\n",
       "      <td>96</td>\n",
       "      <td>0</td>\n",
       "      <td>0</td>\n",
       "      <td>49</td>\n",
       "      <td>356.70</td>\n",
       "      <td>443.925</td>\n",
       "      <td>2013</td>\n",
       "      <td>161.9926</td>\n",
       "      <td>538</td>\n",
       "      <td>3248</td>\n",
       "      <td>3786</td>\n",
       "      <td>276</td>\n",
       "      <td>288</td>\n",
       "      <td>48288</td>\n",
       "    </tr>\n",
       "    <tr>\n",
       "      <th>453</th>\n",
       "      <td>2012-12-17</td>\n",
       "      <td>96</td>\n",
       "      <td>0</td>\n",
       "      <td>24</td>\n",
       "      <td>51</td>\n",
       "      <td>387.04</td>\n",
       "      <td>481.800</td>\n",
       "      <td>2177</td>\n",
       "      <td>157.9994</td>\n",
       "      <td>212</td>\n",
       "      <td>4373</td>\n",
       "      <td>4585</td>\n",
       "      <td>276</td>\n",
       "      <td>288</td>\n",
       "      <td>48288</td>\n",
       "    </tr>\n",
       "    <tr>\n",
       "      <th>454</th>\n",
       "      <td>2012-12-18</td>\n",
       "      <td>96</td>\n",
       "      <td>0</td>\n",
       "      <td>24</td>\n",
       "      <td>29</td>\n",
       "      <td>404.26</td>\n",
       "      <td>491.650</td>\n",
       "      <td>1599</td>\n",
       "      <td>356.0179</td>\n",
       "      <td>433</td>\n",
       "      <td>5124</td>\n",
       "      <td>5557</td>\n",
       "      <td>276</td>\n",
       "      <td>288</td>\n",
       "      <td>48288</td>\n",
       "    </tr>\n",
       "    <tr>\n",
       "      <th>455</th>\n",
       "      <td>2012-12-19</td>\n",
       "      <td>96</td>\n",
       "      <td>0</td>\n",
       "      <td>24</td>\n",
       "      <td>24</td>\n",
       "      <td>327.18</td>\n",
       "      <td>410.595</td>\n",
       "      <td>1501</td>\n",
       "      <td>296.0194</td>\n",
       "      <td>333</td>\n",
       "      <td>4934</td>\n",
       "      <td>5267</td>\n",
       "      <td>276</td>\n",
       "      <td>288</td>\n",
       "      <td>48288</td>\n",
       "    </tr>\n",
       "  </tbody>\n",
       "</table>\n",
       "<p>456 rows × 15 columns</p>\n",
       "</div>"
      ],
      "text/plain": [
       "           date  season  holiday  workingday  weather    temp    atemp  \\\n",
       "0    2011-01-01      24        0           0       38  338.66  436.350   \n",
       "1    2011-01-02      23        0           0       45  342.76  406.800   \n",
       "2    2011-01-03      22        0          22       22  177.12  208.345   \n",
       "3    2011-01-04      23        0          23       24  188.60  243.940   \n",
       "4    2011-01-05      23        0          23       23  214.02  263.660   \n",
       "..          ...     ...      ...         ...      ...     ...      ...   \n",
       "451  2012-12-15      96        0           0       33  318.98  406.060   \n",
       "452  2012-12-16      96        0           0       49  356.70  443.925   \n",
       "453  2012-12-17      96        0          24       51  387.04  481.800   \n",
       "454  2012-12-18      96        0          24       29  404.26  491.650   \n",
       "455  2012-12-19      96        0          24       24  327.18  410.595   \n",
       "\n",
       "     humidity  windspeed  casual  registered  count  hour  month   year  \n",
       "0        1934   257.9969     331         654    985   276     24  48264  \n",
       "1        1601   382.9988     131         670    801   271     23  46253  \n",
       "2         962   366.0076     120        1229   1349   271     22  44242  \n",
       "3        1358   247.0156     108        1454   1562   273     23  46253  \n",
       "4        1005   288.0129      82        1518   1600   273     23  46253  \n",
       "..        ...        ...     ...         ...    ...   ...    ...    ...  \n",
       "451      1561   171.0108     767        4280   5047   276    288  48288  \n",
       "452      2013   161.9926     538        3248   3786   276    288  48288  \n",
       "453      2177   157.9994     212        4373   4585   276    288  48288  \n",
       "454      1599   356.0179     433        5124   5557   276    288  48288  \n",
       "455      1501   296.0194     333        4934   5267   276    288  48288  \n",
       "\n",
       "[456 rows x 15 columns]"
      ]
     },
     "execution_count": 9,
     "metadata": {},
     "output_type": "execute_result"
    }
   ],
   "source": [
    "# now count totals by day\n",
    "\n",
    "days = df.groupby(['date']).sum()\n",
    "days.reset_index(inplace = True)\n",
    "days"
   ]
  },
  {
   "cell_type": "code",
   "execution_count": 10,
   "metadata": {},
   "outputs": [
    {
     "data": {
      "text/plain": [
       "datetime.date(2011, 1, 1)"
      ]
     },
     "execution_count": 10,
     "metadata": {},
     "output_type": "execute_result"
    }
   ],
   "source": [
    "days['date'].min()"
   ]
  },
  {
   "cell_type": "code",
   "execution_count": 11,
   "metadata": {},
   "outputs": [
    {
     "data": {
      "text/plain": [
       "<matplotlib.legend.Legend at 0x1a24822050>"
      ]
     },
     "execution_count": 11,
     "metadata": {},
     "output_type": "execute_result"
    },
    {
     "data": {
      "image/png": "[encoded data removed]",
      "text/plain": [
       "<Figure size 432x288 with 1 Axes>"
      ]
     },
     "metadata": {
      "needs_background": "light"
     },
     "output_type": "display_data"
    }
   ],
   "source": [
    "# plot total rentals across time, separated by ridership\n",
    "\n",
    "sns.scatterplot(x = 'date', y = 'casual', data = days, label = 'casual')\n",
    "sns.scatterplot(x = 'date', y = 'registered', data = days, label = 'registered')\n",
    "plt.xlim(df['date'][0], df['date'][-1])\n",
    "plt.legend()"
   ]
  },
  {
   "cell_type": "markdown",
   "metadata": {},
   "source": [
    "Conclusions from this plot:\n",
    "- Steadily increasing overall ridership over the two-year time period.\n",
    "- Surges in the summer months across both ridership groups.\n",
    "- Rentals by registered riders overall consistently higher per day than rentals by casual riders -- though the two groups sometimes overlap in their rental numbers."
   ]
  },
  {
   "cell_type": "code",
   "execution_count": 12,
   "metadata": {},
   "outputs": [
    {
     "data": {
      "text/html": [
       "<div>\n",
       "<style scoped>\n",
       "    .dataframe tbody tr th:only-of-type {\n",
       "        vertical-align: middle;\n",
       "    }\n",
       "\n",
       "    .dataframe tbody tr th {\n",
       "        vertical-align: top;\n",
       "    }\n",
       "\n",
       "    .dataframe thead th {\n",
       "        text-align: right;\n",
       "    }\n",
       "</style>\n",
       "<table border=\"1\" class=\"dataframe\">\n",
       "  <thead>\n",
       "    <tr style=\"text-align: right;\">\n",
       "      <th></th>\n",
       "      <th>month</th>\n",
       "      <th>season</th>\n",
       "      <th>holiday</th>\n",
       "      <th>workingday</th>\n",
       "      <th>weather</th>\n",
       "      <th>temp</th>\n",
       "      <th>atemp</th>\n",
       "      <th>humidity</th>\n",
       "      <th>windspeed</th>\n",
       "      <th>casual</th>\n",
       "      <th>registered</th>\n",
       "      <th>count</th>\n",
       "      <th>hour</th>\n",
       "      <th>year</th>\n",
       "    </tr>\n",
       "  </thead>\n",
       "  <tbody>\n",
       "    <tr>\n",
       "      <th>0</th>\n",
       "      <td>1</td>\n",
       "      <td>453</td>\n",
       "      <td>47</td>\n",
       "      <td>286</td>\n",
       "      <td>617</td>\n",
       "      <td>4977.40</td>\n",
       "      <td>6035.580</td>\n",
       "      <td>25157</td>\n",
       "      <td>6965.1592</td>\n",
       "      <td>5244</td>\n",
       "      <td>51088</td>\n",
       "      <td>56332</td>\n",
       "      <td>5235</td>\n",
       "      <td>911436</td>\n",
       "    </tr>\n",
       "    <tr>\n",
       "      <th>1</th>\n",
       "      <td>2</td>\n",
       "      <td>455</td>\n",
       "      <td>0</td>\n",
       "      <td>311</td>\n",
       "      <td>699</td>\n",
       "      <td>5576.82</td>\n",
       "      <td>6849.915</td>\n",
       "      <td>26826</td>\n",
       "      <td>5664.1532</td>\n",
       "      <td>5521</td>\n",
       "      <td>60748</td>\n",
       "      <td>66269</td>\n",
       "      <td>5241</td>\n",
       "      <td>915460</td>\n",
       "    </tr>\n",
       "    <tr>\n",
       "      <th>2</th>\n",
       "      <td>3</td>\n",
       "      <td>455</td>\n",
       "      <td>0</td>\n",
       "      <td>312</td>\n",
       "      <td>620</td>\n",
       "      <td>8055.68</td>\n",
       "      <td>9599.080</td>\n",
       "      <td>26125</td>\n",
       "      <td>6691.1828</td>\n",
       "      <td>17146</td>\n",
       "      <td>77620</td>\n",
       "      <td>94766</td>\n",
       "      <td>5242</td>\n",
       "      <td>915460</td>\n",
       "    </tr>\n",
       "    <tr>\n",
       "      <th>3</th>\n",
       "      <td>4</td>\n",
       "      <td>908</td>\n",
       "      <td>24</td>\n",
       "      <td>310</td>\n",
       "      <td>565</td>\n",
       "      <td>8926.52</td>\n",
       "      <td>10611.930</td>\n",
       "      <td>20469</td>\n",
       "      <td>6954.0841</td>\n",
       "      <td>27584</td>\n",
       "      <td>89301</td>\n",
       "      <td>116885</td>\n",
       "      <td>5237</td>\n",
       "      <td>913448</td>\n",
       "    </tr>\n",
       "    <tr>\n",
       "      <th>4</th>\n",
       "      <td>5</td>\n",
       "      <td>912</td>\n",
       "      <td>0</td>\n",
       "      <td>336</td>\n",
       "      <td>696</td>\n",
       "      <td>10861.72</td>\n",
       "      <td>12681.180</td>\n",
       "      <td>29525</td>\n",
       "      <td>5578.0448</td>\n",
       "      <td>25420</td>\n",
       "      <td>95014</td>\n",
       "      <td>120434</td>\n",
       "      <td>5244</td>\n",
       "      <td>917472</td>\n",
       "    </tr>\n",
       "    <tr>\n",
       "      <th>5</th>\n",
       "      <td>6</td>\n",
       "      <td>912</td>\n",
       "      <td>0</td>\n",
       "      <td>312</td>\n",
       "      <td>611</td>\n",
       "      <td>11827.68</td>\n",
       "      <td>13600.925</td>\n",
       "      <td>27008</td>\n",
       "      <td>5822.0990</td>\n",
       "      <td>28974</td>\n",
       "      <td>101983</td>\n",
       "      <td>130957</td>\n",
       "      <td>5244</td>\n",
       "      <td>917472</td>\n",
       "    </tr>\n",
       "    <tr>\n",
       "      <th>6</th>\n",
       "      <td>7</td>\n",
       "      <td>1368</td>\n",
       "      <td>24</td>\n",
       "      <td>312</td>\n",
       "      <td>605</td>\n",
       "      <td>14462.34</td>\n",
       "      <td>16319.845</td>\n",
       "      <td>25719</td>\n",
       "      <td>4596.0526</td>\n",
       "      <td>24802</td>\n",
       "      <td>96967</td>\n",
       "      <td>121769</td>\n",
       "      <td>5244</td>\n",
       "      <td>917472</td>\n",
       "    </tr>\n",
       "    <tr>\n",
       "      <th>7</th>\n",
       "      <td>8</td>\n",
       "      <td>1368</td>\n",
       "      <td>0</td>\n",
       "      <td>312</td>\n",
       "      <td>620</td>\n",
       "      <td>13591.50</td>\n",
       "      <td>14948.725</td>\n",
       "      <td>29118</td>\n",
       "      <td>5190.1081</td>\n",
       "      <td>28290</td>\n",
       "      <td>101930</td>\n",
       "      <td>130220</td>\n",
       "      <td>5244</td>\n",
       "      <td>917472</td>\n",
       "    </tr>\n",
       "    <tr>\n",
       "      <th>8</th>\n",
       "      <td>9</td>\n",
       "      <td>1368</td>\n",
       "      <td>24</td>\n",
       "      <td>288</td>\n",
       "      <td>624</td>\n",
       "      <td>12044.16</td>\n",
       "      <td>13899.490</td>\n",
       "      <td>30623</td>\n",
       "      <td>5312.1553</td>\n",
       "      <td>27590</td>\n",
       "      <td>105835</td>\n",
       "      <td>133425</td>\n",
       "      <td>5244</td>\n",
       "      <td>917472</td>\n",
       "    </tr>\n",
       "    <tr>\n",
       "      <th>9</th>\n",
       "      <td>10</td>\n",
       "      <td>1824</td>\n",
       "      <td>24</td>\n",
       "      <td>336</td>\n",
       "      <td>694</td>\n",
       "      <td>9559.56</td>\n",
       "      <td>11271.945</td>\n",
       "      <td>30670</td>\n",
       "      <td>5235.1187</td>\n",
       "      <td>20928</td>\n",
       "      <td>106984</td>\n",
       "      <td>127912</td>\n",
       "      <td>5244</td>\n",
       "      <td>917472</td>\n",
       "    </tr>\n",
       "    <tr>\n",
       "      <th>10</th>\n",
       "      <td>11</td>\n",
       "      <td>1820</td>\n",
       "      <td>24</td>\n",
       "      <td>287</td>\n",
       "      <td>630</td>\n",
       "      <td>6521.46</td>\n",
       "      <td>7840.745</td>\n",
       "      <td>26076</td>\n",
       "      <td>6435.1490</td>\n",
       "      <td>15198</td>\n",
       "      <td>90353</td>\n",
       "      <td>105551</td>\n",
       "      <td>5241</td>\n",
       "      <td>915460</td>\n",
       "    </tr>\n",
       "    <tr>\n",
       "      <th>11</th>\n",
       "      <td>12</td>\n",
       "      <td>1824</td>\n",
       "      <td>0</td>\n",
       "      <td>312</td>\n",
       "      <td>726</td>\n",
       "      <td>6733.02</td>\n",
       "      <td>8292.165</td>\n",
       "      <td>32598</td>\n",
       "      <td>4816.2012</td>\n",
       "      <td>9621</td>\n",
       "      <td>89356</td>\n",
       "      <td>98977</td>\n",
       "      <td>5244</td>\n",
       "      <td>917472</td>\n",
       "    </tr>\n",
       "  </tbody>\n",
       "</table>\n",
       "</div>"
      ],
      "text/plain": [
       "    month  season  holiday  workingday  weather      temp      atemp  \\\n",
       "0       1     453       47         286      617   4977.40   6035.580   \n",
       "1       2     455        0         311      699   5576.82   6849.915   \n",
       "2       3     455        0         312      620   8055.68   9599.080   \n",
       "3       4     908       24         310      565   8926.52  10611.930   \n",
       "4       5     912        0         336      696  10861.72  12681.180   \n",
       "5       6     912        0         312      611  11827.68  13600.925   \n",
       "6       7    1368       24         312      605  14462.34  16319.845   \n",
       "7       8    1368        0         312      620  13591.50  14948.725   \n",
       "8       9    1368       24         288      624  12044.16  13899.490   \n",
       "9      10    1824       24         336      694   9559.56  11271.945   \n",
       "10     11    1820       24         287      630   6521.46   7840.745   \n",
       "11     12    1824        0         312      726   6733.02   8292.165   \n",
       "\n",
       "    humidity  windspeed  casual  registered   count  hour    year  \n",
       "0      25157  6965.1592    5244       51088   56332  5235  911436  \n",
       "1      26826  5664.1532    5521       60748   66269  5241  915460  \n",
       "2      26125  6691.1828   17146       77620   94766  5242  915460  \n",
       "3      20469  6954.0841   27584       89301  116885  5237  913448  \n",
       "4      29525  5578.0448   25420       95014  120434  5244  917472  \n",
       "5      27008  5822.0990   28974      101983  130957  5244  917472  \n",
       "6      25719  4596.0526   24802       96967  121769  5244  917472  \n",
       "7      29118  5190.1081   28290      101930  130220  5244  917472  \n",
       "8      30623  5312.1553   27590      105835  133425  5244  917472  \n",
       "9      30670  5235.1187   20928      106984  127912  5244  917472  \n",
       "10     26076  6435.1490   15198       90353  105551  5241  915460  \n",
       "11     32598  4816.2012    9621       89356   98977  5244  917472  "
      ]
     },
     "execution_count": 12,
     "metadata": {},
     "output_type": "execute_result"
    }
   ],
   "source": [
    "# Aggregate across months\n",
    "\n",
    "# 2011\n",
    "\n",
    "months_2011 = df.loc[df['year'] == 2011]\n",
    "\n",
    "months_2011 = months_2011.groupby(['month']).sum()\n",
    "months_2011.reset_index(inplace = True)\n",
    "months_2011\n",
    "\n",
    "# 2012\n",
    "\n",
    "months_2012 = df.loc[df['year'] == 2012]\n",
    "\n",
    "months_2012 = months_2012.groupby(['month']).sum()\n",
    "months_2012.reset_index(inplace = True)\n",
    "months_2012"
   ]
  },
  {
   "cell_type": "code",
   "execution_count": 13,
   "metadata": {},
   "outputs": [
    {
     "data": {
      "image/png": "[encoded data removed]",
      "text/plain": [
       "<Figure size 432x288 with 1 Axes>"
      ]
     },
     "metadata": {
      "needs_background": "light"
     },
     "output_type": "display_data"
    },
    {
     "data": {
      "text/plain": [
       "Text(0.5, 1.0, '2012')"
      ]
     },
     "execution_count": 13,
     "metadata": {},
     "output_type": "execute_result"
    },
    {
     "data": {
      "image/png": "[encoded data removed]",
      "text/plain": [
       "<Figure size 432x288 with 1 Axes>"
      ]
     },
     "metadata": {
      "needs_background": "light"
     },
     "output_type": "display_data"
    }
   ],
   "source": [
    "# Plot ridership by month each year\n",
    "\n",
    "sns.scatterplot(x = 'month', y = 'casual', data = months_2011, label = 'casual')\n",
    "sns.scatterplot(x = 'month', y = 'registered', data = months_2011, label = 'registered')\n",
    "plt.ylim(0, 120_000)\n",
    "plt.legend()\n",
    "plt.title('2011')\n",
    "plt.show()\n",
    "plt.close()\n",
    "\n",
    "\n",
    "sns.scatterplot(x = 'month', y = 'casual', data = months_2012, label = 'casual')\n",
    "sns.scatterplot(x = 'month', y = 'registered', data = months_2012, label = 'registered')\n",
    "plt.ylim(0, 120_000)\n",
    "plt.legend()\n",
    "plt.title('2012')"
   ]
  },
  {
   "cell_type": "markdown",
   "metadata": {},
   "source": [
    "### Plotting: Weekdays and Holidays\n",
    "\n",
    "- How does weekday and holiday status affect bike rentals?\n",
    "\n",
    "- Do we need to break out holidays from weekends? Or can we do a work day/not work day distinction?\n",
    "\n",
    "#### Weekdays Plots\n",
    "- Choice: Box plot to show range of distribution\n",
    "- Secondary choice: plot by season"
   ]
  },
  {
   "cell_type": "code",
   "execution_count": 14,
   "metadata": {},
   "outputs": [
    {
     "data": {
      "text/plain": [
       "<matplotlib.axes._subplots.AxesSubplot at 0x1a23da48d0>"
      ]
     },
     "execution_count": 14,
     "metadata": {},
     "output_type": "execute_result"
    },
    {
     "data": {
      "image/png": "[encoded data removed]",
      "text/plain": [
       "<Figure size 432x288 with 1 Axes>"
      ]
     },
     "metadata": {
      "needs_background": "light"
     },
     "output_type": "display_data"
    }
   ],
   "source": [
    "# Plot rentals: weekday vs. non weekday\n",
    "sns.boxplot(x = 'workingday', y = 'count', hue = 'season', data = df)"
   ]
  },
  {
   "cell_type": "code",
   "execution_count": 15,
   "metadata": {},
   "outputs": [
    {
     "data": {
      "text/plain": [
       "<matplotlib.axes._subplots.AxesSubplot at 0x1a24eb7550>"
      ]
     },
     "execution_count": 15,
     "metadata": {},
     "output_type": "execute_result"
    },
    {
     "data": {
      "image/png": "[encoded data removed]",
      "text/plain": [
       "<Figure size 432x288 with 1 Axes>"
      ]
     },
     "metadata": {
      "needs_background": "light"
     },
     "output_type": "display_data"
    }
   ],
   "source": [
    "# asymmetric violin plot\n",
    "\n",
    "sns.violinplot(x = 'season', y = 'count', hue = 'workingday',\n",
    "                    data = df, split=True)"
   ]
  },
  {
   "cell_type": "code",
   "execution_count": 16,
   "metadata": {},
   "outputs": [
    {
     "data": {
      "text/plain": [
       "<matplotlib.axes._subplots.AxesSubplot at 0x1a24fb26d0>"
      ]
     },
     "execution_count": 16,
     "metadata": {},
     "output_type": "execute_result"
    },
    {
     "data": {
      "image/png": "[encoded data removed]",
      "text/plain": [
       "<Figure size 432x288 with 1 Axes>"
      ]
     },
     "metadata": {
      "needs_background": "light"
     },
     "output_type": "display_data"
    }
   ],
   "source": [
    "sns.violinplot(x = 'season', y = 'count', hue = 'holiday',\n",
    "                    data = df, split=True)"
   ]
  },
  {
   "cell_type": "markdown",
   "metadata": {},
   "source": [
    "Conclusions from comparing holiday and workingday rental volume:\n",
    "- Holidays (1; orange in this plot) behave similarly to non-working days (0; blue in the plot before)\n",
    "- For simplicity I'll distinguish between workdays and non-workdays"
   ]
  },
  {
   "cell_type": "markdown",
   "metadata": {},
   "source": [
    "Some conclusions from this:\n",
    "- Seasonal patterns are similar across day type -- with highest no. of rentals in summer, and lowest ones in winter\n",
    "- Long-tailed distribution for most season\n",
    "- These graphs doesn't let us see difference between the casual and registered ridership. For this purpose, an asymmetrical violin plot could be helpful.\n",
    "- The violin plot suggests that there are bimodal distributions: in summer, it seems like the counts are either very low or quite high. Except in winter, workday distributions are always bimodal. Since this is hour-by-hour data, this looks like a \"rush hour\" kind of phenomenon.\n",
    "\n",
    "Another thought:\n",
    "- This data is all hour by hour. \n",
    "- To get a more coarse-grained overview of patterns of demand, I might want to look at averages over a full day (midnight to midnight).\n",
    "- And we haven't looked at ridership yet."
   ]
  },
  {
   "cell_type": "markdown",
   "metadata": {},
   "source": [
    "### Plotting: Time of day\n",
    "- For each type of day, plot activity\n",
    "- Possibility: plot by season\n",
    "- Another possibility: plot by casual/registered user?\n",
    "- Not reflected in heatmap as this collapsed across days (but data points are available for every hour)"
   ]
  },
  {
   "cell_type": "code",
   "execution_count": 17,
   "metadata": {},
   "outputs": [
    {
     "data": {
      "text/html": [
       "<div>\n",
       "<style scoped>\n",
       "    .dataframe tbody tr th:only-of-type {\n",
       "        vertical-align: middle;\n",
       "    }\n",
       "\n",
       "    .dataframe tbody tr th {\n",
       "        vertical-align: top;\n",
       "    }\n",
       "\n",
       "    .dataframe thead th {\n",
       "        text-align: right;\n",
       "    }\n",
       "</style>\n",
       "<table border=\"1\" class=\"dataframe\">\n",
       "  <thead>\n",
       "    <tr style=\"text-align: right;\">\n",
       "      <th></th>\n",
       "      <th>hour</th>\n",
       "      <th>workingday</th>\n",
       "      <th>season</th>\n",
       "      <th>holiday</th>\n",
       "      <th>weather</th>\n",
       "      <th>temp</th>\n",
       "      <th>atemp</th>\n",
       "      <th>humidity</th>\n",
       "      <th>windspeed</th>\n",
       "      <th>casual</th>\n",
       "      <th>registered</th>\n",
       "      <th>count</th>\n",
       "      <th>month</th>\n",
       "      <th>year</th>\n",
       "    </tr>\n",
       "  </thead>\n",
       "  <tbody>\n",
       "    <tr>\n",
       "      <th>0</th>\n",
       "      <td>0</td>\n",
       "      <td>0</td>\n",
       "      <td>365</td>\n",
       "      <td>13</td>\n",
       "      <td>194</td>\n",
       "      <td>2709.28</td>\n",
       "      <td>3207.565</td>\n",
       "      <td>9711</td>\n",
       "      <td>1524.0624</td>\n",
       "      <td>2468</td>\n",
       "      <td>11233</td>\n",
       "      <td>13701</td>\n",
       "      <td>947</td>\n",
       "      <td>291668</td>\n",
       "    </tr>\n",
       "    <tr>\n",
       "      <th>1</th>\n",
       "      <td>0</td>\n",
       "      <td>1</td>\n",
       "      <td>774</td>\n",
       "      <td>0</td>\n",
       "      <td>440</td>\n",
       "      <td>5941.72</td>\n",
       "      <td>7012.910</td>\n",
       "      <td>21265</td>\n",
       "      <td>3345.1492</td>\n",
       "      <td>2224</td>\n",
       "      <td>9163</td>\n",
       "      <td>11387</td>\n",
       "      <td>2016</td>\n",
       "      <td>623565</td>\n",
       "    </tr>\n",
       "    <tr>\n",
       "      <th>2</th>\n",
       "      <td>1</td>\n",
       "      <td>0</td>\n",
       "      <td>365</td>\n",
       "      <td>13</td>\n",
       "      <td>205</td>\n",
       "      <td>2654.34</td>\n",
       "      <td>3136.390</td>\n",
       "      <td>9948</td>\n",
       "      <td>1475.0318</td>\n",
       "      <td>1892</td>\n",
       "      <td>8535</td>\n",
       "      <td>10427</td>\n",
       "      <td>947</td>\n",
       "      <td>291668</td>\n",
       "    </tr>\n",
       "    <tr>\n",
       "      <th>3</th>\n",
       "      <td>1</td>\n",
       "      <td>1</td>\n",
       "      <td>771</td>\n",
       "      <td>0</td>\n",
       "      <td>445</td>\n",
       "      <td>5808.06</td>\n",
       "      <td>6856.820</td>\n",
       "      <td>21642</td>\n",
       "      <td>3255.1213</td>\n",
       "      <td>1065</td>\n",
       "      <td>3880</td>\n",
       "      <td>4945</td>\n",
       "      <td>2007</td>\n",
       "      <td>621554</td>\n",
       "    </tr>\n",
       "    <tr>\n",
       "      <th>4</th>\n",
       "      <td>2</td>\n",
       "      <td>0</td>\n",
       "      <td>363</td>\n",
       "      <td>13</td>\n",
       "      <td>198</td>\n",
       "      <td>2591.20</td>\n",
       "      <td>3069.710</td>\n",
       "      <td>9980</td>\n",
       "      <td>1430.0614</td>\n",
       "      <td>1518</td>\n",
       "      <td>6168</td>\n",
       "      <td>7686</td>\n",
       "      <td>941</td>\n",
       "      <td>287645</td>\n",
       "    </tr>\n",
       "  </tbody>\n",
       "</table>\n",
       "</div>"
      ],
      "text/plain": [
       "   hour  workingday  season  holiday  weather     temp     atemp  humidity  \\\n",
       "0     0           0     365       13      194  2709.28  3207.565      9711   \n",
       "1     0           1     774        0      440  5941.72  7012.910     21265   \n",
       "2     1           0     365       13      205  2654.34  3136.390      9948   \n",
       "3     1           1     771        0      445  5808.06  6856.820     21642   \n",
       "4     2           0     363       13      198  2591.20  3069.710      9980   \n",
       "\n",
       "   windspeed  casual  registered  count  month    year  \n",
       "0  1524.0624    2468       11233  13701    947  291668  \n",
       "1  3345.1492    2224        9163  11387   2016  623565  \n",
       "2  1475.0318    1892        8535  10427    947  291668  \n",
       "3  3255.1213    1065        3880   4945   2007  621554  \n",
       "4  1430.0614    1518        6168   7686    941  287645  "
      ]
     },
     "execution_count": 17,
     "metadata": {},
     "output_type": "execute_result"
    }
   ],
   "source": [
    "# Creating a data set that is grouped by hours\n",
    "# disregarding season for now but taking into account the workingday difference\n",
    "\n",
    "hours = df.groupby(['hour', 'workingday']).sum()\n",
    "hours.reset_index(inplace = True)\n",
    "hours.head()\n",
    "\n",
    "# hours['hour'].unique()\n",
    "# check if hours reported as 24-h clock; answer: yes!"
   ]
  },
  {
   "cell_type": "code",
   "execution_count": 18,
   "metadata": {},
   "outputs": [
    {
     "data": {
      "text/plain": [
       "<matplotlib.axes._subplots.AxesSubplot at 0x1a250fa1d0>"
      ]
     },
     "execution_count": 18,
     "metadata": {},
     "output_type": "execute_result"
    },
    {
     "data": {
      "image/png": "[encoded data removed]",
      "text/plain": [
       "<Figure size 432x288 with 1 Axes>"
      ]
     },
     "metadata": {
      "needs_background": "light"
     },
     "output_type": "display_data"
    }
   ],
   "source": [
    "# Plot as bar chart\n",
    "\n",
    "sns.barplot(x = 'hour', y = 'count', data = hours, hue = 'workingday')"
   ]
  },
  {
   "cell_type": "markdown",
   "metadata": {},
   "source": [
    "**Conclusions from this plot:**\n",
    "\n",
    "- Patterns for bike rental numbers for working/non-working days are very similar between midnight and 5 am.\n",
    "- Patterns diverge between 5 am - midnight.\n",
    "- On work days, there are two big spikes in bike rentals peaking at 8 and 6 pm (before and after a 9-5 work day). Bimodal distribution.\n",
    "- On non-work days, bike rentals build gradually, peaking at noon. Unimodal distribution. The peak of the non-working day rental no. is equivalent to the trough between the two working day peaks.\n",
    "\n",
    "**Conclusion: People's commute to work may be a significant factor in bike rentals.**\n",
    "\n",
    "Next up: If work schedules impact bike rentals, we may see differences between registered and casual ridership patterns.\n",
    "\n",
    "### Plotting: Ridership vs. time of day"
   ]
  },
  {
   "cell_type": "code",
   "execution_count": 19,
   "metadata": {},
   "outputs": [
    {
     "data": {
      "image/png": "[encoded data removed]",
      "text/plain": [
       "<Figure size 432x288 with 1 Axes>"
      ]
     },
     "metadata": {
      "needs_background": "light"
     },
     "output_type": "display_data"
    },
    {
     "data": {
      "text/plain": [
       "<matplotlib.legend.Legend at 0x1a255c3e90>"
      ]
     },
     "execution_count": 19,
     "metadata": {},
     "output_type": "execute_result"
    },
    {
     "data": {
      "image/png": "[encoded data removed]",
      "text/plain": [
       "<Figure size 432x288 with 1 Axes>"
      ]
     },
     "metadata": {
      "needs_background": "light"
     },
     "output_type": "display_data"
    }
   ],
   "source": [
    "# plot\n",
    "\n",
    "sns.barplot(x = 'hour', y = 'casual', data = hours, hue = 'workingday')\n",
    "plt.ylim(0, 150_000)\n",
    "plt.show()\n",
    "plt.close()\n",
    "\n",
    "sns.barplot(x = 'hour', y = 'registered', data = hours, hue = 'workingday')\n",
    "plt.ylim(0, 150_000)\n",
    "plt.legend()\n",
    "\n"
   ]
  },
  {
   "cell_type": "markdown",
   "metadata": {},
   "source": [
    "**Conclusions from these plots:**\n",
    "\n",
    "- Registered ridership dwarfs casual ridership.\n",
    "- The distribution pattern for non-working days is the same for registered and casual riders, though there are many more registered riders using bikes on non-working days (looks like a factor of about 10)."
   ]
  },
  {
   "cell_type": "markdown",
   "metadata": {},
   "source": [
    "### Plotting: Weather\n",
    "\n",
    "Look at how seasonal weather patterns affect total bike rentals. (No separation for now between casual and registered riders.)\n",
    "- Different plot for each season (easier to grasp); same x and y axis\n",
    "- For each season, plot relationship of rentals with:\n",
    "    - Weather (1, 2, 3, 4)\n",
    "    - Temperature (real and felt)\n",
    "    - Humidity"
   ]
  },
  {
   "cell_type": "code",
   "execution_count": 20,
   "metadata": {},
   "outputs": [
    {
     "data": {
      "text/html": [
       "<div>\n",
       "<style scoped>\n",
       "    .dataframe tbody tr th:only-of-type {\n",
       "        vertical-align: middle;\n",
       "    }\n",
       "\n",
       "    .dataframe tbody tr th {\n",
       "        vertical-align: top;\n",
       "    }\n",
       "\n",
       "    .dataframe thead th {\n",
       "        text-align: right;\n",
       "    }\n",
       "</style>\n",
       "<table border=\"1\" class=\"dataframe\">\n",
       "  <thead>\n",
       "    <tr style=\"text-align: right;\">\n",
       "      <th></th>\n",
       "      <th>season</th>\n",
       "      <th>weather</th>\n",
       "      <th>casual</th>\n",
       "      <th>registered</th>\n",
       "      <th>count</th>\n",
       "    </tr>\n",
       "  </thead>\n",
       "  <tbody>\n",
       "    <tr>\n",
       "      <th>0</th>\n",
       "      <td>1</td>\n",
       "      <td>1</td>\n",
       "      <td>17.649801</td>\n",
       "      <td>109.131893</td>\n",
       "      <td>126.781694</td>\n",
       "    </tr>\n",
       "    <tr>\n",
       "      <th>1</th>\n",
       "      <td>1</td>\n",
       "      <td>2</td>\n",
       "      <td>13.718881</td>\n",
       "      <td>93.142657</td>\n",
       "      <td>106.861538</td>\n",
       "    </tr>\n",
       "    <tr>\n",
       "      <th>2</th>\n",
       "      <td>1</td>\n",
       "      <td>3</td>\n",
       "      <td>3.526066</td>\n",
       "      <td>57.701422</td>\n",
       "      <td>61.227488</td>\n",
       "    </tr>\n",
       "    <tr>\n",
       "      <th>3</th>\n",
       "      <td>1</td>\n",
       "      <td>4</td>\n",
       "      <td>6.000000</td>\n",
       "      <td>158.000000</td>\n",
       "      <td>164.000000</td>\n",
       "    </tr>\n",
       "    <tr>\n",
       "      <th>4</th>\n",
       "      <td>2</td>\n",
       "      <td>1</td>\n",
       "      <td>53.128262</td>\n",
       "      <td>183.601333</td>\n",
       "      <td>236.729595</td>\n",
       "    </tr>\n",
       "    <tr>\n",
       "      <th>5</th>\n",
       "      <td>2</td>\n",
       "      <td>2</td>\n",
       "      <td>41.491525</td>\n",
       "      <td>148.024011</td>\n",
       "      <td>189.515537</td>\n",
       "    </tr>\n",
       "    <tr>\n",
       "      <th>6</th>\n",
       "      <td>2</td>\n",
       "      <td>3</td>\n",
       "      <td>20.589286</td>\n",
       "      <td>103.316964</td>\n",
       "      <td>123.906250</td>\n",
       "    </tr>\n",
       "    <tr>\n",
       "      <th>7</th>\n",
       "      <td>3</td>\n",
       "      <td>1</td>\n",
       "      <td>54.972539</td>\n",
       "      <td>188.610881</td>\n",
       "      <td>243.583420</td>\n",
       "    </tr>\n",
       "    <tr>\n",
       "      <th>8</th>\n",
       "      <td>3</td>\n",
       "      <td>2</td>\n",
       "      <td>49.783113</td>\n",
       "      <td>180.988411</td>\n",
       "      <td>230.771523</td>\n",
       "    </tr>\n",
       "    <tr>\n",
       "      <th>9</th>\n",
       "      <td>3</td>\n",
       "      <td>3</td>\n",
       "      <td>32.924623</td>\n",
       "      <td>123.658291</td>\n",
       "      <td>156.582915</td>\n",
       "    </tr>\n",
       "    <tr>\n",
       "      <th>10</th>\n",
       "      <td>4</td>\n",
       "      <td>1</td>\n",
       "      <td>33.532902</td>\n",
       "      <td>175.978261</td>\n",
       "      <td>209.511163</td>\n",
       "    </tr>\n",
       "    <tr>\n",
       "      <th>11</th>\n",
       "      <td>4</td>\n",
       "      <td>2</td>\n",
       "      <td>22.294919</td>\n",
       "      <td>172.489467</td>\n",
       "      <td>194.784387</td>\n",
       "    </tr>\n",
       "    <tr>\n",
       "      <th>12</th>\n",
       "      <td>4</td>\n",
       "      <td>3</td>\n",
       "      <td>13.666667</td>\n",
       "      <td>120.800000</td>\n",
       "      <td>134.466667</td>\n",
       "    </tr>\n",
       "  </tbody>\n",
       "</table>\n",
       "</div>"
      ],
      "text/plain": [
       "    season  weather     casual  registered       count\n",
       "0        1        1  17.649801  109.131893  126.781694\n",
       "1        1        2  13.718881   93.142657  106.861538\n",
       "2        1        3   3.526066   57.701422   61.227488\n",
       "3        1        4   6.000000  158.000000  164.000000\n",
       "4        2        1  53.128262  183.601333  236.729595\n",
       "5        2        2  41.491525  148.024011  189.515537\n",
       "6        2        3  20.589286  103.316964  123.906250\n",
       "7        3        1  54.972539  188.610881  243.583420\n",
       "8        3        2  49.783113  180.988411  230.771523\n",
       "9        3        3  32.924623  123.658291  156.582915\n",
       "10       4        1  33.532902  175.978261  209.511163\n",
       "11       4        2  22.294919  172.489467  194.784387\n",
       "12       4        3  13.666667  120.800000  134.466667"
      ]
     },
     "execution_count": 20,
     "metadata": {},
     "output_type": "execute_result"
    }
   ],
   "source": [
    "# Create df of mean rentals by season by weather\n",
    "\n",
    "weather = df.groupby(['season', 'weather']).mean()\n",
    "weather = weather[['casual', 'registered', 'count']]\n",
    "weather.reset_index(inplace = True)\n",
    "\n",
    "weather"
   ]
  },
  {
   "cell_type": "code",
   "execution_count": 21,
   "metadata": {},
   "outputs": [
    {
     "data": {
      "text/plain": [
       "season  weather\n",
       "1       1          1759\n",
       "        2           715\n",
       "        3           211\n",
       "        4             1\n",
       "2       1          1801\n",
       "        2           708\n",
       "        3           224\n",
       "3       1          1930\n",
       "        2           604\n",
       "        3           199\n",
       "4       1          1702\n",
       "        2           807\n",
       "        3           225\n",
       "Name: count, dtype: int64"
      ]
     },
     "execution_count": 21,
     "metadata": {},
     "output_type": "execute_result"
    }
   ],
   "source": [
    "df.groupby(['season', 'weather'])['count'].count()"
   ]
  },
  {
   "cell_type": "code",
   "execution_count": 22,
   "metadata": {},
   "outputs": [
    {
     "name": "stderr",
     "output_type": "stream",
     "text": [
      "/opt/anaconda3/lib/python3.7/site-packages/seaborn/axisgrid.py:728: UserWarning: Using the barplot function without specifying `order` is likely to produce an incorrect plot.\n",
      "  warnings.warn(warning)\n"
     ]
    },
    {
     "data": {
      "image/png": "[encoded data removed]",
      "text/plain": [
       "<Figure size 864x216 with 4 Axes>"
      ]
     },
     "metadata": {
      "needs_background": "light"
     },
     "output_type": "display_data"
    }
   ],
   "source": [
    "# Plotting: Weather\n",
    "\n",
    "g = sns.FacetGrid(weather, col = 'season', ylim = (0, 250))\n",
    "g = g.map(sns.barplot, 'weather', 'count')\n",
    "plt.show()"
   ]
  },
  {
   "cell_type": "code",
   "execution_count": 23,
   "metadata": {},
   "outputs": [
    {
     "name": "stderr",
     "output_type": "stream",
     "text": [
      "/opt/anaconda3/lib/python3.7/site-packages/seaborn/axisgrid.py:728: UserWarning: Using the barplot function without specifying `order` is likely to produce an incorrect plot.\n",
      "  warnings.warn(warning)\n"
     ]
    },
    {
     "data": {
      "image/png": "[encoded data removed]",
      "text/plain": [
       "<Figure size 864x216 with 4 Axes>"
      ]
     },
     "metadata": {
      "needs_background": "light"
     },
     "output_type": "display_data"
    },
    {
     "name": "stderr",
     "output_type": "stream",
     "text": [
      "/opt/anaconda3/lib/python3.7/site-packages/seaborn/axisgrid.py:728: UserWarning: Using the barplot function without specifying `order` is likely to produce an incorrect plot.\n",
      "  warnings.warn(warning)\n"
     ]
    },
    {
     "data": {
      "image/png": "[encoded data removed]",
      "text/plain": [
       "<Figure size 864x216 with 4 Axes>"
      ]
     },
     "metadata": {
      "needs_background": "light"
     },
     "output_type": "display_data"
    }
   ],
   "source": [
    "# Plotting: Weather II\n",
    "\n",
    "g = sns.FacetGrid(weather, col = 'season', ylim = (0, 250))\n",
    "g = g.map(sns.barplot, 'weather', 'casual')\n",
    "plt.show()\n",
    "\n",
    "g = sns.FacetGrid(weather, col = 'season', ylim = (0, 250))\n",
    "g = g.map(sns.barplot, 'weather', 'registered')"
   ]
  },
  {
   "cell_type": "markdown",
   "metadata": {},
   "source": [
    "Conclusions from these plots:\n",
    "- As we already know, casual ridership is really low\n",
    "- Across all seasons, the worse the weather (the higher the number) the lower, on average, the rentals in a given hour across the day\n",
    "- In this data set there is only one recorded instance of type 4 weather, so it is not shown in the bar plots"
   ]
  },
  {
   "cell_type": "markdown",
   "metadata": {},
   "source": [
    "#### Weather: Humidity\n",
    "\n",
    "My firsthand experience of the Mid-Atlantic suggests that humidity affects rental numbers differently across seasons. Specifically, high humidity in summer feels atrocious, and you wouldn't want to be out on a bike, but in the coldest season (spring), it doesn't especially matter. Let's find out!"
   ]
  },
  {
   "cell_type": "code",
   "execution_count": 24,
   "metadata": {},
   "outputs": [
    {
     "data": {
      "text/html": [
       "<div>\n",
       "<style scoped>\n",
       "    .dataframe tbody tr th:only-of-type {\n",
       "        vertical-align: middle;\n",
       "    }\n",
       "\n",
       "    .dataframe tbody tr th {\n",
       "        vertical-align: top;\n",
       "    }\n",
       "\n",
       "    .dataframe thead th {\n",
       "        text-align: right;\n",
       "    }\n",
       "</style>\n",
       "<table border=\"1\" class=\"dataframe\">\n",
       "  <thead>\n",
       "    <tr style=\"text-align: right;\">\n",
       "      <th></th>\n",
       "      <th>season</th>\n",
       "      <th>holiday</th>\n",
       "      <th>workingday</th>\n",
       "      <th>weather</th>\n",
       "      <th>temp</th>\n",
       "      <th>atemp</th>\n",
       "      <th>humidity</th>\n",
       "      <th>windspeed</th>\n",
       "      <th>casual</th>\n",
       "      <th>registered</th>\n",
       "      <th>count</th>\n",
       "      <th>hour</th>\n",
       "      <th>date</th>\n",
       "      <th>month</th>\n",
       "      <th>year</th>\n",
       "      <th>hum_bins</th>\n",
       "    </tr>\n",
       "    <tr>\n",
       "      <th>datetime</th>\n",
       "      <th></th>\n",
       "      <th></th>\n",
       "      <th></th>\n",
       "      <th></th>\n",
       "      <th></th>\n",
       "      <th></th>\n",
       "      <th></th>\n",
       "      <th></th>\n",
       "      <th></th>\n",
       "      <th></th>\n",
       "      <th></th>\n",
       "      <th></th>\n",
       "      <th></th>\n",
       "      <th></th>\n",
       "      <th></th>\n",
       "      <th></th>\n",
       "    </tr>\n",
       "  </thead>\n",
       "  <tbody>\n",
       "    <tr>\n",
       "      <th>2011-01-01 00:00:00</th>\n",
       "      <td>1</td>\n",
       "      <td>0</td>\n",
       "      <td>0</td>\n",
       "      <td>1</td>\n",
       "      <td>9.84</td>\n",
       "      <td>14.395</td>\n",
       "      <td>81</td>\n",
       "      <td>0.0</td>\n",
       "      <td>3</td>\n",
       "      <td>13</td>\n",
       "      <td>16</td>\n",
       "      <td>0</td>\n",
       "      <td>2011-01-01</td>\n",
       "      <td>1</td>\n",
       "      <td>2011</td>\n",
       "      <td>(80.1, 90.0]</td>\n",
       "    </tr>\n",
       "    <tr>\n",
       "      <th>2011-01-01 01:00:00</th>\n",
       "      <td>1</td>\n",
       "      <td>0</td>\n",
       "      <td>0</td>\n",
       "      <td>1</td>\n",
       "      <td>9.02</td>\n",
       "      <td>13.635</td>\n",
       "      <td>80</td>\n",
       "      <td>0.0</td>\n",
       "      <td>8</td>\n",
       "      <td>32</td>\n",
       "      <td>40</td>\n",
       "      <td>1</td>\n",
       "      <td>2011-01-01</td>\n",
       "      <td>1</td>\n",
       "      <td>2011</td>\n",
       "      <td>(70.1, 80.0]</td>\n",
       "    </tr>\n",
       "    <tr>\n",
       "      <th>2011-01-01 02:00:00</th>\n",
       "      <td>1</td>\n",
       "      <td>0</td>\n",
       "      <td>0</td>\n",
       "      <td>1</td>\n",
       "      <td>9.02</td>\n",
       "      <td>13.635</td>\n",
       "      <td>80</td>\n",
       "      <td>0.0</td>\n",
       "      <td>5</td>\n",
       "      <td>27</td>\n",
       "      <td>32</td>\n",
       "      <td>2</td>\n",
       "      <td>2011-01-01</td>\n",
       "      <td>1</td>\n",
       "      <td>2011</td>\n",
       "      <td>(70.1, 80.0]</td>\n",
       "    </tr>\n",
       "    <tr>\n",
       "      <th>2011-01-01 03:00:00</th>\n",
       "      <td>1</td>\n",
       "      <td>0</td>\n",
       "      <td>0</td>\n",
       "      <td>1</td>\n",
       "      <td>9.84</td>\n",
       "      <td>14.395</td>\n",
       "      <td>75</td>\n",
       "      <td>0.0</td>\n",
       "      <td>3</td>\n",
       "      <td>10</td>\n",
       "      <td>13</td>\n",
       "      <td>3</td>\n",
       "      <td>2011-01-01</td>\n",
       "      <td>1</td>\n",
       "      <td>2011</td>\n",
       "      <td>(70.1, 80.0]</td>\n",
       "    </tr>\n",
       "    <tr>\n",
       "      <th>2011-01-01 04:00:00</th>\n",
       "      <td>1</td>\n",
       "      <td>0</td>\n",
       "      <td>0</td>\n",
       "      <td>1</td>\n",
       "      <td>9.84</td>\n",
       "      <td>14.395</td>\n",
       "      <td>75</td>\n",
       "      <td>0.0</td>\n",
       "      <td>0</td>\n",
       "      <td>1</td>\n",
       "      <td>1</td>\n",
       "      <td>4</td>\n",
       "      <td>2011-01-01</td>\n",
       "      <td>1</td>\n",
       "      <td>2011</td>\n",
       "      <td>(70.1, 80.0]</td>\n",
       "    </tr>\n",
       "  </tbody>\n",
       "</table>\n",
       "</div>"
      ],
      "text/plain": [
       "                     season  holiday  workingday  weather  temp   atemp  \\\n",
       "datetime                                                                  \n",
       "2011-01-01 00:00:00       1        0           0        1  9.84  14.395   \n",
       "2011-01-01 01:00:00       1        0           0        1  9.02  13.635   \n",
       "2011-01-01 02:00:00       1        0           0        1  9.02  13.635   \n",
       "2011-01-01 03:00:00       1        0           0        1  9.84  14.395   \n",
       "2011-01-01 04:00:00       1        0           0        1  9.84  14.395   \n",
       "\n",
       "                     humidity  windspeed  casual  registered  count  hour  \\\n",
       "datetime                                                                    \n",
       "2011-01-01 00:00:00        81        0.0       3          13     16     0   \n",
       "2011-01-01 01:00:00        80        0.0       8          32     40     1   \n",
       "2011-01-01 02:00:00        80        0.0       5          27     32     2   \n",
       "2011-01-01 03:00:00        75        0.0       3          10     13     3   \n",
       "2011-01-01 04:00:00        75        0.0       0           1      1     4   \n",
       "\n",
       "                           date  month  year      hum_bins  \n",
       "datetime                                                    \n",
       "2011-01-01 00:00:00  2011-01-01      1  2011  (80.1, 90.0]  \n",
       "2011-01-01 01:00:00  2011-01-01      1  2011  (70.1, 80.0]  \n",
       "2011-01-01 02:00:00  2011-01-01      1  2011  (70.1, 80.0]  \n",
       "2011-01-01 03:00:00  2011-01-01      1  2011  (70.1, 80.0]  \n",
       "2011-01-01 04:00:00  2011-01-01      1  2011  (70.1, 80.0]  "
      ]
     },
     "execution_count": 24,
     "metadata": {},
     "output_type": "execute_result"
    }
   ],
   "source": [
    "# Create a new column binning humidity\n",
    "\n",
    "bins = pd.IntervalIndex.from_tuples([(0, 10), (10.1, 20), (20.1, 30), (30.1, 40), (40.1, 50), (50.1, 60), (60.1, 70), (70.1, 80), (80.1, 90), (90.1, 100)])\n",
    "\n",
    "labels = ['>= 10', '>= 20', '>= 30', '>= 40', '>= 50', '>= 60', '>= 70', '>= 80', '>= 90', '>= 100']\n",
    "\n",
    "df['hum_bins'] = pd.cut(df['humidity'], bins)\n",
    "\n",
    "df.head()"
   ]
  },
  {
   "cell_type": "code",
   "execution_count": 25,
   "metadata": {},
   "outputs": [
    {
     "data": {
      "text/html": [
       "<div>\n",
       "<style scoped>\n",
       "    .dataframe tbody tr th:only-of-type {\n",
       "        vertical-align: middle;\n",
       "    }\n",
       "\n",
       "    .dataframe tbody tr th {\n",
       "        vertical-align: top;\n",
       "    }\n",
       "\n",
       "    .dataframe thead th {\n",
       "        text-align: right;\n",
       "    }\n",
       "</style>\n",
       "<table border=\"1\" class=\"dataframe\">\n",
       "  <thead>\n",
       "    <tr style=\"text-align: right;\">\n",
       "      <th></th>\n",
       "      <th>season</th>\n",
       "      <th>hum_bins</th>\n",
       "      <th>count</th>\n",
       "      <th>casual</th>\n",
       "      <th>registered</th>\n",
       "    </tr>\n",
       "  </thead>\n",
       "  <tbody>\n",
       "    <tr>\n",
       "      <th>0</th>\n",
       "      <td>1</td>\n",
       "      <td>(0.0, 10.0]</td>\n",
       "      <td>92.000000</td>\n",
       "      <td>17.500000</td>\n",
       "      <td>74.500000</td>\n",
       "    </tr>\n",
       "    <tr>\n",
       "      <th>1</th>\n",
       "      <td>1</td>\n",
       "      <td>(10.1, 20.0]</td>\n",
       "      <td>85.500000</td>\n",
       "      <td>24.678571</td>\n",
       "      <td>60.821429</td>\n",
       "    </tr>\n",
       "    <tr>\n",
       "      <th>2</th>\n",
       "      <td>1</td>\n",
       "      <td>(20.1, 30.0]</td>\n",
       "      <td>178.822222</td>\n",
       "      <td>32.074074</td>\n",
       "      <td>146.748148</td>\n",
       "    </tr>\n",
       "    <tr>\n",
       "      <th>3</th>\n",
       "      <td>1</td>\n",
       "      <td>(30.1, 40.0]</td>\n",
       "      <td>164.137387</td>\n",
       "      <td>23.281532</td>\n",
       "      <td>140.855856</td>\n",
       "    </tr>\n",
       "    <tr>\n",
       "      <th>4</th>\n",
       "      <td>1</td>\n",
       "      <td>(40.1, 50.0]</td>\n",
       "      <td>118.996510</td>\n",
       "      <td>16.356021</td>\n",
       "      <td>102.640489</td>\n",
       "    </tr>\n",
       "  </tbody>\n",
       "</table>\n",
       "</div>"
      ],
      "text/plain": [
       "   season      hum_bins       count     casual  registered\n",
       "0       1   (0.0, 10.0]   92.000000  17.500000   74.500000\n",
       "1       1  (10.1, 20.0]   85.500000  24.678571   60.821429\n",
       "2       1  (20.1, 30.0]  178.822222  32.074074  146.748148\n",
       "3       1  (30.1, 40.0]  164.137387  23.281532  140.855856\n",
       "4       1  (40.1, 50.0]  118.996510  16.356021  102.640489"
      ]
     },
     "execution_count": 25,
     "metadata": {},
     "output_type": "execute_result"
    }
   ],
   "source": [
    "# Now must average across humidity bins\n",
    "\n",
    "humid = df.groupby(['season', 'hum_bins']).mean()\n",
    "humid = humid[['count', 'casual', 'registered']]\n",
    "\n",
    "humid = humid.reset_index()\n",
    "\n",
    "humid.head()"
   ]
  },
  {
   "cell_type": "code",
   "execution_count": 26,
   "metadata": {},
   "outputs": [
    {
     "name": "stdout",
     "output_type": "stream",
     "text": [
      "55.17989417989418\n",
      "461.8235294117647\n"
     ]
    }
   ],
   "source": [
    "# find out max and min values so we can set y limits\n",
    "\n",
    "print(humid['count'].min())\n",
    "print(humid['count'].max())"
   ]
  },
  {
   "cell_type": "code",
   "execution_count": 27,
   "metadata": {},
   "outputs": [
    {
     "name": "stderr",
     "output_type": "stream",
     "text": [
      "/opt/anaconda3/lib/python3.7/site-packages/seaborn/axisgrid.py:728: UserWarning: Using the barplot function without specifying `order` is likely to produce an incorrect plot.\n",
      "  warnings.warn(warning)\n"
     ]
    },
    {
     "data": {
      "image/png": "[encoded data removed]",
      "text/plain": [
       "<Figure size 864x216 with 4 Axes>"
      ]
     },
     "metadata": {
      "needs_background": "light"
     },
     "output_type": "display_data"
    }
   ],
   "source": [
    "# Plotting humidity\n",
    "\n",
    "g = sns.FacetGrid(humid, col = 'season', ylim = (0, 500))\n",
    "g = g.map(sns.barplot, 'hum_bins', 'count')\n",
    "plt.show()"
   ]
  },
  {
   "cell_type": "code",
   "execution_count": 28,
   "metadata": {},
   "outputs": [
    {
     "name": "stderr",
     "output_type": "stream",
     "text": [
      "/opt/anaconda3/lib/python3.7/site-packages/seaborn/axisgrid.py:728: UserWarning: Using the barplot function without specifying `order` is likely to produce an incorrect plot.\n",
      "  warnings.warn(warning)\n"
     ]
    },
    {
     "data": {
      "image/png": "[encoded data removed]",
      "text/plain": [
       "<Figure size 864x216 with 4 Axes>"
      ]
     },
     "metadata": {
      "needs_background": "light"
     },
     "output_type": "display_data"
    },
    {
     "name": "stderr",
     "output_type": "stream",
     "text": [
      "/opt/anaconda3/lib/python3.7/site-packages/seaborn/axisgrid.py:728: UserWarning: Using the barplot function without specifying `order` is likely to produce an incorrect plot.\n",
      "  warnings.warn(warning)\n"
     ]
    },
    {
     "data": {
      "image/png": "[encoded data removed]",
      "text/plain": [
       "<Figure size 864x216 with 4 Axes>"
      ]
     },
     "metadata": {
      "needs_background": "light"
     },
     "output_type": "display_data"
    }
   ],
   "source": [
    "# Plotting humidity by ridership\n",
    "\n",
    "g = sns.FacetGrid(humid, col = 'season', ylim = (0, 300))\n",
    "g = g.map(sns.barplot, 'hum_bins', 'casual')\n",
    "plt.show()\n",
    "\n",
    "g = sns.FacetGrid(humid, col = 'season', ylim = (0, 300))\n",
    "g = g.map(sns.barplot, 'hum_bins', 'registered')\n",
    "plt.show()"
   ]
  },
  {
   "cell_type": "markdown",
   "metadata": {},
   "source": [
    "Conclusions from these data:\n",
    "\n",
    "- Across both ridership types, there is little relationship between humidity and rentals in spring.\n",
    "- However, across both ridership types, rentals decrease as humidity rises.\n",
    "- This is as I predicted."
   ]
  },
  {
   "cell_type": "markdown",
   "metadata": {},
   "source": [
    "#### Weather: Temperature"
   ]
  },
  {
   "cell_type": "code",
   "execution_count": 29,
   "metadata": {},
   "outputs": [
    {
     "name": "stdout",
     "output_type": "stream",
     "text": [
      "temp\n",
      "0.82\n",
      "41.0\n",
      "atemp\n",
      "0.76\n",
      "45.455\n"
     ]
    }
   ],
   "source": [
    "# find out min and max values for temp and atemp\n",
    "\n",
    "temps = ['temp', 'atemp']\n",
    "\n",
    "for i in temps:\n",
    "    print(i)\n",
    "    print(df[i].min())\n",
    "    print(df[i].max())"
   ]
  },
  {
   "cell_type": "code",
   "execution_count": 30,
   "metadata": {},
   "outputs": [
    {
     "data": {
      "text/html": [
       "<div>\n",
       "<style scoped>\n",
       "    .dataframe tbody tr th:only-of-type {\n",
       "        vertical-align: middle;\n",
       "    }\n",
       "\n",
       "    .dataframe tbody tr th {\n",
       "        vertical-align: top;\n",
       "    }\n",
       "\n",
       "    .dataframe thead th {\n",
       "        text-align: right;\n",
       "    }\n",
       "</style>\n",
       "<table border=\"1\" class=\"dataframe\">\n",
       "  <thead>\n",
       "    <tr style=\"text-align: right;\">\n",
       "      <th></th>\n",
       "      <th>season</th>\n",
       "      <th>holiday</th>\n",
       "      <th>workingday</th>\n",
       "      <th>weather</th>\n",
       "      <th>temp</th>\n",
       "      <th>atemp</th>\n",
       "      <th>humidity</th>\n",
       "      <th>windspeed</th>\n",
       "      <th>casual</th>\n",
       "      <th>registered</th>\n",
       "      <th>count</th>\n",
       "      <th>hour</th>\n",
       "      <th>date</th>\n",
       "      <th>month</th>\n",
       "      <th>year</th>\n",
       "      <th>hum_bins</th>\n",
       "      <th>temp_bins</th>\n",
       "      <th>atemp_bins</th>\n",
       "    </tr>\n",
       "    <tr>\n",
       "      <th>datetime</th>\n",
       "      <th></th>\n",
       "      <th></th>\n",
       "      <th></th>\n",
       "      <th></th>\n",
       "      <th></th>\n",
       "      <th></th>\n",
       "      <th></th>\n",
       "      <th></th>\n",
       "      <th></th>\n",
       "      <th></th>\n",
       "      <th></th>\n",
       "      <th></th>\n",
       "      <th></th>\n",
       "      <th></th>\n",
       "      <th></th>\n",
       "      <th></th>\n",
       "      <th></th>\n",
       "      <th></th>\n",
       "    </tr>\n",
       "  </thead>\n",
       "  <tbody>\n",
       "    <tr>\n",
       "      <th>2011-01-01 00:00:00</th>\n",
       "      <td>1</td>\n",
       "      <td>0</td>\n",
       "      <td>0</td>\n",
       "      <td>1</td>\n",
       "      <td>9.84</td>\n",
       "      <td>14.395</td>\n",
       "      <td>81</td>\n",
       "      <td>0.0</td>\n",
       "      <td>3</td>\n",
       "      <td>13</td>\n",
       "      <td>16</td>\n",
       "      <td>0</td>\n",
       "      <td>2011-01-01</td>\n",
       "      <td>1</td>\n",
       "      <td>2011</td>\n",
       "      <td>(80.1, 90.0]</td>\n",
       "      <td>(0.0, 10.0]</td>\n",
       "      <td>(10.1, 20.0]</td>\n",
       "    </tr>\n",
       "    <tr>\n",
       "      <th>2011-01-01 01:00:00</th>\n",
       "      <td>1</td>\n",
       "      <td>0</td>\n",
       "      <td>0</td>\n",
       "      <td>1</td>\n",
       "      <td>9.02</td>\n",
       "      <td>13.635</td>\n",
       "      <td>80</td>\n",
       "      <td>0.0</td>\n",
       "      <td>8</td>\n",
       "      <td>32</td>\n",
       "      <td>40</td>\n",
       "      <td>1</td>\n",
       "      <td>2011-01-01</td>\n",
       "      <td>1</td>\n",
       "      <td>2011</td>\n",
       "      <td>(70.1, 80.0]</td>\n",
       "      <td>(0.0, 10.0]</td>\n",
       "      <td>(10.1, 20.0]</td>\n",
       "    </tr>\n",
       "    <tr>\n",
       "      <th>2011-01-01 02:00:00</th>\n",
       "      <td>1</td>\n",
       "      <td>0</td>\n",
       "      <td>0</td>\n",
       "      <td>1</td>\n",
       "      <td>9.02</td>\n",
       "      <td>13.635</td>\n",
       "      <td>80</td>\n",
       "      <td>0.0</td>\n",
       "      <td>5</td>\n",
       "      <td>27</td>\n",
       "      <td>32</td>\n",
       "      <td>2</td>\n",
       "      <td>2011-01-01</td>\n",
       "      <td>1</td>\n",
       "      <td>2011</td>\n",
       "      <td>(70.1, 80.0]</td>\n",
       "      <td>(0.0, 10.0]</td>\n",
       "      <td>(10.1, 20.0]</td>\n",
       "    </tr>\n",
       "    <tr>\n",
       "      <th>2011-01-01 03:00:00</th>\n",
       "      <td>1</td>\n",
       "      <td>0</td>\n",
       "      <td>0</td>\n",
       "      <td>1</td>\n",
       "      <td>9.84</td>\n",
       "      <td>14.395</td>\n",
       "      <td>75</td>\n",
       "      <td>0.0</td>\n",
       "      <td>3</td>\n",
       "      <td>10</td>\n",
       "      <td>13</td>\n",
       "      <td>3</td>\n",
       "      <td>2011-01-01</td>\n",
       "      <td>1</td>\n",
       "      <td>2011</td>\n",
       "      <td>(70.1, 80.0]</td>\n",
       "      <td>(0.0, 10.0]</td>\n",
       "      <td>(10.1, 20.0]</td>\n",
       "    </tr>\n",
       "    <tr>\n",
       "      <th>2011-01-01 04:00:00</th>\n",
       "      <td>1</td>\n",
       "      <td>0</td>\n",
       "      <td>0</td>\n",
       "      <td>1</td>\n",
       "      <td>9.84</td>\n",
       "      <td>14.395</td>\n",
       "      <td>75</td>\n",
       "      <td>0.0</td>\n",
       "      <td>0</td>\n",
       "      <td>1</td>\n",
       "      <td>1</td>\n",
       "      <td>4</td>\n",
       "      <td>2011-01-01</td>\n",
       "      <td>1</td>\n",
       "      <td>2011</td>\n",
       "      <td>(70.1, 80.0]</td>\n",
       "      <td>(0.0, 10.0]</td>\n",
       "      <td>(10.1, 20.0]</td>\n",
       "    </tr>\n",
       "  </tbody>\n",
       "</table>\n",
       "</div>"
      ],
      "text/plain": [
       "                     season  holiday  workingday  weather  temp   atemp  \\\n",
       "datetime                                                                  \n",
       "2011-01-01 00:00:00       1        0           0        1  9.84  14.395   \n",
       "2011-01-01 01:00:00       1        0           0        1  9.02  13.635   \n",
       "2011-01-01 02:00:00       1        0           0        1  9.02  13.635   \n",
       "2011-01-01 03:00:00       1        0           0        1  9.84  14.395   \n",
       "2011-01-01 04:00:00       1        0           0        1  9.84  14.395   \n",
       "\n",
       "                     humidity  windspeed  casual  registered  count  hour  \\\n",
       "datetime                                                                    \n",
       "2011-01-01 00:00:00        81        0.0       3          13     16     0   \n",
       "2011-01-01 01:00:00        80        0.0       8          32     40     1   \n",
       "2011-01-01 02:00:00        80        0.0       5          27     32     2   \n",
       "2011-01-01 03:00:00        75        0.0       3          10     13     3   \n",
       "2011-01-01 04:00:00        75        0.0       0           1      1     4   \n",
       "\n",
       "                           date  month  year      hum_bins    temp_bins  \\\n",
       "datetime                                                                  \n",
       "2011-01-01 00:00:00  2011-01-01      1  2011  (80.1, 90.0]  (0.0, 10.0]   \n",
       "2011-01-01 01:00:00  2011-01-01      1  2011  (70.1, 80.0]  (0.0, 10.0]   \n",
       "2011-01-01 02:00:00  2011-01-01      1  2011  (70.1, 80.0]  (0.0, 10.0]   \n",
       "2011-01-01 03:00:00  2011-01-01      1  2011  (70.1, 80.0]  (0.0, 10.0]   \n",
       "2011-01-01 04:00:00  2011-01-01      1  2011  (70.1, 80.0]  (0.0, 10.0]   \n",
       "\n",
       "                       atemp_bins  \n",
       "datetime                           \n",
       "2011-01-01 00:00:00  (10.1, 20.0]  \n",
       "2011-01-01 01:00:00  (10.1, 20.0]  \n",
       "2011-01-01 02:00:00  (10.1, 20.0]  \n",
       "2011-01-01 03:00:00  (10.1, 20.0]  \n",
       "2011-01-01 04:00:00  (10.1, 20.0]  "
      ]
     },
     "execution_count": 30,
     "metadata": {},
     "output_type": "execute_result"
    }
   ],
   "source": [
    "# Like for humidity, let's bin temp and atemp\n",
    "\n",
    "bins_temp = pd.IntervalIndex.from_tuples([(0, 10), (10.1, 20), (20.1, 30), (30.1, 40), (40.1, 50)])\n",
    "\n",
    "labels = ['10', '20', '30', '40', '50']\n",
    "\n",
    "# it's the same bins and labels for the two kinds of temperature, so recycle the bins and labels\n",
    "df['temp_bins'] = pd.cut(df['temp'], bins_temp)\n",
    "df['atemp_bins'] = pd.cut(df['atemp'], bins_temp)\n",
    "\n",
    "df.head()"
   ]
  },
  {
   "cell_type": "code",
   "execution_count": 31,
   "metadata": {},
   "outputs": [
    {
     "data": {
      "text/html": [
       "<div>\n",
       "<style scoped>\n",
       "    .dataframe tbody tr th:only-of-type {\n",
       "        vertical-align: middle;\n",
       "    }\n",
       "\n",
       "    .dataframe tbody tr th {\n",
       "        vertical-align: top;\n",
       "    }\n",
       "\n",
       "    .dataframe thead th {\n",
       "        text-align: right;\n",
       "    }\n",
       "</style>\n",
       "<table border=\"1\" class=\"dataframe\">\n",
       "  <thead>\n",
       "    <tr style=\"text-align: right;\">\n",
       "      <th></th>\n",
       "      <th>season</th>\n",
       "      <th>temp_bins</th>\n",
       "      <th>count</th>\n",
       "      <th>casual</th>\n",
       "      <th>registered</th>\n",
       "    </tr>\n",
       "  </thead>\n",
       "  <tbody>\n",
       "    <tr>\n",
       "      <th>0</th>\n",
       "      <td>1</td>\n",
       "      <td>(0.0, 10.0]</td>\n",
       "      <td>70.271429</td>\n",
       "      <td>3.925714</td>\n",
       "      <td>66.345714</td>\n",
       "    </tr>\n",
       "    <tr>\n",
       "      <th>1</th>\n",
       "      <td>1</td>\n",
       "      <td>(10.1, 20.0]</td>\n",
       "      <td>125.686483</td>\n",
       "      <td>16.674452</td>\n",
       "      <td>109.012031</td>\n",
       "    </tr>\n",
       "    <tr>\n",
       "      <th>2</th>\n",
       "      <td>1</td>\n",
       "      <td>(20.1, 30.0]</td>\n",
       "      <td>274.071749</td>\n",
       "      <td>62.430493</td>\n",
       "      <td>211.641256</td>\n",
       "    </tr>\n",
       "    <tr>\n",
       "      <th>3</th>\n",
       "      <td>1</td>\n",
       "      <td>(30.1, 40.0]</td>\n",
       "      <td>NaN</td>\n",
       "      <td>NaN</td>\n",
       "      <td>NaN</td>\n",
       "    </tr>\n",
       "    <tr>\n",
       "      <th>4</th>\n",
       "      <td>1</td>\n",
       "      <td>(40.1, 50.0]</td>\n",
       "      <td>NaN</td>\n",
       "      <td>NaN</td>\n",
       "      <td>NaN</td>\n",
       "    </tr>\n",
       "  </tbody>\n",
       "</table>\n",
       "</div>"
      ],
      "text/plain": [
       "   season     temp_bins       count     casual  registered\n",
       "0       1   (0.0, 10.0]   70.271429   3.925714   66.345714\n",
       "1       1  (10.1, 20.0]  125.686483  16.674452  109.012031\n",
       "2       1  (20.1, 30.0]  274.071749  62.430493  211.641256\n",
       "3       1  (30.1, 40.0]         NaN        NaN         NaN\n",
       "4       1  (40.1, 50.0]         NaN        NaN         NaN"
      ]
     },
     "execution_count": 31,
     "metadata": {},
     "output_type": "execute_result"
    }
   ],
   "source": [
    "# New dfs that average across bins\n",
    "\n",
    "# temp\n",
    "df_temp = df.groupby(['season', 'temp_bins']).mean()\n",
    "\n",
    "df_temp = df_temp[['count', 'casual', 'registered']]\n",
    "\n",
    "df_temp.reset_index(inplace = True)\n",
    "\n",
    "df_temp.head()"
   ]
  },
  {
   "cell_type": "code",
   "execution_count": 32,
   "metadata": {},
   "outputs": [
    {
     "data": {
      "text/html": [
       "<div>\n",
       "<style scoped>\n",
       "    .dataframe tbody tr th:only-of-type {\n",
       "        vertical-align: middle;\n",
       "    }\n",
       "\n",
       "    .dataframe tbody tr th {\n",
       "        vertical-align: top;\n",
       "    }\n",
       "\n",
       "    .dataframe thead th {\n",
       "        text-align: right;\n",
       "    }\n",
       "</style>\n",
       "<table border=\"1\" class=\"dataframe\">\n",
       "  <thead>\n",
       "    <tr style=\"text-align: right;\">\n",
       "      <th></th>\n",
       "      <th>season</th>\n",
       "      <th>atemp_bins</th>\n",
       "      <th>count</th>\n",
       "      <th>casual</th>\n",
       "      <th>registered</th>\n",
       "    </tr>\n",
       "  </thead>\n",
       "  <tbody>\n",
       "    <tr>\n",
       "      <th>0</th>\n",
       "      <td>1</td>\n",
       "      <td>(0.0, 10.0]</td>\n",
       "      <td>66.266071</td>\n",
       "      <td>3.200000</td>\n",
       "      <td>63.066071</td>\n",
       "    </tr>\n",
       "    <tr>\n",
       "      <th>1</th>\n",
       "      <td>1</td>\n",
       "      <td>(10.1, 20.0]</td>\n",
       "      <td>99.498966</td>\n",
       "      <td>9.532047</td>\n",
       "      <td>89.966919</td>\n",
       "    </tr>\n",
       "    <tr>\n",
       "      <th>2</th>\n",
       "      <td>1</td>\n",
       "      <td>(20.1, 30.0]</td>\n",
       "      <td>172.335582</td>\n",
       "      <td>33.136594</td>\n",
       "      <td>139.198988</td>\n",
       "    </tr>\n",
       "    <tr>\n",
       "      <th>3</th>\n",
       "      <td>1</td>\n",
       "      <td>(30.1, 40.0]</td>\n",
       "      <td>351.475610</td>\n",
       "      <td>77.219512</td>\n",
       "      <td>274.256098</td>\n",
       "    </tr>\n",
       "    <tr>\n",
       "      <th>4</th>\n",
       "      <td>1</td>\n",
       "      <td>(40.1, 50.0]</td>\n",
       "      <td>NaN</td>\n",
       "      <td>NaN</td>\n",
       "      <td>NaN</td>\n",
       "    </tr>\n",
       "  </tbody>\n",
       "</table>\n",
       "</div>"
      ],
      "text/plain": [
       "   season    atemp_bins       count     casual  registered\n",
       "0       1   (0.0, 10.0]   66.266071   3.200000   63.066071\n",
       "1       1  (10.1, 20.0]   99.498966   9.532047   89.966919\n",
       "2       1  (20.1, 30.0]  172.335582  33.136594  139.198988\n",
       "3       1  (30.1, 40.0]  351.475610  77.219512  274.256098\n",
       "4       1  (40.1, 50.0]         NaN        NaN         NaN"
      ]
     },
     "execution_count": 32,
     "metadata": {},
     "output_type": "execute_result"
    }
   ],
   "source": [
    "# same for atemp\n",
    "\n",
    "df_Atemp = df.groupby(['season', 'atemp_bins']).mean()\n",
    "\n",
    "df_Atemp = df_Atemp[['count', 'casual', 'registered']]\n",
    "\n",
    "df_Atemp.reset_index(inplace = True)\n",
    "\n",
    "df_Atemp.head()"
   ]
  },
  {
   "cell_type": "code",
   "execution_count": 33,
   "metadata": {},
   "outputs": [
    {
     "name": "stderr",
     "output_type": "stream",
     "text": [
      "/opt/anaconda3/lib/python3.7/site-packages/seaborn/axisgrid.py:728: UserWarning: Using the barplot function without specifying `order` is likely to produce an incorrect plot.\n",
      "  warnings.warn(warning)\n"
     ]
    },
    {
     "data": {
      "image/png": "[encoded data removed]",
      "text/plain": [
       "<Figure size 864x216 with 4 Axes>"
      ]
     },
     "metadata": {
      "needs_background": "light"
     },
     "output_type": "display_data"
    }
   ],
   "source": [
    "# Plotting temperature: Real temp\n",
    "\n",
    "g = sns.FacetGrid(df_temp, col = 'season', ylim = (0, 500))\n",
    "g = g.map(sns.barplot, 'temp_bins', 'count')\n",
    "plt.show()"
   ]
  },
  {
   "cell_type": "code",
   "execution_count": 34,
   "metadata": {},
   "outputs": [
    {
     "name": "stderr",
     "output_type": "stream",
     "text": [
      "/opt/anaconda3/lib/python3.7/site-packages/seaborn/axisgrid.py:728: UserWarning: Using the barplot function without specifying `order` is likely to produce an incorrect plot.\n",
      "  warnings.warn(warning)\n"
     ]
    },
    {
     "data": {
      "image/png": "[encoded data removed]",
      "text/plain": [
       "<Figure size 864x216 with 4 Axes>"
      ]
     },
     "metadata": {
      "needs_background": "light"
     },
     "output_type": "display_data"
    }
   ],
   "source": [
    "# Plotting temperature: Felt temp\n",
    "\n",
    "g = sns.FacetGrid(df_Atemp, col = 'season', ylim = (0, 500))\n",
    "g = g.map(sns.barplot, 'atemp_bins', 'count')\n",
    "plt.show()"
   ]
  },
  {
   "cell_type": "markdown",
   "metadata": {},
   "source": [
    "#### Weather plotting: Wind speed\n",
    "\n",
    "I'm again going to plot wind speed separately by season. A strong wind is probably unpleasant no matter what the temperature, but more moderate wind speeds may vary in their effect as to whether they are warm or cold winds."
   ]
  },
  {
   "cell_type": "code",
   "execution_count": 35,
   "metadata": {},
   "outputs": [
    {
     "data": {
      "text/plain": [
       "count    10886.000000\n",
       "mean        12.799395\n",
       "std          8.164537\n",
       "min          0.000000\n",
       "25%          7.001500\n",
       "50%         12.998000\n",
       "75%         16.997900\n",
       "max         56.996900\n",
       "Name: windspeed, dtype: float64"
      ]
     },
     "execution_count": 35,
     "metadata": {},
     "output_type": "execute_result"
    }
   ],
   "source": [
    "# What are the highest and lowest wind speeds?\n",
    "\n",
    "df['windspeed'].describe()"
   ]
  },
  {
   "cell_type": "code",
   "execution_count": 36,
   "metadata": {},
   "outputs": [
    {
     "data": {
      "image/png": "[encoded data removed]",
      "text/plain": [
       "<Figure size 864x216 with 4 Axes>"
      ]
     },
     "metadata": {
      "needs_background": "light"
     },
     "output_type": "display_data"
    }
   ],
   "source": [
    "# Get a sense of the distribution of wind speeds in each season\n",
    "\n",
    "g = sns.FacetGrid(df, col = 'season', ylim = (0, 1_000))\n",
    "g = g.map(plt.hist, 'windspeed')\n",
    "plt.show()"
   ]
  },
  {
   "cell_type": "markdown",
   "metadata": {},
   "source": [
    "We see that the shape of the distribution of wind speeds doesn't differ all that much between the different seasons. In order to get much out of plotting wind speed against rental counts, I'll bin them."
   ]
  },
  {
   "cell_type": "code",
   "execution_count": 37,
   "metadata": {},
   "outputs": [
    {
     "data": {
      "text/html": [
       "<div>\n",
       "<style scoped>\n",
       "    .dataframe tbody tr th:only-of-type {\n",
       "        vertical-align: middle;\n",
       "    }\n",
       "\n",
       "    .dataframe tbody tr th {\n",
       "        vertical-align: top;\n",
       "    }\n",
       "\n",
       "    .dataframe thead th {\n",
       "        text-align: right;\n",
       "    }\n",
       "</style>\n",
       "<table border=\"1\" class=\"dataframe\">\n",
       "  <thead>\n",
       "    <tr style=\"text-align: right;\">\n",
       "      <th></th>\n",
       "      <th>season</th>\n",
       "      <th>wind_bins</th>\n",
       "      <th>count</th>\n",
       "      <th>casual</th>\n",
       "      <th>registered</th>\n",
       "    </tr>\n",
       "  </thead>\n",
       "  <tbody>\n",
       "    <tr>\n",
       "      <th>0</th>\n",
       "      <td>1</td>\n",
       "      <td>(-0.1, 10.0]</td>\n",
       "      <td>102.928884</td>\n",
       "      <td>12.252735</td>\n",
       "      <td>90.676149</td>\n",
       "    </tr>\n",
       "    <tr>\n",
       "      <th>1</th>\n",
       "      <td>1</td>\n",
       "      <td>(10.1, 20.0]</td>\n",
       "      <td>120.929285</td>\n",
       "      <td>16.693012</td>\n",
       "      <td>104.236273</td>\n",
       "    </tr>\n",
       "    <tr>\n",
       "      <th>2</th>\n",
       "      <td>1</td>\n",
       "      <td>(20.1, 30.0]</td>\n",
       "      <td>126.513736</td>\n",
       "      <td>19.354396</td>\n",
       "      <td>107.159341</td>\n",
       "    </tr>\n",
       "    <tr>\n",
       "      <th>3</th>\n",
       "      <td>1</td>\n",
       "      <td>(30.1, 40.0]</td>\n",
       "      <td>126.194030</td>\n",
       "      <td>14.104478</td>\n",
       "      <td>112.089552</td>\n",
       "    </tr>\n",
       "    <tr>\n",
       "      <th>4</th>\n",
       "      <td>1</td>\n",
       "      <td>(40.1, 50.0]</td>\n",
       "      <td>157.961538</td>\n",
       "      <td>22.192308</td>\n",
       "      <td>135.769231</td>\n",
       "    </tr>\n",
       "  </tbody>\n",
       "</table>\n",
       "</div>"
      ],
      "text/plain": [
       "   season     wind_bins       count     casual  registered\n",
       "0       1  (-0.1, 10.0]  102.928884  12.252735   90.676149\n",
       "1       1  (10.1, 20.0]  120.929285  16.693012  104.236273\n",
       "2       1  (20.1, 30.0]  126.513736  19.354396  107.159341\n",
       "3       1  (30.1, 40.0]  126.194030  14.104478  112.089552\n",
       "4       1  (40.1, 50.0]  157.961538  22.192308  135.769231"
      ]
     },
     "execution_count": 37,
     "metadata": {},
     "output_type": "execute_result"
    }
   ],
   "source": [
    "# Binning for wind speed\n",
    "\n",
    "# need to define some new bins\n",
    "bins_wind = pd.IntervalIndex.from_tuples([(-0.1, 10), (10.1, 20), (20.1, 30), (30.1, 40), (40.1, 50), (50.1, 60)])\n",
    "\n",
    "# create bins in new column\n",
    "\n",
    "df['wind_bins'] = pd.cut(df['windspeed'], bins_wind)\n",
    "\n",
    "# new df which averages within bins\n",
    "\n",
    "df_wind = df.groupby(['season', 'wind_bins']).mean()\n",
    "\n",
    "df_wind = df_wind[['count', 'casual', 'registered']]\n",
    "\n",
    "df_wind.reset_index(inplace = True)\n",
    "\n",
    "df_wind.head()"
   ]
  },
  {
   "cell_type": "code",
   "execution_count": 38,
   "metadata": {},
   "outputs": [
    {
     "name": "stderr",
     "output_type": "stream",
     "text": [
      "/opt/anaconda3/lib/python3.7/site-packages/seaborn/axisgrid.py:728: UserWarning: Using the barplot function without specifying `order` is likely to produce an incorrect plot.\n",
      "  warnings.warn(warning)\n"
     ]
    },
    {
     "data": {
      "image/png": "[encoded data removed]",
      "text/plain": [
       "<Figure size 864x216 with 4 Axes>"
      ]
     },
     "metadata": {
      "needs_background": "light"
     },
     "output_type": "display_data"
    }
   ],
   "source": [
    "# Plotting wind speeds across seasons\n",
    "\n",
    "g = sns.FacetGrid(df_wind, col = 'season', ylim = (0, 500))\n",
    "g = g.map(sns.barplot, 'wind_bins', 'count')\n",
    "plt.show()"
   ]
  },
  {
   "cell_type": "markdown",
   "metadata": {},
   "source": [
    "### Conclusions from data exploration\n",
    "\n",
    "What am I taking away from this to decide about feature exploration?\n",
    "\n",
    "- Overall, there are some significant differences between casual and registered ridership patterns. This is interesting, but since the challenge is only interested in the number of bikes rented at a given time, it's not relevant to further modelling.\n",
    "- Climate affects bike rental numbers in a variety of ways:\n",
    "    - Generally rentals peak in summer and are lowest in spring.\n",
    "    - Higher humidity is inversely correlated with rentals, but this relationship does not hold in spring.\n",
    "    - Higher temperatures are correlated with rentals.\n",
    "    - Season appears to interact with wind speed to impact rentals. While wind speeds above 50 still enjoy robust rental numbers in summer and autumn, rentals drop steeply for those wind speeds in winter.\n",
    "- Workingday affects bike rental numbers:\n",
    "    - Since holidays are a subcategory of non-workingdays, I want to focus on the workingday distinction -- holidays don't add any additional information.\n",
    "    - On working days, ridership patterns diverge. Registered users tend to use a bike at rush hour.\n",
    "    - On non-working days, ridership patterns are more similar, peaking unimodally around lunchtime.\n",
    "- Time of day is very important in predicting bike rentals. Rentals are lowest between midnight and 5 am, but then vary throughough the day, with big peaks around rush hour times (on workdays) or lunchtime (non-workdays).\n",
    "    \n",
    "### Conclusions for feature engineering\n",
    "\n",
    "- Temp and atemp: Bin\n",
    "    - Include only one of these in the model; test which one works better.\n",
    "- Humidity: Bin\n",
    "- Wind speed: Bin\n",
    "- Weather: One-hot encode\n",
    "- Season is important: One-hot encode\n",
    "- Workingday is important: One-hot encode\n",
    "    - Include this as an interaction term as well\n",
    "- Time of day: Factorise and include as categorical variable"
   ]
  },
  {
   "cell_type": "markdown",
   "metadata": {},
   "source": [
    "## Step 2: Feature selection\n",
    "\n",
    "Since $casual + registered = count$, and we are only interested in predicting `count` in the first place, we can only include `count` as our target y variable, and must remove `casual` and `registered`."
   ]
  },
  {
   "cell_type": "code",
   "execution_count": 39,
   "metadata": {},
   "outputs": [],
   "source": [
    "# Drop casual and registered rental counts\n",
    "df = df.drop(['casual', 'registered'], axis = 1)"
   ]
  },
  {
   "cell_type": "markdown",
   "metadata": {},
   "source": [
    "I want to take another look at the correlated features and decide which ones to throw out. I'm using a threshold of 0.9 as suggested in this article: https://towardsdatascience.com/feature-selection-correlation-and-p-value-da8921bfb3cf"
   ]
  },
  {
   "cell_type": "code",
   "execution_count": 40,
   "metadata": {},
   "outputs": [
    {
     "data": {
      "text/plain": [
       "<matplotlib.axes._subplots.AxesSubplot at 0x1a25bbf5d0>"
      ]
     },
     "execution_count": 40,
     "metadata": {},
     "output_type": "execute_result"
    },
    {
     "data": {
      "image/png": "[encoded data removed]",
      "text/plain": [
       "<Figure size 720x720 with 2 Axes>"
      ]
     },
     "metadata": {
      "needs_background": "light"
     },
     "output_type": "display_data"
    }
   ],
   "source": [
    "plt.subplots(figsize=(10,10))\n",
    "sns.heatmap(df.corr(), annot = True)"
   ]
  },
  {
   "cell_type": "markdown",
   "metadata": {},
   "source": [
    "We see that `temp` and `atemp` are highly correlated with each other. I'm going to select `temp`, as it does not take into account wind speed and humidity information the way that `atemp` does (see this explainer from the UK Met Office: https://blog.metoffice.gov.uk/2012/02/15/what-is-feels-like-temperature/#:~:text=We%20calculate%20a%20'feels%20like,during%20cold%20and%20windy%20days) and therefore helps me avoid multicolinearity in my features.\n",
    "\n",
    "Additionally, `season` and `month` are highly correlated -- makes sense as one is a more coarse-grained indication of the other. I note that I'm getting a slightly higher correlation between `month` and `count` than between `season` and `count`, so I'm going to drop `season`."
   ]
  },
  {
   "cell_type": "code",
   "execution_count": 41,
   "metadata": {},
   "outputs": [],
   "source": [
    "df = df.drop(['atemp', 'season'], axis = 1)"
   ]
  },
  {
   "cell_type": "markdown",
   "metadata": {},
   "source": [
    "Do we have the same amount of observations per day across all of the data? If not, we will need to impute some missing values in the feature engineering section."
   ]
  },
  {
   "cell_type": "code",
   "execution_count": 42,
   "metadata": {},
   "outputs": [
    {
     "data": {
      "text/plain": [
       "2012-03-17    24\n",
       "2011-09-14    24\n",
       "2012-01-13    24\n",
       "2011-10-13    24\n",
       "2012-10-11    24\n",
       "              ..\n",
       "2011-01-11    22\n",
       "2011-03-10    22\n",
       "2011-02-11    22\n",
       "2011-01-12    22\n",
       "2011-01-18    12\n",
       "Name: date, Length: 456, dtype: int64"
      ]
     },
     "execution_count": 42,
     "metadata": {},
     "output_type": "execute_result"
    }
   ],
   "source": [
    "# count number of values for each day\n",
    "\n",
    "df['date'].value_counts()"
   ]
  },
  {
   "cell_type": "code",
   "execution_count": 43,
   "metadata": {},
   "outputs": [],
   "source": [
    "# Which days have fewer than 24 data points?\n",
    "\n",
    "investigate = df['date'].value_counts() == 24"
   ]
  },
  {
   "cell_type": "code",
   "execution_count": 44,
   "metadata": {},
   "outputs": [
    {
     "data": {
      "text/plain": [
       "True     414\n",
       "False     42\n",
       "Name: date, dtype: int64"
      ]
     },
     "execution_count": 44,
     "metadata": {},
     "output_type": "execute_result"
    }
   ],
   "source": [
    "investigate.value_counts()"
   ]
  },
  {
   "cell_type": "markdown",
   "metadata": {},
   "source": [
    "On further thought: It doesn't especially matter if some days have fewer data points than others, since each row is complete. \n",
    "\n"
   ]
  },
  {
   "cell_type": "code",
   "execution_count": 45,
   "metadata": {},
   "outputs": [],
   "source": [
    "df = df.drop(['hum_bins', 'wind_bins', 'atemp_bins', 'temp_bins'], axis = 1)"
   ]
  },
  {
   "cell_type": "code",
   "execution_count": 46,
   "metadata": {},
   "outputs": [],
   "source": [
    "# df = df.drop(['humidity', 'windspeed', 'temp'], axis = 1)"
   ]
  },
  {
   "cell_type": "markdown",
   "metadata": {},
   "source": [
    "## Step 3: Train-Test Split\n",
    "\n",
    "Technically we already have a split between training and test data, since the test data is still on Kaggle. But I'd like to keep separate a bit of validation data. So I'll re-split the training data."
   ]
  },
  {
   "cell_type": "code",
   "execution_count": 47,
   "metadata": {},
   "outputs": [],
   "source": [
    "# define X and y\n",
    "\n",
    "y = df['count']\n",
    "\n",
    "X = df.drop('count', axis = 1)"
   ]
  },
  {
   "cell_type": "code",
   "execution_count": 48,
   "metadata": {},
   "outputs": [
    {
     "data": {
      "text/plain": [
       "((10886,), (10886, 10))"
      ]
     },
     "execution_count": 48,
     "metadata": {},
     "output_type": "execute_result"
    }
   ],
   "source": [
    "y.shape, X.shape"
   ]
  },
  {
   "cell_type": "code",
   "execution_count": 49,
   "metadata": {},
   "outputs": [
    {
     "data": {
      "text/plain": [
       "((8164, 10), (2722, 10), (8164,), (2722,))"
      ]
     },
     "execution_count": 49,
     "metadata": {},
     "output_type": "execute_result"
    }
   ],
   "source": [
    "# train/test split\n",
    "\n",
    "Xtrain, Xtest, ytrain, ytest = train_test_split(X, y)\n",
    "\n",
    "Xtrain.shape, Xtest.shape, ytrain.shape, ytest.shape"
   ]
  },
  {
   "cell_type": "markdown",
   "metadata": {},
   "source": [
    "## Step 4: Feature Engineering, Feature Selection and Feature Expansion\n",
    "\n",
    "Lesson learned from last week: Define a preprocessing pipeline that is separate from fitting a model, so that it's easier to tweak preprocessing steps.\n",
    "\n",
    "Revision of the steps from above:\n",
    "\n",
    "- Temp ~and atemp~: Bin\n",
    "    - Decision to use only Temp, because Temp and Atemp are highly correlated\n",
    "- Humidity: Bin\n",
    "- Wind speed: Bin\n",
    "- Weather: One-hot encode\n",
    "- ~Season is important: One-hot encode~\n",
    "    - Decided that month is a more fine-grained feature. Factorise, then one-hot encode.\n",
    "- Workingday is important: One-hot encode\n",
    "    - Include this as an interaction term as well\n",
    "    - New decision: Interaction term with all of the weather categories\n",
    "- Hour: Factorise, then one-hot encoding.\n",
    "- Year: Initially I didn't even consider this. But actually it is important too, since the volume of bike rentals overall increases by year. So I'm going to factorise, then one-hot encode this.\n",
    "- Date: I want to be able to capture the fact that as the dates get later, there tend to be more rentals overall. I will include a new 'timestep' feature that is numerical (rather than a datetime)."
   ]
  },
  {
   "cell_type": "code",
   "execution_count": 68,
   "metadata": {},
   "outputs": [
    {
     "data": {
      "text/plain": [
       "(Index(['holiday', 'workingday', 'weather', 'temp', 'humidity', 'windspeed',\n",
       "        'hour', 'date', 'month', 'year'],\n",
       "       dtype='object'),\n",
       " Index(['holiday', 'workingday', 'weather', 'temp', 'humidity', 'windspeed',\n",
       "        'hour', 'date', 'month', 'year'],\n",
       "       dtype='object'))"
      ]
     },
     "execution_count": 68,
     "metadata": {},
     "output_type": "execute_result"
    }
   ],
   "source": [
    "Xtrain.columns, Xtest.columns"
   ]
  },
  {
   "cell_type": "code",
   "execution_count": 69,
   "metadata": {},
   "outputs": [],
   "source": [
    "# Define the columns that will have each kind of feature engineering\n",
    "\n",
    "# bin_cols = ['temp_bins', 'wind_bins', 'hum_bins']\n",
    "bin_cols = ['temp', 'windspeed', 'humidity']\n",
    "\n",
    "onehot_cols = ['weather', 'workingday', 'holiday', 'hour', 'month', 'year']\n",
    "\n",
    "timestep_cols = ['date']\n",
    "\n",
    "# interaction: want to code an interaction of workingday and the weather columns\n",
    "\n",
    "workingday_weather_cols = ['workingday', 'weather']\n",
    "workingday_temp_cols = ['workingday', 'temp']\n",
    "workingday_hum_cols = ['workingday', 'humidity']\n",
    "workingday_wind_cols = ['workingday', 'windspeed']\n",
    "\n",
    "# workingday_weather_cols = ['workingday', 'weather']\n",
    "# workingday_temp_cols = ['workingday', 'temp_bins']\n",
    "# workingday_hum_cols = ['workingday', 'hum_bins']\n",
    "# workingday_wind_cols = ['workingday', 'wind_bins']"
   ]
  },
  {
   "cell_type": "markdown",
   "metadata": {},
   "source": [
    "**Note to self concerning time stamps and subtracting days**\n",
    "\n",
    "- You can subtract two items in datetime format from each other and calculate the difference between the two (e.g. in days)\n",
    "- This will look like a series that includes a date-time item (see what happens when you do `steps.head()`) but it is in fact (?) just a number, the difference between the two dates (see what happens when you do `steps[59]`)"
   ]
  },
  {
   "cell_type": "code",
   "execution_count": 52,
   "metadata": {},
   "outputs": [],
   "source": [
    "# code for illustration of how datetime subtraction works\n",
    "# steps = (steps - pd.to_datetime(df['date'][0])).dt.days\n",
    "# steps[59]"
   ]
  },
  {
   "cell_type": "code",
   "execution_count": 59,
   "metadata": {},
   "outputs": [],
   "source": [
    "# Define a custom function to create a timestep\n",
    "# I can't just allocate a number based on e.g. the row of the frame, because I need the timesteps to be based on the date itself.\n",
    "# Subtract timestamp of first day in data set from all other days\n",
    "\n",
    "# note that input is df (in order to work with transformer)\n",
    "\n",
    "first_step = pd.to_datetime(df['date'][0])\n",
    "\n",
    "def timestep(df): \n",
    "    '''\n",
    "    Returns timestep calculated in no. days since first day in data set\n",
    "    '''\n",
    "   \n",
    "    step = (pd.to_datetime(df.iloc[:,0]) - first_step).dt.days\n",
    "    step = step.values.reshape(-1, 1)\n",
    "    \n",
    "    return step     \n",
    "    \n",
    "    "
   ]
  },
  {
   "cell_type": "code",
   "execution_count": 60,
   "metadata": {},
   "outputs": [
    {
     "data": {
      "text/plain": [
       "array([[  0],\n",
       "       [  0],\n",
       "       [  0],\n",
       "       ...,\n",
       "       [718],\n",
       "       [718],\n",
       "       [718]])"
      ]
     },
     "execution_count": 60,
     "metadata": {},
     "output_type": "execute_result"
    }
   ],
   "source": [
    "# check if this has the desired output\n",
    "testing = timestep(df[['date']])\n",
    "testing\n",
    "\n",
    "# yes, it does! phew!"
   ]
  },
  {
   "cell_type": "markdown",
   "metadata": {},
   "source": [
    "### Define a feature engineering pipeline (preprocessing only)"
   ]
  },
  {
   "cell_type": "code",
   "execution_count": 86,
   "metadata": {},
   "outputs": [],
   "source": [
    "onehot_transformer = Pipeline(steps = [\n",
    "    ('onehot', OneHotEncoder(handle_unknown = 'ignore'))\n",
    "])\n",
    "\n",
    "timestep_transformer = Pipeline(steps = [\n",
    "    ('make_timesteps', FunctionTransformer(timestep))\n",
    "])\n",
    "\n",
    "interaction_transformer = Pipeline(steps = [\n",
    "    ('create_interaction', PolynomialFeatures(interaction_only = True, include_bias = False))\n",
    "])\n",
    "\n",
    "bin_transformer = Pipeline(steps = [\n",
    "    ('binning', KBinsDiscretizer(n_bins = 5))\n",
    "])"
   ]
  },
  {
   "cell_type": "markdown",
   "metadata": {},
   "source": [
    "## Question: How to make bins for specific intervals?"
   ]
  },
  {
   "cell_type": "code",
   "execution_count": 87,
   "metadata": {},
   "outputs": [],
   "source": [
    "# Make preprocessing pipeline\n",
    "\n",
    "preprocessor = ColumnTransformer(\n",
    "    transformers=[\n",
    "        ('onehot', onehot_transformer, onehot_cols),\n",
    "        ('timestep', timestep_transformer, timestep_cols),\n",
    "        ('interactions1', interaction_transformer, workingday_weather_cols),\n",
    "        ('interactions2', interaction_transformer, workingday_hum_cols),\n",
    "        ('interactions3', interaction_transformer, workingday_temp_cols),\n",
    "        ('interactions4', interaction_transformer, workingday_wind_cols),\n",
    "        ('bins', bin_transformer, bin_cols)\n",
    "    ])"
   ]
  },
  {
   "cell_type": "code",
   "execution_count": 88,
   "metadata": {},
   "outputs": [],
   "source": [
    "Xtrain_prep = preprocessor.fit_transform(Xtrain)\n",
    "Xtest_prep = preprocessor.transform(Xtest)"
   ]
  },
  {
   "cell_type": "code",
   "execution_count": 89,
   "metadata": {},
   "outputs": [
    {
     "data": {
      "text/plain": [
       "((8164, 74), (2722, 74))"
      ]
     },
     "execution_count": 89,
     "metadata": {},
     "output_type": "execute_result"
    }
   ],
   "source": [
    "Xtrain_prep.shape, Xtest_prep.shape"
   ]
  },
  {
   "cell_type": "markdown",
   "metadata": {},
   "source": [
    "# Fit a linear regression model"
   ]
  },
  {
   "cell_type": "code",
   "execution_count": null,
   "metadata": {},
   "outputs": [],
   "source": []
  }
 ],
 "metadata": {
  "kernelspec": {
   "display_name": "Python 3",
   "language": "python",
   "name": "python3"
  },
  "language_info": {
   "codemirror_mode": {
    "name": "ipython",
    "version": 3
   },
   "file_extension": ".py",
   "mimetype": "text/x-python",
   "name": "python",
   "nbconvert_exporter": "python",
   "pygments_lexer": "ipython3",
   "version": "3.7.6"
  }
 },
 "nbformat": 4,
 "nbformat_minor": 4
}
