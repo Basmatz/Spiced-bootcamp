{
 "cells": [
  {
   "cell_type": "code",
   "execution_count": 1,
   "metadata": {},
   "outputs": [],
   "source": [
    "import pandas as pd\n",
    "import numpy as np\n",
    "import seaborn as sns\n",
    "import matplotlib as plt\n",
    "from sklearn.linear_model import LinearRegression\n",
    "from sklearn.metrics import mean_squared_error\n",
    "\n",
    "#%matplotlib inline\n",
    "plt.rcParams['figure.figsize'] = (12,6)"
   ]
  },
  {
   "cell_type": "code",
   "execution_count": 2,
   "metadata": {},
   "outputs": [],
   "source": [
    "import functions as func"
   ]
  },
  {
   "cell_type": "markdown",
   "metadata": {},
   "source": [
    "### Read data"
   ]
  },
  {
   "cell_type": "code",
   "execution_count": 3,
   "metadata": {},
   "outputs": [],
   "source": [
    "df = pd.read_csv(\"Data/ECA_blended_custom/TG_STAID002759.txt\", skiprows= 18, sep=',')\n",
    "df.columns = ['SOUID', 'DATE','TG','Q_TG']\n",
    "df['DATE'] = pd.to_datetime(df['DATE'], format='%Y%m%d')\n",
    "df['year'] = df['DATE'].dt.year\n",
    "df['month'] = df['DATE'].dt.month\n",
    "df['day'] = df['DATE'].dt.day\n",
    "\n",
    "df.set_index('DATE', inplace = True)\n",
    "\n",
    "df['Celsius'] = df['TG'] * 0.1\n",
    "df['Kelvin'] = df['Celsius'] + 273.15 "
   ]
  },
  {
   "cell_type": "markdown",
   "metadata": {},
   "source": [
    "### Calculate percentage changes"
   ]
  },
  {
   "cell_type": "code",
   "execution_count": 4,
   "metadata": {},
   "outputs": [],
   "source": [
    "df['pct_change'] = df.Kelvin.pct_change()"
   ]
  },
  {
   "cell_type": "markdown",
   "metadata": {},
   "source": [
    "### Train-test split"
   ]
  },
  {
   "cell_type": "code",
   "execution_count": 5,
   "metadata": {},
   "outputs": [],
   "source": [
    "df_train = df['1950':'2019']\n",
    "df_test = df['2019':]"
   ]
  },
  {
   "cell_type": "markdown",
   "metadata": {},
   "source": [
    "### Deseasonalize"
   ]
  },
  {
   "cell_type": "code",
   "execution_count": 6,
   "metadata": {},
   "outputs": [
    {
     "name": "stderr",
     "output_type": "stream",
     "text": [
      "/opt/anaconda3/lib/python3.7/site-packages/ipykernel_launcher.py:1: SettingWithCopyWarning: \n",
      "A value is trying to be set on a copy of a slice from a DataFrame.\n",
      "Try using .loc[row_indexer,col_indexer] = value instead\n",
      "\n",
      "See the caveats in the documentation: https://pandas.pydata.org/pandas-docs/stable/user_guide/indexing.html#returning-a-view-versus-a-copy\n",
      "  \"\"\"Entry point for launching an IPython kernel.\n",
      "/opt/anaconda3/lib/python3.7/site-packages/ipykernel_launcher.py:2: SettingWithCopyWarning: \n",
      "A value is trying to be set on a copy of a slice from a DataFrame.\n",
      "Try using .loc[row_indexer,col_indexer] = value instead\n",
      "\n",
      "See the caveats in the documentation: https://pandas.pydata.org/pandas-docs/stable/user_guide/indexing.html#returning-a-view-versus-a-copy\n",
      "  \n",
      "/opt/anaconda3/lib/python3.7/site-packages/ipykernel_launcher.py:4: SettingWithCopyWarning: \n",
      "A value is trying to be set on a copy of a slice from a DataFrame.\n",
      "Try using .loc[row_indexer,col_indexer] = value instead\n",
      "\n",
      "See the caveats in the documentation: https://pandas.pydata.org/pandas-docs/stable/user_guide/indexing.html#returning-a-view-versus-a-copy\n",
      "  after removing the cwd from sys.path.\n",
      "/opt/anaconda3/lib/python3.7/site-packages/ipykernel_launcher.py:5: SettingWithCopyWarning: \n",
      "A value is trying to be set on a copy of a slice from a DataFrame.\n",
      "Try using .loc[row_indexer,col_indexer] = value instead\n",
      "\n",
      "See the caveats in the documentation: https://pandas.pydata.org/pandas-docs/stable/user_guide/indexing.html#returning-a-view-versus-a-copy\n",
      "  \"\"\"\n"
     ]
    }
   ],
   "source": [
    "df_train['monthly_means'] = df_train.groupby('month')['pct_change'].transform(\"mean\")\n",
    "df_train['pct_stationary'] = df_train['pct_change'] - df_train['monthly_means']\n",
    "\n",
    "df_test['monthly_means'] = df_train['monthly_means']['2016':'30-06-2017'].values\n",
    "df_test['pct_stationary'] = df_test['pct_change'] - df_test['monthly_means']"
   ]
  },
  {
   "cell_type": "markdown",
   "metadata": {},
   "source": [
    "### Feature Engineer 1st model with 3 time lags"
   ]
  },
  {
   "cell_type": "code",
   "execution_count": 7,
   "metadata": {},
   "outputs": [
    {
     "name": "stdout",
     "output_type": "stream",
     "text": [
      "4. Feature Engineering...\n",
      "\n"
     ]
    },
    {
     "name": "stderr",
     "output_type": "stream",
     "text": [
      "/Users/rjt.weber/Documents/Work/SPICED/repo/logistic-lemongrass-student-code/week_05/functions.py:18: SettingWithCopyWarning: \n",
      "A value is trying to be set on a copy of a slice from a DataFrame.\n",
      "Try using .loc[row_indexer,col_indexer] = value instead\n",
      "\n",
      "See the caveats in the documentation: https://pandas.pydata.org/pandas-docs/stable/user_guide/indexing.html#returning-a-view-versus-a-copy\n",
      "  data['t-1 K'] = data['Kelvin'].shift(1)\n",
      "/Users/rjt.weber/Documents/Work/SPICED/repo/logistic-lemongrass-student-code/week_05/functions.py:19: SettingWithCopyWarning: \n",
      "A value is trying to be set on a copy of a slice from a DataFrame.\n",
      "Try using .loc[row_indexer,col_indexer] = value instead\n",
      "\n",
      "See the caveats in the documentation: https://pandas.pydata.org/pandas-docs/stable/user_guide/indexing.html#returning-a-view-versus-a-copy\n",
      "  data['t-2 K'] = data['Kelvin'].shift(2)\n",
      "/Users/rjt.weber/Documents/Work/SPICED/repo/logistic-lemongrass-student-code/week_05/functions.py:20: SettingWithCopyWarning: \n",
      "A value is trying to be set on a copy of a slice from a DataFrame.\n",
      "Try using .loc[row_indexer,col_indexer] = value instead\n",
      "\n",
      "See the caveats in the documentation: https://pandas.pydata.org/pandas-docs/stable/user_guide/indexing.html#returning-a-view-versus-a-copy\n",
      "  data['t-3 K'] = data['Kelvin'].shift(3)\n"
     ]
    }
   ],
   "source": [
    "print('4. Feature Engineering...\\n')\n",
    "X_train_fe = func.feature_engineer_Kelvin3(df_train)\n",
    "X_test_fe = func.feature_engineer_Kelvin3(df_test)"
   ]
  },
  {
   "cell_type": "code",
   "execution_count": 8,
   "metadata": {},
   "outputs": [
    {
     "data": {
      "text/html": [
       "<div>\n",
       "<style scoped>\n",
       "    .dataframe tbody tr th:only-of-type {\n",
       "        vertical-align: middle;\n",
       "    }\n",
       "\n",
       "    .dataframe tbody tr th {\n",
       "        vertical-align: top;\n",
       "    }\n",
       "\n",
       "    .dataframe thead th {\n",
       "        text-align: right;\n",
       "    }\n",
       "</style>\n",
       "<table border=\"1\" class=\"dataframe\">\n",
       "  <thead>\n",
       "    <tr style=\"text-align: right;\">\n",
       "      <th></th>\n",
       "      <th>t-1 K</th>\n",
       "      <th>t-2 K</th>\n",
       "      <th>t-3 K</th>\n",
       "    </tr>\n",
       "    <tr>\n",
       "      <th>DATE</th>\n",
       "      <th></th>\n",
       "      <th></th>\n",
       "      <th></th>\n",
       "    </tr>\n",
       "  </thead>\n",
       "  <tbody>\n",
       "    <tr>\n",
       "      <th>1950-01-04</th>\n",
       "      <td>276.05</td>\n",
       "      <td>274.15</td>\n",
       "      <td>269.65</td>\n",
       "    </tr>\n",
       "    <tr>\n",
       "      <th>1950-01-05</th>\n",
       "      <td>273.05</td>\n",
       "      <td>276.05</td>\n",
       "      <td>274.15</td>\n",
       "    </tr>\n",
       "    <tr>\n",
       "      <th>1950-01-06</th>\n",
       "      <td>270.15</td>\n",
       "      <td>273.05</td>\n",
       "      <td>276.05</td>\n",
       "    </tr>\n",
       "    <tr>\n",
       "      <th>1950-01-07</th>\n",
       "      <td>275.45</td>\n",
       "      <td>270.15</td>\n",
       "      <td>273.05</td>\n",
       "    </tr>\n",
       "    <tr>\n",
       "      <th>1950-01-08</th>\n",
       "      <td>278.35</td>\n",
       "      <td>275.45</td>\n",
       "      <td>270.15</td>\n",
       "    </tr>\n",
       "  </tbody>\n",
       "</table>\n",
       "</div>"
      ],
      "text/plain": [
       "             t-1 K   t-2 K   t-3 K\n",
       "DATE                              \n",
       "1950-01-04  276.05  274.15  269.65\n",
       "1950-01-05  273.05  276.05  274.15\n",
       "1950-01-06  270.15  273.05  276.05\n",
       "1950-01-07  275.45  270.15  273.05\n",
       "1950-01-08  278.35  275.45  270.15"
      ]
     },
     "execution_count": 8,
     "metadata": {},
     "output_type": "execute_result"
    }
   ],
   "source": [
    "X_train_fe.head()"
   ]
  },
  {
   "cell_type": "markdown",
   "metadata": {},
   "source": [
    "### Fit model"
   ]
  },
  {
   "cell_type": "code",
   "execution_count": 9,
   "metadata": {},
   "outputs": [
    {
     "data": {
      "text/plain": [
       "LinearRegression(copy_X=True, fit_intercept=True, n_jobs=None, normalize=False)"
      ]
     },
     "execution_count": 9,
     "metadata": {},
     "output_type": "execute_result"
    }
   ],
   "source": [
    "m = LinearRegression()\n",
    "m.fit(X_train_fe, df_train['Kelvin'][3:])\n",
    "#m.score(X_train_fe.dropna(), df_train['Kelvin'][3:])"
   ]
  },
  {
   "cell_type": "markdown",
   "metadata": {},
   "source": [
    "### Make predictions"
   ]
  },
  {
   "cell_type": "code",
   "execution_count": 10,
   "metadata": {},
   "outputs": [],
   "source": [
    "y_pred = m.predict(X_test_fe.dropna())"
   ]
  },
  {
   "cell_type": "code",
   "execution_count": 11,
   "metadata": {},
   "outputs": [
    {
     "data": {
      "text/html": [
       "<div>\n",
       "<style scoped>\n",
       "    .dataframe tbody tr th:only-of-type {\n",
       "        vertical-align: middle;\n",
       "    }\n",
       "\n",
       "    .dataframe tbody tr th {\n",
       "        vertical-align: top;\n",
       "    }\n",
       "\n",
       "    .dataframe thead th {\n",
       "        text-align: right;\n",
       "    }\n",
       "</style>\n",
       "<table border=\"1\" class=\"dataframe\">\n",
       "  <thead>\n",
       "    <tr style=\"text-align: right;\">\n",
       "      <th></th>\n",
       "      <th>True Kelvin</th>\n",
       "      <th>pred</th>\n",
       "    </tr>\n",
       "  </thead>\n",
       "  <tbody>\n",
       "    <tr>\n",
       "      <th>0</th>\n",
       "      <td>275.25</td>\n",
       "      <td>273.923120</td>\n",
       "    </tr>\n",
       "    <tr>\n",
       "      <th>1</th>\n",
       "      <td>279.25</td>\n",
       "      <td>276.046018</td>\n",
       "    </tr>\n",
       "    <tr>\n",
       "      <th>2</th>\n",
       "      <td>275.45</td>\n",
       "      <td>279.238664</td>\n",
       "    </tr>\n",
       "    <tr>\n",
       "      <th>3</th>\n",
       "      <td>276.45</td>\n",
       "      <td>274.870931</td>\n",
       "    </tr>\n",
       "    <tr>\n",
       "      <th>4</th>\n",
       "      <td>277.95</td>\n",
       "      <td>277.395705</td>\n",
       "    </tr>\n",
       "  </tbody>\n",
       "</table>\n",
       "</div>"
      ],
      "text/plain": [
       "   True Kelvin        pred\n",
       "0       275.25  273.923120\n",
       "1       279.25  276.046018\n",
       "2       275.45  279.238664\n",
       "3       276.45  274.870931\n",
       "4       277.95  277.395705"
      ]
     },
     "execution_count": 11,
     "metadata": {},
     "output_type": "execute_result"
    }
   ],
   "source": [
    "results3 = zip(df_test['Kelvin'][3:], y_pred)\n",
    "results3 = pd.DataFrame(results3)\n",
    "results3.columns = ['True Kelvin', 'pred']\n",
    "results3.head()"
   ]
  },
  {
   "cell_type": "markdown",
   "metadata": {},
   "source": [
    "### Check coefficients"
   ]
  },
  {
   "cell_type": "code",
   "execution_count": 12,
   "metadata": {},
   "outputs": [
    {
     "data": {
      "text/plain": [
       "array([ 1.0184593 , -0.22314917,  0.164587  ])"
      ]
     },
     "execution_count": 12,
     "metadata": {},
     "output_type": "execute_result"
    }
   ],
   "source": [
    "m.coef_"
   ]
  },
  {
   "cell_type": "markdown",
   "metadata": {},
   "source": [
    "### Score model"
   ]
  },
  {
   "cell_type": "code",
   "execution_count": 13,
   "metadata": {},
   "outputs": [
    {
     "data": {
      "text/plain": [
       "2.23331546683865"
      ]
     },
     "execution_count": 13,
     "metadata": {},
     "output_type": "execute_result"
    }
   ],
   "source": [
    "rmse = np.sqrt(mean_squared_error(results3['True Kelvin'], results3['pred']))\n",
    "rmse"
   ]
  },
  {
   "cell_type": "code",
   "execution_count": 14,
   "metadata": {},
   "outputs": [
    {
     "data": {
      "text/plain": [
       "<matplotlib.axes._subplots.AxesSubplot at 0x1a1eef1310>"
      ]
     },
     "execution_count": 14,
     "metadata": {},
     "output_type": "execute_result"
    },
    {
     "data": {
      "image/png": "[encoded data removed]",
      "text/plain": [
       "<Figure size 864x432 with 1 Axes>"
      ]
     },
     "metadata": {
      "needs_background": "light"
     },
     "output_type": "display_data"
    }
   ],
   "source": [
    "results3.plot()"
   ]
  },
  {
   "cell_type": "markdown",
   "metadata": {},
   "source": [
    "### Compare with persistence"
   ]
  },
  {
   "cell_type": "code",
   "execution_count": 15,
   "metadata": {},
   "outputs": [
    {
     "data": {
      "text/html": [
       "<div>\n",
       "<style scoped>\n",
       "    .dataframe tbody tr th:only-of-type {\n",
       "        vertical-align: middle;\n",
       "    }\n",
       "\n",
       "    .dataframe tbody tr th {\n",
       "        vertical-align: top;\n",
       "    }\n",
       "\n",
       "    .dataframe thead th {\n",
       "        text-align: right;\n",
       "    }\n",
       "</style>\n",
       "<table border=\"1\" class=\"dataframe\">\n",
       "  <thead>\n",
       "    <tr style=\"text-align: right;\">\n",
       "      <th></th>\n",
       "      <th>True Kelvin</th>\n",
       "      <th>pred</th>\n",
       "    </tr>\n",
       "  </thead>\n",
       "  <tbody>\n",
       "    <tr>\n",
       "      <th>0</th>\n",
       "      <td>275.25</td>\n",
       "      <td>272.85</td>\n",
       "    </tr>\n",
       "    <tr>\n",
       "      <th>1</th>\n",
       "      <td>279.25</td>\n",
       "      <td>275.25</td>\n",
       "    </tr>\n",
       "    <tr>\n",
       "      <th>2</th>\n",
       "      <td>275.45</td>\n",
       "      <td>279.25</td>\n",
       "    </tr>\n",
       "    <tr>\n",
       "      <th>3</th>\n",
       "      <td>276.45</td>\n",
       "      <td>275.45</td>\n",
       "    </tr>\n",
       "    <tr>\n",
       "      <th>4</th>\n",
       "      <td>277.95</td>\n",
       "      <td>276.45</td>\n",
       "    </tr>\n",
       "  </tbody>\n",
       "</table>\n",
       "</div>"
      ],
      "text/plain": [
       "   True Kelvin    pred\n",
       "0       275.25  272.85\n",
       "1       279.25  275.25\n",
       "2       275.45  279.25\n",
       "3       276.45  275.45\n",
       "4       277.95  276.45"
      ]
     },
     "execution_count": 15,
     "metadata": {},
     "output_type": "execute_result"
    }
   ],
   "source": [
    "persistence = zip(df_test['Kelvin'][3:], df_test['Kelvin'][:].shift(1)[3:])\n",
    "persistence = pd.DataFrame(persistence)\n",
    "persistence.columns = ['True Kelvin', 'pred']\n",
    "persistence.head()"
   ]
  },
  {
   "cell_type": "code",
   "execution_count": 16,
   "metadata": {},
   "outputs": [
    {
     "data": {
      "text/plain": [
       "2.3406062248913204"
      ]
     },
     "execution_count": 16,
     "metadata": {},
     "output_type": "execute_result"
    }
   ],
   "source": [
    "rmse = np.sqrt(mean_squared_error(persistence['True Kelvin'], persistence['pred']))\n",
    "rmse"
   ]
  },
  {
   "cell_type": "markdown",
   "metadata": {},
   "source": [
    "### Does it make sense to try more time lags?"
   ]
  },
  {
   "cell_type": "code",
   "execution_count": 17,
   "metadata": {},
   "outputs": [
    {
     "name": "stdout",
     "output_type": "stream",
     "text": [
      "Figure(864x432)\n"
     ]
    },
    {
     "data": {
      "image/png": "[encoded data removed]",
      "text/plain": [
       "<Figure size 864x432 with 1 Axes>"
      ]
     },
     "metadata": {
      "needs_background": "light"
     },
     "output_type": "display_data"
    }
   ],
   "source": [
    "from statsmodels.graphics.tsaplots import plot_acf\n",
    "\n",
    "print(plot_acf(persistence['True Kelvin'], lags=40))"
   ]
  },
  {
   "cell_type": "code",
   "execution_count": null,
   "metadata": {},
   "outputs": [],
   "source": []
  },
  {
   "cell_type": "code",
   "execution_count": 18,
   "metadata": {},
   "outputs": [
    {
     "name": "stdout",
     "output_type": "stream",
     "text": [
      "Figure(864x432)\n"
     ]
    },
    {
     "data": {
      "image/png": "[encoded data removed]",
      "text/plain": [
       "<Figure size 864x432 with 1 Axes>"
      ]
     },
     "metadata": {
      "needs_background": "light"
     },
     "output_type": "display_data"
    }
   ],
   "source": [
    "print(plot_acf(df_test['pct_stationary'], lags=40))"
   ]
  },
  {
   "cell_type": "code",
   "execution_count": 19,
   "metadata": {},
   "outputs": [
    {
     "name": "stdout",
     "output_type": "stream",
     "text": [
      "Figure(864x432)\n"
     ]
    },
    {
     "data": {
      "image/png": "[encoded data removed]",
      "text/plain": [
       "<Figure size 864x432 with 1 Axes>"
      ]
     },
     "metadata": {
      "needs_background": "light"
     },
     "output_type": "display_data"
    }
   ],
   "source": [
    "print(plot_acf(df_train['pct_stationary'], lags=40))"
   ]
  },
  {
   "cell_type": "markdown",
   "metadata": {},
   "source": [
    "### Feature Engineer second model with 10 time lags"
   ]
  },
  {
   "cell_type": "code",
   "execution_count": 20,
   "metadata": {},
   "outputs": [
    {
     "name": "stdout",
     "output_type": "stream",
     "text": [
      "4. Feature Engineering...\n",
      "\n"
     ]
    },
    {
     "name": "stderr",
     "output_type": "stream",
     "text": [
      "/Users/rjt.weber/Documents/Work/SPICED/repo/logistic-lemongrass-student-code/week_05/functions.py:78: SettingWithCopyWarning: \n",
      "A value is trying to be set on a copy of a slice from a DataFrame.\n",
      "Try using .loc[row_indexer,col_indexer] = value instead\n",
      "\n",
      "See the caveats in the documentation: https://pandas.pydata.org/pandas-docs/stable/user_guide/indexing.html#returning-a-view-versus-a-copy\n",
      "  data['t-1 K'] = data['Kelvin'].shift(1)\n",
      "/Users/rjt.weber/Documents/Work/SPICED/repo/logistic-lemongrass-student-code/week_05/functions.py:79: SettingWithCopyWarning: \n",
      "A value is trying to be set on a copy of a slice from a DataFrame.\n",
      "Try using .loc[row_indexer,col_indexer] = value instead\n",
      "\n",
      "See the caveats in the documentation: https://pandas.pydata.org/pandas-docs/stable/user_guide/indexing.html#returning-a-view-versus-a-copy\n",
      "  data['t-2 K'] = data['Kelvin'].shift(2)\n",
      "/Users/rjt.weber/Documents/Work/SPICED/repo/logistic-lemongrass-student-code/week_05/functions.py:80: SettingWithCopyWarning: \n",
      "A value is trying to be set on a copy of a slice from a DataFrame.\n",
      "Try using .loc[row_indexer,col_indexer] = value instead\n",
      "\n",
      "See the caveats in the documentation: https://pandas.pydata.org/pandas-docs/stable/user_guide/indexing.html#returning-a-view-versus-a-copy\n",
      "  data['t-3 K'] = data['Kelvin'].shift(3)\n",
      "/Users/rjt.weber/Documents/Work/SPICED/repo/logistic-lemongrass-student-code/week_05/functions.py:81: SettingWithCopyWarning: \n",
      "A value is trying to be set on a copy of a slice from a DataFrame.\n",
      "Try using .loc[row_indexer,col_indexer] = value instead\n",
      "\n",
      "See the caveats in the documentation: https://pandas.pydata.org/pandas-docs/stable/user_guide/indexing.html#returning-a-view-versus-a-copy\n",
      "  data['t-4 K'] = data['Kelvin'].shift(4)\n",
      "/Users/rjt.weber/Documents/Work/SPICED/repo/logistic-lemongrass-student-code/week_05/functions.py:82: SettingWithCopyWarning: \n",
      "A value is trying to be set on a copy of a slice from a DataFrame.\n",
      "Try using .loc[row_indexer,col_indexer] = value instead\n",
      "\n",
      "See the caveats in the documentation: https://pandas.pydata.org/pandas-docs/stable/user_guide/indexing.html#returning-a-view-versus-a-copy\n",
      "  data['t-5 K'] = data['Kelvin'].shift(5)\n",
      "/Users/rjt.weber/Documents/Work/SPICED/repo/logistic-lemongrass-student-code/week_05/functions.py:83: SettingWithCopyWarning: \n",
      "A value is trying to be set on a copy of a slice from a DataFrame.\n",
      "Try using .loc[row_indexer,col_indexer] = value instead\n",
      "\n",
      "See the caveats in the documentation: https://pandas.pydata.org/pandas-docs/stable/user_guide/indexing.html#returning-a-view-versus-a-copy\n",
      "  data['t-6 K'] = data['Kelvin'].shift(6)\n",
      "/Users/rjt.weber/Documents/Work/SPICED/repo/logistic-lemongrass-student-code/week_05/functions.py:84: SettingWithCopyWarning: \n",
      "A value is trying to be set on a copy of a slice from a DataFrame.\n",
      "Try using .loc[row_indexer,col_indexer] = value instead\n",
      "\n",
      "See the caveats in the documentation: https://pandas.pydata.org/pandas-docs/stable/user_guide/indexing.html#returning-a-view-versus-a-copy\n",
      "  data['t-7 K'] = data['Kelvin'].shift(7)\n",
      "/Users/rjt.weber/Documents/Work/SPICED/repo/logistic-lemongrass-student-code/week_05/functions.py:85: SettingWithCopyWarning: \n",
      "A value is trying to be set on a copy of a slice from a DataFrame.\n",
      "Try using .loc[row_indexer,col_indexer] = value instead\n",
      "\n",
      "See the caveats in the documentation: https://pandas.pydata.org/pandas-docs/stable/user_guide/indexing.html#returning-a-view-versus-a-copy\n",
      "  data['t-8 K'] = data['Kelvin'].shift(8)\n",
      "/Users/rjt.weber/Documents/Work/SPICED/repo/logistic-lemongrass-student-code/week_05/functions.py:86: SettingWithCopyWarning: \n",
      "A value is trying to be set on a copy of a slice from a DataFrame.\n",
      "Try using .loc[row_indexer,col_indexer] = value instead\n",
      "\n",
      "See the caveats in the documentation: https://pandas.pydata.org/pandas-docs/stable/user_guide/indexing.html#returning-a-view-versus-a-copy\n",
      "  data['t-9 K'] = data['Kelvin'].shift(9)\n",
      "/Users/rjt.weber/Documents/Work/SPICED/repo/logistic-lemongrass-student-code/week_05/functions.py:87: SettingWithCopyWarning: \n",
      "A value is trying to be set on a copy of a slice from a DataFrame.\n",
      "Try using .loc[row_indexer,col_indexer] = value instead\n",
      "\n",
      "See the caveats in the documentation: https://pandas.pydata.org/pandas-docs/stable/user_guide/indexing.html#returning-a-view-versus-a-copy\n",
      "  data['t-10 K'] = data['Kelvin'].shift(10)\n"
     ]
    }
   ],
   "source": [
    "print('4. Feature Engineering...\\n')\n",
    "X_train_fe = func.feature_engineer_Kelvin10(df_train)\n",
    "X_test_fe = func.feature_engineer_Kelvin10(df_test)"
   ]
  },
  {
   "cell_type": "code",
   "execution_count": 21,
   "metadata": {},
   "outputs": [
    {
     "data": {
      "text/html": [
       "<div>\n",
       "<style scoped>\n",
       "    .dataframe tbody tr th:only-of-type {\n",
       "        vertical-align: middle;\n",
       "    }\n",
       "\n",
       "    .dataframe tbody tr th {\n",
       "        vertical-align: top;\n",
       "    }\n",
       "\n",
       "    .dataframe thead th {\n",
       "        text-align: right;\n",
       "    }\n",
       "</style>\n",
       "<table border=\"1\" class=\"dataframe\">\n",
       "  <thead>\n",
       "    <tr style=\"text-align: right;\">\n",
       "      <th></th>\n",
       "      <th>t-1 K</th>\n",
       "      <th>t-2 K</th>\n",
       "      <th>t-3 K</th>\n",
       "      <th>t-4 K</th>\n",
       "      <th>t-5 K</th>\n",
       "      <th>t-6 K</th>\n",
       "      <th>t-7 K</th>\n",
       "      <th>t-8 K</th>\n",
       "      <th>t-9 K</th>\n",
       "      <th>t-10 K</th>\n",
       "    </tr>\n",
       "    <tr>\n",
       "      <th>DATE</th>\n",
       "      <th></th>\n",
       "      <th></th>\n",
       "      <th></th>\n",
       "      <th></th>\n",
       "      <th></th>\n",
       "      <th></th>\n",
       "      <th></th>\n",
       "      <th></th>\n",
       "      <th></th>\n",
       "      <th></th>\n",
       "    </tr>\n",
       "  </thead>\n",
       "  <tbody>\n",
       "    <tr>\n",
       "      <th>1950-01-11</th>\n",
       "      <td>270.75</td>\n",
       "      <td>278.75</td>\n",
       "      <td>280.15</td>\n",
       "      <td>278.35</td>\n",
       "      <td>275.45</td>\n",
       "      <td>270.15</td>\n",
       "      <td>273.05</td>\n",
       "      <td>276.05</td>\n",
       "      <td>274.15</td>\n",
       "      <td>269.65</td>\n",
       "    </tr>\n",
       "    <tr>\n",
       "      <th>1950-01-12</th>\n",
       "      <td>265.85</td>\n",
       "      <td>270.75</td>\n",
       "      <td>278.75</td>\n",
       "      <td>280.15</td>\n",
       "      <td>278.35</td>\n",
       "      <td>275.45</td>\n",
       "      <td>270.15</td>\n",
       "      <td>273.05</td>\n",
       "      <td>276.05</td>\n",
       "      <td>274.15</td>\n",
       "    </tr>\n",
       "    <tr>\n",
       "      <th>1950-01-13</th>\n",
       "      <td>273.15</td>\n",
       "      <td>265.85</td>\n",
       "      <td>270.75</td>\n",
       "      <td>278.75</td>\n",
       "      <td>280.15</td>\n",
       "      <td>278.35</td>\n",
       "      <td>275.45</td>\n",
       "      <td>270.15</td>\n",
       "      <td>273.05</td>\n",
       "      <td>276.05</td>\n",
       "    </tr>\n",
       "    <tr>\n",
       "      <th>1950-01-14</th>\n",
       "      <td>275.35</td>\n",
       "      <td>273.15</td>\n",
       "      <td>265.85</td>\n",
       "      <td>270.75</td>\n",
       "      <td>278.75</td>\n",
       "      <td>280.15</td>\n",
       "      <td>278.35</td>\n",
       "      <td>275.45</td>\n",
       "      <td>270.15</td>\n",
       "      <td>273.05</td>\n",
       "    </tr>\n",
       "    <tr>\n",
       "      <th>1950-01-15</th>\n",
       "      <td>278.05</td>\n",
       "      <td>275.35</td>\n",
       "      <td>273.15</td>\n",
       "      <td>265.85</td>\n",
       "      <td>270.75</td>\n",
       "      <td>278.75</td>\n",
       "      <td>280.15</td>\n",
       "      <td>278.35</td>\n",
       "      <td>275.45</td>\n",
       "      <td>270.15</td>\n",
       "    </tr>\n",
       "    <tr>\n",
       "      <th>1950-01-16</th>\n",
       "      <td>279.85</td>\n",
       "      <td>278.05</td>\n",
       "      <td>275.35</td>\n",
       "      <td>273.15</td>\n",
       "      <td>265.85</td>\n",
       "      <td>270.75</td>\n",
       "      <td>278.75</td>\n",
       "      <td>280.15</td>\n",
       "      <td>278.35</td>\n",
       "      <td>275.45</td>\n",
       "    </tr>\n",
       "    <tr>\n",
       "      <th>1950-01-17</th>\n",
       "      <td>277.95</td>\n",
       "      <td>279.85</td>\n",
       "      <td>278.05</td>\n",
       "      <td>275.35</td>\n",
       "      <td>273.15</td>\n",
       "      <td>265.85</td>\n",
       "      <td>270.75</td>\n",
       "      <td>278.75</td>\n",
       "      <td>280.15</td>\n",
       "      <td>278.35</td>\n",
       "    </tr>\n",
       "    <tr>\n",
       "      <th>1950-01-18</th>\n",
       "      <td>274.95</td>\n",
       "      <td>277.95</td>\n",
       "      <td>279.85</td>\n",
       "      <td>278.05</td>\n",
       "      <td>275.35</td>\n",
       "      <td>273.15</td>\n",
       "      <td>265.85</td>\n",
       "      <td>270.75</td>\n",
       "      <td>278.75</td>\n",
       "      <td>280.15</td>\n",
       "    </tr>\n",
       "    <tr>\n",
       "      <th>1950-01-19</th>\n",
       "      <td>267.75</td>\n",
       "      <td>274.95</td>\n",
       "      <td>277.95</td>\n",
       "      <td>279.85</td>\n",
       "      <td>278.05</td>\n",
       "      <td>275.35</td>\n",
       "      <td>273.15</td>\n",
       "      <td>265.85</td>\n",
       "      <td>270.75</td>\n",
       "      <td>278.75</td>\n",
       "    </tr>\n",
       "    <tr>\n",
       "      <th>1950-01-20</th>\n",
       "      <td>265.75</td>\n",
       "      <td>267.75</td>\n",
       "      <td>274.95</td>\n",
       "      <td>277.95</td>\n",
       "      <td>279.85</td>\n",
       "      <td>278.05</td>\n",
       "      <td>275.35</td>\n",
       "      <td>273.15</td>\n",
       "      <td>265.85</td>\n",
       "      <td>270.75</td>\n",
       "    </tr>\n",
       "    <tr>\n",
       "      <th>1950-01-21</th>\n",
       "      <td>267.05</td>\n",
       "      <td>265.75</td>\n",
       "      <td>267.75</td>\n",
       "      <td>274.95</td>\n",
       "      <td>277.95</td>\n",
       "      <td>279.85</td>\n",
       "      <td>278.05</td>\n",
       "      <td>275.35</td>\n",
       "      <td>273.15</td>\n",
       "      <td>265.85</td>\n",
       "    </tr>\n",
       "    <tr>\n",
       "      <th>1950-01-22</th>\n",
       "      <td>271.35</td>\n",
       "      <td>267.05</td>\n",
       "      <td>265.75</td>\n",
       "      <td>267.75</td>\n",
       "      <td>274.95</td>\n",
       "      <td>277.95</td>\n",
       "      <td>279.85</td>\n",
       "      <td>278.05</td>\n",
       "      <td>275.35</td>\n",
       "      <td>273.15</td>\n",
       "    </tr>\n",
       "  </tbody>\n",
       "</table>\n",
       "</div>"
      ],
      "text/plain": [
       "             t-1 K   t-2 K   t-3 K   t-4 K   t-5 K   t-6 K   t-7 K   t-8 K  \\\n",
       "DATE                                                                         \n",
       "1950-01-11  270.75  278.75  280.15  278.35  275.45  270.15  273.05  276.05   \n",
       "1950-01-12  265.85  270.75  278.75  280.15  278.35  275.45  270.15  273.05   \n",
       "1950-01-13  273.15  265.85  270.75  278.75  280.15  278.35  275.45  270.15   \n",
       "1950-01-14  275.35  273.15  265.85  270.75  278.75  280.15  278.35  275.45   \n",
       "1950-01-15  278.05  275.35  273.15  265.85  270.75  278.75  280.15  278.35   \n",
       "1950-01-16  279.85  278.05  275.35  273.15  265.85  270.75  278.75  280.15   \n",
       "1950-01-17  277.95  279.85  278.05  275.35  273.15  265.85  270.75  278.75   \n",
       "1950-01-18  274.95  277.95  279.85  278.05  275.35  273.15  265.85  270.75   \n",
       "1950-01-19  267.75  274.95  277.95  279.85  278.05  275.35  273.15  265.85   \n",
       "1950-01-20  265.75  267.75  274.95  277.95  279.85  278.05  275.35  273.15   \n",
       "1950-01-21  267.05  265.75  267.75  274.95  277.95  279.85  278.05  275.35   \n",
       "1950-01-22  271.35  267.05  265.75  267.75  274.95  277.95  279.85  278.05   \n",
       "\n",
       "             t-9 K  t-10 K  \n",
       "DATE                        \n",
       "1950-01-11  274.15  269.65  \n",
       "1950-01-12  276.05  274.15  \n",
       "1950-01-13  273.05  276.05  \n",
       "1950-01-14  270.15  273.05  \n",
       "1950-01-15  275.45  270.15  \n",
       "1950-01-16  278.35  275.45  \n",
       "1950-01-17  280.15  278.35  \n",
       "1950-01-18  278.75  280.15  \n",
       "1950-01-19  270.75  278.75  \n",
       "1950-01-20  265.85  270.75  \n",
       "1950-01-21  273.15  265.85  \n",
       "1950-01-22  275.35  273.15  "
      ]
     },
     "execution_count": 21,
     "metadata": {},
     "output_type": "execute_result"
    }
   ],
   "source": [
    "X_train_fe.head(12)"
   ]
  },
  {
   "cell_type": "markdown",
   "metadata": {},
   "source": [
    "### Fit model"
   ]
  },
  {
   "cell_type": "code",
   "execution_count": 22,
   "metadata": {},
   "outputs": [
    {
     "data": {
      "text/plain": [
       "LinearRegression(copy_X=True, fit_intercept=True, n_jobs=None, normalize=False)"
      ]
     },
     "execution_count": 22,
     "metadata": {},
     "output_type": "execute_result"
    }
   ],
   "source": [
    "m = LinearRegression()\n",
    "m.fit(X_train_fe, df_train['Kelvin'][10:])\n",
    "#m.score(X_train_fe.dropna(), df_train['Kelvin'][3:])"
   ]
  },
  {
   "cell_type": "markdown",
   "metadata": {},
   "source": [
    "### Make predictions"
   ]
  },
  {
   "cell_type": "code",
   "execution_count": 23,
   "metadata": {},
   "outputs": [],
   "source": [
    "y_pred = m.predict(X_test_fe.dropna())"
   ]
  },
  {
   "cell_type": "code",
   "execution_count": 24,
   "metadata": {},
   "outputs": [
    {
     "data": {
      "text/html": [
       "<div>\n",
       "<style scoped>\n",
       "    .dataframe tbody tr th:only-of-type {\n",
       "        vertical-align: middle;\n",
       "    }\n",
       "\n",
       "    .dataframe tbody tr th {\n",
       "        vertical-align: top;\n",
       "    }\n",
       "\n",
       "    .dataframe thead th {\n",
       "        text-align: right;\n",
       "    }\n",
       "</style>\n",
       "<table border=\"1\" class=\"dataframe\">\n",
       "  <thead>\n",
       "    <tr style=\"text-align: right;\">\n",
       "      <th></th>\n",
       "      <th>True Kelvin</th>\n",
       "      <th>pred</th>\n",
       "    </tr>\n",
       "  </thead>\n",
       "  <tbody>\n",
       "    <tr>\n",
       "      <th>0</th>\n",
       "      <td>275.25</td>\n",
       "      <td>274.987278</td>\n",
       "    </tr>\n",
       "    <tr>\n",
       "      <th>1</th>\n",
       "      <td>279.25</td>\n",
       "      <td>276.128772</td>\n",
       "    </tr>\n",
       "    <tr>\n",
       "      <th>2</th>\n",
       "      <td>275.45</td>\n",
       "      <td>278.380821</td>\n",
       "    </tr>\n",
       "    <tr>\n",
       "      <th>3</th>\n",
       "      <td>276.45</td>\n",
       "      <td>279.117494</td>\n",
       "    </tr>\n",
       "    <tr>\n",
       "      <th>4</th>\n",
       "      <td>277.95</td>\n",
       "      <td>275.391545</td>\n",
       "    </tr>\n",
       "  </tbody>\n",
       "</table>\n",
       "</div>"
      ],
      "text/plain": [
       "   True Kelvin        pred\n",
       "0       275.25  274.987278\n",
       "1       279.25  276.128772\n",
       "2       275.45  278.380821\n",
       "3       276.45  279.117494\n",
       "4       277.95  275.391545"
      ]
     },
     "execution_count": 24,
     "metadata": {},
     "output_type": "execute_result"
    }
   ],
   "source": [
    "results10 = zip(df_test['Kelvin'][3:], y_pred)\n",
    "results10 = pd.DataFrame(results10)\n",
    "results10.columns = ['True Kelvin', 'pred']\n",
    "results10.head()"
   ]
  },
  {
   "cell_type": "code",
   "execution_count": 25,
   "metadata": {},
   "outputs": [
    {
     "data": {
      "text/plain": [
       "array([ 0.98166622, -0.21164493,  0.08170911,  0.01777334,  0.01341773,\n",
       "        0.01742565,  0.01066214,  0.0192736 ,  0.00497375,  0.03879032])"
      ]
     },
     "execution_count": 25,
     "metadata": {},
     "output_type": "execute_result"
    }
   ],
   "source": [
    "m.coef_"
   ]
  },
  {
   "cell_type": "markdown",
   "metadata": {},
   "source": [
    "### Score model"
   ]
  },
  {
   "cell_type": "code",
   "execution_count": 26,
   "metadata": {},
   "outputs": [
    {
     "data": {
      "text/plain": [
       "3.998705019535732"
      ]
     },
     "execution_count": 26,
     "metadata": {},
     "output_type": "execute_result"
    }
   ],
   "source": [
    "rmse = np.sqrt(mean_squared_error(results10['True Kelvin'], results10['pred']))\n",
    "rmse"
   ]
  },
  {
   "cell_type": "markdown",
   "metadata": {},
   "source": [
    "## Feature Engineer 3rd final model with 6 time lags"
   ]
  },
  {
   "cell_type": "code",
   "execution_count": 34,
   "metadata": {},
   "outputs": [
    {
     "name": "stdout",
     "output_type": "stream",
     "text": [
      "4. Feature Engineering...\n",
      "\n"
     ]
    },
    {
     "name": "stderr",
     "output_type": "stream",
     "text": [
      "/Users/rjt.weber/Documents/Work/SPICED/repo/logistic-lemongrass-student-code/week_05/functions.py:45: SettingWithCopyWarning: \n",
      "A value is trying to be set on a copy of a slice from a DataFrame.\n",
      "Try using .loc[row_indexer,col_indexer] = value instead\n",
      "\n",
      "See the caveats in the documentation: https://pandas.pydata.org/pandas-docs/stable/user_guide/indexing.html#returning-a-view-versus-a-copy\n",
      "  data['t-1 K'] = data['Kelvin'].shift(1)\n",
      "/Users/rjt.weber/Documents/Work/SPICED/repo/logistic-lemongrass-student-code/week_05/functions.py:46: SettingWithCopyWarning: \n",
      "A value is trying to be set on a copy of a slice from a DataFrame.\n",
      "Try using .loc[row_indexer,col_indexer] = value instead\n",
      "\n",
      "See the caveats in the documentation: https://pandas.pydata.org/pandas-docs/stable/user_guide/indexing.html#returning-a-view-versus-a-copy\n",
      "  data['t-2 K'] = data['Kelvin'].shift(2)\n",
      "/Users/rjt.weber/Documents/Work/SPICED/repo/logistic-lemongrass-student-code/week_05/functions.py:47: SettingWithCopyWarning: \n",
      "A value is trying to be set on a copy of a slice from a DataFrame.\n",
      "Try using .loc[row_indexer,col_indexer] = value instead\n",
      "\n",
      "See the caveats in the documentation: https://pandas.pydata.org/pandas-docs/stable/user_guide/indexing.html#returning-a-view-versus-a-copy\n",
      "  data['t-3 K'] = data['Kelvin'].shift(3)\n",
      "/Users/rjt.weber/Documents/Work/SPICED/repo/logistic-lemongrass-student-code/week_05/functions.py:48: SettingWithCopyWarning: \n",
      "A value is trying to be set on a copy of a slice from a DataFrame.\n",
      "Try using .loc[row_indexer,col_indexer] = value instead\n",
      "\n",
      "See the caveats in the documentation: https://pandas.pydata.org/pandas-docs/stable/user_guide/indexing.html#returning-a-view-versus-a-copy\n",
      "  data['t-4 K'] = data['Kelvin'].shift(4)\n",
      "/Users/rjt.weber/Documents/Work/SPICED/repo/logistic-lemongrass-student-code/week_05/functions.py:49: SettingWithCopyWarning: \n",
      "A value is trying to be set on a copy of a slice from a DataFrame.\n",
      "Try using .loc[row_indexer,col_indexer] = value instead\n",
      "\n",
      "See the caveats in the documentation: https://pandas.pydata.org/pandas-docs/stable/user_guide/indexing.html#returning-a-view-versus-a-copy\n",
      "  data['t-5 K'] = data['Kelvin'].shift(5)\n",
      "/Users/rjt.weber/Documents/Work/SPICED/repo/logistic-lemongrass-student-code/week_05/functions.py:50: SettingWithCopyWarning: \n",
      "A value is trying to be set on a copy of a slice from a DataFrame.\n",
      "Try using .loc[row_indexer,col_indexer] = value instead\n",
      "\n",
      "See the caveats in the documentation: https://pandas.pydata.org/pandas-docs/stable/user_guide/indexing.html#returning-a-view-versus-a-copy\n",
      "  data['t-6 K'] = data['Kelvin'].shift(6)\n"
     ]
    },
    {
     "data": {
      "text/html": [
       "<div>\n",
       "<style scoped>\n",
       "    .dataframe tbody tr th:only-of-type {\n",
       "        vertical-align: middle;\n",
       "    }\n",
       "\n",
       "    .dataframe tbody tr th {\n",
       "        vertical-align: top;\n",
       "    }\n",
       "\n",
       "    .dataframe thead th {\n",
       "        text-align: right;\n",
       "    }\n",
       "</style>\n",
       "<table border=\"1\" class=\"dataframe\">\n",
       "  <thead>\n",
       "    <tr style=\"text-align: right;\">\n",
       "      <th></th>\n",
       "      <th>t-1 K</th>\n",
       "      <th>t-2 K</th>\n",
       "      <th>t-3 K</th>\n",
       "      <th>t-4 K</th>\n",
       "      <th>t-5 K</th>\n",
       "      <th>t-6 K</th>\n",
       "    </tr>\n",
       "    <tr>\n",
       "      <th>DATE</th>\n",
       "      <th></th>\n",
       "      <th></th>\n",
       "      <th></th>\n",
       "      <th></th>\n",
       "      <th></th>\n",
       "      <th></th>\n",
       "    </tr>\n",
       "  </thead>\n",
       "  <tbody>\n",
       "    <tr>\n",
       "      <th>1950-01-07</th>\n",
       "      <td>275.45</td>\n",
       "      <td>270.15</td>\n",
       "      <td>273.05</td>\n",
       "      <td>276.05</td>\n",
       "      <td>274.15</td>\n",
       "      <td>269.65</td>\n",
       "    </tr>\n",
       "    <tr>\n",
       "      <th>1950-01-08</th>\n",
       "      <td>278.35</td>\n",
       "      <td>275.45</td>\n",
       "      <td>270.15</td>\n",
       "      <td>273.05</td>\n",
       "      <td>276.05</td>\n",
       "      <td>274.15</td>\n",
       "    </tr>\n",
       "    <tr>\n",
       "      <th>1950-01-09</th>\n",
       "      <td>280.15</td>\n",
       "      <td>278.35</td>\n",
       "      <td>275.45</td>\n",
       "      <td>270.15</td>\n",
       "      <td>273.05</td>\n",
       "      <td>276.05</td>\n",
       "    </tr>\n",
       "    <tr>\n",
       "      <th>1950-01-10</th>\n",
       "      <td>278.75</td>\n",
       "      <td>280.15</td>\n",
       "      <td>278.35</td>\n",
       "      <td>275.45</td>\n",
       "      <td>270.15</td>\n",
       "      <td>273.05</td>\n",
       "    </tr>\n",
       "    <tr>\n",
       "      <th>1950-01-11</th>\n",
       "      <td>270.75</td>\n",
       "      <td>278.75</td>\n",
       "      <td>280.15</td>\n",
       "      <td>278.35</td>\n",
       "      <td>275.45</td>\n",
       "      <td>270.15</td>\n",
       "    </tr>\n",
       "    <tr>\n",
       "      <th>1950-01-12</th>\n",
       "      <td>265.85</td>\n",
       "      <td>270.75</td>\n",
       "      <td>278.75</td>\n",
       "      <td>280.15</td>\n",
       "      <td>278.35</td>\n",
       "      <td>275.45</td>\n",
       "    </tr>\n",
       "  </tbody>\n",
       "</table>\n",
       "</div>"
      ],
      "text/plain": [
       "             t-1 K   t-2 K   t-3 K   t-4 K   t-5 K   t-6 K\n",
       "DATE                                                      \n",
       "1950-01-07  275.45  270.15  273.05  276.05  274.15  269.65\n",
       "1950-01-08  278.35  275.45  270.15  273.05  276.05  274.15\n",
       "1950-01-09  280.15  278.35  275.45  270.15  273.05  276.05\n",
       "1950-01-10  278.75  280.15  278.35  275.45  270.15  273.05\n",
       "1950-01-11  270.75  278.75  280.15  278.35  275.45  270.15\n",
       "1950-01-12  265.85  270.75  278.75  280.15  278.35  275.45"
      ]
     },
     "execution_count": 34,
     "metadata": {},
     "output_type": "execute_result"
    }
   ],
   "source": [
    "X_train_fe = func.feature_engineer_Kelvin6(df_train)\n",
    "X_test_fe = func.feature_engineer_Kelvin6(df_test)\n",
    "X_train_fe.head(6)"
   ]
  },
  {
   "cell_type": "markdown",
   "metadata": {},
   "source": [
    "### Fit final model"
   ]
  },
  {
   "cell_type": "code",
   "execution_count": 35,
   "metadata": {},
   "outputs": [
    {
     "data": {
      "text/plain": [
       "LinearRegression(copy_X=True, fit_intercept=True, n_jobs=None, normalize=False)"
      ]
     },
     "execution_count": 35,
     "metadata": {},
     "output_type": "execute_result"
    }
   ],
   "source": [
    "m = LinearRegression()\n",
    "m.fit(X_train_fe, df_train['Kelvin'][6:])\n",
    "#m.score(X_train_fe.dropna(), df_train['Kelvin'][3:])"
   ]
  },
  {
   "cell_type": "markdown",
   "metadata": {},
   "source": [
    "### Make predictions"
   ]
  },
  {
   "cell_type": "code",
   "execution_count": 36,
   "metadata": {},
   "outputs": [
    {
     "data": {
      "text/html": [
       "<div>\n",
       "<style scoped>\n",
       "    .dataframe tbody tr th:only-of-type {\n",
       "        vertical-align: middle;\n",
       "    }\n",
       "\n",
       "    .dataframe tbody tr th {\n",
       "        vertical-align: top;\n",
       "    }\n",
       "\n",
       "    .dataframe thead th {\n",
       "        text-align: right;\n",
       "    }\n",
       "</style>\n",
       "<table border=\"1\" class=\"dataframe\">\n",
       "  <thead>\n",
       "    <tr style=\"text-align: right;\">\n",
       "      <th></th>\n",
       "      <th>True Kelvin</th>\n",
       "      <th>pred</th>\n",
       "    </tr>\n",
       "  </thead>\n",
       "  <tbody>\n",
       "    <tr>\n",
       "      <th>0</th>\n",
       "      <td>276.45</td>\n",
       "      <td>275.093300</td>\n",
       "    </tr>\n",
       "    <tr>\n",
       "      <th>1</th>\n",
       "      <td>277.95</td>\n",
       "      <td>276.947298</td>\n",
       "    </tr>\n",
       "    <tr>\n",
       "      <th>2</th>\n",
       "      <td>275.35</td>\n",
       "      <td>277.877934</td>\n",
       "    </tr>\n",
       "    <tr>\n",
       "      <th>3</th>\n",
       "      <td>274.35</td>\n",
       "      <td>275.164333</td>\n",
       "    </tr>\n",
       "    <tr>\n",
       "      <th>4</th>\n",
       "      <td>275.65</td>\n",
       "      <td>275.112587</td>\n",
       "    </tr>\n",
       "  </tbody>\n",
       "</table>\n",
       "</div>"
      ],
      "text/plain": [
       "   True Kelvin        pred\n",
       "0       276.45  275.093300\n",
       "1       277.95  276.947298\n",
       "2       275.35  277.877934\n",
       "3       274.35  275.164333\n",
       "4       275.65  275.112587"
      ]
     },
     "execution_count": 36,
     "metadata": {},
     "output_type": "execute_result"
    }
   ],
   "source": [
    "y_pred = m.predict(X_test_fe.dropna())\n",
    "results6 = zip(df_test['Kelvin'][6:], y_pred)\n",
    "results6 = pd.DataFrame(results6)\n",
    "results6.columns = ['True Kelvin', 'pred']\n",
    "results6.head()"
   ]
  },
  {
   "cell_type": "markdown",
   "metadata": {},
   "source": [
    "### Score final model"
   ]
  },
  {
   "cell_type": "code",
   "execution_count": 37,
   "metadata": {},
   "outputs": [
    {
     "data": {
      "text/plain": [
       "2.203184813258308"
      ]
     },
     "execution_count": 37,
     "metadata": {},
     "output_type": "execute_result"
    }
   ],
   "source": [
    "rmse = np.sqrt(mean_squared_error(results6['True Kelvin'], results6['pred']))\n",
    "rmse"
   ]
  },
  {
   "cell_type": "markdown",
   "metadata": {},
   "source": [
    "### Are autocorrelations of detrended + deseasonlized temperatures a measure of predictability?"
   ]
  },
  {
   "cell_type": "markdown",
   "metadata": {},
   "source": [
    "### January"
   ]
  },
  {
   "cell_type": "code",
   "execution_count": 28,
   "metadata": {},
   "outputs": [
    {
     "name": "stdout",
     "output_type": "stream",
     "text": [
      "Figure(864x432)\n"
     ]
    },
    {
     "data": {
      "image/png": "[encoded data removed]",
      "text/plain": [
       "<Figure size 864x432 with 1 Axes>"
      ]
     },
     "metadata": {
      "needs_background": "light"
     },
     "output_type": "display_data"
    }
   ],
   "source": [
    "print(plot_acf(df_train[df_train['month'] == 1]['pct_stationary'], lags=10))"
   ]
  },
  {
   "cell_type": "markdown",
   "metadata": {},
   "source": [
    "### March"
   ]
  },
  {
   "cell_type": "code",
   "execution_count": 29,
   "metadata": {},
   "outputs": [
    {
     "name": "stdout",
     "output_type": "stream",
     "text": [
      "Figure(864x432)\n"
     ]
    },
    {
     "data": {
      "image/png": "[encoded data removed]",
      "text/plain": [
       "<Figure size 864x432 with 1 Axes>"
      ]
     },
     "metadata": {
      "needs_background": "light"
     },
     "output_type": "display_data"
    }
   ],
   "source": [
    "print(plot_acf(df_train[df_train['month'] == 3]['pct_stationary'], lags=10))"
   ]
  },
  {
   "cell_type": "markdown",
   "metadata": {},
   "source": [
    "### May"
   ]
  },
  {
   "cell_type": "code",
   "execution_count": 30,
   "metadata": {},
   "outputs": [
    {
     "name": "stdout",
     "output_type": "stream",
     "text": [
      "Figure(864x432)\n"
     ]
    },
    {
     "data": {
      "image/png": "[encoded data removed]",
      "text/plain": [
       "<Figure size 864x432 with 1 Axes>"
      ]
     },
     "metadata": {
      "needs_background": "light"
     },
     "output_type": "display_data"
    }
   ],
   "source": [
    "print(plot_acf(df_train[df_train['month'] == 5]['pct_stationary'], lags=10))"
   ]
  },
  {
   "cell_type": "markdown",
   "metadata": {},
   "source": [
    "### August"
   ]
  },
  {
   "cell_type": "code",
   "execution_count": 31,
   "metadata": {},
   "outputs": [
    {
     "name": "stdout",
     "output_type": "stream",
     "text": [
      "Figure(864x432)\n"
     ]
    },
    {
     "data": {
      "image/png": "[encoded data removed]",
      "text/plain": [
       "<Figure size 864x432 with 1 Axes>"
      ]
     },
     "metadata": {
      "needs_background": "light"
     },
     "output_type": "display_data"
    }
   ],
   "source": [
    "print(plot_acf(df_train[df_train['month'] == 8]['pct_stationary'], lags=10))"
   ]
  },
  {
   "cell_type": "markdown",
   "metadata": {},
   "source": [
    "### December"
   ]
  },
  {
   "cell_type": "code",
   "execution_count": 32,
   "metadata": {},
   "outputs": [
    {
     "name": "stdout",
     "output_type": "stream",
     "text": [
      "Figure(864x432)\n"
     ]
    },
    {
     "data": {
      "image/png": "[encoded data removed]",
      "text/plain": [
       "<Figure size 864x432 with 1 Axes>"
      ]
     },
     "metadata": {
      "needs_background": "light"
     },
     "output_type": "display_data"
    }
   ],
   "source": [
    "print(plot_acf(df_train[df_train['month'] == 12]['pct_stationary'], lags=10))"
   ]
  },
  {
   "cell_type": "markdown",
   "metadata": {},
   "source": [
    "### Conclusions\n",
    "- No added value by adding time lags indefinately\n",
    "- Time lags should likely correspond to white noise predictability \n",
    "    - physical restraints, e.g. chaotic atmosphere \n",
    "    - rate of error growth\n",
    "- Predictability itself can be time and location dependent\n",
    "- Accuracy of the initial condition (observation) also plays a role"
   ]
  },
  {
   "cell_type": "code",
   "execution_count": null,
   "metadata": {},
   "outputs": [],
   "source": []
  },
  {
   "cell_type": "code",
   "execution_count": null,
   "metadata": {},
   "outputs": [],
   "source": []
  },
  {
   "cell_type": "code",
   "execution_count": null,
   "metadata": {},
   "outputs": [],
   "source": []
  }
 ],
 "metadata": {
  "kernelspec": {
   "display_name": "Python 3",
   "language": "python",
   "name": "python3"
  },
  "language_info": {
   "codemirror_mode": {
    "name": "ipython",
    "version": 3
   },
   "file_extension": ".py",
   "mimetype": "text/x-python",
   "name": "python",
   "nbconvert_exporter": "python",
   "pygments_lexer": "ipython3",
   "version": "3.7.6"
  }
 },
 "nbformat": 4,
 "nbformat_minor": 4
}
