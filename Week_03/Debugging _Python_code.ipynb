{
 "cells": [
  {
   "cell_type": "code",
   "execution_count": 1,
   "metadata": {},
   "outputs": [],
   "source": [
    "import json\n",
    "import pandas as pd"
   ]
  },
  {
   "cell_type": "code",
   "execution_count": null,
   "metadata": {},
   "outputs": [],
   "source": [
    "'''def is_answer(node):\n",
    "    return len(node) == 1\n",
    "\n",
    "\n",
    "f = open('quetions.json')\n",
    "content = f.read\n",
    "node = json.reads(content)\n",
    "\n",
    "finished = False\n",
    "\n",
    "while not finished\n",
    "    print(node['text']\n",
    "\n",
    "if is_answer_node(node):\n",
    "    finished = True\n",
    "else:\n",
    "    answer == input()\n",
    "    if answer.upper() in ['yes', 'y']:\n",
    "        node = node['no']\n",
    "    else:\n",
    "        node = node['yes']'''"
   ]
  },
  {
   "cell_type": "code",
   "execution_count": 2,
   "metadata": {},
   "outputs": [],
   "source": [
    "def is_answer(node):\n",
    "    return len(node) == 1"
   ]
  },
  {
   "cell_type": "code",
   "execution_count": 17,
   "metadata": {},
   "outputs": [],
   "source": [
    "f = open('/Users/braulio/Downloads/questions.json')\n",
    "node = json.load(f)"
   ]
  },
  {
   "cell_type": "code",
   "execution_count": 25,
   "metadata": {},
   "outputs": [],
   "source": [
    "finished = False"
   ]
  },
  {
   "cell_type": "code",
   "execution_count": 34,
   "metadata": {},
   "outputs": [
    {
     "name": "stdout",
     "output_type": "stream",
     "text": [
      "Can it fly?\n",
      "yes\n",
      "Does it have feathers?\n",
      "yes\n",
      "Does it sometimes live in water?\n",
      "yes\n",
      "Does it eat fish?\n",
      "yes\n",
      "Does it have long legs?\n",
      "no\n",
      "Does it have a small beak?\n",
      "yes\n",
      "Does it have different colors?\n",
      "yes\n",
      "Does it live in a cold environment?\n",
      "yes\n",
      "Does it have a colorful beak?\n",
      "yes\n",
      "Does it look a lot like a goose?\n",
      "no\n",
      "Does it live in the South Pole?\n",
      "yes\n",
      "penguin\n"
     ]
    }
   ],
   "source": [
    "while not finished:\n",
    "    print(node['text'])\n",
    "\n",
    "    if is_answer(node):\n",
    "        finished = True\n",
    "    else:\n",
    "        answer = input()\n",
    "        if answer.upper() in ['YES', 'Y']:\n",
    "            node = node['yes']\n",
    "        else:\n",
    "            node = node['no']"
   ]
  },
  {
   "cell_type": "code",
   "execution_count": null,
   "metadata": {},
   "outputs": [],
   "source": []
  }
 ],
 "metadata": {
  "kernelspec": {
   "display_name": "Python 3",
   "language": "python",
   "name": "python3"
  },
  "language_info": {
   "codemirror_mode": {
    "name": "ipython",
    "version": 3
   },
   "file_extension": ".py",
   "mimetype": "text/x-python",
   "name": "python",
   "nbconvert_exporter": "python",
   "pygments_lexer": "ipython3",
   "version": "3.7.6"
  }
 },
 "nbformat": 4,
 "nbformat_minor": 4
}
