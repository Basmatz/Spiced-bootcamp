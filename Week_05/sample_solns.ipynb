{
 "cells": [
  {
   "cell_type": "markdown",
   "metadata": {},
   "source": [
    "---\n",
    "### Sample Solutions for Temperature Forecast Project\n",
    "1. **Baseline Model**\n",
    "2. **FB Prophet**\n",
    "\n",
    "---"
   ]
  },
  {
   "cell_type": "markdown",
   "metadata": {},
   "source": [
    "### 1. Making a simple, baseline model\n",
    "- Only by using monthly means of temperature differences\n",
    "    - i.e. only by decomposing trend and seasonality.\n",
    "- Cons:\n",
    "    - Does not model time dependence.\n",
    "    - Does not model any remainder (i.e. noise / volatility).\n",
    "- Pros:\n",
    "    - Simple reconstruction of trend and seasonality; fairly explainable!"
   ]
  },
  {
   "cell_type": "markdown",
   "metadata": {},
   "source": [
    "- **DISCLAIMER:** notebook is based off code written by a former spiced student. \n",
    "    - Please avoid copying this explicitly (or publishing it online), but merely use it as a reference / borrow some ideas or snippets from it, if you wish."
   ]
  },
  {
   "cell_type": "markdown",
   "metadata": {},
   "source": [
    "---"
   ]
  },
  {
   "cell_type": "code",
   "execution_count": 3,
   "metadata": {},
   "outputs": [],
   "source": [
    "import pandas as pd\n",
    "import matplotlib.pyplot as plt\n",
    "import numpy as np\n",
    "from sklearn.metrics import r2_score"
   ]
  },
  {
   "cell_type": "markdown",
   "metadata": {},
   "source": [
    "#### a. Read data from Berkeley Earth"
   ]
  },
  {
   "cell_type": "code",
   "execution_count": 4,
   "metadata": {},
   "outputs": [
    {
     "name": "stderr",
     "output_type": "stream",
     "text": [
      "<ipython-input-4-c415b11caa2b>:2: ParserWarning: Falling back to the 'python' engine because the 'c' engine does not support skipfooter; you can avoid this warning by specifying engine='python'.\n",
      "  data_raw = pd.read_csv('165911-TAVG-Data.txt', sep='\\s+', comment='%', header=None, skiprows=102, skipfooter=10)\n"
     ]
    }
   ],
   "source": [
    "##### BERLIN TEMPELHOF\n",
    "data_raw = pd.read_csv('165911-TAVG-Data.txt', sep='\\s+', comment='%', header=None, skiprows=102, skipfooter=10)\n",
    "data_raw.columns = pd.read_csv('165911-TAVG-Data.txt', nrows=0, skiprows=87, skipinitialspace=True).columns\n",
    "data_raw.rename(columns={data_raw.columns[0] : data_raw.columns[0].replace('%','').strip()}, inplace=True)"
   ]
  },
  {
   "cell_type": "markdown",
   "metadata": {},
   "source": [
    "#### b. Clean / Augment Data"
   ]
  },
  {
   "cell_type": "code",
   "execution_count": 5,
   "metadata": {},
   "outputs": [],
   "source": [
    "data_raw['Date'] = pd.to_datetime(dict(year=data_raw['Year'], month=data_raw['Month'], day=1))\n",
    "data_raw['Temperature'] = data_raw['Temperature'].fillna(method='bfill')\n",
    "data_raw = data_raw[['Date', 'Year', 'Month', 'Temperature']]"
   ]
  },
  {
   "cell_type": "code",
   "execution_count": 37,
   "metadata": {},
   "outputs": [
    {
     "data": {
      "text/plain": "0.0"
     },
     "execution_count": 37,
     "metadata": {},
     "output_type": "execute_result"
    }
   ],
   "source": [
    "data_raw[\"Temperature\"].min()"
   ]
  },
  {
   "cell_type": "markdown",
   "metadata": {},
   "source": [
    "#### c. Split Data"
   ]
  },
  {
   "cell_type": "code",
   "execution_count": 7,
   "metadata": {},
   "outputs": [],
   "source": [
    "#Use the last 120 data points (=10 years) for testing.\n",
    "y_train = data_raw.iloc[:-120].reset_index(drop=True) #Jan 1756 - Dec 2002\n",
    "y_test = data_raw.iloc[-120:].reset_index(drop=True) # Jan 2003 - Dec 2012"
   ]
  },
  {
   "cell_type": "code",
   "execution_count": 8,
   "metadata": {},
   "outputs": [
    {
     "data": {
      "text/plain": "          Date  Year  Month  Temperature\n618 2002-08-01  2002      8         32.4\n619 2002-09-01  2002      9         32.4\n620 2002-10-01  2002     10         32.4\n621 2002-11-01  2002     11         32.4\n622 2002-12-01  2002     12         32.4",
      "text/html": "<div>\n<style scoped>\n    .dataframe tbody tr th:only-of-type {\n        vertical-align: middle;\n    }\n\n    .dataframe tbody tr th {\n        vertical-align: top;\n    }\n\n    .dataframe thead th {\n        text-align: right;\n    }\n</style>\n<table border=\"1\" class=\"dataframe\">\n  <thead>\n    <tr style=\"text-align: right;\">\n      <th></th>\n      <th>Date</th>\n      <th>Year</th>\n      <th>Month</th>\n      <th>Temperature</th>\n    </tr>\n  </thead>\n  <tbody>\n    <tr>\n      <th>618</th>\n      <td>2002-08-01</td>\n      <td>2002</td>\n      <td>8</td>\n      <td>32.4</td>\n    </tr>\n    <tr>\n      <th>619</th>\n      <td>2002-09-01</td>\n      <td>2002</td>\n      <td>9</td>\n      <td>32.4</td>\n    </tr>\n    <tr>\n      <th>620</th>\n      <td>2002-10-01</td>\n      <td>2002</td>\n      <td>10</td>\n      <td>32.4</td>\n    </tr>\n    <tr>\n      <th>621</th>\n      <td>2002-11-01</td>\n      <td>2002</td>\n      <td>11</td>\n      <td>32.4</td>\n    </tr>\n    <tr>\n      <th>622</th>\n      <td>2002-12-01</td>\n      <td>2002</td>\n      <td>12</td>\n      <td>32.4</td>\n    </tr>\n  </tbody>\n</table>\n</div>"
     },
     "execution_count": 8,
     "metadata": {},
     "output_type": "execute_result"
    }
   ],
   "source": [
    "y_train.tail()"
   ]
  },
  {
   "cell_type": "markdown",
   "metadata": {},
   "source": [
    "#### d. Remove the trend (difference the temperature column)"
   ]
  },
  {
   "cell_type": "code",
   "execution_count": 9,
   "metadata": {},
   "outputs": [],
   "source": [
    "#Apply to training\n",
    "y_train['Temp_diff'] = y_train['Temperature'].diff().fillna(0.0)\n"
   ]
  },
  {
   "cell_type": "code",
   "execution_count": 10,
   "metadata": {},
   "outputs": [
    {
     "data": {
      "text/plain": "          Date  Year  Month  Temperature  Temp_diff\n620 2002-10-01  2002     10         32.4        0.0\n621 2002-11-01  2002     11         32.4        0.0\n622 2002-12-01  2002     12         32.4        0.0",
      "text/html": "<div>\n<style scoped>\n    .dataframe tbody tr th:only-of-type {\n        vertical-align: middle;\n    }\n\n    .dataframe tbody tr th {\n        vertical-align: top;\n    }\n\n    .dataframe thead th {\n        text-align: right;\n    }\n</style>\n<table border=\"1\" class=\"dataframe\">\n  <thead>\n    <tr style=\"text-align: right;\">\n      <th></th>\n      <th>Date</th>\n      <th>Year</th>\n      <th>Month</th>\n      <th>Temperature</th>\n      <th>Temp_diff</th>\n    </tr>\n  </thead>\n  <tbody>\n    <tr>\n      <th>620</th>\n      <td>2002-10-01</td>\n      <td>2002</td>\n      <td>10</td>\n      <td>32.4</td>\n      <td>0.0</td>\n    </tr>\n    <tr>\n      <th>621</th>\n      <td>2002-11-01</td>\n      <td>2002</td>\n      <td>11</td>\n      <td>32.4</td>\n      <td>0.0</td>\n    </tr>\n    <tr>\n      <th>622</th>\n      <td>2002-12-01</td>\n      <td>2002</td>\n      <td>12</td>\n      <td>32.4</td>\n      <td>0.0</td>\n    </tr>\n  </tbody>\n</table>\n</div>"
     },
     "execution_count": 10,
     "metadata": {},
     "output_type": "execute_result"
    }
   ],
   "source": [
    "y_train.tail(3)"
   ]
  },
  {
   "cell_type": "markdown",
   "metadata": {},
   "source": [
    "#### e. Extract the Seasonality (from the de-trended data)"
   ]
  },
  {
   "cell_type": "code",
   "execution_count": 11,
   "metadata": {},
   "outputs": [],
   "source": [
    "y_train['month_means'] = y_train.groupby('Month')['Temp_diff'].transform('mean')"
   ]
  },
  {
   "cell_type": "code",
   "execution_count": 12,
   "metadata": {},
   "outputs": [
    {
     "data": {
      "text/plain": "          Date  Year  Month  Temperature  Temp_diff  month_means\n620 2002-10-01  2002     10         32.4        0.0     0.509923\n621 2002-11-01  2002     11         32.4        0.0    -0.075000\n622 2002-12-01  2002     12         32.4        0.0    -0.319635",
      "text/html": "<div>\n<style scoped>\n    .dataframe tbody tr th:only-of-type {\n        vertical-align: middle;\n    }\n\n    .dataframe tbody tr th {\n        vertical-align: top;\n    }\n\n    .dataframe thead th {\n        text-align: right;\n    }\n</style>\n<table border=\"1\" class=\"dataframe\">\n  <thead>\n    <tr style=\"text-align: right;\">\n      <th></th>\n      <th>Date</th>\n      <th>Year</th>\n      <th>Month</th>\n      <th>Temperature</th>\n      <th>Temp_diff</th>\n      <th>month_means</th>\n    </tr>\n  </thead>\n  <tbody>\n    <tr>\n      <th>620</th>\n      <td>2002-10-01</td>\n      <td>2002</td>\n      <td>10</td>\n      <td>32.4</td>\n      <td>0.0</td>\n      <td>0.509923</td>\n    </tr>\n    <tr>\n      <th>621</th>\n      <td>2002-11-01</td>\n      <td>2002</td>\n      <td>11</td>\n      <td>32.4</td>\n      <td>0.0</td>\n      <td>-0.075000</td>\n    </tr>\n    <tr>\n      <th>622</th>\n      <td>2002-12-01</td>\n      <td>2002</td>\n      <td>12</td>\n      <td>32.4</td>\n      <td>0.0</td>\n      <td>-0.319635</td>\n    </tr>\n  </tbody>\n</table>\n</div>"
     },
     "execution_count": 12,
     "metadata": {},
     "output_type": "execute_result"
    }
   ],
   "source": [
    "y_train.tail(3)"
   ]
  },
  {
   "cell_type": "markdown",
   "metadata": {},
   "source": [
    "#### f. Re-construct the time series by taking the cumulative product of the monthly means.\n",
    "- However, the trick is to make sure that the cumulative sum is based off the original temperature value, so the scale makes sense."
   ]
  },
  {
   "cell_type": "code",
   "execution_count": 13,
   "metadata": {},
   "outputs": [],
   "source": [
    "y0_train = y_train.iloc[0]['Temperature']"
   ]
  },
  {
   "cell_type": "code",
   "execution_count": 14,
   "metadata": {},
   "outputs": [
    {
     "data": {
      "text/plain": "25.5"
     },
     "execution_count": 14,
     "metadata": {},
     "output_type": "execute_result"
    }
   ],
   "source": [
    "y0_train"
   ]
  },
  {
   "cell_type": "code",
   "execution_count": 15,
   "metadata": {},
   "outputs": [],
   "source": [
    "y_train.loc[0,'month_means'] = y0_train \n",
    "\n",
    "#replaces the first point with the real value, so the cumulative sum can be built off of this.\n",
    "y_train['Prediction'] = np.cumsum(y_train['month_means'])"
   ]
  },
  {
   "cell_type": "code",
   "execution_count": 16,
   "metadata": {},
   "outputs": [
    {
     "data": {
      "text/plain": "        Date  Year  Month  Temperature  Temp_diff  month_means  Prediction\n0 1951-02-01  1951      2         25.5        0.0    25.500000   25.500000\n1 1951-03-01  1951      3         25.8        0.3     0.372673   25.872673\n2 1951-04-01  1951      4         26.7        0.9    -0.041500   25.831173\n3 1951-05-01  1951      5         25.9       -0.8    -0.119019   25.712154\n4 1951-06-01  1951      6         25.3       -0.6    -0.406635   25.305519",
      "text/html": "<div>\n<style scoped>\n    .dataframe tbody tr th:only-of-type {\n        vertical-align: middle;\n    }\n\n    .dataframe tbody tr th {\n        vertical-align: top;\n    }\n\n    .dataframe thead th {\n        text-align: right;\n    }\n</style>\n<table border=\"1\" class=\"dataframe\">\n  <thead>\n    <tr style=\"text-align: right;\">\n      <th></th>\n      <th>Date</th>\n      <th>Year</th>\n      <th>Month</th>\n      <th>Temperature</th>\n      <th>Temp_diff</th>\n      <th>month_means</th>\n      <th>Prediction</th>\n    </tr>\n  </thead>\n  <tbody>\n    <tr>\n      <th>0</th>\n      <td>1951-02-01</td>\n      <td>1951</td>\n      <td>2</td>\n      <td>25.5</td>\n      <td>0.0</td>\n      <td>25.500000</td>\n      <td>25.500000</td>\n    </tr>\n    <tr>\n      <th>1</th>\n      <td>1951-03-01</td>\n      <td>1951</td>\n      <td>3</td>\n      <td>25.8</td>\n      <td>0.3</td>\n      <td>0.372673</td>\n      <td>25.872673</td>\n    </tr>\n    <tr>\n      <th>2</th>\n      <td>1951-04-01</td>\n      <td>1951</td>\n      <td>4</td>\n      <td>26.7</td>\n      <td>0.9</td>\n      <td>-0.041500</td>\n      <td>25.831173</td>\n    </tr>\n    <tr>\n      <th>3</th>\n      <td>1951-05-01</td>\n      <td>1951</td>\n      <td>5</td>\n      <td>25.9</td>\n      <td>-0.8</td>\n      <td>-0.119019</td>\n      <td>25.712154</td>\n    </tr>\n    <tr>\n      <th>4</th>\n      <td>1951-06-01</td>\n      <td>1951</td>\n      <td>6</td>\n      <td>25.3</td>\n      <td>-0.6</td>\n      <td>-0.406635</td>\n      <td>25.305519</td>\n    </tr>\n  </tbody>\n</table>\n</div>"
     },
     "execution_count": 16,
     "metadata": {},
     "output_type": "execute_result"
    }
   ],
   "source": [
    "y_train.head()"
   ]
  },
  {
   "cell_type": "markdown",
   "metadata": {},
   "source": [
    "### g. Apply the same technique to the testing data set!\n",
    "- The key, however, is that you use the data (month_means) that were learned from the training data!"
   ]
  },
  {
   "cell_type": "code",
   "execution_count": 17,
   "outputs": [
    {
     "data": {
      "text/plain": "0     1951-02-01\n1     1951-03-01\n2     1951-04-01\n3     1951-05-01\n4     1951-06-01\n         ...    \n116   1960-10-01\n117   1960-11-01\n118   1960-12-01\n119   1961-01-01\n120   1961-02-01\nName: Date, Length: 121, dtype: datetime64[ns]"
     },
     "execution_count": 17,
     "metadata": {},
     "output_type": "execute_result"
    }
   ],
   "source": [
    "y_train.loc[0:120,'Date']"
   ],
   "metadata": {
    "collapsed": false,
    "pycharm": {
     "name": "#%%\n"
    }
   }
  },
  {
   "cell_type": "code",
   "execution_count": 18,
   "metadata": {},
   "outputs": [
    {
     "data": {
      "text/plain": "32.4"
     },
     "execution_count": 18,
     "metadata": {},
     "output_type": "execute_result"
    }
   ],
   "source": [
    "y_test.loc[0,'Temperature']"
   ]
  },
  {
   "cell_type": "code",
   "execution_count": 19,
   "outputs": [],
   "source": [
    "\n",
    "#Do the same to testing\n",
    "y_test['month_means'] = y_train.loc[0:120,'month_means']\n",
    "#use the monthly means from the training data, however!\n",
    "\n",
    "y_test.loc[0,'month_means'] = y_test.loc[0,'Temperature']\n",
    "#replaces the first point with the real value, so the cumulative sum can be built off of this.\n",
    "\n",
    "y_test['Prediction'] = np.cumsum(y_test['month_means'])"
   ],
   "metadata": {
    "collapsed": false,
    "pycharm": {
     "name": "#%%\n"
    }
   }
  },
  {
   "cell_type": "code",
   "execution_count": 20,
   "metadata": {},
   "outputs": [
    {
     "name": "stdout",
     "output_type": "stream",
     "text": [
      "Test Score: -1.8341469825939773\n"
     ]
    },
    {
     "data": {
      "text/plain": "<Figure size 576x432 with 1 Axes>",
      "image/png": "[encoded data removed]"
     },
     "metadata": {
      "needs_background": "light"
     },
     "output_type": "display_data"
    }
   ],
   "source": [
    "plt.figure(figsize=(8, 6))\n",
    "plt.plot_date(y_test['Date'],y_test['Temperature'],'r-')\n",
    "plt.plot_date(y_test['Date'],y_test['Prediction'],'b-')\n",
    "plt.legend(['Actual Temperature', 'Naive Forecast'])\n",
    "\n",
    "print(f\"Test Score: {r2_score(y_test['Temperature'], y_test['Prediction'])}\")"
   ]
  },
  {
   "cell_type": "markdown",
   "metadata": {},
   "source": [
    "#### h. Extending this model / technique into the future:\n",
    "- Now that we have a proof of concept that we can replicate the behavior of the trend / seasonality pretty well, let's apply it to the full data set and extend it out into the future.\n",
    "- Let's predict 30 years into the future\n",
    "- Create a **\"future dataframe\"**\n",
    "    - **KEY**: Make the first day of the *future dataframe* the last day of our *known dataset* (i.e. y_test)"
   ]
  },
  {
   "cell_type": "code",
   "execution_count": 21,
   "metadata": {},
   "outputs": [],
   "source": [
    "yrs = 30\n",
    "y_future = pd.DataFrame(index = pd.date_range(start='Dec 2012', periods = 12*yrs, freq='MS'),\n",
    "             data=[0]*12*yrs,\n",
    "             columns=['month_means'])"
   ]
  },
  {
   "cell_type": "code",
   "execution_count": 22,
   "metadata": {},
   "outputs": [
    {
     "data": {
      "text/plain": "            month_means\n2012-12-01            0\n2013-01-01            0\n2013-02-01            0\n2013-03-01            0\n2013-04-01            0\n...                 ...\n2042-07-01            0\n2042-08-01            0\n2042-09-01            0\n2042-10-01            0\n2042-11-01            0\n\n[360 rows x 1 columns]",
      "text/html": "<div>\n<style scoped>\n    .dataframe tbody tr th:only-of-type {\n        vertical-align: middle;\n    }\n\n    .dataframe tbody tr th {\n        vertical-align: top;\n    }\n\n    .dataframe thead th {\n        text-align: right;\n    }\n</style>\n<table border=\"1\" class=\"dataframe\">\n  <thead>\n    <tr style=\"text-align: right;\">\n      <th></th>\n      <th>month_means</th>\n    </tr>\n  </thead>\n  <tbody>\n    <tr>\n      <th>2012-12-01</th>\n      <td>0</td>\n    </tr>\n    <tr>\n      <th>2013-01-01</th>\n      <td>0</td>\n    </tr>\n    <tr>\n      <th>2013-02-01</th>\n      <td>0</td>\n    </tr>\n    <tr>\n      <th>2013-03-01</th>\n      <td>0</td>\n    </tr>\n    <tr>\n      <th>2013-04-01</th>\n      <td>0</td>\n    </tr>\n    <tr>\n      <th>...</th>\n      <td>...</td>\n    </tr>\n    <tr>\n      <th>2042-07-01</th>\n      <td>0</td>\n    </tr>\n    <tr>\n      <th>2042-08-01</th>\n      <td>0</td>\n    </tr>\n    <tr>\n      <th>2042-09-01</th>\n      <td>0</td>\n    </tr>\n    <tr>\n      <th>2042-10-01</th>\n      <td>0</td>\n    </tr>\n    <tr>\n      <th>2042-11-01</th>\n      <td>0</td>\n    </tr>\n  </tbody>\n</table>\n<p>360 rows × 1 columns</p>\n</div>"
     },
     "execution_count": 22,
     "metadata": {},
     "output_type": "execute_result"
    }
   ],
   "source": [
    "y_future \n",
    "#at this point, y_future only contains 1 column (month_means), which is just filled in with zeros"
   ]
  },
  {
   "cell_type": "markdown",
   "metadata": {},
   "source": [
    "#### i. Make the first value of the future dataset the same as the last value in the known dataset\n",
    "- Our known dataset (y_test) ends in **December 2012**\n",
    "- The future dataset (y_future) starts on **December 2012**"
   ]
  },
  {
   "cell_type": "code",
   "execution_count": 23,
   "metadata": {},
   "outputs": [],
   "source": [
    "#the trick here is that the first value of the future dataset is the temperature of the last day in ytest\n",
    "y_future.iloc[0, 0] = y_test.iloc[-1]['Temperature']"
   ]
  },
  {
   "cell_type": "code",
   "execution_count": 24,
   "metadata": {},
   "outputs": [
    {
     "data": {
      "text/plain": "            month_means\n2012-12-01       26.482\n2013-01-01        0.000\n2013-02-01        0.000\n2013-03-01        0.000\n2013-04-01        0.000",
      "text/html": "<div>\n<style scoped>\n    .dataframe tbody tr th:only-of-type {\n        vertical-align: middle;\n    }\n\n    .dataframe tbody tr th {\n        vertical-align: top;\n    }\n\n    .dataframe thead th {\n        text-align: right;\n    }\n</style>\n<table border=\"1\" class=\"dataframe\">\n  <thead>\n    <tr style=\"text-align: right;\">\n      <th></th>\n      <th>month_means</th>\n    </tr>\n  </thead>\n  <tbody>\n    <tr>\n      <th>2012-12-01</th>\n      <td>26.482</td>\n    </tr>\n    <tr>\n      <th>2013-01-01</th>\n      <td>0.000</td>\n    </tr>\n    <tr>\n      <th>2013-02-01</th>\n      <td>0.000</td>\n    </tr>\n    <tr>\n      <th>2013-03-01</th>\n      <td>0.000</td>\n    </tr>\n    <tr>\n      <th>2013-04-01</th>\n      <td>0.000</td>\n    </tr>\n  </tbody>\n</table>\n</div>"
     },
     "execution_count": 24,
     "metadata": {},
     "output_type": "execute_result"
    }
   ],
   "source": [
    "y_future.head()"
   ]
  },
  {
   "cell_type": "markdown",
   "metadata": {},
   "source": [
    "#### j. Add in the monthly means that were originally calculated on the training data set!\n",
    "- This is the trickiest part!\n",
    "    - Really need to be careful that you're lining up the values for the correct months.\n",
    "    - Remember, we're using the grouped averages of the monthly temperature DIFFERENCES, so everything is shifted."
   ]
  },
  {
   "cell_type": "code",
   "execution_count": 25,
   "metadata": {},
   "outputs": [],
   "source": [
    "mean_training_vals = y_train.groupby('Month')['Temp_diff'].transform('mean')\n",
    "#the grouped averages of the monthly temp differences, just repeated until the end of the data series"
   ]
  },
  {
   "cell_type": "code",
   "execution_count": 26,
   "metadata": {},
   "outputs": [],
   "source": [
    "#Insert mean_training_vals starting on the second row onwards. Since the second row happens to be January, it fits right in.\n",
    "y_future.iloc[1:] = mean_training_vals[0:(12*yrs)-1].values.reshape(-1,1)"
   ]
  },
  {
   "cell_type": "code",
   "execution_count": 27,
   "metadata": {},
   "outputs": [
    {
     "data": {
      "text/plain": "            month_means\n2012-12-01    26.482000\n2013-01-01     0.481885\n2013-02-01     0.372673\n2013-03-01    -0.041500\n2013-04-01    -0.119019",
      "text/html": "<div>\n<style scoped>\n    .dataframe tbody tr th:only-of-type {\n        vertical-align: middle;\n    }\n\n    .dataframe tbody tr th {\n        vertical-align: top;\n    }\n\n    .dataframe thead th {\n        text-align: right;\n    }\n</style>\n<table border=\"1\" class=\"dataframe\">\n  <thead>\n    <tr style=\"text-align: right;\">\n      <th></th>\n      <th>month_means</th>\n    </tr>\n  </thead>\n  <tbody>\n    <tr>\n      <th>2012-12-01</th>\n      <td>26.482000</td>\n    </tr>\n    <tr>\n      <th>2013-01-01</th>\n      <td>0.481885</td>\n    </tr>\n    <tr>\n      <th>2013-02-01</th>\n      <td>0.372673</td>\n    </tr>\n    <tr>\n      <th>2013-03-01</th>\n      <td>-0.041500</td>\n    </tr>\n    <tr>\n      <th>2013-04-01</th>\n      <td>-0.119019</td>\n    </tr>\n  </tbody>\n</table>\n</div>"
     },
     "execution_count": 27,
     "metadata": {},
     "output_type": "execute_result"
    }
   ],
   "source": [
    "y_future.head()"
   ]
  },
  {
   "cell_type": "markdown",
   "metadata": {},
   "source": [
    "#### k. Again, use the cumulative sum to \"extrapolate\" / predict into the future!"
   ]
  },
  {
   "cell_type": "code",
   "execution_count": 28,
   "metadata": {},
   "outputs": [
    {
     "data": {
      "text/plain": "<matplotlib.axes._subplots.AxesSubplot at 0x1cb7c015c40>"
     },
     "execution_count": 28,
     "metadata": {},
     "output_type": "execute_result"
    },
    {
     "data": {
      "text/plain": "<Figure size 432x288 with 1 Axes>",
      "image/png": "[encoded data removed]"
     },
     "metadata": {
      "needs_background": "light"
     },
     "output_type": "display_data"
    }
   ],
   "source": [
    "#Use cumulative sum to predict into future\n",
    "y_future['Prediction'] = np.cumsum(y_future['month_means'])\n",
    "\n",
    "y_future['Prediction'].plot()"
   ]
  },
  {
   "cell_type": "markdown",
   "metadata": {},
   "source": [
    "---"
   ]
  },
  {
   "cell_type": "markdown",
   "metadata": {},
   "source": [
    "Note that the prediction seems to be going down. \n",
    "- This naive approach seems to entirely depend on which year you start using for training.\n",
    "- For example:"
   ]
  },
  {
   "cell_type": "code",
   "execution_count": 29,
   "metadata": {},
   "outputs": [
    {
     "data": {
      "text/plain": "-0.014914285714285772"
     },
     "execution_count": 29,
     "metadata": {},
     "output_type": "execute_result"
    }
   ],
   "source": [
    "data_raw.set_index('Date')['2010':]['Temperature'].diff().mean()"
   ]
  },
  {
   "cell_type": "code",
   "execution_count": 30,
   "outputs": [
    {
     "data": {
      "text/plain": "0.0013234501347708886"
     },
     "execution_count": 30,
     "metadata": {},
     "output_type": "execute_result"
    }
   ],
   "source": [
    "data_raw.set_index('Date')['1790':]['Temperature'].diff().mean()"
   ],
   "metadata": {
    "collapsed": false,
    "pycharm": {
     "name": "#%%\n"
    }
   }
  },
  {
   "cell_type": "code",
   "execution_count": 31,
   "metadata": {},
   "outputs": [
    {
     "data": {
      "text/plain": "0.0012202531645569602"
     },
     "execution_count": 31,
     "metadata": {},
     "output_type": "execute_result"
    }
   ],
   "source": [
    "data_raw.set_index('Date')['1980':]['Temperature'].diff().mean()"
   ]
  },
  {
   "cell_type": "code",
   "execution_count": 32,
   "metadata": {},
   "outputs": [
    {
     "data": {
      "text/plain": "0.0012202531645569602"
     },
     "execution_count": 32,
     "metadata": {},
     "output_type": "execute_result"
    }
   ],
   "source": [
    "data_raw.set_index('Date')['1980':]['Temperature'].diff().mean()"
   ]
  },
  {
   "cell_type": "code",
   "execution_count": 33,
   "metadata": {},
   "outputs": [
    {
     "data": {
      "text/plain": "0.0013234501347708886"
     },
     "execution_count": 33,
     "metadata": {},
     "output_type": "execute_result"
    }
   ],
   "source": [
    "data_raw.set_index('Date')['1950':]['Temperature'].diff().mean()"
   ]
  },
  {
   "cell_type": "code",
   "execution_count": 34,
   "metadata": {},
   "outputs": [
    {
     "data": {
      "text/plain": "0.0013234501347708886"
     },
     "execution_count": 34,
     "metadata": {},
     "output_type": "execute_result"
    }
   ],
   "source": [
    "data_raw.set_index('Date')['1900':]['Temperature'].diff().mean()"
   ]
  },
  {
   "cell_type": "markdown",
   "metadata": {},
   "source": [
    "---"
   ]
  },
  {
   "cell_type": "markdown",
   "metadata": {},
   "source": [
    "#### Wrapping everything together!"
   ]
  },
  {
   "cell_type": "markdown",
   "metadata": {},
   "source": [
    "##### Let's try:"
   ]
  },
  {
   "cell_type": "code",
   "execution_count": 35,
   "metadata": {},
   "outputs": [
    {
     "ename": "ValueError",
     "evalue": "cannot set using a slice indexer with a different length than the value",
     "output_type": "error",
     "traceback": [
      "\u001B[1;31m---------------------------------------------------------------------------\u001B[0m",
      "\u001B[1;31mValueError\u001B[0m                                Traceback (most recent call last)",
      "\u001B[1;32m<ipython-input-35-35b283353a5f>\u001B[0m in \u001B[0;36m<module>\u001B[1;34m\u001B[0m\n\u001B[0;32m     14\u001B[0m \u001B[1;33m\u001B[0m\u001B[0m\n\u001B[0;32m     15\u001B[0m     \u001B[0mmean_training_vals\u001B[0m \u001B[1;33m=\u001B[0m \u001B[0my_train\u001B[0m\u001B[1;33m.\u001B[0m\u001B[0mset_index\u001B[0m\u001B[1;33m(\u001B[0m\u001B[1;34m'Date'\u001B[0m\u001B[1;33m)\u001B[0m\u001B[1;33m[\u001B[0m\u001B[1;34mf'{begin_yr}'\u001B[0m\u001B[1;33m:\u001B[0m\u001B[1;33m]\u001B[0m\u001B[1;33m.\u001B[0m\u001B[0mgroupby\u001B[0m\u001B[1;33m(\u001B[0m\u001B[1;34m'Month'\u001B[0m\u001B[1;33m)\u001B[0m\u001B[1;33m[\u001B[0m\u001B[1;34m'Temp_diff'\u001B[0m\u001B[1;33m]\u001B[0m\u001B[1;33m.\u001B[0m\u001B[0mtransform\u001B[0m\u001B[1;33m(\u001B[0m\u001B[1;34m'mean'\u001B[0m\u001B[1;33m)\u001B[0m\u001B[1;33m\u001B[0m\u001B[1;33m\u001B[0m\u001B[0m\n\u001B[1;32m---> 16\u001B[1;33m     \u001B[0my_future\u001B[0m\u001B[1;33m.\u001B[0m\u001B[0miloc\u001B[0m\u001B[1;33m[\u001B[0m\u001B[1;36m1\u001B[0m\u001B[1;33m:\u001B[0m\u001B[1;33m]\u001B[0m \u001B[1;33m=\u001B[0m \u001B[0mmean_training_vals\u001B[0m\u001B[1;33m[\u001B[0m\u001B[1;36m0\u001B[0m\u001B[1;33m:\u001B[0m\u001B[1;33m(\u001B[0m\u001B[1;36m12\u001B[0m\u001B[1;33m*\u001B[0m\u001B[0myr\u001B[0m\u001B[1;33m)\u001B[0m\u001B[1;33m-\u001B[0m\u001B[1;36m1\u001B[0m\u001B[1;33m]\u001B[0m\u001B[1;33m.\u001B[0m\u001B[0mvalues\u001B[0m\u001B[1;33m.\u001B[0m\u001B[0mreshape\u001B[0m\u001B[1;33m(\u001B[0m\u001B[1;33m-\u001B[0m\u001B[1;36m1\u001B[0m\u001B[1;33m,\u001B[0m\u001B[1;36m1\u001B[0m\u001B[1;33m)\u001B[0m\u001B[1;33m\u001B[0m\u001B[1;33m\u001B[0m\u001B[0m\n\u001B[0m\u001B[0;32m     17\u001B[0m \u001B[1;33m\u001B[0m\u001B[0m\n\u001B[0;32m     18\u001B[0m     \u001B[1;31m#Use cumulative sum to predict into future\u001B[0m\u001B[1;33m\u001B[0m\u001B[1;33m\u001B[0m\u001B[1;33m\u001B[0m\u001B[0m\n",
      "\u001B[1;32mc:\\users\\bastian matzen\\appdata\\local\\programs\\python\\python38\\lib\\site-packages\\pandas\\core\\indexing.py\u001B[0m in \u001B[0;36m__setitem__\u001B[1;34m(self, key, value)\u001B[0m\n\u001B[0;32m    669\u001B[0m             \u001B[0mkey\u001B[0m \u001B[1;33m=\u001B[0m \u001B[0mcom\u001B[0m\u001B[1;33m.\u001B[0m\u001B[0mapply_if_callable\u001B[0m\u001B[1;33m(\u001B[0m\u001B[0mkey\u001B[0m\u001B[1;33m,\u001B[0m \u001B[0mself\u001B[0m\u001B[1;33m.\u001B[0m\u001B[0mobj\u001B[0m\u001B[1;33m)\u001B[0m\u001B[1;33m\u001B[0m\u001B[1;33m\u001B[0m\u001B[0m\n\u001B[0;32m    670\u001B[0m         \u001B[0mindexer\u001B[0m \u001B[1;33m=\u001B[0m \u001B[0mself\u001B[0m\u001B[1;33m.\u001B[0m\u001B[0m_get_setitem_indexer\u001B[0m\u001B[1;33m(\u001B[0m\u001B[0mkey\u001B[0m\u001B[1;33m)\u001B[0m\u001B[1;33m\u001B[0m\u001B[1;33m\u001B[0m\u001B[0m\n\u001B[1;32m--> 671\u001B[1;33m         \u001B[0mself\u001B[0m\u001B[1;33m.\u001B[0m\u001B[0m_setitem_with_indexer\u001B[0m\u001B[1;33m(\u001B[0m\u001B[0mindexer\u001B[0m\u001B[1;33m,\u001B[0m \u001B[0mvalue\u001B[0m\u001B[1;33m)\u001B[0m\u001B[1;33m\u001B[0m\u001B[1;33m\u001B[0m\u001B[0m\n\u001B[0m\u001B[0;32m    672\u001B[0m \u001B[1;33m\u001B[0m\u001B[0m\n\u001B[0;32m    673\u001B[0m     \u001B[1;32mdef\u001B[0m \u001B[0m_validate_key\u001B[0m\u001B[1;33m(\u001B[0m\u001B[0mself\u001B[0m\u001B[1;33m,\u001B[0m \u001B[0mkey\u001B[0m\u001B[1;33m,\u001B[0m \u001B[0maxis\u001B[0m\u001B[1;33m:\u001B[0m \u001B[0mint\u001B[0m\u001B[1;33m)\u001B[0m\u001B[1;33m:\u001B[0m\u001B[1;33m\u001B[0m\u001B[1;33m\u001B[0m\u001B[0m\n",
      "\u001B[1;32mc:\\users\\bastian matzen\\appdata\\local\\programs\\python\\python38\\lib\\site-packages\\pandas\\core\\indexing.py\u001B[0m in \u001B[0;36m_setitem_with_indexer\u001B[1;34m(self, indexer, value)\u001B[0m\n\u001B[0;32m   1063\u001B[0m             \u001B[1;31m# actually do the set\u001B[0m\u001B[1;33m\u001B[0m\u001B[1;33m\u001B[0m\u001B[1;33m\u001B[0m\u001B[0m\n\u001B[0;32m   1064\u001B[0m             \u001B[0mself\u001B[0m\u001B[1;33m.\u001B[0m\u001B[0mobj\u001B[0m\u001B[1;33m.\u001B[0m\u001B[0m_consolidate_inplace\u001B[0m\u001B[1;33m(\u001B[0m\u001B[1;33m)\u001B[0m\u001B[1;33m\u001B[0m\u001B[1;33m\u001B[0m\u001B[0m\n\u001B[1;32m-> 1065\u001B[1;33m             \u001B[0mself\u001B[0m\u001B[1;33m.\u001B[0m\u001B[0mobj\u001B[0m\u001B[1;33m.\u001B[0m\u001B[0m_data\u001B[0m \u001B[1;33m=\u001B[0m \u001B[0mself\u001B[0m\u001B[1;33m.\u001B[0m\u001B[0mobj\u001B[0m\u001B[1;33m.\u001B[0m\u001B[0m_data\u001B[0m\u001B[1;33m.\u001B[0m\u001B[0msetitem\u001B[0m\u001B[1;33m(\u001B[0m\u001B[0mindexer\u001B[0m\u001B[1;33m=\u001B[0m\u001B[0mindexer\u001B[0m\u001B[1;33m,\u001B[0m \u001B[0mvalue\u001B[0m\u001B[1;33m=\u001B[0m\u001B[0mvalue\u001B[0m\u001B[1;33m)\u001B[0m\u001B[1;33m\u001B[0m\u001B[1;33m\u001B[0m\u001B[0m\n\u001B[0m\u001B[0;32m   1066\u001B[0m             \u001B[0mself\u001B[0m\u001B[1;33m.\u001B[0m\u001B[0mobj\u001B[0m\u001B[1;33m.\u001B[0m\u001B[0m_maybe_update_cacher\u001B[0m\u001B[1;33m(\u001B[0m\u001B[0mclear\u001B[0m\u001B[1;33m=\u001B[0m\u001B[1;32mTrue\u001B[0m\u001B[1;33m)\u001B[0m\u001B[1;33m\u001B[0m\u001B[1;33m\u001B[0m\u001B[0m\n\u001B[0;32m   1067\u001B[0m \u001B[1;33m\u001B[0m\u001B[0m\n",
      "\u001B[1;32mc:\\users\\bastian matzen\\appdata\\local\\programs\\python\\python38\\lib\\site-packages\\pandas\\core\\internals\\managers.py\u001B[0m in \u001B[0;36msetitem\u001B[1;34m(self, **kwargs)\u001B[0m\n\u001B[0;32m    559\u001B[0m \u001B[1;33m\u001B[0m\u001B[0m\n\u001B[0;32m    560\u001B[0m     \u001B[1;32mdef\u001B[0m \u001B[0msetitem\u001B[0m\u001B[1;33m(\u001B[0m\u001B[0mself\u001B[0m\u001B[1;33m,\u001B[0m \u001B[1;33m**\u001B[0m\u001B[0mkwargs\u001B[0m\u001B[1;33m)\u001B[0m\u001B[1;33m:\u001B[0m\u001B[1;33m\u001B[0m\u001B[1;33m\u001B[0m\u001B[0m\n\u001B[1;32m--> 561\u001B[1;33m         \u001B[1;32mreturn\u001B[0m \u001B[0mself\u001B[0m\u001B[1;33m.\u001B[0m\u001B[0mapply\u001B[0m\u001B[1;33m(\u001B[0m\u001B[1;34m\"setitem\"\u001B[0m\u001B[1;33m,\u001B[0m \u001B[1;33m**\u001B[0m\u001B[0mkwargs\u001B[0m\u001B[1;33m)\u001B[0m\u001B[1;33m\u001B[0m\u001B[1;33m\u001B[0m\u001B[0m\n\u001B[0m\u001B[0;32m    562\u001B[0m \u001B[1;33m\u001B[0m\u001B[0m\n\u001B[0;32m    563\u001B[0m     \u001B[1;32mdef\u001B[0m \u001B[0mputmask\u001B[0m\u001B[1;33m(\u001B[0m\u001B[0mself\u001B[0m\u001B[1;33m,\u001B[0m \u001B[1;33m**\u001B[0m\u001B[0mkwargs\u001B[0m\u001B[1;33m)\u001B[0m\u001B[1;33m:\u001B[0m\u001B[1;33m\u001B[0m\u001B[1;33m\u001B[0m\u001B[0m\n",
      "\u001B[1;32mc:\\users\\bastian matzen\\appdata\\local\\programs\\python\\python38\\lib\\site-packages\\pandas\\core\\internals\\managers.py\u001B[0m in \u001B[0;36mapply\u001B[1;34m(self, f, filter, **kwargs)\u001B[0m\n\u001B[0;32m    440\u001B[0m                 \u001B[0mapplied\u001B[0m \u001B[1;33m=\u001B[0m \u001B[0mb\u001B[0m\u001B[1;33m.\u001B[0m\u001B[0mapply\u001B[0m\u001B[1;33m(\u001B[0m\u001B[0mf\u001B[0m\u001B[1;33m,\u001B[0m \u001B[1;33m**\u001B[0m\u001B[0mkwargs\u001B[0m\u001B[1;33m)\u001B[0m\u001B[1;33m\u001B[0m\u001B[1;33m\u001B[0m\u001B[0m\n\u001B[0;32m    441\u001B[0m             \u001B[1;32melse\u001B[0m\u001B[1;33m:\u001B[0m\u001B[1;33m\u001B[0m\u001B[1;33m\u001B[0m\u001B[0m\n\u001B[1;32m--> 442\u001B[1;33m                 \u001B[0mapplied\u001B[0m \u001B[1;33m=\u001B[0m \u001B[0mgetattr\u001B[0m\u001B[1;33m(\u001B[0m\u001B[0mb\u001B[0m\u001B[1;33m,\u001B[0m \u001B[0mf\u001B[0m\u001B[1;33m)\u001B[0m\u001B[1;33m(\u001B[0m\u001B[1;33m**\u001B[0m\u001B[0mkwargs\u001B[0m\u001B[1;33m)\u001B[0m\u001B[1;33m\u001B[0m\u001B[1;33m\u001B[0m\u001B[0m\n\u001B[0m\u001B[0;32m    443\u001B[0m             \u001B[0mresult_blocks\u001B[0m \u001B[1;33m=\u001B[0m \u001B[0m_extend_blocks\u001B[0m\u001B[1;33m(\u001B[0m\u001B[0mapplied\u001B[0m\u001B[1;33m,\u001B[0m \u001B[0mresult_blocks\u001B[0m\u001B[1;33m)\u001B[0m\u001B[1;33m\u001B[0m\u001B[1;33m\u001B[0m\u001B[0m\n\u001B[0;32m    444\u001B[0m \u001B[1;33m\u001B[0m\u001B[0m\n",
      "\u001B[1;32mc:\\users\\bastian matzen\\appdata\\local\\programs\\python\\python38\\lib\\site-packages\\pandas\\core\\internals\\blocks.py\u001B[0m in \u001B[0;36msetitem\u001B[1;34m(self, indexer, value)\u001B[0m\n\u001B[0;32m    876\u001B[0m \u001B[1;33m\u001B[0m\u001B[0m\n\u001B[0;32m    877\u001B[0m         \u001B[1;31m# length checking\u001B[0m\u001B[1;33m\u001B[0m\u001B[1;33m\u001B[0m\u001B[1;33m\u001B[0m\u001B[0m\n\u001B[1;32m--> 878\u001B[1;33m         \u001B[0mcheck_setitem_lengths\u001B[0m\u001B[1;33m(\u001B[0m\u001B[0mindexer\u001B[0m\u001B[1;33m,\u001B[0m \u001B[0mvalue\u001B[0m\u001B[1;33m,\u001B[0m \u001B[0mvalues\u001B[0m\u001B[1;33m)\u001B[0m\u001B[1;33m\u001B[0m\u001B[1;33m\u001B[0m\u001B[0m\n\u001B[0m\u001B[0;32m    879\u001B[0m         exact_match = (\n\u001B[0;32m    880\u001B[0m             \u001B[0mlen\u001B[0m\u001B[1;33m(\u001B[0m\u001B[0marr_value\u001B[0m\u001B[1;33m.\u001B[0m\u001B[0mshape\u001B[0m\u001B[1;33m)\u001B[0m\u001B[1;33m\u001B[0m\u001B[1;33m\u001B[0m\u001B[0m\n",
      "\u001B[1;32mc:\\users\\bastian matzen\\appdata\\local\\programs\\python\\python38\\lib\\site-packages\\pandas\\core\\indexers.py\u001B[0m in \u001B[0;36mcheck_setitem_lengths\u001B[1;34m(indexer, value, values)\u001B[0m\n\u001B[0;32m    121\u001B[0m         \u001B[1;32mif\u001B[0m \u001B[0mis_list_like\u001B[0m\u001B[1;33m(\u001B[0m\u001B[0mvalue\u001B[0m\u001B[1;33m)\u001B[0m \u001B[1;32mand\u001B[0m \u001B[0mlen\u001B[0m\u001B[1;33m(\u001B[0m\u001B[0mvalues\u001B[0m\u001B[1;33m)\u001B[0m\u001B[1;33m:\u001B[0m\u001B[1;33m\u001B[0m\u001B[1;33m\u001B[0m\u001B[0m\n\u001B[0;32m    122\u001B[0m             \u001B[1;32mif\u001B[0m \u001B[0mlen\u001B[0m\u001B[1;33m(\u001B[0m\u001B[0mvalue\u001B[0m\u001B[1;33m)\u001B[0m \u001B[1;33m!=\u001B[0m \u001B[0mlength_of_indexer\u001B[0m\u001B[1;33m(\u001B[0m\u001B[0mindexer\u001B[0m\u001B[1;33m,\u001B[0m \u001B[0mvalues\u001B[0m\u001B[1;33m)\u001B[0m\u001B[1;33m:\u001B[0m\u001B[1;33m\u001B[0m\u001B[1;33m\u001B[0m\u001B[0m\n\u001B[1;32m--> 123\u001B[1;33m                 raise ValueError(\n\u001B[0m\u001B[0;32m    124\u001B[0m                     \u001B[1;34m\"cannot set using a slice indexer with a \"\u001B[0m\u001B[1;33m\u001B[0m\u001B[1;33m\u001B[0m\u001B[0m\n\u001B[0;32m    125\u001B[0m                     \u001B[1;34m\"different length than the value\"\u001B[0m\u001B[1;33m\u001B[0m\u001B[1;33m\u001B[0m\u001B[0m\n",
      "\u001B[1;31mValueError\u001B[0m: cannot set using a slice indexer with a different length than the value"
     ]
    },
    {
     "data": {
      "text/plain": "<Figure size 864x576 with 1 Axes>",
      "image/png": "[encoded data removed]"
     },
     "metadata": {
      "needs_background": "light"
     },
     "output_type": "display_data"
    },
    {
     "data": {
      "text/plain": "<Figure size 864x576 with 1 Axes>",
      "image/png": "[encoded data removed]"
     },
     "metadata": {
      "needs_background": "light"
     },
     "output_type": "display_data"
    }
   ],
   "source": [
    "#### Try tweaking these values!! \n",
    "#### Depending on how far back in time you take the monthly averages, the trend will change!\n",
    "yrs = [20, 50, 100]\n",
    "train_begin = [1970, 1800, 1900]\n",
    "####\n",
    "\n",
    "for yr, begin_yr in zip(yrs, train_begin):\n",
    "    y_future = pd.DataFrame(index = pd.date_range(start='Dec 2012', periods = 12*yr, freq='M'),\n",
    "                 data=[0]*12*yr,\n",
    "                 columns=['month_means'])\n",
    "\n",
    "    #the trick here is that the first value of the future dataset is the temperature of the last day in ytest\n",
    "    y_future.iloc[0, 0] = y_test.iloc[-1]['Temperature']\n",
    "\n",
    "    mean_training_vals = y_train.set_index('Date')[f'{begin_yr}':].groupby('Month')['Temp_diff'].transform('mean')\n",
    "    y_future.iloc[1:] = mean_training_vals[0:(12*yr)-1].values.reshape(-1,1)\n",
    "\n",
    "    #Use cumulative sum to predict into future\n",
    "    y_future['Prediction'] = np.cumsum(y_future['month_means'])\n",
    "\n",
    "    plt.figure(figsize=(12,8))\n",
    "    y_future['Prediction'].plot(legend=['prediction'])\n",
    "    data_raw.set_index('Date')['Temperature'].plot(legend=['historical data'])\n",
    "    plt.title(f'Temperature prediction {yr} years into the future, training model back to {begin_yr}.')\n"
   ]
  },
  {
   "cell_type": "markdown",
   "metadata": {},
   "source": [
    "---\n",
    "---\n",
    "---"
   ]
  },
  {
   "cell_type": "markdown",
   "metadata": {},
   "source": [
    "### 2. Using an out-of-the-box, \"black-boxy\" model \n",
    "- FB Prophet (Developed by Facebook)\n",
    "- Installation: \n",
    "    - ``pip install fbprophet``, or\n",
    "    - ``conda install -c conda-forge fbprophet``, or\n",
    "    - In case that doesn't work, see installation documentation: https://facebook.github.io/prophet/docs/installation.html#python\n",
    "        - As of August 2020, there seems to be some strange issues with importing after the conda install:\n",
    "            - https://github.com/facebook/prophet/issues/1300"
   ]
  },
  {
   "cell_type": "markdown",
   "metadata": {},
   "source": [
    "![text](https://s.dou.ua/img/announces/prophet-840.png)"
   ]
  },
  {
   "cell_type": "markdown",
   "metadata": {},
   "source": [
    "---"
   ]
  },
  {
   "cell_type": "markdown",
   "metadata": {},
   "source": [
    "- Cons:\n",
    "    - Not easy to understand the math behind it.\n",
    "    - There **IS** a published paper, which is only 12 pages long ([read it!](https://peerj.com/preprints/3190.pdf)) but it's not super easy to understand.\n",
    "        - Also see: [The Math of Prophet: Breaking down the Equation behind Facebook’s open-source Time Series Forecasting procedure](https://medium.com/future-vision/the-math-of-prophet-46864fa9c55a)\n",
    "    - Installation tends to be a bit more tedious / unreliable than it should be.\n",
    "- Pros:\n",
    "    - Great Documentation.\n",
    "    - SUPER EASY to use.\n",
    "    - Models non-linear trends, fit with yearly, weekly, and daily seasonality, PLUS holiday effects.\n",
    "        - \"*It works best with time series that have strong seasonal effects and several seasons of historical data. Prophet is robust to missing data and shifts in the trend, and typically handles outliers well.*\""
   ]
  },
  {
   "cell_type": "markdown",
   "metadata": {},
   "source": [
    "See Youtube Video: [Forecasting at Scale: How and Why We Developed Prophet for Forecasting at Facebook](https://www.youtube.com/watch?v=pOYAXv15r3A)"
   ]
  },
  {
   "cell_type": "markdown",
   "metadata": {},
   "source": [
    "---"
   ]
  },
  {
   "cell_type": "markdown",
   "metadata": {},
   "source": [
    "#### a. Prerequisite:\n",
    "- FB Prophet is a univariate, time series model.\n",
    "- in order for it to work, you must have a pandas DataFrame with 2 columns:\n",
    "    - 1st column must be of the Pandas DateTime type and must be called ``ds``\n",
    "    - 2nd column must be some numerical variable you're trying to forecast, and must be called ``y``"
   ]
  },
  {
   "cell_type": "code",
   "execution_count": null,
   "metadata": {},
   "outputs": [],
   "source": [
    "### Let's just do it on the raw, original data (without train-test-split)\n",
    "df = data_raw[['Date', 'Temperature']]"
   ]
  },
  {
   "cell_type": "code",
   "execution_count": null,
   "metadata": {},
   "outputs": [],
   "source": [
    "df = df.rename(columns={'Date':'ds', 'Temperature':'y'})"
   ]
  },
  {
   "cell_type": "code",
   "execution_count": null,
   "metadata": {},
   "outputs": [],
   "source": [
    "df.head()"
   ]
  },
  {
   "cell_type": "markdown",
   "metadata": {},
   "source": [
    "#### b. Import model\n",
    "- *If this step even works for you, congratulations, cause it took me 3 attempts to get the installation working*"
   ]
  },
  {
   "cell_type": "code",
   "execution_count": null,
   "metadata": {},
   "outputs": [],
   "source": [
    "from fbprophet import Prophet"
   ]
  },
  {
   "cell_type": "code",
   "execution_count": null,
   "metadata": {},
   "outputs": [],
   "source": [
    "m = Prophet(weekly_seasonality=True, daily_seasonality=True)"
   ]
  },
  {
   "cell_type": "markdown",
   "metadata": {},
   "source": [
    "#### c. Train model"
   ]
  },
  {
   "cell_type": "code",
   "execution_count": null,
   "metadata": {},
   "outputs": [],
   "source": [
    "m.fit(df)"
   ]
  },
  {
   "cell_type": "markdown",
   "metadata": {},
   "source": [
    "*Similar to a generalized additive model (GAM), with time as a regressor, Prophet fits several linear and non-linear functions of time as components. In its simplest form:*\n",
    "\n",
    "``y(t) = g(t) + s(t) + h(t) + e(t)``\n",
    "\n",
    "*where:*\n",
    "\n",
    "- ``g(t)`` -> trend models non-periodic changes (i.e. growth over time)\n",
    "\n",
    "    - You can also program in \"saturated growth\", e.g. try setting ``growth='logistic'``\n",
    "    \n",
    "- ``s(t)`` -> seasonality presents periodic changes (i.e. weekly, monthly, yearly)\n",
    "\n",
    "    - *Prophet relies on Fourier series to provide a malleable model of periodic effects.*\n",
    "    \n",
    "- ``h(t)`` -> ties in effects of holidays (on potentially irregular schedules ≥ 1 day(s))\n",
    "\n",
    "- ``e(t)`` -> covers idiosyncratic changes not accommodated by the model\n"
   ]
  },
  {
   "cell_type": "markdown",
   "metadata": {},
   "source": [
    "*Prophet is essentially \"**framing the forecasting problem as a curve-fitting exercise**\" rather than looking explicitly at the time based dependence of each observation.*"
   ]
  },
  {
   "cell_type": "markdown",
   "metadata": {},
   "source": [
    "#### d. Prepare \"future dataframe\""
   ]
  },
  {
   "cell_type": "code",
   "execution_count": null,
   "metadata": {},
   "outputs": [],
   "source": [
    "future = m.make_future_dataframe(periods=240, freq='MS', include_history=False)\n",
    "#20 years into the future"
   ]
  },
  {
   "cell_type": "code",
   "execution_count": null,
   "metadata": {},
   "outputs": [],
   "source": [
    "future.tail()"
   ]
  },
  {
   "cell_type": "markdown",
   "metadata": {},
   "source": [
    "#### e. Predict"
   ]
  },
  {
   "cell_type": "code",
   "execution_count": null,
   "metadata": {},
   "outputs": [],
   "source": [
    "forecast = m.predict(future)"
   ]
  },
  {
   "cell_type": "code",
   "execution_count": null,
   "metadata": {},
   "outputs": [],
   "source": [
    "forecast.head()"
   ]
  },
  {
   "cell_type": "markdown",
   "metadata": {},
   "source": [
    "#### f. Admire"
   ]
  },
  {
   "cell_type": "code",
   "execution_count": null,
   "metadata": {},
   "outputs": [],
   "source": [
    "fig = m.plot(forecast)"
   ]
  },
  {
   "cell_type": "code",
   "execution_count": null,
   "metadata": {},
   "outputs": [],
   "source": [
    "fig2 = m.plot_components(forecast)"
   ]
  },
  {
   "cell_type": "code",
   "execution_count": null,
   "metadata": {},
   "outputs": [],
   "source": []
  }
 ],
 "metadata": {
  "kernelspec": {
   "display_name": "Python 3",
   "language": "python",
   "name": "python3"
  },
  "language_info": {
   "codemirror_mode": {
    "name": "ipython",
    "version": 3
   },
   "file_extension": ".py",
   "mimetype": "text/x-python",
   "name": "python",
   "nbconvert_exporter": "python",
   "pygments_lexer": "ipython3",
   "version": "3.6.10"
  }
 },
 "nbformat": 4,
 "nbformat_minor": 4
}