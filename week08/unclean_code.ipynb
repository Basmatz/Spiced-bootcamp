{
 "cells": [
  {
   "cell_type": "code",
   "execution_count": 2,
   "metadata": {},
   "outputs": [],
   "source": [
    "from random import *"
   ]
  },
  {
   "cell_type": "code",
   "execution_count": 9,
   "metadata": {},
   "outputs": [
    {
     "name": "stderr",
     "output_type": "stream",
     "text": [
      "5:3: E111 indentation is not a multiple of four\n",
      "5:3: E113 unexpected indentation\n",
      "8:12: E225 missing whitespace around operator\n",
      "10:35: E211 whitespace before '['\n",
      "20:1: W391 blank line at end of file\n"
     ]
    }
   ],
   "source": [
    "%%pycodestyle\n",
    "from random import *\n",
    "STATES = ['airport', 'air', 'crashed']\n",
    "\n",
    "  def mcmc(i, P):\n",
    "    list = [i]\n",
    "    s = i\n",
    "    while s!='crashed':\n",
    "        probs = P[s]\n",
    "        s = choices(STATES, probs) [0]\n",
    "        list.append(s)\n",
    "        if list[-1] == 'crashed':\n",
    "            return list\n",
    "\n",
    "P = {\n",
    "    'airport': [0.4, 0.6, 0.0],\n",
    "    'air': [0.8, 0.19999, 0.00001],\n",
    "}\n",
    "print(f\"crashed after {len(mcmc('airport', P))} days of service\")"
   ]
  },
  {
   "cell_type": "code",
   "execution_count": 4,
   "metadata": {},
   "outputs": [
    {
     "name": "stdout",
     "output_type": "stream",
     "text": [
      "Requirement already satisfied: pycodestyle in c:\\users\\oztur\\anaconda3\\lib\\site-packages (2.6.0)\n",
      "Collecting pycodestyle_magic\n",
      "  Downloading pycodestyle_magic-0.5-py2.py3-none-any.whl (9.5 kB)\n",
      "Installing collected packages: pycodestyle-magic\n",
      "Successfully installed pycodestyle-magic-0.5\n"
     ]
    }
   ],
   "source": [
    "!pip install pycodestyle pycodestyle_magic"
   ]
  },
  {
   "cell_type": "code",
   "execution_count": 5,
   "metadata": {},
   "outputs": [],
   "source": [
    "%load_ext pycodestyle_magic"
   ]
  },
  {
   "cell_type": "code",
   "execution_count": null,
   "metadata": {},
   "outputs": [],
   "source": []
  }
 ],
 "metadata": {
  "kernelspec": {
   "display_name": "Python 3",
   "language": "python",
   "name": "python3"
  },
  "language_info": {
   "codemirror_mode": {
    "name": "ipython",
    "version": 3
   },
   "file_extension": ".py",
   "mimetype": "text/x-python",
   "name": "python",
   "nbconvert_exporter": "python",
   "pygments_lexer": "ipython3",
   "version": "3.8.3"
  }
 },
 "nbformat": 4,
 "nbformat_minor": 4
}
