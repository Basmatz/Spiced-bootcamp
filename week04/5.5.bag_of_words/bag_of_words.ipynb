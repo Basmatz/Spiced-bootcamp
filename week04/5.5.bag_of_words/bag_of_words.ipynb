{
 "cells": [
  {
   "cell_type": "code",
   "execution_count": 1,
   "metadata": {},
   "outputs": [],
   "source": [
    "# count vectorizer"
   ]
  },
  {
   "cell_type": "code",
   "execution_count": 2,
   "metadata": {},
   "outputs": [],
   "source": [
    "corpus = \"\"\"I've been so many places in my life and time\n",
    "I've sung a lot of songs\n",
    "I've made some bad rhymes\n",
    "I've acted out my life in stages\n",
    "With ten thousand people watching\n",
    "But we're alone now\n",
    "And I'm singing this song to you\n",
    "I know your image of me is what I hoped to be\n",
    "I treated you unkindly\n",
    "But darling can't you see\n",
    "There's no one more important to me\n",
    "Baby can't you see through me?\n",
    "'Cause we're alone now and I'm singing this song to you\n",
    "You taught me precious secrets\n",
    "Of a true love\n",
    "You wanted nothing\n",
    "You came out in front\n",
    "When I was hiding\n",
    "But now I'm so much better\n",
    "And if my words don't come together\n",
    "Listen to the melody\n",
    "'Cause my love is in there hiding\n",
    "I love you in a place\n",
    "Where there's no space or time\n",
    "I love you for my life\n",
    "You're a friend of mine\n",
    "And when my life…\"\"\""
   ]
  },
  {
   "cell_type": "code",
   "execution_count": 3,
   "metadata": {},
   "outputs": [],
   "source": [
    "from sklearn.feature_extraction.text import CountVectorizer"
   ]
  },
  {
   "cell_type": "code",
   "execution_count": 4,
   "metadata": {},
   "outputs": [],
   "source": [
    "corpus= [corpus]"
   ]
  },
  {
   "cell_type": "code",
   "execution_count": 5,
   "metadata": {},
   "outputs": [
    {
     "data": {
      "text/plain": [
       "[\"I've been so many places in my life and time\",\n",
       " \"I've sung a lot of songs\",\n",
       " \"I've made some bad rhymes\",\n",
       " \"I've acted out my life in stages\",\n",
       " 'With ten thousand people watching',\n",
       " \"But we're alone now\",\n",
       " \"And I'm singing this song to you\",\n",
       " 'I know your image of me is what I hoped to be',\n",
       " 'I treated you unkindly',\n",
       " \"But darling can't you see\",\n",
       " \"There's no one more important to me\",\n",
       " \"Baby can't you see through me?\",\n",
       " \"'Cause we're alone now and I'm singing this song to you\",\n",
       " 'You taught me precious secrets',\n",
       " 'Of a true love',\n",
       " 'You wanted nothing',\n",
       " 'You came out in front',\n",
       " 'When I was hiding',\n",
       " \"But now I'm so much better\",\n",
       " \"And if my words don't come together\",\n",
       " 'Listen to the melody',\n",
       " \"'Cause my love is in there hiding\",\n",
       " 'I love you in a place',\n",
       " \"Where there's no space or time\",\n",
       " 'I love you for my life',\n",
       " \"You're a friend of mine\",\n",
       " 'And when my life…']"
      ]
     },
     "execution_count": 5,
     "metadata": {},
     "output_type": "execute_result"
    }
   ],
   "source": [
    "corpus[0].split('\\n')"
   ]
  },
  {
   "cell_type": "code",
   "execution_count": 13,
   "metadata": {},
   "outputs": [],
   "source": [
    "new_song =\"\"\"I can't seem to focus\n",
    "And you don't seem to notice\n",
    "I'm not here\n",
    "I'm just a mirror\n",
    "You check your complexion\n",
    "To find your reflection's all alone\n",
    "I had to go\n",
    "Can't you hear me?\n",
    "I'm not comin' home\n",
    "Do you understand?\n",
    "I've changed my plans\n",
    "\n",
    "'Cause I, I'm in love\n",
    "With my future\n",
    "Can't wait to meet her\n",
    "And I (I), I'm in love\n",
    "But not with anybody else\n",
    "Just wanna get to know myself\n",
    "\n",
    "I know supposedly I'm lonely now (Lonely now)\n",
    "Know I'm supposed to be unhappy\n",
    "Without someone (Someone)\n",
    "But aren't I someone? (Aren't I someone? Yeah)\n",
    "I'd (I'd) like to be your answer (Be your answer)\n",
    "'Cause you're so handsome (You're so handsome)\n",
    "But I know better\n",
    "Than to drive you home\n",
    "'Cause you'd invite me in\n",
    "And I'd be yours again\n",
    "\n",
    "But I (I), I'm in love (Love, love, love, love)\n",
    "With my future\n",
    "And you don't know her\n",
    "And I, I'm in love (Love, love)\n",
    "But not with anybody here\n",
    "I'll see you in a couple years\n",
    "\"\"\""
   ]
  },
  {
   "cell_type": "code",
   "execution_count": 16,
   "metadata": {},
   "outputs": [],
   "source": [
    "corpus.append(new_song)"
   ]
  },
  {
   "cell_type": "code",
   "execution_count": 17,
   "metadata": {},
   "outputs": [],
   "source": [
    "cv = CountVectorizer()"
   ]
  },
  {
   "cell_type": "code",
   "execution_count": 18,
   "metadata": {},
   "outputs": [
    {
     "data": {
      "text/plain": [
       "CountVectorizer(analyzer='word', binary=False, decode_error='strict',\n",
       "                dtype=<class 'numpy.int64'>, encoding='utf-8', input='content',\n",
       "                lowercase=True, max_df=1.0, max_features=None, min_df=1,\n",
       "                ngram_range=(1, 1), preprocessor=None, stop_words=None,\n",
       "                strip_accents=None, token_pattern='(?u)\\\\b\\\\w\\\\w+\\\\b',\n",
       "                tokenizer=None, vocabulary=None)"
      ]
     },
     "execution_count": 18,
     "metadata": {},
     "output_type": "execute_result"
    }
   ],
   "source": [
    "cv.fit(corpus)"
   ]
  },
  {
   "cell_type": "code",
   "execution_count": 19,
   "metadata": {},
   "outputs": [
    {
     "data": {
      "text/plain": [
       "['acted',\n",
       " 'again',\n",
       " 'all',\n",
       " 'alone',\n",
       " 'and',\n",
       " 'answer',\n",
       " 'anybody',\n",
       " 'aren',\n",
       " 'baby',\n",
       " 'bad',\n",
       " 'be',\n",
       " 'been',\n",
       " 'better',\n",
       " 'but',\n",
       " 'came',\n",
       " 'can',\n",
       " 'cause',\n",
       " 'changed',\n",
       " 'check',\n",
       " 'come',\n",
       " 'comin',\n",
       " 'complexion',\n",
       " 'couple',\n",
       " 'darling',\n",
       " 'do',\n",
       " 'don',\n",
       " 'drive',\n",
       " 'else',\n",
       " 'find',\n",
       " 'focus',\n",
       " 'for',\n",
       " 'friend',\n",
       " 'front',\n",
       " 'future',\n",
       " 'get',\n",
       " 'go',\n",
       " 'had',\n",
       " 'handsome',\n",
       " 'hear',\n",
       " 'her',\n",
       " 'here',\n",
       " 'hiding',\n",
       " 'home',\n",
       " 'hoped',\n",
       " 'if',\n",
       " 'image',\n",
       " 'important',\n",
       " 'in',\n",
       " 'invite',\n",
       " 'is',\n",
       " 'just',\n",
       " 'know',\n",
       " 'life',\n",
       " 'like',\n",
       " 'listen',\n",
       " 'll',\n",
       " 'lonely',\n",
       " 'lot',\n",
       " 'love',\n",
       " 'made',\n",
       " 'many',\n",
       " 'me',\n",
       " 'meet',\n",
       " 'melody',\n",
       " 'mine',\n",
       " 'mirror',\n",
       " 'more',\n",
       " 'much',\n",
       " 'my',\n",
       " 'myself',\n",
       " 'no',\n",
       " 'not',\n",
       " 'nothing',\n",
       " 'notice',\n",
       " 'now',\n",
       " 'of',\n",
       " 'one',\n",
       " 'or',\n",
       " 'out',\n",
       " 'people',\n",
       " 'place',\n",
       " 'places',\n",
       " 'plans',\n",
       " 'precious',\n",
       " 're',\n",
       " 'reflection',\n",
       " 'rhymes',\n",
       " 'secrets',\n",
       " 'see',\n",
       " 'seem',\n",
       " 'singing',\n",
       " 'so',\n",
       " 'some',\n",
       " 'someone',\n",
       " 'song',\n",
       " 'songs',\n",
       " 'space',\n",
       " 'stages',\n",
       " 'sung',\n",
       " 'supposed',\n",
       " 'supposedly',\n",
       " 'taught',\n",
       " 'ten',\n",
       " 'than',\n",
       " 'the',\n",
       " 'there',\n",
       " 'this',\n",
       " 'thousand',\n",
       " 'through',\n",
       " 'time',\n",
       " 'to',\n",
       " 'together',\n",
       " 'treated',\n",
       " 'true',\n",
       " 'understand',\n",
       " 'unhappy',\n",
       " 'unkindly',\n",
       " 've',\n",
       " 'wait',\n",
       " 'wanna',\n",
       " 'wanted',\n",
       " 'was',\n",
       " 'watching',\n",
       " 'we',\n",
       " 'what',\n",
       " 'when',\n",
       " 'where',\n",
       " 'with',\n",
       " 'without',\n",
       " 'words',\n",
       " 'yeah',\n",
       " 'years',\n",
       " 'you',\n",
       " 'your',\n",
       " 'yours']"
      ]
     },
     "execution_count": 19,
     "metadata": {},
     "output_type": "execute_result"
    }
   ],
   "source": [
    "cv.get_feature_names()"
   ]
  },
  {
   "cell_type": "code",
   "execution_count": 20,
   "metadata": {},
   "outputs": [],
   "source": [
    "vec_corpus = cv.transform(corpus)"
   ]
  },
  {
   "cell_type": "code",
   "execution_count": 21,
   "metadata": {},
   "outputs": [
    {
     "data": {
      "text/plain": [
       "<2x135 sparse matrix of type '<class 'numpy.int64'>'\n",
       "\twith 157 stored elements in Compressed Sparse Row format>"
      ]
     },
     "execution_count": 21,
     "metadata": {},
     "output_type": "execute_result"
    }
   ],
   "source": [
    "vec_corpus"
   ]
  },
  {
   "cell_type": "code",
   "execution_count": 22,
   "metadata": {},
   "outputs": [
    {
     "data": {
      "text/plain": [
       "matrix([[ 1,  0,  0,  2,  5,  0,  0,  0,  1,  1,  1,  1,  1,  3,  1,  2,\n",
       "          2,  0,  0,  1,  0,  0,  0,  1,  0,  1,  0,  0,  0,  0,  1,  1,\n",
       "          1,  0,  0,  0,  0,  0,  0,  0,  0,  2,  0,  1,  1,  1,  1,  5,\n",
       "          0,  2,  0,  1,  4,  0,  1,  0,  0,  1,  4,  1,  1,  4,  0,  1,\n",
       "          1,  0,  1,  1,  6,  0,  2,  0,  1,  0,  3,  4,  1,  1,  2,  1,\n",
       "          1,  1,  0,  1,  3,  0,  1,  1,  2,  0,  2,  2,  1,  0,  2,  1,\n",
       "          1,  1,  1,  0,  0,  1,  1,  0,  1,  3,  2,  1,  1,  2,  5,  1,\n",
       "          1,  1,  0,  0,  1,  4,  0,  0,  1,  1,  1,  2,  1,  2,  1,  1,\n",
       "          0,  1,  0,  0, 11,  1,  0],\n",
       "        [ 0,  1,  1,  1,  5,  2,  2,  2,  0,  0,  4,  0,  1,  5,  0,  3,\n",
       "          3,  1,  1,  0,  1,  1,  1,  0,  1,  2,  1,  1,  1,  1,  0,  0,\n",
       "          0,  2,  1,  1,  1,  2,  1,  2,  2,  0,  2,  0,  0,  0,  0,  6,\n",
       "          1,  0,  2,  5,  0,  1,  0,  1,  2,  0, 10,  0,  0,  2,  1,  0,\n",
       "          0,  1,  0,  0,  3,  1,  0,  4,  0,  1,  2,  0,  0,  0,  0,  0,\n",
       "          0,  0,  1,  0,  2,  1,  0,  0,  1,  2,  0,  2,  0,  4,  0,  0,\n",
       "          0,  0,  0,  1,  1,  0,  0,  1,  0,  0,  0,  0,  0,  0,  9,  0,\n",
       "          0,  0,  1,  1,  0,  1,  1,  1,  0,  0,  0,  0,  0,  0,  0,  4,\n",
       "          1,  0,  1,  1, 10,  4,  1]], dtype=int64)"
      ]
     },
     "execution_count": 22,
     "metadata": {},
     "output_type": "execute_result"
    }
   ],
   "source": [
    "vec_corpus.todense()"
   ]
  },
  {
   "cell_type": "code",
   "execution_count": 23,
   "metadata": {},
   "outputs": [],
   "source": [
    "#sparse matrix"
   ]
  },
  {
   "cell_type": "code",
   "execution_count": 24,
   "metadata": {},
   "outputs": [],
   "source": [
    "import pandas as pd"
   ]
  },
  {
   "cell_type": "code",
   "execution_count": 29,
   "metadata": {},
   "outputs": [],
   "source": [
    "df = pd.DataFrame(vec_corpus.todense(),columns=cv.get_feature_names(), index= ['One song for you','Lonely'])"
   ]
  },
  {
   "cell_type": "code",
   "execution_count": 30,
   "metadata": {},
   "outputs": [
    {
     "data": {
      "text/html": [
       "<div>\n",
       "<style scoped>\n",
       "    .dataframe tbody tr th:only-of-type {\n",
       "        vertical-align: middle;\n",
       "    }\n",
       "\n",
       "    .dataframe tbody tr th {\n",
       "        vertical-align: top;\n",
       "    }\n",
       "\n",
       "    .dataframe thead th {\n",
       "        text-align: right;\n",
       "    }\n",
       "</style>\n",
       "<table border=\"1\" class=\"dataframe\">\n",
       "  <thead>\n",
       "    <tr style=\"text-align: right;\">\n",
       "      <th></th>\n",
       "      <th>acted</th>\n",
       "      <th>again</th>\n",
       "      <th>all</th>\n",
       "      <th>alone</th>\n",
       "      <th>and</th>\n",
       "      <th>answer</th>\n",
       "      <th>anybody</th>\n",
       "      <th>aren</th>\n",
       "      <th>baby</th>\n",
       "      <th>bad</th>\n",
       "      <th>...</th>\n",
       "      <th>when</th>\n",
       "      <th>where</th>\n",
       "      <th>with</th>\n",
       "      <th>without</th>\n",
       "      <th>words</th>\n",
       "      <th>yeah</th>\n",
       "      <th>years</th>\n",
       "      <th>you</th>\n",
       "      <th>your</th>\n",
       "      <th>yours</th>\n",
       "    </tr>\n",
       "  </thead>\n",
       "  <tbody>\n",
       "    <tr>\n",
       "      <th>One song for you</th>\n",
       "      <td>1</td>\n",
       "      <td>0</td>\n",
       "      <td>0</td>\n",
       "      <td>2</td>\n",
       "      <td>5</td>\n",
       "      <td>0</td>\n",
       "      <td>0</td>\n",
       "      <td>0</td>\n",
       "      <td>1</td>\n",
       "      <td>1</td>\n",
       "      <td>...</td>\n",
       "      <td>2</td>\n",
       "      <td>1</td>\n",
       "      <td>1</td>\n",
       "      <td>0</td>\n",
       "      <td>1</td>\n",
       "      <td>0</td>\n",
       "      <td>0</td>\n",
       "      <td>11</td>\n",
       "      <td>1</td>\n",
       "      <td>0</td>\n",
       "    </tr>\n",
       "    <tr>\n",
       "      <th>Lonely</th>\n",
       "      <td>0</td>\n",
       "      <td>1</td>\n",
       "      <td>1</td>\n",
       "      <td>1</td>\n",
       "      <td>5</td>\n",
       "      <td>2</td>\n",
       "      <td>2</td>\n",
       "      <td>2</td>\n",
       "      <td>0</td>\n",
       "      <td>0</td>\n",
       "      <td>...</td>\n",
       "      <td>0</td>\n",
       "      <td>0</td>\n",
       "      <td>4</td>\n",
       "      <td>1</td>\n",
       "      <td>0</td>\n",
       "      <td>1</td>\n",
       "      <td>1</td>\n",
       "      <td>10</td>\n",
       "      <td>4</td>\n",
       "      <td>1</td>\n",
       "    </tr>\n",
       "  </tbody>\n",
       "</table>\n",
       "<p>2 rows × 135 columns</p>\n",
       "</div>"
      ],
      "text/plain": [
       "                  acted  again  all  alone  and  answer  anybody  aren  baby  \\\n",
       "One song for you      1      0    0      2    5       0        0     0     1   \n",
       "Lonely                0      1    1      1    5       2        2     2     0   \n",
       "\n",
       "                  bad  ...  when  where  with  without  words  yeah  years  \\\n",
       "One song for you    1  ...     2      1     1        0      1     0      0   \n",
       "Lonely              0  ...     0      0     4        1      0     1      1   \n",
       "\n",
       "                  you  your  yours  \n",
       "One song for you   11     1      0  \n",
       "Lonely             10     4      1  \n",
       "\n",
       "[2 rows x 135 columns]"
      ]
     },
     "execution_count": 30,
     "metadata": {},
     "output_type": "execute_result"
    }
   ],
   "source": [
    "df"
   ]
  },
  {
   "cell_type": "markdown",
   "metadata": {},
   "source": [
    "### Uniqueness-scaled BOW \n",
    "### Tf-Idf Vectors"
   ]
  },
  {
   "cell_type": "code",
   "execution_count": 31,
   "metadata": {},
   "outputs": [
    {
     "data": {
      "text/plain": [
       "One song for you    5\n",
       "Lonely              5\n",
       "Name: and, dtype: int64"
      ]
     },
     "execution_count": 31,
     "metadata": {},
     "output_type": "execute_result"
    }
   ],
   "source": [
    "df['and'] #less unıgue"
   ]
  },
  {
   "cell_type": "code",
   "execution_count": 32,
   "metadata": {},
   "outputs": [
    {
     "data": {
      "text/plain": [
       "One song for you    1\n",
       "Lonely              0\n",
       "Name: what, dtype: int64"
      ]
     },
     "execution_count": 32,
     "metadata": {},
     "output_type": "execute_result"
    }
   ],
   "source": [
    "df['what'] # more unique"
   ]
  },
  {
   "cell_type": "code",
   "execution_count": 33,
   "metadata": {},
   "outputs": [],
   "source": [
    "from sklearn.feature_extraction.text import TfidfTransformer"
   ]
  },
  {
   "cell_type": "code",
   "execution_count": 34,
   "metadata": {},
   "outputs": [],
   "source": [
    "tf = TfidfTransformer()"
   ]
  },
  {
   "cell_type": "code",
   "execution_count": 35,
   "metadata": {},
   "outputs": [
    {
     "data": {
      "text/plain": [
       "TfidfTransformer(norm='l2', smooth_idf=True, sublinear_tf=False, use_idf=True)"
      ]
     },
     "execution_count": 35,
     "metadata": {},
     "output_type": "execute_result"
    }
   ],
   "source": [
    "tf.fit(vec_corpus)"
   ]
  },
  {
   "cell_type": "code",
   "execution_count": 36,
   "metadata": {},
   "outputs": [],
   "source": [
    "tf_corpus = tf.transform(vec_corpus)"
   ]
  },
  {
   "cell_type": "code",
   "execution_count": 37,
   "metadata": {},
   "outputs": [],
   "source": [
    "df2 = pd.DataFrame(tf_corpus.todense(), columns=cv.get_feature_names(), index=['Respect', 'Natural'])"
   ]
  },
  {
   "cell_type": "code",
   "execution_count": 38,
   "metadata": {},
   "outputs": [
    {
     "data": {
      "text/html": [
       "<div>\n",
       "<style scoped>\n",
       "    .dataframe tbody tr th:only-of-type {\n",
       "        vertical-align: middle;\n",
       "    }\n",
       "\n",
       "    .dataframe tbody tr th {\n",
       "        vertical-align: top;\n",
       "    }\n",
       "\n",
       "    .dataframe thead th {\n",
       "        text-align: right;\n",
       "    }\n",
       "</style>\n",
       "<table border=\"1\" class=\"dataframe\">\n",
       "  <thead>\n",
       "    <tr style=\"text-align: right;\">\n",
       "      <th></th>\n",
       "      <th>acted</th>\n",
       "      <th>again</th>\n",
       "      <th>all</th>\n",
       "      <th>alone</th>\n",
       "      <th>and</th>\n",
       "      <th>answer</th>\n",
       "      <th>anybody</th>\n",
       "      <th>aren</th>\n",
       "      <th>baby</th>\n",
       "      <th>bad</th>\n",
       "      <th>...</th>\n",
       "      <th>when</th>\n",
       "      <th>where</th>\n",
       "      <th>with</th>\n",
       "      <th>without</th>\n",
       "      <th>words</th>\n",
       "      <th>yeah</th>\n",
       "      <th>years</th>\n",
       "      <th>you</th>\n",
       "      <th>your</th>\n",
       "      <th>yours</th>\n",
       "    </tr>\n",
       "  </thead>\n",
       "  <tbody>\n",
       "    <tr>\n",
       "      <th>Respect</th>\n",
       "      <td>0.057679</td>\n",
       "      <td>0.000000</td>\n",
       "      <td>0.000000</td>\n",
       "      <td>0.082079</td>\n",
       "      <td>0.205197</td>\n",
       "      <td>0.000000</td>\n",
       "      <td>0.000000</td>\n",
       "      <td>0.000000</td>\n",
       "      <td>0.057679</td>\n",
       "      <td>0.057679</td>\n",
       "      <td>...</td>\n",
       "      <td>0.115359</td>\n",
       "      <td>0.057679</td>\n",
       "      <td>0.041039</td>\n",
       "      <td>0.000000</td>\n",
       "      <td>0.057679</td>\n",
       "      <td>0.000000</td>\n",
       "      <td>0.000000</td>\n",
       "      <td>0.451433</td>\n",
       "      <td>0.041039</td>\n",
       "      <td>0.000000</td>\n",
       "    </tr>\n",
       "    <tr>\n",
       "      <th>Natural</th>\n",
       "      <td>0.000000</td>\n",
       "      <td>0.052663</td>\n",
       "      <td>0.052663</td>\n",
       "      <td>0.037470</td>\n",
       "      <td>0.187352</td>\n",
       "      <td>0.105327</td>\n",
       "      <td>0.105327</td>\n",
       "      <td>0.105327</td>\n",
       "      <td>0.000000</td>\n",
       "      <td>0.000000</td>\n",
       "      <td>...</td>\n",
       "      <td>0.000000</td>\n",
       "      <td>0.000000</td>\n",
       "      <td>0.149881</td>\n",
       "      <td>0.052663</td>\n",
       "      <td>0.000000</td>\n",
       "      <td>0.052663</td>\n",
       "      <td>0.052663</td>\n",
       "      <td>0.374703</td>\n",
       "      <td>0.149881</td>\n",
       "      <td>0.052663</td>\n",
       "    </tr>\n",
       "  </tbody>\n",
       "</table>\n",
       "<p>2 rows × 135 columns</p>\n",
       "</div>"
      ],
      "text/plain": [
       "            acted     again       all     alone       and    answer   anybody  \\\n",
       "Respect  0.057679  0.000000  0.000000  0.082079  0.205197  0.000000  0.000000   \n",
       "Natural  0.000000  0.052663  0.052663  0.037470  0.187352  0.105327  0.105327   \n",
       "\n",
       "             aren      baby       bad  ...      when     where      with  \\\n",
       "Respect  0.000000  0.057679  0.057679  ...  0.115359  0.057679  0.041039   \n",
       "Natural  0.105327  0.000000  0.000000  ...  0.000000  0.000000  0.149881   \n",
       "\n",
       "          without     words      yeah     years       you      your     yours  \n",
       "Respect  0.000000  0.057679  0.000000  0.000000  0.451433  0.041039  0.000000  \n",
       "Natural  0.052663  0.000000  0.052663  0.052663  0.374703  0.149881  0.052663  \n",
       "\n",
       "[2 rows x 135 columns]"
      ]
     },
     "execution_count": 38,
     "metadata": {},
     "output_type": "execute_result"
    }
   ],
   "source": [
    "df2"
   ]
  },
  {
   "cell_type": "markdown",
   "metadata": {},
   "source": [
    "##### lets look at the difference"
   ]
  },
  {
   "cell_type": "code",
   "execution_count": 39,
   "metadata": {},
   "outputs": [
    {
     "data": {
      "text/plain": [
       "One song for you    5\n",
       "Lonely              5\n",
       "Name: and, dtype: int64"
      ]
     },
     "execution_count": 39,
     "metadata": {},
     "output_type": "execute_result"
    }
   ],
   "source": [
    "df['and']"
   ]
  },
  {
   "cell_type": "code",
   "execution_count": 40,
   "metadata": {},
   "outputs": [
    {
     "data": {
      "text/plain": [
       "Respect    0.205197\n",
       "Natural    0.187352\n",
       "Name: and, dtype: float64"
      ]
     },
     "execution_count": 40,
     "metadata": {},
     "output_type": "execute_result"
    }
   ],
   "source": [
    "df2['and']"
   ]
  },
  {
   "cell_type": "code",
   "execution_count": null,
   "metadata": {},
   "outputs": [],
   "source": []
  }
 ],
 "metadata": {
  "kernelspec": {
   "display_name": "Python 3",
   "language": "python",
   "name": "python3"
  },
  "language_info": {
   "codemirror_mode": {
    "name": "ipython",
    "version": 3
   },
   "file_extension": ".py",
   "mimetype": "text/x-python",
   "name": "python",
   "nbconvert_exporter": "python",
   "pygments_lexer": "ipython3",
   "version": "3.7.6"
  }
 },
 "nbformat": 4,
 "nbformat_minor": 4
}
