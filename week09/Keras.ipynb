{
 "cells": [
  {
   "cell_type": "code",
   "execution_count": 1,
   "metadata": {
    "collapsed": true
   },
   "outputs": [
    {
     "name": "stderr",
     "output_type": "stream",
     "text": [
      "c:\\users\\oztur\\anaconda3\\envs\\deep_learning\\lib\\site-packages\\tensorflow\\python\\framework\\dtypes.py:516: FutureWarning: Passing (type, 1) or '1type' as a synonym of type is deprecated; in a future version of numpy, it will be understood as (type, (1,)) / '(1,)type'.\n",
      "  _np_qint8 = np.dtype([(\"qint8\", np.int8, 1)])\n",
      "c:\\users\\oztur\\anaconda3\\envs\\deep_learning\\lib\\site-packages\\tensorflow\\python\\framework\\dtypes.py:517: FutureWarning: Passing (type, 1) or '1type' as a synonym of type is deprecated; in a future version of numpy, it will be understood as (type, (1,)) / '(1,)type'.\n",
      "  _np_quint8 = np.dtype([(\"quint8\", np.uint8, 1)])\n",
      "c:\\users\\oztur\\anaconda3\\envs\\deep_learning\\lib\\site-packages\\tensorflow\\python\\framework\\dtypes.py:518: FutureWarning: Passing (type, 1) or '1type' as a synonym of type is deprecated; in a future version of numpy, it will be understood as (type, (1,)) / '(1,)type'.\n",
      "  _np_qint16 = np.dtype([(\"qint16\", np.int16, 1)])\n",
      "c:\\users\\oztur\\anaconda3\\envs\\deep_learning\\lib\\site-packages\\tensorflow\\python\\framework\\dtypes.py:519: FutureWarning: Passing (type, 1) or '1type' as a synonym of type is deprecated; in a future version of numpy, it will be understood as (type, (1,)) / '(1,)type'.\n",
      "  _np_quint16 = np.dtype([(\"quint16\", np.uint16, 1)])\n",
      "c:\\users\\oztur\\anaconda3\\envs\\deep_learning\\lib\\site-packages\\tensorflow\\python\\framework\\dtypes.py:520: FutureWarning: Passing (type, 1) or '1type' as a synonym of type is deprecated; in a future version of numpy, it will be understood as (type, (1,)) / '(1,)type'.\n",
      "  _np_qint32 = np.dtype([(\"qint32\", np.int32, 1)])\n",
      "c:\\users\\oztur\\anaconda3\\envs\\deep_learning\\lib\\site-packages\\tensorflow\\python\\framework\\dtypes.py:525: FutureWarning: Passing (type, 1) or '1type' as a synonym of type is deprecated; in a future version of numpy, it will be understood as (type, (1,)) / '(1,)type'.\n",
      "  np_resource = np.dtype([(\"resource\", np.ubyte, 1)])\n",
      "c:\\users\\oztur\\anaconda3\\envs\\deep_learning\\lib\\site-packages\\tensorboard\\compat\\tensorflow_stub\\dtypes.py:541: FutureWarning: Passing (type, 1) or '1type' as a synonym of type is deprecated; in a future version of numpy, it will be understood as (type, (1,)) / '(1,)type'.\n",
      "  _np_qint8 = np.dtype([(\"qint8\", np.int8, 1)])\n",
      "c:\\users\\oztur\\anaconda3\\envs\\deep_learning\\lib\\site-packages\\tensorboard\\compat\\tensorflow_stub\\dtypes.py:542: FutureWarning: Passing (type, 1) or '1type' as a synonym of type is deprecated; in a future version of numpy, it will be understood as (type, (1,)) / '(1,)type'.\n",
      "  _np_quint8 = np.dtype([(\"quint8\", np.uint8, 1)])\n",
      "c:\\users\\oztur\\anaconda3\\envs\\deep_learning\\lib\\site-packages\\tensorboard\\compat\\tensorflow_stub\\dtypes.py:543: FutureWarning: Passing (type, 1) or '1type' as a synonym of type is deprecated; in a future version of numpy, it will be understood as (type, (1,)) / '(1,)type'.\n",
      "  _np_qint16 = np.dtype([(\"qint16\", np.int16, 1)])\n",
      "c:\\users\\oztur\\anaconda3\\envs\\deep_learning\\lib\\site-packages\\tensorboard\\compat\\tensorflow_stub\\dtypes.py:544: FutureWarning: Passing (type, 1) or '1type' as a synonym of type is deprecated; in a future version of numpy, it will be understood as (type, (1,)) / '(1,)type'.\n",
      "  _np_quint16 = np.dtype([(\"quint16\", np.uint16, 1)])\n",
      "c:\\users\\oztur\\anaconda3\\envs\\deep_learning\\lib\\site-packages\\tensorboard\\compat\\tensorflow_stub\\dtypes.py:545: FutureWarning: Passing (type, 1) or '1type' as a synonym of type is deprecated; in a future version of numpy, it will be understood as (type, (1,)) / '(1,)type'.\n",
      "  _np_qint32 = np.dtype([(\"qint32\", np.int32, 1)])\n",
      "c:\\users\\oztur\\anaconda3\\envs\\deep_learning\\lib\\site-packages\\tensorboard\\compat\\tensorflow_stub\\dtypes.py:550: FutureWarning: Passing (type, 1) or '1type' as a synonym of type is deprecated; in a future version of numpy, it will be understood as (type, (1,)) / '(1,)type'.\n",
      "  np_resource = np.dtype([(\"resource\", np.ubyte, 1)])\n"
     ]
    }
   ],
   "source": [
    "from tensorflow.keras.datasets import mnist"
   ]
  },
  {
   "cell_type": "code",
   "execution_count": 2,
   "metadata": {},
   "outputs": [],
   "source": [
    "(xtrain, ytrain), (xtest, ytest) = mnist.load_data()"
   ]
  },
  {
   "cell_type": "code",
   "execution_count": 3,
   "metadata": {},
   "outputs": [
    {
     "data": {
      "image/png": "[encoded data removed]",
      "text/plain": [
       "<Figure size 432x288 with 20 Axes>"
      ]
     },
     "metadata": {
      "needs_background": "light"
     },
     "output_type": "display_data"
    }
   ],
   "source": [
    "from matplotlib import pyplot as plt\n",
    "\n",
    "for i in range(20):\n",
    "    plt.subplot(5, 4, i+1)\n",
    "    plt.imshow(xtrain[i], cmap=plt.cm.Greys)\n",
    "    plt.axis('off')\n",
    "    \n"
   ]
  },
  {
   "cell_type": "code",
   "execution_count": 4,
   "metadata": {},
   "outputs": [
    {
     "data": {
      "text/plain": [
       "((60000, 28, 28), (10000, 28, 28))"
      ]
     },
     "execution_count": 4,
     "metadata": {},
     "output_type": "execute_result"
    }
   ],
   "source": [
    "xtrain.shape , xtest.shape"
   ]
  },
  {
   "cell_type": "code",
   "execution_count": 5,
   "metadata": {},
   "outputs": [],
   "source": [
    "xtrain = xtrain.reshape(60000, 784)\n",
    "xtest = xtest.reshape(10000, 784)"
   ]
  },
  {
   "cell_type": "code",
   "execution_count": 6,
   "metadata": {},
   "outputs": [],
   "source": [
    "from tensorflow.keras.models import Sequential\n",
    "from tensorflow.keras.layers import Dense\n",
    "from tensorflow.keras.layers import Activation\n",
    "from tensorflow.keras.layers import Dropout\n",
    "from tensorflow.keras.utils import to_categorical\n",
    "from tensorflow.keras.optimizers import SGD"
   ]
  },
  {
   "cell_type": "code",
   "execution_count": 7,
   "metadata": {},
   "outputs": [
    {
     "data": {
      "text/plain": [
       "784"
      ]
     },
     "execution_count": 7,
     "metadata": {},
     "output_type": "execute_result"
    }
   ],
   "source": [
    "xtrain.shape[1]"
   ]
  },
  {
   "cell_type": "code",
   "execution_count": 33,
   "metadata": {},
   "outputs": [],
   "source": [
    "def create_model(x_train):\n",
    "  model = Sequential()\n",
    "  model.add(Dense(10, input_dim = x_train.shape[1],\n",
    "                  activation = 'tanh'))\n",
    "  model.add(Dense(50, activation='tanh'))\n",
    "  model.add(Dropout(0.5))\n",
    "  model.add(Dense(60, activation='relu'))\n",
    "  model.add(Dense(10, activation='softmax'))\n",
    "  sgd = SGD(lr=0.001, decay=1e-6, momentum=0.9, nesterov=True)\n",
    "  model.compile(optimizer = sgd ,\n",
    "                loss = 'categorical_crossentropy', \n",
    "                metrics=['accuracy'])\n",
    "\n",
    "  return model"
   ]
  },
  {
   "cell_type": "code",
   "execution_count": 34,
   "metadata": {},
   "outputs": [
    {
     "name": "stdout",
     "output_type": "stream",
     "text": [
      "Model: \"sequential_2\"\n",
      "_________________________________________________________________\n",
      "Layer (type)                 Output Shape              Param #   \n",
      "=================================================================\n",
      "dense_8 (Dense)              (None, 10)                7850      \n",
      "_________________________________________________________________\n",
      "dense_9 (Dense)              (None, 50)                550       \n",
      "_________________________________________________________________\n",
      "dropout_2 (Dropout)          (None, 50)                0         \n",
      "_________________________________________________________________\n",
      "dense_10 (Dense)             (None, 60)                3060      \n",
      "_________________________________________________________________\n",
      "dense_11 (Dense)             (None, 10)                610       \n",
      "=================================================================\n",
      "Total params: 12,070\n",
      "Trainable params: 12,070\n",
      "Non-trainable params: 0\n",
      "_________________________________________________________________\n",
      "None\n"
     ]
    }
   ],
   "source": [
    "model = create_model(xtrain)\n",
    "print(model.summary())"
   ]
  },
  {
   "cell_type": "code",
   "execution_count": 35,
   "metadata": {},
   "outputs": [],
   "source": [
    "ytrain_ohe = to_categorical(ytrain)"
   ]
  },
  {
   "cell_type": "code",
   "execution_count": 36,
   "metadata": {
    "scrolled": true
   },
   "outputs": [
    {
     "name": "stdout",
     "output_type": "stream",
     "text": [
      "WARNING:tensorflow:The `nb_epoch` argument in `fit` has been renamed `epochs`.\n",
      "Train on 54000 samples, validate on 6000 samples\n",
      "Epoch 1/50\n",
      "54000/54000 [==============================] - 2s 31us/sample - loss: 2.2058 - acc: 0.1964 - val_loss: 1.9447 - val_acc: 0.4127\n",
      "Epoch 2/50\n",
      "54000/54000 [==============================] - 2s 36us/sample - loss: 1.8673 - acc: 0.3870 - val_loss: 1.5895 - val_acc: 0.5772\n",
      "Epoch 3/50\n",
      "54000/54000 [==============================] - 2s 35us/sample - loss: 1.5657 - acc: 0.5149 - val_loss: 1.3006 - val_acc: 0.6392\n",
      "Epoch 4/50\n",
      "54000/54000 [==============================] - 2s 33us/sample - loss: 1.3352 - acc: 0.5863 - val_loss: 1.0748 - val_acc: 0.7060\n",
      "Epoch 5/50\n",
      "54000/54000 [==============================] - 2s 35us/sample - loss: 1.1746 - acc: 0.6389 - val_loss: 0.9267 - val_acc: 0.7488\n",
      "Epoch 6/50\n",
      "54000/54000 [==============================] - 2s 36us/sample - loss: 1.0577 - acc: 0.6776 - val_loss: 0.8233 - val_acc: 0.7772\n",
      "Epoch 7/50\n",
      "54000/54000 [==============================] - 2s 29us/sample - loss: 0.9767 - acc: 0.7047 - val_loss: 0.8147 - val_acc: 0.7347\n",
      "Epoch 8/50\n",
      "54000/54000 [==============================] - 2s 33us/sample - loss: 0.9258 - acc: 0.7215 - val_loss: 0.7205 - val_acc: 0.7797\n",
      "Epoch 9/50\n",
      "54000/54000 [==============================] - 2s 37us/sample - loss: 0.8667 - acc: 0.7446 - val_loss: 0.6523 - val_acc: 0.8097\n",
      "Epoch 10/50\n",
      "54000/54000 [==============================] - 2s 32us/sample - loss: 0.8273 - acc: 0.7570 - val_loss: 0.6497 - val_acc: 0.8048\n",
      "Epoch 11/50\n",
      "54000/54000 [==============================] - 2s 36us/sample - loss: 0.8084 - acc: 0.7601 - val_loss: 0.5838 - val_acc: 0.8352 0.8\n",
      "Epoch 12/50\n",
      "54000/54000 [==============================] - 2s 31us/sample - loss: 0.7776 - acc: 0.7732 - val_loss: 0.5459 - val_acc: 0.8450\n",
      "Epoch 13/50\n",
      "54000/54000 [==============================] - 2s 37us/sample - loss: 0.7509 - acc: 0.7836 - val_loss: 0.5715 - val_acc: 0.8355\n",
      "Epoch 14/50\n",
      "54000/54000 [==============================] - 2s 38us/sample - loss: 0.7430 - acc: 0.7899 - val_loss: 0.5503 - val_acc: 0.8395\n",
      "Epoch 15/50\n",
      "54000/54000 [==============================] - 2s 31us/sample - loss: 0.7057 - acc: 0.8039 - val_loss: 0.5084 - val_acc: 0.8593\n",
      "Epoch 16/50\n",
      "54000/54000 [==============================] - 2s 33us/sample - loss: 0.6899 - acc: 0.8086 - val_loss: 0.5211 - val_acc: 0.8542\n",
      "Epoch 17/50\n",
      "54000/54000 [==============================] - 2s 35us/sample - loss: 0.7084 - acc: 0.7987 - val_loss: 0.5248 - val_acc: 0.8272\n",
      "Epoch 18/50\n",
      "54000/54000 [==============================] - 2s 33us/sample - loss: 0.6823 - acc: 0.8096 - val_loss: 0.4793 - val_acc: 0.8665\n",
      "Epoch 19/50\n",
      "54000/54000 [==============================] - 2s 35us/sample - loss: 0.6733 - acc: 0.8075 - val_loss: 0.5001 - val_acc: 0.8523\n",
      "Epoch 20/50\n",
      "54000/54000 [==============================] - 2s 30us/sample - loss: 0.6462 - acc: 0.8179 - val_loss: 0.4748 - val_acc: 0.8537\n",
      "Epoch 21/50\n",
      "54000/54000 [==============================] - 2s 29us/sample - loss: 0.6334 - acc: 0.8243 - val_loss: 0.4549 - val_acc: 0.8670\n",
      "Epoch 22/50\n",
      "54000/54000 [==============================] - 2s 36us/sample - loss: 0.6296 - acc: 0.8269 - val_loss: 0.4523 - val_acc: 0.8723\n",
      "Epoch 23/50\n",
      "54000/54000 [==============================] - 2s 38us/sample - loss: 0.6311 - acc: 0.8224 - val_loss: 0.4806 - val_acc: 0.8535\n",
      "Epoch 24/50\n",
      "54000/54000 [==============================] - 2s 28us/sample - loss: 0.6301 - acc: 0.8227 - val_loss: 0.4829 - val_acc: 0.8678\n",
      "Epoch 25/50\n",
      "54000/54000 [==============================] - 2s 37us/sample - loss: 0.6254 - acc: 0.8252 - val_loss: 0.4812 - val_acc: 0.8633\n",
      "Epoch 26/50\n",
      "54000/54000 [==============================] - 2s 37us/sample - loss: 0.6216 - acc: 0.8268 - val_loss: 0.4448 - val_acc: 0.87150.6252 - acc: 0.8\n",
      "Epoch 27/50\n",
      "54000/54000 [==============================] - 2s 31us/sample - loss: 0.6115 - acc: 0.8255 - val_loss: 0.4469 - val_acc: 0.8688\n",
      "Epoch 28/50\n",
      "54000/54000 [==============================] - 2s 34us/sample - loss: 0.6006 - acc: 0.8329 - val_loss: 0.4400 - val_acc: 0.8653\n",
      "Epoch 29/50\n",
      "54000/54000 [==============================] - 2s 31us/sample - loss: 0.6002 - acc: 0.8275 - val_loss: 0.4279 - val_acc: 0.8662\n",
      "Epoch 30/50\n",
      "54000/54000 [==============================] - ETA: 0s - loss: 0.5838 - acc: 0.835 - 2s 28us/sample - loss: 0.5835 - acc: 0.8356 - val_loss: 0.4250 - val_acc: 0.8850\n",
      "Epoch 31/50\n",
      "54000/54000 [==============================] - 2s 37us/sample - loss: 0.5992 - acc: 0.8315 - val_loss: 0.4510 - val_acc: 0.8743\n",
      "Epoch 32/50\n",
      "54000/54000 [==============================] - 2s 37us/sample - loss: 0.5938 - acc: 0.8341 - val_loss: 0.4339 - val_acc: 0.8812.5929 - acc: 0.83\n",
      "Epoch 33/50\n",
      "54000/54000 [==============================] - 2s 31us/sample - loss: 0.5926 - acc: 0.8309 - val_loss: 0.4243 - val_acc: 0.8792\n",
      "Epoch 34/50\n",
      "54000/54000 [==============================] - 2s 33us/sample - loss: 0.5775 - acc: 0.8377 - val_loss: 0.4124 - val_acc: 0.8742\n",
      "Epoch 35/50\n",
      "54000/54000 [==============================] - 2s 32us/sample - loss: 0.5653 - acc: 0.8411 - val_loss: 0.4055 - val_acc: 0.8790\n",
      "Epoch 36/50\n",
      "54000/54000 [==============================] - 2s 33us/sample - loss: 0.5548 - acc: 0.8463 - val_loss: 0.4011 - val_acc: 0.8895\n",
      "Epoch 37/50\n",
      "54000/54000 [==============================] - 2s 31us/sample - loss: 0.5476 - acc: 0.8476 - val_loss: 0.4215 - val_acc: 0.8872\n",
      "Epoch 38/50\n",
      "54000/54000 [==============================] - 2s 38us/sample - loss: 0.5634 - acc: 0.8385 - val_loss: 0.4312 - val_acc: 0.8667- loss: 0.5622 - acc: 0.838\n",
      "Epoch 39/50\n",
      "54000/54000 [==============================] - 2s 31us/sample - loss: 0.5530 - acc: 0.8422 - val_loss: 0.3999 - val_acc: 0.8833 1s - loss: 0.\n",
      "Epoch 40/50\n",
      "54000/54000 [==============================] - 2s 32us/sample - loss: 0.5468 - acc: 0.8477 - val_loss: 0.3870 - val_acc: 0.8912\n",
      "Epoch 41/50\n",
      "54000/54000 [==============================] - 2s 31us/sample - loss: 0.5574 - acc: 0.8431 - val_loss: 0.4053 - val_acc: 0.8813\n",
      "Epoch 42/50\n",
      "54000/54000 [==============================] - 2s 30us/sample - loss: 0.5494 - acc: 0.8444 - val_loss: 0.3852 - val_acc: 0.8865\n",
      "Epoch 43/50\n",
      "54000/54000 [==============================] - 1s 27us/sample - loss: 0.5418 - acc: 0.8473 - val_loss: 0.3933 - val_acc: 0.8832\n",
      "Epoch 44/50\n",
      "54000/54000 [==============================] - 2s 37us/sample - loss: 0.5451 - acc: 0.8458 - val_loss: 0.3739 - val_acc: 0.8975\n",
      "Epoch 45/50\n",
      "54000/54000 [==============================] - 2s 28us/sample - loss: 0.5403 - acc: 0.8486 - val_loss: 0.3914 - val_acc: 0.8873\n",
      "Epoch 46/50\n",
      "54000/54000 [==============================] - 2s 31us/sample - loss: 0.5269 - acc: 0.8566 - val_loss: 0.3793 - val_acc: 0.8893\n",
      "Epoch 47/50\n",
      "54000/54000 [==============================] - 1s 27us/sample - loss: 0.5456 - acc: 0.8486 - val_loss: 0.4058 - val_acc: 0.8775\n",
      "Epoch 48/50\n",
      "54000/54000 [==============================] - 2s 29us/sample - loss: 0.5398 - acc: 0.8526 - val_loss: 0.3795 - val_acc: 0.8895\n",
      "Epoch 49/50\n",
      "54000/54000 [==============================] - 1s 26us/sample - loss: 0.5051 - acc: 0.8628 - val_loss: 0.3636 - val_acc: 0.8953\n",
      "Epoch 50/50\n",
      "54000/54000 [==============================] - 2s 31us/sample - loss: 0.5233 - acc: 0.8495 - val_loss: 0.3762 - val_acc: 0.8952\n"
     ]
    }
   ],
   "source": [
    "history = model.fit(xtrain,\n",
    "          ytrain_ohe,\n",
    "          nb_epoch = 50,\n",
    "          batch_size = 500,\n",
    "          validation_split = 0.1,\n",
    "          verbose = 1)"
   ]
  },
  {
   "cell_type": "code",
   "execution_count": 37,
   "metadata": {},
   "outputs": [
    {
     "name": "stdout",
     "output_type": "stream",
     "text": [
      "60000/60000 [==============================] - 1s 23us/sample - loss: 0.4365 - acc: 0.8745\n",
      "[0.43652963588635124, 0.87448335]\n"
     ]
    }
   ],
   "source": [
    "ytest_ohe = to_categorical(ytest)\n",
    "score = model.evaluate(xtest, ytest_ohe, batch_size=500)\n",
    "print(score)"
   ]
  },
  {
   "cell_type": "code",
   "execution_count": 38,
   "metadata": {},
   "outputs": [
    {
     "name": "stdout",
     "output_type": "stream",
     "text": [
      "[[1.29411113e-03 9.19519400e-04 5.38004423e-03 4.35145289e-01\n",
      "  1.19602766e-04 4.92916584e-01 1.26306782e-04 1.27277570e-03\n",
      "  5.94443753e-02 3.38145555e-03]\n",
      " [9.89348650e-01 1.05138781e-04 3.30620183e-04 5.37160493e-04\n",
      "  1.50886408e-04 6.35435153e-03 1.68401829e-03 2.45152361e-04\n",
      "  8.06691882e-04 4.37347335e-04]\n",
      " [1.39666931e-03 1.56928331e-01 6.04914129e-02 7.36676380e-02\n",
      "  3.63484204e-01 1.14839347e-02 4.78795823e-03 4.18117866e-02\n",
      "  5.35862446e-02 2.32361794e-01]\n",
      " [6.82478349e-05 9.93066549e-01 2.30129948e-03 1.26632454e-03\n",
      "  1.29735010e-04 1.52055625e-04 6.45678883e-05 6.82725746e-04\n",
      "  2.02221796e-03 2.46313110e-04]\n",
      " [9.96662202e-05 1.53521745e-04 6.17085723e-04 8.25685449e-04\n",
      "  2.15481482e-02 7.23003293e-04 1.27416453e-04 4.18578321e-03\n",
      "  2.55545275e-03 9.69164252e-01]\n",
      " [8.78187071e-04 1.81452595e-02 9.18173850e-01 2.44733598e-02\n",
      "  1.63486533e-04 4.68292693e-03 1.56182155e-03 4.99162648e-04\n",
      "  3.06470208e-02 7.74895714e-04]\n",
      " [6.82478349e-05 9.93066549e-01 2.30129948e-03 1.26632454e-03\n",
      "  1.29735010e-04 1.52055625e-04 6.45678883e-05 6.82725746e-04\n",
      "  2.02221796e-03 2.46313110e-04]\n",
      " [1.28569111e-04 1.25498802e-03 6.74844580e-03 9.53973353e-01\n",
      "  1.45723407e-05 2.28276253e-02 7.40513588e-06 1.67688797e-03\n",
      "  1.15261804e-02 1.84210413e-03]\n",
      " [6.82478349e-05 9.93066549e-01 2.30129948e-03 1.26632454e-03\n",
      "  1.29735010e-04 1.52055625e-04 6.45678883e-05 6.82725746e-04\n",
      "  2.02221796e-03 2.46313110e-04]\n",
      " [1.04305298e-04 1.78313581e-04 4.06758743e-04 6.96382718e-04\n",
      "  9.71777320e-01 3.84957972e-03 8.52715224e-03 2.23944336e-03\n",
      "  1.63037842e-03 1.05905505e-02]]\n"
     ]
    }
   ],
   "source": [
    "print(model.predict(xtest[:10]))"
   ]
  },
  {
   "cell_type": "code",
   "execution_count": 39,
   "metadata": {},
   "outputs": [
    {
     "data": {
      "text/plain": [
       "dict_keys(['loss', 'acc', 'val_loss', 'val_acc'])"
      ]
     },
     "execution_count": 39,
     "metadata": {},
     "output_type": "execute_result"
    }
   ],
   "source": [
    "history.history.keys()"
   ]
  },
  {
   "cell_type": "code",
   "execution_count": 40,
   "metadata": {},
   "outputs": [
    {
     "data": {
      "text/plain": [
       "Text(0.5, 0, 'epoch')"
      ]
     },
     "execution_count": 40,
     "metadata": {},
     "output_type": "execute_result"
    },
    {
     "data": {
      "image/png": "[encoded data removed]",
      "text/plain": [
       "<Figure size 432x288 with 1 Axes>"
      ]
     },
     "metadata": {
      "needs_background": "light"
     },
     "output_type": "display_data"
    }
   ],
   "source": [
    "plt.plot(history.history['loss'])\n",
    "plt.plot(history.history['val_loss'])\n",
    "plt.legend(['loss', 'val_loss'])\n",
    "plt.title('Loss')\n",
    "plt.xlabel('epoch')\n"
   ]
  },
  {
   "cell_type": "code",
   "execution_count": 41,
   "metadata": {},
   "outputs": [
    {
     "data": {
      "text/plain": [
       "Text(0.5, 0, 'epoch')"
      ]
     },
     "execution_count": 41,
     "metadata": {},
     "output_type": "execute_result"
    },
    {
     "data": {
      "image/png": "[encoded data removed]",
      "text/plain": [
       "<Figure size 432x288 with 1 Axes>"
      ]
     },
     "metadata": {
      "needs_background": "light"
     },
     "output_type": "display_data"
    }
   ],
   "source": [
    "plt.plot(history.history['acc'])\n",
    "plt.plot(history.history['val_acc'])\n",
    "plt.legend(['acc', 'val_acc'])\n",
    "plt.title('Accuracy')\n",
    "plt.xlabel('epoch')"
   ]
  },
  {
   "cell_type": "code",
   "execution_count": 42,
   "metadata": {},
   "outputs": [],
   "source": [
    "from IPython.display import SVG\n",
    "from tensorflow.keras.utils import plot_model"
   ]
  },
  {
   "cell_type": "code",
   "execution_count": 44,
   "metadata": {},
   "outputs": [
    {
     "name": "stdout",
     "output_type": "stream",
     "text": [
      "Saved model to disk\n"
     ]
    }
   ],
   "source": [
    "# serialize model\n",
    "model.save(\"model.h5\")\n",
    "print(\"Saved model to disk\")"
   ]
  },
  {
   "cell_type": "code",
   "execution_count": null,
   "metadata": {},
   "outputs": [],
   "source": []
  }
 ],
 "metadata": {
  "kernelspec": {
   "display_name": "Python 3",
   "language": "python",
   "name": "python3"
  },
  "language_info": {
   "codemirror_mode": {
    "name": "ipython",
    "version": 3
   },
   "file_extension": ".py",
   "mimetype": "text/x-python",
   "name": "python",
   "nbconvert_exporter": "python",
   "pygments_lexer": "ipython3",
   "version": "3.6.10"
  }
 },
 "nbformat": 4,
 "nbformat_minor": 4
}
