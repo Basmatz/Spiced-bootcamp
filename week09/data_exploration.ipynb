{
 "cells": [
  {
   "cell_type": "code",
   "execution_count": 1,
   "metadata": {},
   "outputs": [],
   "source": [
    "import pandas as pd\n",
    "import numpy as np\n",
    "import seaborn as sns\n",
    "\n",
    "from matplotlib import pyplot as plt"
   ]
  },
  {
   "cell_type": "code",
   "execution_count": 2,
   "metadata": {},
   "outputs": [
    {
     "data": {
      "text/html": [
       "<div>\n",
       "<style scoped>\n",
       "    .dataframe tbody tr th:only-of-type {\n",
       "        vertical-align: middle;\n",
       "    }\n",
       "\n",
       "    .dataframe tbody tr th {\n",
       "        vertical-align: top;\n",
       "    }\n",
       "\n",
       "    .dataframe thead th {\n",
       "        text-align: right;\n",
       "    }\n",
       "</style>\n",
       "<table border=\"1\" class=\"dataframe\">\n",
       "  <thead>\n",
       "    <tr style=\"text-align: right;\">\n",
       "      <th></th>\n",
       "      <th>timestamp</th>\n",
       "      <th>customer_no</th>\n",
       "      <th>location</th>\n",
       "    </tr>\n",
       "  </thead>\n",
       "  <tbody>\n",
       "    <tr>\n",
       "      <th>0</th>\n",
       "      <td>2019-09-02 07:03:00</td>\n",
       "      <td>1</td>\n",
       "      <td>dairy</td>\n",
       "    </tr>\n",
       "    <tr>\n",
       "      <th>1</th>\n",
       "      <td>2019-09-02 07:03:00</td>\n",
       "      <td>2</td>\n",
       "      <td>dairy</td>\n",
       "    </tr>\n",
       "    <tr>\n",
       "      <th>2</th>\n",
       "      <td>2019-09-02 07:04:00</td>\n",
       "      <td>3</td>\n",
       "      <td>dairy</td>\n",
       "    </tr>\n",
       "    <tr>\n",
       "      <th>3</th>\n",
       "      <td>2019-09-02 07:04:00</td>\n",
       "      <td>4</td>\n",
       "      <td>dairy</td>\n",
       "    </tr>\n",
       "    <tr>\n",
       "      <th>4</th>\n",
       "      <td>2019-09-02 07:04:00</td>\n",
       "      <td>5</td>\n",
       "      <td>spices</td>\n",
       "    </tr>\n",
       "    <tr>\n",
       "      <th>...</th>\n",
       "      <td>...</td>\n",
       "      <td>...</td>\n",
       "      <td>...</td>\n",
       "    </tr>\n",
       "    <tr>\n",
       "      <th>4879</th>\n",
       "      <td>2019-09-02 21:49:00</td>\n",
       "      <td>1442</td>\n",
       "      <td>checkout</td>\n",
       "    </tr>\n",
       "    <tr>\n",
       "      <th>4880</th>\n",
       "      <td>2019-09-02 21:49:00</td>\n",
       "      <td>1444</td>\n",
       "      <td>checkout</td>\n",
       "    </tr>\n",
       "    <tr>\n",
       "      <th>4881</th>\n",
       "      <td>2019-09-02 21:49:00</td>\n",
       "      <td>1445</td>\n",
       "      <td>dairy</td>\n",
       "    </tr>\n",
       "    <tr>\n",
       "      <th>4882</th>\n",
       "      <td>2019-09-02 21:50:00</td>\n",
       "      <td>1446</td>\n",
       "      <td>dairy</td>\n",
       "    </tr>\n",
       "    <tr>\n",
       "      <th>4883</th>\n",
       "      <td>2019-09-02 21:50:00</td>\n",
       "      <td>1447</td>\n",
       "      <td>fruit</td>\n",
       "    </tr>\n",
       "  </tbody>\n",
       "</table>\n",
       "<p>4884 rows × 3 columns</p>\n",
       "</div>"
      ],
      "text/plain": [
       "                timestamp  customer_no  location\n",
       "0     2019-09-02 07:03:00            1     dairy\n",
       "1     2019-09-02 07:03:00            2     dairy\n",
       "2     2019-09-02 07:04:00            3     dairy\n",
       "3     2019-09-02 07:04:00            4     dairy\n",
       "4     2019-09-02 07:04:00            5    spices\n",
       "...                   ...          ...       ...\n",
       "4879  2019-09-02 21:49:00         1442  checkout\n",
       "4880  2019-09-02 21:49:00         1444  checkout\n",
       "4881  2019-09-02 21:49:00         1445     dairy\n",
       "4882  2019-09-02 21:50:00         1446     dairy\n",
       "4883  2019-09-02 21:50:00         1447     fruit\n",
       "\n",
       "[4884 rows x 3 columns]"
      ]
     },
     "execution_count": 2,
     "metadata": {},
     "output_type": "execute_result"
    }
   ],
   "source": [
    "df_monday = pd.read_csv('monday.csv',delimiter =';')\n",
    "df_monday"
   ]
  },
  {
   "cell_type": "code",
   "execution_count": 3,
   "metadata": {},
   "outputs": [
    {
     "name": "stdout",
     "output_type": "stream",
     "text": [
      "<class 'pandas.core.frame.DataFrame'>\n",
      "RangeIndex: 4884 entries, 0 to 4883\n",
      "Data columns (total 3 columns):\n",
      " #   Column       Non-Null Count  Dtype \n",
      "---  ------       --------------  ----- \n",
      " 0   timestamp    4884 non-null   object\n",
      " 1   customer_no  4884 non-null   int64 \n",
      " 2   location     4884 non-null   object\n",
      "dtypes: int64(1), object(2)\n",
      "memory usage: 114.6+ KB\n"
     ]
    }
   ],
   "source": [
    "df_monday.info()"
   ]
  },
  {
   "cell_type": "code",
   "execution_count": 4,
   "metadata": {},
   "outputs": [],
   "source": [
    "df_monday['date']= pd.to_datetime(df_monday['timestamp'])"
   ]
  },
  {
   "cell_type": "code",
   "execution_count": 5,
   "metadata": {},
   "outputs": [],
   "source": [
    "#df_monday.rename(columns={'timestamp':'date'}, inplace = True)"
   ]
  },
  {
   "cell_type": "code",
   "execution_count": 6,
   "metadata": {},
   "outputs": [
    {
     "data": {
      "text/html": [
       "<div>\n",
       "<style scoped>\n",
       "    .dataframe tbody tr th:only-of-type {\n",
       "        vertical-align: middle;\n",
       "    }\n",
       "\n",
       "    .dataframe tbody tr th {\n",
       "        vertical-align: top;\n",
       "    }\n",
       "\n",
       "    .dataframe thead th {\n",
       "        text-align: right;\n",
       "    }\n",
       "</style>\n",
       "<table border=\"1\" class=\"dataframe\">\n",
       "  <thead>\n",
       "    <tr style=\"text-align: right;\">\n",
       "      <th></th>\n",
       "      <th>timestamp</th>\n",
       "      <th>customer_no</th>\n",
       "      <th>location</th>\n",
       "    </tr>\n",
       "    <tr>\n",
       "      <th>date</th>\n",
       "      <th></th>\n",
       "      <th></th>\n",
       "      <th></th>\n",
       "    </tr>\n",
       "  </thead>\n",
       "  <tbody>\n",
       "    <tr>\n",
       "      <th>2019-09-02 07:03:00</th>\n",
       "      <td>2019-09-02 07:03:00</td>\n",
       "      <td>1</td>\n",
       "      <td>dairy</td>\n",
       "    </tr>\n",
       "    <tr>\n",
       "      <th>2019-09-02 07:03:00</th>\n",
       "      <td>2019-09-02 07:03:00</td>\n",
       "      <td>2</td>\n",
       "      <td>dairy</td>\n",
       "    </tr>\n",
       "    <tr>\n",
       "      <th>2019-09-02 07:04:00</th>\n",
       "      <td>2019-09-02 07:04:00</td>\n",
       "      <td>3</td>\n",
       "      <td>dairy</td>\n",
       "    </tr>\n",
       "    <tr>\n",
       "      <th>2019-09-02 07:04:00</th>\n",
       "      <td>2019-09-02 07:04:00</td>\n",
       "      <td>4</td>\n",
       "      <td>dairy</td>\n",
       "    </tr>\n",
       "    <tr>\n",
       "      <th>2019-09-02 07:04:00</th>\n",
       "      <td>2019-09-02 07:04:00</td>\n",
       "      <td>5</td>\n",
       "      <td>spices</td>\n",
       "    </tr>\n",
       "    <tr>\n",
       "      <th>...</th>\n",
       "      <td>...</td>\n",
       "      <td>...</td>\n",
       "      <td>...</td>\n",
       "    </tr>\n",
       "    <tr>\n",
       "      <th>2019-09-02 21:49:00</th>\n",
       "      <td>2019-09-02 21:49:00</td>\n",
       "      <td>1442</td>\n",
       "      <td>checkout</td>\n",
       "    </tr>\n",
       "    <tr>\n",
       "      <th>2019-09-02 21:49:00</th>\n",
       "      <td>2019-09-02 21:49:00</td>\n",
       "      <td>1444</td>\n",
       "      <td>checkout</td>\n",
       "    </tr>\n",
       "    <tr>\n",
       "      <th>2019-09-02 21:49:00</th>\n",
       "      <td>2019-09-02 21:49:00</td>\n",
       "      <td>1445</td>\n",
       "      <td>dairy</td>\n",
       "    </tr>\n",
       "    <tr>\n",
       "      <th>2019-09-02 21:50:00</th>\n",
       "      <td>2019-09-02 21:50:00</td>\n",
       "      <td>1446</td>\n",
       "      <td>dairy</td>\n",
       "    </tr>\n",
       "    <tr>\n",
       "      <th>2019-09-02 21:50:00</th>\n",
       "      <td>2019-09-02 21:50:00</td>\n",
       "      <td>1447</td>\n",
       "      <td>fruit</td>\n",
       "    </tr>\n",
       "  </tbody>\n",
       "</table>\n",
       "<p>4884 rows × 3 columns</p>\n",
       "</div>"
      ],
      "text/plain": [
       "                               timestamp  customer_no  location\n",
       "date                                                           \n",
       "2019-09-02 07:03:00  2019-09-02 07:03:00            1     dairy\n",
       "2019-09-02 07:03:00  2019-09-02 07:03:00            2     dairy\n",
       "2019-09-02 07:04:00  2019-09-02 07:04:00            3     dairy\n",
       "2019-09-02 07:04:00  2019-09-02 07:04:00            4     dairy\n",
       "2019-09-02 07:04:00  2019-09-02 07:04:00            5    spices\n",
       "...                                  ...          ...       ...\n",
       "2019-09-02 21:49:00  2019-09-02 21:49:00         1442  checkout\n",
       "2019-09-02 21:49:00  2019-09-02 21:49:00         1444  checkout\n",
       "2019-09-02 21:49:00  2019-09-02 21:49:00         1445     dairy\n",
       "2019-09-02 21:50:00  2019-09-02 21:50:00         1446     dairy\n",
       "2019-09-02 21:50:00  2019-09-02 21:50:00         1447     fruit\n",
       "\n",
       "[4884 rows x 3 columns]"
      ]
     },
     "execution_count": 6,
     "metadata": {},
     "output_type": "execute_result"
    }
   ],
   "source": [
    "df_monday.set_index('date', inplace= True)\n",
    "df_monday"
   ]
  },
  {
   "cell_type": "code",
   "execution_count": 7,
   "metadata": {},
   "outputs": [
    {
     "data": {
      "text/plain": [
       "array([   1,    2,    3, ..., 1445, 1446, 1447], dtype=int64)"
      ]
     },
     "execution_count": 7,
     "metadata": {},
     "output_type": "execute_result"
    }
   ],
   "source": [
    "df_monday['customer_no'].unique() # number of customers "
   ]
  },
  {
   "cell_type": "code",
   "execution_count": 8,
   "metadata": {},
   "outputs": [],
   "source": [
    "#Calculate the total number of customers in each section"
   ]
  },
  {
   "cell_type": "code",
   "execution_count": 9,
   "metadata": {},
   "outputs": [
    {
     "data": {
      "text/plain": [
       "location\n",
       "checkout    1437\n",
       "dairy        895\n",
       "drinks       797\n",
       "fruit       1005\n",
       "spices       750\n",
       "Name: customer_no, dtype: int64"
      ]
     },
     "execution_count": 9,
     "metadata": {},
     "output_type": "execute_result"
    }
   ],
   "source": [
    "df_monday.groupby('location')['customer_no'].count()"
   ]
  },
  {
   "cell_type": "code",
   "execution_count": 10,
   "metadata": {},
   "outputs": [
    {
     "data": {
      "text/plain": [
       "<matplotlib.axes._subplots.AxesSubplot at 0x195b561e3a0>"
      ]
     },
     "execution_count": 10,
     "metadata": {},
     "output_type": "execute_result"
    },
    {
     "data": {
      "image/png": "[encoded data removed]",
      "text/plain": [
       "<Figure size 576x432 with 1 Axes>"
      ]
     },
     "metadata": {
      "needs_background": "light"
     },
     "output_type": "display_data"
    }
   ],
   "source": [
    "plt.figure(figsize=(8,6))\n",
    "sns.countplot(df_monday['location'],order = df_monday['location'].value_counts().index)"
   ]
  },
  {
   "cell_type": "code",
   "execution_count": 11,
   "metadata": {},
   "outputs": [
    {
     "data": {
      "text/html": [
       "<div>\n",
       "<style scoped>\n",
       "    .dataframe tbody tr th:only-of-type {\n",
       "        vertical-align: middle;\n",
       "    }\n",
       "\n",
       "    .dataframe tbody tr th {\n",
       "        vertical-align: top;\n",
       "    }\n",
       "\n",
       "    .dataframe thead th {\n",
       "        text-align: right;\n",
       "    }\n",
       "</style>\n",
       "<table border=\"1\" class=\"dataframe\">\n",
       "  <thead>\n",
       "    <tr style=\"text-align: right;\">\n",
       "      <th></th>\n",
       "      <th>timestamp</th>\n",
       "      <th>customer_no</th>\n",
       "      <th>location</th>\n",
       "      <th>hour</th>\n",
       "    </tr>\n",
       "    <tr>\n",
       "      <th>date</th>\n",
       "      <th></th>\n",
       "      <th></th>\n",
       "      <th></th>\n",
       "      <th></th>\n",
       "    </tr>\n",
       "  </thead>\n",
       "  <tbody>\n",
       "    <tr>\n",
       "      <th>2019-09-02 07:03:00</th>\n",
       "      <td>2019-09-02 07:03:00</td>\n",
       "      <td>1</td>\n",
       "      <td>dairy</td>\n",
       "      <td>7</td>\n",
       "    </tr>\n",
       "    <tr>\n",
       "      <th>2019-09-02 07:03:00</th>\n",
       "      <td>2019-09-02 07:03:00</td>\n",
       "      <td>2</td>\n",
       "      <td>dairy</td>\n",
       "      <td>7</td>\n",
       "    </tr>\n",
       "    <tr>\n",
       "      <th>2019-09-02 07:04:00</th>\n",
       "      <td>2019-09-02 07:04:00</td>\n",
       "      <td>3</td>\n",
       "      <td>dairy</td>\n",
       "      <td>7</td>\n",
       "    </tr>\n",
       "    <tr>\n",
       "      <th>2019-09-02 07:04:00</th>\n",
       "      <td>2019-09-02 07:04:00</td>\n",
       "      <td>4</td>\n",
       "      <td>dairy</td>\n",
       "      <td>7</td>\n",
       "    </tr>\n",
       "    <tr>\n",
       "      <th>2019-09-02 07:04:00</th>\n",
       "      <td>2019-09-02 07:04:00</td>\n",
       "      <td>5</td>\n",
       "      <td>spices</td>\n",
       "      <td>7</td>\n",
       "    </tr>\n",
       "    <tr>\n",
       "      <th>...</th>\n",
       "      <td>...</td>\n",
       "      <td>...</td>\n",
       "      <td>...</td>\n",
       "      <td>...</td>\n",
       "    </tr>\n",
       "    <tr>\n",
       "      <th>2019-09-02 21:49:00</th>\n",
       "      <td>2019-09-02 21:49:00</td>\n",
       "      <td>1442</td>\n",
       "      <td>checkout</td>\n",
       "      <td>21</td>\n",
       "    </tr>\n",
       "    <tr>\n",
       "      <th>2019-09-02 21:49:00</th>\n",
       "      <td>2019-09-02 21:49:00</td>\n",
       "      <td>1444</td>\n",
       "      <td>checkout</td>\n",
       "      <td>21</td>\n",
       "    </tr>\n",
       "    <tr>\n",
       "      <th>2019-09-02 21:49:00</th>\n",
       "      <td>2019-09-02 21:49:00</td>\n",
       "      <td>1445</td>\n",
       "      <td>dairy</td>\n",
       "      <td>21</td>\n",
       "    </tr>\n",
       "    <tr>\n",
       "      <th>2019-09-02 21:50:00</th>\n",
       "      <td>2019-09-02 21:50:00</td>\n",
       "      <td>1446</td>\n",
       "      <td>dairy</td>\n",
       "      <td>21</td>\n",
       "    </tr>\n",
       "    <tr>\n",
       "      <th>2019-09-02 21:50:00</th>\n",
       "      <td>2019-09-02 21:50:00</td>\n",
       "      <td>1447</td>\n",
       "      <td>fruit</td>\n",
       "      <td>21</td>\n",
       "    </tr>\n",
       "  </tbody>\n",
       "</table>\n",
       "<p>4884 rows × 4 columns</p>\n",
       "</div>"
      ],
      "text/plain": [
       "                               timestamp  customer_no  location  hour\n",
       "date                                                                 \n",
       "2019-09-02 07:03:00  2019-09-02 07:03:00            1     dairy     7\n",
       "2019-09-02 07:03:00  2019-09-02 07:03:00            2     dairy     7\n",
       "2019-09-02 07:04:00  2019-09-02 07:04:00            3     dairy     7\n",
       "2019-09-02 07:04:00  2019-09-02 07:04:00            4     dairy     7\n",
       "2019-09-02 07:04:00  2019-09-02 07:04:00            5    spices     7\n",
       "...                                  ...          ...       ...   ...\n",
       "2019-09-02 21:49:00  2019-09-02 21:49:00         1442  checkout    21\n",
       "2019-09-02 21:49:00  2019-09-02 21:49:00         1444  checkout    21\n",
       "2019-09-02 21:49:00  2019-09-02 21:49:00         1445     dairy    21\n",
       "2019-09-02 21:50:00  2019-09-02 21:50:00         1446     dairy    21\n",
       "2019-09-02 21:50:00  2019-09-02 21:50:00         1447     fruit    21\n",
       "\n",
       "[4884 rows x 4 columns]"
      ]
     },
     "execution_count": 11,
     "metadata": {},
     "output_type": "execute_result"
    }
   ],
   "source": [
    "df_monday['hour']= pd.to_datetime(df_monday['timestamp'].astype(str)).dt.hour\n",
    "df_monday"
   ]
  },
  {
   "cell_type": "code",
   "execution_count": 12,
   "metadata": {},
   "outputs": [
    {
     "data": {
      "text/html": [
       "<div>\n",
       "<style scoped>\n",
       "    .dataframe tbody tr th:only-of-type {\n",
       "        vertical-align: middle;\n",
       "    }\n",
       "\n",
       "    .dataframe tbody tr th {\n",
       "        vertical-align: top;\n",
       "    }\n",
       "\n",
       "    .dataframe thead th {\n",
       "        text-align: right;\n",
       "    }\n",
       "</style>\n",
       "<table border=\"1\" class=\"dataframe\">\n",
       "  <thead>\n",
       "    <tr style=\"text-align: right;\">\n",
       "      <th></th>\n",
       "      <th>count</th>\n",
       "      <th>unique</th>\n",
       "      <th>top</th>\n",
       "      <th>freq</th>\n",
       "    </tr>\n",
       "    <tr>\n",
       "      <th>location</th>\n",
       "      <th></th>\n",
       "      <th></th>\n",
       "      <th></th>\n",
       "      <th></th>\n",
       "    </tr>\n",
       "  </thead>\n",
       "  <tbody>\n",
       "    <tr>\n",
       "      <th>checkout</th>\n",
       "      <td>1437</td>\n",
       "      <td>700</td>\n",
       "      <td>2019-09-02 08:50:00</td>\n",
       "      <td>7</td>\n",
       "    </tr>\n",
       "    <tr>\n",
       "      <th>dairy</th>\n",
       "      <td>895</td>\n",
       "      <td>527</td>\n",
       "      <td>2019-09-02 08:46:00</td>\n",
       "      <td>6</td>\n",
       "    </tr>\n",
       "    <tr>\n",
       "      <th>drinks</th>\n",
       "      <td>797</td>\n",
       "      <td>514</td>\n",
       "      <td>2019-09-02 20:46:00</td>\n",
       "      <td>5</td>\n",
       "    </tr>\n",
       "    <tr>\n",
       "      <th>fruit</th>\n",
       "      <td>1005</td>\n",
       "      <td>577</td>\n",
       "      <td>2019-09-02 19:52:00</td>\n",
       "      <td>7</td>\n",
       "    </tr>\n",
       "    <tr>\n",
       "      <th>spices</th>\n",
       "      <td>750</td>\n",
       "      <td>479</td>\n",
       "      <td>2019-09-02 16:57:00</td>\n",
       "      <td>5</td>\n",
       "    </tr>\n",
       "  </tbody>\n",
       "</table>\n",
       "</div>"
      ],
      "text/plain": [
       "         count unique                  top freq\n",
       "location                                       \n",
       "checkout  1437    700  2019-09-02 08:50:00    7\n",
       "dairy      895    527  2019-09-02 08:46:00    6\n",
       "drinks     797    514  2019-09-02 20:46:00    5\n",
       "fruit     1005    577  2019-09-02 19:52:00    7\n",
       "spices     750    479  2019-09-02 16:57:00    5"
      ]
     },
     "execution_count": 12,
     "metadata": {},
     "output_type": "execute_result"
    }
   ],
   "source": [
    "df_monday.groupby('location')['timestamp'].describe()"
   ]
  },
  {
   "cell_type": "code",
   "execution_count": 13,
   "metadata": {},
   "outputs": [],
   "source": [
    "#Calculate the total number of customers in each section over time"
   ]
  },
  {
   "cell_type": "code",
   "execution_count": 14,
   "metadata": {},
   "outputs": [
    {
     "data": {
      "text/plain": [
       "timestamp            location\n",
       "2019-09-02 07:03:00  dairy       2\n",
       "2019-09-02 07:04:00  dairy       2\n",
       "                     fruit       1\n",
       "                     spices      3\n",
       "2019-09-02 07:05:00  checkout    2\n",
       "                                ..\n",
       "2019-09-02 21:49:00  dairy       1\n",
       "                     fruit       2\n",
       "                     spices      2\n",
       "2019-09-02 21:50:00  dairy       1\n",
       "                     fruit       1\n",
       "Name: customer_no, Length: 2797, dtype: int64"
      ]
     },
     "execution_count": 14,
     "metadata": {},
     "output_type": "execute_result"
    }
   ],
   "source": [
    "df_monday.groupby(['timestamp','location'])['customer_no'].count()"
   ]
  },
  {
   "cell_type": "code",
   "execution_count": 15,
   "metadata": {},
   "outputs": [
    {
     "data": {
      "text/plain": [
       "hour  location\n",
       "7     checkout    92\n",
       "      dairy       59\n",
       "      drinks      60\n",
       "      fruit       54\n",
       "      spices      52\n",
       "                  ..\n",
       "21    checkout    52\n",
       "      dairy       22\n",
       "      drinks      28\n",
       "      fruit       33\n",
       "      spices      18\n",
       "Name: customer_no, Length: 75, dtype: int64"
      ]
     },
     "execution_count": 15,
     "metadata": {},
     "output_type": "execute_result"
    }
   ],
   "source": [
    "df_monday.groupby(['hour','location'])['customer_no'].count()"
   ]
  },
  {
   "cell_type": "code",
   "execution_count": 16,
   "metadata": {
    "scrolled": true
   },
   "outputs": [],
   "source": [
    "#plt.figure(figsize=(17,6))\n",
    "#df_monday.groupby(['hour','location'])['customer_no'].count().plot.bar()"
   ]
  },
  {
   "cell_type": "code",
   "execution_count": 17,
   "metadata": {},
   "outputs": [],
   "source": [
    "#Display the number of customers at checkout over time"
   ]
  },
  {
   "cell_type": "code",
   "execution_count": 18,
   "metadata": {},
   "outputs": [
    {
     "data": {
      "text/html": [
       "<div>\n",
       "<style scoped>\n",
       "    .dataframe tbody tr th:only-of-type {\n",
       "        vertical-align: middle;\n",
       "    }\n",
       "\n",
       "    .dataframe tbody tr th {\n",
       "        vertical-align: top;\n",
       "    }\n",
       "\n",
       "    .dataframe thead th {\n",
       "        text-align: right;\n",
       "    }\n",
       "</style>\n",
       "<table border=\"1\" class=\"dataframe\">\n",
       "  <thead>\n",
       "    <tr style=\"text-align: right;\">\n",
       "      <th></th>\n",
       "      <th>timestamp</th>\n",
       "      <th>customer_no</th>\n",
       "      <th>location</th>\n",
       "      <th>hour</th>\n",
       "    </tr>\n",
       "    <tr>\n",
       "      <th>date</th>\n",
       "      <th></th>\n",
       "      <th></th>\n",
       "      <th></th>\n",
       "      <th></th>\n",
       "    </tr>\n",
       "  </thead>\n",
       "  <tbody>\n",
       "    <tr>\n",
       "      <th>2019-09-02 07:05:00</th>\n",
       "      <td>2019-09-02 07:05:00</td>\n",
       "      <td>1</td>\n",
       "      <td>checkout</td>\n",
       "      <td>7</td>\n",
       "    </tr>\n",
       "    <tr>\n",
       "      <th>2019-09-02 07:05:00</th>\n",
       "      <td>2019-09-02 07:05:00</td>\n",
       "      <td>5</td>\n",
       "      <td>checkout</td>\n",
       "      <td>7</td>\n",
       "    </tr>\n",
       "    <tr>\n",
       "      <th>2019-09-02 07:06:00</th>\n",
       "      <td>2019-09-02 07:06:00</td>\n",
       "      <td>2</td>\n",
       "      <td>checkout</td>\n",
       "      <td>7</td>\n",
       "    </tr>\n",
       "    <tr>\n",
       "      <th>2019-09-02 07:06:00</th>\n",
       "      <td>2019-09-02 07:06:00</td>\n",
       "      <td>3</td>\n",
       "      <td>checkout</td>\n",
       "      <td>7</td>\n",
       "    </tr>\n",
       "    <tr>\n",
       "      <th>2019-09-02 07:07:00</th>\n",
       "      <td>2019-09-02 07:07:00</td>\n",
       "      <td>8</td>\n",
       "      <td>checkout</td>\n",
       "      <td>7</td>\n",
       "    </tr>\n",
       "    <tr>\n",
       "      <th>...</th>\n",
       "      <td>...</td>\n",
       "      <td>...</td>\n",
       "      <td>...</td>\n",
       "      <td>...</td>\n",
       "    </tr>\n",
       "    <tr>\n",
       "      <th>2019-09-02 21:47:00</th>\n",
       "      <td>2019-09-02 21:47:00</td>\n",
       "      <td>1438</td>\n",
       "      <td>checkout</td>\n",
       "      <td>21</td>\n",
       "    </tr>\n",
       "    <tr>\n",
       "      <th>2019-09-02 21:48:00</th>\n",
       "      <td>2019-09-02 21:48:00</td>\n",
       "      <td>1431</td>\n",
       "      <td>checkout</td>\n",
       "      <td>21</td>\n",
       "    </tr>\n",
       "    <tr>\n",
       "      <th>2019-09-02 21:48:00</th>\n",
       "      <td>2019-09-02 21:48:00</td>\n",
       "      <td>1434</td>\n",
       "      <td>checkout</td>\n",
       "      <td>21</td>\n",
       "    </tr>\n",
       "    <tr>\n",
       "      <th>2019-09-02 21:49:00</th>\n",
       "      <td>2019-09-02 21:49:00</td>\n",
       "      <td>1442</td>\n",
       "      <td>checkout</td>\n",
       "      <td>21</td>\n",
       "    </tr>\n",
       "    <tr>\n",
       "      <th>2019-09-02 21:49:00</th>\n",
       "      <td>2019-09-02 21:49:00</td>\n",
       "      <td>1444</td>\n",
       "      <td>checkout</td>\n",
       "      <td>21</td>\n",
       "    </tr>\n",
       "  </tbody>\n",
       "</table>\n",
       "<p>1437 rows × 4 columns</p>\n",
       "</div>"
      ],
      "text/plain": [
       "                               timestamp  customer_no  location  hour\n",
       "date                                                                 \n",
       "2019-09-02 07:05:00  2019-09-02 07:05:00            1  checkout     7\n",
       "2019-09-02 07:05:00  2019-09-02 07:05:00            5  checkout     7\n",
       "2019-09-02 07:06:00  2019-09-02 07:06:00            2  checkout     7\n",
       "2019-09-02 07:06:00  2019-09-02 07:06:00            3  checkout     7\n",
       "2019-09-02 07:07:00  2019-09-02 07:07:00            8  checkout     7\n",
       "...                                  ...          ...       ...   ...\n",
       "2019-09-02 21:47:00  2019-09-02 21:47:00         1438  checkout    21\n",
       "2019-09-02 21:48:00  2019-09-02 21:48:00         1431  checkout    21\n",
       "2019-09-02 21:48:00  2019-09-02 21:48:00         1434  checkout    21\n",
       "2019-09-02 21:49:00  2019-09-02 21:49:00         1442  checkout    21\n",
       "2019-09-02 21:49:00  2019-09-02 21:49:00         1444  checkout    21\n",
       "\n",
       "[1437 rows x 4 columns]"
      ]
     },
     "execution_count": 18,
     "metadata": {},
     "output_type": "execute_result"
    }
   ],
   "source": [
    "df_checkout =  df_monday.loc[df_monday['location'] == 'checkout']#.groupby('hour')['customer_no'].count()\n",
    "df_checkout"
   ]
  },
  {
   "cell_type": "code",
   "execution_count": 19,
   "metadata": {},
   "outputs": [
    {
     "data": {
      "text/plain": [
       "<matplotlib.axes._subplots.AxesSubplot at 0x195b5f279a0>"
      ]
     },
     "execution_count": 19,
     "metadata": {},
     "output_type": "execute_result"
    },
    {
     "data": {
      "image/png": "[encoded data removed]",
      "text/plain": [
       "<Figure size 432x288 with 1 Axes>"
      ]
     },
     "metadata": {
      "needs_background": "light"
     },
     "output_type": "display_data"
    }
   ],
   "source": [
    "df_checkout.groupby('hour')['customer_no'].count().plot.bar()"
   ]
  },
  {
   "cell_type": "code",
   "execution_count": 20,
   "metadata": {},
   "outputs": [
    {
     "data": {
      "text/plain": [
       "<matplotlib.axes._subplots.AxesSubplot at 0x195b5fc5d00>"
      ]
     },
     "execution_count": 20,
     "metadata": {},
     "output_type": "execute_result"
    },
    {
     "data": {
      "image/png": "[encoded data removed]",
      "text/plain": [
       "<Figure size 432x288 with 1 Axes>"
      ]
     },
     "metadata": {
      "needs_background": "light"
     },
     "output_type": "display_data"
    }
   ],
   "source": [
    "sns.countplot(df_checkout['hour'])"
   ]
  },
  {
   "cell_type": "code",
   "execution_count": 21,
   "metadata": {},
   "outputs": [],
   "source": [
    "#Calculate the time each customer spent in the market"
   ]
  },
  {
   "cell_type": "code",
   "execution_count": 69,
   "metadata": {},
   "outputs": [],
   "source": [
    "df_arrival = df_monday.groupby(['customer_no'], as_index = False) ['timestamp'].min()"
   ]
  },
  {
   "cell_type": "code",
   "execution_count": 70,
   "metadata": {},
   "outputs": [],
   "source": [
    "df_leave= df_monday.groupby(['customer_no'], as_index = False) ['timestamp'].max()"
   ]
  },
  {
   "cell_type": "code",
   "execution_count": 71,
   "metadata": {},
   "outputs": [
    {
     "data": {
      "text/html": [
       "<div>\n",
       "<style scoped>\n",
       "    .dataframe tbody tr th:only-of-type {\n",
       "        vertical-align: middle;\n",
       "    }\n",
       "\n",
       "    .dataframe tbody tr th {\n",
       "        vertical-align: top;\n",
       "    }\n",
       "\n",
       "    .dataframe thead th {\n",
       "        text-align: right;\n",
       "    }\n",
       "</style>\n",
       "<table border=\"1\" class=\"dataframe\">\n",
       "  <thead>\n",
       "    <tr style=\"text-align: right;\">\n",
       "      <th></th>\n",
       "      <th>customer_no</th>\n",
       "      <th>timestamp_x</th>\n",
       "      <th>timestamp_y</th>\n",
       "    </tr>\n",
       "  </thead>\n",
       "  <tbody>\n",
       "    <tr>\n",
       "      <th>0</th>\n",
       "      <td>1</td>\n",
       "      <td>2019-09-02 07:03:00</td>\n",
       "      <td>2019-09-02 07:05:00</td>\n",
       "    </tr>\n",
       "    <tr>\n",
       "      <th>1</th>\n",
       "      <td>2</td>\n",
       "      <td>2019-09-02 07:03:00</td>\n",
       "      <td>2019-09-02 07:06:00</td>\n",
       "    </tr>\n",
       "    <tr>\n",
       "      <th>2</th>\n",
       "      <td>3</td>\n",
       "      <td>2019-09-02 07:04:00</td>\n",
       "      <td>2019-09-02 07:06:00</td>\n",
       "    </tr>\n",
       "    <tr>\n",
       "      <th>3</th>\n",
       "      <td>4</td>\n",
       "      <td>2019-09-02 07:04:00</td>\n",
       "      <td>2019-09-02 07:08:00</td>\n",
       "    </tr>\n",
       "    <tr>\n",
       "      <th>4</th>\n",
       "      <td>5</td>\n",
       "      <td>2019-09-02 07:04:00</td>\n",
       "      <td>2019-09-02 07:05:00</td>\n",
       "    </tr>\n",
       "    <tr>\n",
       "      <th>...</th>\n",
       "      <td>...</td>\n",
       "      <td>...</td>\n",
       "      <td>...</td>\n",
       "    </tr>\n",
       "    <tr>\n",
       "      <th>1442</th>\n",
       "      <td>1443</td>\n",
       "      <td>2019-09-02 21:47:00</td>\n",
       "      <td>2019-09-02 21:48:00</td>\n",
       "    </tr>\n",
       "    <tr>\n",
       "      <th>1443</th>\n",
       "      <td>1444</td>\n",
       "      <td>2019-09-02 21:48:00</td>\n",
       "      <td>2019-09-02 21:49:00</td>\n",
       "    </tr>\n",
       "    <tr>\n",
       "      <th>1444</th>\n",
       "      <td>1445</td>\n",
       "      <td>2019-09-02 21:49:00</td>\n",
       "      <td>2019-09-02 21:49:00</td>\n",
       "    </tr>\n",
       "    <tr>\n",
       "      <th>1445</th>\n",
       "      <td>1446</td>\n",
       "      <td>2019-09-02 21:50:00</td>\n",
       "      <td>2019-09-02 21:50:00</td>\n",
       "    </tr>\n",
       "    <tr>\n",
       "      <th>1446</th>\n",
       "      <td>1447</td>\n",
       "      <td>2019-09-02 21:50:00</td>\n",
       "      <td>2019-09-02 21:50:00</td>\n",
       "    </tr>\n",
       "  </tbody>\n",
       "</table>\n",
       "<p>1447 rows × 3 columns</p>\n",
       "</div>"
      ],
      "text/plain": [
       "      customer_no          timestamp_x          timestamp_y\n",
       "0               1  2019-09-02 07:03:00  2019-09-02 07:05:00\n",
       "1               2  2019-09-02 07:03:00  2019-09-02 07:06:00\n",
       "2               3  2019-09-02 07:04:00  2019-09-02 07:06:00\n",
       "3               4  2019-09-02 07:04:00  2019-09-02 07:08:00\n",
       "4               5  2019-09-02 07:04:00  2019-09-02 07:05:00\n",
       "...           ...                  ...                  ...\n",
       "1442         1443  2019-09-02 21:47:00  2019-09-02 21:48:00\n",
       "1443         1444  2019-09-02 21:48:00  2019-09-02 21:49:00\n",
       "1444         1445  2019-09-02 21:49:00  2019-09-02 21:49:00\n",
       "1445         1446  2019-09-02 21:50:00  2019-09-02 21:50:00\n",
       "1446         1447  2019-09-02 21:50:00  2019-09-02 21:50:00\n",
       "\n",
       "[1447 rows x 3 columns]"
      ]
     },
     "execution_count": 71,
     "metadata": {},
     "output_type": "execute_result"
    }
   ],
   "source": [
    "df_time = pd.merge(df_arrival, df_leave, on='customer_no', how='inner')\n",
    "df_time"
   ]
  },
  {
   "cell_type": "code",
   "execution_count": 80,
   "metadata": {},
   "outputs": [],
   "source": [
    "df_time.rename(columns={'timestamp_x':'arrival_time','timestamp_y':'leave_time'}, inplace = True)"
   ]
  },
  {
   "cell_type": "code",
   "execution_count": 82,
   "metadata": {},
   "outputs": [
    {
     "data": {
      "text/html": [
       "<div>\n",
       "<style scoped>\n",
       "    .dataframe tbody tr th:only-of-type {\n",
       "        vertical-align: middle;\n",
       "    }\n",
       "\n",
       "    .dataframe tbody tr th {\n",
       "        vertical-align: top;\n",
       "    }\n",
       "\n",
       "    .dataframe thead th {\n",
       "        text-align: right;\n",
       "    }\n",
       "</style>\n",
       "<table border=\"1\" class=\"dataframe\">\n",
       "  <thead>\n",
       "    <tr style=\"text-align: right;\">\n",
       "      <th></th>\n",
       "      <th>customer_no</th>\n",
       "      <th>arrival_time</th>\n",
       "      <th>leave_time</th>\n",
       "      <th>spent</th>\n",
       "    </tr>\n",
       "  </thead>\n",
       "  <tbody>\n",
       "    <tr>\n",
       "      <th>0</th>\n",
       "      <td>1</td>\n",
       "      <td>2019-09-02 07:03:00</td>\n",
       "      <td>2019-09-02 07:05:00</td>\n",
       "      <td>00:02:00</td>\n",
       "    </tr>\n",
       "    <tr>\n",
       "      <th>1</th>\n",
       "      <td>2</td>\n",
       "      <td>2019-09-02 07:03:00</td>\n",
       "      <td>2019-09-02 07:06:00</td>\n",
       "      <td>00:03:00</td>\n",
       "    </tr>\n",
       "    <tr>\n",
       "      <th>2</th>\n",
       "      <td>3</td>\n",
       "      <td>2019-09-02 07:04:00</td>\n",
       "      <td>2019-09-02 07:06:00</td>\n",
       "      <td>00:02:00</td>\n",
       "    </tr>\n",
       "    <tr>\n",
       "      <th>3</th>\n",
       "      <td>4</td>\n",
       "      <td>2019-09-02 07:04:00</td>\n",
       "      <td>2019-09-02 07:08:00</td>\n",
       "      <td>00:04:00</td>\n",
       "    </tr>\n",
       "    <tr>\n",
       "      <th>4</th>\n",
       "      <td>5</td>\n",
       "      <td>2019-09-02 07:04:00</td>\n",
       "      <td>2019-09-02 07:05:00</td>\n",
       "      <td>00:01:00</td>\n",
       "    </tr>\n",
       "    <tr>\n",
       "      <th>...</th>\n",
       "      <td>...</td>\n",
       "      <td>...</td>\n",
       "      <td>...</td>\n",
       "      <td>...</td>\n",
       "    </tr>\n",
       "    <tr>\n",
       "      <th>1442</th>\n",
       "      <td>1443</td>\n",
       "      <td>2019-09-02 21:47:00</td>\n",
       "      <td>2019-09-02 21:48:00</td>\n",
       "      <td>00:01:00</td>\n",
       "    </tr>\n",
       "    <tr>\n",
       "      <th>1443</th>\n",
       "      <td>1444</td>\n",
       "      <td>2019-09-02 21:48:00</td>\n",
       "      <td>2019-09-02 21:49:00</td>\n",
       "      <td>00:01:00</td>\n",
       "    </tr>\n",
       "    <tr>\n",
       "      <th>1444</th>\n",
       "      <td>1445</td>\n",
       "      <td>2019-09-02 21:49:00</td>\n",
       "      <td>2019-09-02 21:49:00</td>\n",
       "      <td>00:00:00</td>\n",
       "    </tr>\n",
       "    <tr>\n",
       "      <th>1445</th>\n",
       "      <td>1446</td>\n",
       "      <td>2019-09-02 21:50:00</td>\n",
       "      <td>2019-09-02 21:50:00</td>\n",
       "      <td>00:00:00</td>\n",
       "    </tr>\n",
       "    <tr>\n",
       "      <th>1446</th>\n",
       "      <td>1447</td>\n",
       "      <td>2019-09-02 21:50:00</td>\n",
       "      <td>2019-09-02 21:50:00</td>\n",
       "      <td>00:00:00</td>\n",
       "    </tr>\n",
       "  </tbody>\n",
       "</table>\n",
       "<p>1447 rows × 4 columns</p>\n",
       "</div>"
      ],
      "text/plain": [
       "      customer_no         arrival_time           leave_time    spent\n",
       "0               1  2019-09-02 07:03:00  2019-09-02 07:05:00 00:02:00\n",
       "1               2  2019-09-02 07:03:00  2019-09-02 07:06:00 00:03:00\n",
       "2               3  2019-09-02 07:04:00  2019-09-02 07:06:00 00:02:00\n",
       "3               4  2019-09-02 07:04:00  2019-09-02 07:08:00 00:04:00\n",
       "4               5  2019-09-02 07:04:00  2019-09-02 07:05:00 00:01:00\n",
       "...           ...                  ...                  ...      ...\n",
       "1442         1443  2019-09-02 21:47:00  2019-09-02 21:48:00 00:01:00\n",
       "1443         1444  2019-09-02 21:48:00  2019-09-02 21:49:00 00:01:00\n",
       "1444         1445  2019-09-02 21:49:00  2019-09-02 21:49:00 00:00:00\n",
       "1445         1446  2019-09-02 21:50:00  2019-09-02 21:50:00 00:00:00\n",
       "1446         1447  2019-09-02 21:50:00  2019-09-02 21:50:00 00:00:00\n",
       "\n",
       "[1447 rows x 4 columns]"
      ]
     },
     "execution_count": 82,
     "metadata": {},
     "output_type": "execute_result"
    }
   ],
   "source": [
    "df_time['spent'] = pd.to_datetime(df_time['leave_time']) - pd.to_datetime(df_time['arrival_time'])\n",
    "df_time"
   ]
  },
  {
   "cell_type": "code",
   "execution_count": 83,
   "metadata": {},
   "outputs": [
    {
     "data": {
      "text/plain": [
       "Timedelta('0 days 00:51:00')"
      ]
     },
     "execution_count": 83,
     "metadata": {},
     "output_type": "execute_result"
    }
   ],
   "source": [
    "df_time['spent'].max()"
   ]
  },
  {
   "cell_type": "code",
   "execution_count": 84,
   "metadata": {},
   "outputs": [
    {
     "data": {
      "text/plain": [
       "Timedelta('0 days 00:00:00')"
      ]
     },
     "execution_count": 84,
     "metadata": {},
     "output_type": "execute_result"
    }
   ],
   "source": [
    "df_time['spent'].min()"
   ]
  },
  {
   "cell_type": "code",
   "execution_count": 85,
   "metadata": {},
   "outputs": [],
   "source": [
    "#Calculate the total number of customers present in the supermarket over time"
   ]
  },
  {
   "cell_type": "code",
   "execution_count": 111,
   "metadata": {},
   "outputs": [
    {
     "data": {
      "text/plain": [
       "hour\n",
       "7     102\n",
       "8     123\n",
       "9      99\n",
       "10     94\n",
       "11     60\n",
       "12     84\n",
       "13    130\n",
       "14     96\n",
       "15    100\n",
       "16     99\n",
       "17    131\n",
       "18    148\n",
       "19    140\n",
       "20    116\n",
       "21     62\n",
       "Name: customer_no, dtype: int64"
      ]
     },
     "execution_count": 111,
     "metadata": {},
     "output_type": "execute_result"
    }
   ],
   "source": [
    "df_monday.groupby(['hour'])['customer_no'].nunique()"
   ]
  },
  {
   "cell_type": "code",
   "execution_count": 87,
   "metadata": {},
   "outputs": [],
   "source": [
    "#Plot the distribution of customers of their first visited section versus following sections "
   ]
  },
  {
   "cell_type": "code",
   "execution_count": 88,
   "metadata": {},
   "outputs": [
    {
     "data": {
      "text/html": [
       "<div>\n",
       "<style scoped>\n",
       "    .dataframe tbody tr th:only-of-type {\n",
       "        vertical-align: middle;\n",
       "    }\n",
       "\n",
       "    .dataframe tbody tr th {\n",
       "        vertical-align: top;\n",
       "    }\n",
       "\n",
       "    .dataframe thead th {\n",
       "        text-align: right;\n",
       "    }\n",
       "</style>\n",
       "<table border=\"1\" class=\"dataframe\">\n",
       "  <thead>\n",
       "    <tr style=\"text-align: right;\">\n",
       "      <th></th>\n",
       "      <th></th>\n",
       "      <th>timestamp</th>\n",
       "      <th>hour</th>\n",
       "    </tr>\n",
       "    <tr>\n",
       "      <th>location</th>\n",
       "      <th>customer_no</th>\n",
       "      <th></th>\n",
       "      <th></th>\n",
       "    </tr>\n",
       "  </thead>\n",
       "  <tbody>\n",
       "    <tr>\n",
       "      <th rowspan=\"5\" valign=\"top\">checkout</th>\n",
       "      <th>1</th>\n",
       "      <td>1</td>\n",
       "      <td>1</td>\n",
       "    </tr>\n",
       "    <tr>\n",
       "      <th>2</th>\n",
       "      <td>1</td>\n",
       "      <td>1</td>\n",
       "    </tr>\n",
       "    <tr>\n",
       "      <th>3</th>\n",
       "      <td>1</td>\n",
       "      <td>1</td>\n",
       "    </tr>\n",
       "    <tr>\n",
       "      <th>4</th>\n",
       "      <td>1</td>\n",
       "      <td>1</td>\n",
       "    </tr>\n",
       "    <tr>\n",
       "      <th>5</th>\n",
       "      <td>1</td>\n",
       "      <td>1</td>\n",
       "    </tr>\n",
       "    <tr>\n",
       "      <th>...</th>\n",
       "      <th>...</th>\n",
       "      <td>...</td>\n",
       "      <td>...</td>\n",
       "    </tr>\n",
       "    <tr>\n",
       "      <th rowspan=\"5\" valign=\"top\">spices</th>\n",
       "      <th>1437</th>\n",
       "      <td>1</td>\n",
       "      <td>1</td>\n",
       "    </tr>\n",
       "    <tr>\n",
       "      <th>1438</th>\n",
       "      <td>1</td>\n",
       "      <td>1</td>\n",
       "    </tr>\n",
       "    <tr>\n",
       "      <th>1440</th>\n",
       "      <td>1</td>\n",
       "      <td>1</td>\n",
       "    </tr>\n",
       "    <tr>\n",
       "      <th>1441</th>\n",
       "      <td>1</td>\n",
       "      <td>1</td>\n",
       "    </tr>\n",
       "    <tr>\n",
       "      <th>1444</th>\n",
       "      <td>1</td>\n",
       "      <td>1</td>\n",
       "    </tr>\n",
       "  </tbody>\n",
       "</table>\n",
       "<p>4229 rows × 2 columns</p>\n",
       "</div>"
      ],
      "text/plain": [
       "                      timestamp  hour\n",
       "location customer_no                 \n",
       "checkout 1                    1     1\n",
       "         2                    1     1\n",
       "         3                    1     1\n",
       "         4                    1     1\n",
       "         5                    1     1\n",
       "...                         ...   ...\n",
       "spices   1437                 1     1\n",
       "         1438                 1     1\n",
       "         1440                 1     1\n",
       "         1441                 1     1\n",
       "         1444                 1     1\n",
       "\n",
       "[4229 rows x 2 columns]"
      ]
     },
     "execution_count": 88,
     "metadata": {},
     "output_type": "execute_result"
    }
   ],
   "source": [
    "df_monday.groupby(['location','customer_no']).count()"
   ]
  },
  {
   "cell_type": "code",
   "execution_count": 89,
   "metadata": {},
   "outputs": [
    {
     "data": {
      "text/html": [
       "<div>\n",
       "<style scoped>\n",
       "    .dataframe tbody tr th:only-of-type {\n",
       "        vertical-align: middle;\n",
       "    }\n",
       "\n",
       "    .dataframe tbody tr th {\n",
       "        vertical-align: top;\n",
       "    }\n",
       "\n",
       "    .dataframe thead th {\n",
       "        text-align: right;\n",
       "    }\n",
       "</style>\n",
       "<table border=\"1\" class=\"dataframe\">\n",
       "  <thead>\n",
       "    <tr style=\"text-align: right;\">\n",
       "      <th></th>\n",
       "      <th>timestamp</th>\n",
       "      <th>customer_no</th>\n",
       "      <th>location</th>\n",
       "      <th>hour</th>\n",
       "    </tr>\n",
       "    <tr>\n",
       "      <th>date</th>\n",
       "      <th></th>\n",
       "      <th></th>\n",
       "      <th></th>\n",
       "      <th></th>\n",
       "    </tr>\n",
       "  </thead>\n",
       "  <tbody>\n",
       "    <tr>\n",
       "      <th>2019-09-02 07:06:00</th>\n",
       "      <td>2019-09-02 07:06:00</td>\n",
       "      <td>10</td>\n",
       "      <td>fruit</td>\n",
       "      <td>7</td>\n",
       "    </tr>\n",
       "    <tr>\n",
       "      <th>2019-09-02 07:08:00</th>\n",
       "      <td>2019-09-02 07:08:00</td>\n",
       "      <td>10</td>\n",
       "      <td>checkout</td>\n",
       "      <td>7</td>\n",
       "    </tr>\n",
       "  </tbody>\n",
       "</table>\n",
       "</div>"
      ],
      "text/plain": [
       "                               timestamp  customer_no  location  hour\n",
       "date                                                                 \n",
       "2019-09-02 07:06:00  2019-09-02 07:06:00           10     fruit     7\n",
       "2019-09-02 07:08:00  2019-09-02 07:08:00           10  checkout     7"
      ]
     },
     "execution_count": 89,
     "metadata": {},
     "output_type": "execute_result"
    }
   ],
   "source": [
    "df_monday[df_monday['customer_no'] == 10]"
   ]
  },
  {
   "cell_type": "code",
   "execution_count": 102,
   "metadata": {},
   "outputs": [
    {
     "data": {
      "text/html": [
       "<div>\n",
       "<style scoped>\n",
       "    .dataframe tbody tr th:only-of-type {\n",
       "        vertical-align: middle;\n",
       "    }\n",
       "\n",
       "    .dataframe tbody tr th {\n",
       "        vertical-align: top;\n",
       "    }\n",
       "\n",
       "    .dataframe thead th {\n",
       "        text-align: right;\n",
       "    }\n",
       "</style>\n",
       "<table border=\"1\" class=\"dataframe\">\n",
       "  <thead>\n",
       "    <tr style=\"text-align: right;\">\n",
       "      <th></th>\n",
       "      <th>timestamp</th>\n",
       "      <th>customer_no</th>\n",
       "      <th>location</th>\n",
       "      <th>hour</th>\n",
       "    </tr>\n",
       "    <tr>\n",
       "      <th>date</th>\n",
       "      <th></th>\n",
       "      <th></th>\n",
       "      <th></th>\n",
       "      <th></th>\n",
       "    </tr>\n",
       "  </thead>\n",
       "  <tbody>\n",
       "    <tr>\n",
       "      <th>2019-09-02 07:06:00</th>\n",
       "      <td>2019-09-02 07:06:00</td>\n",
       "      <td>10</td>\n",
       "      <td>fruit</td>\n",
       "      <td>7</td>\n",
       "    </tr>\n",
       "    <tr>\n",
       "      <th>2019-09-02 07:07:00</th>\n",
       "      <td>2019-09-02 07:06:00</td>\n",
       "      <td>10</td>\n",
       "      <td>fruit</td>\n",
       "      <td>7</td>\n",
       "    </tr>\n",
       "    <tr>\n",
       "      <th>2019-09-02 07:08:00</th>\n",
       "      <td>2019-09-02 07:08:00</td>\n",
       "      <td>10</td>\n",
       "      <td>checkout</td>\n",
       "      <td>7</td>\n",
       "    </tr>\n",
       "  </tbody>\n",
       "</table>\n",
       "</div>"
      ],
      "text/plain": [
       "                               timestamp  customer_no  location  hour\n",
       "date                                                                 \n",
       "2019-09-02 07:06:00  2019-09-02 07:06:00           10     fruit     7\n",
       "2019-09-02 07:07:00  2019-09-02 07:06:00           10     fruit     7\n",
       "2019-09-02 07:08:00  2019-09-02 07:08:00           10  checkout     7"
      ]
     },
     "execution_count": 102,
     "metadata": {},
     "output_type": "execute_result"
    }
   ],
   "source": [
    "df_monday[df_monday['customer_no'] == 10].resample('T').ffill()"
   ]
  },
  {
   "cell_type": "code",
   "execution_count": 103,
   "metadata": {},
   "outputs": [
    {
     "data": {
      "text/html": [
       "<div>\n",
       "<style scoped>\n",
       "    .dataframe tbody tr th:only-of-type {\n",
       "        vertical-align: middle;\n",
       "    }\n",
       "\n",
       "    .dataframe tbody tr th {\n",
       "        vertical-align: top;\n",
       "    }\n",
       "\n",
       "    .dataframe thead th {\n",
       "        text-align: right;\n",
       "    }\n",
       "</style>\n",
       "<table border=\"1\" class=\"dataframe\">\n",
       "  <thead>\n",
       "    <tr style=\"text-align: right;\">\n",
       "      <th></th>\n",
       "      <th></th>\n",
       "      <th>timestamp</th>\n",
       "      <th>customer_no</th>\n",
       "      <th>location</th>\n",
       "      <th>hour</th>\n",
       "    </tr>\n",
       "    <tr>\n",
       "      <th>customer_no</th>\n",
       "      <th>date</th>\n",
       "      <th></th>\n",
       "      <th></th>\n",
       "      <th></th>\n",
       "      <th></th>\n",
       "    </tr>\n",
       "  </thead>\n",
       "  <tbody>\n",
       "    <tr>\n",
       "      <th rowspan=\"3\" valign=\"top\">1</th>\n",
       "      <th>2019-09-02 07:03:00</th>\n",
       "      <td>2019-09-02 07:03:00</td>\n",
       "      <td>1</td>\n",
       "      <td>dairy</td>\n",
       "      <td>7</td>\n",
       "    </tr>\n",
       "    <tr>\n",
       "      <th>2019-09-02 07:04:00</th>\n",
       "      <td>2019-09-02 07:03:00</td>\n",
       "      <td>1</td>\n",
       "      <td>dairy</td>\n",
       "      <td>7</td>\n",
       "    </tr>\n",
       "    <tr>\n",
       "      <th>2019-09-02 07:05:00</th>\n",
       "      <td>2019-09-02 07:05:00</td>\n",
       "      <td>1</td>\n",
       "      <td>checkout</td>\n",
       "      <td>7</td>\n",
       "    </tr>\n",
       "    <tr>\n",
       "      <th rowspan=\"2\" valign=\"top\">2</th>\n",
       "      <th>2019-09-02 07:03:00</th>\n",
       "      <td>2019-09-02 07:03:00</td>\n",
       "      <td>2</td>\n",
       "      <td>dairy</td>\n",
       "      <td>7</td>\n",
       "    </tr>\n",
       "    <tr>\n",
       "      <th>2019-09-02 07:04:00</th>\n",
       "      <td>2019-09-02 07:03:00</td>\n",
       "      <td>2</td>\n",
       "      <td>dairy</td>\n",
       "      <td>7</td>\n",
       "    </tr>\n",
       "    <tr>\n",
       "      <th>...</th>\n",
       "      <th>...</th>\n",
       "      <td>...</td>\n",
       "      <td>...</td>\n",
       "      <td>...</td>\n",
       "      <td>...</td>\n",
       "    </tr>\n",
       "    <tr>\n",
       "      <th rowspan=\"2\" valign=\"top\">1444</th>\n",
       "      <th>2019-09-02 21:48:00</th>\n",
       "      <td>2019-09-02 21:48:00</td>\n",
       "      <td>1444</td>\n",
       "      <td>spices</td>\n",
       "      <td>21</td>\n",
       "    </tr>\n",
       "    <tr>\n",
       "      <th>2019-09-02 21:49:00</th>\n",
       "      <td>2019-09-02 21:49:00</td>\n",
       "      <td>1444</td>\n",
       "      <td>checkout</td>\n",
       "      <td>21</td>\n",
       "    </tr>\n",
       "    <tr>\n",
       "      <th>1445</th>\n",
       "      <th>2019-09-02 21:49:00</th>\n",
       "      <td>2019-09-02 21:49:00</td>\n",
       "      <td>1445</td>\n",
       "      <td>dairy</td>\n",
       "      <td>21</td>\n",
       "    </tr>\n",
       "    <tr>\n",
       "      <th>1446</th>\n",
       "      <th>2019-09-02 21:50:00</th>\n",
       "      <td>2019-09-02 21:50:00</td>\n",
       "      <td>1446</td>\n",
       "      <td>dairy</td>\n",
       "      <td>21</td>\n",
       "    </tr>\n",
       "    <tr>\n",
       "      <th>1447</th>\n",
       "      <th>2019-09-02 21:50:00</th>\n",
       "      <td>2019-09-02 21:50:00</td>\n",
       "      <td>1447</td>\n",
       "      <td>fruit</td>\n",
       "      <td>21</td>\n",
       "    </tr>\n",
       "  </tbody>\n",
       "</table>\n",
       "<p>10765 rows × 4 columns</p>\n",
       "</div>"
      ],
      "text/plain": [
       "                                           timestamp  customer_no  location  \\\n",
       "customer_no date                                                              \n",
       "1           2019-09-02 07:03:00  2019-09-02 07:03:00            1     dairy   \n",
       "            2019-09-02 07:04:00  2019-09-02 07:03:00            1     dairy   \n",
       "            2019-09-02 07:05:00  2019-09-02 07:05:00            1  checkout   \n",
       "2           2019-09-02 07:03:00  2019-09-02 07:03:00            2     dairy   \n",
       "            2019-09-02 07:04:00  2019-09-02 07:03:00            2     dairy   \n",
       "...                                              ...          ...       ...   \n",
       "1444        2019-09-02 21:48:00  2019-09-02 21:48:00         1444    spices   \n",
       "            2019-09-02 21:49:00  2019-09-02 21:49:00         1444  checkout   \n",
       "1445        2019-09-02 21:49:00  2019-09-02 21:49:00         1445     dairy   \n",
       "1446        2019-09-02 21:50:00  2019-09-02 21:50:00         1446     dairy   \n",
       "1447        2019-09-02 21:50:00  2019-09-02 21:50:00         1447     fruit   \n",
       "\n",
       "                                 hour  \n",
       "customer_no date                       \n",
       "1           2019-09-02 07:03:00     7  \n",
       "            2019-09-02 07:04:00     7  \n",
       "            2019-09-02 07:05:00     7  \n",
       "2           2019-09-02 07:03:00     7  \n",
       "            2019-09-02 07:04:00     7  \n",
       "...                               ...  \n",
       "1444        2019-09-02 21:48:00    21  \n",
       "            2019-09-02 21:49:00    21  \n",
       "1445        2019-09-02 21:49:00    21  \n",
       "1446        2019-09-02 21:50:00    21  \n",
       "1447        2019-09-02 21:50:00    21  \n",
       "\n",
       "[10765 rows x 4 columns]"
      ]
     },
     "execution_count": 103,
     "metadata": {},
     "output_type": "execute_result"
    }
   ],
   "source": [
    "df_new= df_monday.groupby('customer_no').resample('T').ffill()\n",
    "df_new"
   ]
  }
 ],
 "metadata": {
  "kernelspec": {
   "display_name": "Python 3",
   "language": "python",
   "name": "python3"
  },
  "language_info": {
   "codemirror_mode": {
    "name": "ipython",
    "version": 3
   },
   "file_extension": ".py",
   "mimetype": "text/x-python",
   "name": "python",
   "nbconvert_exporter": "python",
   "pygments_lexer": "ipython3",
   "version": "3.8.3"
  }
 },
 "nbformat": 4,
 "nbformat_minor": 4
}
