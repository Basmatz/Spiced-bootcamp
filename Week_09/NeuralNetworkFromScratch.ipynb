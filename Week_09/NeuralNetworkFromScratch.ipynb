{
 "cells": [
  {
   "cell_type": "code",
   "execution_count": 1,
   "metadata": {
    "collapsed": true
   },
   "outputs": [],
   "source": [
    "import numpy as np"
   ]
  },
  {
   "cell_type": "code",
   "execution_count": 23,
   "outputs": [],
   "source": [
    "#let's model our neurons / activation functions as a sigmoid function"
   ],
   "metadata": {
    "collapsed": false,
    "pycharm": {
     "name": "#%%\n"
    }
   }
  },
  {
   "cell_type": "code",
   "execution_count": 24,
   "outputs": [],
   "source": [
    "def sigmoid(x):\n",
    "    \"\"\"logistic function.\n",
    "\n",
    "    takes in a single number, and squishes it\n",
    "    between 0 and 1.\n",
    "    \"\"\"\n",
    "\n",
    "    return 1 / (1 + np.exp(-x))\n"
   ],
   "metadata": {
    "collapsed": false,
    "pycharm": {
     "name": "#%%\n"
    }
   }
  },
  {
   "cell_type": "code",
   "execution_count": 25,
   "outputs": [],
   "source": [
    "def feed_forward(X, weights):\n",
    "\n",
    "    '''\n",
    "    1. Calculate the dot product of X\n",
    "    (shape of (50,3))\n",
    "    and the weights of the first layer\n",
    "    (shape of (3, 2))\n",
    "    this results in an output shape of (50, 2)\n",
    "    '''\n",
    "\n",
    "    # (N, 3) * (3, 2) -> (N, 2)\n",
    "    step1 = np.dot(X, weights[0])\n",
    "\n",
    "    \"\"\"\n",
    "    2. Apply the sigmoid function on the result\n",
    "    (applying the sigmoid function on a 50x2 matrix outputs the same shape\n",
    "    \"\"\"\n",
    "\n",
    "    # (N, 2) -> (N, 2)\n",
    "    step2 = sigmoid(step1)\n",
    "\n",
    "    \"\"\"\n",
    "    3. Append an extra 1 for the bias to the result\n",
    "    (this results in a 50x3 matrix).\n",
    "    \"\"\"\n",
    "    #(N, 2) -> (N, 3)\n",
    "\n",
    "    step3 = np.hstack([step2, np.ones((step2.shape[0], 1))])\n",
    "\n",
    "\n",
    "    \"\"\"\n",
    "    4. Calculate the dot product of X (from step 3)\n",
    "    (shape of (50, 3))\n",
    "    and the weights of the second layer\n",
    "    (shape of (3, 1)). This results in an output shape of (50, 1)\n",
    "    \"\"\"\n",
    "    # (N, 3) * (3, 1) -> (N, 1)\n",
    "    step4 = np.dot(step3, weights[1])\n",
    "\n",
    "\n",
    "    \"\"\"\n",
    "    5. Apply the sigmoid function on the result.\n",
    "    \"\"\"\n",
    "    # (N, 1) -> (N, 1)\n",
    "    step5 = sigmoid(step4)\n",
    "\n",
    "\n",
    "    \"\"\"\n",
    "    6. Return all intermediate results (i.e. anything that is outputted\n",
    "       by an activation function).\n",
    "    \"\"\"\n",
    "\n",
    "\n",
    "    return step2, step5"
   ],
   "metadata": {
    "collapsed": false,
    "pycharm": {
     "name": "#%%\n"
    }
   }
  },
  {
   "cell_type": "code",
   "execution_count": 26,
   "outputs": [],
   "source": [
    "def log_loss(ytrue, ypred):\n",
    "    loss = - (ytrue * np.log(ypred) + (1 - ytrue) * np.log(1 - ypred))\n",
    "    return loss\n"
   ],
   "metadata": {
    "collapsed": false,
    "pycharm": {
     "name": "#%%\n"
    }
   }
  },
  {
   "cell_type": "code",
   "execution_count": 326,
   "outputs": [],
   "source": [
    "def backprop(weights,\n",
    "             output1,\n",
    "             output2,\n",
    "             ytrue,\n",
    "             X_input,\n",
    "             LR_O,\n",
    "             LR_H):\n",
    "    #separate learning rates for outer and inner weights.\n",
    "\n",
    "    wH = weights[0]\n",
    "    wO = weights[1]\n",
    "\n",
    "    '''EQUATION A:'''\n",
    "    ytrue = ytrue.reshape(-1, 1)\n",
    "    error = (output2 - ytrue) * log_loss(ytrue, output2)\n",
    "\n",
    "    '''EQUATION B:'''\n",
    "    sig_deriv = output2 * ( 1 - output2)\n",
    "    #derivative of the sigmoid function with respect to the\n",
    "    #hidden output * weights\n",
    "    y_grad = sig_deriv * error\n",
    "\n",
    "    '''EQUATION C:'''\n",
    "    hidden_out_with_bias = np.hstack([output1,np.ones((output1.shape[0] ,1))])\n",
    "    #don't forget the bias!\n",
    "    delta_wo = np.dot(-y_grad.transpose(), hidden_out_with_bias ) * LR_O\n",
    "\n",
    "    #and finally, old weights + delta weights -> new weights!\n",
    "    wO_new = wO + delta_wo.transpose()\n",
    "\n",
    "    '''EQUATION D:'''\n",
    "    sig_deriv_2 = output1 * ( 1 - output1)\n",
    "    H_grad = sig_deriv_2  * np.dot(y_grad , wO[:2].transpose())\n",
    "    #exclude the bias (3rd column) of the outer weights,\n",
    "    #since it is not backpropagated!\n",
    "\n",
    "    '''EQUATION E:'''\n",
    "    delta_wH = np.dot(-H_grad.transpose(), X_input) * LR_H\n",
    "    wH_new = wH + delta_wH.transpose()\n",
    "    #old weights + delta weights -> new weights!\n",
    "\n",
    "    return wH_new, wO_new"
   ],
   "metadata": {
    "collapsed": false,
    "pycharm": {
     "name": "#%%\n"
    }
   }
  },
  {
   "cell_type": "code",
   "execution_count": 486,
   "outputs": [],
   "source": [
    "def get_accuracy(ypred,ytrue):\n",
    "    acc = sum(ytrue.flatten() == ypred.flatten().round().astype(np.int64))\n",
    "    return acc/len(ytrue)"
   ],
   "metadata": {
    "collapsed": false,
    "pycharm": {
     "name": "#%%\n"
    }
   }
  },
  {
   "cell_type": "code",
   "execution_count": 28,
   "outputs": [],
   "source": [
    "from sklearn.datasets import make_moons\n",
    "\n",
    "X, y = make_moons(n_samples=50, noise=0.2, random_state=42)\n",
    "X = np.hstack([X, np.ones((X.shape[0], 1 ))])\n",
    "ytrue = y.reshape(-1, 1)"
   ],
   "metadata": {
    "collapsed": false,
    "pycharm": {
     "name": "#%%\n"
    }
   }
  },
  {
   "cell_type": "code",
   "execution_count": null,
   "outputs": [],
   "source": [
    "from tensorflow.keras.utils import to_categorical\n",
    "\n",
    "to_categorical(ytra)"
   ],
   "metadata": {
    "collapsed": false,
    "pycharm": {
     "name": "#%%\n"
    }
   }
  },
  {
   "cell_type": "code",
   "execution_count": 766,
   "outputs": [
    {
     "name": "stdout",
     "output_type": "stream",
     "text": [
      "Final Loss: 17.56\n",
      "Final Accuracy: 0.9\n"
     ]
    },
    {
     "data": {
      "text/plain": "<Figure size 1080x576 with 2 Axes>",
      "image/png": "[encoded data removed]"
     },
     "metadata": {
      "needs_background": "light"
     },
     "output_type": "display_data"
    }
   ],
   "source": [
    "hidden_weights = np.random.normal(loc=0.0, scale=1.0, size=(3, 2))   # 3 inputs feeding into 2 neurons\n",
    "outer_weights = np.random.normal(loc=0.0, scale=1.0, size=(3, 1)) # 3 inputs feeding into 1 neuron\n",
    "weights = [hidden_weights, outer_weights]\n",
    "\n",
    "ACC_VEC = []\n",
    "LOSS_VEC = []\n",
    "LR_O = 0.3\n",
    "LR_H = 8\n",
    "\n",
    "for i in range(500):\n",
    "    out1, out2 = feed_forward(X, weights)\n",
    "    ACC_VEC.append(get_accuracy(out2,y))\n",
    "    LOSS_VEC.append(sum(log_loss(ytrue, out2))[0])\n",
    "    new_weights = backprop(weights, out1, out2, ytrue, X, LR_O, LR_H)\n",
    "    weights = new_weights\n",
    "\n",
    "import matplotlib.pyplot as plt\n",
    "fig, (ax1, ax2) = plt.subplots(nrows=2, ncols=1, sharex=True, figsize=(15, 8))\n",
    "ax1.plot(LOSS_VEC)\n",
    "ax1.set_title('LOSS OVER TRAINING EPOCHS')\n",
    "ax2.plot(ACC_VEC)\n",
    "ax2 = ax2.set_title('ACCURACY OVER TRAINING EPOCHS')\n",
    "\n",
    "print(f\"Final Loss: {round(LOSS_VEC[-1:][0],2)}\")\n",
    "print(f\"Final Accuracy: {ACC_VEC[-1:][0]}\")"
   ],
   "metadata": {
    "collapsed": false,
    "pycharm": {
     "name": "#%%\n"
    }
   }
  }
 ],
 "metadata": {
  "kernelspec": {
   "display_name": "Python 3",
   "language": "python",
   "name": "python3"
  },
  "language_info": {
   "codemirror_mode": {
    "name": "ipython",
    "version": 2
   },
   "file_extension": ".py",
   "mimetype": "text/x-python",
   "name": "python",
   "nbconvert_exporter": "python",
   "pygments_lexer": "ipython2",
   "version": "2.7.6"
  }
 },
 "nbformat": 4,
 "nbformat_minor": 0
}