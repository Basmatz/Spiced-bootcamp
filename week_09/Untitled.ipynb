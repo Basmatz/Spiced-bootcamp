{
 "cells": [
  {
   "cell_type": "code",
   "execution_count": 228,
   "metadata": {},
   "outputs": [],
   "source": [
    "#import tensorflow.keras\n",
    "from tensorflow.keras.models import Sequential\n",
    "from tensorflow.keras.layers import Dense, Activation\n",
    "from tensorflow.keras.datasets import mnist\n",
    "from tensorflow.keras.utils import to_categorical\n",
    "from tensorflow.keras.layers import BatchNormalization\n",
    "from tensorflow.keras.callbacks import EarlyStopping\n",
    "from tensorflow.keras.layers import Dropout\n",
    "\n",
    "from matplotlib import pyplot as plt\n",
    "\n",
    "import numpy as np\n",
    "import pandas as pd"
   ]
  },
  {
   "cell_type": "markdown",
   "metadata": {},
   "source": [
    "## Load MNIST data"
   ]
  },
  {
   "cell_type": "code",
   "execution_count": 2,
   "metadata": {},
   "outputs": [],
   "source": [
    "(xtrain, ytrain), (xtest, ytest) = mnist.load_data()"
   ]
  },
  {
   "cell_type": "code",
   "execution_count": 77,
   "metadata": {},
   "outputs": [
    {
     "data": {
      "text/plain": [
       "(10000, 28, 28)"
      ]
     },
     "execution_count": 77,
     "metadata": {},
     "output_type": "execute_result"
    }
   ],
   "source": [
    "xtest.shape"
   ]
  },
  {
   "cell_type": "code",
   "execution_count": 79,
   "metadata": {},
   "outputs": [],
   "source": [
    "xtrain_df = pd.DataFrame(xtrain.reshape(60000, 784))\n",
    "xtest_df = pd.DataFrame(xtest.reshape(10000, 784))\n",
    "\n",
    "ytrain_cat = to_categorical(ytrain, num_classes=10)\n",
    "ytest_cat = to_categorical(ytest, num_classes=10)"
   ]
  },
  {
   "cell_type": "markdown",
   "metadata": {},
   "source": [
    "## Define ANN model with 5 hidden layers"
   ]
  },
  {
   "cell_type": "code",
   "execution_count": 260,
   "metadata": {},
   "outputs": [],
   "source": [
    "m1 = Sequential([\n",
    "    Dense(25, input_shape=(784,)), #hardest part to get right\n",
    "    #this means that each data point has 2 features / columns / dimensions\n",
    "    # first 2 => 2 neurons, and the (2, ) means each data point has 2 dimensions\n",
    "        Activation('relu'),\n",
    "            BatchNormalization(),\n",
    "                Dropout(0.1),\n",
    "    Dense(25),\n",
    "        Activation('relu'),\n",
    "            BatchNormalization(),\n",
    "                Dropout(0.1),\n",
    "    Dense(25),\n",
    "        Activation('relu'),\n",
    "            BatchNormalization(),\n",
    "                Dropout(0.1),\n",
    "    Dense(25),\n",
    "        Activation('relu'),\n",
    "            BatchNormalization(),\n",
    "                Dropout(0.1),\n",
    "    Dense(25),\n",
    "        Activation('relu'),\n",
    "            BatchNormalization(),\n",
    "                Dropout(0.1),\n",
    "    Dense(10),\n",
    "        Activation('softmax')  \n",
    "])"
   ]
  },
  {
   "cell_type": "code",
   "execution_count": 230,
   "metadata": {},
   "outputs": [
    {
     "name": "stdout",
     "output_type": "stream",
     "text": [
      "Model: \"sequential_17\"\n",
      "_________________________________________________________________\n",
      "Layer (type)                 Output Shape              Param #   \n",
      "=================================================================\n",
      "dense_74 (Dense)             (None, 25)                19625     \n",
      "_________________________________________________________________\n",
      "activation_73 (Activation)   (None, 25)                0         \n",
      "_________________________________________________________________\n",
      "batch_normalization_42 (Batc (None, 25)                100       \n",
      "_________________________________________________________________\n",
      "dropout (Dropout)            (None, 25)                0         \n",
      "_________________________________________________________________\n",
      "dense_75 (Dense)             (None, 25)                650       \n",
      "_________________________________________________________________\n",
      "activation_74 (Activation)   (None, 25)                0         \n",
      "_________________________________________________________________\n",
      "batch_normalization_43 (Batc (None, 25)                100       \n",
      "_________________________________________________________________\n",
      "dropout_1 (Dropout)          (None, 25)                0         \n",
      "_________________________________________________________________\n",
      "dense_76 (Dense)             (None, 25)                650       \n",
      "_________________________________________________________________\n",
      "activation_75 (Activation)   (None, 25)                0         \n",
      "_________________________________________________________________\n",
      "batch_normalization_44 (Batc (None, 25)                100       \n",
      "_________________________________________________________________\n",
      "dropout_2 (Dropout)          (None, 25)                0         \n",
      "_________________________________________________________________\n",
      "dense_77 (Dense)             (None, 25)                650       \n",
      "_________________________________________________________________\n",
      "activation_76 (Activation)   (None, 25)                0         \n",
      "_________________________________________________________________\n",
      "batch_normalization_45 (Batc (None, 25)                100       \n",
      "_________________________________________________________________\n",
      "dropout_3 (Dropout)          (None, 25)                0         \n",
      "_________________________________________________________________\n",
      "dense_78 (Dense)             (None, 25)                650       \n",
      "_________________________________________________________________\n",
      "activation_77 (Activation)   (None, 25)                0         \n",
      "_________________________________________________________________\n",
      "batch_normalization_46 (Batc (None, 25)                100       \n",
      "_________________________________________________________________\n",
      "dropout_4 (Dropout)          (None, 25)                0         \n",
      "_________________________________________________________________\n",
      "dense_79 (Dense)             (None, 10)                260       \n",
      "_________________________________________________________________\n",
      "activation_78 (Activation)   (None, 10)                0         \n",
      "=================================================================\n",
      "Total params: 22,985\n",
      "Trainable params: 22,735\n",
      "Non-trainable params: 250\n",
      "_________________________________________________________________\n"
     ]
    }
   ],
   "source": [
    "m1.summary()"
   ]
  },
  {
   "cell_type": "code",
   "execution_count": 261,
   "metadata": {},
   "outputs": [],
   "source": [
    "m1.compile(optimizer='Adam', loss='categorical_crossentropy', metrics=['accuracy'])\n",
    "#compiling the model basically translates our keras code into lower-level TensorFlow / C++"
   ]
  },
  {
   "cell_type": "code",
   "execution_count": 210,
   "metadata": {},
   "outputs": [],
   "source": [
    "callback = EarlyStopping(monitor='val_loss', patience=3)"
   ]
  },
  {
   "cell_type": "code",
   "execution_count": 262,
   "metadata": {},
   "outputs": [
    {
     "name": "stdout",
     "output_type": "stream",
     "text": [
      "Epoch 1/100\n",
      "10/10 - 0s - loss: 2.4676 - accuracy: 0.1756 - val_loss: 2.6730 - val_accuracy: 0.1093\n",
      "Epoch 2/100\n",
      "10/10 - 0s - loss: 1.8670 - accuracy: 0.3497 - val_loss: 2.2830 - val_accuracy: 0.1466\n",
      "Epoch 3/100\n",
      "10/10 - 0s - loss: 1.5884 - accuracy: 0.4705 - val_loss: 2.0236 - val_accuracy: 0.2888\n",
      "Epoch 4/100\n",
      "10/10 - 0s - loss: 1.4059 - accuracy: 0.5517 - val_loss: 1.8376 - val_accuracy: 0.3677\n",
      "Epoch 5/100\n",
      "10/10 - 0s - loss: 1.2724 - accuracy: 0.6101 - val_loss: 1.6684 - val_accuracy: 0.4176\n",
      "Epoch 6/100\n",
      "10/10 - 0s - loss: 1.1359 - accuracy: 0.6640 - val_loss: 1.4959 - val_accuracy: 0.4880\n",
      "Epoch 7/100\n",
      "10/10 - 0s - loss: 1.0134 - accuracy: 0.7112 - val_loss: 1.3150 - val_accuracy: 0.5842\n",
      "Epoch 8/100\n",
      "10/10 - 0s - loss: 0.9071 - accuracy: 0.7489 - val_loss: 1.1215 - val_accuracy: 0.6909\n",
      "Epoch 9/100\n",
      "10/10 - 0s - loss: 0.8155 - accuracy: 0.7759 - val_loss: 0.9416 - val_accuracy: 0.7745\n",
      "Epoch 10/100\n",
      "10/10 - 0s - loss: 0.7430 - accuracy: 0.7963 - val_loss: 0.7991 - val_accuracy: 0.8266\n",
      "Epoch 11/100\n",
      "10/10 - 0s - loss: 0.6819 - accuracy: 0.8152 - val_loss: 0.6956 - val_accuracy: 0.8538\n",
      "Epoch 12/100\n",
      "10/10 - 0s - loss: 0.6326 - accuracy: 0.8303 - val_loss: 0.6050 - val_accuracy: 0.8735\n",
      "Epoch 13/100\n",
      "10/10 - 0s - loss: 0.5896 - accuracy: 0.8438 - val_loss: 0.5247 - val_accuracy: 0.8901\n",
      "Epoch 14/100\n",
      "10/10 - 0s - loss: 0.5535 - accuracy: 0.8520 - val_loss: 0.4648 - val_accuracy: 0.9013\n",
      "Epoch 15/100\n",
      "10/10 - 0s - loss: 0.5209 - accuracy: 0.8627 - val_loss: 0.4201 - val_accuracy: 0.9080\n",
      "Epoch 16/100\n",
      "10/10 - 0s - loss: 0.4928 - accuracy: 0.8689 - val_loss: 0.3837 - val_accuracy: 0.9116\n",
      "Epoch 17/100\n",
      "10/10 - 0s - loss: 0.4671 - accuracy: 0.8772 - val_loss: 0.3458 - val_accuracy: 0.9199\n",
      "Epoch 18/100\n",
      "10/10 - 0s - loss: 0.4454 - accuracy: 0.8823 - val_loss: 0.3212 - val_accuracy: 0.9217\n",
      "Epoch 19/100\n",
      "10/10 - 0s - loss: 0.4274 - accuracy: 0.8878 - val_loss: 0.2977 - val_accuracy: 0.9249\n",
      "Epoch 20/100\n",
      "10/10 - 0s - loss: 0.4137 - accuracy: 0.8913 - val_loss: 0.2817 - val_accuracy: 0.9290\n",
      "Epoch 21/100\n",
      "10/10 - 0s - loss: 0.4010 - accuracy: 0.8950 - val_loss: 0.2693 - val_accuracy: 0.9309\n",
      "Epoch 22/100\n",
      "10/10 - 0s - loss: 0.3882 - accuracy: 0.8968 - val_loss: 0.2597 - val_accuracy: 0.9314\n",
      "Epoch 23/100\n",
      "10/10 - 0s - loss: 0.3734 - accuracy: 0.9014 - val_loss: 0.2478 - val_accuracy: 0.9342\n",
      "Epoch 24/100\n",
      "10/10 - 0s - loss: 0.3624 - accuracy: 0.9038 - val_loss: 0.2412 - val_accuracy: 0.9348\n",
      "Epoch 25/100\n",
      "10/10 - 0s - loss: 0.3530 - accuracy: 0.9065 - val_loss: 0.2346 - val_accuracy: 0.9370\n",
      "Epoch 26/100\n",
      "10/10 - 0s - loss: 0.3466 - accuracy: 0.9075 - val_loss: 0.2276 - val_accuracy: 0.9376\n",
      "Epoch 27/100\n",
      "10/10 - 0s - loss: 0.3324 - accuracy: 0.9115 - val_loss: 0.2213 - val_accuracy: 0.9391\n",
      "Epoch 28/100\n",
      "10/10 - 0s - loss: 0.3307 - accuracy: 0.9126 - val_loss: 0.2185 - val_accuracy: 0.9396\n",
      "Epoch 29/100\n",
      "10/10 - 0s - loss: 0.3258 - accuracy: 0.9127 - val_loss: 0.2147 - val_accuracy: 0.9398\n",
      "Epoch 30/100\n",
      "10/10 - 0s - loss: 0.3178 - accuracy: 0.9156 - val_loss: 0.2159 - val_accuracy: 0.9400\n",
      "Epoch 31/100\n",
      "10/10 - 0s - loss: 0.3057 - accuracy: 0.9198 - val_loss: 0.2110 - val_accuracy: 0.9416\n",
      "Epoch 32/100\n",
      "10/10 - 0s - loss: 0.3031 - accuracy: 0.9187 - val_loss: 0.2044 - val_accuracy: 0.9431\n",
      "Epoch 33/100\n",
      "10/10 - 0s - loss: 0.2974 - accuracy: 0.9219 - val_loss: 0.2026 - val_accuracy: 0.9438\n",
      "Epoch 34/100\n",
      "10/10 - 0s - loss: 0.2913 - accuracy: 0.9229 - val_loss: 0.1979 - val_accuracy: 0.9447\n",
      "Epoch 35/100\n",
      "10/10 - 0s - loss: 0.2888 - accuracy: 0.9234 - val_loss: 0.1958 - val_accuracy: 0.9451\n",
      "Epoch 36/100\n",
      "10/10 - 0s - loss: 0.2817 - accuracy: 0.9260 - val_loss: 0.1933 - val_accuracy: 0.9466\n",
      "Epoch 37/100\n",
      "10/10 - 0s - loss: 0.2751 - accuracy: 0.9270 - val_loss: 0.1936 - val_accuracy: 0.9467\n",
      "Epoch 38/100\n",
      "10/10 - 0s - loss: 0.2744 - accuracy: 0.9264 - val_loss: 0.1936 - val_accuracy: 0.9462\n",
      "Epoch 39/100\n",
      "10/10 - 0s - loss: 0.2686 - accuracy: 0.9289 - val_loss: 0.1889 - val_accuracy: 0.9473\n",
      "Epoch 40/100\n",
      "10/10 - 0s - loss: 0.2629 - accuracy: 0.9291 - val_loss: 0.1873 - val_accuracy: 0.9488\n",
      "Epoch 41/100\n",
      "10/10 - 0s - loss: 0.2606 - accuracy: 0.9298 - val_loss: 0.1890 - val_accuracy: 0.9479\n",
      "Epoch 42/100\n",
      "10/10 - 0s - loss: 0.2584 - accuracy: 0.9319 - val_loss: 0.1857 - val_accuracy: 0.9485\n",
      "Epoch 43/100\n",
      "10/10 - 0s - loss: 0.2559 - accuracy: 0.9310 - val_loss: 0.1878 - val_accuracy: 0.9475\n",
      "Epoch 44/100\n",
      "10/10 - 0s - loss: 0.2488 - accuracy: 0.9325 - val_loss: 0.1853 - val_accuracy: 0.9477\n",
      "Epoch 45/100\n",
      "10/10 - 0s - loss: 0.2478 - accuracy: 0.9330 - val_loss: 0.1878 - val_accuracy: 0.9486\n",
      "Epoch 46/100\n",
      "10/10 - 0s - loss: 0.2422 - accuracy: 0.9357 - val_loss: 0.1825 - val_accuracy: 0.9499\n",
      "Epoch 47/100\n",
      "10/10 - 0s - loss: 0.2392 - accuracy: 0.9352 - val_loss: 0.1830 - val_accuracy: 0.9488\n",
      "Epoch 48/100\n",
      "10/10 - 0s - loss: 0.2343 - accuracy: 0.9369 - val_loss: 0.1807 - val_accuracy: 0.9495\n",
      "Epoch 49/100\n",
      "10/10 - 0s - loss: 0.2342 - accuracy: 0.9376 - val_loss: 0.1737 - val_accuracy: 0.9515\n",
      "Epoch 50/100\n",
      "10/10 - 0s - loss: 0.2343 - accuracy: 0.9375 - val_loss: 0.1800 - val_accuracy: 0.9508\n",
      "Epoch 51/100\n",
      "10/10 - 0s - loss: 0.2309 - accuracy: 0.9375 - val_loss: 0.1793 - val_accuracy: 0.9510\n",
      "Epoch 52/100\n",
      "10/10 - 0s - loss: 0.2288 - accuracy: 0.9380 - val_loss: 0.1770 - val_accuracy: 0.9510\n"
     ]
    }
   ],
   "source": [
    "history = m1.fit(xtrain_df, ytrain_cat, epochs=100, batch_size=5000, verbose = 2, callbacks=[callback], validation_split=0.2) # callbacks=[callback],\n",
    "#epochs -> iteration of backpropagation\n",
    "#batch_size -> chunk size / sub-epoch"
   ]
  },
  {
   "cell_type": "code",
   "execution_count": 14,
   "metadata": {},
   "outputs": [
    {
     "data": {
      "text/plain": [
       "array([[0., 0., 0., ..., 0., 0., 0.],\n",
       "       [1., 0., 0., ..., 0., 0., 0.],\n",
       "       [0., 0., 0., ..., 0., 0., 0.],\n",
       "       ...,\n",
       "       [0., 0., 0., ..., 0., 0., 0.],\n",
       "       [0., 0., 0., ..., 0., 0., 0.],\n",
       "       [0., 0., 0., ..., 0., 1., 0.]], dtype=float32)"
      ]
     },
     "execution_count": 14,
     "metadata": {},
     "output_type": "execute_result"
    }
   ],
   "source": [
    "ytrain_cat.reshape()"
   ]
  },
  {
   "cell_type": "code",
   "execution_count": 13,
   "metadata": {},
   "outputs": [
    {
     "data": {
      "text/html": [
       "<div>\n",
       "<style scoped>\n",
       "    .dataframe tbody tr th:only-of-type {\n",
       "        vertical-align: middle;\n",
       "    }\n",
       "\n",
       "    .dataframe tbody tr th {\n",
       "        vertical-align: top;\n",
       "    }\n",
       "\n",
       "    .dataframe thead th {\n",
       "        text-align: right;\n",
       "    }\n",
       "</style>\n",
       "<table border=\"1\" class=\"dataframe\">\n",
       "  <thead>\n",
       "    <tr style=\"text-align: right;\">\n",
       "      <th></th>\n",
       "      <th>0</th>\n",
       "      <th>1</th>\n",
       "      <th>2</th>\n",
       "      <th>3</th>\n",
       "      <th>4</th>\n",
       "      <th>5</th>\n",
       "      <th>6</th>\n",
       "      <th>7</th>\n",
       "      <th>8</th>\n",
       "      <th>9</th>\n",
       "      <th>...</th>\n",
       "      <th>774</th>\n",
       "      <th>775</th>\n",
       "      <th>776</th>\n",
       "      <th>777</th>\n",
       "      <th>778</th>\n",
       "      <th>779</th>\n",
       "      <th>780</th>\n",
       "      <th>781</th>\n",
       "      <th>782</th>\n",
       "      <th>783</th>\n",
       "    </tr>\n",
       "  </thead>\n",
       "  <tbody>\n",
       "    <tr>\n",
       "      <th>0</th>\n",
       "      <td>0</td>\n",
       "      <td>0</td>\n",
       "      <td>0</td>\n",
       "      <td>0</td>\n",
       "      <td>0</td>\n",
       "      <td>0</td>\n",
       "      <td>0</td>\n",
       "      <td>0</td>\n",
       "      <td>0</td>\n",
       "      <td>0</td>\n",
       "      <td>...</td>\n",
       "      <td>0</td>\n",
       "      <td>0</td>\n",
       "      <td>0</td>\n",
       "      <td>0</td>\n",
       "      <td>0</td>\n",
       "      <td>0</td>\n",
       "      <td>0</td>\n",
       "      <td>0</td>\n",
       "      <td>0</td>\n",
       "      <td>0</td>\n",
       "    </tr>\n",
       "    <tr>\n",
       "      <th>1</th>\n",
       "      <td>0</td>\n",
       "      <td>0</td>\n",
       "      <td>0</td>\n",
       "      <td>0</td>\n",
       "      <td>0</td>\n",
       "      <td>0</td>\n",
       "      <td>0</td>\n",
       "      <td>0</td>\n",
       "      <td>0</td>\n",
       "      <td>0</td>\n",
       "      <td>...</td>\n",
       "      <td>0</td>\n",
       "      <td>0</td>\n",
       "      <td>0</td>\n",
       "      <td>0</td>\n",
       "      <td>0</td>\n",
       "      <td>0</td>\n",
       "      <td>0</td>\n",
       "      <td>0</td>\n",
       "      <td>0</td>\n",
       "      <td>0</td>\n",
       "    </tr>\n",
       "    <tr>\n",
       "      <th>2</th>\n",
       "      <td>0</td>\n",
       "      <td>0</td>\n",
       "      <td>0</td>\n",
       "      <td>0</td>\n",
       "      <td>0</td>\n",
       "      <td>0</td>\n",
       "      <td>0</td>\n",
       "      <td>0</td>\n",
       "      <td>0</td>\n",
       "      <td>0</td>\n",
       "      <td>...</td>\n",
       "      <td>0</td>\n",
       "      <td>0</td>\n",
       "      <td>0</td>\n",
       "      <td>0</td>\n",
       "      <td>0</td>\n",
       "      <td>0</td>\n",
       "      <td>0</td>\n",
       "      <td>0</td>\n",
       "      <td>0</td>\n",
       "      <td>0</td>\n",
       "    </tr>\n",
       "    <tr>\n",
       "      <th>3</th>\n",
       "      <td>0</td>\n",
       "      <td>0</td>\n",
       "      <td>0</td>\n",
       "      <td>0</td>\n",
       "      <td>0</td>\n",
       "      <td>0</td>\n",
       "      <td>0</td>\n",
       "      <td>0</td>\n",
       "      <td>0</td>\n",
       "      <td>0</td>\n",
       "      <td>...</td>\n",
       "      <td>0</td>\n",
       "      <td>0</td>\n",
       "      <td>0</td>\n",
       "      <td>0</td>\n",
       "      <td>0</td>\n",
       "      <td>0</td>\n",
       "      <td>0</td>\n",
       "      <td>0</td>\n",
       "      <td>0</td>\n",
       "      <td>0</td>\n",
       "    </tr>\n",
       "    <tr>\n",
       "      <th>4</th>\n",
       "      <td>0</td>\n",
       "      <td>0</td>\n",
       "      <td>0</td>\n",
       "      <td>0</td>\n",
       "      <td>0</td>\n",
       "      <td>0</td>\n",
       "      <td>0</td>\n",
       "      <td>0</td>\n",
       "      <td>0</td>\n",
       "      <td>0</td>\n",
       "      <td>...</td>\n",
       "      <td>0</td>\n",
       "      <td>0</td>\n",
       "      <td>0</td>\n",
       "      <td>0</td>\n",
       "      <td>0</td>\n",
       "      <td>0</td>\n",
       "      <td>0</td>\n",
       "      <td>0</td>\n",
       "      <td>0</td>\n",
       "      <td>0</td>\n",
       "    </tr>\n",
       "    <tr>\n",
       "      <th>...</th>\n",
       "      <td>...</td>\n",
       "      <td>...</td>\n",
       "      <td>...</td>\n",
       "      <td>...</td>\n",
       "      <td>...</td>\n",
       "      <td>...</td>\n",
       "      <td>...</td>\n",
       "      <td>...</td>\n",
       "      <td>...</td>\n",
       "      <td>...</td>\n",
       "      <td>...</td>\n",
       "      <td>...</td>\n",
       "      <td>...</td>\n",
       "      <td>...</td>\n",
       "      <td>...</td>\n",
       "      <td>...</td>\n",
       "      <td>...</td>\n",
       "      <td>...</td>\n",
       "      <td>...</td>\n",
       "      <td>...</td>\n",
       "      <td>...</td>\n",
       "    </tr>\n",
       "    <tr>\n",
       "      <th>59995</th>\n",
       "      <td>0</td>\n",
       "      <td>0</td>\n",
       "      <td>0</td>\n",
       "      <td>0</td>\n",
       "      <td>0</td>\n",
       "      <td>0</td>\n",
       "      <td>0</td>\n",
       "      <td>0</td>\n",
       "      <td>0</td>\n",
       "      <td>0</td>\n",
       "      <td>...</td>\n",
       "      <td>0</td>\n",
       "      <td>0</td>\n",
       "      <td>0</td>\n",
       "      <td>0</td>\n",
       "      <td>0</td>\n",
       "      <td>0</td>\n",
       "      <td>0</td>\n",
       "      <td>0</td>\n",
       "      <td>0</td>\n",
       "      <td>0</td>\n",
       "    </tr>\n",
       "    <tr>\n",
       "      <th>59996</th>\n",
       "      <td>0</td>\n",
       "      <td>0</td>\n",
       "      <td>0</td>\n",
       "      <td>0</td>\n",
       "      <td>0</td>\n",
       "      <td>0</td>\n",
       "      <td>0</td>\n",
       "      <td>0</td>\n",
       "      <td>0</td>\n",
       "      <td>0</td>\n",
       "      <td>...</td>\n",
       "      <td>0</td>\n",
       "      <td>0</td>\n",
       "      <td>0</td>\n",
       "      <td>0</td>\n",
       "      <td>0</td>\n",
       "      <td>0</td>\n",
       "      <td>0</td>\n",
       "      <td>0</td>\n",
       "      <td>0</td>\n",
       "      <td>0</td>\n",
       "    </tr>\n",
       "    <tr>\n",
       "      <th>59997</th>\n",
       "      <td>0</td>\n",
       "      <td>0</td>\n",
       "      <td>0</td>\n",
       "      <td>0</td>\n",
       "      <td>0</td>\n",
       "      <td>0</td>\n",
       "      <td>0</td>\n",
       "      <td>0</td>\n",
       "      <td>0</td>\n",
       "      <td>0</td>\n",
       "      <td>...</td>\n",
       "      <td>0</td>\n",
       "      <td>0</td>\n",
       "      <td>0</td>\n",
       "      <td>0</td>\n",
       "      <td>0</td>\n",
       "      <td>0</td>\n",
       "      <td>0</td>\n",
       "      <td>0</td>\n",
       "      <td>0</td>\n",
       "      <td>0</td>\n",
       "    </tr>\n",
       "    <tr>\n",
       "      <th>59998</th>\n",
       "      <td>0</td>\n",
       "      <td>0</td>\n",
       "      <td>0</td>\n",
       "      <td>0</td>\n",
       "      <td>0</td>\n",
       "      <td>0</td>\n",
       "      <td>0</td>\n",
       "      <td>0</td>\n",
       "      <td>0</td>\n",
       "      <td>0</td>\n",
       "      <td>...</td>\n",
       "      <td>0</td>\n",
       "      <td>0</td>\n",
       "      <td>0</td>\n",
       "      <td>0</td>\n",
       "      <td>0</td>\n",
       "      <td>0</td>\n",
       "      <td>0</td>\n",
       "      <td>0</td>\n",
       "      <td>0</td>\n",
       "      <td>0</td>\n",
       "    </tr>\n",
       "    <tr>\n",
       "      <th>59999</th>\n",
       "      <td>0</td>\n",
       "      <td>0</td>\n",
       "      <td>0</td>\n",
       "      <td>0</td>\n",
       "      <td>0</td>\n",
       "      <td>0</td>\n",
       "      <td>0</td>\n",
       "      <td>0</td>\n",
       "      <td>0</td>\n",
       "      <td>0</td>\n",
       "      <td>...</td>\n",
       "      <td>0</td>\n",
       "      <td>0</td>\n",
       "      <td>0</td>\n",
       "      <td>0</td>\n",
       "      <td>0</td>\n",
       "      <td>0</td>\n",
       "      <td>0</td>\n",
       "      <td>0</td>\n",
       "      <td>0</td>\n",
       "      <td>0</td>\n",
       "    </tr>\n",
       "  </tbody>\n",
       "</table>\n",
       "<p>60000 rows × 784 columns</p>\n",
       "</div>"
      ],
      "text/plain": [
       "       0    1    2    3    4    5    6    7    8    9    ...  774  775  776  \\\n",
       "0        0    0    0    0    0    0    0    0    0    0  ...    0    0    0   \n",
       "1        0    0    0    0    0    0    0    0    0    0  ...    0    0    0   \n",
       "2        0    0    0    0    0    0    0    0    0    0  ...    0    0    0   \n",
       "3        0    0    0    0    0    0    0    0    0    0  ...    0    0    0   \n",
       "4        0    0    0    0    0    0    0    0    0    0  ...    0    0    0   \n",
       "...    ...  ...  ...  ...  ...  ...  ...  ...  ...  ...  ...  ...  ...  ...   \n",
       "59995    0    0    0    0    0    0    0    0    0    0  ...    0    0    0   \n",
       "59996    0    0    0    0    0    0    0    0    0    0  ...    0    0    0   \n",
       "59997    0    0    0    0    0    0    0    0    0    0  ...    0    0    0   \n",
       "59998    0    0    0    0    0    0    0    0    0    0  ...    0    0    0   \n",
       "59999    0    0    0    0    0    0    0    0    0    0  ...    0    0    0   \n",
       "\n",
       "       777  778  779  780  781  782  783  \n",
       "0        0    0    0    0    0    0    0  \n",
       "1        0    0    0    0    0    0    0  \n",
       "2        0    0    0    0    0    0    0  \n",
       "3        0    0    0    0    0    0    0  \n",
       "4        0    0    0    0    0    0    0  \n",
       "...    ...  ...  ...  ...  ...  ...  ...  \n",
       "59995    0    0    0    0    0    0    0  \n",
       "59996    0    0    0    0    0    0    0  \n",
       "59997    0    0    0    0    0    0    0  \n",
       "59998    0    0    0    0    0    0    0  \n",
       "59999    0    0    0    0    0    0    0  \n",
       "\n",
       "[60000 rows x 784 columns]"
      ]
     },
     "execution_count": 13,
     "metadata": {},
     "output_type": "execute_result"
    }
   ],
   "source": [
    "xtrain_df"
   ]
  },
  {
   "cell_type": "code",
   "execution_count": 117,
   "metadata": {},
   "outputs": [
    {
     "ename": "NameError",
     "evalue": "name 'X' is not defined",
     "output_type": "error",
     "traceback": [
      "\u001b[0;31m---------------------------------------------------------------------------\u001b[0m",
      "\u001b[0;31mNameError\u001b[0m                                 Traceback (most recent call last)",
      "\u001b[0;32m<ipython-input-117-4b4cc8ee5f50>\u001b[0m in \u001b[0;36m<module>\u001b[0;34m\u001b[0m\n\u001b[0;32m----> 1\u001b[0;31m \u001b[0mscore\u001b[0m \u001b[0;34m=\u001b[0m \u001b[0mm1\u001b[0m\u001b[0;34m.\u001b[0m\u001b[0mevaluate\u001b[0m\u001b[0;34m(\u001b[0m\u001b[0mX\u001b[0m\u001b[0;34m,\u001b[0m \u001b[0my\u001b[0m\u001b[0;34m,\u001b[0m \u001b[0mbatch_size\u001b[0m\u001b[0;34m=\u001b[0m\u001b[0;36m4\u001b[0m\u001b[0;34m)\u001b[0m\u001b[0;34m\u001b[0m\u001b[0;34m\u001b[0m\u001b[0m\n\u001b[0m\u001b[1;32m      2\u001b[0m \u001b[0mprint\u001b[0m\u001b[0;34m(\u001b[0m\u001b[0mscore\u001b[0m\u001b[0;34m)\u001b[0m\u001b[0;34m\u001b[0m\u001b[0;34m\u001b[0m\u001b[0m\n\u001b[1;32m      3\u001b[0m \u001b[0;31m# Final Loss / Accuracy\u001b[0m\u001b[0;34m\u001b[0m\u001b[0;34m\u001b[0m\u001b[0;34m\u001b[0m\u001b[0m\n",
      "\u001b[0;31mNameError\u001b[0m: name 'X' is not defined"
     ]
    }
   ],
   "source": [
    "score = m1.evaluate(X, y, batch_size=4)\n",
    "print(score)\n",
    "# Final Loss / Accuracy"
   ]
  },
  {
   "cell_type": "code",
   "execution_count": 212,
   "metadata": {},
   "outputs": [
    {
     "data": {
      "text/plain": [
       "[<matplotlib.lines.Line2D at 0x7fe5b907eb10>]"
      ]
     },
     "execution_count": 212,
     "metadata": {},
     "output_type": "execute_result"
    },
    {
     "data": {
      "image/png": "[encoded data removed]",
      "text/plain": [
       "<Figure size 432x288 with 1 Axes>"
      ]
     },
     "metadata": {
      "needs_background": "light"
     },
     "output_type": "display_data"
    }
   ],
   "source": [
    "plt.plot(history.history['loss'])"
   ]
  },
  {
   "cell_type": "code",
   "execution_count": 220,
   "metadata": {},
   "outputs": [
    {
     "data": {
      "text/plain": [
       "[<matplotlib.lines.Line2D at 0x7fe5b95e7210>]"
      ]
     },
     "execution_count": 220,
     "metadata": {},
     "output_type": "execute_result"
    },
    {
     "data": {
      "image/png": "[encoded data removed]",
      "text/plain": [
       "<Figure size 432x288 with 1 Axes>"
      ]
     },
     "metadata": {
      "needs_background": "light"
     },
     "output_type": "display_data"
    }
   ],
   "source": [
    "plt.plot(history.history['accuracy'])"
   ]
  },
  {
   "cell_type": "code",
   "execution_count": 214,
   "metadata": {},
   "outputs": [
    {
     "data": {
      "text/plain": [
       "[<matplotlib.lines.Line2D at 0x7fe5b96fc690>]"
      ]
     },
     "execution_count": 214,
     "metadata": {},
     "output_type": "execute_result"
    },
    {
     "data": {
      "image/png": "[encoded data removed]",
      "text/plain": [
       "<Figure size 432x288 with 1 Axes>"
      ]
     },
     "metadata": {
      "needs_background": "light"
     },
     "output_type": "display_data"
    }
   ],
   "source": [
    "plt.plot(history.history['val_accuracy'])"
   ]
  },
  {
   "cell_type": "code",
   "execution_count": 263,
   "metadata": {},
   "outputs": [
    {
     "name": "stdout",
     "output_type": "stream",
     "text": [
      "12/12 [==============================] - 0s 6ms/step - loss: 0.1402 - accuracy: 0.9620\n",
      "[0.1401960551738739, 0.9619500041007996]\n"
     ]
    }
   ],
   "source": [
    "score = m1.evaluate(xtrain_df, ytrain_cat, batch_size=5000)\n",
    "print(score)\n",
    "# Final Loss / Accuracy"
   ]
  },
  {
   "cell_type": "code",
   "execution_count": 264,
   "metadata": {},
   "outputs": [
    {
     "name": "stdout",
     "output_type": "stream",
     "text": [
      "200/200 [==============================] - 0s 995us/step - loss: 0.1834 - accuracy: 0.9500\n",
      "[0.18340252339839935, 0.949999988079071]\n"
     ]
    }
   ],
   "source": [
    "score = m1.evaluate(xtest_df, ytest_cat, batch_size=50)\n",
    "print(score)"
   ]
  },
  {
   "cell_type": "code",
   "execution_count": null,
   "metadata": {},
   "outputs": [],
   "source": []
  },
  {
   "cell_type": "code",
   "execution_count": null,
   "metadata": {},
   "outputs": [],
   "source": []
  },
  {
   "cell_type": "code",
   "execution_count": null,
   "metadata": {},
   "outputs": [],
   "source": []
  }
 ],
 "metadata": {
  "kernelspec": {
   "display_name": "deep_learning",
   "language": "python",
   "name": "deep_learning"
  },
  "language_info": {
   "codemirror_mode": {
    "name": "ipython",
    "version": 3
   },
   "file_extension": ".py",
   "mimetype": "text/x-python",
   "name": "python",
   "nbconvert_exporter": "python",
   "pygments_lexer": "ipython3",
   "version": "3.7.6"
  }
 },
 "nbformat": 4,
 "nbformat_minor": 4
}
