{
 "cells": [
  {
   "cell_type": "markdown",
   "metadata": {},
   "source": [
    "# Updated Lyrics Scraper\n",
    "\n",
    "Using BeautifulSoup4."
   ]
  },
  {
   "cell_type": "code",
   "execution_count": 205,
   "metadata": {},
   "outputs": [],
   "source": [
    "import requests\n",
    "import os\n",
    "import re\n",
    "from pathlib import Path\n",
    "from bs4 import BeautifulSoup"
   ]
  },
  {
   "cell_type": "code",
   "execution_count": 25,
   "metadata": {},
   "outputs": [],
   "source": [
    "# set up URLs for fave artists\n",
    "\n",
    "# janelle monae\n",
    "url_JM = 'https://www.lyrics.com/artist/Janelle-Mon%C3%A1e/748801'\n",
    "\n",
    "# dolly parton\n",
    "url_DP = 'https://www.lyrics.com/artist/Dolly-Parton/1759'"
   ]
  },
  {
   "cell_type": "code",
   "execution_count": 30,
   "metadata": {},
   "outputs": [],
   "source": [
    "# set up loop for getting links to songs: make the artist and URL lists\n",
    "\n",
    "artists = ['DollyParton', 'JanelleMonae']\n",
    "\n",
    "artist_urls = {'DollyParton' : url_DP,\n",
    "          'JanelleMonae' : url_JM}"
   ]
  },
  {
   "cell_type": "code",
   "execution_count": 186,
   "metadata": {},
   "outputs": [
    {
     "name": "stdout",
     "output_type": "stream",
     "text": [
      "200\n",
      "200\n"
     ]
    }
   ],
   "source": [
    "for artist in artists:\n",
    "    os.mkdir(str(artist))\n",
    "    list_of_complete_urls = []\n",
    "    request = requests.get(artist_urls[artist])\n",
    "    print(request.status_code)\n",
    "    soup = BeautifulSoup(request.text)\n",
    "    with open(f'{artist}/{artist}_all_songs.txt', 'w') as f: # create the new files within the new directory\n",
    "        for link in soup.body.find_all(class_ = 'tal qx'):\n",
    "            song = link.find('a').get('href')\n",
    "            songname = link.find('a').get_text()\n",
    "            song_url = 'http://www.lyrics.com'+ str(song) + '\\n'\n",
    "            list_of_complete_urls.append(songname + '\\t')\n",
    "            list_of_complete_urls.append(song_url)\n",
    "        f.writelines(list_of_complete_urls)"
   ]
  },
  {
   "cell_type": "markdown",
   "metadata": {},
   "source": [
    "Now we have our files listing every song by the artists of interest. Next up: extracting song lyrics!"
   ]
  },
  {
   "cell_type": "markdown",
   "metadata": {},
   "source": [
    "Now re-open the files containing all of the links, and read individual song text into different files."
   ]
  },
  {
   "cell_type": "code",
   "execution_count": null,
   "metadata": {},
   "outputs": [],
   "source": [
    "for artist in artists:\n",
    "    all_songs = open(f'{artist}/{artist}_all_songs.txt', 'r').read().split('\\n')    \n",
    "    all_titles = []\n",
    "    for line in all_songs[:-1]: # need to index to penultimate line as there is a newline at the end of the file.\n",
    "        song_title = line.split('\\t')[0]\n",
    "        song_title = re.sub('\\W', '', song_title)\n",
    "        if song_title not in all_titles:\n",
    "            all_titles.append(song_title)\n",
    "            song_link = line.split('\\t')[1]\n",
    "            with open(f'{artist}/{artist}_{song_title}.txt', 'w') as f:\n",
    "                request_lyrics = requests.get(str(song_link))\n",
    "                soup_lyrics = BeautifulSoup(request_lyrics.text)\n",
    "                lyrics = soup_lyrics.pre.get_text()\n",
    "                f.writelines(lyrics)\n",
    "        else:\n",
    "            continue"
   ]
  },
  {
   "cell_type": "code",
   "execution_count": null,
   "metadata": {},
   "outputs": [],
   "source": []
  }
 ],
 "metadata": {
  "kernelspec": {
   "display_name": "Python 3",
   "language": "python",
   "name": "python3"
  },
  "language_info": {
   "codemirror_mode": {
    "name": "ipython",
    "version": 3
   },
   "file_extension": ".py",
   "mimetype": "text/x-python",
   "name": "python",
   "nbconvert_exporter": "python",
   "pygments_lexer": "ipython3",
   "version": "3.7.6"
  }
 },
 "nbformat": 4,
 "nbformat_minor": 4
}
