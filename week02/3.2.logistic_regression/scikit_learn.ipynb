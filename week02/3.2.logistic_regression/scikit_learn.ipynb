{
 "cells": [
  {
   "cell_type": "code",
   "execution_count": 6,
   "metadata": {},
   "outputs": [
    {
     "name": "stdout",
     "output_type": "stream",
     "text": [
      "0.855\n"
     ]
    }
   ],
   "source": [
    "from sklearn.datasets import make_moons\n",
    "from sklearn.linear_model import LogisticRegression\n",
    "\n",
    "X, y = make_moons(n_samples=200, noise=0.3)\n",
    "X,y\n",
    "\n",
    "m = LogisticRegression(C=1e5)\n",
    "m.fit(X, y)\n",
    "\n",
    "print(m.score(X, y))"
   ]
  },
  {
   "cell_type": "code",
   "execution_count": 7,
   "metadata": {},
   "outputs": [
    {
     "name": "stdout",
     "output_type": "stream",
     "text": [
      "Optimization terminated successfully.\n",
      "         Current function value: 0.319816\n",
      "         Iterations 7\n",
      "[ 1.59103382 -3.85654868]\n",
      "                           Logit Regression Results                           \n",
      "==============================================================================\n",
      "Dep. Variable:                      y   No. Observations:                  200\n",
      "Model:                          Logit   Df Residuals:                      198\n",
      "Method:                           MLE   Df Model:                            1\n",
      "Date:                Mon, 20 Jul 2020   Pseudo R-squ.:                  0.5386\n",
      "Time:                        20:41:46   Log-Likelihood:                -63.963\n",
      "converged:                       True   LL-Null:                       -138.63\n",
      "Covariance Type:            nonrobust   LLR p-value:                 2.426e-34\n",
      "==============================================================================\n",
      "                 coef    std err          z      P>|z|      [0.025      0.975]\n",
      "------------------------------------------------------------------------------\n",
      "x1             1.5910      0.272      5.855      0.000       1.058       2.124\n",
      "x2            -3.8565      0.579     -6.666      0.000      -4.990      -2.723\n",
      "==============================================================================\n"
     ]
    }
   ],
   "source": [
    "import statsmodels.discrete.discrete_model as sm\n",
    "\n",
    "logit = sm.Logit(y, X)\n",
    "f = logit.fit()\n",
    "print(f.params)\n",
    "print(f.summary())"
   ]
  },
  {
   "cell_type": "code",
   "execution_count": null,
   "metadata": {},
   "outputs": [],
   "source": []
  }
 ],
 "metadata": {
  "kernelspec": {
   "display_name": "Python 3",
   "language": "python",
   "name": "python3"
  },
  "language_info": {
   "codemirror_mode": {
    "name": "ipython",
    "version": 3
   },
   "file_extension": ".py",
   "mimetype": "text/x-python",
   "name": "python",
   "nbconvert_exporter": "python",
   "pygments_lexer": "ipython3",
   "version": "3.7.6"
  }
 },
 "nbformat": 4,
 "nbformat_minor": 4
}
