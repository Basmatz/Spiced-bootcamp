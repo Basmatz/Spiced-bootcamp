{
 "cells": [
  {
   "cell_type": "code",
   "execution_count": 2,
   "metadata": {
    "scrolled": true
   },
   "outputs": [
    {
     "name": "stderr",
     "output_type": "stream",
     "text": [
      "c:\\users\\oztur\\anaconda3\\envs\\deep_learning\\lib\\site-packages\\tensorflow\\python\\framework\\dtypes.py:516: FutureWarning: Passing (type, 1) or '1type' as a synonym of type is deprecated; in a future version of numpy, it will be understood as (type, (1,)) / '(1,)type'.\n",
      "  _np_qint8 = np.dtype([(\"qint8\", np.int8, 1)])\n",
      "c:\\users\\oztur\\anaconda3\\envs\\deep_learning\\lib\\site-packages\\tensorflow\\python\\framework\\dtypes.py:517: FutureWarning: Passing (type, 1) or '1type' as a synonym of type is deprecated; in a future version of numpy, it will be understood as (type, (1,)) / '(1,)type'.\n",
      "  _np_quint8 = np.dtype([(\"quint8\", np.uint8, 1)])\n",
      "c:\\users\\oztur\\anaconda3\\envs\\deep_learning\\lib\\site-packages\\tensorflow\\python\\framework\\dtypes.py:518: FutureWarning: Passing (type, 1) or '1type' as a synonym of type is deprecated; in a future version of numpy, it will be understood as (type, (1,)) / '(1,)type'.\n",
      "  _np_qint16 = np.dtype([(\"qint16\", np.int16, 1)])\n",
      "c:\\users\\oztur\\anaconda3\\envs\\deep_learning\\lib\\site-packages\\tensorflow\\python\\framework\\dtypes.py:519: FutureWarning: Passing (type, 1) or '1type' as a synonym of type is deprecated; in a future version of numpy, it will be understood as (type, (1,)) / '(1,)type'.\n",
      "  _np_quint16 = np.dtype([(\"quint16\", np.uint16, 1)])\n",
      "c:\\users\\oztur\\anaconda3\\envs\\deep_learning\\lib\\site-packages\\tensorflow\\python\\framework\\dtypes.py:520: FutureWarning: Passing (type, 1) or '1type' as a synonym of type is deprecated; in a future version of numpy, it will be understood as (type, (1,)) / '(1,)type'.\n",
      "  _np_qint32 = np.dtype([(\"qint32\", np.int32, 1)])\n",
      "c:\\users\\oztur\\anaconda3\\envs\\deep_learning\\lib\\site-packages\\tensorflow\\python\\framework\\dtypes.py:525: FutureWarning: Passing (type, 1) or '1type' as a synonym of type is deprecated; in a future version of numpy, it will be understood as (type, (1,)) / '(1,)type'.\n",
      "  np_resource = np.dtype([(\"resource\", np.ubyte, 1)])\n",
      "c:\\users\\oztur\\anaconda3\\envs\\deep_learning\\lib\\site-packages\\tensorboard\\compat\\tensorflow_stub\\dtypes.py:541: FutureWarning: Passing (type, 1) or '1type' as a synonym of type is deprecated; in a future version of numpy, it will be understood as (type, (1,)) / '(1,)type'.\n",
      "  _np_qint8 = np.dtype([(\"qint8\", np.int8, 1)])\n",
      "c:\\users\\oztur\\anaconda3\\envs\\deep_learning\\lib\\site-packages\\tensorboard\\compat\\tensorflow_stub\\dtypes.py:542: FutureWarning: Passing (type, 1) or '1type' as a synonym of type is deprecated; in a future version of numpy, it will be understood as (type, (1,)) / '(1,)type'.\n",
      "  _np_quint8 = np.dtype([(\"quint8\", np.uint8, 1)])\n",
      "c:\\users\\oztur\\anaconda3\\envs\\deep_learning\\lib\\site-packages\\tensorboard\\compat\\tensorflow_stub\\dtypes.py:543: FutureWarning: Passing (type, 1) or '1type' as a synonym of type is deprecated; in a future version of numpy, it will be understood as (type, (1,)) / '(1,)type'.\n",
      "  _np_qint16 = np.dtype([(\"qint16\", np.int16, 1)])\n",
      "c:\\users\\oztur\\anaconda3\\envs\\deep_learning\\lib\\site-packages\\tensorboard\\compat\\tensorflow_stub\\dtypes.py:544: FutureWarning: Passing (type, 1) or '1type' as a synonym of type is deprecated; in a future version of numpy, it will be understood as (type, (1,)) / '(1,)type'.\n",
      "  _np_quint16 = np.dtype([(\"quint16\", np.uint16, 1)])\n",
      "c:\\users\\oztur\\anaconda3\\envs\\deep_learning\\lib\\site-packages\\tensorboard\\compat\\tensorflow_stub\\dtypes.py:545: FutureWarning: Passing (type, 1) or '1type' as a synonym of type is deprecated; in a future version of numpy, it will be understood as (type, (1,)) / '(1,)type'.\n",
      "  _np_qint32 = np.dtype([(\"qint32\", np.int32, 1)])\n",
      "c:\\users\\oztur\\anaconda3\\envs\\deep_learning\\lib\\site-packages\\tensorboard\\compat\\tensorflow_stub\\dtypes.py:550: FutureWarning: Passing (type, 1) or '1type' as a synonym of type is deprecated; in a future version of numpy, it will be understood as (type, (1,)) / '(1,)type'.\n",
      "  np_resource = np.dtype([(\"resource\", np.ubyte, 1)])\n"
     ]
    }
   ],
   "source": [
    "from tensorflow.keras.datasets import mnist"
   ]
  },
  {
   "cell_type": "code",
   "execution_count": 3,
   "metadata": {},
   "outputs": [],
   "source": [
    "(xtrain, ytrain), (xtest, ytest) = mnist.load_data()"
   ]
  },
  {
   "cell_type": "code",
   "execution_count": 4,
   "metadata": {},
   "outputs": [
    {
     "data": {
      "image/png": "[encoded data removed]",
      "text/plain": [
       "<Figure size 432x288 with 20 Axes>"
      ]
     },
     "metadata": {
      "needs_background": "light"
     },
     "output_type": "display_data"
    }
   ],
   "source": [
    "from matplotlib import pyplot as plt\n",
    "\n",
    "for i in range(20):\n",
    "    plt.subplot(5, 4, i+1)\n",
    "    plt.imshow(xtrain[i], cmap=plt.cm.Greys)\n",
    "    plt.axis('off')\n",
    "    \n"
   ]
  },
  {
   "cell_type": "code",
   "execution_count": 5,
   "metadata": {},
   "outputs": [
    {
     "data": {
      "text/plain": [
       "((60000, 28, 28), (10000, 28, 28))"
      ]
     },
     "execution_count": 5,
     "metadata": {},
     "output_type": "execute_result"
    }
   ],
   "source": [
    "xtrain.shape , xtest.shape"
   ]
  },
  {
   "cell_type": "code",
   "execution_count": 6,
   "metadata": {},
   "outputs": [],
   "source": [
    "xtrain = xtrain.reshape(60000, 784)\n",
    "xtest = xtest.reshape(10000, 784)"
   ]
  },
  {
   "cell_type": "code",
   "execution_count": 7,
   "metadata": {},
   "outputs": [],
   "source": [
    "from tensorflow.keras.models import Sequential\n",
    "from tensorflow.keras.layers import Dense\n",
    "from tensorflow.keras.layers import Activation\n",
    "from tensorflow.keras.layers import Dropout\n",
    "from tensorflow.keras.utils import to_categorical\n",
    "from tensorflow.keras.optimizers import SGD"
   ]
  },
  {
   "cell_type": "code",
   "execution_count": 8,
   "metadata": {},
   "outputs": [
    {
     "data": {
      "text/plain": [
       "784"
      ]
     },
     "execution_count": 8,
     "metadata": {},
     "output_type": "execute_result"
    }
   ],
   "source": [
    "xtrain.shape[1]"
   ]
  },
  {
   "cell_type": "code",
   "execution_count": 9,
   "metadata": {},
   "outputs": [],
   "source": [
    "def create_model(x_train):\n",
    "  model = Sequential()\n",
    "  model.add(Dense(10, input_dim = x_train.shape[1],\n",
    "                  activation = 'tanh'))\n",
    "  model.add(Dense(50, activation='tanh'))\n",
    "  model.add(Dropout(0.5))\n",
    "  model.add(Dense(60, activation='relu'))\n",
    "  model.add(Dense(10, activation='softmax'))\n",
    "  sgd = SGD(lr=0.001, decay=1e-6, momentum=0.9, nesterov=True)\n",
    "  model.compile(optimizer = sgd ,\n",
    "                loss = 'categorical_crossentropy', \n",
    "                metrics=['accuracy'])\n",
    "\n",
    "  return model"
   ]
  },
  {
   "cell_type": "code",
   "execution_count": 10,
   "metadata": {},
   "outputs": [
    {
     "name": "stdout",
     "output_type": "stream",
     "text": [
      "WARNING:tensorflow:From c:\\users\\oztur\\anaconda3\\envs\\deep_learning\\lib\\site-packages\\tensorflow\\python\\ops\\init_ops.py:1251: calling VarianceScaling.__init__ (from tensorflow.python.ops.init_ops) with dtype is deprecated and will be removed in a future version.\n",
      "Instructions for updating:\n",
      "Call initializer instance with the dtype argument instead of passing it to the constructor\n",
      "Model: \"sequential\"\n",
      "_________________________________________________________________\n",
      "Layer (type)                 Output Shape              Param #   \n",
      "=================================================================\n",
      "dense (Dense)                (None, 10)                7850      \n",
      "_________________________________________________________________\n",
      "dense_1 (Dense)              (None, 50)                550       \n",
      "_________________________________________________________________\n",
      "dropout (Dropout)            (None, 50)                0         \n",
      "_________________________________________________________________\n",
      "dense_2 (Dense)              (None, 60)                3060      \n",
      "_________________________________________________________________\n",
      "dense_3 (Dense)              (None, 10)                610       \n",
      "=================================================================\n",
      "Total params: 12,070\n",
      "Trainable params: 12,070\n",
      "Non-trainable params: 0\n",
      "_________________________________________________________________\n",
      "None\n"
     ]
    }
   ],
   "source": [
    "model = create_model(xtrain)\n",
    "print(model.summary())"
   ]
  },
  {
   "cell_type": "code",
   "execution_count": 11,
   "metadata": {},
   "outputs": [],
   "source": [
    "ytrain_ohe = to_categorical(ytrain)"
   ]
  },
  {
   "cell_type": "code",
   "execution_count": 12,
   "metadata": {
    "scrolled": true
   },
   "outputs": [
    {
     "name": "stdout",
     "output_type": "stream",
     "text": [
      "Train on 54000 samples, validate on 6000 samples\n",
      "Epoch 1/50\n",
      "54000/54000 [==============================] - 1s 9us/sample - loss: 2.2607 - acc: 0.1597 - val_loss: 2.0233 - val_acc: 0.4270\n",
      "Epoch 2/50\n",
      "54000/54000 [==============================] - 0s 7us/sample - loss: 1.9839 - acc: 0.3167 - val_loss: 1.7710 - val_acc: 0.4668\n",
      "Epoch 3/50\n",
      "54000/54000 [==============================] - 0s 8us/sample - loss: 1.7555 - acc: 0.4193 - val_loss: 1.5215 - val_acc: 0.5557\n",
      "Epoch 4/50\n",
      "54000/54000 [==============================] - 0s 7us/sample - loss: 1.5374 - acc: 0.5056 - val_loss: 1.3056 - val_acc: 0.6055\n",
      "Epoch 5/50\n",
      "54000/54000 [==============================] - 0s 7us/sample - loss: 1.3336 - acc: 0.5813 - val_loss: 1.0914 - val_acc: 0.6982\n",
      "Epoch 6/50\n",
      "54000/54000 [==============================] - 0s 8us/sample - loss: 1.1874 - acc: 0.6253 - val_loss: 0.9454 - val_acc: 0.7515\n",
      "Epoch 7/50\n",
      "54000/54000 [==============================] - 0s 7us/sample - loss: 1.0759 - acc: 0.6633 - val_loss: 0.8479 - val_acc: 0.7763\n",
      "Epoch 8/50\n",
      "54000/54000 [==============================] - 0s 7us/sample - loss: 0.9984 - acc: 0.6886 - val_loss: 0.8257 - val_acc: 0.7487\n",
      "Epoch 9/50\n",
      "54000/54000 [==============================] - 0s 7us/sample - loss: 0.9410 - acc: 0.7077 - val_loss: 0.7361 - val_acc: 0.7943\n",
      "Epoch 10/50\n",
      "54000/54000 [==============================] - 0s 7us/sample - loss: 0.8856 - acc: 0.7354 - val_loss: 0.6852 - val_acc: 0.8220\n",
      "Epoch 11/50\n",
      "54000/54000 [==============================] - 0s 7us/sample - loss: 0.8468 - acc: 0.7494 - val_loss: 0.6520 - val_acc: 0.8143\n",
      "Epoch 12/50\n",
      "54000/54000 [==============================] - 0s 8us/sample - loss: 0.8448 - acc: 0.7472 - val_loss: 0.6374 - val_acc: 0.8148\n",
      "Epoch 13/50\n",
      "54000/54000 [==============================] - 0s 7us/sample - loss: 0.8214 - acc: 0.7556 - val_loss: 0.6558 - val_acc: 0.8018\n",
      "Epoch 14/50\n",
      "54000/54000 [==============================] - 0s 7us/sample - loss: 0.7828 - acc: 0.7722 - val_loss: 0.5748 - val_acc: 0.8402\n",
      "Epoch 15/50\n",
      "54000/54000 [==============================] - 0s 7us/sample - loss: 0.7521 - acc: 0.7856 - val_loss: 0.5800 - val_acc: 0.8335\n",
      "Epoch 16/50\n",
      "54000/54000 [==============================] - 0s 7us/sample - loss: 0.7534 - acc: 0.7854 - val_loss: 0.5705 - val_acc: 0.8467\n",
      "Epoch 17/50\n",
      "54000/54000 [==============================] - 0s 7us/sample - loss: 0.7333 - acc: 0.7924 - val_loss: 0.5267 - val_acc: 0.8537\n",
      "Epoch 18/50\n",
      "54000/54000 [==============================] - 0s 7us/sample - loss: 0.7013 - acc: 0.8027 - val_loss: 0.5301 - val_acc: 0.8585\n",
      "Epoch 19/50\n",
      "54000/54000 [==============================] - 0s 7us/sample - loss: 0.6929 - acc: 0.8068 - val_loss: 0.5483 - val_acc: 0.8363\n",
      "Epoch 20/50\n",
      "54000/54000 [==============================] - 0s 7us/sample - loss: 0.6946 - acc: 0.8051 - val_loss: 0.5043 - val_acc: 0.8608\n",
      "Epoch 21/50\n",
      "54000/54000 [==============================] - 0s 7us/sample - loss: 0.6829 - acc: 0.8117 - val_loss: 0.4954 - val_acc: 0.8657\n",
      "Epoch 22/50\n",
      "54000/54000 [==============================] - 0s 7us/sample - loss: 0.6746 - acc: 0.8135 - val_loss: 0.5111 - val_acc: 0.8548\n",
      "Epoch 23/50\n",
      "54000/54000 [==============================] - 0s 7us/sample - loss: 0.6629 - acc: 0.8173 - val_loss: 0.4850 - val_acc: 0.8685\n",
      "Epoch 24/50\n",
      "54000/54000 [==============================] - 0s 7us/sample - loss: 0.6626 - acc: 0.8156 - val_loss: 0.5401 - val_acc: 0.8442\n",
      "Epoch 25/50\n",
      "54000/54000 [==============================] - 0s 7us/sample - loss: 0.6512 - acc: 0.8203 - val_loss: 0.4667 - val_acc: 0.8743\n",
      "Epoch 26/50\n",
      "54000/54000 [==============================] - 0s 6us/sample - loss: 0.6459 - acc: 0.8196 - val_loss: 0.4513 - val_acc: 0.8700\n",
      "Epoch 27/50\n",
      "54000/54000 [==============================] - 0s 7us/sample - loss: 0.6315 - acc: 0.8259 - val_loss: 0.4895 - val_acc: 0.8602\n",
      "Epoch 28/50\n",
      "54000/54000 [==============================] - 0s 7us/sample - loss: 0.6240 - acc: 0.8292 - val_loss: 0.4668 - val_acc: 0.8640\n",
      "Epoch 29/50\n",
      "54000/54000 [==============================] - 0s 6us/sample - loss: 0.6586 - acc: 0.8102 - val_loss: 0.4628 - val_acc: 0.8703\n",
      "Epoch 30/50\n",
      "54000/54000 [==============================] - 0s 7us/sample - loss: 0.6365 - acc: 0.8229 - val_loss: 0.4877 - val_acc: 0.8667\n",
      "Epoch 31/50\n",
      "54000/54000 [==============================] - 0s 7us/sample - loss: 0.6452 - acc: 0.8193 - val_loss: 0.4957 - val_acc: 0.8522\n",
      "Epoch 32/50\n",
      "54000/54000 [==============================] - 0s 6us/sample - loss: 0.6397 - acc: 0.8235 - val_loss: 0.4729 - val_acc: 0.8647\n",
      "Epoch 33/50\n",
      "54000/54000 [==============================] - 0s 7us/sample - loss: 0.6526 - acc: 0.8172 - val_loss: 0.4480 - val_acc: 0.8750\n",
      "Epoch 34/50\n",
      "54000/54000 [==============================] - 0s 7us/sample - loss: 0.6177 - acc: 0.8301 - val_loss: 0.4602 - val_acc: 0.8742\n",
      "Epoch 35/50\n",
      "54000/54000 [==============================] - 0s 6us/sample - loss: 0.6123 - acc: 0.8316 - val_loss: 0.4346 - val_acc: 0.8822\n",
      "Epoch 36/50\n",
      "54000/54000 [==============================] - 0s 7us/sample - loss: 0.5893 - acc: 0.8390 - val_loss: 0.4391 - val_acc: 0.8805\n",
      "Epoch 37/50\n",
      "54000/54000 [==============================] - 0s 7us/sample - loss: 0.6023 - acc: 0.8323 - val_loss: 0.4428 - val_acc: 0.8772\n",
      "Epoch 38/50\n",
      "54000/54000 [==============================] - 0s 7us/sample - loss: 0.5979 - acc: 0.8349 - val_loss: 0.4640 - val_acc: 0.8732\n",
      "Epoch 39/50\n",
      "54000/54000 [==============================] - 0s 7us/sample - loss: 0.5990 - acc: 0.8357 - val_loss: 0.4824 - val_acc: 0.8652\n",
      "Epoch 40/50\n",
      "54000/54000 [==============================] - 0s 7us/sample - loss: 0.5973 - acc: 0.8362 - val_loss: 0.4391 - val_acc: 0.8772\n",
      "Epoch 41/50\n",
      "54000/54000 [==============================] - 0s 7us/sample - loss: 0.5857 - acc: 0.8407 - val_loss: 0.4439 - val_acc: 0.8807\n",
      "Epoch 42/50\n",
      "54000/54000 [==============================] - 0s 8us/sample - loss: 0.5827 - acc: 0.8409 - val_loss: 0.4498 - val_acc: 0.8705\n",
      "Epoch 43/50\n",
      "54000/54000 [==============================] - 0s 7us/sample - loss: 0.5759 - acc: 0.8423 - val_loss: 0.4447 - val_acc: 0.8765\n",
      "Epoch 44/50\n",
      "54000/54000 [==============================] - 0s 7us/sample - loss: 0.5708 - acc: 0.8453 - val_loss: 0.4501 - val_acc: 0.8703\n",
      "Epoch 45/50\n",
      "54000/54000 [==============================] - 0s 7us/sample - loss: 0.5865 - acc: 0.8383 - val_loss: 0.4317 - val_acc: 0.8797\n",
      "Epoch 46/50\n",
      "54000/54000 [==============================] - 0s 7us/sample - loss: 0.5732 - acc: 0.8449 - val_loss: 0.4504 - val_acc: 0.8790\n",
      "Epoch 47/50\n",
      "54000/54000 [==============================] - 0s 6us/sample - loss: 0.5695 - acc: 0.8465 - val_loss: 0.4265 - val_acc: 0.8763\n",
      "Epoch 48/50\n",
      "54000/54000 [==============================] - 0s 7us/sample - loss: 0.5732 - acc: 0.8408 - val_loss: 0.4172 - val_acc: 0.8825\n",
      "Epoch 49/50\n",
      "54000/54000 [==============================] - 0s 7us/sample - loss: 0.5939 - acc: 0.8396 - val_loss: 0.4411 - val_acc: 0.8760\n",
      "Epoch 50/50\n",
      "54000/54000 [==============================] - 0s 7us/sample - loss: 0.5648 - acc: 0.8481 - val_loss: 0.4138 - val_acc: 0.8833\n"
     ]
    }
   ],
   "source": [
    "history = model.fit(xtrain,\n",
    "          ytrain_ohe,\n",
    "          epochs = 50,\n",
    "          batch_size = 500,\n",
    "          validation_split = 0.1,\n",
    "          verbose = 1)"
   ]
  },
  {
   "cell_type": "code",
   "execution_count": 13,
   "metadata": {},
   "outputs": [
    {
     "name": "stdout",
     "output_type": "stream",
     "text": [
      "10000/10000 [==============================] - 0s 4us/sample - loss: 0.4675 - acc: 0.8681\n",
      "[0.46745994240045546, 0.8681]\n"
     ]
    }
   ],
   "source": [
    "ytest_ohe = to_categorical(ytest)\n",
    "score = model.evaluate(xtest, ytest_ohe, batch_size=500)\n",
    "print(score)"
   ]
  },
  {
   "cell_type": "code",
   "execution_count": 14,
   "metadata": {},
   "outputs": [
    {
     "name": "stdout",
     "output_type": "stream",
     "text": [
      "[[3.26348527e-04 6.07762058e-06 3.37020203e-04 2.69780285e-03\n",
      "  1.01505364e-04 1.65742385e-04 3.07987830e-05 9.84756887e-01\n",
      "  2.33247469e-04 1.13445166e-02]\n",
      " [2.06266567e-02 8.18020140e-04 9.01732385e-01 5.88228554e-02\n",
      "  1.64198005e-04 1.85269851e-03 1.43571524e-03 1.87524199e-03\n",
      "  1.08556207e-02 1.81680953e-03]\n",
      " [3.96830510e-05 9.91434634e-01 5.31128282e-03 1.89427941e-04\n",
      "  1.23926133e-04 5.99479361e-04 5.50932775e-04 8.29550845e-05\n",
      "  1.55196094e-03 1.15717376e-04]\n",
      " [9.83846068e-01 1.10642308e-04 4.42715501e-03 2.22413661e-03\n",
      "  4.66191050e-05 5.91689581e-03 2.57459446e-03 2.49362929e-04\n",
      "  4.88740625e-04 1.16019393e-04]\n",
      " [1.80285788e-04 5.02987241e-04 1.14559149e-02 2.38436376e-04\n",
      "  9.34875309e-01 1.57900853e-03 8.30793008e-03 3.79393483e-03\n",
      "  1.23085070e-03 3.78354229e-02]\n",
      " [3.96830510e-05 9.91434634e-01 5.31128282e-03 1.89427941e-04\n",
      "  1.23926133e-04 5.99479361e-04 5.50932775e-04 8.29550845e-05\n",
      "  1.55196094e-03 1.15717376e-04]\n",
      " [2.42585465e-05 4.10495355e-04 1.54958933e-03 1.41486365e-04\n",
      "  9.25961554e-01 1.21835817e-03 2.19115615e-03 2.69115879e-03\n",
      "  1.68389140e-03 6.41280562e-02]\n",
      " [2.38992670e-05 1.96072957e-04 6.14465971e-04 1.31616066e-03\n",
      "  5.44481725e-02 9.35138902e-04 1.95943227e-04 2.43914798e-02\n",
      "  7.47436099e-03 9.10404265e-01]\n",
      " [1.25303473e-02 3.43927136e-03 3.26692350e-02 5.28320950e-03\n",
      "  1.99836701e-01 6.74387738e-02 6.21229947e-01 3.88048263e-03\n",
      "  2.78044064e-02 2.58876160e-02]\n",
      " [9.75711300e-05 1.19989709e-04 5.33916289e-04 1.24009582e-03\n",
      "  3.85652930e-02 1.29980815e-03 4.48227103e-04 8.19454938e-02\n",
      "  2.82579008e-03 8.72923851e-01]]\n"
     ]
    }
   ],
   "source": [
    "print(model.predict(xtest[:10]))"
   ]
  },
  {
   "cell_type": "code",
   "execution_count": 15,
   "metadata": {},
   "outputs": [
    {
     "data": {
      "text/plain": [
       "dict_keys(['loss', 'acc', 'val_loss', 'val_acc'])"
      ]
     },
     "execution_count": 15,
     "metadata": {},
     "output_type": "execute_result"
    }
   ],
   "source": [
    "history.history.keys()"
   ]
  },
  {
   "cell_type": "code",
   "execution_count": 16,
   "metadata": {},
   "outputs": [
    {
     "data": {
      "text/plain": [
       "Text(0.5, 0, 'epoch')"
      ]
     },
     "execution_count": 16,
     "metadata": {},
     "output_type": "execute_result"
    },
    {
     "data": {
      "image/png": "[encoded data removed]",
      "text/plain": [
       "<Figure size 432x288 with 1 Axes>"
      ]
     },
     "metadata": {
      "needs_background": "light"
     },
     "output_type": "display_data"
    }
   ],
   "source": [
    "plt.plot(history.history['loss'])\n",
    "plt.plot(history.history['val_loss'])\n",
    "plt.legend(['loss', 'val_loss'])\n",
    "plt.title('Loss')\n",
    "plt.xlabel('epoch')\n"
   ]
  },
  {
   "cell_type": "code",
   "execution_count": 17,
   "metadata": {},
   "outputs": [
    {
     "data": {
      "text/plain": [
       "Text(0.5, 0, 'epoch')"
      ]
     },
     "execution_count": 17,
     "metadata": {},
     "output_type": "execute_result"
    },
    {
     "data": {
      "image/png": "[encoded data removed]",
      "text/plain": [
       "<Figure size 432x288 with 1 Axes>"
      ]
     },
     "metadata": {
      "needs_background": "light"
     },
     "output_type": "display_data"
    }
   ],
   "source": [
    "plt.plot(history.history['acc'])\n",
    "plt.plot(history.history['val_acc'])\n",
    "plt.legend(['acc', 'val_acc'])\n",
    "plt.title('Accuracy')\n",
    "plt.xlabel('epoch')"
   ]
  },
  {
   "cell_type": "code",
   "execution_count": 20,
   "metadata": {},
   "outputs": [
    {
     "name": "stdout",
     "output_type": "stream",
     "text": [
      "Saved model to disk\n"
     ]
    }
   ],
   "source": [
    "# serialize model\n",
    "model.save(\"model.h5\")\n",
    "print(\"Saved model to disk\")"
   ]
  },
  {
   "cell_type": "code",
   "execution_count": null,
   "metadata": {},
   "outputs": [],
   "source": []
  }
 ],
 "metadata": {
  "kernelspec": {
   "display_name": "Python 3",
   "language": "python",
   "name": "python3"
  },
  "language_info": {
   "codemirror_mode": {
    "name": "ipython",
    "version": 3
   },
   "file_extension": ".py",
   "mimetype": "text/x-python",
   "name": "python",
   "nbconvert_exporter": "python",
   "pygments_lexer": "ipython3",
   "version": "3.6.10"
  }
 },
 "nbformat": 4,
 "nbformat_minor": 4
}
