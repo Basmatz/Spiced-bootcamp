{
 "cells": [
  {
   "cell_type": "code",
   "execution_count": 114,
   "outputs": [],
   "source": [
    "# set SPOTIPY_CLIENT_ID = 76e34e7d6b9449899623db078669c2be\n",
    "# set SPOTIPY_CLIENT_SECRET= f79c6f2fdc5545cb90d377f2498498e8"
   ],
   "metadata": {
    "collapsed": false,
    "pycharm": {
     "name": "#%%\n"
    }
   }
  },
  {
   "cell_type": "markdown",
   "source": [
    "### Imports"
   ],
   "metadata": {
    "collapsed": false,
    "pycharm": {
     "name": "#%% md\n"
    }
   }
  },
  {
   "cell_type": "code",
   "execution_count": 115,
   "outputs": [],
   "source": [
    "import spotipy\n",
    "from spotipy.oauth2 import SpotifyClientCredentials\n",
    "import pandas as pd"
   ],
   "metadata": {
    "collapsed": false,
    "pycharm": {
     "name": "#%%\n"
    }
   }
  },
  {
   "cell_type": "markdown",
   "source": [
    "### Spotify Api Authentication"
   ],
   "metadata": {
    "collapsed": false
   }
  },
  {
   "cell_type": "code",
   "execution_count": 116,
   "outputs": [],
   "source": [
    "cid = \"76e34e7d6b9449899623db078669c2be\"\n",
    "secret = \"f79c6f2fdc5545cb90d377f2498498e8\"\n",
    "\n",
    "client_credentials_manager = SpotifyClientCredentials(client_id=cid, client_secret=secret)\n",
    "sp = spotipy.Spotify(client_credentials_manager = client_credentials_manager)"
   ],
   "metadata": {
    "collapsed": false,
    "pycharm": {
     "name": "#%%\n"
    }
   }
  },
  {
   "cell_type": "markdown",
   "source": [
    "### Get list of songs"
   ],
   "metadata": {
    "collapsed": false
   }
  },
  {
   "cell_type": "code",
   "execution_count": 138,
   "outputs": [],
   "source": [
    "\n",
    "artist_name = []\n",
    "track_name = []\n",
    "popularity = []\n",
    "track_id = []\n",
    "\n",
    "\n",
    "for i in range(0,2000,50):\n",
    "    #track_results = sp.new_releases(country=\"DE\", limit=50, offset=i)\n",
    "    track_results = sp.search(q='kristian rother', type='track', limit=50,offset=i)\n",
    "\n",
    "    for i, t in enumerate(track_results['tracks']['items']):\n",
    "        artist_name.append(t['artists'][0]['name'])\n",
    "        track_name.append(t['name'])\n",
    "        track_id.append(t['id'])\n",
    "        popularity.append(t['popularity'])\n",
    "        # print(\"Artist: \" + t['artists'][0]['name'])\n",
    "        # print(\"Track Name: \" + t['name'])\n",
    "        # print(\"Popularity: \" + str(t['popularity']))"
   ],
   "metadata": {
    "collapsed": false,
    "pycharm": {
     "name": "#%%\n"
    }
   }
  },
  {
   "cell_type": "code",
   "execution_count": 139,
   "outputs": [
    {
     "data": {
      "text/plain": "Empty DataFrame\nColumns: [Popularity]\nIndex: []",
      "text/html": "<div>\n<style scoped>\n    .dataframe tbody tr th:only-of-type {\n        vertical-align: middle;\n    }\n\n    .dataframe tbody tr th {\n        vertical-align: top;\n    }\n\n    .dataframe thead th {\n        text-align: right;\n    }\n</style>\n<table border=\"1\" class=\"dataframe\">\n  <thead>\n    <tr style=\"text-align: right;\">\n      <th></th>\n      <th>Popularity</th>\n    </tr>\n  </thead>\n  <tbody>\n  </tbody>\n</table>\n</div>"
     },
     "execution_count": 139,
     "metadata": {},
     "output_type": "execute_result"
    }
   ],
   "source": [
    "df = pd.DataFrame(index=track_name, data=popularity, columns=[\"Popularity\"])\n",
    "df.head(60)"
   ],
   "metadata": {
    "collapsed": false,
    "pycharm": {
     "name": "#%%\n"
    }
   }
  },
  {
   "cell_type": "markdown",
   "source": [
    "### Get a list of new Releases"
   ],
   "metadata": {
    "collapsed": false
   }
  },
  {
   "cell_type": "code",
   "execution_count": 121,
   "outputs": [
    {
     "name": "stdout",
     "output_type": "stream",
     "text": [
      "0 Twice As Tall\n",
      "1 Falling Asleep At The Wheel\n",
      "2 STRIPPED\n",
      "3 Certified Hitmaker (AVA Leak)\n",
      "4 Grüne Papageien\n",
      "5 Candid\n",
      "6 Crave\n",
      "7 A Celebration Of Endings\n",
      "8 Teenage Fever\n",
      "9 Providence\n",
      "10 Tomorrows I\n",
      "11 Open Up Your Head\n",
      "12 KitschKrieg\n",
      "13 Tandem\n",
      "14 BLAME IT ON BABY (DELUXE)\n",
      "15 BRONSON\n",
      "16 Limbo\n",
      "17 Blood Harmony (Deluxe)\n",
      "18 Nordic Escapes\n",
      "19 B.B.H.E.\n",
      "20 1984\n",
      "21 Dreamland\n",
      "22 Treppenhaus\n",
      "23 Cup Of Beats\n",
      "24 Data Life\n",
      "25 What Could Possibly Go Wrong\n",
      "26 Articulation\n",
      "27 Power EP\n",
      "28 Quarantine at El Ganzo\n",
      "29 High Expectations…Stripped\n",
      "30 I'M DOING IT\n",
      "31 Memory Loops\n",
      "32 folklore\n",
      "33 EXOT\n",
      "34 F*CK LOVE\n",
      "35 Colure\n",
      "36 No Pressure\n",
      "37 Bad Vacation\n",
      "38 Danzn\n",
      "39 Wir bauten uns Amerika\n",
      "40 Brightest Blue\n",
      "41 Frei (Deluxe Edition)\n",
      "42 MAP OF THE SOUL : 7 ~ THE JOURNEY ~\n",
      "43 Lianne La Havas\n",
      "44 Tourlife4Life\n",
      "45 Out Of Space\n",
      "46 minor\n",
      "47 New Rave\n",
      "48 Violence in a Quiet Mind\n",
      "49 Legends Never Die\n",
      "50 Monsters\n",
      "51 Things I Chose To Remember\n",
      "52 99%\n",
      "53 Lighter\n",
      "54 None Of Us Are Getting Out Of This Life Alive\n",
      "55 Shoot For The Stars Aim For The Moon\n",
      "56 no song without you\n",
      "57 SUI SUI\n",
      "58 Both Of Us / Are U Down\n",
      "59 Grand Casino Hotel\n",
      "60 Women In Music Pt. III\n",
      "61 Mordechai\n",
      "62 Everything's Strange Here\n",
      "63 What's Your Pleasure?\n",
      "64 Amends\n",
      "65 6pc Hot EP\n",
      "66 CeeLo Green Is Thomas Callaway\n",
      "67 TRANSLATION\n",
      "68 Medical Heartbreak\n",
      "69 Deuce Ex Machina\n",
      "70 Blind über Rot\n",
      "71 Bigger Love\n",
      "72 No Anything Else\n",
      "73 Punisher\n",
      "74 Die Reise (Akustik Version)\n",
      "75 The Album\n",
      "76 Civic Jams\n",
      "77 RACHEL\n",
      "78 Look For The Good\n",
      "79 Lamb of God\n",
      "80 KICKDOWN EP\n",
      "81 I'm Gone\n",
      "82 \"Alles ohne Strom\" Das komplette Konzert\n",
      "83 Sleep On The Wing\n",
      "84 Chameleon (Live Stream Part 1)\n",
      "85 Love, Death & Dancing\n",
      "86 crybaby\n",
      "87 Bedroom Rock\n",
      "88 alma\n",
      "89 Pick Me Up Off The Floor\n",
      "90 Auraa\n",
      "91 One Day at a Time\n",
      "92 Synchronicity I\n",
      "93 GENE\n",
      "94 SOKO DISKO\n",
      "95 RTJ4\n",
      "96 Das weisse Album\n",
      "97 To Let A Good Thing Die\n",
      "98 Speak Up EP\n",
      "99 Kelly\n"
     ]
    }
   ],
   "source": [
    "for i in range(0,1000,50):\n",
    "    response = sp.new_releases(country=\"DE\",limit=50, offset=i)\n",
    "    #print(response)\n",
    "    albums = response['albums']\n",
    "    for u, item in enumerate(albums['items']):\n",
    "        print(albums['offset'] + u, item['name'])\n",
    "\n",
    "        if albums['next']:\n",
    "            response = sp.next(albums)\n",
    "        else:\n",
    "            response = None"
   ],
   "metadata": {
    "collapsed": false,
    "pycharm": {
     "name": "#%%\n"
    }
   }
  },
  {
   "cell_type": "code",
   "execution_count": 119,
   "outputs": [],
   "source": [],
   "metadata": {
    "collapsed": false,
    "pycharm": {
     "name": "#%%\n"
    }
   }
  }
 ],
 "metadata": {
  "kernelspec": {
   "display_name": "Python 3",
   "language": "python",
   "name": "python3"
  },
  "language_info": {
   "codemirror_mode": {
    "name": "ipython",
    "version": 2
   },
   "file_extension": ".py",
   "mimetype": "text/x-python",
   "name": "python",
   "nbconvert_exporter": "python",
   "pygments_lexer": "ipython2",
   "version": "2.7.6"
  }
 },
 "nbformat": 4,
 "nbformat_minor": 0
}