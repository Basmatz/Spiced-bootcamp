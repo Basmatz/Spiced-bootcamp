{
 "cells": [
  {
   "cell_type": "markdown",
   "metadata": {},
   "source": [
    "# Build a Logistic Regression model\n",
    "* 1. Start with the Pclass column only (because it is numerical and complete).\n",
    "* 2. Print the coefficients calculated by the model.\n",
    "` m.coef_, m.intercept_`\n",
    "* 3. Calculate the probabilities for your data points belonging to the positive class.\n",
    "` m.predict_proba(X) `\n",
    "* 4. Suppose you classify all points with a probability > 0.9 as positive.\n",
    "     * How does the result of your prediction change?\n",
    "     * How does it change if you change the threshold to > 0.1?"
   ]
  },
  {
   "cell_type": "markdown",
   "metadata": {},
   "source": [
    "### Step 1"
   ]
  },
  {
   "cell_type": "code",
   "execution_count": 4,
   "metadata": {},
   "outputs": [],
   "source": [
    "# Import the necessary packages\n",
    "import pandas as pd\n",
    "\n",
    "# Import the logistic regression\n",
    "from sklearn.linear_model import LogisticRegression"
   ]
  },
  {
   "cell_type": "code",
   "execution_count": 5,
   "metadata": {},
   "outputs": [
    {
     "data": {
      "text/html": [
       "<div>\n",
       "<style scoped>\n",
       "    .dataframe tbody tr th:only-of-type {\n",
       "        vertical-align: middle;\n",
       "    }\n",
       "\n",
       "    .dataframe tbody tr th {\n",
       "        vertical-align: top;\n",
       "    }\n",
       "\n",
       "    .dataframe thead th {\n",
       "        text-align: right;\n",
       "    }\n",
       "</style>\n",
       "<table border=\"1\" class=\"dataframe\">\n",
       "  <thead>\n",
       "    <tr style=\"text-align: right;\">\n",
       "      <th></th>\n",
       "      <th>Survived</th>\n",
       "      <th>Pclass</th>\n",
       "      <th>Name</th>\n",
       "      <th>Sex</th>\n",
       "      <th>Age</th>\n",
       "      <th>SibSp</th>\n",
       "      <th>Parch</th>\n",
       "      <th>Ticket</th>\n",
       "      <th>Fare</th>\n",
       "      <th>Cabin</th>\n",
       "      <th>Embarked</th>\n",
       "    </tr>\n",
       "    <tr>\n",
       "      <th>PassengerId</th>\n",
       "      <th></th>\n",
       "      <th></th>\n",
       "      <th></th>\n",
       "      <th></th>\n",
       "      <th></th>\n",
       "      <th></th>\n",
       "      <th></th>\n",
       "      <th></th>\n",
       "      <th></th>\n",
       "      <th></th>\n",
       "      <th></th>\n",
       "    </tr>\n",
       "  </thead>\n",
       "  <tbody>\n",
       "    <tr>\n",
       "      <th>1</th>\n",
       "      <td>0</td>\n",
       "      <td>3</td>\n",
       "      <td>Braund, Mr. Owen Harris</td>\n",
       "      <td>male</td>\n",
       "      <td>22.0</td>\n",
       "      <td>1</td>\n",
       "      <td>0</td>\n",
       "      <td>A/5 21171</td>\n",
       "      <td>7.2500</td>\n",
       "      <td>NaN</td>\n",
       "      <td>S</td>\n",
       "    </tr>\n",
       "    <tr>\n",
       "      <th>2</th>\n",
       "      <td>1</td>\n",
       "      <td>1</td>\n",
       "      <td>Cumings, Mrs. John Bradley (Florence Briggs Th...</td>\n",
       "      <td>female</td>\n",
       "      <td>38.0</td>\n",
       "      <td>1</td>\n",
       "      <td>0</td>\n",
       "      <td>PC 17599</td>\n",
       "      <td>71.2833</td>\n",
       "      <td>C85</td>\n",
       "      <td>C</td>\n",
       "    </tr>\n",
       "    <tr>\n",
       "      <th>3</th>\n",
       "      <td>1</td>\n",
       "      <td>3</td>\n",
       "      <td>Heikkinen, Miss. Laina</td>\n",
       "      <td>female</td>\n",
       "      <td>26.0</td>\n",
       "      <td>0</td>\n",
       "      <td>0</td>\n",
       "      <td>STON/O2. 3101282</td>\n",
       "      <td>7.9250</td>\n",
       "      <td>NaN</td>\n",
       "      <td>S</td>\n",
       "    </tr>\n",
       "    <tr>\n",
       "      <th>4</th>\n",
       "      <td>1</td>\n",
       "      <td>1</td>\n",
       "      <td>Futrelle, Mrs. Jacques Heath (Lily May Peel)</td>\n",
       "      <td>female</td>\n",
       "      <td>35.0</td>\n",
       "      <td>1</td>\n",
       "      <td>0</td>\n",
       "      <td>113803</td>\n",
       "      <td>53.1000</td>\n",
       "      <td>C123</td>\n",
       "      <td>S</td>\n",
       "    </tr>\n",
       "    <tr>\n",
       "      <th>5</th>\n",
       "      <td>0</td>\n",
       "      <td>3</td>\n",
       "      <td>Allen, Mr. William Henry</td>\n",
       "      <td>male</td>\n",
       "      <td>35.0</td>\n",
       "      <td>0</td>\n",
       "      <td>0</td>\n",
       "      <td>373450</td>\n",
       "      <td>8.0500</td>\n",
       "      <td>NaN</td>\n",
       "      <td>S</td>\n",
       "    </tr>\n",
       "  </tbody>\n",
       "</table>\n",
       "</div>"
      ],
      "text/plain": [
       "             Survived  Pclass  \\\n",
       "PassengerId                     \n",
       "1                   0       3   \n",
       "2                   1       1   \n",
       "3                   1       3   \n",
       "4                   1       1   \n",
       "5                   0       3   \n",
       "\n",
       "                                                          Name     Sex   Age  \\\n",
       "PassengerId                                                                    \n",
       "1                                      Braund, Mr. Owen Harris    male  22.0   \n",
       "2            Cumings, Mrs. John Bradley (Florence Briggs Th...  female  38.0   \n",
       "3                                       Heikkinen, Miss. Laina  female  26.0   \n",
       "4                 Futrelle, Mrs. Jacques Heath (Lily May Peel)  female  35.0   \n",
       "5                                     Allen, Mr. William Henry    male  35.0   \n",
       "\n",
       "             SibSp  Parch            Ticket     Fare Cabin Embarked  \n",
       "PassengerId                                                          \n",
       "1                1      0         A/5 21171   7.2500   NaN        S  \n",
       "2                1      0          PC 17599  71.2833   C85        C  \n",
       "3                0      0  STON/O2. 3101282   7.9250   NaN        S  \n",
       "4                1      0            113803  53.1000  C123        S  \n",
       "5                0      0            373450   8.0500   NaN        S  "
      ]
     },
     "execution_count": 5,
     "metadata": {},
     "output_type": "execute_result"
    }
   ],
   "source": [
    "# Import the dataset\n",
    "df = pd.read_csv('/Users/braulio/Documents/data/train.csv', index_col=0)\n",
    "df.head()"
   ]
  },
  {
   "cell_type": "code",
   "execution_count": 6,
   "metadata": {},
   "outputs": [
    {
     "data": {
      "text/plain": [
       "(pandas.core.frame.DataFrame, pandas.core.series.Series)"
      ]
     },
     "execution_count": 6,
     "metadata": {},
     "output_type": "execute_result"
    }
   ],
   "source": [
    "type(df[['Pclass']]), type(df['Pclass'])"
   ]
  },
  {
   "cell_type": "code",
   "execution_count": 7,
   "metadata": {},
   "outputs": [],
   "source": [
    "# Define X and y\n",
    "\n",
    "X = df[['Pclass']] # scikit-learn expects pd.DataFrame\n",
    "y = df['Survived'] # scikit-learn expects pd.Series"
   ]
  },
  {
   "cell_type": "code",
   "execution_count": 8,
   "metadata": {},
   "outputs": [
    {
     "data": {
      "text/plain": [
       "((223, 1), (223,))"
      ]
     },
     "execution_count": 8,
     "metadata": {},
     "output_type": "execute_result"
    }
   ],
   "source": [
    "# Split the data into a training set and a test set\n",
    "from sklearn.model_selection import train_test_split\n",
    "\n",
    "X_train, X_test, y_train, y_test = train_test_split(X, y, random_state=10)\n",
    "\n",
    "X_test.shape, y_test.shape"
   ]
  },
  {
   "cell_type": "code",
   "execution_count": 9,
   "metadata": {},
   "outputs": [],
   "source": [
    "# Create a model\n",
    "m = LogisticRegression(random_state=10)"
   ]
  },
  {
   "cell_type": "code",
   "execution_count": 10,
   "metadata": {},
   "outputs": [
    {
     "data": {
      "text/plain": [
       "LogisticRegression(random_state=10)"
      ]
     },
     "execution_count": 10,
     "metadata": {},
     "output_type": "execute_result"
    }
   ],
   "source": [
    "# Train a model\n",
    "m.fit(X_train, y_train) # <-- this is the process of finding parameters"
   ]
  },
  {
   "cell_type": "markdown",
   "metadata": {},
   "source": [
    "### Step 2"
   ]
  },
  {
   "cell_type": "code",
   "execution_count": 11,
   "metadata": {},
   "outputs": [
    {
     "data": {
      "text/plain": [
       "array([-0.80400439])"
      ]
     },
     "execution_count": 11,
     "metadata": {},
     "output_type": "execute_result"
    }
   ],
   "source": [
    "# Parameters/coefficients (b and w)\n",
    "\n",
    "w = m.coef_[0]\n",
    "w"
   ]
  },
  {
   "cell_type": "code",
   "execution_count": 12,
   "metadata": {},
   "outputs": [
    {
     "data": {
      "text/plain": [
       "array([1.40871638])"
      ]
     },
     "execution_count": 12,
     "metadata": {},
     "output_type": "execute_result"
    }
   ],
   "source": [
    "b = m.intercept_\n",
    "b"
   ]
  },
  {
   "cell_type": "markdown",
   "metadata": {},
   "source": [
    "### Step 3"
   ]
  },
  {
   "cell_type": "code",
   "execution_count": 27,
   "metadata": {},
   "outputs": [
    {
     "data": {
      "text/plain": [
       "array([[0.73170627, 0.26829373],\n",
       "       [0.35326641, 0.64673359],\n",
       "       [0.73170627, 0.26829373],\n",
       "       ...,\n",
       "       [0.73170627, 0.26829373],\n",
       "       [0.35326641, 0.64673359],\n",
       "       [0.73170627, 0.26829373]])"
      ]
     },
     "execution_count": 27,
     "metadata": {},
     "output_type": "execute_result"
    }
   ],
   "source": [
    "m.predict_proba(X)"
   ]
  },
  {
   "cell_type": "code",
   "execution_count": 17,
   "metadata": {},
   "outputs": [],
   "source": [
    "# Use the model to make predictions on the seen data\n",
    "ypred_train = m.predict(X_train)"
   ]
  },
  {
   "cell_type": "code",
   "execution_count": 23,
   "metadata": {},
   "outputs": [
    {
     "data": {
      "text/plain": [
       "array([0.26829373, 0.26829373, 0.26829373, 0.64673359, 0.64673359,\n",
       "       0.26829373, 0.26829373, 0.45034115, 0.26829373, 0.26829373,\n",
       "       0.45034115, 0.45034115, 0.45034115, 0.64673359, 0.45034115,\n",
       "       0.45034115, 0.26829373, 0.26829373, 0.26829373, 0.26829373,\n",
       "       0.26829373, 0.45034115, 0.45034115, 0.26829373, 0.26829373,\n",
       "       0.26829373, 0.26829373, 0.64673359, 0.45034115, 0.64673359,\n",
       "       0.64673359, 0.45034115, 0.26829373, 0.26829373, 0.26829373,\n",
       "       0.26829373, 0.26829373, 0.64673359, 0.26829373, 0.26829373,\n",
       "       0.26829373, 0.45034115, 0.26829373, 0.26829373, 0.64673359,\n",
       "       0.64673359, 0.26829373, 0.26829373, 0.64673359, 0.64673359,\n",
       "       0.64673359, 0.45034115, 0.26829373, 0.64673359, 0.45034115,\n",
       "       0.64673359, 0.26829373, 0.26829373, 0.64673359, 0.26829373,\n",
       "       0.26829373, 0.64673359, 0.26829373, 0.26829373, 0.26829373,\n",
       "       0.26829373, 0.45034115, 0.26829373, 0.26829373, 0.45034115,\n",
       "       0.45034115, 0.26829373, 0.26829373, 0.26829373, 0.45034115,\n",
       "       0.26829373, 0.26829373, 0.26829373, 0.64673359, 0.26829373,\n",
       "       0.26829373, 0.26829373, 0.45034115, 0.64673359, 0.45034115,\n",
       "       0.45034115, 0.64673359, 0.64673359, 0.45034115, 0.45034115,\n",
       "       0.26829373, 0.26829373, 0.64673359, 0.26829373, 0.64673359,\n",
       "       0.26829373, 0.26829373, 0.26829373, 0.64673359, 0.45034115,\n",
       "       0.26829373, 0.64673359, 0.26829373, 0.64673359, 0.45034115,\n",
       "       0.64673359, 0.45034115, 0.64673359, 0.45034115, 0.64673359,\n",
       "       0.45034115, 0.26829373, 0.64673359, 0.26829373, 0.26829373,\n",
       "       0.64673359, 0.64673359, 0.64673359, 0.26829373, 0.64673359,\n",
       "       0.64673359, 0.26829373, 0.64673359, 0.26829373, 0.26829373,\n",
       "       0.26829373, 0.64673359, 0.26829373, 0.26829373, 0.45034115,\n",
       "       0.64673359, 0.26829373, 0.26829373, 0.64673359, 0.45034115,\n",
       "       0.26829373, 0.26829373, 0.64673359, 0.64673359, 0.26829373,\n",
       "       0.26829373, 0.26829373, 0.64673359, 0.64673359, 0.26829373,\n",
       "       0.26829373, 0.45034115, 0.45034115, 0.26829373, 0.26829373,\n",
       "       0.26829373, 0.64673359, 0.64673359, 0.26829373, 0.26829373,\n",
       "       0.26829373, 0.26829373, 0.45034115, 0.26829373, 0.26829373,\n",
       "       0.45034115, 0.26829373, 0.26829373, 0.26829373, 0.26829373,\n",
       "       0.26829373, 0.26829373, 0.26829373, 0.26829373, 0.26829373,\n",
       "       0.26829373, 0.45034115, 0.26829373, 0.26829373, 0.64673359,\n",
       "       0.45034115, 0.26829373, 0.26829373, 0.64673359, 0.26829373,\n",
       "       0.45034115, 0.26829373, 0.64673359, 0.26829373, 0.45034115,\n",
       "       0.64673359, 0.26829373, 0.26829373, 0.26829373, 0.26829373,\n",
       "       0.26829373, 0.26829373, 0.45034115, 0.64673359, 0.26829373,\n",
       "       0.64673359, 0.26829373, 0.26829373, 0.45034115, 0.26829373,\n",
       "       0.26829373, 0.64673359, 0.26829373, 0.26829373, 0.26829373,\n",
       "       0.26829373, 0.64673359, 0.26829373, 0.26829373, 0.64673359,\n",
       "       0.26829373, 0.26829373, 0.26829373, 0.64673359, 0.45034115,\n",
       "       0.26829373, 0.26829373, 0.26829373, 0.26829373, 0.26829373,\n",
       "       0.45034115, 0.45034115, 0.64673359])"
      ]
     },
     "execution_count": 23,
     "metadata": {},
     "output_type": "execute_result"
    }
   ],
   "source": [
    "X_test_probabilities = m.predict_proba(X_test)[:,1]\n",
    "\n",
    "#Selects the probability that Survival =1 for each datapoint in X_test\n",
    "X_test_probabilities"
   ]
  },
  {
   "cell_type": "markdown",
   "metadata": {},
   "source": [
    "### Step 4"
   ]
  },
  {
   "cell_type": "code",
   "execution_count": 29,
   "metadata": {},
   "outputs": [
    {
     "data": {
      "text/plain": [
       "0.2410179640718563"
      ]
     },
     "execution_count": 29,
     "metadata": {},
     "output_type": "execute_result"
    }
   ],
   "source": [
    "ypred_train.mean() "
   ]
  },
  {
   "cell_type": "code",
   "execution_count": 34,
   "metadata": {},
   "outputs": [
    {
     "data": {
      "text/plain": [
       "0.24663677130044842"
      ]
     },
     "execution_count": 34,
     "metadata": {},
     "output_type": "execute_result"
    }
   ],
   "source": [
    "(X_test_probabilities>=0.5).mean() \n",
    "# similar results"
   ]
  },
  {
   "cell_type": "code",
   "execution_count": 33,
   "metadata": {},
   "outputs": [
    {
     "data": {
      "text/plain": [
       "0.0"
      ]
     },
     "execution_count": 33,
     "metadata": {},
     "output_type": "execute_result"
    }
   ],
   "source": [
    "# Here we change the selection criteria:\n",
    "(X_test_probabilities>0.9).mean() \n",
    "# returns 0 survivors"
   ]
  },
  {
   "cell_type": "code",
   "execution_count": 35,
   "metadata": {},
   "outputs": [
    {
     "data": {
      "text/plain": [
       "1.0"
      ]
     },
     "execution_count": 35,
     "metadata": {},
     "output_type": "execute_result"
    }
   ],
   "source": [
    "(X_test_probabilities>0.1).mean() \n",
    "# returns 100% survivors"
   ]
  }
 ],
 "metadata": {
  "kernelspec": {
   "display_name": "Python 3",
   "language": "python",
   "name": "python3"
  },
  "language_info": {
   "codemirror_mode": {
    "name": "ipython",
    "version": 3
   },
   "file_extension": ".py",
   "mimetype": "text/x-python",
   "name": "python",
   "nbconvert_exporter": "python",
   "pygments_lexer": "ipython3",
   "version": "3.7.6"
  }
 },
 "nbformat": 4,
 "nbformat_minor": 4
}
