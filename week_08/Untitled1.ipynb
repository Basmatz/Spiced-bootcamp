{
 "cells": [
  {
   "cell_type": "code",
   "execution_count": 1,
   "metadata": {},
   "outputs": [],
   "source": [
    "import numpy as np"
   ]
  },
  {
   "cell_type": "code",
   "execution_count": 3,
   "metadata": {},
   "outputs": [],
   "source": [
    "a = np.arange(40000)\n"
   ]
  },
  {
   "cell_type": "code",
   "execution_count": 6,
   "metadata": {},
   "outputs": [
    {
     "data": {
      "text/plain": [
       "array([[    0,     1,     2, ...,   197,   198,   199],\n",
       "       [  200,   201,   202, ...,   397,   398,   399],\n",
       "       [  400,   401,   402, ...,   597,   598,   599],\n",
       "       ...,\n",
       "       [39400, 39401, 39402, ..., 39597, 39598, 39599],\n",
       "       [39600, 39601, 39602, ..., 39797, 39798, 39799],\n",
       "       [39800, 39801, 39802, ..., 39997, 39998, 39999]])"
      ]
     },
     "execution_count": 6,
     "metadata": {},
     "output_type": "execute_result"
    }
   ],
   "source": [
    "b = a.reshape(200,200)\n",
    "b\n"
   ]
  },
  {
   "cell_type": "code",
   "execution_count": 7,
   "metadata": {},
   "outputs": [
    {
     "data": {
      "text/plain": [
       "array([[    0,     1,     2, ...,   397,   398,   399],\n",
       "       [  400,   401,   402, ...,   797,   798,   799],\n",
       "       [  800,   801,   802, ...,  1197,  1198,  1199],\n",
       "       ...,\n",
       "       [38800, 38801, 38802, ..., 39197, 39198, 39199],\n",
       "       [39200, 39201, 39202, ..., 39597, 39598, 39599],\n",
       "       [39600, 39601, 39602, ..., 39997, 39998, 39999]])"
      ]
     },
     "execution_count": 7,
     "metadata": {},
     "output_type": "execute_result"
    }
   ],
   "source": [
    "b.reshape(100,400)"
   ]
  },
  {
   "cell_type": "code",
   "execution_count": null,
   "metadata": {},
   "outputs": [],
   "source": []
  }
 ],
 "metadata": {
  "kernelspec": {
   "display_name": "Python 3",
   "language": "python",
   "name": "python3"
  },
  "language_info": {
   "codemirror_mode": {
    "name": "ipython",
    "version": 3
   },
   "file_extension": ".py",
   "mimetype": "text/x-python",
   "name": "python",
   "nbconvert_exporter": "python",
   "pygments_lexer": "ipython3",
   "version": "3.8.3"
  }
 },
 "nbformat": 4,
 "nbformat_minor": 4
}
