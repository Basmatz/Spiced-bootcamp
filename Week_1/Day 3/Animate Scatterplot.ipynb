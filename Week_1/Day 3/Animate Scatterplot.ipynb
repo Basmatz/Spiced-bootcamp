{
 "cells": [
  {
   "cell_type": "markdown",
   "metadata": {},
   "source": [
    "# Animating a Scatterplot"
   ]
  },
  {
   "cell_type": "code",
   "execution_count": 1,
   "metadata": {},
   "outputs": [
    {
     "name": "stdout",
     "output_type": "stream",
     "text": [
      "Using matplotlib backend: MacOSX\n"
     ]
    }
   ],
   "source": [
    "# general setup\n",
    "import pandas as pd\n",
    "import matplotlib as plt\n",
    "\n",
    "%matplotlib"
   ]
  },
  {
   "cell_type": "markdown",
   "metadata": {},
   "source": [
    "## Load in data"
   ]
  },
  {
   "cell_type": "code",
   "execution_count": 2,
   "metadata": {},
   "outputs": [],
   "source": [
    "fert = pd.read_csv('gapminder_total_fertility.csv', index_col = 0)\n",
    "# using index_col = 0 will use the countries as indices instead of as the first column, saving hassle further down\n",
    "life = pd.read_excel('gapminder_lifeexpectancy.xlsx', index_col = 0)\n",
    "pop = pd.read_excel('gapminder_population.xlsx', index_col = 0)"
   ]
  },
  {
   "cell_type": "code",
   "execution_count": 3,
   "metadata": {},
   "outputs": [],
   "source": [
    "# In fert, columns contain strings. In life, columns contain integers. So we need to re-create fert columns as integers to match up.\n",
    "\n",
    "# for every cell in the columns of fert, apply integer function\n",
    "# original \n",
    "ncol = [int(x) for x in fert.columns]\n",
    "# a different alternative:\n",
    "# ncol = [int(fert.columns[x]) for x in range(1,len(fert.columns))]\n",
    "\n",
    "fert.set_axis(axis = 1, labels = ncol, inplace = True)"
   ]
  },
  {
   "cell_type": "markdown",
   "metadata": {},
   "source": [
    "## Instead, use hierarchical indices from .stack()"
   ]
  },
  {
   "cell_type": "code",
   "execution_count": 4,
   "metadata": {},
   "outputs": [],
   "source": [
    "sfert = fert.stack() # creates object of type pd.Series\n",
    "slife = life.stack()\n",
    "spop = pop.stack()"
   ]
  },
  {
   "cell_type": "code",
   "execution_count": 5,
   "metadata": {},
   "outputs": [
    {
     "data": {
      "text/html": [
       "<div>\n",
       "<style scoped>\n",
       "    .dataframe tbody tr th:only-of-type {\n",
       "        vertical-align: middle;\n",
       "    }\n",
       "\n",
       "    .dataframe tbody tr th {\n",
       "        vertical-align: top;\n",
       "    }\n",
       "\n",
       "    .dataframe thead th {\n",
       "        text-align: right;\n",
       "    }\n",
       "</style>\n",
       "<table border=\"1\" class=\"dataframe\">\n",
       "  <thead>\n",
       "    <tr style=\"text-align: right;\">\n",
       "      <th></th>\n",
       "      <th></th>\n",
       "      <th>fertility</th>\n",
       "      <th>lifeexp</th>\n",
       "      <th>pop</th>\n",
       "    </tr>\n",
       "  </thead>\n",
       "  <tbody>\n",
       "    <tr>\n",
       "      <th rowspan=\"11\" valign=\"top\">Åland</th>\n",
       "      <th>2000</th>\n",
       "      <td>NaN</td>\n",
       "      <td>80.00</td>\n",
       "      <td>25813.0</td>\n",
       "    </tr>\n",
       "    <tr>\n",
       "      <th>2001</th>\n",
       "      <td>NaN</td>\n",
       "      <td>80.83</td>\n",
       "      <td>26014.0</td>\n",
       "    </tr>\n",
       "    <tr>\n",
       "      <th>2002</th>\n",
       "      <td>NaN</td>\n",
       "      <td>81.80</td>\n",
       "      <td>26204.0</td>\n",
       "    </tr>\n",
       "    <tr>\n",
       "      <th>2003</th>\n",
       "      <td>NaN</td>\n",
       "      <td>80.63</td>\n",
       "      <td>26378.0</td>\n",
       "    </tr>\n",
       "    <tr>\n",
       "      <th>2004</th>\n",
       "      <td>NaN</td>\n",
       "      <td>79.88</td>\n",
       "      <td>26530.0</td>\n",
       "    </tr>\n",
       "    <tr>\n",
       "      <th>2005</th>\n",
       "      <td>NaN</td>\n",
       "      <td>80.00</td>\n",
       "      <td>26766.0</td>\n",
       "    </tr>\n",
       "    <tr>\n",
       "      <th>2006</th>\n",
       "      <td>NaN</td>\n",
       "      <td>80.10</td>\n",
       "      <td>26923.0</td>\n",
       "    </tr>\n",
       "    <tr>\n",
       "      <th>2007</th>\n",
       "      <td>NaN</td>\n",
       "      <td>NaN</td>\n",
       "      <td>26923.0</td>\n",
       "    </tr>\n",
       "    <tr>\n",
       "      <th>2008</th>\n",
       "      <td>NaN</td>\n",
       "      <td>NaN</td>\n",
       "      <td>26923.0</td>\n",
       "    </tr>\n",
       "    <tr>\n",
       "      <th>2009</th>\n",
       "      <td>NaN</td>\n",
       "      <td>NaN</td>\n",
       "      <td>26923.0</td>\n",
       "    </tr>\n",
       "    <tr>\n",
       "      <th>2010</th>\n",
       "      <td>NaN</td>\n",
       "      <td>NaN</td>\n",
       "      <td>26923.0</td>\n",
       "    </tr>\n",
       "  </tbody>\n",
       "</table>\n",
       "</div>"
      ],
      "text/plain": [
       "            fertility  lifeexp      pop\n",
       "Åland 2000        NaN    80.00  25813.0\n",
       "      2001        NaN    80.83  26014.0\n",
       "      2002        NaN    81.80  26204.0\n",
       "      2003        NaN    80.63  26378.0\n",
       "      2004        NaN    79.88  26530.0\n",
       "      2005        NaN    80.00  26766.0\n",
       "      2006        NaN    80.10  26923.0\n",
       "      2007        NaN      NaN  26923.0\n",
       "      2008        NaN      NaN  26923.0\n",
       "      2009        NaN      NaN  26923.0\n",
       "      2010        NaN      NaN  26923.0"
      ]
     },
     "execution_count": 5,
     "metadata": {},
     "output_type": "execute_result"
    }
   ],
   "source": [
    "# convert multiple pd.Series into pd.DataFrame using dictionary\n",
    "\n",
    "d = {'fertility': sfert, 'lifeexp': slife, 'pop': spop}\n",
    "df2 = pd.DataFrame(data = d)\n",
    "df2.tail(11)"
   ]
  },
  {
   "cell_type": "code",
   "execution_count": 6,
   "metadata": {},
   "outputs": [
    {
     "data": {
      "text/plain": [
       "Afghanistan  1800  fertility          7.00\n",
       "                   lifeexp           28.21\n",
       "                   pop          3280000.00\n",
       "             1801  fertility          7.00\n",
       "                   lifeexp           28.20\n",
       "dtype: float64"
      ]
     },
     "execution_count": 6,
     "metadata": {},
     "output_type": "execute_result"
    }
   ],
   "source": [
    "# interpret all indices (rows & cols) as row indices\n",
    "df3 = df2.stack()\n",
    "df3.head(5)"
   ]
  },
  {
   "cell_type": "code",
   "execution_count": 7,
   "metadata": {},
   "outputs": [
    {
     "data": {
      "text/html": [
       "<div>\n",
       "<style scoped>\n",
       "    .dataframe tbody tr th:only-of-type {\n",
       "        vertical-align: middle;\n",
       "    }\n",
       "\n",
       "    .dataframe tbody tr th {\n",
       "        vertical-align: top;\n",
       "    }\n",
       "\n",
       "    .dataframe thead tr th {\n",
       "        text-align: left;\n",
       "    }\n",
       "</style>\n",
       "<table border=\"1\" class=\"dataframe\">\n",
       "  <thead>\n",
       "    <tr>\n",
       "      <th></th>\n",
       "      <th colspan=\"3\" halign=\"left\">Afghanistan</th>\n",
       "      <th>Akrotiri and Dhekelia</th>\n",
       "      <th colspan=\"3\" halign=\"left\">Albania</th>\n",
       "      <th colspan=\"3\" halign=\"left\">Algeria</th>\n",
       "      <th>...</th>\n",
       "      <th>Yemen</th>\n",
       "      <th>Yugoslavia</th>\n",
       "      <th colspan=\"3\" halign=\"left\">Zambia</th>\n",
       "      <th colspan=\"3\" halign=\"left\">Zimbabwe</th>\n",
       "      <th colspan=\"2\" halign=\"left\">Åland</th>\n",
       "    </tr>\n",
       "    <tr>\n",
       "      <th></th>\n",
       "      <th>fertility</th>\n",
       "      <th>lifeexp</th>\n",
       "      <th>pop</th>\n",
       "      <th>pop</th>\n",
       "      <th>fertility</th>\n",
       "      <th>lifeexp</th>\n",
       "      <th>pop</th>\n",
       "      <th>fertility</th>\n",
       "      <th>lifeexp</th>\n",
       "      <th>pop</th>\n",
       "      <th>...</th>\n",
       "      <th>pop</th>\n",
       "      <th>pop</th>\n",
       "      <th>fertility</th>\n",
       "      <th>lifeexp</th>\n",
       "      <th>pop</th>\n",
       "      <th>fertility</th>\n",
       "      <th>lifeexp</th>\n",
       "      <th>pop</th>\n",
       "      <th>pop</th>\n",
       "      <th>lifeexp</th>\n",
       "    </tr>\n",
       "  </thead>\n",
       "  <tbody>\n",
       "    <tr>\n",
       "      <th>1800</th>\n",
       "      <td>7.0</td>\n",
       "      <td>28.21</td>\n",
       "      <td>3280000.0</td>\n",
       "      <td>NaN</td>\n",
       "      <td>4.6</td>\n",
       "      <td>35.4</td>\n",
       "      <td>410445.0</td>\n",
       "      <td>6.99</td>\n",
       "      <td>28.82</td>\n",
       "      <td>2503218.0</td>\n",
       "      <td>...</td>\n",
       "      <td>2593000.0</td>\n",
       "      <td>NaN</td>\n",
       "      <td>6.71</td>\n",
       "      <td>32.6</td>\n",
       "      <td>747000.0</td>\n",
       "      <td>6.75</td>\n",
       "      <td>33.7</td>\n",
       "      <td>1085814.0</td>\n",
       "      <td>NaN</td>\n",
       "      <td>NaN</td>\n",
       "    </tr>\n",
       "    <tr>\n",
       "      <th>1801</th>\n",
       "      <td>7.0</td>\n",
       "      <td>28.20</td>\n",
       "      <td>NaN</td>\n",
       "      <td>NaN</td>\n",
       "      <td>4.6</td>\n",
       "      <td>35.4</td>\n",
       "      <td>NaN</td>\n",
       "      <td>6.99</td>\n",
       "      <td>28.82</td>\n",
       "      <td>NaN</td>\n",
       "      <td>...</td>\n",
       "      <td>NaN</td>\n",
       "      <td>NaN</td>\n",
       "      <td>6.71</td>\n",
       "      <td>32.6</td>\n",
       "      <td>NaN</td>\n",
       "      <td>6.75</td>\n",
       "      <td>33.7</td>\n",
       "      <td>NaN</td>\n",
       "      <td>NaN</td>\n",
       "      <td>NaN</td>\n",
       "    </tr>\n",
       "    <tr>\n",
       "      <th>1802</th>\n",
       "      <td>7.0</td>\n",
       "      <td>28.19</td>\n",
       "      <td>NaN</td>\n",
       "      <td>NaN</td>\n",
       "      <td>4.6</td>\n",
       "      <td>35.4</td>\n",
       "      <td>NaN</td>\n",
       "      <td>6.99</td>\n",
       "      <td>28.82</td>\n",
       "      <td>NaN</td>\n",
       "      <td>...</td>\n",
       "      <td>NaN</td>\n",
       "      <td>NaN</td>\n",
       "      <td>6.71</td>\n",
       "      <td>32.6</td>\n",
       "      <td>NaN</td>\n",
       "      <td>6.75</td>\n",
       "      <td>33.7</td>\n",
       "      <td>NaN</td>\n",
       "      <td>NaN</td>\n",
       "      <td>NaN</td>\n",
       "    </tr>\n",
       "    <tr>\n",
       "      <th>1803</th>\n",
       "      <td>7.0</td>\n",
       "      <td>28.18</td>\n",
       "      <td>NaN</td>\n",
       "      <td>NaN</td>\n",
       "      <td>4.6</td>\n",
       "      <td>35.4</td>\n",
       "      <td>NaN</td>\n",
       "      <td>6.99</td>\n",
       "      <td>28.82</td>\n",
       "      <td>NaN</td>\n",
       "      <td>...</td>\n",
       "      <td>NaN</td>\n",
       "      <td>NaN</td>\n",
       "      <td>6.71</td>\n",
       "      <td>32.6</td>\n",
       "      <td>NaN</td>\n",
       "      <td>6.75</td>\n",
       "      <td>33.7</td>\n",
       "      <td>NaN</td>\n",
       "      <td>NaN</td>\n",
       "      <td>NaN</td>\n",
       "    </tr>\n",
       "    <tr>\n",
       "      <th>1804</th>\n",
       "      <td>7.0</td>\n",
       "      <td>28.17</td>\n",
       "      <td>NaN</td>\n",
       "      <td>NaN</td>\n",
       "      <td>4.6</td>\n",
       "      <td>35.4</td>\n",
       "      <td>NaN</td>\n",
       "      <td>6.99</td>\n",
       "      <td>28.82</td>\n",
       "      <td>NaN</td>\n",
       "      <td>...</td>\n",
       "      <td>NaN</td>\n",
       "      <td>NaN</td>\n",
       "      <td>6.71</td>\n",
       "      <td>32.6</td>\n",
       "      <td>NaN</td>\n",
       "      <td>6.75</td>\n",
       "      <td>33.7</td>\n",
       "      <td>NaN</td>\n",
       "      <td>NaN</td>\n",
       "      <td>NaN</td>\n",
       "    </tr>\n",
       "  </tbody>\n",
       "</table>\n",
       "<p>5 rows × 667 columns</p>\n",
       "</div>"
      ],
      "text/plain": [
       "     Afghanistan                    Akrotiri and Dhekelia   Albania          \\\n",
       "       fertility lifeexp        pop                   pop fertility lifeexp   \n",
       "1800         7.0   28.21  3280000.0                   NaN       4.6    35.4   \n",
       "1801         7.0   28.20        NaN                   NaN       4.6    35.4   \n",
       "1802         7.0   28.19        NaN                   NaN       4.6    35.4   \n",
       "1803         7.0   28.18        NaN                   NaN       4.6    35.4   \n",
       "1804         7.0   28.17        NaN                   NaN       4.6    35.4   \n",
       "\n",
       "                 Algeria                     ...      Yemen Yugoslavia  \\\n",
       "           pop fertility lifeexp        pop  ...        pop        pop   \n",
       "1800  410445.0      6.99   28.82  2503218.0  ...  2593000.0        NaN   \n",
       "1801       NaN      6.99   28.82        NaN  ...        NaN        NaN   \n",
       "1802       NaN      6.99   28.82        NaN  ...        NaN        NaN   \n",
       "1803       NaN      6.99   28.82        NaN  ...        NaN        NaN   \n",
       "1804       NaN      6.99   28.82        NaN  ...        NaN        NaN   \n",
       "\n",
       "        Zambia                    Zimbabwe                    Åland          \n",
       "     fertility lifeexp       pop fertility lifeexp        pop   pop lifeexp  \n",
       "1800      6.71    32.6  747000.0      6.75    33.7  1085814.0   NaN     NaN  \n",
       "1801      6.71    32.6       NaN      6.75    33.7        NaN   NaN     NaN  \n",
       "1802      6.71    32.6       NaN      6.75    33.7        NaN   NaN     NaN  \n",
       "1803      6.71    32.6       NaN      6.75    33.7        NaN   NaN     NaN  \n",
       "1804      6.71    32.6       NaN      6.75    33.7        NaN   NaN     NaN  \n",
       "\n",
       "[5 rows x 667 columns]"
      ]
     },
     "execution_count": 7,
     "metadata": {},
     "output_type": "execute_result"
    }
   ],
   "source": [
    "# now convert back from long to wide format\n",
    "# use 1st (country name) and 3rd (attribute) level of index as columns\n",
    "df4 = df3.unstack((0,2))\n",
    "df4.head(5)"
   ]
  },
  {
   "cell_type": "markdown",
   "metadata": {},
   "source": [
    "## Plotting using Pylab"
   ]
  },
  {
   "cell_type": "code",
   "execution_count": 8,
   "metadata": {},
   "outputs": [
    {
     "data": {
      "text/plain": [
       "<matplotlib.axes._subplots.AxesSubplot at 0x11b5ad1d0>"
      ]
     },
     "execution_count": 8,
     "metadata": {},
     "output_type": "execute_result"
    }
   ],
   "source": [
    "# plot some specific columns\n",
    "import pylab as plt\n",
    "\n",
    "df4[['Germany', 'France', 'Afghanistan']].plot()"
   ]
  },
  {
   "cell_type": "code",
   "execution_count": 20,
   "metadata": {},
   "outputs": [
    {
     "data": {
      "text/plain": [
       "<matplotlib.axes._subplots.AxesSubplot at 0x12b038fd0>"
      ]
     },
     "execution_count": 20,
     "metadata": {},
     "output_type": "execute_result"
    },
    {
     "data": {
      "image/png": "[encoded data removed]",
      "text/plain": [
       "<Figure size 432x288 with 1 Axes>"
      ]
     },
     "metadata": {
      "needs_background": "light"
     },
     "output_type": "display_data"
    }
   ],
   "source": [
    "# make a scatterplot\n",
    "\n",
    "# first extract columns from df3\n",
    "df5 = df3.unstack(2)\n",
    "df5.plot.scatter('fertility', 'lifeexp', s=0.1)"
   ]
  },
  {
   "cell_type": "code",
   "execution_count": 17,
   "metadata": {},
   "outputs": [
    {
     "data": {
      "text/plain": [
       "<matplotlib.axes._subplots.AxesSubplot at 0x12af8cc50>"
      ]
     },
     "execution_count": 17,
     "metadata": {},
     "output_type": "execute_result"
    },
    {
     "data": {
      "image/png": "[encoded data removed]",
      "text/plain": [
       "<Figure size 432x288 with 1 Axes>"
      ]
     },
     "metadata": {
      "needs_background": "light"
     },
     "output_type": "display_data"
    }
   ],
   "source": [
    "# use stacking to select a specific year\n",
    "\n",
    "df6 = df3.unstack(1)\n",
    "df6 = df6[1950]\n",
    "df6 = df6.unstack(1)\n",
    "df6.plot.scatter('fertility', 'lifeexp', s=0.1)"
   ]
  },
  {
   "cell_type": "code",
   "execution_count": 18,
   "metadata": {},
   "outputs": [
    {
     "data": {
      "text/plain": [
       "<matplotlib.axes._subplots.AxesSubplot at 0x122615390>"
      ]
     },
     "execution_count": 18,
     "metadata": {},
     "output_type": "execute_result"
    },
    {
     "data": {
      "image/png": "[encoded data removed]",
      "text/plain": [
       "<Figure size 432x288 with 1 Axes>"
      ]
     },
     "metadata": {
      "needs_background": "light"
     },
     "output_type": "display_data"
    }
   ],
   "source": [
    "# Make it pretty!\n",
    "\n",
    "cmap = plt.get_cmap('tab20', lut = len(df6)).colors\n",
    "# lut controls length of colour array. Default is 20, but we want it to be the same length as our no. of countries, so we are going to make sure it's the same length as the data frame by using lut = len(df6)\n",
    "df6.plot.scatter('fertility', 'lifeexp', s=0.3, c = cmap)"
   ]
  },
  {
   "cell_type": "markdown",
   "metadata": {},
   "source": [
    "   ## Replot using matplotlib"
   ]
  },
  {
   "cell_type": "markdown",
   "metadata": {},
   "source": [
    "source/inspo: https://jakevdp.github.io/PythonDataScienceHandbook/04.02-simple-scatter-plots.html"
   ]
  },
  {
   "cell_type": "code",
   "execution_count": 12,
   "metadata": {},
   "outputs": [],
   "source": [
    "import matplotlib.pyplot as plt\n",
    "\n",
    "%matplotlib inline"
   ]
  },
  {
   "cell_type": "code",
   "execution_count": 13,
   "metadata": {},
   "outputs": [
    {
     "data": {
      "text/html": [
       "<div>\n",
       "<style scoped>\n",
       "    .dataframe tbody tr th:only-of-type {\n",
       "        vertical-align: middle;\n",
       "    }\n",
       "\n",
       "    .dataframe tbody tr th {\n",
       "        vertical-align: top;\n",
       "    }\n",
       "\n",
       "    .dataframe thead th {\n",
       "        text-align: right;\n",
       "    }\n",
       "</style>\n",
       "<table border=\"1\" class=\"dataframe\">\n",
       "  <thead>\n",
       "    <tr style=\"text-align: right;\">\n",
       "      <th></th>\n",
       "      <th>fertility</th>\n",
       "      <th>lifeexp</th>\n",
       "      <th>pop</th>\n",
       "    </tr>\n",
       "  </thead>\n",
       "  <tbody>\n",
       "    <tr>\n",
       "      <th>Afghanistan</th>\n",
       "      <td>7.67</td>\n",
       "      <td>26.85</td>\n",
       "      <td>7752118.0</td>\n",
       "    </tr>\n",
       "    <tr>\n",
       "      <th>Akrotiri and Dhekelia</th>\n",
       "      <td>NaN</td>\n",
       "      <td>NaN</td>\n",
       "      <td>10661.0</td>\n",
       "    </tr>\n",
       "    <tr>\n",
       "      <th>Albania</th>\n",
       "      <td>5.80</td>\n",
       "      <td>54.48</td>\n",
       "      <td>1263171.0</td>\n",
       "    </tr>\n",
       "    <tr>\n",
       "      <th>Algeria</th>\n",
       "      <td>7.65</td>\n",
       "      <td>42.77</td>\n",
       "      <td>8872247.0</td>\n",
       "    </tr>\n",
       "    <tr>\n",
       "      <th>American Samoa</th>\n",
       "      <td>NaN</td>\n",
       "      <td>NaN</td>\n",
       "      <td>18937.0</td>\n",
       "    </tr>\n",
       "    <tr>\n",
       "      <th>Andorra</th>\n",
       "      <td>NaN</td>\n",
       "      <td>NaN</td>\n",
       "      <td>6197.0</td>\n",
       "    </tr>\n",
       "    <tr>\n",
       "      <th>Angola</th>\n",
       "      <td>6.93</td>\n",
       "      <td>30.70</td>\n",
       "      <td>4354882.0</td>\n",
       "    </tr>\n",
       "    <tr>\n",
       "      <th>Anguilla</th>\n",
       "      <td>NaN</td>\n",
       "      <td>NaN</td>\n",
       "      <td>5121.0</td>\n",
       "    </tr>\n",
       "    <tr>\n",
       "      <th>Antigua and Barbuda</th>\n",
       "      <td>4.45</td>\n",
       "      <td>57.97</td>\n",
       "      <td>46301.0</td>\n",
       "    </tr>\n",
       "    <tr>\n",
       "      <th>Argentina</th>\n",
       "      <td>3.16</td>\n",
       "      <td>61.61</td>\n",
       "      <td>17150335.0</td>\n",
       "    </tr>\n",
       "  </tbody>\n",
       "</table>\n",
       "</div>"
      ],
      "text/plain": [
       "                       fertility  lifeexp         pop\n",
       "Afghanistan                 7.67    26.85   7752118.0\n",
       "Akrotiri and Dhekelia        NaN      NaN     10661.0\n",
       "Albania                     5.80    54.48   1263171.0\n",
       "Algeria                     7.65    42.77   8872247.0\n",
       "American Samoa               NaN      NaN     18937.0\n",
       "Andorra                      NaN      NaN      6197.0\n",
       "Angola                      6.93    30.70   4354882.0\n",
       "Anguilla                     NaN      NaN      5121.0\n",
       "Antigua and Barbuda         4.45    57.97     46301.0\n",
       "Argentina                   3.16    61.61  17150335.0"
      ]
     },
     "execution_count": 13,
     "metadata": {},
     "output_type": "execute_result"
    }
   ],
   "source": [
    "df6.head(10)"
   ]
  },
  {
   "cell_type": "code",
   "execution_count": 14,
   "metadata": {
    "scrolled": true
   },
   "outputs": [
    {
     "data": {
      "text/plain": [
       "Text(0, 0.5, 'Life Expectancy (Years)')"
      ]
     },
     "execution_count": 14,
     "metadata": {},
     "output_type": "execute_result"
    },
    {
     "data": {
      "image/png": "[encoded data removed]",
      "text/plain": [
       "<Figure size 432x288 with 1 Axes>"
      ]
     },
     "metadata": {
      "needs_background": "light"
     },
     "output_type": "display_data"
    }
   ],
   "source": [
    "# set up parameters for using in plot generation\n",
    "x = df6['fertility']\n",
    "y = df6['lifeexp']\n",
    "sizes = df6['pop']/10**5 # in 100k units (otherwise will overwhelm the scale)\n",
    "\n",
    "fig = plt.scatter(x, y,\n",
    "            s = sizes,\n",
    "            c = cmap,     # cmap was defined above: override default len of 20 colours\n",
    "            alpha=0.3)\n",
    "\n",
    "plt.axis([1, 10, 20, 80])\n",
    "plt.xlabel('Fertility')\n",
    "plt.ylabel('Life Expectancy (Years)')"
   ]
  },
  {
   "cell_type": "markdown",
   "metadata": {},
   "source": [
    "## Make a loop to generate all of the plots"
   ]
  },
  {
   "cell_type": "code",
   "execution_count": 15,
   "metadata": {},
   "outputs": [
    {
     "data": {
      "text/plain": [
       "<Figure size 432x288 with 0 Axes>"
      ]
     },
     "metadata": {},
     "output_type": "display_data"
    }
   ],
   "source": [
    "# stack and unstack for individual year\n",
    "year_list = list(range(1960, 2016))\n",
    "df_initial = df3.unstack(1)\n",
    "\n",
    "# Write a function that will create the plots\n",
    "def makePlot(df_initial, year):\n",
    "    \n",
    "    # select data for the year we are interested in\n",
    "    df_temp = df_initial[year]\n",
    "    df_temp = df_temp.unstack(1)\n",
    "    \n",
    "    # set some variables that will always be the same across all plots\n",
    "    x = df_temp['fertility']\n",
    "    y = df_temp['lifeexp']\n",
    "    sizes = df_temp['pop']/10**5 # in 100k units (otherwise will overwhelm the scale)\n",
    "    cmap = plt.get_cmap('tab20', lut = len(df_temp)).colors\n",
    "\n",
    "    # generate plot\n",
    "    fig = plt.scatter(x, y,\n",
    "                s = sizes,\n",
    "                c = cmap,     # cmap was defined above: override default len of 20 colours\n",
    "                alpha=0.3)\n",
    "\n",
    "    plt.axis([1, 10, 20, 80])\n",
    "    plt.xlabel('Fertility')\n",
    "    plt.ylabel('Life Expectancy (Years)')\n",
    "    plt.title(str(year))\n",
    "\n",
    "    # save plot\n",
    "    plt.savefig('scatter_' + str(year) + '.png', dpi = 150)\n",
    "    plt.clf()       # close the plot we created, or they will all get overlaid\n",
    "    \n",
    "    return\n",
    "\n",
    "\n",
    "### now loop through all of the years in the year list!\n",
    "for moment in year_list:\n",
    "    makePlot(df_initial, moment)"
   ]
  },
  {
   "cell_type": "markdown",
   "metadata": {},
   "source": [
    "## Create gif out of all these pretty plots"
   ]
  },
  {
   "cell_type": "code",
   "execution_count": 16,
   "metadata": {},
   "outputs": [],
   "source": [
    "# code from Kristian's textbook\n",
    "\n",
    "import imageio\n",
    "\n",
    "images = []\n",
    "\n",
    "for i in range(1960, 2015):\n",
    "    filename = 'scatter_{}.png'.format(i)\n",
    "    images.append(imageio.imread(filename))\n",
    "\n",
    "imageio.mimsave('output.gif', images, fps=20)"
   ]
  },
  {
   "cell_type": "code",
   "execution_count": null,
   "metadata": {},
   "outputs": [],
   "source": []
  }
 ],
 "metadata": {
  "kernelspec": {
   "display_name": "Python 3",
   "language": "python",
   "name": "python3"
  },
  "language_info": {
   "codemirror_mode": {
    "name": "ipython",
    "version": 3
   },
   "file_extension": ".py",
   "mimetype": "text/x-python",
   "name": "python",
   "nbconvert_exporter": "python",
   "pygments_lexer": "ipython3",
   "version": "3.7.6"
  }
 },
 "nbformat": 4,
 "nbformat_minor": 4
}
