{
 "cells": [
  {
   "cell_type": "markdown",
   "metadata": {},
   "source": [
    "---"
   ]
  },
  {
   "cell_type": "markdown",
   "metadata": {},
   "source": [
    "### Recurrent Neural Network"
   ]
  },
  {
   "cell_type": "code",
   "execution_count": 2,
   "metadata": {},
   "outputs": [],
   "source": [
    "#import tensorflow.keras as keras\n",
    "from tensorflow.keras.models import Sequential\n",
    "from tensorflow.keras.layers import Input, Dense, Flatten, LSTM, Embedding\n",
    "from tensorflow.keras.preprocessing import sequence\n",
    "from tensorflow.keras.utils import to_categorical\n",
    "from sklearn.datasets import fetch_20newsgroups\n",
    "import matplotlib.pyplot as plt\n",
    "import numpy as np\n",
    "import re"
   ]
  },
  {
   "cell_type": "code",
   "execution_count": 17,
   "metadata": {},
   "outputs": [],
   "source": [
    "categories = ['talk.politics.guns', 'soc.religion.christian']"
   ]
  },
  {
   "cell_type": "code",
   "execution_count": 18,
   "metadata": {},
   "outputs": [],
   "source": [
    "data = fetch_20newsgroups(categories=categories, remove=['headers', 'footers'])"
   ]
  },
  {
   "cell_type": "code",
   "execution_count": 5,
   "metadata": {},
   "outputs": [],
   "source": [
    "#data = fetch_20newsgroups(remove=['headers', 'footers'])"
   ]
  },
  {
   "cell_type": "code",
   "execution_count": 11,
   "metadata": {},
   "outputs": [
    {
     "data": {
      "text/plain": [
       "<function Bunch.keys>"
      ]
     },
     "execution_count": 11,
     "metadata": {},
     "output_type": "execute_result"
    }
   ],
   "source": [
    "data.keys"
   ]
  },
  {
   "cell_type": "code",
   "execution_count": 20,
   "metadata": {},
   "outputs": [],
   "source": [
    "X = data['data']"
   ]
  },
  {
   "cell_type": "code",
   "execution_count": 19,
   "metadata": {},
   "outputs": [],
   "source": [
    "#y = data['target_names']"
   ]
  },
  {
   "cell_type": "code",
   "execution_count": 22,
   "metadata": {},
   "outputs": [
    {
     "data": {
      "text/plain": [
       "array([0, 0, 0, ..., 1, 1, 0])"
      ]
     },
     "execution_count": 22,
     "metadata": {},
     "output_type": "execute_result"
    }
   ],
   "source": [
    "y = data['target'] #0 means christianity, 1 means guns\n",
    "y"
   ]
  },
  {
   "cell_type": "code",
   "execution_count": 23,
   "metadata": {},
   "outputs": [
    {
     "data": {
      "text/plain": [
       "array([0, 0, 0, 0, 1, 1, 1, 0, 1, 1])"
      ]
     },
     "execution_count": 23,
     "metadata": {},
     "output_type": "execute_result"
    }
   ],
   "source": [
    "y[:10]"
   ]
  },
  {
   "cell_type": "code",
   "execution_count": null,
   "metadata": {},
   "outputs": [],
   "source": [
    "data"
   ]
  },
  {
   "cell_type": "markdown",
   "metadata": {},
   "source": [
    "### Text preprocessing \n",
    "\n",
    "* split \n",
    "* drop special characters and stop words\n",
    "* tokenisation\n",
    "* vectorize = we'll use keras embedding layer for that"
   ]
  },
  {
   "cell_type": "code",
   "execution_count": 31,
   "metadata": {},
   "outputs": [],
   "source": [
    "def clean_text(text,label,cap):\n",
    "    clean_text = []\n",
    "    clean_label = []\n",
    "    for i, email in enumerate(text):\n",
    "        email = email.lower()\n",
    "        email = re.findall('(?u)\\\\b\\\\w\\\\w+\\\\b', email)\n",
    "        if len(email) <= cap:\n",
    "            clean_text.append(email)\n",
    "            clean_label.append(label[i])\n",
    "    return clean_text, clean_label"
   ]
  },
  {
   "cell_type": "code",
   "execution_count": null,
   "metadata": {},
   "outputs": [],
   "source": [
    "# we could split the long emails, or we could drop them"
   ]
  },
  {
   "cell_type": "code",
   "execution_count": 29,
   "metadata": {},
   "outputs": [
    {
     "data": {
      "text/plain": [
       "70849"
      ]
     },
     "execution_count": 29,
     "metadata": {},
     "output_type": "execute_result"
    }
   ],
   "source": [
    "sorted([len(x) for x in X])[-1]"
   ]
  },
  {
   "cell_type": "code",
   "execution_count": 32,
   "metadata": {},
   "outputs": [],
   "source": [
    "clean_X , clean_y = clean_text(X,y,300)"
   ]
  },
  {
   "cell_type": "markdown",
   "metadata": {},
   "source": [
    "#### Make a vocab list"
   ]
  },
  {
   "cell_type": "code",
   "execution_count": 35,
   "metadata": {},
   "outputs": [],
   "source": [
    "vocab_list = []\n",
    "for email in clean_X:\n",
    "    for word in email:\n",
    "        vocab_list.append(word)\n",
    "        \n",
    "vocab_list = list(set(vocab_list))\n",
    "vocab_size = len(vocab_list) + 1"
   ]
  },
  {
   "cell_type": "markdown",
   "metadata": {},
   "source": [
    "#### Make a dictionary for words to numbers"
   ]
  },
  {
   "cell_type": "code",
   "execution_count": 38,
   "metadata": {},
   "outputs": [],
   "source": [
    "word_to_num = {}\n",
    "\n",
    "for i, word in enumerate(vocab_list):\n",
    "    word_to_num[word] = i+1 #i+1 because we're reserving 0 for blank space"
   ]
  },
  {
   "cell_type": "code",
   "execution_count": 40,
   "metadata": {},
   "outputs": [],
   "source": [
    "vec_X = [[word_to_num[word] for word in email] for email in clean_X]"
   ]
  },
  {
   "cell_type": "markdown",
   "metadata": {},
   "source": [
    "#### find the max length of the text, then pad all seqeunces to match that length - input shape in NN has to be consistent!!"
   ]
  },
  {
   "cell_type": "code",
   "execution_count": 39,
   "metadata": {},
   "outputs": [
    {
     "data": {
      "text/plain": [
       "(299, 82)"
      ]
     },
     "execution_count": 39,
     "metadata": {},
     "output_type": "execute_result"
    }
   ],
   "source": [
    "max_len = 0\n",
    "position = 0\n",
    "for i, email in enumerate(clean_X):\n",
    "    if len(email) > max_len:\n",
    "        max_len = len(email)\n",
    "        position = i\n",
    "max_len, position"
   ]
  },
  {
   "cell_type": "markdown",
   "metadata": {},
   "source": [
    "#### Lets pad the sequences"
   ]
  },
  {
   "cell_type": "code",
   "execution_count": 44,
   "metadata": {},
   "outputs": [],
   "source": [
    "pad_vec_X = sequence.pad_sequences(vec_X, maxlen = max_len, padding = 'pre')"
   ]
  },
  {
   "cell_type": "code",
   "execution_count": 45,
   "metadata": {},
   "outputs": [
    {
     "data": {
      "text/plain": [
       "array([    0,     0,     0,     0,     0,     0,     0,     0,     0,\n",
       "           0,     0,     0,     0,     0,     0,     0,     0,     0,\n",
       "           0,     0,     0,     0,     0,     0,     0,     0,     0,\n",
       "           0,     0,     0,     0,     0,     0,     0,     0,     0,\n",
       "           0,     0,     0,     0,     0,     0,     0,     0,     0,\n",
       "           0,     0,     0,     0,     0,     0,     0,     0,     0,\n",
       "           0,     0,     0,     0,     0,     0,     0,     0,     0,\n",
       "           0,     0,     0,     0,     0,     0,     0,     0,     0,\n",
       "           0,     0,     0,     0,     0,     0,     0,     0,     0,\n",
       "           0,     0,     0,     0,     0,     0,     0,     0,     0,\n",
       "           0,     0,     0,     0,     0,     0,     0,     0,     0,\n",
       "           0,     0,     0,     0,     0,     0,     0,     0,     0,\n",
       "           0,     0,     0,     0,     0,     0,     0,     0,     0,\n",
       "           0,     0,     0,     0,     0,     0,     0,     0,     0,\n",
       "           0,     0,     0,     0,     0,     0,     0,     0,     0,\n",
       "           0,     0,     0,     0,     0,  2491,  8685,  2373,  4738,\n",
       "        1780,   538,  7477,  6951,  6272,  4619,  2889,  1157,  2539,\n",
       "          18,  9630,  9144,  1874,  3370,  4541,  2057,   193,  5750,\n",
       "        3965,  2663,  1056,  1980,  4090,  9679,  7218,  7665,  6951,\n",
       "        3652, 10191,  5750, 10553,  9630,  6759,  8748,   954,  6119,\n",
       "         943,   524,   791,  9630,    68,  1459,  7013,  4764,  3965,\n",
       "        9345,  7001,  4740,  4801,  3474,   334,  4900,  2539, 10574,\n",
       "        6307,  7936, 10521,  6687,  9596,  7818,  1769,  3325,  7206,\n",
       "       10574,  7527,  2128, 10574,  5807,   334,  4448,  1056,   193,\n",
       "        2663,   791,  3356, 10574,  3305,  5479,  1648,  7818, 10919,\n",
       "         538,   197,  1527,  3356,  4692,  6951,  1312,  5711,  1769,\n",
       "        4448,  9094,  7392,   331, 10574,  9274,  8178,  9648,  4740,\n",
       "        2362,  2539,  4155,  1416,  9475,  4090,  9200,  4090,  1980,\n",
       "       10714,  2652,  6735,  3511,  2162,  9304,   621,  1399,  5374,\n",
       "         979,   309,  4740,  8612,  1769, 10574,  3387,  7206,  9144,\n",
       "        1527,  3356,   193,   512,  8382,  8338,  7802,  3426,  9019,\n",
       "        3965,  7618, 10695,  1162,   772,  6171,  7206,  3347,  6735,\n",
       "        6398,  3965, 10574, 10542,  7172,  9890,  4368,  3739,  3030,\n",
       "        7203,   270], dtype=int32)"
      ]
     },
     "execution_count": 45,
     "metadata": {},
     "output_type": "execute_result"
    }
   ],
   "source": [
    "pad_vec_X[5]"
   ]
  },
  {
   "cell_type": "markdown",
   "metadata": {},
   "source": [
    "---"
   ]
  },
  {
   "cell_type": "markdown",
   "metadata": {},
   "source": [
    "#### This is what we've done in RNNs so far\n",
    "* download test emails\n",
    "* removed special characters\n",
    "* transformed the words into numbers\n",
    "* cast them into a list\n",
    "* padded them with zeroes so every email number list has the same length"
   ]
  },
  {
   "cell_type": "markdown",
   "metadata": {},
   "source": [
    "#### This is what we have to do now\n",
    "* initialise an lstm\n",
    "* train in on the Xtrain data \n",
    "* test it on our Xtest data"
   ]
  },
  {
   "cell_type": "code",
   "execution_count": 46,
   "metadata": {},
   "outputs": [],
   "source": [
    "from sklearn.model_selection import train_test_split"
   ]
  },
  {
   "cell_type": "code",
   "execution_count": 48,
   "metadata": {},
   "outputs": [],
   "source": [
    "Xtrain, Xtest, ytrain, ytest = train_test_split(pad_vec_X, np.array(clean_y))"
   ]
  },
  {
   "cell_type": "markdown",
   "metadata": {},
   "source": [
    "---"
   ]
  },
  {
   "cell_type": "markdown",
   "metadata": {},
   "source": [
    "#### Now lets create the model\n",
    "We build a sequential model\n",
    "\n",
    "Then add an Embedding layer\n",
    "\n",
    "This layer takes 3 parameters - the size of the vocab (input_dims), the no. of dimensions of each word embedding (output_dim), and the length of each document (input_length), which we've standardised above. It returns a 2d matrix, with rows equal to each word in the document, and columns equal to the number of dimensions in the word embedding. \n",
    "\n",
    "*Actually its 3D, cos the batch_size is the first dimension in both input and output, but I find that confuses things more than it clarifies*\n",
    "Put another way \n",
    "\n",
    "The embedding **takes in** a factorized corpus, e.g.:\n",
    "\n",
    "**[The, cat, sat, on, the, mat]**    becomes    **[1,2,3,4,1,5]**\n",
    "\n",
    "And **outputs** a word embedded corpus:\n",
    "\n",
    "**[1,2,3,4,1,5]**    becomes (lets assume output_dim=2)   **[[0.2,0.7], [0.6,0.3], [0.1,0.8], [0.2,0.1], [0.4,0.9], [0.2,0.7]]**"
   ]
  },
  {
   "cell_type": "code",
   "execution_count": 50,
   "metadata": {},
   "outputs": [
    {
     "data": {
      "text/plain": [
       "11115"
      ]
     },
     "execution_count": 50,
     "metadata": {},
     "output_type": "execute_result"
    }
   ],
   "source": [
    "vocab_size"
   ]
  },
  {
   "cell_type": "code",
   "execution_count": 49,
   "metadata": {},
   "outputs": [],
   "source": [
    "model = Sequential()"
   ]
  },
  {
   "cell_type": "code",
   "execution_count": 52,
   "metadata": {},
   "outputs": [],
   "source": [
    "model.add(Embedding(input_dim=vocab_size, output_dim = 32, input_length = max_len))"
   ]
  },
  {
   "cell_type": "code",
   "execution_count": null,
   "metadata": {},
   "outputs": [],
   "source": [
    "model.add(LSTM(128)) # units? if no. units > max_len, likely to overfit"
   ]
  },
  {
   "cell_type": "code",
   "execution_count": 53,
   "metadata": {},
   "outputs": [],
   "source": [
    "model.add(Dense(1, activation = 'sigmoid'))"
   ]
  },
  {
   "cell_type": "code",
   "execution_count": 54,
   "metadata": {},
   "outputs": [],
   "source": [
    "model.compile(loss = 'binary_crossentropy', metrics = ['accuracy'])"
   ]
  },
  {
   "cell_type": "code",
   "execution_count": 60,
   "metadata": {},
   "outputs": [
    {
     "name": "stdout",
     "output_type": "stream",
     "text": [
      "Epoch 1/20\n",
      "2/2 [==============================] - 0s 26ms/step - loss: 0.6879 - accuracy: 0.5841 - val_loss: 0.6933 - val_accuracy: 0.4857\n",
      "Epoch 2/20\n",
      "2/2 [==============================] - 0s 16ms/step - loss: 0.6867 - accuracy: 0.5901 - val_loss: 0.6929 - val_accuracy: 0.4857\n",
      "Epoch 3/20\n",
      "2/2 [==============================] - 0s 23ms/step - loss: 0.6857 - accuracy: 0.5931 - val_loss: 0.6923 - val_accuracy: 0.4878\n",
      "Epoch 4/20\n",
      "2/2 [==============================] - 0s 19ms/step - loss: 0.6845 - accuracy: 0.5959 - val_loss: 0.6918 - val_accuracy: 0.4883\n",
      "Epoch 5/20\n",
      "2/2 [==============================] - 0s 18ms/step - loss: 0.6835 - accuracy: 0.5973 - val_loss: 0.6914 - val_accuracy: 0.4882\n",
      "Epoch 6/20\n",
      "2/2 [==============================] - 0s 17ms/step - loss: 0.6825 - accuracy: 0.5982 - val_loss: 0.6909 - val_accuracy: 0.4883\n",
      "Epoch 7/20\n",
      "2/2 [==============================] - 0s 18ms/step - loss: 0.6814 - accuracy: 0.5987 - val_loss: 0.6905 - val_accuracy: 0.4885\n",
      "Epoch 8/20\n",
      "2/2 [==============================] - 0s 17ms/step - loss: 0.6806 - accuracy: 0.5988 - val_loss: 0.6902 - val_accuracy: 0.4884\n",
      "Epoch 9/20\n",
      "2/2 [==============================] - 0s 18ms/step - loss: 0.6794 - accuracy: 0.5989 - val_loss: 0.6898 - val_accuracy: 0.4882\n",
      "Epoch 10/20\n",
      "2/2 [==============================] - 0s 19ms/step - loss: 0.6784 - accuracy: 0.5989 - val_loss: 0.6894 - val_accuracy: 0.4882\n",
      "Epoch 11/20\n",
      "2/2 [==============================] - 0s 17ms/step - loss: 0.6775 - accuracy: 0.5991 - val_loss: 0.6892 - val_accuracy: 0.4882\n",
      "Epoch 12/20\n",
      "2/2 [==============================] - 0s 21ms/step - loss: 0.6764 - accuracy: 0.5991 - val_loss: 0.6888 - val_accuracy: 0.4882\n",
      "Epoch 13/20\n",
      "2/2 [==============================] - 0s 17ms/step - loss: 0.6754 - accuracy: 0.5991 - val_loss: 0.6884 - val_accuracy: 0.4882\n",
      "Epoch 14/20\n",
      "2/2 [==============================] - 0s 16ms/step - loss: 0.6744 - accuracy: 0.5991 - val_loss: 0.6881 - val_accuracy: 0.4881\n",
      "Epoch 15/20\n",
      "2/2 [==============================] - 0s 24ms/step - loss: 0.6735 - accuracy: 0.5991 - val_loss: 0.6876 - val_accuracy: 0.4880\n",
      "Epoch 16/20\n",
      "2/2 [==============================] - 0s 21ms/step - loss: 0.6725 - accuracy: 0.5991 - val_loss: 0.6872 - val_accuracy: 0.4879\n",
      "Epoch 17/20\n",
      "2/2 [==============================] - 0s 21ms/step - loss: 0.6715 - accuracy: 0.5992 - val_loss: 0.6869 - val_accuracy: 0.4878\n",
      "Epoch 18/20\n",
      "2/2 [==============================] - 0s 24ms/step - loss: 0.6705 - accuracy: 0.5992 - val_loss: 0.6863 - val_accuracy: 0.4879\n",
      "Epoch 19/20\n",
      "2/2 [==============================] - 0s 20ms/step - loss: 0.6695 - accuracy: 0.5991 - val_loss: 0.6858 - val_accuracy: 0.4879\n",
      "Epoch 20/20\n",
      "2/2 [==============================] - 0s 23ms/step - loss: 0.6689 - accuracy: 0.5992 - val_loss: 0.6854 - val_accuracy: 0.4880\n"
     ]
    }
   ],
   "source": [
    "history = model.fit(Xtrain, ytrain, epochs = 20, batch_size = 250, validation_split=0.2)"
   ]
  },
  {
   "cell_type": "code",
   "execution_count": 62,
   "metadata": {},
   "outputs": [
    {
     "data": {
      "text/plain": [
       "<matplotlib.legend.Legend at 0x7ff1668d07d0>"
      ]
     },
     "execution_count": 62,
     "metadata": {},
     "output_type": "execute_result"
    },
    {
     "data": {
      "image/png": "[encoded data removed]",
      "text/plain": [
       "<Figure size 432x288 with 1 Axes>"
      ]
     },
     "metadata": {
      "needs_background": "light"
     },
     "output_type": "display_data"
    }
   ],
   "source": [
    "plt.plot(history.history['loss'])\n",
    "plt.plot(history.history['val_loss'])\n",
    "plt.legend(['loss','val_loss'])"
   ]
  },
  {
   "cell_type": "code",
   "execution_count": 61,
   "metadata": {},
   "outputs": [
    {
     "data": {
      "text/plain": [
       "<matplotlib.legend.Legend at 0x7ff1659a2810>"
      ]
     },
     "execution_count": 61,
     "metadata": {},
     "output_type": "execute_result"
    },
    {
     "data": {
      "image/png": "[encoded data removed]",
      "text/plain": [
       "<Figure size 432x288 with 1 Axes>"
      ]
     },
     "metadata": {
      "needs_background": "light"
     },
     "output_type": "display_data"
    }
   ],
   "source": [
    "plt.plot(history.history['accuracy'])\n",
    "plt.plot(history.history['val_accuracy'])\n",
    "plt.legend(['accuracy','val_accuracy'])"
   ]
  },
  {
   "cell_type": "code",
   "execution_count": 63,
   "metadata": {},
   "outputs": [
    {
     "name": "stdout",
     "output_type": "stream",
     "text": [
      "6/6 [==============================] - 0s 771us/step - loss: 0.6799 - accuracy: 0.5482\n"
     ]
    },
    {
     "data": {
      "text/plain": [
       "[0.6799014210700989, 0.5482497811317444]"
      ]
     },
     "execution_count": 63,
     "metadata": {},
     "output_type": "execute_result"
    }
   ],
   "source": [
    "model.evaluate(Xtest,ytest)"
   ]
  },
  {
   "cell_type": "code",
   "execution_count": null,
   "metadata": {},
   "outputs": [],
   "source": []
  },
  {
   "cell_type": "code",
   "execution_count": null,
   "metadata": {},
   "outputs": [],
   "source": []
  }
 ],
 "metadata": {
  "kernelspec": {
   "display_name": "deep_learning",
   "language": "python",
   "name": "deep_learning"
  },
  "language_info": {
   "codemirror_mode": {
    "name": "ipython",
    "version": 3
   },
   "file_extension": ".py",
   "mimetype": "text/x-python",
   "name": "python",
   "nbconvert_exporter": "python",
   "pygments_lexer": "ipython3",
   "version": "3.7.6"
  }
 },
 "nbformat": 4,
 "nbformat_minor": 4
}
