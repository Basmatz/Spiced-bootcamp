{
 "cells": [
  {
   "cell_type": "code",
   "execution_count": 23,
   "metadata": {},
   "outputs": [],
   "source": [
    "import pandas as pd\n",
    "import seaborn as sns\n",
    "import matplotlib.pyplot as plt\n",
    "%matplotlib inline\n",
    "import numpy as np\n",
    "from sklearn.model_selection import cross_val_score\n",
    "from sklearn.pipeline import Pipeline\n",
    "from sklearn.linear_model import LinearRegression\n",
    "\n",
    "plt.rcParams['figure.figsize'] = (12,6)"
   ]
  },
  {
   "cell_type": "code",
   "execution_count": 6,
   "metadata": {},
   "outputs": [],
   "source": [
    "np.random.seed(42)\n",
    "n_samples=5\n",
    "\n",
    "x = np.linspace(0, 20, 15)\n",
    "# data generating process for y, the true relationship between x and y\n",
    "#there is a linear relationship between the x and y\n",
    "\n",
    "y = 5 * x + np.random.normal(0.0, 20.0, 15)\n",
    "\n",
    "#get X the right shape \n",
    "X = x.reshape(15, 1)"
   ]
  },
  {
   "cell_type": "code",
   "execution_count": 22,
   "metadata": {},
   "outputs": [
    {
     "data": {
      "text/plain": [
       "<matplotlib.collections.PathCollection at 0x2dc4e941a48>"
      ]
     },
     "execution_count": 22,
     "metadata": {},
     "output_type": "execute_result"
    },
    {
     "data": {
      "image/png": "[encoded data removed]",
      "text/plain": [
       "<Figure size 864x432 with 1 Axes>"
      ]
     },
     "metadata": {
      "needs_background": "light"
     },
     "output_type": "display_data"
    }
   ],
   "source": [
    "plt.scatter(X,y)"
   ]
  },
  {
   "cell_type": "code",
   "execution_count": 24,
   "metadata": {},
   "outputs": [
    {
     "data": {
      "text/plain": [
       "LinearRegression()"
      ]
     },
     "execution_count": 24,
     "metadata": {},
     "output_type": "execute_result"
    }
   ],
   "source": [
    "m=LinearRegression()\n",
    "m.fit(X,y)"
   ]
  },
  {
   "cell_type": "code",
   "execution_count": 25,
   "metadata": {},
   "outputs": [],
   "source": [
    "#make prediction \n",
    "y_pred=m.predict(X)"
   ]
  },
  {
   "cell_type": "code",
   "execution_count": 29,
   "metadata": {},
   "outputs": [
    {
     "data": {
      "text/plain": [
       "[<matplotlib.lines.Line2D at 0x2dc4f96b948>]"
      ]
     },
     "execution_count": 29,
     "metadata": {},
     "output_type": "execute_result"
    },
    {
     "data": {
      "image/png": "[encoded data removed]",
      "text/plain": [
       "<Figure size 864x432 with 1 Axes>"
      ]
     },
     "metadata": {
      "needs_background": "light"
     },
     "output_type": "display_data"
    }
   ],
   "source": [
    "#plot\n",
    "plt.scatter(X,y)\n",
    "plt.plot(X,y_pred)"
   ]
  },
  {
   "cell_type": "code",
   "execution_count": 28,
   "metadata": {},
   "outputs": [
    {
     "data": {
      "text/plain": [
       "array([3.13158623])"
      ]
     },
     "execution_count": 28,
     "metadata": {},
     "output_type": "execute_result"
    }
   ],
   "source": [
    "m.coef_  # estimated value of w"
   ]
  },
  {
   "cell_type": "code",
   "execution_count": 30,
   "metadata": {},
   "outputs": [],
   "source": [
    "df=pd.DataFrame({'x':x, 'y':y})"
   ]
  },
  {
   "cell_type": "code",
   "execution_count": 31,
   "metadata": {},
   "outputs": [
    {
     "data": {
      "text/html": [
       "<div>\n",
       "<style scoped>\n",
       "    .dataframe tbody tr th:only-of-type {\n",
       "        vertical-align: middle;\n",
       "    }\n",
       "\n",
       "    .dataframe tbody tr th {\n",
       "        vertical-align: top;\n",
       "    }\n",
       "\n",
       "    .dataframe thead th {\n",
       "        text-align: right;\n",
       "    }\n",
       "</style>\n",
       "<table border=\"1\" class=\"dataframe\">\n",
       "  <thead>\n",
       "    <tr style=\"text-align: right;\">\n",
       "      <th></th>\n",
       "      <th>x</th>\n",
       "      <th>y</th>\n",
       "    </tr>\n",
       "  </thead>\n",
       "  <tbody>\n",
       "    <tr>\n",
       "      <td>0</td>\n",
       "      <td>0.000000</td>\n",
       "      <td>9.934283</td>\n",
       "    </tr>\n",
       "    <tr>\n",
       "      <td>1</td>\n",
       "      <td>1.428571</td>\n",
       "      <td>4.377571</td>\n",
       "    </tr>\n",
       "    <tr>\n",
       "      <td>2</td>\n",
       "      <td>2.857143</td>\n",
       "      <td>27.239485</td>\n",
       "    </tr>\n",
       "    <tr>\n",
       "      <td>3</td>\n",
       "      <td>4.285714</td>\n",
       "      <td>51.889169</td>\n",
       "    </tr>\n",
       "    <tr>\n",
       "      <td>4</td>\n",
       "      <td>5.714286</td>\n",
       "      <td>23.888361</td>\n",
       "    </tr>\n",
       "  </tbody>\n",
       "</table>\n",
       "</div>"
      ],
      "text/plain": [
       "          x          y\n",
       "0  0.000000   9.934283\n",
       "1  1.428571   4.377571\n",
       "2  2.857143  27.239485\n",
       "3  4.285714  51.889169\n",
       "4  5.714286  23.888361"
      ]
     },
     "execution_count": 31,
     "metadata": {},
     "output_type": "execute_result"
    }
   ],
   "source": [
    "df.head()"
   ]
  },
  {
   "cell_type": "code",
   "execution_count": 33,
   "metadata": {},
   "outputs": [
    {
     "data": {
      "text/html": [
       "<div>\n",
       "<style scoped>\n",
       "    .dataframe tbody tr th:only-of-type {\n",
       "        vertical-align: middle;\n",
       "    }\n",
       "\n",
       "    .dataframe tbody tr th {\n",
       "        vertical-align: top;\n",
       "    }\n",
       "\n",
       "    .dataframe thead th {\n",
       "        text-align: right;\n",
       "    }\n",
       "</style>\n",
       "<table border=\"1\" class=\"dataframe\">\n",
       "  <thead>\n",
       "    <tr style=\"text-align: right;\">\n",
       "      <th></th>\n",
       "      <th>x</th>\n",
       "      <th>y</th>\n",
       "      <th>x^2</th>\n",
       "    </tr>\n",
       "  </thead>\n",
       "  <tbody>\n",
       "    <tr>\n",
       "      <td>0</td>\n",
       "      <td>0.000000</td>\n",
       "      <td>9.934283</td>\n",
       "      <td>0.000000</td>\n",
       "    </tr>\n",
       "    <tr>\n",
       "      <td>1</td>\n",
       "      <td>1.428571</td>\n",
       "      <td>4.377571</td>\n",
       "      <td>2.040816</td>\n",
       "    </tr>\n",
       "    <tr>\n",
       "      <td>2</td>\n",
       "      <td>2.857143</td>\n",
       "      <td>27.239485</td>\n",
       "      <td>8.163265</td>\n",
       "    </tr>\n",
       "    <tr>\n",
       "      <td>3</td>\n",
       "      <td>4.285714</td>\n",
       "      <td>51.889169</td>\n",
       "      <td>18.367347</td>\n",
       "    </tr>\n",
       "    <tr>\n",
       "      <td>4</td>\n",
       "      <td>5.714286</td>\n",
       "      <td>23.888361</td>\n",
       "      <td>32.653061</td>\n",
       "    </tr>\n",
       "  </tbody>\n",
       "</table>\n",
       "</div>"
      ],
      "text/plain": [
       "          x          y        x^2\n",
       "0  0.000000   9.934283   0.000000\n",
       "1  1.428571   4.377571   2.040816\n",
       "2  2.857143  27.239485   8.163265\n",
       "3  4.285714  51.889169  18.367347\n",
       "4  5.714286  23.888361  32.653061"
      ]
     },
     "execution_count": 33,
     "metadata": {},
     "output_type": "execute_result"
    }
   ],
   "source": [
    "df['x^2']=df['x']**2\n",
    "df.head()"
   ]
  },
  {
   "cell_type": "code",
   "execution_count": 34,
   "metadata": {},
   "outputs": [
    {
     "data": {
      "text/plain": [
       "LinearRegression()"
      ]
     },
     "execution_count": 34,
     "metadata": {},
     "output_type": "execute_result"
    }
   ],
   "source": [
    "m.fit(df[['x','x^2']], df['y'])"
   ]
  },
  {
   "cell_type": "code",
   "execution_count": 37,
   "metadata": {},
   "outputs": [],
   "source": [
    "y_pred_2= m.predict(df[['x','x^2']])"
   ]
  },
  {
   "cell_type": "code",
   "execution_count": 38,
   "metadata": {},
   "outputs": [
    {
     "data": {
      "text/plain": [
       "[<matplotlib.lines.Line2D at 0x2dc4fa76848>]"
      ]
     },
     "execution_count": 38,
     "metadata": {},
     "output_type": "execute_result"
    },
    {
     "data": {
      "image/png": "[encoded data removed]",
      "text/plain": [
       "<Figure size 864x432 with 1 Axes>"
      ]
     },
     "metadata": {
      "needs_background": "light"
     },
     "output_type": "display_data"
    }
   ],
   "source": [
    "plt.scatter(x,y)\n",
    "plt.plot(x,y_pred_2 , color='r')"
   ]
  },
  {
   "cell_type": "code",
   "execution_count": 39,
   "metadata": {},
   "outputs": [],
   "source": [
    "from sklearn.preprocessing import PolynomialFeatures"
   ]
  },
  {
   "cell_type": "code",
   "execution_count": 44,
   "metadata": {},
   "outputs": [],
   "source": [
    "polynomial_transformer=PolynomialFeatures(degree=9, include_bias=False)\n",
    "polynomial_features=pd.DataFrame(polynomial_transformer.fit_transform(X),columns=polynomial_transformer.get_feature_names())"
   ]
  },
  {
   "cell_type": "code",
   "execution_count": 46,
   "metadata": {},
   "outputs": [
    {
     "data": {
      "text/html": [
       "<div>\n",
       "<style scoped>\n",
       "    .dataframe tbody tr th:only-of-type {\n",
       "        vertical-align: middle;\n",
       "    }\n",
       "\n",
       "    .dataframe tbody tr th {\n",
       "        vertical-align: top;\n",
       "    }\n",
       "\n",
       "    .dataframe thead th {\n",
       "        text-align: right;\n",
       "    }\n",
       "</style>\n",
       "<table border=\"1\" class=\"dataframe\">\n",
       "  <thead>\n",
       "    <tr style=\"text-align: right;\">\n",
       "      <th></th>\n",
       "      <th>x0</th>\n",
       "      <th>x0^2</th>\n",
       "      <th>x0^3</th>\n",
       "      <th>x0^4</th>\n",
       "      <th>x0^5</th>\n",
       "      <th>x0^6</th>\n",
       "      <th>x0^7</th>\n",
       "      <th>x0^8</th>\n",
       "      <th>x0^9</th>\n",
       "    </tr>\n",
       "  </thead>\n",
       "  <tbody>\n",
       "    <tr>\n",
       "      <td>0</td>\n",
       "      <td>0.000000</td>\n",
       "      <td>0.000000</td>\n",
       "      <td>0.000000</td>\n",
       "      <td>0.000000</td>\n",
       "      <td>0.000000e+00</td>\n",
       "      <td>0.000000e+00</td>\n",
       "      <td>0.000000e+00</td>\n",
       "      <td>0.000000e+00</td>\n",
       "      <td>0.000000e+00</td>\n",
       "    </tr>\n",
       "    <tr>\n",
       "      <td>1</td>\n",
       "      <td>1.428571</td>\n",
       "      <td>2.040816</td>\n",
       "      <td>2.915452</td>\n",
       "      <td>4.164931</td>\n",
       "      <td>5.949902e+00</td>\n",
       "      <td>8.499860e+00</td>\n",
       "      <td>1.214266e+01</td>\n",
       "      <td>1.734665e+01</td>\n",
       "      <td>2.478093e+01</td>\n",
       "    </tr>\n",
       "    <tr>\n",
       "      <td>2</td>\n",
       "      <td>2.857143</td>\n",
       "      <td>8.163265</td>\n",
       "      <td>23.323615</td>\n",
       "      <td>66.638900</td>\n",
       "      <td>1.903969e+02</td>\n",
       "      <td>5.439910e+02</td>\n",
       "      <td>1.554260e+03</td>\n",
       "      <td>4.440743e+03</td>\n",
       "      <td>1.268784e+04</td>\n",
       "    </tr>\n",
       "    <tr>\n",
       "      <td>3</td>\n",
       "      <td>4.285714</td>\n",
       "      <td>18.367347</td>\n",
       "      <td>78.717201</td>\n",
       "      <td>337.359434</td>\n",
       "      <td>1.445826e+03</td>\n",
       "      <td>6.196398e+03</td>\n",
       "      <td>2.655599e+04</td>\n",
       "      <td>1.138114e+05</td>\n",
       "      <td>4.877631e+05</td>\n",
       "    </tr>\n",
       "    <tr>\n",
       "      <td>4</td>\n",
       "      <td>5.714286</td>\n",
       "      <td>32.653061</td>\n",
       "      <td>186.588921</td>\n",
       "      <td>1066.222407</td>\n",
       "      <td>6.092699e+03</td>\n",
       "      <td>3.481543e+04</td>\n",
       "      <td>1.989453e+05</td>\n",
       "      <td>1.136830e+06</td>\n",
       "      <td>6.496173e+06</td>\n",
       "    </tr>\n",
       "    <tr>\n",
       "      <td>5</td>\n",
       "      <td>7.142857</td>\n",
       "      <td>51.020408</td>\n",
       "      <td>364.431487</td>\n",
       "      <td>2603.082049</td>\n",
       "      <td>1.859344e+04</td>\n",
       "      <td>1.328103e+05</td>\n",
       "      <td>9.486451e+05</td>\n",
       "      <td>6.776036e+06</td>\n",
       "      <td>4.840026e+07</td>\n",
       "    </tr>\n",
       "    <tr>\n",
       "      <td>6</td>\n",
       "      <td>8.571429</td>\n",
       "      <td>73.469388</td>\n",
       "      <td>629.737609</td>\n",
       "      <td>5397.750937</td>\n",
       "      <td>4.626644e+04</td>\n",
       "      <td>3.965695e+05</td>\n",
       "      <td>3.399167e+06</td>\n",
       "      <td>2.913572e+07</td>\n",
       "      <td>2.497347e+08</td>\n",
       "    </tr>\n",
       "    <tr>\n",
       "      <td>7</td>\n",
       "      <td>10.000000</td>\n",
       "      <td>100.000000</td>\n",
       "      <td>1000.000000</td>\n",
       "      <td>10000.000000</td>\n",
       "      <td>1.000000e+05</td>\n",
       "      <td>1.000000e+06</td>\n",
       "      <td>1.000000e+07</td>\n",
       "      <td>1.000000e+08</td>\n",
       "      <td>1.000000e+09</td>\n",
       "    </tr>\n",
       "    <tr>\n",
       "      <td>8</td>\n",
       "      <td>11.428571</td>\n",
       "      <td>130.612245</td>\n",
       "      <td>1492.711370</td>\n",
       "      <td>17059.558517</td>\n",
       "      <td>1.949664e+05</td>\n",
       "      <td>2.228187e+06</td>\n",
       "      <td>2.546500e+07</td>\n",
       "      <td>2.910285e+08</td>\n",
       "      <td>3.326040e+09</td>\n",
       "    </tr>\n",
       "    <tr>\n",
       "      <td>9</td>\n",
       "      <td>12.857143</td>\n",
       "      <td>165.306122</td>\n",
       "      <td>2125.364431</td>\n",
       "      <td>27326.114119</td>\n",
       "      <td>3.513358e+05</td>\n",
       "      <td>4.517174e+06</td>\n",
       "      <td>5.807795e+07</td>\n",
       "      <td>7.467165e+08</td>\n",
       "      <td>9.600641e+09</td>\n",
       "    </tr>\n",
       "    <tr>\n",
       "      <td>10</td>\n",
       "      <td>14.285714</td>\n",
       "      <td>204.081633</td>\n",
       "      <td>2915.451895</td>\n",
       "      <td>41649.312786</td>\n",
       "      <td>5.949902e+05</td>\n",
       "      <td>8.499860e+06</td>\n",
       "      <td>1.214266e+08</td>\n",
       "      <td>1.734665e+09</td>\n",
       "      <td>2.478093e+10</td>\n",
       "    </tr>\n",
       "    <tr>\n",
       "      <td>11</td>\n",
       "      <td>15.714286</td>\n",
       "      <td>246.938776</td>\n",
       "      <td>3880.466472</td>\n",
       "      <td>60978.758850</td>\n",
       "      <td>9.582376e+05</td>\n",
       "      <td>1.505802e+07</td>\n",
       "      <td>2.366260e+08</td>\n",
       "      <td>3.718409e+09</td>\n",
       "      <td>5.843214e+10</td>\n",
       "    </tr>\n",
       "    <tr>\n",
       "      <td>12</td>\n",
       "      <td>17.142857</td>\n",
       "      <td>293.877551</td>\n",
       "      <td>5037.900875</td>\n",
       "      <td>86364.014994</td>\n",
       "      <td>1.480526e+06</td>\n",
       "      <td>2.538045e+07</td>\n",
       "      <td>4.350933e+08</td>\n",
       "      <td>7.458743e+09</td>\n",
       "      <td>1.278642e+11</td>\n",
       "    </tr>\n",
       "    <tr>\n",
       "      <td>13</td>\n",
       "      <td>18.571429</td>\n",
       "      <td>344.897959</td>\n",
       "      <td>6405.247813</td>\n",
       "      <td>118954.602249</td>\n",
       "      <td>2.209157e+06</td>\n",
       "      <td>4.102720e+07</td>\n",
       "      <td>7.619337e+08</td>\n",
       "      <td>1.415020e+10</td>\n",
       "      <td>2.627894e+11</td>\n",
       "    </tr>\n",
       "    <tr>\n",
       "      <td>14</td>\n",
       "      <td>20.000000</td>\n",
       "      <td>400.000000</td>\n",
       "      <td>8000.000000</td>\n",
       "      <td>160000.000000</td>\n",
       "      <td>3.200000e+06</td>\n",
       "      <td>6.400000e+07</td>\n",
       "      <td>1.280000e+09</td>\n",
       "      <td>2.560000e+10</td>\n",
       "      <td>5.120000e+11</td>\n",
       "    </tr>\n",
       "  </tbody>\n",
       "</table>\n",
       "</div>"
      ],
      "text/plain": [
       "           x0        x0^2         x0^3           x0^4          x0^5  \\\n",
       "0    0.000000    0.000000     0.000000       0.000000  0.000000e+00   \n",
       "1    1.428571    2.040816     2.915452       4.164931  5.949902e+00   \n",
       "2    2.857143    8.163265    23.323615      66.638900  1.903969e+02   \n",
       "3    4.285714   18.367347    78.717201     337.359434  1.445826e+03   \n",
       "4    5.714286   32.653061   186.588921    1066.222407  6.092699e+03   \n",
       "5    7.142857   51.020408   364.431487    2603.082049  1.859344e+04   \n",
       "6    8.571429   73.469388   629.737609    5397.750937  4.626644e+04   \n",
       "7   10.000000  100.000000  1000.000000   10000.000000  1.000000e+05   \n",
       "8   11.428571  130.612245  1492.711370   17059.558517  1.949664e+05   \n",
       "9   12.857143  165.306122  2125.364431   27326.114119  3.513358e+05   \n",
       "10  14.285714  204.081633  2915.451895   41649.312786  5.949902e+05   \n",
       "11  15.714286  246.938776  3880.466472   60978.758850  9.582376e+05   \n",
       "12  17.142857  293.877551  5037.900875   86364.014994  1.480526e+06   \n",
       "13  18.571429  344.897959  6405.247813  118954.602249  2.209157e+06   \n",
       "14  20.000000  400.000000  8000.000000  160000.000000  3.200000e+06   \n",
       "\n",
       "            x0^6          x0^7          x0^8          x0^9  \n",
       "0   0.000000e+00  0.000000e+00  0.000000e+00  0.000000e+00  \n",
       "1   8.499860e+00  1.214266e+01  1.734665e+01  2.478093e+01  \n",
       "2   5.439910e+02  1.554260e+03  4.440743e+03  1.268784e+04  \n",
       "3   6.196398e+03  2.655599e+04  1.138114e+05  4.877631e+05  \n",
       "4   3.481543e+04  1.989453e+05  1.136830e+06  6.496173e+06  \n",
       "5   1.328103e+05  9.486451e+05  6.776036e+06  4.840026e+07  \n",
       "6   3.965695e+05  3.399167e+06  2.913572e+07  2.497347e+08  \n",
       "7   1.000000e+06  1.000000e+07  1.000000e+08  1.000000e+09  \n",
       "8   2.228187e+06  2.546500e+07  2.910285e+08  3.326040e+09  \n",
       "9   4.517174e+06  5.807795e+07  7.467165e+08  9.600641e+09  \n",
       "10  8.499860e+06  1.214266e+08  1.734665e+09  2.478093e+10  \n",
       "11  1.505802e+07  2.366260e+08  3.718409e+09  5.843214e+10  \n",
       "12  2.538045e+07  4.350933e+08  7.458743e+09  1.278642e+11  \n",
       "13  4.102720e+07  7.619337e+08  1.415020e+10  2.627894e+11  \n",
       "14  6.400000e+07  1.280000e+09  2.560000e+10  5.120000e+11  "
      ]
     },
     "execution_count": 46,
     "metadata": {},
     "output_type": "execute_result"
    }
   ],
   "source": [
    "polynomial_features"
   ]
  },
  {
   "cell_type": "code",
   "execution_count": 47,
   "metadata": {},
   "outputs": [
    {
     "data": {
      "text/plain": [
       "LinearRegression()"
      ]
     },
     "execution_count": 47,
     "metadata": {},
     "output_type": "execute_result"
    }
   ],
   "source": [
    "# fit the model\n",
    "m_poly=LinearRegression()\n",
    "m_poly.fit(polynomial_features, y)"
   ]
  },
  {
   "cell_type": "code",
   "execution_count": 48,
   "metadata": {},
   "outputs": [],
   "source": [
    "# prediction \n",
    "y_pred_poly=m_poly.predict(polynomial_features)"
   ]
  },
  {
   "cell_type": "code",
   "execution_count": 49,
   "metadata": {},
   "outputs": [
    {
     "data": {
      "text/plain": [
       "[<matplotlib.lines.Line2D at 0x2dc4f89b888>]"
      ]
     },
     "execution_count": 49,
     "metadata": {},
     "output_type": "execute_result"
    },
    {
     "data": {
      "image/png": "[encoded data removed]",
      "text/plain": [
       "<Figure size 864x432 with 1 Axes>"
      ]
     },
     "metadata": {
      "needs_background": "light"
     },
     "output_type": "display_data"
    }
   ],
   "source": [
    "# plot it\n",
    "plt.scatter(x,y)\n",
    "plt.plot(x,y_pred_poly, color='r')"
   ]
  },
  {
   "cell_type": "code",
   "execution_count": null,
   "metadata": {},
   "outputs": [],
   "source": []
  }
 ],
 "metadata": {
  "kernelspec": {
   "display_name": "Python 3",
   "language": "python",
   "name": "python3"
  },
  "language_info": {
   "codemirror_mode": {
    "name": "ipython",
    "version": 3
   },
   "file_extension": ".py",
   "mimetype": "text/x-python",
   "name": "python",
   "nbconvert_exporter": "python",
   "pygments_lexer": "ipython3",
   "version": "3.7.4"
  }
 },
 "nbformat": 4,
 "nbformat_minor": 2
}
