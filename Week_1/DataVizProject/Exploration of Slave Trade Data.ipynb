{
 "cells": [
  {
   "cell_type": "markdown",
   "metadata": {},
   "source": [
    "# Slave Trade Data Analysis"
   ]
  },
  {
   "cell_type": "code",
   "execution_count": 58,
   "metadata": {},
   "outputs": [],
   "source": [
    "import pandas as pd\n",
    "import matplotlib.pyplot as plt\n",
    "import seaborn as sns\n",
    "import numpy as np\n",
    "import imageio\n",
    "\n",
    "%matplotlib inline"
   ]
  },
  {
   "cell_type": "markdown",
   "metadata": {},
   "source": [
    "## Importing and tidying data"
   ]
  },
  {
   "cell_type": "code",
   "execution_count": 28,
   "metadata": {},
   "outputs": [
    {
     "name": "stderr",
     "output_type": "stream",
     "text": [
      "/opt/anaconda3/lib/python3.7/site-packages/IPython/core/interactiveshell.py:3063: DtypeWarning: Columns (51,81,87,148,149,178,180,260,262,264,278) have mixed types.Specify dtype option on import or set low_memory=False.\n",
      "  interactivity=interactivity, compiler=compiler, result=result)\n"
     ]
    }
   ],
   "source": [
    "# import the data set\n",
    "# downloaded from https://slavevoyages.org/voyage/downloads#the-trans-atlantic-slave-trade-database/1/en/\n",
    "\n",
    "trade_raw = pd.read_csv('SlaveTrade_2016.csv')"
   ]
  },
  {
   "cell_type": "code",
   "execution_count": 29,
   "metadata": {},
   "outputs": [],
   "source": [
    "# explore\n",
    "# list(trade_raw.columns)\n",
    "\n",
    "trade_raw = trade_raw.replace(' ', np.nan)\n",
    "\n",
    "# sns.heatmap(trade_raw.isnull(),cbar=False)"
   ]
  },
  {
   "cell_type": "code",
   "execution_count": 30,
   "metadata": {},
   "outputs": [
    {
     "data": {
      "text/plain": [
       "<matplotlib.axes._subplots.AxesSubplot at 0x1a1cad1e90>"
      ]
     },
     "execution_count": 30,
     "metadata": {},
     "output_type": "execute_result"
    },
    {
     "data": {
      "image/png": "[encoded data removed]",
      "text/plain": [
       "<Figure size 432x288 with 1 Axes>"
      ]
     },
     "metadata": {
      "needs_background": "light"
     },
     "output_type": "display_data"
    }
   ],
   "source": [
    "# select the most interesting columns\n",
    "# spss code book available here:\n",
    "# https://slavevoyages.org/voyage/downloads#full-versions-of-the-trans-atlantic-slave-trade-database/0/en/\n",
    "\n",
    "keep_cols = ['voyageid',     # unique id for voyage\n",
    "             'datedepc',     # year departed\n",
    "             'datarr34',    # year arrived\n",
    "             'mjselimp1',      # Imputed principal place of slave disembarkation -- broad region\n",
    "#             'embport',      # where ship embarked on journey -- for later use\n",
    "             'slamimp',      # imputed number of enslaved people on board\n",
    "#             'jamcaspr'      # Sterling cash price (of slaves) in Jamaica -- Not enough data here tbh\n",
    "            ]\n",
    "\n",
    "# throw out all but these columns\n",
    "trade = trade_raw[keep_cols]\n",
    "\n",
    "# original format encodes missing data as ' ' rather than NA; fix this\n",
    "# https://stackoverflow.com/questions/54508137/check-if-pandas-dataframe-cell-contains-certain-string\n",
    "trade = trade.replace(' ', np.nan)     \n",
    "\n",
    "# trade.to_csv('testing_trade.csv')\n",
    "# trade['datedepc'].unique()\n",
    "\n",
    "\n",
    "# explore NaNs using seaborn heatmap\n",
    "sns.heatmap(trade.isnull(),cbar=False)"
   ]
  },
  {
   "cell_type": "code",
   "execution_count": 31,
   "metadata": {},
   "outputs": [],
   "source": [
    "# how many voyages would we lose if we drop the ones that don't have a year recorded?\n",
    "(trade['datedepc'].isna().sum() / trade['datedepc'].count() ) * 100\n",
    "# answer: 36%... :/ not so great. let's find a different solution\n",
    "\n",
    "# this is super hacky... I am adding the two types of date (date of dep, date of arr) together and then will round\n",
    "# first must replace all NAs with 0\n",
    "trade['datedepc'] = trade['datedepc'].replace(np.nan, '0')\n",
    "trade['datedepc'] = trade['datedepc'].astype(str).astype(int)\n",
    "trade['datarr34'] = trade['datarr34'].replace(np.nan, '0')\n",
    "trade['datarr34'] = trade['datarr34'].astype(str).astype(int)\n",
    "\n",
    "# I'm going to pick the higher date\n",
    "# https://stackoverflow.com/questions/12169170/find-the-max-of-two-or-more-columns-with-pandas\n",
    "trade['date'] = trade[['datedepc', 'datarr34']].max(axis = 1)\n",
    "\n",
    "# check the range of this new column to see that there are reasonable year values everywhere\n",
    "# trade['date'].unique()\n",
    "# there are still some values of 0. let's cut those out.\n",
    "# first check how much we would lose\n",
    "# start by replacing 0 with NA again\n",
    "trade['date'] = trade['date'].replace(0, np.nan)\n",
    "(trade['date'].isna().sum() / trade['date'].count() ) * 100\n",
    "# answer: 10%. Kind of a lot. But will have to live with it.\n",
    "\n",
    "# dropping rows if specific column contains NA\n",
    "# drop rows w/ no data for date or imputed no. of enslaved people\n",
    "# https://stackoverflow.com/questions/13413590/how-to-drop-rows-of-pandas-dataframe-whose-value-in-a-certain-column-is-nan\n",
    "trade = trade.dropna(subset=['date'])\n",
    "trade = trade.dropna(subset=['slamimp'])\n",
    "\n",
    "# how much data do we lose if we cut out rows where imputed slave destination is missing?\n",
    "# another 10% -- too high.\n",
    "# instead put \"no data\"\n",
    "trade['mjselimp1'].isna().sum() / trade['mjselimp1'].count()\n",
    "trade['mjselimp1'] = trade['mjselimp1'].replace(np.nan, 'Unknown Destination')\n",
    "\n",
    "# sns.heatmap(trade.isnull(),cbar=False)\n",
    "# now we have data everywhere!\n"
   ]
  },
  {
   "cell_type": "code",
   "execution_count": 32,
   "metadata": {},
   "outputs": [
    {
     "name": "stdout",
     "output_type": "stream",
     "text": [
      "<class 'pandas.core.frame.DataFrame'>\n",
      "Int64Index: 31372 entries, 0 to 35935\n",
      "Data columns (total 6 columns):\n",
      " #   Column       Non-Null Count  Dtype  \n",
      "---  ------       --------------  -----  \n",
      " 0   voyageid     31372 non-null  int64  \n",
      " 1   datedep      31372 non-null  int64  \n",
      " 2   datearr      31372 non-null  int64  \n",
      " 3   destination  31372 non-null  object \n",
      " 4   no_enslaved  31372 non-null  int64  \n",
      " 5   date         31372 non-null  float64\n",
      "dtypes: float64(1), int64(4), object(1)\n",
      "memory usage: 1.7+ MB\n"
     ]
    }
   ],
   "source": [
    "### making the labels and columns a bit more intuitive\n",
    "\n",
    "# I want my column names to make sense to me\n",
    "new_colnames = {\n",
    "    'voyageid' : 'voyageid',\n",
    "    'datedepc' : 'datedep',\n",
    "    'datarr34' : 'datearr',\n",
    "    'mjselimp1' : 'destination',\n",
    "    'slamimp' : 'no_enslaved'\n",
    "}\n",
    "trade = trade.rename(new_colnames, axis = 1)\n",
    "\n",
    "# now replace the values in the destination column with place names\n",
    "new_dest = {\n",
    "    '10000' : 'Europe',\n",
    "    '20000' : 'Mainland North America',\n",
    "    '30000' : 'Caribbean',\n",
    "    '40000' : 'Spanish American Mainland',\n",
    "    '50000' : 'Brazil',\n",
    "    '60000' : 'Africa',\n",
    "    '80000' : 'Other',\n",
    "    'Unknown Destination' : 'Unknown Destination'\n",
    "}\n",
    "\n",
    "trade = trade.replace(new_dest)\n",
    "trade\n",
    "\n",
    "# need to turn no_enslaved into numbers.\n",
    "trade['no_enslaved'] = trade['no_enslaved'].astype(str).astype(int)\n",
    "trade.info()"
   ]
  },
  {
   "cell_type": "markdown",
   "metadata": {},
   "source": [
    "## Making graphs\n",
    "\n",
    "What am I trying to compare?\n",
    "\n",
    "- x = average number of slaves on ship\n",
    "- y = number of voyages\n",
    "- number of dots = region of slave destination\n",
    "- dot size = total number of slaves sold\n",
    "- animation: over time (i.e. every graph is snapshot of one year)"
   ]
  },
  {
   "cell_type": "markdown",
   "metadata": {},
   "source": [
    "### Step 1: Group data\n",
    "\n",
    "Grouping:\n",
    "* By year\n",
    "\n",
    "And separately find (for later merging):\n",
    "* No. voyages\n",
    "* Total enslaved people sold\n",
    "* Average number of slaves on ship\n",
    "\n",
    "Later we will stack by region."
   ]
  },
  {
   "cell_type": "code",
   "execution_count": 44,
   "metadata": {},
   "outputs": [
    {
     "data": {
      "text/html": [
       "<div>\n",
       "<style scoped>\n",
       "    .dataframe tbody tr th:only-of-type {\n",
       "        vertical-align: middle;\n",
       "    }\n",
       "\n",
       "    .dataframe tbody tr th {\n",
       "        vertical-align: top;\n",
       "    }\n",
       "\n",
       "    .dataframe thead th {\n",
       "        text-align: right;\n",
       "    }\n",
       "</style>\n",
       "<table border=\"1\" class=\"dataframe\">\n",
       "  <thead>\n",
       "    <tr style=\"text-align: right;\">\n",
       "      <th></th>\n",
       "      <th></th>\n",
       "      <th>total_enslaved</th>\n",
       "    </tr>\n",
       "    <tr>\n",
       "      <th>destination</th>\n",
       "      <th>date</th>\n",
       "      <th></th>\n",
       "    </tr>\n",
       "  </thead>\n",
       "  <tbody>\n",
       "    <tr>\n",
       "      <th rowspan=\"5\" valign=\"top\">Africa</th>\n",
       "      <th>1589.0</th>\n",
       "      <td>319</td>\n",
       "    </tr>\n",
       "    <tr>\n",
       "      <th>1647.0</th>\n",
       "      <td>155</td>\n",
       "    </tr>\n",
       "    <tr>\n",
       "      <th>1652.0</th>\n",
       "      <td>291</td>\n",
       "    </tr>\n",
       "    <tr>\n",
       "      <th>1654.0</th>\n",
       "      <td>291</td>\n",
       "    </tr>\n",
       "    <tr>\n",
       "      <th>1657.0</th>\n",
       "      <td>191</td>\n",
       "    </tr>\n",
       "    <tr>\n",
       "      <th>...</th>\n",
       "      <th>...</th>\n",
       "      <td>...</td>\n",
       "    </tr>\n",
       "    <tr>\n",
       "      <th rowspan=\"5\" valign=\"top\">Unknown Destination</th>\n",
       "      <th>1850.0</th>\n",
       "      <td>277</td>\n",
       "    </tr>\n",
       "    <tr>\n",
       "      <th>1851.0</th>\n",
       "      <td>367</td>\n",
       "    </tr>\n",
       "    <tr>\n",
       "      <th>1852.0</th>\n",
       "      <td>367</td>\n",
       "    </tr>\n",
       "    <tr>\n",
       "      <th>1857.0</th>\n",
       "      <td>569</td>\n",
       "    </tr>\n",
       "    <tr>\n",
       "      <th>1859.0</th>\n",
       "      <td>559</td>\n",
       "    </tr>\n",
       "  </tbody>\n",
       "</table>\n",
       "<p>1335 rows × 1 columns</p>\n",
       "</div>"
      ],
      "text/plain": [
       "                            total_enslaved\n",
       "destination         date                  \n",
       "Africa              1589.0             319\n",
       "                    1647.0             155\n",
       "                    1652.0             291\n",
       "                    1654.0             291\n",
       "                    1657.0             191\n",
       "...                                    ...\n",
       "Unknown Destination 1850.0             277\n",
       "                    1851.0             367\n",
       "                    1852.0             367\n",
       "                    1857.0             569\n",
       "                    1859.0             559\n",
       "\n",
       "[1335 rows x 1 columns]"
      ]
     },
     "execution_count": 44,
     "metadata": {},
     "output_type": "execute_result"
    }
   ],
   "source": [
    "# group data by year\n",
    "\n",
    "#### Q # How can we make it count only one column that we're interested in???\n",
    "\n",
    "## first: pull out separate data sets so we can a) create years as time line, b) group by region of destination\n",
    "# then we can stack :)\n",
    "\n",
    "# voyages set\n",
    "trade_voyages = trade.groupby(['destination', 'date']).count()\n",
    "trade_voyages = pd.DataFrame(trade_voyages['voyageid'])\n",
    "# then rename to reflect averaging\n",
    "trade_voyages = trade_voyages.rename({'voyageid' : 'no_voyages'}, axis = 1)\n",
    "trade_voyages\n",
    "\n",
    "# average enslaved set\n",
    "trade_av_enslaved = trade.groupby(['destination', 'date']).mean()\n",
    "trade_av_enslaved = pd.DataFrame(trade_av_enslaved['no_enslaved'])\n",
    "# then rename to reflect averaging\n",
    "trade_av_enslaved = trade_av_enslaved.rename({'no_enslaved' : 'av_enslaved'}, axis = 1)\n",
    "trade_av_enslaved\n",
    "\n",
    "# total enslaved people per voyage\n",
    "trade_total = trade.groupby(['destination', 'date']).sum()\n",
    "trade_total = pd.DataFrame(trade_total['no_enslaved'])\n",
    "# and rename to reflect that this is now a total\n",
    "trade_total = trade_total.rename({'no_enslaved' : 'total_enslaved'}, axis = 1)\n",
    "trade_total"
   ]
  },
  {
   "cell_type": "code",
   "execution_count": 62,
   "metadata": {},
   "outputs": [
    {
     "data": {
      "text/html": [
       "<div>\n",
       "<style scoped>\n",
       "    .dataframe tbody tr th:only-of-type {\n",
       "        vertical-align: middle;\n",
       "    }\n",
       "\n",
       "    .dataframe tbody tr th {\n",
       "        vertical-align: top;\n",
       "    }\n",
       "\n",
       "    .dataframe thead th {\n",
       "        text-align: right;\n",
       "    }\n",
       "</style>\n",
       "<table border=\"1\" class=\"dataframe\">\n",
       "  <thead>\n",
       "    <tr style=\"text-align: right;\">\n",
       "      <th></th>\n",
       "      <th>total_enslaved</th>\n",
       "      <th>av_enslaved</th>\n",
       "      <th>no_voyages</th>\n",
       "    </tr>\n",
       "  </thead>\n",
       "  <tbody>\n",
       "    <tr>\n",
       "      <th>count</th>\n",
       "      <td>1335.000000</td>\n",
       "      <td>1335.000000</td>\n",
       "      <td>1335.000000</td>\n",
       "    </tr>\n",
       "    <tr>\n",
       "      <th>mean</th>\n",
       "      <td>6300.172285</td>\n",
       "      <td>253.208147</td>\n",
       "      <td>23.499625</td>\n",
       "    </tr>\n",
       "    <tr>\n",
       "      <th>std</th>\n",
       "      <td>11073.281410</td>\n",
       "      <td>94.998653</td>\n",
       "      <td>40.126017</td>\n",
       "    </tr>\n",
       "    <tr>\n",
       "      <th>min</th>\n",
       "      <td>3.000000</td>\n",
       "      <td>3.000000</td>\n",
       "      <td>1.000000</td>\n",
       "    </tr>\n",
       "    <tr>\n",
       "      <th>25%</th>\n",
       "      <td>518.000000</td>\n",
       "      <td>193.500000</td>\n",
       "      <td>2.000000</td>\n",
       "    </tr>\n",
       "    <tr>\n",
       "      <th>50%</th>\n",
       "      <td>1626.000000</td>\n",
       "      <td>250.290909</td>\n",
       "      <td>7.000000</td>\n",
       "    </tr>\n",
       "    <tr>\n",
       "      <th>75%</th>\n",
       "      <td>6198.000000</td>\n",
       "      <td>294.950000</td>\n",
       "      <td>25.000000</td>\n",
       "    </tr>\n",
       "    <tr>\n",
       "      <th>max</th>\n",
       "      <td>71239.000000</td>\n",
       "      <td>719.357143</td>\n",
       "      <td>271.000000</td>\n",
       "    </tr>\n",
       "  </tbody>\n",
       "</table>\n",
       "</div>"
      ],
      "text/plain": [
       "       total_enslaved  av_enslaved   no_voyages\n",
       "count     1335.000000  1335.000000  1335.000000\n",
       "mean      6300.172285   253.208147    23.499625\n",
       "std      11073.281410    94.998653    40.126017\n",
       "min          3.000000     3.000000     1.000000\n",
       "25%        518.000000   193.500000     2.000000\n",
       "50%       1626.000000   250.290909     7.000000\n",
       "75%       6198.000000   294.950000    25.000000\n",
       "max      71239.000000   719.357143   271.000000"
      ]
     },
     "execution_count": 62,
     "metadata": {},
     "output_type": "execute_result"
    }
   ],
   "source": [
    "## merge into one data set\n",
    "\n",
    "trade_final = trade_total.join(trade_av_enslaved)\n",
    "trade_final = trade_final.join(trade_voyages)\n",
    "trade_final.describe()"
   ]
  },
  {
   "cell_type": "code",
   "execution_count": 101,
   "metadata": {},
   "outputs": [
    {
     "data": {
      "text/plain": [
       "destination  date                  \n",
       "Africa       1589.0  total_enslaved    319.0\n",
       "                     av_enslaved       319.0\n",
       "                     no_voyages          1.0\n",
       "             1647.0  total_enslaved    155.0\n",
       "                     av_enslaved       155.0\n",
       "dtype: float64"
      ]
     },
     "execution_count": 101,
     "metadata": {},
     "output_type": "execute_result"
    }
   ],
   "source": [
    "# stack stack stack!\n",
    "\n",
    "strade = trade_final.stack()\n",
    "strade.head()"
   ]
  },
  {
   "cell_type": "code",
   "execution_count": 110,
   "metadata": {},
   "outputs": [
    {
     "data": {
      "text/html": [
       "<div>\n",
       "<style scoped>\n",
       "    .dataframe tbody tr th:only-of-type {\n",
       "        vertical-align: middle;\n",
       "    }\n",
       "\n",
       "    .dataframe tbody tr th {\n",
       "        vertical-align: top;\n",
       "    }\n",
       "\n",
       "    .dataframe thead th {\n",
       "        text-align: right;\n",
       "    }\n",
       "</style>\n",
       "<table border=\"1\" class=\"dataframe\">\n",
       "  <thead>\n",
       "    <tr style=\"text-align: right;\">\n",
       "      <th></th>\n",
       "      <th>total_enslaved</th>\n",
       "      <th>av_enslaved</th>\n",
       "      <th>no_voyages</th>\n",
       "    </tr>\n",
       "    <tr>\n",
       "      <th>destination</th>\n",
       "      <th></th>\n",
       "      <th></th>\n",
       "      <th></th>\n",
       "    </tr>\n",
       "  </thead>\n",
       "  <tbody>\n",
       "    <tr>\n",
       "      <th>Africa</th>\n",
       "      <td>1032.0</td>\n",
       "      <td>129.000000</td>\n",
       "      <td>8.0</td>\n",
       "    </tr>\n",
       "    <tr>\n",
       "      <th>Brazil</th>\n",
       "      <td>44636.0</td>\n",
       "      <td>368.892562</td>\n",
       "      <td>121.0</td>\n",
       "    </tr>\n",
       "    <tr>\n",
       "      <th>Caribbean</th>\n",
       "      <td>31772.0</td>\n",
       "      <td>248.218750</td>\n",
       "      <td>128.0</td>\n",
       "    </tr>\n",
       "    <tr>\n",
       "      <th>Europe</th>\n",
       "      <td>NaN</td>\n",
       "      <td>NaN</td>\n",
       "      <td>NaN</td>\n",
       "    </tr>\n",
       "    <tr>\n",
       "      <th>Mainland North America</th>\n",
       "      <td>1010.0</td>\n",
       "      <td>168.333333</td>\n",
       "      <td>6.0</td>\n",
       "    </tr>\n",
       "    <tr>\n",
       "      <th>Other</th>\n",
       "      <td>192.0</td>\n",
       "      <td>192.000000</td>\n",
       "      <td>1.0</td>\n",
       "    </tr>\n",
       "    <tr>\n",
       "      <th>Spanish American Mainland</th>\n",
       "      <td>353.0</td>\n",
       "      <td>353.000000</td>\n",
       "      <td>1.0</td>\n",
       "    </tr>\n",
       "    <tr>\n",
       "      <th>Unknown Destination</th>\n",
       "      <td>3408.0</td>\n",
       "      <td>162.285714</td>\n",
       "      <td>21.0</td>\n",
       "    </tr>\n",
       "  </tbody>\n",
       "</table>\n",
       "</div>"
      ],
      "text/plain": [
       "                           total_enslaved  av_enslaved  no_voyages\n",
       "destination                                                       \n",
       "Africa                             1032.0   129.000000         8.0\n",
       "Brazil                            44636.0   368.892562       121.0\n",
       "Caribbean                         31772.0   248.218750       128.0\n",
       "Europe                                NaN          NaN         NaN\n",
       "Mainland North America             1010.0   168.333333         6.0\n",
       "Other                               192.0   192.000000         1.0\n",
       "Spanish American Mainland           353.0   353.000000         1.0\n",
       "Unknown Destination                3408.0   162.285714        21.0"
      ]
     },
     "execution_count": 110,
     "metadata": {},
     "output_type": "execute_result"
    },
    {
     "data": {
      "image/png": "[encoded data removed]",
      "text/plain": [
       "<Figure size 432x288 with 1 Axes>"
      ]
     },
     "metadata": {
      "needs_background": "light"
     },
     "output_type": "display_data"
    }
   ],
   "source": [
    "f_stack = strade.unstack(1)\n",
    "f_stack\n",
    "f_stack2 = f_stack[1817]\n",
    "f_stack2\n",
    "f_stack3 = f_stack2.unstack(1)\n",
    "f_stack3.plot.scatter('av_enslaved', 'no_voyages', s=0.5)\n",
    "f_stack3"
   ]
  },
  {
   "cell_type": "code",
   "execution_count": 65,
   "metadata": {},
   "outputs": [
    {
     "data": {
      "text/plain": [
       "Text(0, 0.5, 'No. Voyages')"
      ]
     },
     "execution_count": 65,
     "metadata": {},
     "output_type": "execute_result"
    },
    {
     "data": {
      "image/png": "[encoded data removed]",
      "text/plain": [
       "<Figure size 432x288 with 1 Axes>"
      ]
     },
     "metadata": {
      "needs_background": "light"
     },
     "output_type": "display_data"
    }
   ],
   "source": [
    "# THE PLOT THICKENS.\n",
    "\n",
    "cmap = plt.get_cmap('tab20', lut = len(f_stack)).colors\n",
    "# lut controls length of colour array. Default is 20, but we want it to be the same length as our no. of countries, so we are going to make sure it's the same length as the data frame by using lut = len(df6)\n",
    "\n",
    "# set up parameters for using in plot generation\n",
    "x = f_stack['av_enslaved']\n",
    "y = f_stack['no_voyages']\n",
    "sizes = f_stack['total_enslaved']/ 100 # in 100s\n",
    "\n",
    "fig = plt.scatter(x, y,\n",
    "            s = sizes,\n",
    "            c = cmap,     # cmap was defined above: override default len of 20 colours\n",
    "            alpha=0.3)\n",
    "\n",
    "plt.axis([1, 800, 1, 300])\n",
    "plt.xlabel('Average No. Enslaved People per Voyage')\n",
    "plt.ylabel('No. Voyages')\n"
   ]
  },
  {
   "cell_type": "markdown",
   "metadata": {},
   "source": [
    "## Use loop to do this repeatedly"
   ]
  },
  {
   "cell_type": "code",
   "execution_count": 102,
   "metadata": {},
   "outputs": [],
   "source": [
    "# make a list of the years\n",
    "year_list_pre = trade_final.reset_index()\n",
    "year_list = list(year_list_pre['date'].unique())\n",
    "year_list = sorted(year_list)\n",
    "year_list = [int(x) for x in year_list]\n",
    "# year_list"
   ]
  },
  {
   "cell_type": "code",
   "execution_count": 111,
   "metadata": {},
   "outputs": [
    {
     "data": {
      "text/plain": [
       "destination          date                  \n",
       "Africa               1589.0  total_enslaved    319.0\n",
       "                             av_enslaved       319.0\n",
       "                             no_voyages          1.0\n",
       "                     1647.0  total_enslaved    155.0\n",
       "                             av_enslaved       155.0\n",
       "                                               ...  \n",
       "Unknown Destination  1857.0  av_enslaved       569.0\n",
       "                             no_voyages          1.0\n",
       "                     1859.0  total_enslaved    559.0\n",
       "                             av_enslaved       559.0\n",
       "                             no_voyages          1.0\n",
       "Length: 4005, dtype: float64"
      ]
     },
     "execution_count": 111,
     "metadata": {},
     "output_type": "execute_result"
    }
   ],
   "source": [
    "strade"
   ]
  },
  {
   "cell_type": "code",
   "execution_count": 121,
   "metadata": {},
   "outputs": [
    {
     "data": {
      "text/plain": [
       "<Figure size 432x288 with 0 Axes>"
      ]
     },
     "metadata": {},
     "output_type": "display_data"
    }
   ],
   "source": [
    "df_initial = strade.unstack(1)\n",
    "\n",
    "makePlot(df_initial, 1520)\n",
    "\n",
    "# Write a function that will create the plots\n",
    "def makePlot(df_initial, year):\n",
    "    \n",
    "    # select data for the year we are interested in\n",
    "    df_temp = df_initial[year]\n",
    "    df_temp = df_temp.unstack(1)\n",
    "    \n",
    "    # set some variables that will always be the same across all plots\n",
    "    x = df_temp['av_enslaved']\n",
    "    y = df_temp['no_voyages']\n",
    "    sizes = df_temp['total_enslaved']/ 100 # in 100s\n",
    "    cmap = plt.get_cmap('tab20', lut = len(df_temp)).colors\n",
    "\n",
    "    # generate plot\n",
    "    fig = plt.scatter(x, y,\n",
    "                s = sizes,\n",
    "                c = cmap,     # cmap was defined above: override default len of 20 colours\n",
    "                alpha=0.3)\n",
    "\n",
    "    plt.axis([1, 500, 1, 300])\n",
    "    plt.xlabel('Average No. Enslaved People per Voyage')\n",
    "    plt.ylabel('No. Voyages')\n",
    "    plt.title(str(year))\n",
    "\n",
    "    # save plot\n",
    "    plt.savefig('scatter_enslaved' + str(year) + '.png', dpi = 150)\n",
    "    plt.clf()       # close the plot we created, or they will all get overlaid\n",
    "    \n",
    "    return\n",
    "\n",
    "### now loop through all of the years in the year list!\n",
    "for moment in year_list:\n",
    "    makePlot(df_initial, moment)"
   ]
  },
  {
   "cell_type": "markdown",
   "metadata": {},
   "source": [
    "## Make gif"
   ]
  },
  {
   "cell_type": "code",
   "execution_count": 123,
   "metadata": {},
   "outputs": [],
   "source": [
    "# code from Kristian's textbook\n",
    "\n",
    "images = []\n",
    "\n",
    "for i in year_list:\n",
    "    filename = 'scatter_enslaved{}.png'.format(i)\n",
    "    images.append(imageio.imread(filename))\n",
    "\n",
    "imageio.mimsave('output_enslaved.gif', images, fps=20)"
   ]
  },
  {
   "cell_type": "code",
   "execution_count": null,
   "metadata": {},
   "outputs": [],
   "source": []
  }
 ],
 "metadata": {
  "kernelspec": {
   "display_name": "Python 3",
   "language": "python",
   "name": "python3"
  },
  "language_info": {
   "codemirror_mode": {
    "name": "ipython",
    "version": 3
   },
   "file_extension": ".py",
   "mimetype": "text/x-python",
   "name": "python",
   "nbconvert_exporter": "python",
   "pygments_lexer": "ipython3",
   "version": "3.7.6"
  }
 },
 "nbformat": 4,
 "nbformat_minor": 4
}
