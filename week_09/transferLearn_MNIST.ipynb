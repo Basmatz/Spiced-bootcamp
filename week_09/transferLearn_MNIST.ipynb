{
 "cells": [
  {
   "cell_type": "code",
   "execution_count": 126,
   "metadata": {},
   "outputs": [],
   "source": [
    "from tensorflow.keras.datasets import mnist\n",
    "from tensorflow.keras.models import Sequential\n",
    "from tensorflow.keras.layers import Input, Dense, Flatten, Conv2D, MaxPooling2D, Activation\n",
    "from tensorflow.keras.utils import to_categorical\n",
    "from tensorflow.keras.layers import BatchNormalization\n",
    "from tensorflow.keras.callbacks import EarlyStopping\n",
    "from tensorflow.keras.layers import Dropout\n",
    "from tensorflow.keras import backend as K\n",
    "import numpy as np\n",
    "from matplotlib import pyplot as plt"
   ]
  },
  {
   "cell_type": "markdown",
   "metadata": {},
   "source": [
    "## Load MNIST data"
   ]
  },
  {
   "cell_type": "code",
   "execution_count": 2,
   "metadata": {},
   "outputs": [],
   "source": [
    "(X_train, y_train), (X_test, y_test) = mnist.load_data()"
   ]
  },
  {
   "cell_type": "code",
   "execution_count": 33,
   "metadata": {},
   "outputs": [
    {
     "data": {
      "text/plain": [
       "(60000, 28, 28)"
      ]
     },
     "execution_count": 33,
     "metadata": {},
     "output_type": "execute_result"
    }
   ],
   "source": [
    "X_train.shape"
   ]
  },
  {
   "cell_type": "code",
   "execution_count": 31,
   "metadata": {},
   "outputs": [
    {
     "data": {
      "text/plain": [
       "60000"
      ]
     },
     "execution_count": 31,
     "metadata": {},
     "output_type": "execute_result"
    }
   ],
   "source": [
    "y_train.size"
   ]
  },
  {
   "cell_type": "code",
   "execution_count": 54,
   "metadata": {},
   "outputs": [
    {
     "data": {
      "text/plain": [
       "(60000, 28, 28, 1)"
      ]
     },
     "execution_count": 54,
     "metadata": {},
     "output_type": "execute_result"
    }
   ],
   "source": [
    "np.expand_dims(X_train, axis=3).shape\n"
   ]
  },
  {
   "cell_type": "code",
   "execution_count": 62,
   "metadata": {},
   "outputs": [],
   "source": [
    "import pandas as pd"
   ]
  },
  {
   "cell_type": "markdown",
   "metadata": {},
   "source": [
    "## "
   ]
  },
  {
   "cell_type": "code",
   "execution_count": 106,
   "metadata": {},
   "outputs": [
    {
     "data": {
      "text/plain": [
       "(30596, 28, 28)"
      ]
     },
     "execution_count": 106,
     "metadata": {},
     "output_type": "execute_result"
    }
   ],
   "source": [
    "df = pd.DataFrame(y_train)\n",
    "y_train01234 = df[df[0].isin([0,1,2,3,4])]\n",
    "yindex_01234 = list(df[df[0].isin([0,1,2,3,4])].index.values)\n",
    "df2 = pd.DataFrame(X_train.reshape(60000,28*28))\n",
    "X_train01234 = np.array(df2[df2.index.isin(yindex_01234)])\n",
    "X_train01234 = np.array(X_train01234).reshape(X_train01234.shape[0],28,28)\n",
    "X_train01234.shape"
   ]
  },
  {
   "cell_type": "code",
   "execution_count": 136,
   "metadata": {},
   "outputs": [
    {
     "data": {
      "text/plain": [
       "(5139, 28, 28)"
      ]
     },
     "execution_count": 136,
     "metadata": {},
     "output_type": "execute_result"
    }
   ],
   "source": [
    "df = pd.DataFrame(y_test)\n",
    "y_test01234 = df[df[0].isin([0,1,2,3,4])]\n",
    "yindex_01234test = list(df[df[0].isin([0,1,2,3,4])].index.values)\n",
    "df2 = pd.DataFrame(X_test.reshape(X_test.shape[0],28*28))\n",
    "X_test01234 = np.array(df2[df2.index.isin(yindex_01234test)])\n",
    "X_test01234 = np.array(X_test01234).reshape(X_test01234.shape[0],28,28)\n",
    "X_test01234.shape"
   ]
  },
  {
   "cell_type": "code",
   "execution_count": 107,
   "metadata": {},
   "outputs": [
    {
     "data": {
      "text/plain": [
       "(30596, 1)"
      ]
     },
     "execution_count": 107,
     "metadata": {},
     "output_type": "execute_result"
    }
   ],
   "source": [
    "y_train01234.shape"
   ]
  },
  {
   "cell_type": "code",
   "execution_count": 139,
   "metadata": {},
   "outputs": [],
   "source": [
    "y_train01234_cat = to_categorical(y_train01234)\n",
    "y_test01234_cat = to_categorical(y_test01234)"
   ]
  },
  {
   "cell_type": "code",
   "execution_count": 118,
   "metadata": {},
   "outputs": [],
   "source": [
    "model = Sequential([\n",
    "    Dense(20, input_shape=(784,)), #hardest part to get right\n",
    "        Activation('relu'),\n",
    "            BatchNormalization(),\n",
    "                        Dropout(0.1),\n",
    "    Dense(20, input_shape=(28,28)), #hardest part to get right\n",
    "        Activation('relu'),\n",
    "            BatchNormalization(),\n",
    "                        Dropout(0.1),\n",
    "    Dense(20, input_shape=(28,28)), #hardest part to get right\n",
    "        Activation('relu'),\n",
    "            BatchNormalization(),\n",
    "                        Dropout(0.1),\n",
    "    Dense(20, input_shape=(28,28)), #hardest part to get right\n",
    "        Activation('relu'),\n",
    "            BatchNormalization(),\n",
    "                        Dropout(0.1),\n",
    "    \n",
    "    \n",
    "    Dense(5),\n",
    "        Activation('softmax')  \n",
    "    \n",
    "    \n",
    "])"
   ]
  },
  {
   "cell_type": "code",
   "execution_count": 113,
   "metadata": {},
   "outputs": [
    {
     "name": "stdout",
     "output_type": "stream",
     "text": [
      "Model: \"sequential\"\n",
      "_________________________________________________________________\n",
      "Layer (type)                 Output Shape              Param #   \n",
      "=================================================================\n",
      "dense_1 (Dense)              (None, 28, 20)            580       \n",
      "_________________________________________________________________\n",
      "activation_1 (Activation)    (None, 28, 20)            0         \n",
      "_________________________________________________________________\n",
      "batch_normalization (BatchNo (None, 28, 20)            80        \n",
      "_________________________________________________________________\n",
      "dropout (Dropout)            (None, 28, 20)            0         \n",
      "_________________________________________________________________\n",
      "dense_2 (Dense)              (None, 28, 20)            420       \n",
      "_________________________________________________________________\n",
      "activation_2 (Activation)    (None, 28, 20)            0         \n",
      "_________________________________________________________________\n",
      "batch_normalization_1 (Batch (None, 28, 20)            80        \n",
      "_________________________________________________________________\n",
      "dropout_1 (Dropout)          (None, 28, 20)            0         \n",
      "_________________________________________________________________\n",
      "dense_3 (Dense)              (None, 28, 20)            420       \n",
      "_________________________________________________________________\n",
      "activation_3 (Activation)    (None, 28, 20)            0         \n",
      "_________________________________________________________________\n",
      "batch_normalization_2 (Batch (None, 28, 20)            80        \n",
      "_________________________________________________________________\n",
      "dropout_2 (Dropout)          (None, 28, 20)            0         \n",
      "_________________________________________________________________\n",
      "dense_4 (Dense)              (None, 28, 20)            420       \n",
      "_________________________________________________________________\n",
      "activation_4 (Activation)    (None, 28, 20)            0         \n",
      "_________________________________________________________________\n",
      "batch_normalization_3 (Batch (None, 28, 20)            80        \n",
      "_________________________________________________________________\n",
      "dropout_3 (Dropout)          (None, 28, 20)            0         \n",
      "_________________________________________________________________\n",
      "dense_5 (Dense)              (None, 28, 5)             105       \n",
      "_________________________________________________________________\n",
      "activation_5 (Activation)    (None, 28, 5)             0         \n",
      "=================================================================\n",
      "Total params: 2,265\n",
      "Trainable params: 2,105\n",
      "Non-trainable params: 160\n",
      "_________________________________________________________________\n"
     ]
    }
   ],
   "source": [
    "model.summary()"
   ]
  },
  {
   "cell_type": "code",
   "execution_count": 121,
   "metadata": {},
   "outputs": [],
   "source": [
    "model.compile(optimizer='Adam', loss='categorical_crossentropy', metrics=['accuracy'])\n",
    "#compiling the model basically translates our keras code into lower-level TensorFlow / C++"
   ]
  },
  {
   "cell_type": "code",
   "execution_count": 129,
   "metadata": {},
   "outputs": [
    {
     "name": "stdout",
     "output_type": "stream",
     "text": [
      "Epoch 1/20\n",
      "5/5 - 0s - loss: 0.4441 - accuracy: 0.8946 - val_loss: 0.6926 - val_accuracy: 0.7928\n",
      "Epoch 2/20\n",
      "5/5 - 0s - loss: 0.4051 - accuracy: 0.9059 - val_loss: 0.6052 - val_accuracy: 0.8538\n",
      "Epoch 3/20\n",
      "5/5 - 0s - loss: 0.3755 - accuracy: 0.9138 - val_loss: 0.5315 - val_accuracy: 0.8895\n",
      "Epoch 4/20\n",
      "5/5 - 0s - loss: 0.3475 - accuracy: 0.9200 - val_loss: 0.4690 - val_accuracy: 0.9172\n",
      "Epoch 5/20\n",
      "5/5 - 0s - loss: 0.3227 - accuracy: 0.9271 - val_loss: 0.4199 - val_accuracy: 0.9333\n",
      "Epoch 6/20\n",
      "5/5 - 0s - loss: 0.3010 - accuracy: 0.9298 - val_loss: 0.3785 - val_accuracy: 0.9400\n",
      "Epoch 7/20\n",
      "5/5 - 0s - loss: 0.2862 - accuracy: 0.9329 - val_loss: 0.3417 - val_accuracy: 0.9443\n",
      "Epoch 8/20\n",
      "5/5 - 0s - loss: 0.2693 - accuracy: 0.9370 - val_loss: 0.3092 - val_accuracy: 0.9484\n",
      "Epoch 9/20\n",
      "5/5 - 0s - loss: 0.2517 - accuracy: 0.9420 - val_loss: 0.2781 - val_accuracy: 0.9526\n",
      "Epoch 10/20\n",
      "5/5 - 0s - loss: 0.2373 - accuracy: 0.9459 - val_loss: 0.2523 - val_accuracy: 0.9557\n",
      "Epoch 11/20\n",
      "5/5 - 0s - loss: 0.2232 - accuracy: 0.9489 - val_loss: 0.2307 - val_accuracy: 0.9595\n",
      "Epoch 12/20\n",
      "5/5 - 0s - loss: 0.2149 - accuracy: 0.9497 - val_loss: 0.2119 - val_accuracy: 0.9616\n",
      "Epoch 13/20\n",
      "5/5 - 0s - loss: 0.2059 - accuracy: 0.9531 - val_loss: 0.1948 - val_accuracy: 0.9645\n",
      "Epoch 14/20\n",
      "5/5 - 0s - loss: 0.1939 - accuracy: 0.9554 - val_loss: 0.1798 - val_accuracy: 0.9665\n",
      "Epoch 15/20\n",
      "5/5 - 0s - loss: 0.1882 - accuracy: 0.9553 - val_loss: 0.1671 - val_accuracy: 0.9694\n",
      "Epoch 16/20\n",
      "5/5 - 0s - loss: 0.1804 - accuracy: 0.9590 - val_loss: 0.1567 - val_accuracy: 0.9698\n",
      "Epoch 17/20\n",
      "5/5 - 0s - loss: 0.1745 - accuracy: 0.9594 - val_loss: 0.1474 - val_accuracy: 0.9703\n",
      "Epoch 18/20\n",
      "5/5 - 0s - loss: 0.1692 - accuracy: 0.9603 - val_loss: 0.1381 - val_accuracy: 0.9714\n",
      "Epoch 19/20\n",
      "5/5 - 0s - loss: 0.1661 - accuracy: 0.9607 - val_loss: 0.1293 - val_accuracy: 0.9721\n",
      "Epoch 20/20\n",
      "5/5 - 0s - loss: 0.1600 - accuracy: 0.9622 - val_loss: 0.1223 - val_accuracy: 0.9730\n"
     ]
    }
   ],
   "source": [
    "history = model.fit(X_train01234.reshape(X_train01234.shape[0],28*28), y_train01234_cat, epochs=20, batch_size=5000, verbose = 2, validation_split=0.2) # callbacks=[callback],\n",
    "#epochs -> iteration of backpropagation\n",
    "#batch_size -> chunk size / sub-epoch"
   ]
  },
  {
   "cell_type": "code",
   "execution_count": 130,
   "metadata": {},
   "outputs": [
    {
     "data": {
      "text/plain": [
       "<matplotlib.legend.Legend at 0x7fb7d4d17d10>"
      ]
     },
     "execution_count": 130,
     "metadata": {},
     "output_type": "execute_result"
    },
    {
     "data": {
      "image/png": "[encoded data removed]",
      "text/plain": [
       "<Figure size 432x288 with 1 Axes>"
      ]
     },
     "metadata": {
      "needs_background": "light"
     },
     "output_type": "display_data"
    }
   ],
   "source": [
    "plt.plot(history.history['loss'])\n",
    "plt.plot(history.history['val_loss'])\n",
    "plt.legend(['loss','val_loss'])"
   ]
  },
  {
   "cell_type": "code",
   "execution_count": 131,
   "metadata": {},
   "outputs": [
    {
     "data": {
      "text/plain": [
       "<matplotlib.legend.Legend at 0x7fb7d56574d0>"
      ]
     },
     "execution_count": 131,
     "metadata": {},
     "output_type": "execute_result"
    },
    {
     "data": {
      "image/png": "[encoded data removed]",
      "text/plain": [
       "<Figure size 432x288 with 1 Axes>"
      ]
     },
     "metadata": {
      "needs_background": "light"
     },
     "output_type": "display_data"
    }
   ],
   "source": [
    "plt.plot(history.history['accuracy'])\n",
    "plt.plot(history.history['val_accuracy'])\n",
    "plt.legend(['accuracy','val_accuracy'])"
   ]
  },
  {
   "cell_type": "code",
   "execution_count": 132,
   "metadata": {},
   "outputs": [
    {
     "name": "stdout",
     "output_type": "stream",
     "text": [
      "957/957 [==============================] - 0s 481us/step - loss: 0.1249 - accuracy: 0.9732\n"
     ]
    },
    {
     "data": {
      "text/plain": [
       "[0.12488645315170288, 0.9731664061546326]"
      ]
     },
     "execution_count": 132,
     "metadata": {},
     "output_type": "execute_result"
    }
   ],
   "source": [
    "model.evaluate(X_train01234.reshape(X_train01234.shape[0],28*28), y_train01234_cat)"
   ]
  },
  {
   "cell_type": "code",
   "execution_count": 140,
   "metadata": {},
   "outputs": [
    {
     "name": "stdout",
     "output_type": "stream",
     "text": [
      "161/161 [==============================] - 0s 536us/step - loss: 0.1151 - accuracy: 0.9766\n"
     ]
    },
    {
     "data": {
      "text/plain": [
       "[0.11510292440652847, 0.9766491651535034]"
      ]
     },
     "execution_count": 140,
     "metadata": {},
     "output_type": "execute_result"
    }
   ],
   "source": [
    "model.evaluate(X_test01234.reshape(X_test01234.shape[0],28*28), y_test01234_cat)"
   ]
  },
  {
   "cell_type": "code",
   "execution_count": null,
   "metadata": {},
   "outputs": [],
   "source": []
  },
  {
   "cell_type": "code",
   "execution_count": null,
   "metadata": {},
   "outputs": [],
   "source": []
  },
  {
   "cell_type": "code",
   "execution_count": null,
   "metadata": {},
   "outputs": [],
   "source": []
  },
  {
   "cell_type": "code",
   "execution_count": null,
   "metadata": {},
   "outputs": [],
   "source": []
  },
  {
   "cell_type": "code",
   "execution_count": null,
   "metadata": {},
   "outputs": [],
   "source": []
  }
 ],
 "metadata": {
  "kernelspec": {
   "display_name": "deep_learning",
   "language": "python",
   "name": "deep_learning"
  },
  "language_info": {
   "codemirror_mode": {
    "name": "ipython",
    "version": 3
   },
   "file_extension": ".py",
   "mimetype": "text/x-python",
   "name": "python",
   "nbconvert_exporter": "python",
   "pygments_lexer": "ipython3",
   "version": "3.7.6"
  }
 },
 "nbformat": 4,
 "nbformat_minor": 4
}
