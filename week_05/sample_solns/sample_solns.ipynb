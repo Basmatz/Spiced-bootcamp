{
 "cells": [
  {
   "cell_type": "markdown",
   "metadata": {},
   "source": [
    "---\n",
    "### Sample Solutions for Temperature Forecast Project\n",
    "1. **Baseline Model**\n",
    "2. **FB Prophet**\n",
    "\n",
    "---"
   ]
  },
  {
   "cell_type": "markdown",
   "metadata": {},
   "source": [
    "### 1. Making a simple, baseline model\n",
    "- Only by using monthly means of temperature differences\n",
    "    - i.e. only by decomposing trend and seasonality.\n",
    "- Cons:\n",
    "    - Does not model time dependence.\n",
    "    - Does not model any remainder (i.e. noise / volatility).\n",
    "- Pros:\n",
    "    - Simple reconstruction of trend and seasonality; fairly explainable!"
   ]
  },
  {
   "cell_type": "markdown",
   "metadata": {},
   "source": [
    "- **DISCLAIMER:** notebook is based off code written by a former spiced student. \n",
    "    - Please avoid copying this explicitly (or publishing it online), but merely use it as a reference / borrow some ideas or snippets from it, if you wish."
   ]
  },
  {
   "cell_type": "markdown",
   "metadata": {},
   "source": [
    "---"
   ]
  },
  {
   "cell_type": "code",
   "execution_count": 1,
   "metadata": {},
   "outputs": [],
   "source": [
    "import pandas as pd\n",
    "import matplotlib.pyplot as plt\n",
    "import numpy as np\n",
    "from sklearn.metrics import r2_score"
   ]
  },
  {
   "cell_type": "markdown",
   "metadata": {},
   "source": [
    "#### a. Read data from Berkeley Earth"
   ]
  },
  {
   "cell_type": "code",
   "execution_count": 2,
   "metadata": {},
   "outputs": [
    {
     "name": "stderr",
     "output_type": "stream",
     "text": [
      "<ipython-input-2-17f15c916647>:2: ParserWarning: Falling back to the 'python' engine because the 'c' engine does not support skipfooter; you can avoid this warning by specifying engine='python'.\n",
      "  data_raw = pd.read_csv('155194-TAVG-Data.txt', sep='\\s+', comment='%', header=None, skiprows=526, skipfooter=10)\n"
     ]
    }
   ],
   "source": [
    "##### BERLIN TEMPELHOF\n",
    "data_raw = pd.read_csv('155194-TAVG-Data.txt', sep='\\s+', comment='%', header=None, skiprows=526, skipfooter=10)\n",
    "data_raw.columns = pd.read_csv('155194-TAVG-Data.txt', nrows=0, skiprows=96, skipinitialspace=True).columns\n",
    "data_raw.rename(columns={data_raw.columns[0] : data_raw.columns[0].replace('%','').strip()}, inplace=True)"
   ]
  },
  {
   "cell_type": "markdown",
   "metadata": {},
   "source": [
    "#### b. Clean / Augment Data"
   ]
  },
  {
   "cell_type": "code",
   "execution_count": null,
   "metadata": {},
   "outputs": [],
   "source": [
    "data_raw['Date'] = pd.to_datetime(dict(year=data_raw['Year'], month=data_raw['Month'], day=1))\n",
    "data_raw['Temperature'] = data_raw['Temperature'].fillna(method='bfill')\n",
    "data_raw = data_raw[['Date', 'Year', 'Month', 'Temperature']]"
   ]
  },
  {
   "cell_type": "code",
   "execution_count": null,
   "metadata": {},
   "outputs": [],
   "source": [
    "data_raw.head()"
   ]
  },
  {
   "cell_type": "markdown",
   "metadata": {},
   "source": [
    "#### c. Split Data"
   ]
  },
  {
   "cell_type": "code",
   "execution_count": null,
   "metadata": {},
   "outputs": [],
   "source": [
    "#Use the last 120 data points (=10 years) for testing.\n",
    "y_train = data_raw.iloc[:-120].reset_index(drop=True) #Jan 1756 - Dec 2002\n",
    "y_test = data_raw.iloc[-120:].reset_index(drop=True) # Jan 2003 - Dec 2012"
   ]
  },
  {
   "cell_type": "code",
   "execution_count": null,
   "metadata": {},
   "outputs": [],
   "source": [
    "y_train.tail()"
   ]
  },
  {
   "cell_type": "markdown",
   "metadata": {},
   "source": [
    "#### d. Remove the trend (difference the temperature column)"
   ]
  },
  {
   "cell_type": "code",
   "execution_count": null,
   "metadata": {},
   "outputs": [],
   "source": [
    "#Apply to training\n",
    "y_train['Temp_diff'] = y_train['Temperature'].diff().fillna(0.0)\n"
   ]
  },
  {
   "cell_type": "code",
   "execution_count": null,
   "metadata": {},
   "outputs": [],
   "source": [
    "y_train.tail(3)"
   ]
  },
  {
   "cell_type": "markdown",
   "metadata": {},
   "source": [
    "#### e. Extract the Seasonality (from the de-trended data)"
   ]
  },
  {
   "cell_type": "code",
   "execution_count": null,
   "metadata": {},
   "outputs": [],
   "source": [
    "y_train['month_means'] = y_train.groupby('Month')['Temp_diff'].transform('mean')"
   ]
  },
  {
   "cell_type": "code",
   "execution_count": null,
   "metadata": {},
   "outputs": [],
   "source": [
    "y_train.tail(3)"
   ]
  },
  {
   "cell_type": "markdown",
   "metadata": {},
   "source": [
    "#### f. Re-construct the time series by taking the cumulative product of the monthly means.\n",
    "- However, the trick is to make sure that the cumulative sum is based off the original temperature value, so the scale makes sense."
   ]
  },
  {
   "cell_type": "code",
   "execution_count": null,
   "metadata": {},
   "outputs": [],
   "source": [
    "y0_train = y_train.iloc[0]['Temperature']"
   ]
  },
  {
   "cell_type": "code",
   "execution_count": null,
   "metadata": {},
   "outputs": [],
   "source": [
    "y0_train"
   ]
  },
  {
   "cell_type": "code",
   "execution_count": null,
   "metadata": {},
   "outputs": [],
   "source": [
    "y_train.loc[0,'month_means'] = y0_train \n",
    "\n",
    "#replaces the first point with the real value, so the cumulative sum can be built off of this.\n",
    "y_train['Prediction'] = np.cumsum(y_train['month_means'])"
   ]
  },
  {
   "cell_type": "code",
   "execution_count": null,
   "metadata": {},
   "outputs": [],
   "source": [
    "y_train.head()"
   ]
  },
  {
   "cell_type": "markdown",
   "metadata": {},
   "source": [
    "### g. Apply the same technique to the testing data set!\n",
    "- The key, however, is that you use the data (month_means) that were learned from the training data!"
   ]
  },
  {
   "cell_type": "code",
   "execution_count": null,
   "metadata": {},
   "outputs": [],
   "source": [
    "#Do the same to testing\n",
    "y_test['month_means'] = y_train.loc[0:120,'month_means']\n",
    "#use the monthly means from the training data, however!\n",
    "\n",
    "y_test.loc[0,'month_means'] = y_test.loc[0,'Temperature']\n",
    "#replaces the first point with the real value, so the cumulative sum can be built off of this.\n",
    "\n",
    "y_test['Prediction'] = np.cumsum(y_test['month_means'])"
   ]
  },
  {
   "cell_type": "code",
   "execution_count": null,
   "metadata": {},
   "outputs": [],
   "source": [
    "plt.figure(figsize=(8, 6))\n",
    "plt.plot_date(y_test['Date'],y_test['Temperature'],'r-')\n",
    "plt.plot_date(y_test['Date'],y_test['Prediction'],'b-')\n",
    "plt.legend(['Actual Temperature', 'Naive Forecast'])\n",
    "\n",
    "print(f\"Test Score: {r2_score(y_test['Temperature'], y_test['Prediction'])}\")"
   ]
  },
  {
   "cell_type": "markdown",
   "metadata": {},
   "source": [
    "#### h. Extending this model / technique into the future:\n",
    "- Now that we have a proof of concept that we can replicate the behavior of the trend / seasonality pretty well, let's apply it to the full data set and extend it out into the future.\n",
    "- Let's predict 30 years into the future\n",
    "- Create a **\"future dataframe\"**\n",
    "    - **KEY**: Make the first day of the *future dataframe* the last day of our *known dataset* (i.e. y_test)"
   ]
  },
  {
   "cell_type": "code",
   "execution_count": null,
   "metadata": {},
   "outputs": [],
   "source": [
    "yrs = 30\n",
    "y_future = pd.DataFrame(index = pd.date_range(start='Dec 2012', periods = 12*yrs, freq='MS'),\n",
    "             data=[0]*12*yrs,\n",
    "             columns=['month_means'])"
   ]
  },
  {
   "cell_type": "code",
   "execution_count": null,
   "metadata": {},
   "outputs": [],
   "source": [
    "y_future \n",
    "#at this point, y_future only contains 1 column (month_means), which is just filled in with zeros"
   ]
  },
  {
   "cell_type": "markdown",
   "metadata": {},
   "source": [
    "#### i. Make the first value of the future dataset the same as the last value in the known dataset\n",
    "- Our known dataset (y_test) ends in **December 2012**\n",
    "- The future dataset (y_future) starts on **December 2012**"
   ]
  },
  {
   "cell_type": "code",
   "execution_count": null,
   "metadata": {},
   "outputs": [],
   "source": [
    "#the trick here is that the first value of the future dataset is the temperature of the last day in ytest\n",
    "y_future.iloc[0, 0] = y_test.iloc[-1]['Temperature']"
   ]
  },
  {
   "cell_type": "code",
   "execution_count": null,
   "metadata": {},
   "outputs": [],
   "source": [
    "y_future.head()"
   ]
  },
  {
   "cell_type": "markdown",
   "metadata": {},
   "source": [
    "#### j. Add in the monthly means that were originally calculated on the training data set!\n",
    "- This is the trickiest part!\n",
    "    - Really need to be careful that you're lining up the values for the correct months.\n",
    "    - Remember, we're using the grouped averages of the monthly temperature DIFFERENCES, so everything is shifted."
   ]
  },
  {
   "cell_type": "code",
   "execution_count": null,
   "metadata": {},
   "outputs": [],
   "source": [
    "mean_training_vals = y_train.groupby('Month')['Temp_diff'].transform('mean')\n",
    "#the grouped averages of the monthly temp differences, just repeated until the end of the data series"
   ]
  },
  {
   "cell_type": "code",
   "execution_count": null,
   "metadata": {},
   "outputs": [],
   "source": [
    "#Insert mean_training_vals starting on the second row onwards. Since the second row happens to be January, it fits right in.\n",
    "y_future.iloc[1:] = mean_training_vals[0:(12*yrs)-1].values.reshape(-1,1)"
   ]
  },
  {
   "cell_type": "code",
   "execution_count": null,
   "metadata": {},
   "outputs": [],
   "source": [
    "y_future.head()"
   ]
  },
  {
   "cell_type": "markdown",
   "metadata": {},
   "source": [
    "#### k. Again, use the cumulative sum to \"extrapolate\" / predict into the future!"
   ]
  },
  {
   "cell_type": "code",
   "execution_count": null,
   "metadata": {},
   "outputs": [],
   "source": [
    "#Use cumulative sum to predict into future\n",
    "y_future['Prediction'] = np.cumsum(y_future['month_means'])\n",
    "\n",
    "y_future['Prediction'].plot()"
   ]
  },
  {
   "cell_type": "markdown",
   "metadata": {},
   "source": [
    "---"
   ]
  },
  {
   "cell_type": "markdown",
   "metadata": {},
   "source": [
    "Note that the prediction seems to be going down. \n",
    "- This naive approach seems to entirely depend on which year you start using for training.\n",
    "- For example:"
   ]
  },
  {
   "cell_type": "code",
   "execution_count": null,
   "metadata": {},
   "outputs": [],
   "source": [
    "data_raw.set_index('Date')['2010':]['Temperature'].diff().mean()"
   ]
  },
  {
   "cell_type": "code",
   "execution_count": null,
   "metadata": {},
   "outputs": [],
   "source": [
    "data_raw.set_index('Date')['1980':]['Temperature'].diff().mean()"
   ]
  },
  {
   "cell_type": "code",
   "execution_count": null,
   "metadata": {},
   "outputs": [],
   "source": [
    "data_raw.set_index('Date')['1950':]['Temperature'].diff().mean()"
   ]
  },
  {
   "cell_type": "code",
   "execution_count": null,
   "metadata": {},
   "outputs": [],
   "source": [
    "data_raw.set_index('Date')['1900':]['Temperature'].diff().mean()"
   ]
  },
  {
   "cell_type": "markdown",
   "metadata": {},
   "source": [
    "---"
   ]
  },
  {
   "cell_type": "markdown",
   "metadata": {},
   "source": [
    "#### Wrapping everything together!"
   ]
  },
  {
   "cell_type": "markdown",
   "metadata": {},
   "source": [
    "##### Let's try:"
   ]
  },
  {
   "cell_type": "code",
   "execution_count": null,
   "metadata": {},
   "outputs": [],
   "source": [
    "#### Try tweaking these values!! \n",
    "#### Depending on how far back in time you take the monthly averages, the trend will change!\n",
    "yrs = [20, 50, 100]\n",
    "train_begin = [1970, 1800, 1900]\n",
    "####\n",
    "\n",
    "for yr, begin_yr in zip(yrs, train_begin):\n",
    "    y_future = pd.DataFrame(index = pd.date_range(start='Dec 2012', periods = 12*yr, freq='M'),\n",
    "                 data=[0]*12*yr,\n",
    "                 columns=['month_means'])\n",
    "\n",
    "    #the trick here is that the first value of the future dataset is the temperature of the last day in ytest\n",
    "    y_future.iloc[0, 0] = y_test.iloc[-1]['Temperature']\n",
    "\n",
    "    mean_training_vals = y_train.set_index('Date')[f'{begin_yr}':].groupby('Month')['Temp_diff'].transform('mean')\n",
    "    y_future.iloc[1:] = mean_training_vals[0:(12*yr)-1].values.reshape(-1,1)\n",
    "\n",
    "    #Use cumulative sum to predict into future\n",
    "    y_future['Prediction'] = np.cumsum(y_future['month_means'])\n",
    "\n",
    "    plt.figure(figsize=(12,8))\n",
    "    y_future['Prediction'].plot(legend=['prediction'])\n",
    "    data_raw.set_index('Date')['Temperature'].plot(legend=['historical data'])\n",
    "    plt.title(f'Temperature prediction {yr} years into the future, training model back to {begin_yr}.')\n"
   ]
  },
  {
   "cell_type": "markdown",
   "metadata": {},
   "source": [
    "---\n",
    "---\n",
    "---"
   ]
  },
  {
   "cell_type": "markdown",
   "metadata": {},
   "source": [
    "### 2. Using an out-of-the-box, \"black-boxy\" model \n",
    "- FB Prophet (Developed by Facebook)\n",
    "- Installation: \n",
    "    - ``pip install fbprophet``, or\n",
    "    - ``conda install -c conda-forge fbprophet``, or\n",
    "    - In case that doesn't work, see installation documentation: https://facebook.github.io/prophet/docs/installation.html#python\n",
    "        - As of August 2020, there seems to be some strange issues with importing after the conda install:\n",
    "            - https://github.com/facebook/prophet/issues/1300"
   ]
  },
  {
   "cell_type": "markdown",
   "metadata": {},
   "source": [
    "![text](https://s.dou.ua/img/announces/prophet-840.png)"
   ]
  },
  {
   "cell_type": "markdown",
   "metadata": {},
   "source": [
    "---"
   ]
  },
  {
   "cell_type": "markdown",
   "metadata": {},
   "source": [
    "- Cons:\n",
    "    - Not easy to understand the math behind it.\n",
    "    - There **IS** a published paper, which is only 12 pages long ([read it!](https://peerj.com/preprints/3190.pdf)) but it's not super easy to understand.\n",
    "        - Also see: [The Math of Prophet: Breaking down the Equation behind Facebook’s open-source Time Series Forecasting procedure](https://medium.com/future-vision/the-math-of-prophet-46864fa9c55a)\n",
    "    - Installation tends to be a bit more tedious / unreliable than it should be.\n",
    "- Pros:\n",
    "    - Great Documentation.\n",
    "    - SUPER EASY to use.\n",
    "    - Models non-linear trends, fit with yearly, weekly, and daily seasonality, PLUS holiday effects.\n",
    "        - \"*It works best with time series that have strong seasonal effects and several seasons of historical data. Prophet is robust to missing data and shifts in the trend, and typically handles outliers well.*\""
   ]
  },
  {
   "cell_type": "markdown",
   "metadata": {},
   "source": [
    "See Youtube Video: [Forecasting at Scale: How and Why We Developed Prophet for Forecasting at Facebook](https://www.youtube.com/watch?v=pOYAXv15r3A)"
   ]
  },
  {
   "cell_type": "markdown",
   "metadata": {},
   "source": [
    "---"
   ]
  },
  {
   "cell_type": "markdown",
   "metadata": {},
   "source": [
    "#### a. Prerequisite:\n",
    "- FB Prophet is a univariate, time series model.\n",
    "- in order for it to work, you must have a pandas DataFrame with 2 columns:\n",
    "    - 1st column must be of the Pandas DateTime type and must be called ``ds``\n",
    "    - 2nd column must be some numerical variable you're trying to forecast, and must be called ``y``"
   ]
  },
  {
   "cell_type": "code",
   "execution_count": null,
   "metadata": {},
   "outputs": [],
   "source": [
    "### Let's just do it on the raw, original data (without train-test-split)\n",
    "df = data_raw[['Date', 'Temperature']]"
   ]
  },
  {
   "cell_type": "code",
   "execution_count": null,
   "metadata": {},
   "outputs": [],
   "source": [
    "df = df.rename(columns={'Date':'ds', 'Temperature':'y'})"
   ]
  },
  {
   "cell_type": "code",
   "execution_count": null,
   "metadata": {},
   "outputs": [],
   "source": [
    "df.head()"
   ]
  },
  {
   "cell_type": "markdown",
   "metadata": {},
   "source": [
    "#### b. Import model\n",
    "- *If this step even works for you, congratulations, cause it took me 3 attempts to get the installation working*"
   ]
  },
  {
   "cell_type": "code",
   "execution_count": null,
   "metadata": {},
   "outputs": [],
   "source": [
    "from fbprophet import Prophet"
   ]
  },
  {
   "cell_type": "code",
   "execution_count": null,
   "metadata": {},
   "outputs": [],
   "source": [
    "m = Prophet(weekly_seasonality=True, daily_seasonality=True)"
   ]
  },
  {
   "cell_type": "markdown",
   "metadata": {},
   "source": [
    "#### c. Train model"
   ]
  },
  {
   "cell_type": "code",
   "execution_count": null,
   "metadata": {},
   "outputs": [],
   "source": [
    "m.fit(df)"
   ]
  },
  {
   "cell_type": "markdown",
   "metadata": {},
   "source": [
    "*Similar to a generalized additive model (GAM), with time as a regressor, Prophet fits several linear and non-linear functions of time as components. In its simplest form:*\n",
    "\n",
    "``y(t) = g(t) + s(t) + h(t) + e(t)``\n",
    "\n",
    "*where:*\n",
    "\n",
    "- ``g(t)`` -> trend models non-periodic changes (i.e. growth over time)\n",
    "\n",
    "    - You can also program in \"saturated growth\", e.g. try setting ``growth='logistic'``\n",
    "    \n",
    "- ``s(t)`` -> seasonality presents periodic changes (i.e. weekly, monthly, yearly)\n",
    "\n",
    "    - *Prophet relies on Fourier series to provide a malleable model of periodic effects.*\n",
    "    \n",
    "- ``h(t)`` -> ties in effects of holidays (on potentially irregular schedules ≥ 1 day(s))\n",
    "\n",
    "- ``e(t)`` -> covers idiosyncratic changes not accommodated by the model\n"
   ]
  },
  {
   "cell_type": "markdown",
   "metadata": {},
   "source": [
    "*Prophet is essentially \"**framing the forecasting problem as a curve-fitting exercise**\" rather than looking explicitly at the time based dependence of each observation.*"
   ]
  },
  {
   "cell_type": "markdown",
   "metadata": {},
   "source": [
    "#### d. Prepare \"future dataframe\""
   ]
  },
  {
   "cell_type": "code",
   "execution_count": null,
   "metadata": {},
   "outputs": [],
   "source": [
    "future = m.make_future_dataframe(periods=240, freq='MS', include_history=False)\n",
    "#20 years into the future"
   ]
  },
  {
   "cell_type": "code",
   "execution_count": null,
   "metadata": {},
   "outputs": [],
   "source": [
    "future.tail()"
   ]
  },
  {
   "cell_type": "markdown",
   "metadata": {},
   "source": [
    "#### e. Predict"
   ]
  },
  {
   "cell_type": "code",
   "execution_count": null,
   "metadata": {},
   "outputs": [],
   "source": [
    "forecast = m.predict(future)"
   ]
  },
  {
   "cell_type": "code",
   "execution_count": null,
   "metadata": {},
   "outputs": [],
   "source": [
    "forecast.head()"
   ]
  },
  {
   "cell_type": "markdown",
   "metadata": {},
   "source": [
    "#### f. Admire"
   ]
  },
  {
   "cell_type": "code",
   "execution_count": null,
   "metadata": {},
   "outputs": [],
   "source": [
    "fig = m.plot(forecast)"
   ]
  },
  {
   "cell_type": "code",
   "execution_count": null,
   "metadata": {},
   "outputs": [],
   "source": [
    "fig2 = m.plot_components(forecast)"
   ]
  },
  {
   "cell_type": "code",
   "execution_count": null,
   "metadata": {},
   "outputs": [],
   "source": []
  }
 ],
 "metadata": {
  "kernelspec": {
   "display_name": "Python 3",
   "language": "python",
   "name": "python3"
  },
  "language_info": {
   "codemirror_mode": {
    "name": "ipython",
    "version": 3
   },
   "file_extension": ".py",
   "mimetype": "text/x-python",
   "name": "python",
   "nbconvert_exporter": "python",
   "pygments_lexer": "ipython3",
   "version": "3.8.3"
  }
 },
 "nbformat": 4,
 "nbformat_minor": 4
}
