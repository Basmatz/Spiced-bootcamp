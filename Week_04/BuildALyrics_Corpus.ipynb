{
 "cells": [
  {
   "cell_type": "markdown",
   "metadata": {},
   "source": [
    "Go through all song HTML files that you downloaded\n",
    "\n",
    "- Open one song in a text editor\n",
    "- Find out where the lyrics start and end in the HTML code\n",
    "- Extract the lyrics as a string using BeautifulSoup\n",
    "- Write a loop that extracts the lyrics of all songs\n",
    "- Collect all strings in a list\n",
    "- To read many files, use the expression:"
   ]
  },
  {
   "cell_type": "code",
   "execution_count": 8,
   "metadata": {},
   "outputs": [],
   "source": [
    "import requests\n",
    "from bs4 import BeautifulSoup\n",
    "import os"
   ]
  },
  {
   "cell_type": "markdown",
   "metadata": {},
   "source": [
    "#### Open song txt file on atom\n",
    " Lyrics start at `<pre id=\"lyric-body-text\" class=\"lyric-body\">`  and ends at  `</pre>`"
   ]
  },
  {
   "cell_type": "markdown",
   "metadata": {},
   "source": [
    "..\n",
    "\n",
    "To read many files, use the expression:\n",
    "\n",
    "import os\n",
    "\n",
    "for fn in os.listdir('madonna/')\n",
    "\n",
    "     text = open('madonna/' + fn).read()\n",
    "    "
   ]
  },
  {
   "cell_type": "code",
   "execution_count": 22,
   "metadata": {},
   "outputs": [],
   "source": [
    "with open(\"PinkFloyd_songs/lyrics/32.txt\") as reader:\n",
    "        songfile = reader.read()\n",
    "        reader.close()"
   ]
  },
  {
   "cell_type": "code",
   "execution_count": 24,
   "metadata": {},
   "outputs": [
    {
     "data": {
      "text/plain": [
       "str"
      ]
     },
     "execution_count": 24,
     "metadata": {},
     "output_type": "execute_result"
    }
   ],
   "source": [
    "type(songfile)"
   ]
  },
  {
   "cell_type": "code",
   "execution_count": 26,
   "metadata": {},
   "outputs": [],
   "source": [
    "song_soup = BeautifulSoup(songfile, 'html.parser')"
   ]
  },
  {
   "cell_type": "code",
   "execution_count": 41,
   "metadata": {},
   "outputs": [
    {
     "data": {
      "text/plain": [
       "[<pre class=\"lyric-body\" id=\"lyric-body-text\">We were so close to something right\n",
       " But we're stupid, but we're stupid, but we're stupid\n",
       " \n",
       " We could turn love into a fight\n",
       " Over nothing, over nothing, over nothing\n",
       " \n",
       " And the only thing we had in common with each other\n",
       " Was destroying everything we ever touched\n",
       " \n",
       " So cheers to us and what we had\n",
       " Let's keep dancing on the broken glass\n",
       " And all that's left is smoke and ash\n",
       " So let's keep dancing on the broken glass\n",
       " \n",
       " Cheers to us and what we had\n",
       " Let's keep dancing on the broken glass\n",
       " 'Cause when you're high, you're bound to crash\n",
       " So let's keep dancing on the broken glass\n",
       " \n",
       " Let's keep dancing on the broken glass\n",
       " Cheers to us\n",
       " Let's keep dancing on the broken glass\n",
       " \n",
       " We could've done this perfectly\n",
       " But we're useless, but we're useless, but we're useless\n",
       " \n",
       " Nobody does a tragedy like you and me\n",
       " 'Cause we're ruthless, 'cause we're ruthless, 'cause we're ruthless\n",
       " \n",
       " And the only thing we had in common with each other\n",
       " Was destroying everything we ever touched\n",
       " \n",
       " So cheers to us and what we had\n",
       " Let's keep dancing on the broken glass\n",
       " And all that's left is smoke and ash\n",
       " So let's keep dancing on the broken glass\n",
       " \n",
       " Cheers to us and what we had\n",
       " Let's keep dancing on the broken glass\n",
       " 'Cause when you're high, you're bound to crash\n",
       " So let's keep dancing on the broken glass\n",
       " \n",
       " Let's keep dancing on the broken glass\n",
       " And cheers to us\n",
       " Let's keep dancing, dancing\n",
       " Let's keep on dancing, yeah\n",
       " Let's keep dancing on the broken glass</pre>]"
      ]
     },
     "execution_count": 41,
     "metadata": {},
     "output_type": "execute_result"
    }
   ],
   "source": [
    "#select lyrics\n",
    "\n",
    "song_soup.body.find_all(class_=\"lyric-body\")"
   ]
  },
  {
   "cell_type": "code",
   "execution_count": 44,
   "metadata": {},
   "outputs": [
    {
     "ename": "TypeError",
     "evalue": "'NoneType' object is not subscriptable",
     "output_type": "error",
     "traceback": [
      "\u001b[0;31m---------------------------------------------------------------------------\u001b[0m",
      "\u001b[0;31mTypeError\u001b[0m                                 Traceback (most recent call last)",
      "\u001b[0;32m<ipython-input-44-229a56e9d5fa>\u001b[0m in \u001b[0;36m<module>\u001b[0;34m\u001b[0m\n\u001b[0;32m----> 1\u001b[0;31m \u001b[0msong_soup\u001b[0m\u001b[0;34m.\u001b[0m\u001b[0mfind\u001b[0m\u001b[0;34m(\u001b[0m\u001b[0mclass_\u001b[0m\u001b[0;34m=\u001b[0m\u001b[0;34m'lyric-body'\u001b[0m\u001b[0;34m)\u001b[0m\u001b[0;34m.\u001b[0m\u001b[0mfind\u001b[0m\u001b[0;34m(\u001b[0m\u001b[0;34m'<'\u001b[0m\u001b[0;34m)\u001b[0m\u001b[0;34m[\u001b[0m\u001b[0;34m'pre'\u001b[0m\u001b[0;34m]\u001b[0m\u001b[0;34m\u001b[0m\u001b[0;34m\u001b[0m\u001b[0m\n\u001b[0m",
      "\u001b[0;31mTypeError\u001b[0m: 'NoneType' object is not subscriptable"
     ]
    }
   ],
   "source": [
    "song_soup.find(class_='lyric-body').find('<')['pre']"
   ]
  },
  {
   "cell_type": "code",
   "execution_count": 18,
   "metadata": {},
   "outputs": [],
   "source": [
    "#select lyrics\n",
    "\n",
    "lyricpattern = '<pre id=\\\"lyric-body-text\\\".+>([\\s\\S]+)</pre>'\n",
    "deletepattern = \"(<.*?>)\""
   ]
  },
  {
   "cell_type": "code",
   "execution_count": null,
   "metadata": {},
   "outputs": [],
   "source": [
    "songnames = []\n",
    "\n",
    "for i in range(len(links)):\n",
    "\n",
    "    with open(\"foofighters/FooFighters--\" + re.findall(songpattern, links[i])[0] + \".html\", \"r\", encoding=\"utf-8\") as reader:\n",
    "        tempfile = reader.read()\n",
    "        reader.close()\n",
    "\n",
    "    songnames += re.findall(songpattern, links[i])\n",
    "\n",
    "    tempfile = re.findall(lyricpattern, tempfile)\n",
    "\n",
    "    tempfile = re.sub(deletepattern,\"\", tempfile[0])\n",
    "\n",
    "    with open(\"foofighters/txt/FooFighters--\" + re.findall(songpattern, links[i])[0] + \".txt\", \"w\", encoding=\"utf-8\") as writer:\n",
    "        writer.write(tempfile)\n",
    "        writer.close()\n",
    "songnames = pd.DataFrame(songnames)\n",
    "songnames = songnames[0].unique()\n",
    "\n",
    "print(len(songnames))"
   ]
  },
  {
   "cell_type": "code",
   "execution_count": 19,
   "metadata": {},
   "outputs": [
    {
     "ename": "UnicodeDecodeError",
     "evalue": "'utf-8' codec can't decode byte 0x80 in position 3131: invalid start byte",
     "output_type": "error",
     "traceback": [
      "\u001b[0;31m---------------------------------------------------------------------------\u001b[0m",
      "\u001b[0;31mUnicodeDecodeError\u001b[0m                        Traceback (most recent call last)",
      "\u001b[0;32m<ipython-input-19-ae803f82136b>\u001b[0m in \u001b[0;36m<module>\u001b[0;34m\u001b[0m\n\u001b[1;32m      5\u001b[0m \u001b[0mi\u001b[0m \u001b[0;34m=\u001b[0m \u001b[0;36m0\u001b[0m\u001b[0;34m\u001b[0m\u001b[0;34m\u001b[0m\u001b[0m\n\u001b[1;32m      6\u001b[0m \u001b[0;32mfor\u001b[0m \u001b[0mfn\u001b[0m \u001b[0;32min\u001b[0m \u001b[0mos\u001b[0m\u001b[0;34m.\u001b[0m\u001b[0mlistdir\u001b[0m\u001b[0;34m(\u001b[0m\u001b[0;34m'PinkFloyd_songs/lyrics/'\u001b[0m\u001b[0;34m)\u001b[0m\u001b[0;34m:\u001b[0m\u001b[0;34m\u001b[0m\u001b[0;34m\u001b[0m\u001b[0m\n\u001b[0;32m----> 7\u001b[0;31m     \u001b[0mcorpus\u001b[0m \u001b[0;34m+=\u001b[0m \u001b[0;34m[\u001b[0m\u001b[0mopen\u001b[0m\u001b[0;34m(\u001b[0m\u001b[0;34m'PinkFloyd_songs/lyrics/'\u001b[0m \u001b[0;34m+\u001b[0m \u001b[0mfn\u001b[0m\u001b[0;34m)\u001b[0m\u001b[0;34m.\u001b[0m\u001b[0mread\u001b[0m\u001b[0;34m(\u001b[0m\u001b[0;34m)\u001b[0m\u001b[0;34m.\u001b[0m\u001b[0mlower\u001b[0m\u001b[0;34m(\u001b[0m\u001b[0;34m)\u001b[0m\u001b[0;34m]\u001b[0m\u001b[0;34m\u001b[0m\u001b[0;34m\u001b[0m\u001b[0m\n\u001b[0m\u001b[1;32m      8\u001b[0m     \u001b[0mi\u001b[0m\u001b[0;34m+=\u001b[0m\u001b[0;36m1\u001b[0m\u001b[0;34m\u001b[0m\u001b[0;34m\u001b[0m\u001b[0m\n",
      "\u001b[0;32m/Applications/anaconda3/lib/python3.7/codecs.py\u001b[0m in \u001b[0;36mdecode\u001b[0;34m(self, input, final)\u001b[0m\n\u001b[1;32m    320\u001b[0m         \u001b[0;31m# decode input (taking the buffer into account)\u001b[0m\u001b[0;34m\u001b[0m\u001b[0;34m\u001b[0m\u001b[0;34m\u001b[0m\u001b[0m\n\u001b[1;32m    321\u001b[0m         \u001b[0mdata\u001b[0m \u001b[0;34m=\u001b[0m \u001b[0mself\u001b[0m\u001b[0;34m.\u001b[0m\u001b[0mbuffer\u001b[0m \u001b[0;34m+\u001b[0m \u001b[0minput\u001b[0m\u001b[0;34m\u001b[0m\u001b[0;34m\u001b[0m\u001b[0m\n\u001b[0;32m--> 322\u001b[0;31m         \u001b[0;34m(\u001b[0m\u001b[0mresult\u001b[0m\u001b[0;34m,\u001b[0m \u001b[0mconsumed\u001b[0m\u001b[0;34m)\u001b[0m \u001b[0;34m=\u001b[0m \u001b[0mself\u001b[0m\u001b[0;34m.\u001b[0m\u001b[0m_buffer_decode\u001b[0m\u001b[0;34m(\u001b[0m\u001b[0mdata\u001b[0m\u001b[0;34m,\u001b[0m \u001b[0mself\u001b[0m\u001b[0;34m.\u001b[0m\u001b[0merrors\u001b[0m\u001b[0;34m,\u001b[0m \u001b[0mfinal\u001b[0m\u001b[0;34m)\u001b[0m\u001b[0;34m\u001b[0m\u001b[0;34m\u001b[0m\u001b[0m\n\u001b[0m\u001b[1;32m    323\u001b[0m         \u001b[0;31m# keep undecoded input until the next call\u001b[0m\u001b[0;34m\u001b[0m\u001b[0;34m\u001b[0m\u001b[0;34m\u001b[0m\u001b[0m\n\u001b[1;32m    324\u001b[0m         \u001b[0mself\u001b[0m\u001b[0;34m.\u001b[0m\u001b[0mbuffer\u001b[0m \u001b[0;34m=\u001b[0m \u001b[0mdata\u001b[0m\u001b[0;34m[\u001b[0m\u001b[0mconsumed\u001b[0m\u001b[0;34m:\u001b[0m\u001b[0;34m]\u001b[0m\u001b[0;34m\u001b[0m\u001b[0;34m\u001b[0m\u001b[0m\n",
      "\u001b[0;31mUnicodeDecodeError\u001b[0m: 'utf-8' codec can't decode byte 0x80 in position 3131: invalid start byte"
     ]
    }
   ],
   "source": [
    "### Extract Lyrics with BeautifulSoup\n",
    "\n",
    "corpus = []\n",
    "\n",
    "i = 0\n",
    "for fn in os.listdir('PinkFloyd_songs/lyrics/'):\n",
    "    corpus += [open('PinkFloyd_songs/lyrics/' + fn).read().lower()]\n",
    "    i+=1"
   ]
  },
  {
   "cell_type": "code",
   "execution_count": null,
   "metadata": {},
   "outputs": [],
   "source": []
  }
 ],
 "metadata": {
  "kernelspec": {
   "display_name": "Python 3",
   "language": "python",
   "name": "python3"
  },
  "language_info": {
   "codemirror_mode": {
    "name": "ipython",
    "version": 3
   },
   "file_extension": ".py",
   "mimetype": "text/x-python",
   "name": "python",
   "nbconvert_exporter": "python",
   "pygments_lexer": "ipython3",
   "version": "3.7.6"
  }
 },
 "nbformat": 4,
 "nbformat_minor": 4
}
