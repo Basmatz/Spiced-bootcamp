{
 "cells": [
  {
   "cell_type": "code",
   "execution_count": 1,
   "metadata": {},
   "outputs": [],
   "source": [
    "ITEMS = ['a','b','c','d','e']"
   ]
  },
  {
   "cell_type": "code",
   "execution_count": 2,
   "metadata": {},
   "outputs": [],
   "source": [
    "import random"
   ]
  },
  {
   "cell_type": "code",
   "execution_count": 5,
   "metadata": {},
   "outputs": [],
   "source": [
    "result = random.sample(ITEMS, k=3)\n",
    "result = [i.lower() for i in result]"
   ]
  },
  {
   "cell_type": "code",
   "execution_count": 6,
   "metadata": {},
   "outputs": [
    {
     "data": {
      "text/plain": [
       "['e', 'c', 'b']"
      ]
     },
     "execution_count": 6,
     "metadata": {},
     "output_type": "execute_result"
    }
   ],
   "source": [
    "result"
   ]
  },
  {
   "cell_type": "code",
   "execution_count": 8,
   "metadata": {},
   "outputs": [],
   "source": [
    "def random_recommend(items:list, n:int) -> list: #type annotation\n",
    "        \"\"\"\n",
    "        Function that returns n elements randomly from a given list.\n",
    "        \n",
    "        Arguments\n",
    "        ---------\n",
    "        items: list\n",
    "        n: int\n",
    "        \n",
    "        Returns\n",
    "        ---------\n",
    "        result: list\n",
    "        \"\"\"\n",
    "        result = random.sample(items, k=n)\n",
    "        result = [i.lower() for i in result]\n",
    "        return result\n",
    "    "
   ]
  },
  {
   "cell_type": "code",
   "execution_count": 9,
   "metadata": {},
   "outputs": [
    {
     "data": {
      "text/plain": [
       "['b', 'd', 'c', 'e', 'a']"
      ]
     },
     "execution_count": 9,
     "metadata": {},
     "output_type": "execute_result"
    }
   ],
   "source": [
    "random_recommend(ITEMS, 5)"
   ]
  },
  {
   "cell_type": "code",
   "execution_count": null,
   "metadata": {},
   "outputs": [],
   "source": []
  },
  {
   "cell_type": "code",
   "execution_count": 14,
   "metadata": {},
   "outputs": [],
   "source": [
    "class Recommender:\n",
    "    \"\"\"\n",
    "    A class to logically group all my recommendation functions.\n",
    "    \"\"\"\n",
    "    \n",
    "    def __init__(self, items:list):\n",
    "        self.items = items\n",
    "        # design decision to pass the list as an argument here (during instantiation)\n",
    "        \n",
    "\n",
    "    def random_recommend(self, n:int = 3) -> list: #type annotation\n",
    "            \"\"\"\n",
    "            Function that returns n elements randomly from a given list.\n",
    "\n",
    "            Arguments\n",
    "            ---------\n",
    "            items: list\n",
    "            n: int\n",
    "\n",
    "            Returns\n",
    "            ---------\n",
    "            result: list\n",
    "            \"\"\"\n",
    "            result = random.sample(self.items, k=n)\n",
    "            result = [i.lower() for i in result]\n",
    "            return result\n",
    "        \n",
    "    def nmf(self):\n",
    "        \"\"\"Coming in version 2.0!\"\"\"\n",
    "        pass\n",
    "    \n",
    "    def cosim(self):\n",
    "        \"\"\"Coming in version 2.0!\"\"\"\n",
    "        pass\n",
    "    "
   ]
  },
  {
   "cell_type": "code",
   "execution_count": 15,
   "metadata": {},
   "outputs": [],
   "source": [
    "rec = Recommender(ITEMS)"
   ]
  },
  {
   "cell_type": "code",
   "execution_count": 19,
   "metadata": {},
   "outputs": [
    {
     "data": {
      "text/plain": [
       "['b', 'a', 'c', 'd']"
      ]
     },
     "execution_count": 19,
     "metadata": {},
     "output_type": "execute_result"
    }
   ],
   "source": [
    "rec.random_recommend(4)"
   ]
  },
  {
   "cell_type": "code",
   "execution_count": 20,
   "metadata": {},
   "outputs": [],
   "source": [
    "rec = Recommender(['Shawshank redEMPTION', 'INception'])"
   ]
  },
  {
   "cell_type": "code",
   "execution_count": 21,
   "metadata": {},
   "outputs": [
    {
     "data": {
      "text/plain": [
       "['inception']"
      ]
     },
     "execution_count": 21,
     "metadata": {},
     "output_type": "execute_result"
    }
   ],
   "source": [
    "rec.random_recommend(1)"
   ]
  },
  {
   "cell_type": "code",
   "execution_count": null,
   "metadata": {},
   "outputs": [],
   "source": []
  },
  {
   "cell_type": "code",
   "execution_count": null,
   "metadata": {},
   "outputs": [],
   "source": []
  },
  {
   "cell_type": "code",
   "execution_count": null,
   "metadata": {},
   "outputs": [],
   "source": []
  },
  {
   "cell_type": "code",
   "execution_count": null,
   "metadata": {},
   "outputs": [],
   "source": []
  }
 ],
 "metadata": {
  "kernelspec": {
   "display_name": "Python 3",
   "language": "python",
   "name": "python3"
  },
  "language_info": {
   "codemirror_mode": {
    "name": "ipython",
    "version": 3
   },
   "file_extension": ".py",
   "mimetype": "text/x-python",
   "name": "python",
   "nbconvert_exporter": "python",
   "pygments_lexer": "ipython3",
   "version": "3.7.6"
  }
 },
 "nbformat": 4,
 "nbformat_minor": 4
}
