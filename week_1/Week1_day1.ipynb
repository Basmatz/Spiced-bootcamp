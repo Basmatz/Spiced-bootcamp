{
 "cells": [
  {
   "cell_type": "markdown",
   "metadata": {},
   "source": [
    "# FizzBuzz challenge"
   ]
  },
  {
   "cell_type": "markdown",
   "metadata": {},
   "source": [
    "### Carina, Max and Rafael"
   ]
  },
  {
   "cell_type": "code",
   "execution_count": 5,
   "metadata": {},
   "outputs": [
    {
     "name": "stdout",
     "output_type": "stream",
     "text": [
      "3 Fizz\n",
      "5 Buzz\n"
     ]
    }
   ],
   "source": [
    "def fizzbuzz(i):\n",
    "    for i in range(1,i+1):\n",
    "        if i%3 == 0 and i%5 == 0:\n",
    "            print(str(i) + ' FizzBuzz')\n",
    "        elif i%3 == 0:\n",
    "            print(str(i) +' Fizz')\n",
    "        elif i%5 == 0:\n",
    "            print(str(i) +' Buzz')\n",
    "fizzbuzz(5)"
   ]
  },
  {
   "cell_type": "code",
   "execution_count": 4,
   "metadata": {},
   "outputs": [],
   "source": [
    "def buzzfizz(i):\n",
    "    i = input()\n",
    "    if i%3 == 0 and i%5 == 0:\n",
    "        print(str(i) + ' FizzBuzz')\n",
    "    elif i%3 == 0:\n",
    "        print(str(i) +' Fizz')\n",
    "    elif i%5 == 0:\n",
    "        print(str(i) +' Buzz')"
   ]
  },
  {
   "cell_type": "markdown",
   "metadata": {},
   "source": [
    "You can do lot of things in Markdown, e.g: \n",
    "    \n",
    "* enumerations\n",
    "* [hyperlinks] (www.spiced-academy.com)\n",
    "* math equations\n",
    "        \n",
    "$\\sum \\pi *i$"
   ]
  },
  {
   "cell_type": "markdown",
   "metadata": {},
   "source": [
    "# Paul: bash command line\n",
    "### How to run python\n",
    "1: python interpreter / shell (directly in the command line)\n",
    "2: python -> “prettier version of the above”\n",
    "3: Prettiest version of the above: Jupyter notebook: .ipynb\n",
    "\n",
    "* the code that we write is step-by-step/ interactive.\n",
    "\n",
    "\n",
    "4: integrated development environment\n",
    "5: running a python script (.py). RUN: python <filename.py>\n",
    "    Different Text Editors:\n",
    "    * Atom\n",
    "    * TextPad\n",
    "    * Vim\n",
    "\n",
    "* these are better for running python code 'top-down' as an entire script.\n",
    "\n",
    "\n",
    "### What is the terminal?\n",
    "* text-based alternative of interacting with our operating system (as opposed to GUI).\n",
    "\n",
    "### why do we need this?\n",
    "* If you're used to it, you're much faster\n",
    "* automate stuff\n",
    "* do a whole lot of customization, that is impractical via GUI\n",
    "* Common fundamental/ everlasting skill in programming\n",
    "    all computers have a terminal, not all computers have a GUI.\n",
    "    Sometimes, e.g. cloud computing/ virtual computers do not have GUIs"
   ]
  },
  {
   "cell_type": "code",
   "execution_count": 55,
   "metadata": {},
   "outputs": [
    {
     "name": "stdout",
     "output_type": "stream",
     "text": [
      "hello -f, you live in /Users/maxkoeppel/Library/Jupyter/runtime/kernel-38b5237d-6487-43c2-922c-997bf1543f6a.json\n"
     ]
    }
   ],
   "source": [
    "import sys\n",
    "\n",
    "print(f'hello {sys.argv[1]}, you live in {sys.argv[2]}')"
   ]
  },
  {
   "cell_type": "code",
   "execution_count": 52,
   "metadata": {},
   "outputs": [
    {
     "name": "stdout",
     "output_type": "stream",
     "text": [
      "                       name  participants\n",
      "2              Tensor Thyme             9\n",
      "3           Linear Lavender             9\n",
      "4  Artificial Neural Nutmeg             9\n",
      "5     Polynomial Peppermint             8\n",
      "1            Bayesian Basil             6\n",
      "6           Sigmoid Saffron             5\n",
      "0     One-Hot Chili Peppers             2\n",
      "\n",
      "total participants: 48\n"
     ]
    }
   ],
   "source": [
    "\n",
    "import pandas as pd\n",
    "\n",
    "spices = ['One-Hot Chili Peppers',\n",
    "          'Bayesian Basil',\n",
    "          'Tensor Thyme',\n",
    "          'Linear Lavender',\n",
    "          'Artificial Neural Nutmeg',\n",
    "          'Polynomial Peppermint',\n",
    "          'Sigmoid Saffron'\n",
    "          ]\n",
    "participants = [2, 6, 9, 9, 9, 8, 5]\n",
    "\n",
    "df = pd.DataFrame({'name': spices,\n",
    "                   'participants': participants\n",
    "                   })\n",
    "print(df.sort_values(by=['participants'], ascending=False))\n",
    "print(\"\\ntotal participants:\", df.participants.sum())"
   ]
  },
  {
   "cell_type": "code",
   "execution_count": null,
   "metadata": {},
   "outputs": [],
   "source": []
  },
  {
   "cell_type": "code",
   "execution_count": null,
   "metadata": {},
   "outputs": [],
   "source": []
  }
 ],
 "metadata": {
  "kernelspec": {
   "display_name": "Python 3",
   "language": "python",
   "name": "python3"
  },
  "language_info": {
   "codemirror_mode": {
    "name": "ipython",
    "version": 3
   },
   "file_extension": ".py",
   "mimetype": "text/x-python",
   "name": "python",
   "nbconvert_exporter": "python",
   "pygments_lexer": "ipython3",
   "version": "3.7.6"
  }
 },
 "nbformat": 4,
 "nbformat_minor": 4
}
