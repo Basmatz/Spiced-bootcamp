{
 "cells": [
  {
   "cell_type": "markdown",
   "metadata": {},
   "source": [
    "## 200803 Project Week4 Lyrics"
   ]
  },
  {
   "cell_type": "code",
   "execution_count": 76,
   "metadata": {},
   "outputs": [],
   "source": [
    "import requests \n",
    "import re\n",
    "from bs4 import BeautifulSoup\n",
    "import os\n",
    "import pandas as pd\n",
    "from sklearn.feature_extraction.text import CountVectorizer, TfidfTransformer\n",
    "from sklearn.ensemble import RandomForestClassifier\n",
    "from sklearn.pipeline import make_pipeline\n",
    "from sklearn.model_selection import train_test_split\n",
    "from sklearn.metrics import accuracy_score, precision_score, \\\n",
    "                            recall_score, confusion_matrix, f1_score\n",
    "from sklearn.feature_extraction.text import TfidfVectorizer\n",
    "from imblearn.under_sampling import RandomUnderSampler, NearMiss\n",
    "import numpy as np\n",
    "from imblearn.over_sampling import RandomOverSampler, SMOTE\n",
    "from sklearn.naive_bayes import MultinomialNB #for count data \n",
    "import matplotlib.pyplot as plt"
   ]
  },
  {
   "cell_type": "markdown",
   "metadata": {},
   "source": [
    "### Step 1: Download the URLs of all songs of your favourite artist.\n",
    "* Go to the page listing all songs of your favourite artist on lyrics.com.\n",
    "* Copy the URL\n",
    "* Use the requests module to download that page\n",
    "* Save the page to a text file\n",
    "* Open the page in a text editor\n",
    "* Examine the HTML code and look for links to songs\n",
    "* Extract all links using Regular Expressions"
   ]
  },
  {
   "cell_type": "code",
   "execution_count": 2,
   "metadata": {},
   "outputs": [],
   "source": [
    "url = 'https://www.lyrics.com/artist/Prince/5182'\n",
    "request = requests.get(url)"
   ]
  },
  {
   "cell_type": "code",
   "execution_count": 3,
   "metadata": {},
   "outputs": [
    {
     "data": {
      "text/plain": [
       "200"
      ]
     },
     "execution_count": 3,
     "metadata": {},
     "output_type": "execute_result"
    }
   ],
   "source": [
    "request.status_code"
   ]
  },
  {
   "cell_type": "code",
   "execution_count": 4,
   "metadata": {},
   "outputs": [
    {
     "data": {
      "text/plain": [
       "200"
      ]
     },
     "execution_count": 4,
     "metadata": {},
     "output_type": "execute_result"
    }
   ],
   "source": [
    "url2 = 'https://www.lyrics.com/artist/Aretha-Franklin/4305'\n",
    "request2 = requests.get(url2)\n",
    "request2.status_code"
   ]
  },
  {
   "cell_type": "code",
   "execution_count": 5,
   "metadata": {},
   "outputs": [],
   "source": [
    "# Save the html in a text file and search in an editor\n",
    "with open('Prince.txt', 'w') as file: \n",
    "    file.write(request.text)"
   ]
  },
  {
   "cell_type": "code",
   "execution_count": 6,
   "metadata": {},
   "outputs": [],
   "source": [
    "# Save the html in a text file and search in an editor\n",
    "with open('Aretha.txt', 'w') as file: \n",
    "    file.write(request2.text)"
   ]
  },
  {
   "cell_type": "code",
   "execution_count": null,
   "metadata": {},
   "outputs": [],
   "source": [
    "# Check if the file was created\n",
    "#!ls"
   ]
  },
  {
   "cell_type": "code",
   "execution_count": null,
   "metadata": {},
   "outputs": [],
   "source": [
    "# lyrics links examples (Firefox -> cmd + alt + i -> inspector):\n",
    "# - <a href=\"/lyric/36601564/Prince/Dear+Mr+Man\">Dear Mr Man</a>\n",
    "# - <a href=\"/lyric/36168055/Prince/Make-Up\">Make-Up</a>\n",
    "# - <a href=\"/lyric/36168053/Prince/You%27re+My+Love\">You're My Love</a>"
   ]
  },
  {
   "cell_type": "markdown",
   "metadata": {},
   "source": [
    "### Step 2: Saving the URL links\n",
    "* Write a loop that goes through all song URLs that you collected previously\n",
    "* Construct a complete URL\n",
    "* Test the URL in a browser manually\n",
    "* Generate a unique file name (using the song name or a number)\n",
    "* Download each song\n",
    "* Save each song to a unique file"
   ]
  },
  {
   "cell_type": "code",
   "execution_count": 7,
   "metadata": {},
   "outputs": [],
   "source": [
    "# Collect all song https - Prince\n",
    "list_of_urls = []\n",
    "\n",
    "pattern = \"/lyric/\\d+/Prince/[^\\\"]+\"\n",
    "# creates a string:\n",
    "text = request.text    \n",
    "prince_songs = re.findall(pattern, text)\n",
    "\n",
    "for i in range(len(prince_songs)):\n",
    "    list_of_urls.append('http://www.lyrics.com' + prince_songs[i])"
   ]
  },
  {
   "cell_type": "code",
   "execution_count": 8,
   "metadata": {},
   "outputs": [
    {
     "data": {
      "text/plain": [
       "['http://www.lyrics.com/lyric/36628200/Prince/Manic+Monday',\n",
       " 'http://www.lyrics.com/lyric/36628172/Prince/Wouldn%27t+You+Love+to+Love+Me%3F',\n",
       " 'http://www.lyrics.com/lyric/36652338/Prince/Don%27t+Let+Him+Fool+Ya',\n",
       " 'http://www.lyrics.com/lyric/36599249/Prince/I+Feel+for+You+%5BAcoustic+Demo%5D',\n",
       " 'http://www.lyrics.com/lyric/36464781/Prince/Take+Me+With+U',\n",
       " 'http://www.lyrics.com/lyric/36464770/Prince/Superfunkycalifragisexy',\n",
       " 'http://www.lyrics.com/lyric/36465778/Prince/When+2+R+in+Love',\n",
       " 'http://www.lyrics.com/lyric/36601564/Prince/Dear+Mr+Man',\n",
       " 'http://www.lyrics.com/lyric/36168059/Prince/Sex+Shooter',\n",
       " 'http://www.lyrics.com/lyric/36168058/Prince/Jungle+Love']"
      ]
     },
     "execution_count": 8,
     "metadata": {},
     "output_type": "execute_result"
    }
   ],
   "source": [
    "list_of_urls[:10]"
   ]
  },
  {
   "cell_type": "code",
   "execution_count": 9,
   "metadata": {},
   "outputs": [
    {
     "data": {
      "text/plain": [
       "1539"
      ]
     },
     "execution_count": 9,
     "metadata": {},
     "output_type": "execute_result"
    }
   ],
   "source": [
    "len(list_of_urls)"
   ]
  },
  {
   "cell_type": "code",
   "execution_count": 10,
   "metadata": {},
   "outputs": [],
   "source": [
    "# Collect all song https - Aretha Franklin\n",
    "list_of_urls2 = []\n",
    "\n",
    "pattern2 = \"/lyric/\\d+/Aretha\\+Franklin/[^\\\"]+\"\n",
    "text2 = request2.text\n",
    "aretha_songs = re.findall(pattern2, text2)\n",
    "\n",
    "for i in range(len(aretha_songs)):\n",
    "    list_of_urls2.append('http://www.lyrics.com' + aretha_songs[i])"
   ]
  },
  {
   "cell_type": "code",
   "execution_count": 11,
   "metadata": {},
   "outputs": [
    {
     "data": {
      "text/plain": [
       "['http://www.lyrics.com/lyric/36071424/Aretha+Franklin/I+Say+a+Little+Prayer',\n",
       " 'http://www.lyrics.com/lyric/36071434/Aretha+Franklin/Think',\n",
       " 'http://www.lyrics.com/lyric/36050536/Aretha+Franklin/Don%27t+Play+That+Song',\n",
       " 'http://www.lyrics.com/lyric/36054477/Aretha+Franklin/Respect',\n",
       " 'http://www.lyrics.com/lyric/36054463/Aretha+Franklin/Think',\n",
       " 'http://www.lyrics.com/lyric/36111242/Aretha+Franklin/Respect',\n",
       " 'http://www.lyrics.com/lyric/36111164/Aretha+Franklin/I+Say+a+Little+Prayer',\n",
       " 'http://www.lyrics.com/lyric/36137173/Aretha+Franklin/I+Say+a+Little+Prayer',\n",
       " 'http://www.lyrics.com/lyric/36131030/Aretha+Franklin/I+Say+a+Little+Prayer',\n",
       " 'http://www.lyrics.com/lyric/36037609/Aretha+Franklin/I+Say+a+Little+Prayer']"
      ]
     },
     "execution_count": 11,
     "metadata": {},
     "output_type": "execute_result"
    }
   ],
   "source": [
    "list_of_urls2[:10]"
   ]
  },
  {
   "cell_type": "code",
   "execution_count": 12,
   "metadata": {},
   "outputs": [
    {
     "data": {
      "text/plain": [
       "5762"
      ]
     },
     "execution_count": 12,
     "metadata": {},
     "output_type": "execute_result"
    }
   ],
   "source": [
    "len(list_of_urls2)"
   ]
  },
  {
   "cell_type": "code",
   "execution_count": null,
   "metadata": {},
   "outputs": [],
   "source": [
    "# Create folders for artists\n",
    "artists = ['prince', 'aretha_franklin']\n",
    "\n",
    "# Create target Directory if don't exist\n",
    "for i in range(len(artists)):\n",
    "    os.makedirs(os.path.join('/Users/Carina/Documents/SpicedAcademy/Week4/', artists[i]))"
   ]
  },
  {
   "cell_type": "code",
   "execution_count": null,
   "metadata": {},
   "outputs": [],
   "source": [
    "# Save all lyrics as individual files - Prince\n",
    "\n",
    "for i in range(len(list_of_urls)):\n",
    "    \n",
    "    temp_url = list_of_urls[i]\n",
    "    temp_req = requests.get(temp_url)\n",
    "    \n",
    "    pattern3 = \"\\/lyric\\/.+\\/.+\\/(.+)$\"\n",
    "    with open(\"prince/Prince--\" + re.findall(pattern3, list_of_urls[i])[0] + '.txt',  'w') as file:\n",
    "        # convert it to a beautifulsoup object\n",
    "        soup_prince_lyrics = BeautifulSoup(temp_req.text)  # .text creates a string:\n",
    "        lyrics = soup_prince_lyrics.pre.get_text()   #pre is the relevant tag for lyrics\n",
    "        file.writelines(lyrics)\n",
    "file.close()"
   ]
  },
  {
   "cell_type": "code",
   "execution_count": null,
   "metadata": {},
   "outputs": [],
   "source": [
    "# Save all lyrics as individual files with BeautifulSoup - Aretha Franklin\n",
    "\n",
    "pattern3 = \"\\/lyric\\/.+\\/.+\\/(.+)$\"\n",
    "\n",
    "for i in range(len(list_of_urls2)):\n",
    "    \n",
    "    with open('aretha_franklin/ArethaFranklin--' + re.findall(pattern3, list_of_urls2[i])[0] + '.txt', 'w') as file:\n",
    "        \n",
    "        temp_url2 = requests.get(str(list_of_urls2[i]))\n",
    "        soup_aretha_lyrics = BeautifulSoup(temp_url2.text)\n",
    "        lyrics2 = soup_aretha_lyrics.pre.get_text()      #pre is the relevant tag for lyrics\n",
    "        file.writelines(lyrics2)\n",
    "file.close()"
   ]
  },
  {
   "cell_type": "code",
   "execution_count": 13,
   "metadata": {},
   "outputs": [
    {
     "data": {
      "text/plain": [
       "['Manic+Monday',\n",
       " 'Wouldn%27t+You+Love+to+Love+Me%3F',\n",
       " 'Don%27t+Let+Him+Fool+Ya',\n",
       " 'I+Feel+for+You+%5BAcoustic+Demo%5D',\n",
       " 'Take+Me+With+U',\n",
       " 'Superfunkycalifragisexy',\n",
       " 'When+2+R+in+Love',\n",
       " 'Dear+Mr+Man',\n",
       " 'Sex+Shooter',\n",
       " 'Jungle+Love']"
      ]
     },
     "execution_count": 13,
     "metadata": {},
     "output_type": "execute_result"
    }
   ],
   "source": [
    "# List of song titles - Prince:\n",
    "\n",
    "pattern4 = \"/lyric/.+/.+/([^\\\"]+)$\"   # works as well: \"/lyric/.+/.+/(.+)$\"\n",
    "\n",
    "song_names_prince = []\n",
    "for i in range(len(list_of_urls)):\n",
    "    song_names_prince.append(re.findall(pattern4, list_of_urls[i]))\n",
    "\n",
    "song_names_prince_flat = []\n",
    "for sublist in song_names_prince:\n",
    "    for item in sublist:\n",
    "        song_names_prince_flat.append(item)\n",
    "song_names_prince_flat[:10]"
   ]
  },
  {
   "cell_type": "code",
   "execution_count": 14,
   "metadata": {},
   "outputs": [
    {
     "data": {
      "text/plain": [
       "1539"
      ]
     },
     "execution_count": 14,
     "metadata": {},
     "output_type": "execute_result"
    }
   ],
   "source": [
    "len(song_names_prince_flat)"
   ]
  },
  {
   "cell_type": "code",
   "execution_count": 15,
   "metadata": {},
   "outputs": [
    {
     "data": {
      "text/plain": [
       "['I+Say+a+Little+Prayer',\n",
       " 'Think',\n",
       " 'Don%27t+Play+That+Song',\n",
       " 'Respect',\n",
       " 'Think',\n",
       " 'Respect',\n",
       " 'I+Say+a+Little+Prayer',\n",
       " 'I+Say+a+Little+Prayer',\n",
       " 'I+Say+a+Little+Prayer',\n",
       " 'I+Say+a+Little+Prayer']"
      ]
     },
     "execution_count": 15,
     "metadata": {},
     "output_type": "execute_result"
    }
   ],
   "source": [
    "# List of song titles - Aretha Franklin:\n",
    "\n",
    "pattern4 = \"/lyric/.+/.+/([^\\\"]+)$\"\n",
    "song_names_aretha = []\n",
    "for i in range(len(list_of_urls2)):\n",
    "    song_names_aretha.append(re.findall(pattern4, list_of_urls2[i]))\n",
    "song_names_aretha[:10]\n",
    "\n",
    "song_names_aretha_flat = []\n",
    "for sublist in song_names_aretha:\n",
    "    for item in sublist:\n",
    "        song_names_aretha_flat.append(item)\n",
    "song_names_aretha_flat[:10]"
   ]
  },
  {
   "cell_type": "code",
   "execution_count": 16,
   "metadata": {},
   "outputs": [
    {
     "data": {
      "text/plain": [
       "5762"
      ]
     },
     "execution_count": 16,
     "metadata": {},
     "output_type": "execute_result"
    }
   ],
   "source": [
    "len(song_names_aretha_flat)"
   ]
  },
  {
   "cell_type": "markdown",
   "metadata": {},
   "source": [
    "### Step 3: Create corpus"
   ]
  },
  {
   "cell_type": "code",
   "execution_count": 17,
   "metadata": {},
   "outputs": [],
   "source": [
    "path = '/Users/Carina/Documents/SpicedAcademy/Week4/prince/'"
   ]
  },
  {
   "cell_type": "code",
   "execution_count": 18,
   "metadata": {},
   "outputs": [],
   "source": [
    "path2 = '/Users/Carina/Documents/SpicedAcademy/Week4/aretha_franklin/'"
   ]
  },
  {
   "cell_type": "code",
   "execution_count": 19,
   "metadata": {},
   "outputs": [],
   "source": [
    "# Corpus: List of strings (['', '', '']) will all words\n",
    "\n",
    "corpus = []\n",
    "path_temp = []\n",
    "corpus2 = []\n",
    "path_temp2 = []"
   ]
  },
  {
   "cell_type": "code",
   "execution_count": 20,
   "metadata": {},
   "outputs": [],
   "source": [
    "for i in range(len(song_names_prince)):\n",
    "    \n",
    "    path_temp = path + f'Prince--' + str(song_names_prince_flat[i]) + f'.txt'\n",
    "    doc = open(path_temp).read().lower().split()      #list of words (as strings) for each song\n",
    "    doc=' '.join(doc)                         # turns list of strings into one string -> one string will all words\n",
    "    corpus.append(doc)"
   ]
  },
  {
   "cell_type": "code",
   "execution_count": 21,
   "metadata": {},
   "outputs": [
    {
     "data": {
      "text/plain": [
       "1539"
      ]
     },
     "execution_count": 21,
     "metadata": {},
     "output_type": "execute_result"
    }
   ],
   "source": [
    "label_prince = ['Prince'] * len(corpus)\n",
    "len(label_prince)"
   ]
  },
  {
   "cell_type": "code",
   "execution_count": 22,
   "metadata": {
    "scrolled": false
   },
   "outputs": [],
   "source": [
    "for i in range(len(song_names_aretha)):\n",
    "    \n",
    "    path_temp2 = path2 + f'ArethaFranklin--' + str(song_names_aretha_flat[i]) + f'.txt'\n",
    "    doc2 = open(path_temp2).read().lower().split()      #list of words (as strings) for each song\n",
    "    doc2=' '.join(doc2)                         # turns list of strings into one string -> one string will all words\n",
    "    corpus2.append(doc2)"
   ]
  },
  {
   "cell_type": "code",
   "execution_count": 23,
   "metadata": {},
   "outputs": [
    {
     "data": {
      "text/plain": [
       "5762"
      ]
     },
     "execution_count": 23,
     "metadata": {},
     "output_type": "execute_result"
    }
   ],
   "source": [
    "label_aretha = ['Aretha Franklin'] * len(corpus2)\n",
    "len(label_aretha)"
   ]
  },
  {
   "cell_type": "code",
   "execution_count": 24,
   "metadata": {},
   "outputs": [
    {
     "data": {
      "text/html": [
       "<div>\n",
       "<style scoped>\n",
       "    .dataframe tbody tr th:only-of-type {\n",
       "        vertical-align: middle;\n",
       "    }\n",
       "\n",
       "    .dataframe tbody tr th {\n",
       "        vertical-align: top;\n",
       "    }\n",
       "\n",
       "    .dataframe thead th {\n",
       "        text-align: right;\n",
       "    }\n",
       "</style>\n",
       "<table border=\"1\" class=\"dataframe\">\n",
       "  <thead>\n",
       "    <tr style=\"text-align: right;\">\n",
       "      <th></th>\n",
       "      <th>Artist</th>\n",
       "      <th>Lyrics</th>\n",
       "    </tr>\n",
       "  </thead>\n",
       "  <tbody>\n",
       "    <tr>\n",
       "      <th>0</th>\n",
       "      <td>Prince</td>\n",
       "      <td>six o'clock already i was just in the middle o...</td>\n",
       "    </tr>\n",
       "    <tr>\n",
       "      <th>1</th>\n",
       "      <td>Prince</td>\n",
       "      <td>look into my big brown eyes tell me what's on ...</td>\n",
       "    </tr>\n",
       "    <tr>\n",
       "      <th>2</th>\n",
       "      <td>Prince</td>\n",
       "      <td>1 2 3 don't let him fool ya i know he got a bi...</td>\n",
       "    </tr>\n",
       "    <tr>\n",
       "      <th>3</th>\n",
       "      <td>Prince</td>\n",
       "      <td>baby, baby, when you look at me i get a warm f...</td>\n",
       "    </tr>\n",
       "    <tr>\n",
       "      <th>4</th>\n",
       "      <td>Prince</td>\n",
       "      <td>i can't disguise the pounding of my heart it b...</td>\n",
       "    </tr>\n",
       "  </tbody>\n",
       "</table>\n",
       "</div>"
      ],
      "text/plain": [
       "   Artist                                             Lyrics\n",
       "0  Prince  six o'clock already i was just in the middle o...\n",
       "1  Prince  look into my big brown eyes tell me what's on ...\n",
       "2  Prince  1 2 3 don't let him fool ya i know he got a bi...\n",
       "3  Prince  baby, baby, when you look at me i get a warm f...\n",
       "4  Prince  i can't disguise the pounding of my heart it b..."
      ]
     },
     "execution_count": 24,
     "metadata": {},
     "output_type": "execute_result"
    }
   ],
   "source": [
    "df_prince = pd.DataFrame(list(zip(label_prince, corpus)), columns =['Artist', 'Lyrics'])\n",
    "df_prince.head(5)"
   ]
  },
  {
   "cell_type": "code",
   "execution_count": 25,
   "metadata": {},
   "outputs": [
    {
     "data": {
      "text/html": [
       "<div>\n",
       "<style scoped>\n",
       "    .dataframe tbody tr th:only-of-type {\n",
       "        vertical-align: middle;\n",
       "    }\n",
       "\n",
       "    .dataframe tbody tr th {\n",
       "        vertical-align: top;\n",
       "    }\n",
       "\n",
       "    .dataframe thead th {\n",
       "        text-align: right;\n",
       "    }\n",
       "</style>\n",
       "<table border=\"1\" class=\"dataframe\">\n",
       "  <thead>\n",
       "    <tr style=\"text-align: right;\">\n",
       "      <th></th>\n",
       "      <th>Artist</th>\n",
       "      <th>Lyrics</th>\n",
       "    </tr>\n",
       "  </thead>\n",
       "  <tbody>\n",
       "    <tr>\n",
       "      <th>0</th>\n",
       "      <td>Aretha Franklin</td>\n",
       "      <td>the moment i wake up before i put on my makeup...</td>\n",
       "    </tr>\n",
       "    <tr>\n",
       "      <th>1</th>\n",
       "      <td>Aretha Franklin</td>\n",
       "      <td>you better think (think) think about what you'...</td>\n",
       "    </tr>\n",
       "    <tr>\n",
       "      <th>2</th>\n",
       "      <td>Aretha Franklin</td>\n",
       "      <td>don't play that song for me 'cause it brings b...</td>\n",
       "    </tr>\n",
       "    <tr>\n",
       "      <th>3</th>\n",
       "      <td>Aretha Franklin</td>\n",
       "      <td>what you want baby, i got it what you need do ...</td>\n",
       "    </tr>\n",
       "    <tr>\n",
       "      <th>4</th>\n",
       "      <td>Aretha Franklin</td>\n",
       "      <td>you better think (think) think about what you'...</td>\n",
       "    </tr>\n",
       "  </tbody>\n",
       "</table>\n",
       "</div>"
      ],
      "text/plain": [
       "            Artist                                             Lyrics\n",
       "0  Aretha Franklin  the moment i wake up before i put on my makeup...\n",
       "1  Aretha Franklin  you better think (think) think about what you'...\n",
       "2  Aretha Franklin  don't play that song for me 'cause it brings b...\n",
       "3  Aretha Franklin  what you want baby, i got it what you need do ...\n",
       "4  Aretha Franklin  you better think (think) think about what you'..."
      ]
     },
     "execution_count": 25,
     "metadata": {},
     "output_type": "execute_result"
    }
   ],
   "source": [
    "df_aretha = pd.DataFrame(list(zip(label_aretha, corpus2)), columns =['Artist', 'Lyrics'])\n",
    "df_aretha.head(5)"
   ]
  },
  {
   "cell_type": "code",
   "execution_count": 29,
   "metadata": {},
   "outputs": [],
   "source": [
    "df = pd.concat([df_prince, df_aretha], axis=0, ignore_index=True)"
   ]
  },
  {
   "cell_type": "code",
   "execution_count": null,
   "metadata": {},
   "outputs": [],
   "source": [
    "#corpus_complete = corpus.append(corpus2)\n",
    "#label_complete = label_prince.append(label_aretha)"
   ]
  },
  {
   "cell_type": "code",
   "execution_count": 34,
   "metadata": {},
   "outputs": [],
   "source": [
    "# remove duplicates in column 'Lyrics':\n",
    "\n",
    "df = df.drop_duplicates(subset='Lyrics')\n",
    "#resets index 1-n and drops the previos indicies\n",
    "df = df.reset_index(drop=True)    "
   ]
  },
  {
   "cell_type": "code",
   "execution_count": 32,
   "metadata": {},
   "outputs": [
    {
     "data": {
      "text/plain": [
       "Artist\n",
       "Aretha Franklin    435\n",
       "Prince             554\n",
       "dtype: int64"
      ]
     },
     "execution_count": 32,
     "metadata": {},
     "output_type": "execute_result"
    }
   ],
   "source": [
    "df.groupby('Artist').size()"
   ]
  },
  {
   "cell_type": "code",
   "execution_count": 35,
   "metadata": {},
   "outputs": [
    {
     "data": {
      "text/html": [
       "<div>\n",
       "<style scoped>\n",
       "    .dataframe tbody tr th:only-of-type {\n",
       "        vertical-align: middle;\n",
       "    }\n",
       "\n",
       "    .dataframe tbody tr th {\n",
       "        vertical-align: top;\n",
       "    }\n",
       "\n",
       "    .dataframe thead th {\n",
       "        text-align: right;\n",
       "    }\n",
       "</style>\n",
       "<table border=\"1\" class=\"dataframe\">\n",
       "  <thead>\n",
       "    <tr style=\"text-align: right;\">\n",
       "      <th></th>\n",
       "      <th>Artist</th>\n",
       "      <th>Lyrics</th>\n",
       "    </tr>\n",
       "  </thead>\n",
       "  <tbody>\n",
       "    <tr>\n",
       "      <th>0</th>\n",
       "      <td>Prince</td>\n",
       "      <td>six o'clock already i was just in the middle o...</td>\n",
       "    </tr>\n",
       "    <tr>\n",
       "      <th>1</th>\n",
       "      <td>Prince</td>\n",
       "      <td>look into my big brown eyes tell me what's on ...</td>\n",
       "    </tr>\n",
       "    <tr>\n",
       "      <th>2</th>\n",
       "      <td>Prince</td>\n",
       "      <td>1 2 3 don't let him fool ya i know he got a bi...</td>\n",
       "    </tr>\n",
       "    <tr>\n",
       "      <th>3</th>\n",
       "      <td>Prince</td>\n",
       "      <td>baby, baby, when you look at me i get a warm f...</td>\n",
       "    </tr>\n",
       "    <tr>\n",
       "      <th>4</th>\n",
       "      <td>Prince</td>\n",
       "      <td>i can't disguise the pounding of my heart it b...</td>\n",
       "    </tr>\n",
       "    <tr>\n",
       "      <th>...</th>\n",
       "      <td>...</td>\n",
       "      <td>...</td>\n",
       "    </tr>\n",
       "    <tr>\n",
       "      <th>984</th>\n",
       "      <td>Aretha Franklin</td>\n",
       "      <td>oh it's the sound of a worried, a worried man ...</td>\n",
       "    </tr>\n",
       "    <tr>\n",
       "      <th>985</th>\n",
       "      <td>Aretha Franklin</td>\n",
       "      <td>(ooh) what you want (ooh) baby, i got (ooh) wh...</td>\n",
       "    </tr>\n",
       "    <tr>\n",
       "      <th>986</th>\n",
       "      <td>Aretha Franklin</td>\n",
       "      <td>tell me if you love me right now tell me if yo...</td>\n",
       "    </tr>\n",
       "    <tr>\n",
       "      <th>987</th>\n",
       "      <td>Aretha Franklin</td>\n",
       "      <td>give yourself to jesus) give yourself to jesus...</td>\n",
       "    </tr>\n",
       "    <tr>\n",
       "      <th>988</th>\n",
       "      <td>Aretha Franklin</td>\n",
       "      <td>he came from somewhere back in her long ago th...</td>\n",
       "    </tr>\n",
       "  </tbody>\n",
       "</table>\n",
       "<p>989 rows × 2 columns</p>\n",
       "</div>"
      ],
      "text/plain": [
       "              Artist                                             Lyrics\n",
       "0             Prince  six o'clock already i was just in the middle o...\n",
       "1             Prince  look into my big brown eyes tell me what's on ...\n",
       "2             Prince  1 2 3 don't let him fool ya i know he got a bi...\n",
       "3             Prince  baby, baby, when you look at me i get a warm f...\n",
       "4             Prince  i can't disguise the pounding of my heart it b...\n",
       "..               ...                                                ...\n",
       "984  Aretha Franklin  oh it's the sound of a worried, a worried man ...\n",
       "985  Aretha Franklin  (ooh) what you want (ooh) baby, i got (ooh) wh...\n",
       "986  Aretha Franklin  tell me if you love me right now tell me if yo...\n",
       "987  Aretha Franklin  give yourself to jesus) give yourself to jesus...\n",
       "988  Aretha Franklin  he came from somewhere back in her long ago th...\n",
       "\n",
       "[989 rows x 2 columns]"
      ]
     },
     "execution_count": 35,
     "metadata": {},
     "output_type": "execute_result"
    }
   ],
   "source": [
    "df"
   ]
  },
  {
   "cell_type": "markdown",
   "metadata": {},
   "source": [
    "### Step 4: Train-test split"
   ]
  },
  {
   "cell_type": "code",
   "execution_count": 36,
   "metadata": {},
   "outputs": [],
   "source": [
    "X = df[['Lyrics']]"
   ]
  },
  {
   "cell_type": "code",
   "execution_count": 37,
   "metadata": {},
   "outputs": [],
   "source": [
    "y = df['Artist']"
   ]
  },
  {
   "cell_type": "code",
   "execution_count": 38,
   "metadata": {},
   "outputs": [
    {
     "data": {
      "text/plain": [
       "((741, 1), (248, 1), (741,), (248,))"
      ]
     },
     "execution_count": 38,
     "metadata": {},
     "output_type": "execute_result"
    }
   ],
   "source": [
    "X_train, X_test, y_train, y_test = train_test_split(X, y, random_state=10)\n",
    "X_train.shape, X_test.shape, y_train.shape, y_test.shape"
   ]
  },
  {
   "cell_type": "markdown",
   "metadata": {},
   "source": [
    "### Step 5: Feature Engineering on X_train and X_test\n",
    "\n",
    "#### Step 5.1 Bang of Words for Tokenization\n",
    "* transform your corpus into \n",
    "    * Count Vectors and \n",
    "    * Tf-idf Vectors (Uniqueness-scaled Bag of Words)\n",
    "\n",
    "#### Step 5.2 Lammetizing to combine word of the same root\n",
    "\n",
    "#### Step 5.3 Language Model Sequence Generation"
   ]
  },
  {
   "cell_type": "markdown",
   "metadata": {},
   "source": [
    "### Step 5.1 Bang of Words for Tokenization"
   ]
  },
  {
   "cell_type": "code",
   "execution_count": 39,
   "metadata": {
    "collapsed": true
   },
   "outputs": [
    {
     "name": "stderr",
     "output_type": "stream",
     "text": [
      "/opt/anaconda3/lib/python3.7/site-packages/ipykernel_launcher.py:1: SettingWithCopyWarning: \n",
      "A value is trying to be set on a copy of a slice from a DataFrame.\n",
      "Try using .loc[row_indexer,col_indexer] = value instead\n",
      "\n",
      "See the caveats in the documentation: https://pandas.pydata.org/pandas-docs/stable/user_guide/indexing.html#returning-a-view-versus-a-copy\n",
      "  \"\"\"Entry point for launching an IPython kernel.\n",
      "/opt/anaconda3/lib/python3.7/site-packages/ipykernel_launcher.py:2: SettingWithCopyWarning: \n",
      "A value is trying to be set on a copy of a slice from a DataFrame.\n",
      "Try using .loc[row_indexer,col_indexer] = value instead\n",
      "\n",
      "See the caveats in the documentation: https://pandas.pydata.org/pandas-docs/stable/user_guide/indexing.html#returning-a-view-versus-a-copy\n",
      "  \n"
     ]
    }
   ],
   "source": [
    "X_train['Lyrics'] = X_train['Lyrics'].str.replace('\\d+', '')\n",
    "X_train['Lyrics'] = X_train['Lyrics'].str.replace(',', '')"
   ]
  },
  {
   "cell_type": "code",
   "execution_count": 40,
   "metadata": {},
   "outputs": [
    {
     "data": {
      "text/plain": [
       "list"
      ]
     },
     "execution_count": 40,
     "metadata": {},
     "output_type": "execute_result"
    }
   ],
   "source": [
    "# corpus needs to be in list form or as a DataFrame\n",
    "\n",
    "#corpus = X_train  -> does not work, needs to be real list\n",
    "#type(corpus)\n",
    "corpus_list = X_train['Lyrics'].tolist()\n",
    "type(corpus_list)"
   ]
  },
  {
   "cell_type": "code",
   "execution_count": 41,
   "metadata": {},
   "outputs": [],
   "source": [
    "# Instantiate the count vector\n",
    "\n",
    "cv = CountVectorizer(stop_words='english')\n",
    "vec_train = cv.fit_transform(corpus_list)\n",
    "#cv.get_feature_names()"
   ]
  },
  {
   "cell_type": "code",
   "execution_count": 42,
   "metadata": {},
   "outputs": [
    {
     "data": {
      "text/html": [
       "<div>\n",
       "<style scoped>\n",
       "    .dataframe tbody tr th:only-of-type {\n",
       "        vertical-align: middle;\n",
       "    }\n",
       "\n",
       "    .dataframe tbody tr th {\n",
       "        vertical-align: top;\n",
       "    }\n",
       "\n",
       "    .dataframe thead th {\n",
       "        text-align: right;\n",
       "    }\n",
       "</style>\n",
       "<table border=\"1\" class=\"dataframe\">\n",
       "  <thead>\n",
       "    <tr style=\"text-align: right;\">\n",
       "      <th></th>\n",
       "      <th>aah</th>\n",
       "      <th>aback</th>\n",
       "      <th>abc</th>\n",
       "      <th>abdomen</th>\n",
       "      <th>abide</th>\n",
       "      <th>able</th>\n",
       "      <th>aboard</th>\n",
       "      <th>abort</th>\n",
       "      <th>abound</th>\n",
       "      <th>abraham</th>\n",
       "      <th>...</th>\n",
       "      <th>zannalee</th>\n",
       "      <th>zebedee</th>\n",
       "      <th>zero</th>\n",
       "      <th>zip</th>\n",
       "      <th>zoomin</th>\n",
       "      <th>ça</th>\n",
       "      <th>étiez</th>\n",
       "      <th>étonner</th>\n",
       "      <th>êtes</th>\n",
       "      <th>ṗolice</th>\n",
       "    </tr>\n",
       "  </thead>\n",
       "  <tbody>\n",
       "    <tr>\n",
       "      <th>0</th>\n",
       "      <td>0</td>\n",
       "      <td>0</td>\n",
       "      <td>0</td>\n",
       "      <td>0</td>\n",
       "      <td>0</td>\n",
       "      <td>0</td>\n",
       "      <td>0</td>\n",
       "      <td>0</td>\n",
       "      <td>0</td>\n",
       "      <td>0</td>\n",
       "      <td>...</td>\n",
       "      <td>0</td>\n",
       "      <td>0</td>\n",
       "      <td>0</td>\n",
       "      <td>0</td>\n",
       "      <td>0</td>\n",
       "      <td>0</td>\n",
       "      <td>0</td>\n",
       "      <td>0</td>\n",
       "      <td>0</td>\n",
       "      <td>0</td>\n",
       "    </tr>\n",
       "    <tr>\n",
       "      <th>1</th>\n",
       "      <td>4</td>\n",
       "      <td>0</td>\n",
       "      <td>0</td>\n",
       "      <td>0</td>\n",
       "      <td>0</td>\n",
       "      <td>0</td>\n",
       "      <td>0</td>\n",
       "      <td>0</td>\n",
       "      <td>0</td>\n",
       "      <td>0</td>\n",
       "      <td>...</td>\n",
       "      <td>0</td>\n",
       "      <td>0</td>\n",
       "      <td>0</td>\n",
       "      <td>0</td>\n",
       "      <td>0</td>\n",
       "      <td>0</td>\n",
       "      <td>0</td>\n",
       "      <td>0</td>\n",
       "      <td>0</td>\n",
       "      <td>0</td>\n",
       "    </tr>\n",
       "    <tr>\n",
       "      <th>2</th>\n",
       "      <td>0</td>\n",
       "      <td>0</td>\n",
       "      <td>0</td>\n",
       "      <td>0</td>\n",
       "      <td>0</td>\n",
       "      <td>0</td>\n",
       "      <td>0</td>\n",
       "      <td>0</td>\n",
       "      <td>0</td>\n",
       "      <td>0</td>\n",
       "      <td>...</td>\n",
       "      <td>0</td>\n",
       "      <td>0</td>\n",
       "      <td>0</td>\n",
       "      <td>0</td>\n",
       "      <td>0</td>\n",
       "      <td>0</td>\n",
       "      <td>0</td>\n",
       "      <td>0</td>\n",
       "      <td>0</td>\n",
       "      <td>0</td>\n",
       "    </tr>\n",
       "    <tr>\n",
       "      <th>3</th>\n",
       "      <td>0</td>\n",
       "      <td>0</td>\n",
       "      <td>0</td>\n",
       "      <td>0</td>\n",
       "      <td>0</td>\n",
       "      <td>0</td>\n",
       "      <td>0</td>\n",
       "      <td>0</td>\n",
       "      <td>0</td>\n",
       "      <td>0</td>\n",
       "      <td>...</td>\n",
       "      <td>0</td>\n",
       "      <td>0</td>\n",
       "      <td>0</td>\n",
       "      <td>0</td>\n",
       "      <td>0</td>\n",
       "      <td>0</td>\n",
       "      <td>0</td>\n",
       "      <td>0</td>\n",
       "      <td>0</td>\n",
       "      <td>0</td>\n",
       "    </tr>\n",
       "    <tr>\n",
       "      <th>4</th>\n",
       "      <td>0</td>\n",
       "      <td>0</td>\n",
       "      <td>0</td>\n",
       "      <td>0</td>\n",
       "      <td>0</td>\n",
       "      <td>0</td>\n",
       "      <td>0</td>\n",
       "      <td>0</td>\n",
       "      <td>0</td>\n",
       "      <td>0</td>\n",
       "      <td>...</td>\n",
       "      <td>0</td>\n",
       "      <td>0</td>\n",
       "      <td>0</td>\n",
       "      <td>0</td>\n",
       "      <td>0</td>\n",
       "      <td>0</td>\n",
       "      <td>0</td>\n",
       "      <td>0</td>\n",
       "      <td>0</td>\n",
       "      <td>0</td>\n",
       "    </tr>\n",
       "    <tr>\n",
       "      <th>...</th>\n",
       "      <td>...</td>\n",
       "      <td>...</td>\n",
       "      <td>...</td>\n",
       "      <td>...</td>\n",
       "      <td>...</td>\n",
       "      <td>...</td>\n",
       "      <td>...</td>\n",
       "      <td>...</td>\n",
       "      <td>...</td>\n",
       "      <td>...</td>\n",
       "      <td>...</td>\n",
       "      <td>...</td>\n",
       "      <td>...</td>\n",
       "      <td>...</td>\n",
       "      <td>...</td>\n",
       "      <td>...</td>\n",
       "      <td>...</td>\n",
       "      <td>...</td>\n",
       "      <td>...</td>\n",
       "      <td>...</td>\n",
       "      <td>...</td>\n",
       "    </tr>\n",
       "    <tr>\n",
       "      <th>736</th>\n",
       "      <td>0</td>\n",
       "      <td>0</td>\n",
       "      <td>0</td>\n",
       "      <td>0</td>\n",
       "      <td>0</td>\n",
       "      <td>0</td>\n",
       "      <td>0</td>\n",
       "      <td>0</td>\n",
       "      <td>0</td>\n",
       "      <td>0</td>\n",
       "      <td>...</td>\n",
       "      <td>0</td>\n",
       "      <td>0</td>\n",
       "      <td>0</td>\n",
       "      <td>0</td>\n",
       "      <td>0</td>\n",
       "      <td>0</td>\n",
       "      <td>0</td>\n",
       "      <td>0</td>\n",
       "      <td>0</td>\n",
       "      <td>0</td>\n",
       "    </tr>\n",
       "    <tr>\n",
       "      <th>737</th>\n",
       "      <td>0</td>\n",
       "      <td>0</td>\n",
       "      <td>0</td>\n",
       "      <td>0</td>\n",
       "      <td>0</td>\n",
       "      <td>0</td>\n",
       "      <td>0</td>\n",
       "      <td>0</td>\n",
       "      <td>0</td>\n",
       "      <td>0</td>\n",
       "      <td>...</td>\n",
       "      <td>0</td>\n",
       "      <td>0</td>\n",
       "      <td>0</td>\n",
       "      <td>0</td>\n",
       "      <td>0</td>\n",
       "      <td>0</td>\n",
       "      <td>0</td>\n",
       "      <td>0</td>\n",
       "      <td>0</td>\n",
       "      <td>0</td>\n",
       "    </tr>\n",
       "    <tr>\n",
       "      <th>738</th>\n",
       "      <td>0</td>\n",
       "      <td>0</td>\n",
       "      <td>0</td>\n",
       "      <td>0</td>\n",
       "      <td>0</td>\n",
       "      <td>0</td>\n",
       "      <td>0</td>\n",
       "      <td>0</td>\n",
       "      <td>0</td>\n",
       "      <td>0</td>\n",
       "      <td>...</td>\n",
       "      <td>0</td>\n",
       "      <td>0</td>\n",
       "      <td>0</td>\n",
       "      <td>0</td>\n",
       "      <td>0</td>\n",
       "      <td>0</td>\n",
       "      <td>0</td>\n",
       "      <td>0</td>\n",
       "      <td>0</td>\n",
       "      <td>0</td>\n",
       "    </tr>\n",
       "    <tr>\n",
       "      <th>739</th>\n",
       "      <td>0</td>\n",
       "      <td>0</td>\n",
       "      <td>0</td>\n",
       "      <td>0</td>\n",
       "      <td>0</td>\n",
       "      <td>0</td>\n",
       "      <td>0</td>\n",
       "      <td>0</td>\n",
       "      <td>0</td>\n",
       "      <td>0</td>\n",
       "      <td>...</td>\n",
       "      <td>0</td>\n",
       "      <td>0</td>\n",
       "      <td>0</td>\n",
       "      <td>0</td>\n",
       "      <td>0</td>\n",
       "      <td>0</td>\n",
       "      <td>0</td>\n",
       "      <td>0</td>\n",
       "      <td>0</td>\n",
       "      <td>0</td>\n",
       "    </tr>\n",
       "    <tr>\n",
       "      <th>740</th>\n",
       "      <td>0</td>\n",
       "      <td>0</td>\n",
       "      <td>0</td>\n",
       "      <td>0</td>\n",
       "      <td>0</td>\n",
       "      <td>0</td>\n",
       "      <td>0</td>\n",
       "      <td>0</td>\n",
       "      <td>0</td>\n",
       "      <td>0</td>\n",
       "      <td>...</td>\n",
       "      <td>0</td>\n",
       "      <td>0</td>\n",
       "      <td>0</td>\n",
       "      <td>0</td>\n",
       "      <td>0</td>\n",
       "      <td>0</td>\n",
       "      <td>0</td>\n",
       "      <td>0</td>\n",
       "      <td>0</td>\n",
       "      <td>0</td>\n",
       "    </tr>\n",
       "  </tbody>\n",
       "</table>\n",
       "<p>741 rows × 6661 columns</p>\n",
       "</div>"
      ],
      "text/plain": [
       "     aah  aback  abc  abdomen  abide  able  aboard  abort  abound  abraham  \\\n",
       "0      0      0    0        0      0     0       0      0       0        0   \n",
       "1      4      0    0        0      0     0       0      0       0        0   \n",
       "2      0      0    0        0      0     0       0      0       0        0   \n",
       "3      0      0    0        0      0     0       0      0       0        0   \n",
       "4      0      0    0        0      0     0       0      0       0        0   \n",
       "..   ...    ...  ...      ...    ...   ...     ...    ...     ...      ...   \n",
       "736    0      0    0        0      0     0       0      0       0        0   \n",
       "737    0      0    0        0      0     0       0      0       0        0   \n",
       "738    0      0    0        0      0     0       0      0       0        0   \n",
       "739    0      0    0        0      0     0       0      0       0        0   \n",
       "740    0      0    0        0      0     0       0      0       0        0   \n",
       "\n",
       "     ...  zannalee  zebedee  zero  zip  zoomin  ça  étiez  étonner  êtes  \\\n",
       "0    ...         0        0     0    0       0   0      0        0     0   \n",
       "1    ...         0        0     0    0       0   0      0        0     0   \n",
       "2    ...         0        0     0    0       0   0      0        0     0   \n",
       "3    ...         0        0     0    0       0   0      0        0     0   \n",
       "4    ...         0        0     0    0       0   0      0        0     0   \n",
       "..   ...       ...      ...   ...  ...     ...  ..    ...      ...   ...   \n",
       "736  ...         0        0     0    0       0   0      0        0     0   \n",
       "737  ...         0        0     0    0       0   0      0        0     0   \n",
       "738  ...         0        0     0    0       0   0      0        0     0   \n",
       "739  ...         0        0     0    0       0   0      0        0     0   \n",
       "740  ...         0        0     0    0       0   0      0        0     0   \n",
       "\n",
       "     ṗolice  \n",
       "0         0  \n",
       "1         0  \n",
       "2         0  \n",
       "3         0  \n",
       "4         0  \n",
       "..      ...  \n",
       "736       0  \n",
       "737       0  \n",
       "738       0  \n",
       "739       0  \n",
       "740       0  \n",
       "\n",
       "[741 rows x 6661 columns]"
      ]
     },
     "execution_count": 42,
     "metadata": {},
     "output_type": "execute_result"
    }
   ],
   "source": [
    "# count vector results\n",
    "look1 = pd.DataFrame(vec_train.todense(), columns=cv.get_feature_names())  #index needed?\n",
    "look1"
   ]
  },
  {
   "cell_type": "code",
   "execution_count": 43,
   "metadata": {},
   "outputs": [],
   "source": [
    "# Instantiate the Tf-idf vector\n",
    "\n",
    "tf = TfidfTransformer()\n",
    "vec2_train = tf.fit_transform(vec_train)"
   ]
  },
  {
   "cell_type": "code",
   "execution_count": 44,
   "metadata": {},
   "outputs": [
    {
     "data": {
      "text/html": [
       "<div>\n",
       "<style scoped>\n",
       "    .dataframe tbody tr th:only-of-type {\n",
       "        vertical-align: middle;\n",
       "    }\n",
       "\n",
       "    .dataframe tbody tr th {\n",
       "        vertical-align: top;\n",
       "    }\n",
       "\n",
       "    .dataframe thead th {\n",
       "        text-align: right;\n",
       "    }\n",
       "</style>\n",
       "<table border=\"1\" class=\"dataframe\">\n",
       "  <thead>\n",
       "    <tr style=\"text-align: right;\">\n",
       "      <th></th>\n",
       "      <th>aah</th>\n",
       "      <th>aback</th>\n",
       "      <th>abc</th>\n",
       "      <th>abdomen</th>\n",
       "      <th>abide</th>\n",
       "      <th>able</th>\n",
       "      <th>aboard</th>\n",
       "      <th>abort</th>\n",
       "      <th>abound</th>\n",
       "      <th>abraham</th>\n",
       "      <th>...</th>\n",
       "      <th>zannalee</th>\n",
       "      <th>zebedee</th>\n",
       "      <th>zero</th>\n",
       "      <th>zip</th>\n",
       "      <th>zoomin</th>\n",
       "      <th>ça</th>\n",
       "      <th>étiez</th>\n",
       "      <th>étonner</th>\n",
       "      <th>êtes</th>\n",
       "      <th>ṗolice</th>\n",
       "    </tr>\n",
       "  </thead>\n",
       "  <tbody>\n",
       "    <tr>\n",
       "      <th>0</th>\n",
       "      <td>0.000000</td>\n",
       "      <td>0.0</td>\n",
       "      <td>0.0</td>\n",
       "      <td>0.0</td>\n",
       "      <td>0.0</td>\n",
       "      <td>0.0</td>\n",
       "      <td>0.0</td>\n",
       "      <td>0.0</td>\n",
       "      <td>0.0</td>\n",
       "      <td>0.0</td>\n",
       "      <td>...</td>\n",
       "      <td>0.0</td>\n",
       "      <td>0.0</td>\n",
       "      <td>0.0</td>\n",
       "      <td>0.0</td>\n",
       "      <td>0.0</td>\n",
       "      <td>0.0</td>\n",
       "      <td>0.0</td>\n",
       "      <td>0.0</td>\n",
       "      <td>0.0</td>\n",
       "      <td>0.0</td>\n",
       "    </tr>\n",
       "    <tr>\n",
       "      <th>1</th>\n",
       "      <td>0.081506</td>\n",
       "      <td>0.0</td>\n",
       "      <td>0.0</td>\n",
       "      <td>0.0</td>\n",
       "      <td>0.0</td>\n",
       "      <td>0.0</td>\n",
       "      <td>0.0</td>\n",
       "      <td>0.0</td>\n",
       "      <td>0.0</td>\n",
       "      <td>0.0</td>\n",
       "      <td>...</td>\n",
       "      <td>0.0</td>\n",
       "      <td>0.0</td>\n",
       "      <td>0.0</td>\n",
       "      <td>0.0</td>\n",
       "      <td>0.0</td>\n",
       "      <td>0.0</td>\n",
       "      <td>0.0</td>\n",
       "      <td>0.0</td>\n",
       "      <td>0.0</td>\n",
       "      <td>0.0</td>\n",
       "    </tr>\n",
       "    <tr>\n",
       "      <th>2</th>\n",
       "      <td>0.000000</td>\n",
       "      <td>0.0</td>\n",
       "      <td>0.0</td>\n",
       "      <td>0.0</td>\n",
       "      <td>0.0</td>\n",
       "      <td>0.0</td>\n",
       "      <td>0.0</td>\n",
       "      <td>0.0</td>\n",
       "      <td>0.0</td>\n",
       "      <td>0.0</td>\n",
       "      <td>...</td>\n",
       "      <td>0.0</td>\n",
       "      <td>0.0</td>\n",
       "      <td>0.0</td>\n",
       "      <td>0.0</td>\n",
       "      <td>0.0</td>\n",
       "      <td>0.0</td>\n",
       "      <td>0.0</td>\n",
       "      <td>0.0</td>\n",
       "      <td>0.0</td>\n",
       "      <td>0.0</td>\n",
       "    </tr>\n",
       "    <tr>\n",
       "      <th>3</th>\n",
       "      <td>0.000000</td>\n",
       "      <td>0.0</td>\n",
       "      <td>0.0</td>\n",
       "      <td>0.0</td>\n",
       "      <td>0.0</td>\n",
       "      <td>0.0</td>\n",
       "      <td>0.0</td>\n",
       "      <td>0.0</td>\n",
       "      <td>0.0</td>\n",
       "      <td>0.0</td>\n",
       "      <td>...</td>\n",
       "      <td>0.0</td>\n",
       "      <td>0.0</td>\n",
       "      <td>0.0</td>\n",
       "      <td>0.0</td>\n",
       "      <td>0.0</td>\n",
       "      <td>0.0</td>\n",
       "      <td>0.0</td>\n",
       "      <td>0.0</td>\n",
       "      <td>0.0</td>\n",
       "      <td>0.0</td>\n",
       "    </tr>\n",
       "    <tr>\n",
       "      <th>4</th>\n",
       "      <td>0.000000</td>\n",
       "      <td>0.0</td>\n",
       "      <td>0.0</td>\n",
       "      <td>0.0</td>\n",
       "      <td>0.0</td>\n",
       "      <td>0.0</td>\n",
       "      <td>0.0</td>\n",
       "      <td>0.0</td>\n",
       "      <td>0.0</td>\n",
       "      <td>0.0</td>\n",
       "      <td>...</td>\n",
       "      <td>0.0</td>\n",
       "      <td>0.0</td>\n",
       "      <td>0.0</td>\n",
       "      <td>0.0</td>\n",
       "      <td>0.0</td>\n",
       "      <td>0.0</td>\n",
       "      <td>0.0</td>\n",
       "      <td>0.0</td>\n",
       "      <td>0.0</td>\n",
       "      <td>0.0</td>\n",
       "    </tr>\n",
       "    <tr>\n",
       "      <th>...</th>\n",
       "      <td>...</td>\n",
       "      <td>...</td>\n",
       "      <td>...</td>\n",
       "      <td>...</td>\n",
       "      <td>...</td>\n",
       "      <td>...</td>\n",
       "      <td>...</td>\n",
       "      <td>...</td>\n",
       "      <td>...</td>\n",
       "      <td>...</td>\n",
       "      <td>...</td>\n",
       "      <td>...</td>\n",
       "      <td>...</td>\n",
       "      <td>...</td>\n",
       "      <td>...</td>\n",
       "      <td>...</td>\n",
       "      <td>...</td>\n",
       "      <td>...</td>\n",
       "      <td>...</td>\n",
       "      <td>...</td>\n",
       "      <td>...</td>\n",
       "    </tr>\n",
       "    <tr>\n",
       "      <th>736</th>\n",
       "      <td>0.000000</td>\n",
       "      <td>0.0</td>\n",
       "      <td>0.0</td>\n",
       "      <td>0.0</td>\n",
       "      <td>0.0</td>\n",
       "      <td>0.0</td>\n",
       "      <td>0.0</td>\n",
       "      <td>0.0</td>\n",
       "      <td>0.0</td>\n",
       "      <td>0.0</td>\n",
       "      <td>...</td>\n",
       "      <td>0.0</td>\n",
       "      <td>0.0</td>\n",
       "      <td>0.0</td>\n",
       "      <td>0.0</td>\n",
       "      <td>0.0</td>\n",
       "      <td>0.0</td>\n",
       "      <td>0.0</td>\n",
       "      <td>0.0</td>\n",
       "      <td>0.0</td>\n",
       "      <td>0.0</td>\n",
       "    </tr>\n",
       "    <tr>\n",
       "      <th>737</th>\n",
       "      <td>0.000000</td>\n",
       "      <td>0.0</td>\n",
       "      <td>0.0</td>\n",
       "      <td>0.0</td>\n",
       "      <td>0.0</td>\n",
       "      <td>0.0</td>\n",
       "      <td>0.0</td>\n",
       "      <td>0.0</td>\n",
       "      <td>0.0</td>\n",
       "      <td>0.0</td>\n",
       "      <td>...</td>\n",
       "      <td>0.0</td>\n",
       "      <td>0.0</td>\n",
       "      <td>0.0</td>\n",
       "      <td>0.0</td>\n",
       "      <td>0.0</td>\n",
       "      <td>0.0</td>\n",
       "      <td>0.0</td>\n",
       "      <td>0.0</td>\n",
       "      <td>0.0</td>\n",
       "      <td>0.0</td>\n",
       "    </tr>\n",
       "    <tr>\n",
       "      <th>738</th>\n",
       "      <td>0.000000</td>\n",
       "      <td>0.0</td>\n",
       "      <td>0.0</td>\n",
       "      <td>0.0</td>\n",
       "      <td>0.0</td>\n",
       "      <td>0.0</td>\n",
       "      <td>0.0</td>\n",
       "      <td>0.0</td>\n",
       "      <td>0.0</td>\n",
       "      <td>0.0</td>\n",
       "      <td>...</td>\n",
       "      <td>0.0</td>\n",
       "      <td>0.0</td>\n",
       "      <td>0.0</td>\n",
       "      <td>0.0</td>\n",
       "      <td>0.0</td>\n",
       "      <td>0.0</td>\n",
       "      <td>0.0</td>\n",
       "      <td>0.0</td>\n",
       "      <td>0.0</td>\n",
       "      <td>0.0</td>\n",
       "    </tr>\n",
       "    <tr>\n",
       "      <th>739</th>\n",
       "      <td>0.000000</td>\n",
       "      <td>0.0</td>\n",
       "      <td>0.0</td>\n",
       "      <td>0.0</td>\n",
       "      <td>0.0</td>\n",
       "      <td>0.0</td>\n",
       "      <td>0.0</td>\n",
       "      <td>0.0</td>\n",
       "      <td>0.0</td>\n",
       "      <td>0.0</td>\n",
       "      <td>...</td>\n",
       "      <td>0.0</td>\n",
       "      <td>0.0</td>\n",
       "      <td>0.0</td>\n",
       "      <td>0.0</td>\n",
       "      <td>0.0</td>\n",
       "      <td>0.0</td>\n",
       "      <td>0.0</td>\n",
       "      <td>0.0</td>\n",
       "      <td>0.0</td>\n",
       "      <td>0.0</td>\n",
       "    </tr>\n",
       "    <tr>\n",
       "      <th>740</th>\n",
       "      <td>0.000000</td>\n",
       "      <td>0.0</td>\n",
       "      <td>0.0</td>\n",
       "      <td>0.0</td>\n",
       "      <td>0.0</td>\n",
       "      <td>0.0</td>\n",
       "      <td>0.0</td>\n",
       "      <td>0.0</td>\n",
       "      <td>0.0</td>\n",
       "      <td>0.0</td>\n",
       "      <td>...</td>\n",
       "      <td>0.0</td>\n",
       "      <td>0.0</td>\n",
       "      <td>0.0</td>\n",
       "      <td>0.0</td>\n",
       "      <td>0.0</td>\n",
       "      <td>0.0</td>\n",
       "      <td>0.0</td>\n",
       "      <td>0.0</td>\n",
       "      <td>0.0</td>\n",
       "      <td>0.0</td>\n",
       "    </tr>\n",
       "  </tbody>\n",
       "</table>\n",
       "<p>741 rows × 6661 columns</p>\n",
       "</div>"
      ],
      "text/plain": [
       "          aah  aback  abc  abdomen  abide  able  aboard  abort  abound  \\\n",
       "0    0.000000    0.0  0.0      0.0    0.0   0.0     0.0    0.0     0.0   \n",
       "1    0.081506    0.0  0.0      0.0    0.0   0.0     0.0    0.0     0.0   \n",
       "2    0.000000    0.0  0.0      0.0    0.0   0.0     0.0    0.0     0.0   \n",
       "3    0.000000    0.0  0.0      0.0    0.0   0.0     0.0    0.0     0.0   \n",
       "4    0.000000    0.0  0.0      0.0    0.0   0.0     0.0    0.0     0.0   \n",
       "..        ...    ...  ...      ...    ...   ...     ...    ...     ...   \n",
       "736  0.000000    0.0  0.0      0.0    0.0   0.0     0.0    0.0     0.0   \n",
       "737  0.000000    0.0  0.0      0.0    0.0   0.0     0.0    0.0     0.0   \n",
       "738  0.000000    0.0  0.0      0.0    0.0   0.0     0.0    0.0     0.0   \n",
       "739  0.000000    0.0  0.0      0.0    0.0   0.0     0.0    0.0     0.0   \n",
       "740  0.000000    0.0  0.0      0.0    0.0   0.0     0.0    0.0     0.0   \n",
       "\n",
       "     abraham  ...  zannalee  zebedee  zero  zip  zoomin   ça  étiez  étonner  \\\n",
       "0        0.0  ...       0.0      0.0   0.0  0.0     0.0  0.0    0.0      0.0   \n",
       "1        0.0  ...       0.0      0.0   0.0  0.0     0.0  0.0    0.0      0.0   \n",
       "2        0.0  ...       0.0      0.0   0.0  0.0     0.0  0.0    0.0      0.0   \n",
       "3        0.0  ...       0.0      0.0   0.0  0.0     0.0  0.0    0.0      0.0   \n",
       "4        0.0  ...       0.0      0.0   0.0  0.0     0.0  0.0    0.0      0.0   \n",
       "..       ...  ...       ...      ...   ...  ...     ...  ...    ...      ...   \n",
       "736      0.0  ...       0.0      0.0   0.0  0.0     0.0  0.0    0.0      0.0   \n",
       "737      0.0  ...       0.0      0.0   0.0  0.0     0.0  0.0    0.0      0.0   \n",
       "738      0.0  ...       0.0      0.0   0.0  0.0     0.0  0.0    0.0      0.0   \n",
       "739      0.0  ...       0.0      0.0   0.0  0.0     0.0  0.0    0.0      0.0   \n",
       "740      0.0  ...       0.0      0.0   0.0  0.0     0.0  0.0    0.0      0.0   \n",
       "\n",
       "     êtes  ṗolice  \n",
       "0     0.0     0.0  \n",
       "1     0.0     0.0  \n",
       "2     0.0     0.0  \n",
       "3     0.0     0.0  \n",
       "4     0.0     0.0  \n",
       "..    ...     ...  \n",
       "736   0.0     0.0  \n",
       "737   0.0     0.0  \n",
       "738   0.0     0.0  \n",
       "739   0.0     0.0  \n",
       "740   0.0     0.0  \n",
       "\n",
       "[741 rows x 6661 columns]"
      ]
     },
     "execution_count": 44,
     "metadata": {},
     "output_type": "execute_result"
    }
   ],
   "source": [
    "# tfidf vector results\n",
    "look2 = pd.DataFrame(vec2_train.todense(), columns=cv.get_feature_names())  #index needed?\n",
    "look2"
   ]
  },
  {
   "cell_type": "code",
   "execution_count": 62,
   "metadata": {},
   "outputs": [],
   "source": [
    "#This does both steps (count vectorizer and tfidfTransfomer) in one:\n",
    "vec3 = TfidfVectorizer(stop_words={'english', 'french'})\n",
    "vec3_train = vec3.fit_transform(corpus_list)\n",
    "#vec3.get_feature_names()"
   ]
  },
  {
   "cell_type": "code",
   "execution_count": 63,
   "metadata": {},
   "outputs": [
    {
     "data": {
      "text/html": [
       "<div>\n",
       "<style scoped>\n",
       "    .dataframe tbody tr th:only-of-type {\n",
       "        vertical-align: middle;\n",
       "    }\n",
       "\n",
       "    .dataframe tbody tr th {\n",
       "        vertical-align: top;\n",
       "    }\n",
       "\n",
       "    .dataframe thead th {\n",
       "        text-align: right;\n",
       "    }\n",
       "</style>\n",
       "<table border=\"1\" class=\"dataframe\">\n",
       "  <thead>\n",
       "    <tr style=\"text-align: right;\">\n",
       "      <th></th>\n",
       "      <th>aah</th>\n",
       "      <th>aback</th>\n",
       "      <th>abc</th>\n",
       "      <th>abdomen</th>\n",
       "      <th>abide</th>\n",
       "      <th>able</th>\n",
       "      <th>aboard</th>\n",
       "      <th>abort</th>\n",
       "      <th>abound</th>\n",
       "      <th>about</th>\n",
       "      <th>...</th>\n",
       "      <th>zannalee</th>\n",
       "      <th>zebedee</th>\n",
       "      <th>zero</th>\n",
       "      <th>zip</th>\n",
       "      <th>zoomin</th>\n",
       "      <th>ça</th>\n",
       "      <th>étiez</th>\n",
       "      <th>étonner</th>\n",
       "      <th>êtes</th>\n",
       "      <th>ṗolice</th>\n",
       "    </tr>\n",
       "  </thead>\n",
       "  <tbody>\n",
       "    <tr>\n",
       "      <th>0</th>\n",
       "      <td>0.000000</td>\n",
       "      <td>0.0</td>\n",
       "      <td>0.0</td>\n",
       "      <td>0.0</td>\n",
       "      <td>0.0</td>\n",
       "      <td>0.0</td>\n",
       "      <td>0.0</td>\n",
       "      <td>0.0</td>\n",
       "      <td>0.0</td>\n",
       "      <td>0.030611</td>\n",
       "      <td>...</td>\n",
       "      <td>0.0</td>\n",
       "      <td>0.0</td>\n",
       "      <td>0.0</td>\n",
       "      <td>0.0</td>\n",
       "      <td>0.0</td>\n",
       "      <td>0.0</td>\n",
       "      <td>0.0</td>\n",
       "      <td>0.0</td>\n",
       "      <td>0.0</td>\n",
       "      <td>0.0</td>\n",
       "    </tr>\n",
       "    <tr>\n",
       "      <th>1</th>\n",
       "      <td>0.078757</td>\n",
       "      <td>0.0</td>\n",
       "      <td>0.0</td>\n",
       "      <td>0.0</td>\n",
       "      <td>0.0</td>\n",
       "      <td>0.0</td>\n",
       "      <td>0.0</td>\n",
       "      <td>0.0</td>\n",
       "      <td>0.0</td>\n",
       "      <td>0.057699</td>\n",
       "      <td>...</td>\n",
       "      <td>0.0</td>\n",
       "      <td>0.0</td>\n",
       "      <td>0.0</td>\n",
       "      <td>0.0</td>\n",
       "      <td>0.0</td>\n",
       "      <td>0.0</td>\n",
       "      <td>0.0</td>\n",
       "      <td>0.0</td>\n",
       "      <td>0.0</td>\n",
       "      <td>0.0</td>\n",
       "    </tr>\n",
       "    <tr>\n",
       "      <th>2</th>\n",
       "      <td>0.000000</td>\n",
       "      <td>0.0</td>\n",
       "      <td>0.0</td>\n",
       "      <td>0.0</td>\n",
       "      <td>0.0</td>\n",
       "      <td>0.0</td>\n",
       "      <td>0.0</td>\n",
       "      <td>0.0</td>\n",
       "      <td>0.0</td>\n",
       "      <td>0.031792</td>\n",
       "      <td>...</td>\n",
       "      <td>0.0</td>\n",
       "      <td>0.0</td>\n",
       "      <td>0.0</td>\n",
       "      <td>0.0</td>\n",
       "      <td>0.0</td>\n",
       "      <td>0.0</td>\n",
       "      <td>0.0</td>\n",
       "      <td>0.0</td>\n",
       "      <td>0.0</td>\n",
       "      <td>0.0</td>\n",
       "    </tr>\n",
       "    <tr>\n",
       "      <th>3</th>\n",
       "      <td>0.000000</td>\n",
       "      <td>0.0</td>\n",
       "      <td>0.0</td>\n",
       "      <td>0.0</td>\n",
       "      <td>0.0</td>\n",
       "      <td>0.0</td>\n",
       "      <td>0.0</td>\n",
       "      <td>0.0</td>\n",
       "      <td>0.0</td>\n",
       "      <td>0.000000</td>\n",
       "      <td>...</td>\n",
       "      <td>0.0</td>\n",
       "      <td>0.0</td>\n",
       "      <td>0.0</td>\n",
       "      <td>0.0</td>\n",
       "      <td>0.0</td>\n",
       "      <td>0.0</td>\n",
       "      <td>0.0</td>\n",
       "      <td>0.0</td>\n",
       "      <td>0.0</td>\n",
       "      <td>0.0</td>\n",
       "    </tr>\n",
       "    <tr>\n",
       "      <th>4</th>\n",
       "      <td>0.000000</td>\n",
       "      <td>0.0</td>\n",
       "      <td>0.0</td>\n",
       "      <td>0.0</td>\n",
       "      <td>0.0</td>\n",
       "      <td>0.0</td>\n",
       "      <td>0.0</td>\n",
       "      <td>0.0</td>\n",
       "      <td>0.0</td>\n",
       "      <td>0.042705</td>\n",
       "      <td>...</td>\n",
       "      <td>0.0</td>\n",
       "      <td>0.0</td>\n",
       "      <td>0.0</td>\n",
       "      <td>0.0</td>\n",
       "      <td>0.0</td>\n",
       "      <td>0.0</td>\n",
       "      <td>0.0</td>\n",
       "      <td>0.0</td>\n",
       "      <td>0.0</td>\n",
       "      <td>0.0</td>\n",
       "    </tr>\n",
       "    <tr>\n",
       "      <th>...</th>\n",
       "      <td>...</td>\n",
       "      <td>...</td>\n",
       "      <td>...</td>\n",
       "      <td>...</td>\n",
       "      <td>...</td>\n",
       "      <td>...</td>\n",
       "      <td>...</td>\n",
       "      <td>...</td>\n",
       "      <td>...</td>\n",
       "      <td>...</td>\n",
       "      <td>...</td>\n",
       "      <td>...</td>\n",
       "      <td>...</td>\n",
       "      <td>...</td>\n",
       "      <td>...</td>\n",
       "      <td>...</td>\n",
       "      <td>...</td>\n",
       "      <td>...</td>\n",
       "      <td>...</td>\n",
       "      <td>...</td>\n",
       "      <td>...</td>\n",
       "    </tr>\n",
       "    <tr>\n",
       "      <th>736</th>\n",
       "      <td>0.000000</td>\n",
       "      <td>0.0</td>\n",
       "      <td>0.0</td>\n",
       "      <td>0.0</td>\n",
       "      <td>0.0</td>\n",
       "      <td>0.0</td>\n",
       "      <td>0.0</td>\n",
       "      <td>0.0</td>\n",
       "      <td>0.0</td>\n",
       "      <td>0.000000</td>\n",
       "      <td>...</td>\n",
       "      <td>0.0</td>\n",
       "      <td>0.0</td>\n",
       "      <td>0.0</td>\n",
       "      <td>0.0</td>\n",
       "      <td>0.0</td>\n",
       "      <td>0.0</td>\n",
       "      <td>0.0</td>\n",
       "      <td>0.0</td>\n",
       "      <td>0.0</td>\n",
       "      <td>0.0</td>\n",
       "    </tr>\n",
       "    <tr>\n",
       "      <th>737</th>\n",
       "      <td>0.000000</td>\n",
       "      <td>0.0</td>\n",
       "      <td>0.0</td>\n",
       "      <td>0.0</td>\n",
       "      <td>0.0</td>\n",
       "      <td>0.0</td>\n",
       "      <td>0.0</td>\n",
       "      <td>0.0</td>\n",
       "      <td>0.0</td>\n",
       "      <td>0.000000</td>\n",
       "      <td>...</td>\n",
       "      <td>0.0</td>\n",
       "      <td>0.0</td>\n",
       "      <td>0.0</td>\n",
       "      <td>0.0</td>\n",
       "      <td>0.0</td>\n",
       "      <td>0.0</td>\n",
       "      <td>0.0</td>\n",
       "      <td>0.0</td>\n",
       "      <td>0.0</td>\n",
       "      <td>0.0</td>\n",
       "    </tr>\n",
       "    <tr>\n",
       "      <th>738</th>\n",
       "      <td>0.000000</td>\n",
       "      <td>0.0</td>\n",
       "      <td>0.0</td>\n",
       "      <td>0.0</td>\n",
       "      <td>0.0</td>\n",
       "      <td>0.0</td>\n",
       "      <td>0.0</td>\n",
       "      <td>0.0</td>\n",
       "      <td>0.0</td>\n",
       "      <td>0.000000</td>\n",
       "      <td>...</td>\n",
       "      <td>0.0</td>\n",
       "      <td>0.0</td>\n",
       "      <td>0.0</td>\n",
       "      <td>0.0</td>\n",
       "      <td>0.0</td>\n",
       "      <td>0.0</td>\n",
       "      <td>0.0</td>\n",
       "      <td>0.0</td>\n",
       "      <td>0.0</td>\n",
       "      <td>0.0</td>\n",
       "    </tr>\n",
       "    <tr>\n",
       "      <th>739</th>\n",
       "      <td>0.000000</td>\n",
       "      <td>0.0</td>\n",
       "      <td>0.0</td>\n",
       "      <td>0.0</td>\n",
       "      <td>0.0</td>\n",
       "      <td>0.0</td>\n",
       "      <td>0.0</td>\n",
       "      <td>0.0</td>\n",
       "      <td>0.0</td>\n",
       "      <td>0.000000</td>\n",
       "      <td>...</td>\n",
       "      <td>0.0</td>\n",
       "      <td>0.0</td>\n",
       "      <td>0.0</td>\n",
       "      <td>0.0</td>\n",
       "      <td>0.0</td>\n",
       "      <td>0.0</td>\n",
       "      <td>0.0</td>\n",
       "      <td>0.0</td>\n",
       "      <td>0.0</td>\n",
       "      <td>0.0</td>\n",
       "    </tr>\n",
       "    <tr>\n",
       "      <th>740</th>\n",
       "      <td>0.000000</td>\n",
       "      <td>0.0</td>\n",
       "      <td>0.0</td>\n",
       "      <td>0.0</td>\n",
       "      <td>0.0</td>\n",
       "      <td>0.0</td>\n",
       "      <td>0.0</td>\n",
       "      <td>0.0</td>\n",
       "      <td>0.0</td>\n",
       "      <td>0.000000</td>\n",
       "      <td>...</td>\n",
       "      <td>0.0</td>\n",
       "      <td>0.0</td>\n",
       "      <td>0.0</td>\n",
       "      <td>0.0</td>\n",
       "      <td>0.0</td>\n",
       "      <td>0.0</td>\n",
       "      <td>0.0</td>\n",
       "      <td>0.0</td>\n",
       "      <td>0.0</td>\n",
       "      <td>0.0</td>\n",
       "    </tr>\n",
       "  </tbody>\n",
       "</table>\n",
       "<p>741 rows × 6931 columns</p>\n",
       "</div>"
      ],
      "text/plain": [
       "          aah  aback  abc  abdomen  abide  able  aboard  abort  abound  \\\n",
       "0    0.000000    0.0  0.0      0.0    0.0   0.0     0.0    0.0     0.0   \n",
       "1    0.078757    0.0  0.0      0.0    0.0   0.0     0.0    0.0     0.0   \n",
       "2    0.000000    0.0  0.0      0.0    0.0   0.0     0.0    0.0     0.0   \n",
       "3    0.000000    0.0  0.0      0.0    0.0   0.0     0.0    0.0     0.0   \n",
       "4    0.000000    0.0  0.0      0.0    0.0   0.0     0.0    0.0     0.0   \n",
       "..        ...    ...  ...      ...    ...   ...     ...    ...     ...   \n",
       "736  0.000000    0.0  0.0      0.0    0.0   0.0     0.0    0.0     0.0   \n",
       "737  0.000000    0.0  0.0      0.0    0.0   0.0     0.0    0.0     0.0   \n",
       "738  0.000000    0.0  0.0      0.0    0.0   0.0     0.0    0.0     0.0   \n",
       "739  0.000000    0.0  0.0      0.0    0.0   0.0     0.0    0.0     0.0   \n",
       "740  0.000000    0.0  0.0      0.0    0.0   0.0     0.0    0.0     0.0   \n",
       "\n",
       "        about  ...  zannalee  zebedee  zero  zip  zoomin   ça  étiez  étonner  \\\n",
       "0    0.030611  ...       0.0      0.0   0.0  0.0     0.0  0.0    0.0      0.0   \n",
       "1    0.057699  ...       0.0      0.0   0.0  0.0     0.0  0.0    0.0      0.0   \n",
       "2    0.031792  ...       0.0      0.0   0.0  0.0     0.0  0.0    0.0      0.0   \n",
       "3    0.000000  ...       0.0      0.0   0.0  0.0     0.0  0.0    0.0      0.0   \n",
       "4    0.042705  ...       0.0      0.0   0.0  0.0     0.0  0.0    0.0      0.0   \n",
       "..        ...  ...       ...      ...   ...  ...     ...  ...    ...      ...   \n",
       "736  0.000000  ...       0.0      0.0   0.0  0.0     0.0  0.0    0.0      0.0   \n",
       "737  0.000000  ...       0.0      0.0   0.0  0.0     0.0  0.0    0.0      0.0   \n",
       "738  0.000000  ...       0.0      0.0   0.0  0.0     0.0  0.0    0.0      0.0   \n",
       "739  0.000000  ...       0.0      0.0   0.0  0.0     0.0  0.0    0.0      0.0   \n",
       "740  0.000000  ...       0.0      0.0   0.0  0.0     0.0  0.0    0.0      0.0   \n",
       "\n",
       "     êtes  ṗolice  \n",
       "0     0.0     0.0  \n",
       "1     0.0     0.0  \n",
       "2     0.0     0.0  \n",
       "3     0.0     0.0  \n",
       "4     0.0     0.0  \n",
       "..    ...     ...  \n",
       "736   0.0     0.0  \n",
       "737   0.0     0.0  \n",
       "738   0.0     0.0  \n",
       "739   0.0     0.0  \n",
       "740   0.0     0.0  \n",
       "\n",
       "[741 rows x 6931 columns]"
      ]
     },
     "execution_count": 63,
     "metadata": {},
     "output_type": "execute_result"
    }
   ],
   "source": [
    "look3 = pd.DataFrame(vec3_train.todense(), columns=vec3.get_feature_names())\n",
    "look3"
   ]
  },
  {
   "cell_type": "markdown",
   "metadata": {},
   "source": [
    "### Step 6: Class imbalance\n",
    "* Undersample the majority class (=Aretha Franklin) or\n",
    "* Oversample the minority class (=Prince)\n",
    "* SMOTE: A popular technique for over-sampling that generates new samples by interpolation\n",
    "* Near Miss: An undersampling method that select examples based on the distance of majority class examples to minority class examples."
   ]
  },
  {
   "cell_type": "code",
   "execution_count": 67,
   "metadata": {},
   "outputs": [
    {
     "data": {
      "text/html": [
       "<div>\n",
       "<style scoped>\n",
       "    .dataframe tbody tr th:only-of-type {\n",
       "        vertical-align: middle;\n",
       "    }\n",
       "\n",
       "    .dataframe tbody tr th {\n",
       "        vertical-align: top;\n",
       "    }\n",
       "\n",
       "    .dataframe thead th {\n",
       "        text-align: right;\n",
       "    }\n",
       "</style>\n",
       "<table border=\"1\" class=\"dataframe\">\n",
       "  <thead>\n",
       "    <tr style=\"text-align: right;\">\n",
       "      <th></th>\n",
       "      <th>Lyrics</th>\n",
       "    </tr>\n",
       "    <tr>\n",
       "      <th>Artist</th>\n",
       "      <th></th>\n",
       "    </tr>\n",
       "  </thead>\n",
       "  <tbody>\n",
       "    <tr>\n",
       "      <th>Aretha Franklin</th>\n",
       "      <td>435</td>\n",
       "    </tr>\n",
       "    <tr>\n",
       "      <th>Prince</th>\n",
       "      <td>554</td>\n",
       "    </tr>\n",
       "  </tbody>\n",
       "</table>\n",
       "</div>"
      ],
      "text/plain": [
       "                 Lyrics\n",
       "Artist                 \n",
       "Aretha Franklin     435\n",
       "Prince              554"
      ]
     },
     "execution_count": 67,
     "metadata": {},
     "output_type": "execute_result"
    }
   ],
   "source": [
    "df.groupby('Artist').count()\n",
    "\n",
    "# Aretha: 435\n",
    "# Prince: 554  -> im balanced dataset"
   ]
  },
  {
   "cell_type": "code",
   "execution_count": 65,
   "metadata": {},
   "outputs": [
    {
     "data": {
      "text/plain": [
       "248"
      ]
     },
     "execution_count": 65,
     "metadata": {},
     "output_type": "execute_result"
    }
   ],
   "source": [
    "len(y_test)"
   ]
  },
  {
   "cell_type": "code",
   "execution_count": 69,
   "metadata": {},
   "outputs": [
    {
     "data": {
      "text/plain": [
       "((741, 6931), (741,), (741, 1))"
      ]
     },
     "execution_count": 69,
     "metadata": {},
     "output_type": "execute_result"
    }
   ],
   "source": [
    "vec3_train.shape, y_train.shape, X_train.shape"
   ]
  },
  {
   "cell_type": "code",
   "execution_count": 85,
   "metadata": {},
   "outputs": [],
   "source": [
    "# Instantiate the RandomUndersampler Model\n",
    "rus = RandomUnderSampler()"
   ]
  },
  {
   "cell_type": "code",
   "execution_count": 86,
   "metadata": {},
   "outputs": [],
   "source": [
    "# Resample the data\n",
    "X_rus, y_rus = rus.fit_resample(vec3_train, y_train)"
   ]
  },
  {
   "cell_type": "code",
   "execution_count": 93,
   "metadata": {},
   "outputs": [
    {
     "data": {
      "text/plain": [
       "((652, 6931), (652,))"
      ]
     },
     "execution_count": 93,
     "metadata": {},
     "output_type": "execute_result"
    }
   ],
   "source": [
    "X_rus.shape, y_rus.shape"
   ]
  },
  {
   "cell_type": "code",
   "execution_count": null,
   "metadata": {},
   "outputs": [],
   "source": []
  },
  {
   "cell_type": "code",
   "execution_count": 87,
   "metadata": {},
   "outputs": [],
   "source": [
    "# Instantiate the Undersampler 'Near Miss':\n",
    "nm = NearMiss()\n"
   ]
  },
  {
   "cell_type": "code",
   "execution_count": 88,
   "metadata": {},
   "outputs": [],
   "source": [
    "# Resample the data\n",
    "X_nm, y_nm = nm.fit_resample(vec3_train, y_train)"
   ]
  },
  {
   "cell_type": "code",
   "execution_count": 89,
   "metadata": {},
   "outputs": [
    {
     "data": {
      "text/plain": [
       "((652, 6931), (652,))"
      ]
     },
     "execution_count": 89,
     "metadata": {},
     "output_type": "execute_result"
    }
   ],
   "source": [
    "X_nm.shape, y_nm.shape"
   ]
  },
  {
   "cell_type": "code",
   "execution_count": null,
   "metadata": {},
   "outputs": [],
   "source": []
  },
  {
   "cell_type": "code",
   "execution_count": 90,
   "metadata": {},
   "outputs": [],
   "source": [
    "# Instantiate the RandomOverSampler Model\n",
    "ros = RandomOverSampler()"
   ]
  },
  {
   "cell_type": "code",
   "execution_count": 91,
   "metadata": {},
   "outputs": [],
   "source": [
    "# Resample the data\n",
    "X_ros, y_ros = ros.fit_resample(vec3_train, y_train)"
   ]
  },
  {
   "cell_type": "code",
   "execution_count": 92,
   "metadata": {},
   "outputs": [
    {
     "data": {
      "text/plain": [
       "((830, 6931), (830,))"
      ]
     },
     "execution_count": 92,
     "metadata": {},
     "output_type": "execute_result"
    }
   ],
   "source": [
    "X_ros.shape, y_ros.shape"
   ]
  },
  {
   "cell_type": "code",
   "execution_count": null,
   "metadata": {},
   "outputs": [],
   "source": []
  },
  {
   "cell_type": "code",
   "execution_count": 94,
   "metadata": {},
   "outputs": [],
   "source": [
    "# Instantiate the Oversampler SMOTE\n",
    "sm = SMOTE()\n",
    "X_sm, y_sm = sm.fit_resample(vec3_train, y_train)"
   ]
  },
  {
   "cell_type": "code",
   "execution_count": 95,
   "metadata": {},
   "outputs": [
    {
     "data": {
      "text/plain": [
       "((830, 6931), (830,))"
      ]
     },
     "execution_count": 95,
     "metadata": {},
     "output_type": "execute_result"
    }
   ],
   "source": [
    "X_sm.shape, y_sm.shape"
   ]
  },
  {
   "cell_type": "markdown",
   "metadata": {},
   "source": [
    "### Step 7: Train Model\n",
    "\n",
    "* RandomForest Classifier\n",
    "* Naive Bayes"
   ]
  },
  {
   "cell_type": "code",
   "execution_count": null,
   "metadata": {},
   "outputs": [],
   "source": [
    "# Random Forest Model on vectorized data and sampled data"
   ]
  },
  {
   "cell_type": "code",
   "execution_count": 83,
   "metadata": {},
   "outputs": [],
   "source": [
    "rf = RandomForestClassifier()"
   ]
  },
  {
   "cell_type": "code",
   "execution_count": 96,
   "metadata": {},
   "outputs": [],
   "source": [
    "model_forest = rf.fit(vec3_train, y_train)\n",
    "model_forest_rus = rf.fit(X_rus, y_rus)\n",
    "model_forest_nm = rf.fit(X_nm, y_nm)\n",
    "model_forest_ros = rf.fit(X_ros, y_ros)\n",
    "model_forest_sm = rf.fit(X_sm, y_sm)"
   ]
  },
  {
   "cell_type": "code",
   "execution_count": null,
   "metadata": {},
   "outputs": [],
   "source": [
    "y_pred_forest_train_vec = model_forest.predict(vec3_train)\n",
    "y_pred_forest_train_rus = model_forest_rus.predict(X_rus)\n",
    "y_pred_forest_train_nm = model_forest_nm.predict(X_nm)\n",
    "y_pred_forest_train_ros = model_forest_ros.predict(X_ros)\n",
    "y_pred_forest_train_sm = model_forest_sm.predict(X_sm)"
   ]
  },
  {
   "cell_type": "code",
   "execution_count": null,
   "metadata": {},
   "outputs": [],
   "source": []
  },
  {
   "cell_type": "code",
   "execution_count": null,
   "metadata": {},
   "outputs": [],
   "source": [
    "# Naive Bayes Model on vectorized data and sampled data"
   ]
  },
  {
   "cell_type": "code",
   "execution_count": 97,
   "metadata": {},
   "outputs": [],
   "source": [
    "nb = MultinomialNB(alpha = 1)"
   ]
  },
  {
   "cell_type": "code",
   "execution_count": 98,
   "metadata": {},
   "outputs": [],
   "source": [
    "model_bayes = nb.fit(vec3_train, y_train)\n",
    "model_bayes_rus = nb.fit(X_rus, y_rus)\n",
    "model_bayes_nm = nb.fit(X_nm, y_nm)\n",
    "model_bayes_ros = nb.fit(X_ros, y_ros)\n",
    "model_bayes_sm = nb.fit(X_sm, y_sm)"
   ]
  },
  {
   "cell_type": "code",
   "execution_count": null,
   "metadata": {},
   "outputs": [],
   "source": [
    "y_pred_bayes_train_vec = model_bayes.predict(vec3_train)\n",
    "y_pred_bayes_train_rus = model_bayes_rus.predict(X_rus)\n",
    "y_pred_bayes_train_nm = model_bayes_nm.predict(X_nm)\n",
    "y_pred_bayes_train_ros = model_bayes_ros.predict(X_ros)\n",
    "y_pred_bayes_train_sm = model_bayes_sm.predict(X_sm)"
   ]
  },
  {
   "cell_type": "code",
   "execution_count": null,
   "metadata": {},
   "outputs": [],
   "source": []
  },
  {
   "cell_type": "code",
   "execution_count": null,
   "metadata": {},
   "outputs": [],
   "source": []
  },
  {
   "cell_type": "code",
   "execution_count": null,
   "metadata": {},
   "outputs": [],
   "source": [
    "# Model pipeline:\n",
    "#cv = CountVectorizer(stop_words='english')\n",
    "#tf = TfidfTransformer()\n",
    "#rf = RandomForestClassifier()\n",
    "#model = make_pipeline(cv, tf, rf)\n",
    "#model.fit(X_train, y_train)"
   ]
  },
  {
   "cell_type": "markdown",
   "metadata": {},
   "source": [
    "### Step 6: Test Model on Test Data"
   ]
  },
  {
   "cell_type": "code",
   "execution_count": 99,
   "metadata": {
    "collapsed": true
   },
   "outputs": [
    {
     "name": "stderr",
     "output_type": "stream",
     "text": [
      "/opt/anaconda3/lib/python3.7/site-packages/ipykernel_launcher.py:3: SettingWithCopyWarning: \n",
      "A value is trying to be set on a copy of a slice from a DataFrame.\n",
      "Try using .loc[row_indexer,col_indexer] = value instead\n",
      "\n",
      "See the caveats in the documentation: https://pandas.pydata.org/pandas-docs/stable/user_guide/indexing.html#returning-a-view-versus-a-copy\n",
      "  This is separate from the ipykernel package so we can avoid doing imports until\n",
      "/opt/anaconda3/lib/python3.7/site-packages/ipykernel_launcher.py:4: SettingWithCopyWarning: \n",
      "A value is trying to be set on a copy of a slice from a DataFrame.\n",
      "Try using .loc[row_indexer,col_indexer] = value instead\n",
      "\n",
      "See the caveats in the documentation: https://pandas.pydata.org/pandas-docs/stable/user_guide/indexing.html#returning-a-view-versus-a-copy\n",
      "  after removing the cwd from sys.path.\n"
     ]
    }
   ],
   "source": [
    "# Feature engineering of X_test: \n",
    "\n",
    "X_test['Lyrics'] = X_test['Lyrics'].str.replace('\\d+', '')\n",
    "X_test['Lyrics'] = X_test['Lyrics'].str.replace(',', '')"
   ]
  },
  {
   "cell_type": "code",
   "execution_count": 100,
   "metadata": {},
   "outputs": [
    {
     "data": {
      "text/plain": [
       "list"
      ]
     },
     "execution_count": 100,
     "metadata": {},
     "output_type": "execute_result"
    }
   ],
   "source": [
    "# Feature engineering of X_test: \n",
    "\n",
    "corpus_list_test = X_test['Lyrics'].tolist()\n",
    "type(corpus_list_test)"
   ]
  },
  {
   "cell_type": "code",
   "execution_count": 101,
   "metadata": {},
   "outputs": [],
   "source": [
    "# Feature engineering of X_test:     # Do NOT use fit.transform here (as it is a combination, it would fit the X_test!)\n",
    "\n",
    "vec3_test = vec3.transform(corpus_list_test)"
   ]
  },
  {
   "cell_type": "code",
   "execution_count": 102,
   "metadata": {},
   "outputs": [],
   "source": [
    "# Using the RandomForest models on Test data set:\n",
    "\n",
    "y_pred_forest_vec = model_forest.predict(vec3_test)\n",
    "y_pred_forest_rus = model_forest_rus.predict(vec3_test)\n",
    "y_pred_forest_nm = model_forest_nm.predict(vec3_test)\n",
    "y_pred_forest_ros = model_forest_ros.predict(vec3_test)\n",
    "y_pred_forest_sm = model_forest_sm.predict(vec3_test)"
   ]
  },
  {
   "cell_type": "code",
   "execution_count": 103,
   "metadata": {},
   "outputs": [],
   "source": [
    "# Using the RandomForest models on Test data set:\n",
    "\n",
    "y_pred_bayes_vec = model_bayes.predict(vec3_test)\n",
    "y_pred_bayes_rus = model_bayes_rus.predict(vec3_test)\n",
    "y_pred_bayes_nm = model_bayes_nm.predict(vec3_test)\n",
    "y_pred_bayes_ros = model_bayes_ros.predict(vec3_test)\n",
    "y_pred_bayes_sm = model_bayes_sm.predict(vec3_test)"
   ]
  },
  {
   "cell_type": "code",
   "execution_count": 104,
   "metadata": {},
   "outputs": [],
   "source": [
    "# One-hot encoding of y_pred because data needs to be nummerical for all metrics but accuracy\n",
    "\n",
    "y_test_dummy = []\n",
    "y_pred_forest_vec_dummy = []\n",
    "y_pred_forest_rus_dummy = []\n",
    "y_pred_forest_nm_dummy = []\n",
    "y_pred_forest_ros_dummy = []\n",
    "y_pred_forest_sm_dummy = []\n",
    "y_pred_bayes_vec_dummy = []\n",
    "y_pred_bayes_rus_dummy = []\n",
    "y_pred_bayes_nm_dummy = []\n",
    "y_pred_bayes_ros_dummy = []\n",
    "y_pred_bayes_sm_dummy = []"
   ]
  },
  {
   "cell_type": "code",
   "execution_count": 105,
   "metadata": {},
   "outputs": [],
   "source": [
    "def artist_dummy(empty_list, y_test):\n",
    "    ''' converts artist names to 0 and 1\n",
    "    \n",
    "        Parameters: artist names\n",
    "        Returns: 0 and 1 instead of artist names\n",
    "    '''\n",
    "    for i in y_test:\n",
    "        if i == 'Aretha Franklin':\n",
    "            empty_list.append(0)\n",
    "        else:\n",
    "            empty_list.append(1)\n",
    "    \n",
    "    #return empty_list\n"
   ]
  },
  {
   "cell_type": "code",
   "execution_count": 106,
   "metadata": {},
   "outputs": [],
   "source": [
    "artist_dummy(y_test_dummy, y_test)\n",
    "artist_dummy(y_pred_forest_vec_dummy, y_pred_forest_vec)\n",
    "artist_dummy(y_pred_forest_rus_dummy, y_pred_forest_rus)\n",
    "artist_dummy(y_pred_forest_nm_dummy, y_pred_forest_nm)\n",
    "artist_dummy(y_pred_forest_ros_dummy, y_pred_forest_ros)\n",
    "artist_dummy(y_pred_forest_sm_dummy, y_pred_forest_sm)\n",
    "artist_dummy(y_pred_bayes_vec_dummy, y_pred_bayes_vec)\n",
    "artist_dummy(y_pred_bayes_rus_dummy, y_pred_bayes_rus)\n",
    "artist_dummy(y_pred_bayes_nm_dummy, y_pred_bayes_nm)\n",
    "artist_dummy(y_pred_bayes_ros_dummy, y_pred_bayes_ros)\n",
    "artist_dummy(y_pred_bayes_sm_dummy, y_pred_bayes_sm)"
   ]
  },
  {
   "cell_type": "code",
   "execution_count": 107,
   "metadata": {},
   "outputs": [],
   "source": [
    "def print_evaluations(ytrue, ypred, model):\n",
    "    '''\n",
    "    Prints evaluation metrics for a specified model.\n",
    "    '''\n",
    "    print(f'How does model {model} score:')\n",
    "    print(f'The accuracy of the model is: {round(accuracy_score(ytrue, ypred), 3)}')\n",
    "    print(f'The precision of the model is: {round(precision_score(ytrue, ypred), 3)}')\n",
    "    print(f'The recall of the model is: {round(recall_score(ytrue, ypred), 3)}')\n",
    "    print(f'The f1-score of the model is: {round(f1_score(ytrue, ypred), 3)}')"
   ]
  },
  {
   "cell_type": "markdown",
   "metadata": {},
   "source": [
    "###  Comparison between Random Forest and Naive Bayes Model with unbalanced data:"
   ]
  },
  {
   "cell_type": "code",
   "execution_count": 108,
   "metadata": {
    "scrolled": true
   },
   "outputs": [
    {
     "name": "stdout",
     "output_type": "stream",
     "text": [
      "How does model RandomForest score:\n",
      "The accuracy of the model is: 0.863\n",
      "The precision of the model is: 0.867\n",
      "The recall of the model is: 0.892\n",
      "The f1-score of the model is: 0.879\n"
     ]
    }
   ],
   "source": [
    "print_evaluations(y_test_dummy, y_pred_forest_vec_dummy, 'RandomForest')"
   ]
  },
  {
   "cell_type": "code",
   "execution_count": 111,
   "metadata": {},
   "outputs": [
    {
     "name": "stdout",
     "output_type": "stream",
     "text": [
      "How does model NaiveBayes score:\n",
      "The accuracy of the model is: 0.831\n",
      "The precision of the model is: 0.888\n",
      "The recall of the model is: 0.799\n",
      "The f1-score of the model is: 0.841\n"
     ]
    }
   ],
   "source": [
    "print_evaluations(y_test_dummy, y_pred_bayes_vec_dummy, 'NaiveBayes')"
   ]
  },
  {
   "cell_type": "markdown",
   "metadata": {},
   "source": [
    "### RandomForest model results in higher\n",
    "* accuracy score (0.86 vs 0.83)\n",
    "* recall score (0.89 vs 0.80)\n",
    "* F1 score (0.88 vs 0.84)\n",
    "\n",
    "### Naive Bayes model results in higher\n",
    "* precision score (0.87 vs 0.89)\n",
    "* however both model have very high recall score\n",
    "\n",
    "-> Random Forest!"
   ]
  },
  {
   "cell_type": "markdown",
   "metadata": {},
   "source": [
    "### Comparison between different balancing techniques and Random Forest model:"
   ]
  },
  {
   "cell_type": "code",
   "execution_count": 112,
   "metadata": {},
   "outputs": [
    {
     "name": "stdout",
     "output_type": "stream",
     "text": [
      "How does model RandomForest score:\n",
      "The accuracy of the model is: 0.863\n",
      "The precision of the model is: 0.867\n",
      "The recall of the model is: 0.892\n",
      "The f1-score of the model is: 0.879\n"
     ]
    }
   ],
   "source": [
    "print_evaluations(y_test_dummy, y_pred_forest_vec_dummy, 'RandomForest')"
   ]
  },
  {
   "cell_type": "code",
   "execution_count": 113,
   "metadata": {},
   "outputs": [
    {
     "name": "stdout",
     "output_type": "stream",
     "text": [
      "How does model RandomForest, undersampled score:\n",
      "The accuracy of the model is: 0.863\n",
      "The precision of the model is: 0.867\n",
      "The recall of the model is: 0.892\n",
      "The f1-score of the model is: 0.879\n"
     ]
    }
   ],
   "source": [
    "print_evaluations(y_test_dummy, y_pred_forest_rus_dummy, 'RandomForest, undersampled')"
   ]
  },
  {
   "cell_type": "code",
   "execution_count": 114,
   "metadata": {},
   "outputs": [
    {
     "name": "stdout",
     "output_type": "stream",
     "text": [
      "How does model RandomForest, near miss score:\n",
      "The accuracy of the model is: 0.863\n",
      "The precision of the model is: 0.867\n",
      "The recall of the model is: 0.892\n",
      "The f1-score of the model is: 0.879\n"
     ]
    }
   ],
   "source": [
    "print_evaluations(y_test_dummy, y_pred_forest_nm_dummy, 'RandomForest, near miss')"
   ]
  },
  {
   "cell_type": "code",
   "execution_count": 115,
   "metadata": {},
   "outputs": [
    {
     "name": "stdout",
     "output_type": "stream",
     "text": [
      "How does model RandomForest, oversampled score:\n",
      "The accuracy of the model is: 0.863\n",
      "The precision of the model is: 0.867\n",
      "The recall of the model is: 0.892\n",
      "The f1-score of the model is: 0.879\n"
     ]
    }
   ],
   "source": [
    "print_evaluations(y_test_dummy, y_pred_forest_ros_dummy, 'RandomForest, oversampled')"
   ]
  },
  {
   "cell_type": "code",
   "execution_count": 116,
   "metadata": {},
   "outputs": [
    {
     "name": "stdout",
     "output_type": "stream",
     "text": [
      "How does model RandomForest, smote score:\n",
      "The accuracy of the model is: 0.863\n",
      "The precision of the model is: 0.867\n",
      "The recall of the model is: 0.892\n",
      "The f1-score of the model is: 0.879\n"
     ]
    }
   ],
   "source": [
    "print_evaluations(y_test_dummy, y_pred_forest_sm_dummy, 'RandomForest, smote')"
   ]
  },
  {
   "cell_type": "markdown",
   "metadata": {},
   "source": [
    "### Comparison between different balancing techniques and Naive Bayes model:"
   ]
  },
  {
   "cell_type": "code",
   "execution_count": 119,
   "metadata": {},
   "outputs": [
    {
     "name": "stdout",
     "output_type": "stream",
     "text": [
      "How does model NaiveBayes score:\n",
      "The accuracy of the model is: 0.831\n",
      "The precision of the model is: 0.888\n",
      "The recall of the model is: 0.799\n",
      "The f1-score of the model is: 0.841\n"
     ]
    }
   ],
   "source": [
    "print_evaluations(y_test_dummy, y_pred_bayes_vec_dummy, 'NaiveBayes')"
   ]
  },
  {
   "cell_type": "code",
   "execution_count": 120,
   "metadata": {},
   "outputs": [
    {
     "name": "stdout",
     "output_type": "stream",
     "text": [
      "How does model NaiveBayes, undersampled score:\n",
      "The accuracy of the model is: 0.831\n",
      "The precision of the model is: 0.888\n",
      "The recall of the model is: 0.799\n",
      "The f1-score of the model is: 0.841\n"
     ]
    }
   ],
   "source": [
    "print_evaluations(y_test_dummy, y_pred_bayes_rus_dummy, 'NaiveBayes, undersampled')"
   ]
  },
  {
   "cell_type": "code",
   "execution_count": 121,
   "metadata": {},
   "outputs": [
    {
     "name": "stdout",
     "output_type": "stream",
     "text": [
      "How does model NaiveBayes, near miss score:\n",
      "The accuracy of the model is: 0.831\n",
      "The precision of the model is: 0.888\n",
      "The recall of the model is: 0.799\n",
      "The f1-score of the model is: 0.841\n"
     ]
    }
   ],
   "source": [
    "print_evaluations(y_test_dummy, y_pred_bayes_nm_dummy, 'NaiveBayes, near miss')"
   ]
  },
  {
   "cell_type": "code",
   "execution_count": 122,
   "metadata": {},
   "outputs": [
    {
     "name": "stdout",
     "output_type": "stream",
     "text": [
      "How does model NaiveBayes, oversampled score:\n",
      "The accuracy of the model is: 0.831\n",
      "The precision of the model is: 0.888\n",
      "The recall of the model is: 0.799\n",
      "The f1-score of the model is: 0.841\n"
     ]
    }
   ],
   "source": [
    "print_evaluations(y_test_dummy, y_pred_bayes_ros_dummy, 'NaiveBayes, oversampled')"
   ]
  },
  {
   "cell_type": "code",
   "execution_count": 123,
   "metadata": {},
   "outputs": [
    {
     "name": "stdout",
     "output_type": "stream",
     "text": [
      "How does model NaiveBayes, smote score:\n",
      "The accuracy of the model is: 0.831\n",
      "The precision of the model is: 0.888\n",
      "The recall of the model is: 0.799\n",
      "The f1-score of the model is: 0.841\n"
     ]
    }
   ],
   "source": [
    "print_evaluations(y_test_dummy, y_pred_bayes_sm_dummy, 'NaiveBayes, smote')"
   ]
  },
  {
   "cell_type": "markdown",
   "metadata": {},
   "source": [
    "### Step 7: Build command line interface\n",
    "\n",
    "* clean up code: make functions, make sure it runs top-to-bottom\n",
    "* Use the Download button in the menu to export the code to a .py file\n",
    "* Open the file in an editor\n",
    "    * Clean up unnecessary lines\n",
    "    * Place all import statements on top\n",
    "    * Place all constants after the imports (in capitals)\n",
    "    * Place functions after the constants\n",
    "    * Check whether the code still runs\n",
    "* Alternative: terminal: touch lyrics_classifier.py -> copy and paste the python code (before shift M to have everything in one cell)\n",
    "* add: if __name__ == '__main__' at the bottom of the script but before the output statements\n",
    "* add: print('Please enter some lyrics: ')\n",
    "       user_input = input()    \n",
    "* save changes in Atom\n",
    "* terminal: python lyrics_classifier -> type in lyrics -> receive prediction  "
   ]
  },
  {
   "cell_type": "code",
   "execution_count": null,
   "metadata": {},
   "outputs": [],
   "source": []
  },
  {
   "cell_type": "code",
   "execution_count": null,
   "metadata": {},
   "outputs": [],
   "source": []
  },
  {
   "cell_type": "code",
   "execution_count": null,
   "metadata": {},
   "outputs": [],
   "source": []
  }
 ],
 "metadata": {
  "kernelspec": {
   "display_name": "Python 3",
   "language": "python",
   "name": "python3"
  },
  "language_info": {
   "codemirror_mode": {
    "name": "ipython",
    "version": 3
   },
   "file_extension": ".py",
   "mimetype": "text/x-python",
   "name": "python",
   "nbconvert_exporter": "python",
   "pygments_lexer": "ipython3",
   "version": "3.7.6"
  }
 },
 "nbformat": 4,
 "nbformat_minor": 4
}
