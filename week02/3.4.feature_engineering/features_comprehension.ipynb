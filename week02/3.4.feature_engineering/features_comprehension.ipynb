{
 "cells": [
  {
   "cell_type": "markdown",
   "metadata": {},
   "source": [
    "# imputation : fill missing values"
   ]
  },
  {
   "cell_type": "code",
   "execution_count": 1,
   "metadata": {},
   "outputs": [],
   "source": [
    "import numpy as np\n",
    "import pandas as pd\n",
    "import seaborn as sns\n",
    "from matplotlib import pyplot as plt\n",
    "%matplotlib inline"
   ]
  },
  {
   "cell_type": "code",
   "execution_count": 2,
   "metadata": {},
   "outputs": [
    {
     "data": {
      "text/plain": [
       "'C:\\\\Users\\\\Asus\\\\Desktop\\\\spiced.python'"
      ]
     },
     "execution_count": 2,
     "metadata": {},
     "output_type": "execute_result"
    }
   ],
   "source": [
    "pwd"
   ]
  },
  {
   "cell_type": "code",
   "execution_count": 5,
   "metadata": {},
   "outputs": [],
   "source": [
    "df = pd.read_csv(\"all_penguins_clean.csv\", index_col=0)"
   ]
  },
  {
   "cell_type": "code",
   "execution_count": 19,
   "metadata": {},
   "outputs": [
    {
     "data": {
      "text/html": [
       "<div>\n",
       "<style scoped>\n",
       "    .dataframe tbody tr th:only-of-type {\n",
       "        vertical-align: middle;\n",
       "    }\n",
       "\n",
       "    .dataframe tbody tr th {\n",
       "        vertical-align: top;\n",
       "    }\n",
       "\n",
       "    .dataframe thead th {\n",
       "        text-align: right;\n",
       "    }\n",
       "</style>\n",
       "<table border=\"1\" class=\"dataframe\">\n",
       "  <thead>\n",
       "    <tr style=\"text-align: right;\">\n",
       "      <th></th>\n",
       "      <th>Sample Number</th>\n",
       "      <th>Species</th>\n",
       "      <th>Region</th>\n",
       "      <th>Island</th>\n",
       "      <th>Stage</th>\n",
       "      <th>Individual ID</th>\n",
       "      <th>Clutch Completion</th>\n",
       "      <th>Date Egg</th>\n",
       "      <th>Culmen Length (mm)</th>\n",
       "      <th>Culmen Depth (mm)</th>\n",
       "      <th>Flipper Length (mm)</th>\n",
       "      <th>Body Mass (g)</th>\n",
       "      <th>Real ID</th>\n",
       "      <th>Sex</th>\n",
       "    </tr>\n",
       "    <tr>\n",
       "      <th>studyName</th>\n",
       "      <th></th>\n",
       "      <th></th>\n",
       "      <th></th>\n",
       "      <th></th>\n",
       "      <th></th>\n",
       "      <th></th>\n",
       "      <th></th>\n",
       "      <th></th>\n",
       "      <th></th>\n",
       "      <th></th>\n",
       "      <th></th>\n",
       "      <th></th>\n",
       "      <th></th>\n",
       "      <th></th>\n",
       "    </tr>\n",
       "  </thead>\n",
       "  <tbody>\n",
       "    <tr>\n",
       "      <th>PAL0708</th>\n",
       "      <td>1</td>\n",
       "      <td>Adelie</td>\n",
       "      <td>Anvers</td>\n",
       "      <td>Torgersen</td>\n",
       "      <td>Adult, 1 Egg Stage</td>\n",
       "      <td>N1A1</td>\n",
       "      <td>Yes</td>\n",
       "      <td>11/11/07</td>\n",
       "      <td>39.1</td>\n",
       "      <td>18.7</td>\n",
       "      <td>181.0</td>\n",
       "      <td>3750.0</td>\n",
       "      <td>A_0</td>\n",
       "      <td>MALE</td>\n",
       "    </tr>\n",
       "    <tr>\n",
       "      <th>PAL0708</th>\n",
       "      <td>2</td>\n",
       "      <td>Adelie</td>\n",
       "      <td>Anvers</td>\n",
       "      <td>Torgersen</td>\n",
       "      <td>Adult, 1 Egg Stage</td>\n",
       "      <td>N1A2</td>\n",
       "      <td>Yes</td>\n",
       "      <td>11/11/07</td>\n",
       "      <td>39.5</td>\n",
       "      <td>17.4</td>\n",
       "      <td>186.0</td>\n",
       "      <td>3800.0</td>\n",
       "      <td>A_1</td>\n",
       "      <td>FEMALE</td>\n",
       "    </tr>\n",
       "    <tr>\n",
       "      <th>PAL0708</th>\n",
       "      <td>3</td>\n",
       "      <td>Adelie</td>\n",
       "      <td>Anvers</td>\n",
       "      <td>Torgersen</td>\n",
       "      <td>Adult, 1 Egg Stage</td>\n",
       "      <td>N2A1</td>\n",
       "      <td>Yes</td>\n",
       "      <td>11/16/07</td>\n",
       "      <td>40.3</td>\n",
       "      <td>18.0</td>\n",
       "      <td>195.0</td>\n",
       "      <td>3250.0</td>\n",
       "      <td>A_2</td>\n",
       "      <td>FEMALE</td>\n",
       "    </tr>\n",
       "  </tbody>\n",
       "</table>\n",
       "</div>"
      ],
      "text/plain": [
       "           Sample Number Species  Region     Island               Stage  \\\n",
       "studyName                                                                 \n",
       "PAL0708                1  Adelie  Anvers  Torgersen  Adult, 1 Egg Stage   \n",
       "PAL0708                2  Adelie  Anvers  Torgersen  Adult, 1 Egg Stage   \n",
       "PAL0708                3  Adelie  Anvers  Torgersen  Adult, 1 Egg Stage   \n",
       "\n",
       "          Individual ID Clutch Completion  Date Egg  Culmen Length (mm)  \\\n",
       "studyName                                                                 \n",
       "PAL0708            N1A1               Yes  11/11/07                39.1   \n",
       "PAL0708            N1A2               Yes  11/11/07                39.5   \n",
       "PAL0708            N2A1               Yes  11/16/07                40.3   \n",
       "\n",
       "           Culmen Depth (mm)  Flipper Length (mm)  Body Mass (g) Real ID  \\\n",
       "studyName                                                                  \n",
       "PAL0708                 18.7                181.0         3750.0     A_0   \n",
       "PAL0708                 17.4                186.0         3800.0     A_1   \n",
       "PAL0708                 18.0                195.0         3250.0     A_2   \n",
       "\n",
       "              Sex  \n",
       "studyName          \n",
       "PAL0708      MALE  \n",
       "PAL0708    FEMALE  \n",
       "PAL0708    FEMALE  "
      ]
     },
     "execution_count": 19,
     "metadata": {},
     "output_type": "execute_result"
    }
   ],
   "source": [
    "df.head(3)"
   ]
  },
  {
   "cell_type": "code",
   "execution_count": 7,
   "metadata": {},
   "outputs": [
    {
     "data": {
      "text/plain": [
       "(344, 14)"
      ]
     },
     "execution_count": 7,
     "metadata": {},
     "output_type": "execute_result"
    }
   ],
   "source": [
    "df.shape"
   ]
  },
  {
   "cell_type": "code",
   "execution_count": 8,
   "metadata": {
    "collapsed": true
   },
   "outputs": [
    {
     "data": {
      "text/plain": [
       "<bound method DataFrame.isna of            Sample Number Species  Region     Island               Stage  \\\n",
       "studyName                                                                 \n",
       "PAL0708                1  Adelie  Anvers  Torgersen  Adult, 1 Egg Stage   \n",
       "PAL0708                2  Adelie  Anvers  Torgersen  Adult, 1 Egg Stage   \n",
       "PAL0708                3  Adelie  Anvers  Torgersen  Adult, 1 Egg Stage   \n",
       "PAL0708                4  Adelie  Anvers  Torgersen  Adult, 1 Egg Stage   \n",
       "PAL0708                5  Adelie  Anvers  Torgersen  Adult, 1 Egg Stage   \n",
       "...                  ...     ...     ...        ...                 ...   \n",
       "PAL0910              120  Gentoo  Anvers     Biscoe  Adult, 1 Egg Stage   \n",
       "PAL0910              121  Gentoo  Anvers     Biscoe  Adult, 1 Egg Stage   \n",
       "PAL0910              122  Gentoo  Anvers     Biscoe  Adult, 1 Egg Stage   \n",
       "PAL0910              123  Gentoo  Anvers     Biscoe  Adult, 1 Egg Stage   \n",
       "PAL0910              124  Gentoo  Anvers     Biscoe  Adult, 1 Egg Stage   \n",
       "\n",
       "          Individual ID Clutch Completion  Date Egg  Culmen Length (mm)  \\\n",
       "studyName                                                                 \n",
       "PAL0708            N1A1               Yes  11/11/07                39.1   \n",
       "PAL0708            N1A2               Yes  11/11/07                39.5   \n",
       "PAL0708            N2A1               Yes  11/16/07                40.3   \n",
       "PAL0708            N2A2               Yes  11/16/07                 NaN   \n",
       "PAL0708            N3A1               Yes  11/16/07                36.7   \n",
       "...                 ...               ...       ...                 ...   \n",
       "PAL0910           N38A2                No   12/1/09                 NaN   \n",
       "PAL0910           N39A1               Yes  11/22/09                46.8   \n",
       "PAL0910           N39A2               Yes  11/22/09                50.4   \n",
       "PAL0910           N43A1               Yes  11/22/09                45.2   \n",
       "PAL0910           N43A2               Yes  11/22/09                49.9   \n",
       "\n",
       "           Culmen Depth (mm)  Flipper Length (mm)  Body Mass (g) Real ID  \\\n",
       "studyName                                                                  \n",
       "PAL0708                 18.7                181.0         3750.0     A_0   \n",
       "PAL0708                 17.4                186.0         3800.0     A_1   \n",
       "PAL0708                 18.0                195.0         3250.0     A_2   \n",
       "PAL0708                  NaN                  NaN            NaN     A_3   \n",
       "PAL0708                 19.3                193.0         3450.0     A_4   \n",
       "...                      ...                  ...            ...     ...   \n",
       "PAL0910                  NaN                  NaN            NaN   G_339   \n",
       "PAL0910                 14.3                215.0         4850.0   G_340   \n",
       "PAL0910                 15.7                222.0         5750.0   G_341   \n",
       "PAL0910                 14.8                212.0         5200.0   G_342   \n",
       "PAL0910                 16.1                213.0         5400.0   G_343   \n",
       "\n",
       "              Sex  \n",
       "studyName          \n",
       "PAL0708      MALE  \n",
       "PAL0708    FEMALE  \n",
       "PAL0708    FEMALE  \n",
       "PAL0708       NaN  \n",
       "PAL0708    FEMALE  \n",
       "...           ...  \n",
       "PAL0910       NaN  \n",
       "PAL0910    FEMALE  \n",
       "PAL0910      MALE  \n",
       "PAL0910    FEMALE  \n",
       "PAL0910      MALE  \n",
       "\n",
       "[344 rows x 14 columns]>"
      ]
     },
     "execution_count": 8,
     "metadata": {},
     "output_type": "execute_result"
    }
   ],
   "source": [
    "df.isna"
   ]
  },
  {
   "cell_type": "code",
   "execution_count": 9,
   "metadata": {
    "collapsed": true
   },
   "outputs": [
    {
     "data": {
      "text/plain": [
       "Sample Number           0\n",
       "Species                 0\n",
       "Region                  0\n",
       "Island                  0\n",
       "Stage                   0\n",
       "Individual ID           0\n",
       "Clutch Completion       0\n",
       "Date Egg                0\n",
       "Culmen Length (mm)      2\n",
       "Culmen Depth (mm)       2\n",
       "Flipper Length (mm)     2\n",
       "Body Mass (g)           2\n",
       "Real ID                 0\n",
       "Sex                    10\n",
       "dtype: int64"
      ]
     },
     "execution_count": 9,
     "metadata": {},
     "output_type": "execute_result"
    }
   ],
   "source": [
    "df.isna().sum()"
   ]
  },
  {
   "cell_type": "code",
   "execution_count": 10,
   "metadata": {},
   "outputs": [
    {
     "data": {
      "text/plain": [
       "<matplotlib.axes._subplots.AxesSubplot at 0x1c63dd56888>"
      ]
     },
     "execution_count": 10,
     "metadata": {},
     "output_type": "execute_result"
    },
    {
     "data": {
      "image/png": "[encoded data removed]",
      "text/plain": [
       "<Figure size 432x288 with 2 Axes>"
      ]
     },
     "metadata": {
      "needs_background": "light"
     },
     "output_type": "display_data"
    }
   ],
   "source": [
    "sns.heatmap(df.isna())"
   ]
  },
  {
   "cell_type": "code",
   "execution_count": 14,
   "metadata": {},
   "outputs": [
    {
     "data": {
      "text/plain": [
       "MALE      168\n",
       "FEMALE    165\n",
       ".           1\n",
       "Name: Sex, dtype: int64"
      ]
     },
     "execution_count": 14,
     "metadata": {},
     "output_type": "execute_result"
    }
   ],
   "source": [
    "#fix categorical string value\n",
    "df['Sex'].value_counts()"
   ]
  },
  {
   "cell_type": "code",
   "execution_count": 16,
   "metadata": {},
   "outputs": [
    {
     "data": {
      "text/plain": [
       "studyName\n",
       "PAL0708       MALE\n",
       "PAL0708     FEMALE\n",
       "PAL0708     FEMALE\n",
       "PAL0708    MISSING\n",
       "PAL0708     FEMALE\n",
       "            ...   \n",
       "PAL0910    MISSING\n",
       "PAL0910     FEMALE\n",
       "PAL0910       MALE\n",
       "PAL0910     FEMALE\n",
       "PAL0910       MALE\n",
       "Name: Sex, Length: 344, dtype: object"
      ]
     },
     "execution_count": 16,
     "metadata": {},
     "output_type": "execute_result"
    }
   ],
   "source": [
    "df['Sex'].fillna('MISSING') #cretates new column"
   ]
  },
  {
   "cell_type": "code",
   "execution_count": 17,
   "metadata": {},
   "outputs": [],
   "source": [
    "df['Sex'].fillna('MISSING', inplace = True)"
   ]
  },
  {
   "cell_type": "code",
   "execution_count": 24,
   "metadata": {},
   "outputs": [],
   "source": [
    "med = df['Flipper Length (mm)'].median()\n",
    "df['Flipper Length (mm)'].fillna(med,inplace= True)"
   ]
  },
  {
   "cell_type": "markdown",
   "metadata": {},
   "source": [
    "### Other ideas :\n",
    " insert medians by category (seperate median for females/males)  df.groupby().transform()\n",
    " forward/ backward fill/interpolation (time series)\n",
    " K-Nearest Neighbors (finds the next most similar penguin)\n",
    "    "
   ]
  },
  {
   "cell_type": "markdown",
   "metadata": {},
   "source": [
    "# 2.Categories - One- Hot encoding"
   ]
  },
  {
   "cell_type": "code",
   "execution_count": 25,
   "metadata": {
    "collapsed": true
   },
   "outputs": [
    {
     "data": {
      "text/plain": [
       "studyName\n",
       "PAL0708       MALE\n",
       "PAL0708     FEMALE\n",
       "PAL0708     FEMALE\n",
       "PAL0708    MISSING\n",
       "PAL0708     FEMALE\n",
       "            ...   \n",
       "PAL0910    MISSING\n",
       "PAL0910     FEMALE\n",
       "PAL0910       MALE\n",
       "PAL0910     FEMALE\n",
       "PAL0910       MALE\n",
       "Name: Sex, Length: 344, dtype: object"
      ]
     },
     "execution_count": 25,
     "metadata": {},
     "output_type": "execute_result"
    }
   ],
   "source": [
    "df ['Sex'] # male = 0, female = 1, missing = 2 (next row)"
   ]
  },
  {
   "cell_type": "code",
   "execution_count": 27,
   "metadata": {
    "collapsed": true
   },
   "outputs": [
    {
     "data": {
      "text/html": [
       "<div>\n",
       "<style scoped>\n",
       "    .dataframe tbody tr th:only-of-type {\n",
       "        vertical-align: middle;\n",
       "    }\n",
       "\n",
       "    .dataframe tbody tr th {\n",
       "        vertical-align: top;\n",
       "    }\n",
       "\n",
       "    .dataframe thead th {\n",
       "        text-align: right;\n",
       "    }\n",
       "</style>\n",
       "<table border=\"1\" class=\"dataframe\">\n",
       "  <thead>\n",
       "    <tr style=\"text-align: right;\">\n",
       "      <th></th>\n",
       "      <th>.</th>\n",
       "      <th>FEMALE</th>\n",
       "      <th>MALE</th>\n",
       "      <th>MISSING</th>\n",
       "    </tr>\n",
       "    <tr>\n",
       "      <th>studyName</th>\n",
       "      <th></th>\n",
       "      <th></th>\n",
       "      <th></th>\n",
       "      <th></th>\n",
       "    </tr>\n",
       "  </thead>\n",
       "  <tbody>\n",
       "    <tr>\n",
       "      <th>PAL0708</th>\n",
       "      <td>0</td>\n",
       "      <td>0</td>\n",
       "      <td>1</td>\n",
       "      <td>0</td>\n",
       "    </tr>\n",
       "    <tr>\n",
       "      <th>PAL0708</th>\n",
       "      <td>0</td>\n",
       "      <td>1</td>\n",
       "      <td>0</td>\n",
       "      <td>0</td>\n",
       "    </tr>\n",
       "    <tr>\n",
       "      <th>PAL0708</th>\n",
       "      <td>0</td>\n",
       "      <td>1</td>\n",
       "      <td>0</td>\n",
       "      <td>0</td>\n",
       "    </tr>\n",
       "  </tbody>\n",
       "</table>\n",
       "</div>"
      ],
      "text/plain": [
       "           .  FEMALE  MALE  MISSING\n",
       "studyName                          \n",
       "PAL0708    0       0     1        0\n",
       "PAL0708    0       1     0        0\n",
       "PAL0708    0       1     0        0"
      ]
     },
     "execution_count": 27,
     "metadata": {},
     "output_type": "execute_result"
    }
   ],
   "source": [
    "onehot = pd.get_dummies(df['Sex'])\n",
    "onehot.head(3)\n"
   ]
  },
  {
   "cell_type": "code",
   "execution_count": 30,
   "metadata": {},
   "outputs": [
    {
     "data": {
      "text/html": [
       "<div>\n",
       "<style scoped>\n",
       "    .dataframe tbody tr th:only-of-type {\n",
       "        vertical-align: middle;\n",
       "    }\n",
       "\n",
       "    .dataframe tbody tr th {\n",
       "        vertical-align: top;\n",
       "    }\n",
       "\n",
       "    .dataframe thead th {\n",
       "        text-align: right;\n",
       "    }\n",
       "</style>\n",
       "<table border=\"1\" class=\"dataframe\">\n",
       "  <thead>\n",
       "    <tr style=\"text-align: right;\">\n",
       "      <th></th>\n",
       "      <th>Sample Number</th>\n",
       "      <th>Species</th>\n",
       "      <th>Region</th>\n",
       "      <th>Island</th>\n",
       "      <th>Stage</th>\n",
       "      <th>Individual ID</th>\n",
       "      <th>Clutch Completion</th>\n",
       "      <th>Date Egg</th>\n",
       "      <th>Culmen Length (mm)</th>\n",
       "      <th>Culmen Depth (mm)</th>\n",
       "      <th>Flipper Length (mm)</th>\n",
       "      <th>Body Mass (g)</th>\n",
       "      <th>Real ID</th>\n",
       "      <th>Sex</th>\n",
       "      <th>.</th>\n",
       "      <th>FEMALE</th>\n",
       "      <th>MALE</th>\n",
       "      <th>MISSING</th>\n",
       "    </tr>\n",
       "    <tr>\n",
       "      <th>studyName</th>\n",
       "      <th></th>\n",
       "      <th></th>\n",
       "      <th></th>\n",
       "      <th></th>\n",
       "      <th></th>\n",
       "      <th></th>\n",
       "      <th></th>\n",
       "      <th></th>\n",
       "      <th></th>\n",
       "      <th></th>\n",
       "      <th></th>\n",
       "      <th></th>\n",
       "      <th></th>\n",
       "      <th></th>\n",
       "      <th></th>\n",
       "      <th></th>\n",
       "      <th></th>\n",
       "      <th></th>\n",
       "    </tr>\n",
       "  </thead>\n",
       "  <tbody>\n",
       "    <tr>\n",
       "      <th>PAL0708</th>\n",
       "      <td>1.0</td>\n",
       "      <td>Adelie</td>\n",
       "      <td>Anvers</td>\n",
       "      <td>Torgersen</td>\n",
       "      <td>Adult, 1 Egg Stage</td>\n",
       "      <td>N1A1</td>\n",
       "      <td>Yes</td>\n",
       "      <td>11/11/07</td>\n",
       "      <td>39.1</td>\n",
       "      <td>18.7</td>\n",
       "      <td>181.0</td>\n",
       "      <td>3750.0</td>\n",
       "      <td>A_0</td>\n",
       "      <td>MALE</td>\n",
       "      <td>NaN</td>\n",
       "      <td>NaN</td>\n",
       "      <td>NaN</td>\n",
       "      <td>NaN</td>\n",
       "    </tr>\n",
       "    <tr>\n",
       "      <th>PAL0708</th>\n",
       "      <td>2.0</td>\n",
       "      <td>Adelie</td>\n",
       "      <td>Anvers</td>\n",
       "      <td>Torgersen</td>\n",
       "      <td>Adult, 1 Egg Stage</td>\n",
       "      <td>N1A2</td>\n",
       "      <td>Yes</td>\n",
       "      <td>11/11/07</td>\n",
       "      <td>39.5</td>\n",
       "      <td>17.4</td>\n",
       "      <td>186.0</td>\n",
       "      <td>3800.0</td>\n",
       "      <td>A_1</td>\n",
       "      <td>FEMALE</td>\n",
       "      <td>NaN</td>\n",
       "      <td>NaN</td>\n",
       "      <td>NaN</td>\n",
       "      <td>NaN</td>\n",
       "    </tr>\n",
       "    <tr>\n",
       "      <th>PAL0708</th>\n",
       "      <td>3.0</td>\n",
       "      <td>Adelie</td>\n",
       "      <td>Anvers</td>\n",
       "      <td>Torgersen</td>\n",
       "      <td>Adult, 1 Egg Stage</td>\n",
       "      <td>N2A1</td>\n",
       "      <td>Yes</td>\n",
       "      <td>11/16/07</td>\n",
       "      <td>40.3</td>\n",
       "      <td>18.0</td>\n",
       "      <td>195.0</td>\n",
       "      <td>3250.0</td>\n",
       "      <td>A_2</td>\n",
       "      <td>FEMALE</td>\n",
       "      <td>NaN</td>\n",
       "      <td>NaN</td>\n",
       "      <td>NaN</td>\n",
       "      <td>NaN</td>\n",
       "    </tr>\n",
       "    <tr>\n",
       "      <th>PAL0708</th>\n",
       "      <td>4.0</td>\n",
       "      <td>Adelie</td>\n",
       "      <td>Anvers</td>\n",
       "      <td>Torgersen</td>\n",
       "      <td>Adult, 1 Egg Stage</td>\n",
       "      <td>N2A2</td>\n",
       "      <td>Yes</td>\n",
       "      <td>11/16/07</td>\n",
       "      <td>NaN</td>\n",
       "      <td>NaN</td>\n",
       "      <td>197.0</td>\n",
       "      <td>NaN</td>\n",
       "      <td>A_3</td>\n",
       "      <td>MISSING</td>\n",
       "      <td>NaN</td>\n",
       "      <td>NaN</td>\n",
       "      <td>NaN</td>\n",
       "      <td>NaN</td>\n",
       "    </tr>\n",
       "    <tr>\n",
       "      <th>PAL0708</th>\n",
       "      <td>5.0</td>\n",
       "      <td>Adelie</td>\n",
       "      <td>Anvers</td>\n",
       "      <td>Torgersen</td>\n",
       "      <td>Adult, 1 Egg Stage</td>\n",
       "      <td>N3A1</td>\n",
       "      <td>Yes</td>\n",
       "      <td>11/16/07</td>\n",
       "      <td>36.7</td>\n",
       "      <td>19.3</td>\n",
       "      <td>193.0</td>\n",
       "      <td>3450.0</td>\n",
       "      <td>A_4</td>\n",
       "      <td>FEMALE</td>\n",
       "      <td>NaN</td>\n",
       "      <td>NaN</td>\n",
       "      <td>NaN</td>\n",
       "      <td>NaN</td>\n",
       "    </tr>\n",
       "    <tr>\n",
       "      <th>...</th>\n",
       "      <td>...</td>\n",
       "      <td>...</td>\n",
       "      <td>...</td>\n",
       "      <td>...</td>\n",
       "      <td>...</td>\n",
       "      <td>...</td>\n",
       "      <td>...</td>\n",
       "      <td>...</td>\n",
       "      <td>...</td>\n",
       "      <td>...</td>\n",
       "      <td>...</td>\n",
       "      <td>...</td>\n",
       "      <td>...</td>\n",
       "      <td>...</td>\n",
       "      <td>...</td>\n",
       "      <td>...</td>\n",
       "      <td>...</td>\n",
       "      <td>...</td>\n",
       "    </tr>\n",
       "    <tr>\n",
       "      <th>PAL0910</th>\n",
       "      <td>NaN</td>\n",
       "      <td>NaN</td>\n",
       "      <td>NaN</td>\n",
       "      <td>NaN</td>\n",
       "      <td>NaN</td>\n",
       "      <td>NaN</td>\n",
       "      <td>NaN</td>\n",
       "      <td>NaN</td>\n",
       "      <td>NaN</td>\n",
       "      <td>NaN</td>\n",
       "      <td>NaN</td>\n",
       "      <td>NaN</td>\n",
       "      <td>NaN</td>\n",
       "      <td>NaN</td>\n",
       "      <td>0.0</td>\n",
       "      <td>0.0</td>\n",
       "      <td>0.0</td>\n",
       "      <td>1.0</td>\n",
       "    </tr>\n",
       "    <tr>\n",
       "      <th>PAL0910</th>\n",
       "      <td>NaN</td>\n",
       "      <td>NaN</td>\n",
       "      <td>NaN</td>\n",
       "      <td>NaN</td>\n",
       "      <td>NaN</td>\n",
       "      <td>NaN</td>\n",
       "      <td>NaN</td>\n",
       "      <td>NaN</td>\n",
       "      <td>NaN</td>\n",
       "      <td>NaN</td>\n",
       "      <td>NaN</td>\n",
       "      <td>NaN</td>\n",
       "      <td>NaN</td>\n",
       "      <td>NaN</td>\n",
       "      <td>0.0</td>\n",
       "      <td>1.0</td>\n",
       "      <td>0.0</td>\n",
       "      <td>0.0</td>\n",
       "    </tr>\n",
       "    <tr>\n",
       "      <th>PAL0910</th>\n",
       "      <td>NaN</td>\n",
       "      <td>NaN</td>\n",
       "      <td>NaN</td>\n",
       "      <td>NaN</td>\n",
       "      <td>NaN</td>\n",
       "      <td>NaN</td>\n",
       "      <td>NaN</td>\n",
       "      <td>NaN</td>\n",
       "      <td>NaN</td>\n",
       "      <td>NaN</td>\n",
       "      <td>NaN</td>\n",
       "      <td>NaN</td>\n",
       "      <td>NaN</td>\n",
       "      <td>NaN</td>\n",
       "      <td>0.0</td>\n",
       "      <td>0.0</td>\n",
       "      <td>1.0</td>\n",
       "      <td>0.0</td>\n",
       "    </tr>\n",
       "    <tr>\n",
       "      <th>PAL0910</th>\n",
       "      <td>NaN</td>\n",
       "      <td>NaN</td>\n",
       "      <td>NaN</td>\n",
       "      <td>NaN</td>\n",
       "      <td>NaN</td>\n",
       "      <td>NaN</td>\n",
       "      <td>NaN</td>\n",
       "      <td>NaN</td>\n",
       "      <td>NaN</td>\n",
       "      <td>NaN</td>\n",
       "      <td>NaN</td>\n",
       "      <td>NaN</td>\n",
       "      <td>NaN</td>\n",
       "      <td>NaN</td>\n",
       "      <td>0.0</td>\n",
       "      <td>1.0</td>\n",
       "      <td>0.0</td>\n",
       "      <td>0.0</td>\n",
       "    </tr>\n",
       "    <tr>\n",
       "      <th>PAL0910</th>\n",
       "      <td>NaN</td>\n",
       "      <td>NaN</td>\n",
       "      <td>NaN</td>\n",
       "      <td>NaN</td>\n",
       "      <td>NaN</td>\n",
       "      <td>NaN</td>\n",
       "      <td>NaN</td>\n",
       "      <td>NaN</td>\n",
       "      <td>NaN</td>\n",
       "      <td>NaN</td>\n",
       "      <td>NaN</td>\n",
       "      <td>NaN</td>\n",
       "      <td>NaN</td>\n",
       "      <td>NaN</td>\n",
       "      <td>0.0</td>\n",
       "      <td>0.0</td>\n",
       "      <td>1.0</td>\n",
       "      <td>0.0</td>\n",
       "    </tr>\n",
       "  </tbody>\n",
       "</table>\n",
       "<p>688 rows × 18 columns</p>\n",
       "</div>"
      ],
      "text/plain": [
       "           Sample Number Species  Region     Island               Stage  \\\n",
       "studyName                                                                 \n",
       "PAL0708              1.0  Adelie  Anvers  Torgersen  Adult, 1 Egg Stage   \n",
       "PAL0708              2.0  Adelie  Anvers  Torgersen  Adult, 1 Egg Stage   \n",
       "PAL0708              3.0  Adelie  Anvers  Torgersen  Adult, 1 Egg Stage   \n",
       "PAL0708              4.0  Adelie  Anvers  Torgersen  Adult, 1 Egg Stage   \n",
       "PAL0708              5.0  Adelie  Anvers  Torgersen  Adult, 1 Egg Stage   \n",
       "...                  ...     ...     ...        ...                 ...   \n",
       "PAL0910              NaN     NaN     NaN        NaN                 NaN   \n",
       "PAL0910              NaN     NaN     NaN        NaN                 NaN   \n",
       "PAL0910              NaN     NaN     NaN        NaN                 NaN   \n",
       "PAL0910              NaN     NaN     NaN        NaN                 NaN   \n",
       "PAL0910              NaN     NaN     NaN        NaN                 NaN   \n",
       "\n",
       "          Individual ID Clutch Completion  Date Egg  Culmen Length (mm)  \\\n",
       "studyName                                                                 \n",
       "PAL0708            N1A1               Yes  11/11/07                39.1   \n",
       "PAL0708            N1A2               Yes  11/11/07                39.5   \n",
       "PAL0708            N2A1               Yes  11/16/07                40.3   \n",
       "PAL0708            N2A2               Yes  11/16/07                 NaN   \n",
       "PAL0708            N3A1               Yes  11/16/07                36.7   \n",
       "...                 ...               ...       ...                 ...   \n",
       "PAL0910             NaN               NaN       NaN                 NaN   \n",
       "PAL0910             NaN               NaN       NaN                 NaN   \n",
       "PAL0910             NaN               NaN       NaN                 NaN   \n",
       "PAL0910             NaN               NaN       NaN                 NaN   \n",
       "PAL0910             NaN               NaN       NaN                 NaN   \n",
       "\n",
       "           Culmen Depth (mm)  Flipper Length (mm)  Body Mass (g) Real ID  \\\n",
       "studyName                                                                  \n",
       "PAL0708                 18.7                181.0         3750.0     A_0   \n",
       "PAL0708                 17.4                186.0         3800.0     A_1   \n",
       "PAL0708                 18.0                195.0         3250.0     A_2   \n",
       "PAL0708                  NaN                197.0            NaN     A_3   \n",
       "PAL0708                 19.3                193.0         3450.0     A_4   \n",
       "...                      ...                  ...            ...     ...   \n",
       "PAL0910                  NaN                  NaN            NaN     NaN   \n",
       "PAL0910                  NaN                  NaN            NaN     NaN   \n",
       "PAL0910                  NaN                  NaN            NaN     NaN   \n",
       "PAL0910                  NaN                  NaN            NaN     NaN   \n",
       "PAL0910                  NaN                  NaN            NaN     NaN   \n",
       "\n",
       "               Sex    .  FEMALE  MALE  MISSING  \n",
       "studyName                                       \n",
       "PAL0708       MALE  NaN     NaN   NaN      NaN  \n",
       "PAL0708     FEMALE  NaN     NaN   NaN      NaN  \n",
       "PAL0708     FEMALE  NaN     NaN   NaN      NaN  \n",
       "PAL0708    MISSING  NaN     NaN   NaN      NaN  \n",
       "PAL0708     FEMALE  NaN     NaN   NaN      NaN  \n",
       "...            ...  ...     ...   ...      ...  \n",
       "PAL0910        NaN  0.0     0.0   0.0      1.0  \n",
       "PAL0910        NaN  0.0     1.0   0.0      0.0  \n",
       "PAL0910        NaN  0.0     0.0   1.0      0.0  \n",
       "PAL0910        NaN  0.0     1.0   0.0      0.0  \n",
       "PAL0910        NaN  0.0     0.0   1.0      0.0  \n",
       "\n",
       "[688 rows x 18 columns]"
      ]
     },
     "execution_count": 30,
     "metadata": {},
     "output_type": "execute_result"
    }
   ],
   "source": [
    "df2 = pd.concat([df, onehot], axis=0)\n",
    "df2.head(3)\n",
    "# pro tip = leave out 1 column, because it is redundant\n",
    "del df2['.']"
   ]
  },
  {
   "cell_type": "markdown",
   "metadata": {},
   "source": [
    "### 3.Binning\n",
    "scalar -> category"
   ]
  },
  {
   "cell_type": "code",
   "execution_count": 33,
   "metadata": {},
   "outputs": [],
   "source": [
    "df['Body Mass (g)'].fillna(3000.0, inplace= True)\n"
   ]
  },
  {
   "cell_type": "code",
   "execution_count": 34,
   "metadata": {},
   "outputs": [
    {
     "data": {
      "text/plain": [
       "studyName\n",
       "PAL0708    (3700.0, 4533.333]\n",
       "PAL0708    (3700.0, 4533.333]\n",
       "PAL0708    (2699.999, 3700.0]\n",
       "PAL0708    (2699.999, 3700.0]\n",
       "PAL0708    (2699.999, 3700.0]\n",
       "                  ...        \n",
       "PAL0910    (2699.999, 3700.0]\n",
       "PAL0910    (4533.333, 6300.0]\n",
       "PAL0910    (4533.333, 6300.0]\n",
       "PAL0910    (4533.333, 6300.0]\n",
       "PAL0910    (4533.333, 6300.0]\n",
       "Name: Body Mass (g), Length: 344, dtype: category\n",
       "Categories (3, interval[float64]): [(2699.999, 3700.0] < (3700.0, 4533.333] < (4533.333, 6300.0]]"
      ]
     },
     "execution_count": 34,
     "metadata": {},
     "output_type": "execute_result"
    }
   ],
   "source": [
    "pd.qcut(df['Body Mass (g)'], q=3) #column, number of bins"
   ]
  },
  {
   "cell_type": "code",
   "execution_count": 37,
   "metadata": {},
   "outputs": [
    {
     "data": {
      "text/plain": [
       "studyName\n",
       "PAL0708    medium\n",
       "PAL0708    medium\n",
       "PAL0708     light\n",
       "Name: weight, dtype: category\n",
       "Categories (3, object): [light < medium < heavy]"
      ]
     },
     "execution_count": 37,
     "metadata": {},
     "output_type": "execute_result"
    }
   ],
   "source": [
    "df['weight']=pd.qcut(df['Body Mass (g)'], q=3, labels=['light', 'medium', 'heavy'])\n",
    "df['weight'].head(3)"
   ]
  },
  {
   "cell_type": "code",
   "execution_count": null,
   "metadata": {},
   "outputs": [],
   "source": [
    "# next step: one-hot encope -> 3 binary columns "
   ]
  },
  {
   "cell_type": "code",
   "execution_count": null,
   "metadata": {},
   "outputs": [],
   "source": [
    "alternatives\n",
    " pd.cut #bins of equal width\n",
    " set bin boundaires manually in pd.cur or pd.qcut\n"
   ]
  },
  {
   "cell_type": "code",
   "execution_count": 38,
   "metadata": {},
   "outputs": [
    {
     "data": {
      "text/plain": [
       "Species\n",
       "Adelie       AxesSubplot(0.125,0.125;0.775x0.755)\n",
       "Chinstrap    AxesSubplot(0.125,0.125;0.775x0.755)\n",
       "Gentoo       AxesSubplot(0.125,0.125;0.775x0.755)\n",
       "Name: Body Mass (g), dtype: object"
      ]
     },
     "execution_count": 38,
     "metadata": {},
     "output_type": "execute_result"
    },
    {
     "data": {
      "image/png": "[encoded data removed]",
      "text/plain": [
       "<Figure size 432x288 with 1 Axes>"
      ]
     },
     "metadata": {
      "needs_background": "light"
     },
     "output_type": "display_data"
    }
   ],
   "source": [
    "df.groupby('Species')['Body Mass (g)'].hist(bins= 20 , alpha= 0.5)"
   ]
  },
  {
   "cell_type": "markdown",
   "metadata": {},
   "source": [
    "### 4.Normalization\n",
    "\n",
    "Change the range and/or distrubiton of values\n",
    "Examples :\n",
    "* log-scale\n",
    "* rescale to 0.0 .... 1.0\n",
    "* rescale to a standart normal distrubition"
   ]
  },
  {
   "cell_type": "markdown",
   "metadata": {},
   "source": [
    "# log normalization\n",
    "\n",
    " * useful when data streches over many orders of magnitude\n",
    " * when data is not normally distributed\n",
    " * usually done with countable things\n",
    " * does not work with  negative values\n",
    "\n"
   ]
  },
  {
   "cell_type": "code",
   "execution_count": null,
   "metadata": {},
   "outputs": [],
   "source": [
    "df['log_mass']=np.log(df['Body Mass (g)'])\n",
    "df['log_mass'].head(3)"
   ]
  },
  {
   "cell_type": "markdown",
   "metadata": {},
   "source": [
    "# Min Max Scaling\n",
    " * lightest penguin - 0.0\n",
    " * heaviest penguin - 1.0   "
   ]
  },
  {
   "cell_type": "code",
   "execution_count": 46,
   "metadata": {},
   "outputs": [
    {
     "data": {
      "text/plain": [
       "3600.0"
      ]
     },
     "execution_count": 46,
     "metadata": {},
     "output_type": "execute_result"
    }
   ],
   "source": [
    "# 1) calculate the range\n",
    "mass_range = df['Body Mass (g)'].max() - df['Body Mass (g)'].min()\n",
    "mass_range"
   ]
  },
  {
   "cell_type": "code",
   "execution_count": 49,
   "metadata": {},
   "outputs": [
    {
     "data": {
      "text/plain": [
       "studyName\n",
       "PAL0708    0.291667\n",
       "PAL0708    0.305556\n",
       "PAL0708    0.152778\n",
       "Name: mass_scale, dtype: float64"
      ]
     },
     "execution_count": 49,
     "metadata": {},
     "output_type": "execute_result"
    }
   ],
   "source": [
    "df['mass_scale'] = (df['Body Mass (g)'] - df['Body Mass (g)'].min()) / mass_range\n",
    "df['mass_scale'].head(3)"
   ]
  },
  {
   "cell_type": "code",
   "execution_count": null,
   "metadata": {},
   "outputs": [],
   "source": [
    "# ! distribution does not change \n",
    "# --> LogReg computation is more efficient"
   ]
  },
  {
   "cell_type": "code",
   "execution_count": null,
   "metadata": {},
   "outputs": [],
   "source": [
    "# feature engineering is more important than modeling"
   ]
  }
 ],
 "metadata": {
  "kernelspec": {
   "display_name": "Python 3",
   "language": "python",
   "name": "python3"
  },
  "language_info": {
   "codemirror_mode": {
    "name": "ipython",
    "version": 3
   },
   "file_extension": ".py",
   "mimetype": "text/x-python",
   "name": "python",
   "nbconvert_exporter": "python",
   "pygments_lexer": "ipython3",
   "version": "3.7.6"
  }
 },
 "nbformat": 4,
 "nbformat_minor": 4
}
