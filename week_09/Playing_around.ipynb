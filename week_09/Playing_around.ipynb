{
 "cells": [
  {
   "cell_type": "code",
   "execution_count": 1,
   "metadata": {},
   "outputs": [],
   "source": [
    "import tensorflow.keras\n"
   ]
  },
  {
   "cell_type": "code",
   "execution_count": 57,
   "metadata": {},
   "outputs": [],
   "source": [
    "from tensorflow.keras.datasets import mnist\n",
    "\n",
    "(xtrain, ytrain), (xtest, ytest) = mnist.load_data()"
   ]
  },
  {
   "cell_type": "code",
   "execution_count": 11,
   "metadata": {},
   "outputs": [
    {
     "data": {
      "text/plain": [
       "array([5, 0, 4, ..., 5, 6, 8], dtype=uint8)"
      ]
     },
     "execution_count": 11,
     "metadata": {},
     "output_type": "execute_result"
    }
   ],
   "source": [
    "ytrain"
   ]
  },
  {
   "cell_type": "code",
   "execution_count": 12,
   "metadata": {},
   "outputs": [
    {
     "data": {
      "text/plain": [
       "array([[  0,   0,   0,   0,   0,   0,   0,   0,   0,   0,   0,   0,   0,\n",
       "          0,   0,   0,   0,   0,   0,   0,   0,   0,   0,   0,   0,   0,\n",
       "          0,   0],\n",
       "       [  0,   0,   0,   0,   0,   0,   0,   0,   0,   0,   0,   0,   0,\n",
       "          0,   0,   0,   0,   0,   0,   0,   0,   0,   0,   0,   0,   0,\n",
       "          0,   0],\n",
       "       [  0,   0,   0,   0,   0,   0,   0,   0,   0,   0,   0,   0,   0,\n",
       "          0,   0,   0,   0,   0,   0,   0,   0,   0,   0,   0,   0,   0,\n",
       "          0,   0],\n",
       "       [  0,   0,   0,   0,   0,   0,   0,   0,   0,   0,   0,   0,   0,\n",
       "          0,   0,   0,   0,   0,   0,   0,   0,   0,   0,   0,   0,   0,\n",
       "          0,   0],\n",
       "       [  0,   0,   0,   0,   0,   0,   0,   0,   0,   0,   0,   0,   0,\n",
       "          0,   0,   0,   0,   0,   0,   0,   0,   0,   0,   0,   0,   0,\n",
       "          0,   0],\n",
       "       [  0,   0,   0,   0,   0,   0,   0,   0,   0,   0,   0,   0,   3,\n",
       "         18,  18,  18, 126, 136, 175,  26, 166, 255, 247, 127,   0,   0,\n",
       "          0,   0],\n",
       "       [  0,   0,   0,   0,   0,   0,   0,   0,  30,  36,  94, 154, 170,\n",
       "        253, 253, 253, 253, 253, 225, 172, 253, 242, 195,  64,   0,   0,\n",
       "          0,   0],\n",
       "       [  0,   0,   0,   0,   0,   0,   0,  49, 238, 253, 253, 253, 253,\n",
       "        253, 253, 253, 253, 251,  93,  82,  82,  56,  39,   0,   0,   0,\n",
       "          0,   0],\n",
       "       [  0,   0,   0,   0,   0,   0,   0,  18, 219, 253, 253, 253, 253,\n",
       "        253, 198, 182, 247, 241,   0,   0,   0,   0,   0,   0,   0,   0,\n",
       "          0,   0],\n",
       "       [  0,   0,   0,   0,   0,   0,   0,   0,  80, 156, 107, 253, 253,\n",
       "        205,  11,   0,  43, 154,   0,   0,   0,   0,   0,   0,   0,   0,\n",
       "          0,   0],\n",
       "       [  0,   0,   0,   0,   0,   0,   0,   0,   0,  14,   1, 154, 253,\n",
       "         90,   0,   0,   0,   0,   0,   0,   0,   0,   0,   0,   0,   0,\n",
       "          0,   0],\n",
       "       [  0,   0,   0,   0,   0,   0,   0,   0,   0,   0,   0, 139, 253,\n",
       "        190,   2,   0,   0,   0,   0,   0,   0,   0,   0,   0,   0,   0,\n",
       "          0,   0],\n",
       "       [  0,   0,   0,   0,   0,   0,   0,   0,   0,   0,   0,  11, 190,\n",
       "        253,  70,   0,   0,   0,   0,   0,   0,   0,   0,   0,   0,   0,\n",
       "          0,   0],\n",
       "       [  0,   0,   0,   0,   0,   0,   0,   0,   0,   0,   0,   0,  35,\n",
       "        241, 225, 160, 108,   1,   0,   0,   0,   0,   0,   0,   0,   0,\n",
       "          0,   0],\n",
       "       [  0,   0,   0,   0,   0,   0,   0,   0,   0,   0,   0,   0,   0,\n",
       "         81, 240, 253, 253, 119,  25,   0,   0,   0,   0,   0,   0,   0,\n",
       "          0,   0],\n",
       "       [  0,   0,   0,   0,   0,   0,   0,   0,   0,   0,   0,   0,   0,\n",
       "          0,  45, 186, 253, 253, 150,  27,   0,   0,   0,   0,   0,   0,\n",
       "          0,   0],\n",
       "       [  0,   0,   0,   0,   0,   0,   0,   0,   0,   0,   0,   0,   0,\n",
       "          0,   0,  16,  93, 252, 253, 187,   0,   0,   0,   0,   0,   0,\n",
       "          0,   0],\n",
       "       [  0,   0,   0,   0,   0,   0,   0,   0,   0,   0,   0,   0,   0,\n",
       "          0,   0,   0,   0, 249, 253, 249,  64,   0,   0,   0,   0,   0,\n",
       "          0,   0],\n",
       "       [  0,   0,   0,   0,   0,   0,   0,   0,   0,   0,   0,   0,   0,\n",
       "          0,  46, 130, 183, 253, 253, 207,   2,   0,   0,   0,   0,   0,\n",
       "          0,   0],\n",
       "       [  0,   0,   0,   0,   0,   0,   0,   0,   0,   0,   0,   0,  39,\n",
       "        148, 229, 253, 253, 253, 250, 182,   0,   0,   0,   0,   0,   0,\n",
       "          0,   0],\n",
       "       [  0,   0,   0,   0,   0,   0,   0,   0,   0,   0,  24, 114, 221,\n",
       "        253, 253, 253, 253, 201,  78,   0,   0,   0,   0,   0,   0,   0,\n",
       "          0,   0],\n",
       "       [  0,   0,   0,   0,   0,   0,   0,   0,  23,  66, 213, 253, 253,\n",
       "        253, 253, 198,  81,   2,   0,   0,   0,   0,   0,   0,   0,   0,\n",
       "          0,   0],\n",
       "       [  0,   0,   0,   0,   0,   0,  18, 171, 219, 253, 253, 253, 253,\n",
       "        195,  80,   9,   0,   0,   0,   0,   0,   0,   0,   0,   0,   0,\n",
       "          0,   0],\n",
       "       [  0,   0,   0,   0,  55, 172, 226, 253, 253, 253, 253, 244, 133,\n",
       "         11,   0,   0,   0,   0,   0,   0,   0,   0,   0,   0,   0,   0,\n",
       "          0,   0],\n",
       "       [  0,   0,   0,   0, 136, 253, 253, 253, 212, 135, 132,  16,   0,\n",
       "          0,   0,   0,   0,   0,   0,   0,   0,   0,   0,   0,   0,   0,\n",
       "          0,   0],\n",
       "       [  0,   0,   0,   0,   0,   0,   0,   0,   0,   0,   0,   0,   0,\n",
       "          0,   0,   0,   0,   0,   0,   0,   0,   0,   0,   0,   0,   0,\n",
       "          0,   0],\n",
       "       [  0,   0,   0,   0,   0,   0,   0,   0,   0,   0,   0,   0,   0,\n",
       "          0,   0,   0,   0,   0,   0,   0,   0,   0,   0,   0,   0,   0,\n",
       "          0,   0],\n",
       "       [  0,   0,   0,   0,   0,   0,   0,   0,   0,   0,   0,   0,   0,\n",
       "          0,   0,   0,   0,   0,   0,   0,   0,   0,   0,   0,   0,   0,\n",
       "          0,   0]], dtype=uint8)"
      ]
     },
     "execution_count": 12,
     "metadata": {},
     "output_type": "execute_result"
    }
   ],
   "source": [
    "xtrain[0]"
   ]
  },
  {
   "cell_type": "code",
   "execution_count": 3,
   "metadata": {},
   "outputs": [
    {
     "data": {
      "image/png": "[encoded data removed]",
      "text/plain": [
       "<Figure size 432x288 with 25 Axes>"
      ]
     },
     "metadata": {
      "needs_background": "light"
     },
     "output_type": "display_data"
    }
   ],
   "source": [
    "from matplotlib import pyplot as plt\n",
    "\n",
    "for i in range(25):\n",
    "    plt.subplot(5, 5, i+1)\n",
    "    plt.imshow(xtrain[i], cmap=plt.cm.Greys)\n",
    "    plt.axis('off')"
   ]
  },
  {
   "cell_type": "code",
   "execution_count": 6,
   "metadata": {},
   "outputs": [],
   "source": [
    "from tensorflow.keras.models import Sequential\n",
    "from tensorflow.keras.layers import Dense, Activation\n",
    "from sklearn.datasets import make_moons\n",
    "import numpy as np"
   ]
  },
  {
   "cell_type": "code",
   "execution_count": 18,
   "metadata": {},
   "outputs": [],
   "source": [
    "X, y = make_moons(500, noise=0.1)"
   ]
  },
  {
   "cell_type": "code",
   "execution_count": 19,
   "metadata": {},
   "outputs": [
    {
     "ename": "SyntaxError",
     "evalue": "invalid syntax (<ipython-input-19-0b38238bac11>, line 3)",
     "output_type": "error",
     "traceback": [
      "\u001b[0;36m  File \u001b[0;32m\"<ipython-input-19-0b38238bac11>\"\u001b[0;36m, line \u001b[0;32m3\u001b[0m\n\u001b[0;31m    Dense(units = 1, activation = 'sigmoid')\u001b[0m\n\u001b[0m        ^\u001b[0m\n\u001b[0;31mSyntaxError\u001b[0m\u001b[0;31m:\u001b[0m invalid syntax\n"
     ]
    }
   ],
   "source": [
    "m = Sequential([\n",
    "    Dense(units = 4, activation = 'relu',  input_shape = (2,))\n",
    "    Dense(units = 1, activation = 'sigmoid')\n",
    "])"
   ]
  },
  {
   "cell_type": "code",
   "execution_count": 21,
   "metadata": {},
   "outputs": [
    {
     "ename": "NameError",
     "evalue": "name 'm' is not defined",
     "output_type": "error",
     "traceback": [
      "\u001b[0;31m---------------------------------------------------------------------------\u001b[0m",
      "\u001b[0;31mNameError\u001b[0m                                 Traceback (most recent call last)",
      "\u001b[0;32m<ipython-input-21-b7e8f09253e9>\u001b[0m in \u001b[0;36m<module>\u001b[0;34m\u001b[0m\n\u001b[1;32m      1\u001b[0m \u001b[0;31m# build the computation graph\u001b[0m\u001b[0;34m\u001b[0m\u001b[0;34m\u001b[0m\u001b[0;34m\u001b[0m\u001b[0m\n\u001b[0;32m----> 2\u001b[0;31m m.compile(optimizer='rmsprop',\n\u001b[0m\u001b[1;32m      3\u001b[0m           \u001b[0mloss\u001b[0m\u001b[0;34m=\u001b[0m\u001b[0;34m'binary_crossentropy'\u001b[0m\u001b[0;34m,\u001b[0m\u001b[0;34m\u001b[0m\u001b[0;34m\u001b[0m\u001b[0m\n\u001b[1;32m      4\u001b[0m           metrics=['accuracy'])\n",
      "\u001b[0;31mNameError\u001b[0m: name 'm' is not defined"
     ]
    }
   ],
   "source": [
    "# build the computation graph\n",
    "m.compile(optimizer='rmsprop',\n",
    "          loss='binary_crossentropy',\n",
    "          metrics=['accuracy'])"
   ]
  },
  {
   "cell_type": "code",
   "execution_count": 20,
   "metadata": {},
   "outputs": [
    {
     "ename": "NameError",
     "evalue": "name 'm' is not defined",
     "output_type": "error",
     "traceback": [
      "\u001b[0;31m---------------------------------------------------------------------------\u001b[0m",
      "\u001b[0;31mNameError\u001b[0m                                 Traceback (most recent call last)",
      "\u001b[0;32m<ipython-input-20-e392fe03d9de>\u001b[0m in \u001b[0;36m<module>\u001b[0;34m\u001b[0m\n\u001b[1;32m      1\u001b[0m \u001b[0;31m# build the computation graph\u001b[0m\u001b[0;34m\u001b[0m\u001b[0;34m\u001b[0m\u001b[0;34m\u001b[0m\u001b[0m\n\u001b[0;32m----> 2\u001b[0;31m m.compile(optimizer='rmsprop',\n\u001b[0m\u001b[1;32m      3\u001b[0m           \u001b[0mloss\u001b[0m\u001b[0;34m=\u001b[0m\u001b[0;34m'binary_crossentropy'\u001b[0m\u001b[0;34m,\u001b[0m\u001b[0;34m\u001b[0m\u001b[0;34m\u001b[0m\u001b[0m\n\u001b[1;32m      4\u001b[0m           metrics=['accuracy'])\n\u001b[1;32m      5\u001b[0m \u001b[0;34m\u001b[0m\u001b[0m\n",
      "\u001b[0;31mNameError\u001b[0m: name 'm' is not defined"
     ]
    }
   ],
   "source": [
    "# print all layers\n",
    "print(m.summary())\n",
    "\n",
    "# train the model\n",
    "h  = m.fit(X, y, epochs=100, batch_size=50, validation_split=0.2)\n",
    "print(h.history['loss'].shape)\n",
    "print(h.history['val_loss'].shape)\n",
    "\n",
    "score = m.evaluate(X, y, batch_size=50)\n",
    "print(score)\n",
    "\n",
    "# prediction on new data points\n",
    "print(m.predict(X[:10]))"
   ]
  },
  {
   "cell_type": "code",
   "execution_count": 22,
   "metadata": {},
   "outputs": [],
   "source": [
    "model = Sequential([\n",
    "    Dense(4, input_shape=(2,)), #hardest part to get right\n",
    "    #this means that each data point has 2 features / columns / dimensions\n",
    "    # first 2 => 2 neurons, and the (2, ) means each data point has 2 dimensions\n",
    "    Activation('sigmoid'),\n",
    "    Dense(1),\n",
    "    Activation('sigmoid')  \n",
    "])"
   ]
  },
  {
   "cell_type": "code",
   "execution_count": 15,
   "metadata": {},
   "outputs": [
    {
     "name": "stdout",
     "output_type": "stream",
     "text": [
      "Model: \"sequential_2\"\n",
      "_________________________________________________________________\n",
      "Layer (type)                 Output Shape              Param #   \n",
      "=================================================================\n",
      "dense_4 (Dense)              (None, 4)                 12        \n",
      "_________________________________________________________________\n",
      "activation_4 (Activation)    (None, 4)                 0         \n",
      "_________________________________________________________________\n",
      "dense_5 (Dense)              (None, 1)                 5         \n",
      "_________________________________________________________________\n",
      "activation_5 (Activation)    (None, 1)                 0         \n",
      "=================================================================\n",
      "Total params: 17\n",
      "Trainable params: 17\n",
      "Non-trainable params: 0\n",
      "_________________________________________________________________\n"
     ]
    }
   ],
   "source": [
    "model.summary()"
   ]
  },
  {
   "cell_type": "code",
   "execution_count": 24,
   "metadata": {},
   "outputs": [],
   "source": [
    "model.compile(optimizer='rmsprop', loss='binary_crossentropy', metrics=['accuracy'])\n",
    "#compiling the model basically translates our keras code into lower-level TensorFlow / C++"
   ]
  },
  {
   "cell_type": "code",
   "execution_count": 29,
   "metadata": {},
   "outputs": [
    {
     "name": "stdout",
     "output_type": "stream",
     "text": [
      "Epoch 1/50\n",
      "1/1 [==============================] - 0s 837us/step - loss: 0.6935 - accuracy: 0.5300\n",
      "Epoch 2/50\n",
      "1/1 [==============================] - 0s 1ms/step - loss: 0.6932 - accuracy: 0.5360\n",
      "Epoch 3/50\n",
      "1/1 [==============================] - 0s 563us/step - loss: 0.6929 - accuracy: 0.5400\n",
      "Epoch 4/50\n",
      "1/1 [==============================] - 0s 524us/step - loss: 0.6927 - accuracy: 0.5400\n",
      "Epoch 5/50\n",
      "1/1 [==============================] - 0s 517us/step - loss: 0.6924 - accuracy: 0.5440\n",
      "Epoch 6/50\n",
      "1/1 [==============================] - 0s 594us/step - loss: 0.6921 - accuracy: 0.5520\n",
      "Epoch 7/50\n",
      "1/1 [==============================] - 0s 505us/step - loss: 0.6919 - accuracy: 0.5600\n",
      "Epoch 8/50\n",
      "1/1 [==============================] - 0s 576us/step - loss: 0.6916 - accuracy: 0.5660\n",
      "Epoch 9/50\n",
      "1/1 [==============================] - 0s 887us/step - loss: 0.6913 - accuracy: 0.5760\n",
      "Epoch 10/50\n",
      "1/1 [==============================] - 0s 521us/step - loss: 0.6911 - accuracy: 0.5840\n",
      "Epoch 11/50\n",
      "1/1 [==============================] - 0s 602us/step - loss: 0.6908 - accuracy: 0.5840\n",
      "Epoch 12/50\n",
      "1/1 [==============================] - 0s 659us/step - loss: 0.6905 - accuracy: 0.5880\n",
      "Epoch 13/50\n",
      "1/1 [==============================] - 0s 1ms/step - loss: 0.6903 - accuracy: 0.5900\n",
      "Epoch 14/50\n",
      "1/1 [==============================] - 0s 785us/step - loss: 0.6900 - accuracy: 0.5960\n",
      "Epoch 15/50\n",
      "1/1 [==============================] - 0s 554us/step - loss: 0.6897 - accuracy: 0.6040\n",
      "Epoch 16/50\n",
      "1/1 [==============================] - 0s 525us/step - loss: 0.6895 - accuracy: 0.6040\n",
      "Epoch 17/50\n",
      "1/1 [==============================] - 0s 512us/step - loss: 0.6892 - accuracy: 0.6100\n",
      "Epoch 18/50\n",
      "1/1 [==============================] - 0s 538us/step - loss: 0.6889 - accuracy: 0.6120\n",
      "Epoch 19/50\n",
      "1/1 [==============================] - 0s 527us/step - loss: 0.6886 - accuracy: 0.6200\n",
      "Epoch 20/50\n",
      "1/1 [==============================] - 0s 543us/step - loss: 0.6884 - accuracy: 0.6220\n",
      "Epoch 21/50\n",
      "1/1 [==============================] - 0s 524us/step - loss: 0.6881 - accuracy: 0.6260\n",
      "Epoch 22/50\n",
      "1/1 [==============================] - 0s 608us/step - loss: 0.6878 - accuracy: 0.6320\n",
      "Epoch 23/50\n",
      "1/1 [==============================] - 0s 523us/step - loss: 0.6876 - accuracy: 0.6360\n",
      "Epoch 24/50\n",
      "1/1 [==============================] - 0s 659us/step - loss: 0.6873 - accuracy: 0.6360\n",
      "Epoch 25/50\n",
      "1/1 [==============================] - 0s 870us/step - loss: 0.6870 - accuracy: 0.6380\n",
      "Epoch 26/50\n",
      "1/1 [==============================] - 0s 616us/step - loss: 0.6867 - accuracy: 0.6420\n",
      "Epoch 27/50\n",
      "1/1 [==============================] - 0s 555us/step - loss: 0.6865 - accuracy: 0.6440\n",
      "Epoch 28/50\n",
      "1/1 [==============================] - 0s 752us/step - loss: 0.6862 - accuracy: 0.6480\n",
      "Epoch 29/50\n",
      "1/1 [==============================] - 0s 1ms/step - loss: 0.6859 - accuracy: 0.6480\n",
      "Epoch 30/50\n",
      "1/1 [==============================] - 0s 845us/step - loss: 0.6856 - accuracy: 0.6500\n",
      "Epoch 31/50\n",
      "1/1 [==============================] - 0s 719us/step - loss: 0.6854 - accuracy: 0.6540\n",
      "Epoch 32/50\n",
      "1/1 [==============================] - 0s 517us/step - loss: 0.6851 - accuracy: 0.6580\n",
      "Epoch 33/50\n",
      "1/1 [==============================] - 0s 675us/step - loss: 0.6848 - accuracy: 0.6620\n",
      "Epoch 34/50\n",
      "1/1 [==============================] - 0s 1ms/step - loss: 0.6846 - accuracy: 0.6620\n",
      "Epoch 35/50\n",
      "1/1 [==============================] - 0s 744us/step - loss: 0.6843 - accuracy: 0.6640\n",
      "Epoch 36/50\n",
      "1/1 [==============================] - 0s 645us/step - loss: 0.6840 - accuracy: 0.6640\n",
      "Epoch 37/50\n",
      "1/1 [==============================] - 0s 896us/step - loss: 0.6837 - accuracy: 0.6660\n",
      "Epoch 38/50\n",
      "1/1 [==============================] - 0s 725us/step - loss: 0.6835 - accuracy: 0.6720\n",
      "Epoch 39/50\n",
      "1/1 [==============================] - 0s 662us/step - loss: 0.6832 - accuracy: 0.6760\n",
      "Epoch 40/50\n",
      "1/1 [==============================] - 0s 672us/step - loss: 0.6829 - accuracy: 0.6800\n",
      "Epoch 41/50\n",
      "1/1 [==============================] - 0s 771us/step - loss: 0.6826 - accuracy: 0.6800\n",
      "Epoch 42/50\n",
      "1/1 [==============================] - 0s 695us/step - loss: 0.6824 - accuracy: 0.6840\n",
      "Epoch 43/50\n",
      "1/1 [==============================] - 0s 2ms/step - loss: 0.6821 - accuracy: 0.6880\n",
      "Epoch 44/50\n",
      "1/1 [==============================] - 0s 635us/step - loss: 0.6818 - accuracy: 0.6900\n",
      "Epoch 45/50\n",
      "1/1 [==============================] - 0s 652us/step - loss: 0.6815 - accuracy: 0.6900\n",
      "Epoch 46/50\n",
      "1/1 [==============================] - 0s 746us/step - loss: 0.6813 - accuracy: 0.6940\n",
      "Epoch 47/50\n",
      "1/1 [==============================] - 0s 719us/step - loss: 0.6810 - accuracy: 0.6960\n",
      "Epoch 48/50\n",
      "1/1 [==============================] - 0s 959us/step - loss: 0.6807 - accuracy: 0.6980\n",
      "Epoch 49/50\n",
      "1/1 [==============================] - 0s 934us/step - loss: 0.6804 - accuracy: 0.6980\n",
      "Epoch 50/50\n",
      "1/1 [==============================] - 0s 1ms/step - loss: 0.6802 - accuracy: 0.6980\n"
     ]
    }
   ],
   "source": [
    "history = model.fit(X, y, epochs=50, batch_size=500, verbose = 1)\n",
    "#epochs -> iteration of backpropagation\n",
    "#batch_size -> chunk size / sub-epoch"
   ]
  },
  {
   "cell_type": "code",
   "execution_count": 26,
   "metadata": {},
   "outputs": [
    {
     "name": "stdout",
     "output_type": "stream",
     "text": [
      "125/125 [==============================] - 0s 390us/step - loss: 0.6935 - accuracy: 0.5300\n",
      "[0.6934850215911865, 0.5299999713897705]\n"
     ]
    }
   ],
   "source": [
    "score = model.evaluate(X, y, batch_size=4)\n",
    "print(score)\n",
    "# Final Loss / Accuracy"
   ]
  },
  {
   "cell_type": "code",
   "execution_count": 27,
   "metadata": {},
   "outputs": [
    {
     "data": {
      "text/plain": [
       "[<matplotlib.lines.Line2D at 0x7f96cb7c17d0>]"
      ]
     },
     "execution_count": 27,
     "metadata": {},
     "output_type": "execute_result"
    },
    {
     "data": {
      "image/png": "[encoded data removed]",
      "text/plain": [
       "<Figure size 432x288 with 1 Axes>"
      ]
     },
     "metadata": {
      "needs_background": "light"
     },
     "output_type": "display_data"
    }
   ],
   "source": [
    "plt.plot(history.history['loss'])"
   ]
  },
  {
   "cell_type": "code",
   "execution_count": 32,
   "metadata": {},
   "outputs": [
    {
     "data": {
      "text/plain": [
       "[<matplotlib.lines.Line2D at 0x7f96ce545310>]"
      ]
     },
     "execution_count": 32,
     "metadata": {},
     "output_type": "execute_result"
    },
    {
     "data": {
      "image/png": "[encoded data removed]",
      "text/plain": [
       "<Figure size 432x288 with 1 Axes>"
      ]
     },
     "metadata": {
      "needs_background": "light"
     },
     "output_type": "display_data"
    }
   ],
   "source": [
    "plt.plot(history.history['accuracy'])"
   ]
  },
  {
   "cell_type": "code",
   "execution_count": 34,
   "metadata": {},
   "outputs": [
    {
     "data": {
      "text/plain": [
       "(60000, 28, 28)"
      ]
     },
     "execution_count": 34,
     "metadata": {},
     "output_type": "execute_result"
    }
   ],
   "source": [
    "xtrain.shape"
   ]
  },
  {
   "cell_type": "code",
   "execution_count": 38,
   "metadata": {},
   "outputs": [
    {
     "data": {
      "text/plain": [
       "0"
      ]
     },
     "execution_count": 38,
     "metadata": {},
     "output_type": "execute_result"
    }
   ],
   "source": [
    "xtrain[0][0][0]"
   ]
  },
  {
   "cell_type": "code",
   "execution_count": 39,
   "metadata": {},
   "outputs": [
    {
     "data": {
      "text/plain": [
       "array([[0, 0, 0, ..., 0, 0, 0],\n",
       "       [0, 0, 0, ..., 0, 0, 0],\n",
       "       [0, 0, 0, ..., 0, 0, 0],\n",
       "       ...,\n",
       "       [0, 0, 0, ..., 0, 0, 0],\n",
       "       [0, 0, 0, ..., 0, 0, 0],\n",
       "       [0, 0, 0, ..., 0, 0, 0]], dtype=uint8)"
      ]
     },
     "execution_count": 39,
     "metadata": {},
     "output_type": "execute_result"
    }
   ],
   "source": [
    "xtrain.reshape(60000, 784)\n"
   ]
  },
  {
   "cell_type": "code",
   "execution_count": 58,
   "metadata": {},
   "outputs": [],
   "source": [
    "import pandas as pd\n",
    "xtrain_df = pd.DataFrame(xtrain.reshape(60000, 784))"
   ]
  },
  {
   "cell_type": "code",
   "execution_count": 53,
   "metadata": {},
   "outputs": [],
   "source": [
    "from tensorflow.keras.utils import to_categorical"
   ]
  },
  {
   "cell_type": "code",
   "execution_count": 64,
   "metadata": {},
   "outputs": [],
   "source": [
    "ytrain_cat = to_categorical(ytrain, num_classes=10)"
   ]
  },
  {
   "cell_type": "code",
   "execution_count": 65,
   "metadata": {},
   "outputs": [
    {
     "data": {
      "text/plain": [
       "array([0., 0., 0., 0., 0., 1., 0., 0., 0., 0.], dtype=float32)"
      ]
     },
     "execution_count": 65,
     "metadata": {},
     "output_type": "execute_result"
    }
   ],
   "source": [
    "ytrain_cat[0]"
   ]
  },
  {
   "cell_type": "code",
   "execution_count": 66,
   "metadata": {},
   "outputs": [],
   "source": [
    "m1 = Sequential([\n",
    "    Dense(4, input_shape=(2,)), #hardest part to get right\n",
    "    #this means that each data point has 2 features / columns / dimensions\n",
    "    # first 2 => 2 neurons, and the (2, ) means each data point has 2 dimensions\n",
    "    Activation('sigmoid'),\n",
    "    Dense(10),\n",
    "    Activation('softmax')  \n",
    "])"
   ]
  },
  {
   "cell_type": "code",
   "execution_count": 67,
   "metadata": {},
   "outputs": [
    {
     "name": "stdout",
     "output_type": "stream",
     "text": [
      "Model: \"sequential_4\"\n",
      "_________________________________________________________________\n",
      "Layer (type)                 Output Shape              Param #   \n",
      "=================================================================\n",
      "dense_8 (Dense)              (None, 4)                 12        \n",
      "_________________________________________________________________\n",
      "activation_8 (Activation)    (None, 4)                 0         \n",
      "_________________________________________________________________\n",
      "dense_9 (Dense)              (None, 10)                50        \n",
      "_________________________________________________________________\n",
      "activation_9 (Activation)    (None, 10)                0         \n",
      "=================================================================\n",
      "Total params: 62\n",
      "Trainable params: 62\n",
      "Non-trainable params: 0\n",
      "_________________________________________________________________\n"
     ]
    }
   ],
   "source": [
    "m1.summary()"
   ]
  },
  {
   "cell_type": "code",
   "execution_count": null,
   "metadata": {},
   "outputs": [],
   "source": []
  },
  {
   "cell_type": "code",
   "execution_count": null,
   "metadata": {},
   "outputs": [],
   "source": []
  },
  {
   "cell_type": "code",
   "execution_count": null,
   "metadata": {},
   "outputs": [],
   "source": []
  },
  {
   "cell_type": "code",
   "execution_count": null,
   "metadata": {},
   "outputs": [],
   "source": []
  },
  {
   "cell_type": "code",
   "execution_count": null,
   "metadata": {},
   "outputs": [],
   "source": []
  }
 ],
 "metadata": {
  "kernelspec": {
   "display_name": "deep_learning",
   "language": "python",
   "name": "deep_learning"
  },
  "language_info": {
   "codemirror_mode": {
    "name": "ipython",
    "version": 3
   },
   "file_extension": ".py",
   "mimetype": "text/x-python",
   "name": "python",
   "nbconvert_exporter": "python",
   "pygments_lexer": "ipython3",
   "version": "3.7.6"
  }
 },
 "nbformat": 4,
 "nbformat_minor": 4
}
