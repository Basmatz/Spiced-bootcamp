{
 "cells": [
  {
   "cell_type": "code",
   "execution_count": 227,
   "metadata": {
    "collapsed": true
   },
   "outputs": [
    {
     "name": "stderr",
     "output_type": "stream",
     "text": [
      "c:\\users\\bastian matzen\\appdata\\local\\programs\\python\\python38\\lib\\site-packages\\pandas\\core\\indexing.py:671: SettingWithCopyWarning: \n",
      "A value is trying to be set on a copy of a slice from a DataFrame\n",
      "\n",
      "See the caveats in the documentation: https://pandas.pydata.org/pandas-docs/stable/user_guide/indexing.html#returning-a-view-versus-a-copy\n",
      "  self._setitem_with_indexer(indexer, value)\n"
     ]
    }
   ],
   "source": [
    "### Import\n",
    "\n",
    "import pandas as pd\n",
    "import numpy as np\n",
    "import seaborn as sns\n",
    "import matplotlib.pyplot as plt\n",
    "from pylab import rcParams\n",
    "from statsmodels.tsa.seasonal import seasonal_decompose\n",
    "from sklearn.metrics import r2_score\n",
    "\n",
    "\n",
    "#Set Plot Size\n",
    "rcParams['figure.figsize'] = 16,9\n",
    "\n",
    "\n",
    "### Read Data\n",
    "\n",
    "df = pd.read_csv(\"TG_STAID002759.txt\")\n",
    "\n",
    "\n",
    "\n",
    "### Rename Colummns\n",
    "\n",
    "df.columns = [\"Souid\", \"Date\", \"TG\", \"Q_TG\"]\n",
    "\n",
    "\n",
    "\n",
    "### Convert to datetime\n",
    "\n",
    "df[\"Date\"] = pd.to_datetime(df[\"Date\"], format='%Y%m%d')\n",
    "\n",
    "df.set_index(\"Date\", inplace=True)\n",
    "\n",
    "df[\"year\"] = df.index.year\n",
    "df[\"month\"] = df.index.month\n",
    "df[\"day\"] = df.index.day\n",
    "\n",
    "\n",
    "### Handle Outliers\n",
    "\n",
    "df.loc['1945-04-25':'1945-11-05', 'TG'] = (df['1946-04-25':'1946-11-05'][\"TG\"].values\n",
    "                                           + df['1944-04-25':'1944-11-05'][\"TG\"].values) / 2\n",
    "df[\"Q_TG\"].loc[df['Q_TG'] == 9] = 1\n",
    "\n",
    "\n",
    "### Transform to Kelvin\n",
    "\n",
    "df[\"TG\"] /= 10\n",
    "#df[\"TG\"] +=  273.15\n",
    "\n"
   ]
  },
  {
   "cell_type": "markdown",
   "source": [
    "### Train Test Split"
   ],
   "metadata": {
    "collapsed": false,
    "pycharm": {
     "name": "#%% md\n"
    }
   }
  },
  {
   "cell_type": "code",
   "execution_count": 228,
   "outputs": [],
   "source": [
    "\n",
    "y_train = df[:\"2019\"].copy()\n",
    "y_test = df[\"2020\"].copy()"
   ],
   "metadata": {
    "collapsed": false,
    "pycharm": {
     "name": "#%%\n"
    }
   }
  },
  {
   "cell_type": "code",
   "execution_count": 229,
   "outputs": [
    {
     "data": {
      "text/plain": "Date\n1876-01-01    0.0\n1876-01-02    0.3\n1876-01-03   -2.2\n1876-01-04   -6.1\n1876-01-05   -4.0\n             ... \n2019-12-27   -1.8\n2019-12-28   -1.8\n2019-12-29   -1.3\n2019-12-30    4.5\n2019-12-31    1.5\nName: difference, Length: 52595, dtype: float64"
     },
     "execution_count": 229,
     "metadata": {},
     "output_type": "execute_result"
    }
   ],
   "source": [
    "\n",
    "### Detrend time series Data\n",
    "\n",
    "y_train[\"difference\"] = y_train[\"TG\"].diff().fillna(0.0)\n",
    "y_train[\"difference\"]\n",
    "\n"
   ],
   "metadata": {
    "collapsed": false,
    "pycharm": {
     "name": "#%%\n"
    }
   }
  },
  {
   "cell_type": "code",
   "execution_count": 230,
   "outputs": [
    {
     "data": {
      "text/plain": "Date\n1876-01-01   -0.062355\n1876-01-02    0.032697\n1876-01-03    0.023553\n1876-01-04    0.063339\n1876-01-05   -0.014959\n                ...   \n2019-12-27   -0.049566\n2019-12-28    0.134433\n2019-12-29    0.003552\n2019-12-30    0.020076\n2019-12-31   -0.039385\nName: daily_means, Length: 52595, dtype: float64"
     },
     "execution_count": 230,
     "metadata": {},
     "output_type": "execute_result"
    }
   ],
   "source": [
    "\n",
    "\n",
    "### De-seasonalize the series by subtracting daily means\n",
    "\n",
    "y_train[\"daily_means\"] = y_train.groupby(\"day\")[\"difference\"].transform(\"mean\")\n",
    "y_train[\"daily_means\"]\n",
    "\n"
   ],
   "metadata": {
    "collapsed": false,
    "pycharm": {
     "name": "#%%\n"
    }
   }
  },
  {
   "cell_type": "code",
   "execution_count": 231,
   "outputs": [
    {
     "data": {
      "text/plain": "2.2"
     },
     "execution_count": 231,
     "metadata": {},
     "output_type": "execute_result"
    }
   ],
   "source": [
    "\n",
    "## Baseline model\n",
    "\n",
    "y0_train = y_train.iloc[0]['TG']\n",
    "\n",
    "y_train.loc[0,'daily_means'] = y0_train\n",
    "y_train.loc[0,'daily_means']"
   ],
   "metadata": {
    "collapsed": false,
    "pycharm": {
     "name": "#%%\n"
    }
   }
  },
  {
   "cell_type": "code",
   "execution_count": 232,
   "outputs": [
    {
     "data": {
      "text/plain": "Date\n1876-01-01   -0.062355\n1876-01-02   -0.029659\n1876-01-03   -0.006105\n1876-01-04    0.057234\n1876-01-05    0.042274\n                ...   \n2019-12-27    5.943680\n2019-12-28    6.078113\n2019-12-29    6.081664\n2019-12-30    6.101740\n2019-12-31    6.062355\nName: Prediction, Length: 52595, dtype: float64"
     },
     "execution_count": 232,
     "metadata": {},
     "output_type": "execute_result"
    }
   ],
   "source": [
    "\n",
    "y_train['Prediction'] = np.cumsum(y_train['daily_means'])\n",
    "y_train['Prediction']"
   ],
   "metadata": {
    "collapsed": false,
    "pycharm": {
     "name": "#%%\n"
    }
   }
  },
  {
   "cell_type": "code",
   "execution_count": 233,
   "outputs": [],
   "source": [
    "#Do the same to testing\n",
    "y_test['daily_means'] = y_train.iloc[0:182][\"daily_means\"].values"
   ],
   "metadata": {
    "collapsed": false,
    "pycharm": {
     "name": "#%%\n"
    }
   }
  },
  {
   "cell_type": "code",
   "execution_count": 234,
   "outputs": [
    {
     "data": {
      "text/plain": "2.7"
     },
     "execution_count": 234,
     "metadata": {},
     "output_type": "execute_result"
    }
   ],
   "source": [
    "y_test.iloc[0]['TG']"
   ],
   "metadata": {
    "collapsed": false,
    "pycharm": {
     "name": "#%%\n"
    }
   }
  },
  {
   "cell_type": "code",
   "execution_count": 235,
   "outputs": [
    {
     "name": "stderr",
     "output_type": "stream",
     "text": [
      "<ipython-input-235-2ee709da4741>:1: SettingWithCopyWarning: \n",
      "A value is trying to be set on a copy of a slice from a DataFrame\n",
      "\n",
      "See the caveats in the documentation: https://pandas.pydata.org/pandas-docs/stable/user_guide/indexing.html#returning-a-view-versus-a-copy\n",
      "  y_test['daily_means'][0] = y_test.iloc[0]['TG']\n"
     ]
    },
    {
     "data": {
      "text/plain": "Date\n2020-01-01    2.700000\n2020-01-02    0.032697\n2020-01-03    0.023553\n2020-01-04    0.063339\n2020-01-05   -0.014959\n                ...   \n2020-06-26    0.062413\n2020-06-27   -0.049566\n2020-06-28    0.134433\n2020-06-29    0.003552\n2020-06-30    0.020076\nName: daily_means, Length: 182, dtype: float64"
     },
     "execution_count": 235,
     "metadata": {},
     "output_type": "execute_result"
    }
   ],
   "source": [
    "\n",
    "y_test['daily_means'][0] = y_test.iloc[0]['TG']\n",
    "y_test['daily_means']"
   ],
   "metadata": {
    "collapsed": false,
    "pycharm": {
     "name": "#%%\n"
    }
   }
  },
  {
   "cell_type": "code",
   "execution_count": 236,
   "outputs": [
    {
     "data": {
      "text/plain": "Date\n2020-01-01    2.700000\n2020-01-02    2.732697\n2020-01-03    2.756250\n2020-01-04    2.819589\n2020-01-05    2.804630\n                ...   \n2020-06-26    2.678054\n2020-06-27    2.628488\n2020-06-28    2.762921\n2020-06-29    2.766473\n2020-06-30    2.786549\nName: Prediction, Length: 182, dtype: float64"
     },
     "execution_count": 236,
     "metadata": {},
     "output_type": "execute_result"
    }
   ],
   "source": [
    "\n",
    "#replaces the first point with the real value, so the cumulative sum can be built off of this.\n",
    "\n",
    "y_test['Prediction'] = np.cumsum(y_test['daily_means'])\n",
    "y_test['Prediction']"
   ],
   "metadata": {
    "collapsed": false,
    "pycharm": {
     "name": "#%%\n"
    }
   }
  },
  {
   "cell_type": "code",
   "execution_count": 237,
   "outputs": [
    {
     "name": "stdout",
     "output_type": "stream",
     "text": [
      "Test Score: -1.6260311784025228\n"
     ]
    },
    {
     "data": {
      "text/plain": "<Figure size 576x432 with 1 Axes>",
      "image/png": "[encoded data removed]"
     },
     "metadata": {
      "needs_background": "light"
     },
     "output_type": "display_data"
    }
   ],
   "source": [
    "plt.figure(figsize=(8, 6))\n",
    "plt.plot_date(y_test.index,y_test['TG'],'r-')\n",
    "plt.plot_date(y_test.index,y_test['Prediction'],'b-')\n",
    "plt.legend(['Actual Temperature', 'Naive Forecast'])\n",
    "\n",
    "print(f\"Test Score: {r2_score(y_test['TG'], y_test['Prediction'])}\")"
   ],
   "metadata": {
    "collapsed": false,
    "pycharm": {
     "name": "#%%\n"
    }
   }
  }
 ],
 "metadata": {
  "kernelspec": {
   "display_name": "Python 3",
   "language": "python",
   "name": "python3"
  },
  "language_info": {
   "codemirror_mode": {
    "name": "ipython",
    "version": 2
   },
   "file_extension": ".py",
   "mimetype": "text/x-python",
   "name": "python",
   "nbconvert_exporter": "python",
   "pygments_lexer": "ipython2",
   "version": "2.7.6"
  }
 },
 "nbformat": 4,
 "nbformat_minor": 0
}