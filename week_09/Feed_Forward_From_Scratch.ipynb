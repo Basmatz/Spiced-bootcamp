{
 "cells": [
  {
   "cell_type": "markdown",
   "metadata": {},
   "source": [
    "### Part 1: Building a Feed-Forward Neural Network from Scratch \n",
    "- Using just NumPy"
   ]
  },
  {
   "cell_type": "code",
   "execution_count": 1,
   "metadata": {},
   "outputs": [],
   "source": [
    "from sklearn.datasets import make_moons\n",
    "\n",
    "X, y = make_moons(n_samples=50, noise=0.2, random_state=42)"
   ]
  },
  {
   "cell_type": "code",
   "execution_count": 2,
   "metadata": {},
   "outputs": [],
   "source": [
    "import matplotlib.pyplot as plt"
   ]
  },
  {
   "cell_type": "code",
   "execution_count": 3,
   "metadata": {},
   "outputs": [
    {
     "data": {
      "text/plain": [
       "<matplotlib.collections.PathCollection at 0x7fb3fc5cc110>"
      ]
     },
     "execution_count": 3,
     "metadata": {},
     "output_type": "execute_result"
    },
    {
     "data": {
      "image/png": "[encoded data removed]",
      "text/plain": [
       "<Figure size 432x288 with 1 Axes>"
      ]
     },
     "metadata": {
      "needs_background": "light"
     },
     "output_type": "display_data"
    }
   ],
   "source": [
    "plt.scatter(X[:,0], X[:,1], s=15, c=y)"
   ]
  },
  {
   "cell_type": "code",
   "execution_count": 4,
   "metadata": {},
   "outputs": [],
   "source": [
    "import numpy as np"
   ]
  },
  {
   "cell_type": "code",
   "execution_count": 5,
   "metadata": {},
   "outputs": [],
   "source": [
    "#manually add a column for bias\n",
    "X = np.hstack([X, np.ones((X.shape[0], 1 ))])"
   ]
  },
  {
   "cell_type": "code",
   "execution_count": 6,
   "metadata": {},
   "outputs": [],
   "source": [
    "#let's model our neurons / activation functions as a sigmoid function"
   ]
  },
  {
   "cell_type": "code",
   "execution_count": 7,
   "metadata": {},
   "outputs": [],
   "source": [
    "def sigmoid(x):\n",
    "    \"\"\"logistic function.\n",
    "    \n",
    "    takes in a single number, and squishes it\n",
    "    between 0 and 1.\n",
    "    \"\"\"\n",
    "    \n",
    "    return 1 / (1 + np.exp(-x))\n",
    "    \n",
    "    "
   ]
  },
  {
   "cell_type": "code",
   "execution_count": 8,
   "metadata": {},
   "outputs": [],
   "source": [
    "a = np.array([-10.0, -1.0, 0.0, 1.0, 10.0])\n",
    "expected = np.array([0.0, 0.27, 0.5, 0.73, 1.0])\n",
    "\n",
    "assert np.all(sigmoid(a).round(2) == expected)"
   ]
  },
  {
   "cell_type": "markdown",
   "metadata": {},
   "source": [
    "---"
   ]
  },
  {
   "cell_type": "markdown",
   "metadata": {},
   "source": [
    "**the values of the arrows == weights == parameters**"
   ]
  },
  {
   "cell_type": "code",
   "execution_count": 9,
   "metadata": {},
   "outputs": [],
   "source": [
    "hidden_weights = np.random.normal(loc=0.0, scale=1.0, size=(3, 2))   # 3 inputs feeding into 2 neurons\n",
    "outer_weights = np.random.normal(loc=0.0, scale=1.0, size=(3, 1)) # 3 inputs feeding into 1 neuron"
   ]
  },
  {
   "cell_type": "code",
   "execution_count": 10,
   "metadata": {},
   "outputs": [
    {
     "data": {
      "text/plain": [
       "array([[-0.01602472,  1.54707545],\n",
       "       [ 0.28194476, -2.08507206],\n",
       "       [-0.57345251,  0.60960852]])"
      ]
     },
     "execution_count": 10,
     "metadata": {},
     "output_type": "execute_result"
    }
   ],
   "source": [
    "hidden_weights"
   ]
  },
  {
   "cell_type": "code",
   "execution_count": 11,
   "metadata": {},
   "outputs": [
    {
     "data": {
      "text/plain": [
       "array([[ 0.67330321],\n",
       "       [ 0.03601204],\n",
       "       [-0.7121668 ]])"
      ]
     },
     "execution_count": 11,
     "metadata": {},
     "output_type": "execute_result"
    }
   ],
   "source": [
    "outer_weights"
   ]
  },
  {
   "cell_type": "markdown",
   "metadata": {},
   "source": [
    "---"
   ]
  },
  {
   "cell_type": "code",
   "execution_count": 12,
   "metadata": {},
   "outputs": [],
   "source": [
    "weights = [hidden_weights, outer_weights]"
   ]
  },
  {
   "cell_type": "code",
   "execution_count": 23,
   "metadata": {},
   "outputs": [
    {
     "data": {
      "text/plain": [
       "[array([[-0.01602472,  1.54707545],\n",
       "        [ 0.28194476, -2.08507206],\n",
       "        [-0.57345251,  0.60960852]]),\n",
       " array([[ 0.67330321],\n",
       "        [ 0.03601204],\n",
       "        [-0.7121668 ]])]"
      ]
     },
     "execution_count": 23,
     "metadata": {},
     "output_type": "execute_result"
    }
   ],
   "source": [
    "weights"
   ]
  },
  {
   "cell_type": "code",
   "execution_count": 14,
   "metadata": {},
   "outputs": [],
   "source": [
    "def feed_forward(X, weights):\n",
    "\n",
    "    \"\"\"\n",
    "    1. Calculate the dot product of X\n",
    "       and the weights of the first layer.\n",
    "    \"\"\"\n",
    "    \n",
    "    # (N, 3) * (3, 2) -> (N, 2)\n",
    "    step1 = np.dot(X, weights[0])\n",
    "    \n",
    "    \"\"\"\n",
    "    2. Apply the sigmoid function on the result.\n",
    "    \"\"\"\n",
    "    \n",
    "    # (N, 2) -> (N, 2)\n",
    "    step2 = sigmoid(step1)\n",
    "\n",
    "    \"\"\"\n",
    "    3. Append an extra column of ones to the result (i.e. the bias).\n",
    "    \"\"\"\n",
    "    #(N, 2) -> (N, 3)\n",
    "    \n",
    "    step3 = np.hstack([step2, np.ones((step2.shape[0], 1))])\n",
    "    \n",
    "    \n",
    "    \"\"\"\n",
    "    4. Calculate the dot product of the previous step\n",
    "       with the weights of the second (i.e. outer) layer.\n",
    "    \"\"\"\n",
    "    # (N, 3) * (3, 1) -> (N, 1)\n",
    "    step4 = np.dot(step3, weights[1])\n",
    "    \n",
    "    \n",
    "    \"\"\"\n",
    "    5. Apply the sigmoid function on the result.\n",
    "    \"\"\"\n",
    "    # (N, 1) -> (N, 1)\n",
    "    step5 = sigmoid(step4)\n",
    "    \n",
    "    \n",
    "    \"\"\"\n",
    "    6. Return all intermediate results (i.e. anything that is outputted\n",
    "       by an activation function).\n",
    "    \"\"\"\n",
    "   \n",
    "\n",
    "    return step2, step5"
   ]
  },
  {
   "cell_type": "markdown",
   "metadata": {},
   "source": [
    "How a neural network \"calculates\":\n",
    "1. Add bias\n",
    "2. Multiply by weights\n",
    "3. Activate"
   ]
  },
  {
   "cell_type": "code",
   "execution_count": 15,
   "metadata": {},
   "outputs": [],
   "source": [
    "out1, out2 = feed_forward(X, weights)"
   ]
  },
  {
   "cell_type": "code",
   "execution_count": 16,
   "metadata": {},
   "outputs": [
    {
     "data": {
      "text/plain": [
       "[array([[-0.01602472,  1.54707545],\n",
       "        [ 0.28194476, -2.08507206],\n",
       "        [-0.57345251,  0.60960852]]),\n",
       " array([[ 0.67330321],\n",
       "        [ 0.03601204],\n",
       "        [-0.7121668 ]])]"
      ]
     },
     "execution_count": 16,
     "metadata": {},
     "output_type": "execute_result"
    }
   ],
   "source": [
    "weights"
   ]
  },
  {
   "cell_type": "markdown",
   "metadata": {},
   "source": [
    "### Part 2: Training the Neural Network using Backpropagation"
   ]
  },
  {
   "cell_type": "code",
   "execution_count": null,
   "metadata": {},
   "outputs": [],
   "source": [
    "loss=−(ytrue*log(ypred)+(1−ytrue)*log(1−ypred))"
   ]
  },
  {
   "cell_type": "code",
   "execution_count": 19,
   "metadata": {},
   "outputs": [],
   "source": [
    "def log_loss(ytrue, ypred):\n",
    "    loss = - (ytrue*np.log(ypred) + (1-ytrue)*np.log(1-ypred)) #transcribe the formula above\n",
    "    return loss"
   ]
  },
  {
   "cell_type": "code",
   "execution_count": 20,
   "metadata": {},
   "outputs": [],
   "source": [
    "ytrue = np.array([0.0, 0.0, 1.0, 1.0])\n",
    "ypred = np.array([0.01, 0.99, 0.01, 0.99])\n",
    "expected = np.array([0.01, 4.61, 4.61, 0.01])\n",
    "assert np.all(log_loss(ytrue, ypred).round(2) == expected)"
   ]
  },
  {
   "cell_type": "code",
   "execution_count": 43,
   "metadata": {},
   "outputs": [],
   "source": [
    "def backprop(weights,\n",
    "             output1,\n",
    "             output2,\n",
    "             ytrue,\n",
    "             X_input,\n",
    "             LR_O,\n",
    "             LR_H):\n",
    "    #separate learning rates for outer and inner weights.\n",
    "\n",
    "    wH = weights[0]\n",
    "    wO = weights[1]\n",
    "\n",
    "    '''EQUATION A:'''\n",
    "    ytrue = ytrue.reshape(-1, 1)\n",
    "    ypred = feed_forward(X_input, weights)\n",
    "    error = (ytrue - ypred[0]) * log_loss(ytrue , ypred[0])\n",
    "\n",
    "    '''EQUATION B:'''\n",
    "    sig_deriv = sigmoid(np.dot(output2,wO.T)) * (1 - sigmoid(np.dot(output2,wO.T)))\n",
    "    #derivative of the sigmoid function with respect to the\n",
    "    #hidden output * weights\n",
    "    y_grad = sig_deriv * error\n",
    "\n",
    "    '''EQUATION C:'''\n",
    "    hidden_out_with_bias = np.hstack([output2,np.ones((output2[0], 1))])\n",
    "    #don't forget the bias!\n",
    "    delta_wo = np.dot(-y_grad.transpose(), hidden_out_with_bias ) * LR_O\n",
    "\n",
    "    #and finally, old weights + delta weights -> new weights!\n",
    "    wO_new = wO + delta_wo.transpose()\n",
    "\n",
    "    '''EQUATION D:'''\n",
    "    sig_deriv_2 = sigmoid(np.dot(output1, wH)) * (1 - sigmoid(output1, wH))\n",
    "    H_grad = sig_deriv_2  * np.dot(y_grad , wH) #weights[:2].transpose()\n",
    "    #exclude the bias (3rd column) of the outer weights,\n",
    "    #since it is not backpropagated!\n",
    "\n",
    "    '''EQUATION E:'''\n",
    "    delta_wH = np.dot(-H_grad.transpose(), X_input) * LR_H\n",
    "    wH_new = wH + delta_wH.transpose()\n",
    "    #old weights + delta weights -> new weights!\n",
    "\n",
    "    return w0_new, wH_new"
   ]
  },
  {
   "cell_type": "code",
   "execution_count": null,
   "metadata": {},
   "outputs": [],
   "source": []
  },
  {
   "cell_type": "code",
   "execution_count": 44,
   "metadata": {},
   "outputs": [
    {
     "ename": "ValueError",
     "evalue": "operands could not be broadcast together with shapes (50,3) (50,2) ",
     "output_type": "error",
     "traceback": [
      "\u001b[0;31m---------------------------------------------------------------------------\u001b[0m",
      "\u001b[0;31mValueError\u001b[0m                                Traceback (most recent call last)",
      "\u001b[0;32m<ipython-input-44-089e72db0e54>\u001b[0m in \u001b[0;36m<module>\u001b[0;34m\u001b[0m\n\u001b[1;32m      5\u001b[0m     \u001b[0mout1\u001b[0m\u001b[0;34m,\u001b[0m \u001b[0mout2\u001b[0m \u001b[0;34m=\u001b[0m \u001b[0mfeed_forward\u001b[0m\u001b[0;34m(\u001b[0m\u001b[0mX\u001b[0m\u001b[0;34m,\u001b[0m \u001b[0mweights\u001b[0m\u001b[0;34m)\u001b[0m\u001b[0;34m\u001b[0m\u001b[0;34m\u001b[0m\u001b[0m\n\u001b[1;32m      6\u001b[0m     \u001b[0mLOSS_VEC\u001b[0m\u001b[0;34m.\u001b[0m\u001b[0mappend\u001b[0m\u001b[0;34m(\u001b[0m\u001b[0msum\u001b[0m\u001b[0;34m(\u001b[0m\u001b[0mlog_loss\u001b[0m\u001b[0;34m(\u001b[0m\u001b[0my\u001b[0m\u001b[0;34m,\u001b[0m\u001b[0mout2\u001b[0m\u001b[0;34m)\u001b[0m\u001b[0;34m)\u001b[0m\u001b[0;34m[\u001b[0m\u001b[0;36m0\u001b[0m\u001b[0;34m]\u001b[0m\u001b[0;34m)\u001b[0m\u001b[0;34m\u001b[0m\u001b[0;34m\u001b[0m\u001b[0m\n\u001b[0;32m----> 7\u001b[0;31m     \u001b[0mw0_new\u001b[0m\u001b[0;34m,\u001b[0m \u001b[0mwH_new\u001b[0m \u001b[0;34m=\u001b[0m \u001b[0mbackprop\u001b[0m\u001b[0;34m(\u001b[0m\u001b[0mweights\u001b[0m\u001b[0;34m,\u001b[0m \u001b[0mout1\u001b[0m\u001b[0;34m,\u001b[0m \u001b[0mout2\u001b[0m\u001b[0;34m,\u001b[0m \u001b[0my\u001b[0m\u001b[0;34m,\u001b[0m \u001b[0mX\u001b[0m\u001b[0;34m,\u001b[0m \u001b[0;36m0.1\u001b[0m\u001b[0;34m,\u001b[0m \u001b[0;36m0.1\u001b[0m\u001b[0;34m)\u001b[0m\u001b[0;34m\u001b[0m\u001b[0;34m\u001b[0m\u001b[0m\n\u001b[0m\u001b[1;32m      8\u001b[0m     \u001b[0mweights\u001b[0m \u001b[0;34m=\u001b[0m \u001b[0;34m[\u001b[0m\u001b[0mw0_new\u001b[0m\u001b[0;34m,\u001b[0m \u001b[0mwH_new\u001b[0m\u001b[0;34m]\u001b[0m\u001b[0;34m\u001b[0m\u001b[0;34m\u001b[0m\u001b[0m\n",
      "\u001b[0;32m<ipython-input-43-c1b6b2a5185c>\u001b[0m in \u001b[0;36mbackprop\u001b[0;34m(weights, output1, output2, ytrue, X_input, LR_O, LR_H)\u001b[0m\n\u001b[1;32m     20\u001b[0m     \u001b[0;31m#derivative of the sigmoid function with respect to the\u001b[0m\u001b[0;34m\u001b[0m\u001b[0;34m\u001b[0m\u001b[0;34m\u001b[0m\u001b[0m\n\u001b[1;32m     21\u001b[0m     \u001b[0;31m#hidden output * weights\u001b[0m\u001b[0;34m\u001b[0m\u001b[0;34m\u001b[0m\u001b[0;34m\u001b[0m\u001b[0m\n\u001b[0;32m---> 22\u001b[0;31m     \u001b[0my_grad\u001b[0m \u001b[0;34m=\u001b[0m \u001b[0msig_deriv\u001b[0m \u001b[0;34m*\u001b[0m \u001b[0merror\u001b[0m\u001b[0;34m\u001b[0m\u001b[0;34m\u001b[0m\u001b[0m\n\u001b[0m\u001b[1;32m     23\u001b[0m \u001b[0;34m\u001b[0m\u001b[0m\n\u001b[1;32m     24\u001b[0m     \u001b[0;34m'''EQUATION C:'''\u001b[0m\u001b[0;34m\u001b[0m\u001b[0;34m\u001b[0m\u001b[0m\n",
      "\u001b[0;31mValueError\u001b[0m: operands could not be broadcast together with shapes (50,3) (50,2) "
     ]
    }
   ],
   "source": [
    "LOSS_VEC = []\n",
    "\n",
    "for i in range(500):\n",
    "    \n",
    "    out1, out2 = feed_forward(X, weights)\n",
    "    LOSS_VEC.append(sum(log_loss(y,out2))[0])\n",
    "    w0_new, wH_new = backprop(weights, out1, out2, y, X, 0.1, 0.1)\n",
    "    weights = [w0_new, wH_new]"
   ]
  },
  {
   "cell_type": "code",
   "execution_count": null,
   "metadata": {},
   "outputs": [],
   "source": []
  },
  {
   "cell_type": "code",
   "execution_count": 28,
   "metadata": {},
   "outputs": [
    {
     "data": {
      "text/plain": [
       "array([[0.42720827, 0.15589385],\n",
       "       [0.31724072, 0.97395163],\n",
       "       [0.37254195, 0.68792381],\n",
       "       [0.35870313, 0.96179949],\n",
       "       [0.41113932, 0.10110644],\n",
       "       [0.39799855, 0.89532113],\n",
       "       [0.3660902 , 0.6302945 ],\n",
       "       [0.38122242, 0.33813483],\n",
       "       [0.34418404, 0.85129389],\n",
       "       [0.37870332, 0.29102347],\n",
       "       [0.42754395, 0.21224532],\n",
       "       [0.39874346, 0.68533524],\n",
       "       [0.33680614, 0.97002232],\n",
       "       [0.42214605, 0.36180972],\n",
       "       [0.36902642, 0.79948734],\n",
       "       [0.38782152, 0.55448099],\n",
       "       [0.31998148, 0.98618936],\n",
       "       [0.37772423, 0.95002812],\n",
       "       [0.37660872, 0.95095164],\n",
       "       [0.42304657, 0.10532345],\n",
       "       [0.40439508, 0.54945964],\n",
       "       [0.44350303, 0.08350188],\n",
       "       [0.34211786, 0.4766624 ],\n",
       "       [0.32993541, 0.92978698],\n",
       "       [0.35513825, 0.79122712],\n",
       "       [0.34647621, 0.90613659],\n",
       "       [0.33474095, 0.98141993],\n",
       "       [0.37451937, 0.56299007],\n",
       "       [0.3206235 , 0.96734846],\n",
       "       [0.40417078, 0.53715806],\n",
       "       [0.38949817, 0.53322578],\n",
       "       [0.43665141, 0.25029416],\n",
       "       [0.337082  , 0.93680306],\n",
       "       [0.36160352, 0.85988015],\n",
       "       [0.38724553, 0.12122537],\n",
       "       [0.37031444, 0.87540442],\n",
       "       [0.33692945, 0.97322108],\n",
       "       [0.32444073, 0.95514637],\n",
       "       [0.35493146, 0.40454365],\n",
       "       [0.32280736, 0.97273573],\n",
       "       [0.46628278, 0.06680275],\n",
       "       [0.39415062, 0.10478727],\n",
       "       [0.40381516, 0.12449449],\n",
       "       [0.36638901, 0.96651761],\n",
       "       [0.39538361, 0.12822843],\n",
       "       [0.40054524, 0.49460746],\n",
       "       [0.34779297, 0.97410079],\n",
       "       [0.42548478, 0.12938358],\n",
       "       [0.34841859, 0.81158969],\n",
       "       [0.34981135, 0.9348979 ]])"
      ]
     },
     "execution_count": 28,
     "metadata": {},
     "output_type": "execute_result"
    }
   ],
   "source": [
    "ypred = feed_forward(X, weights)\n",
    "ypred[0]"
   ]
  },
  {
   "cell_type": "code",
   "execution_count": null,
   "metadata": {},
   "outputs": [],
   "source": []
  }
 ],
 "metadata": {
  "kernelspec": {
   "display_name": "Python 3",
   "language": "python",
   "name": "python3"
  },
  "language_info": {
   "codemirror_mode": {
    "name": "ipython",
    "version": 3
   },
   "file_extension": ".py",
   "mimetype": "text/x-python",
   "name": "python",
   "nbconvert_exporter": "python",
   "pygments_lexer": "ipython3",
   "version": "3.7.6"
  }
 },
 "nbformat": 4,
 "nbformat_minor": 4
}
