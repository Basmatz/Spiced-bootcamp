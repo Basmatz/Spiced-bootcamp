{
 "cells": [
  {
   "cell_type": "code",
   "execution_count": null,
   "metadata": {
    "pycharm": {
     "name": "#%%\n"
    }
   },
   "outputs": [],
   "source": [
    "from bs4 import BeautifulSoup\n",
    "import re\n",
    "import requests\n",
    "import os\n",
    "from collections import Counter\n",
    "import pandas as pd\n",
    "from sklearn.feature_extraction.text import CountVectorizer, TfidfTransformer\n",
    "from sklearn.ensemble import RandomForestClassifier\n",
    "from sklearn.pipeline import make_pipeline"
   ]
  },
  {
   "cell_type": "markdown",
   "metadata": {
    "pycharm": {
     "name": "#%% md\n"
    }
   },
   "source": [
    "## Foo Fighters"
   ]
  },
  {
   "cell_type": "code",
   "execution_count": null,
   "metadata": {
    "pycharm": {
     "name": "#%%\n"
    }
   },
   "outputs": [],
   "source": [
    "# Choose the URL you want to request\n",
    "url = 'https://www.lyrics.com/artist/Foo-Fighters/144725'\n",
    "\n",
    "# Send the request\n",
    "request = requests.get(url)\n",
    "\n",
    "# Save the html in a txt file and search in an editor\n",
    "with open('foofighters/FooFighters.html', 'w') as file:\n",
    "    file.write(request.text)\n",
    "    file.close()"
   ]
  },
  {
   "cell_type": "code",
   "execution_count": null,
   "metadata": {
    "pycharm": {
     "name": "#%%\n"
    }
   },
   "outputs": [],
   "source": [
    "#RegEx Pattern\n",
    "pattern = '''/lyric\\/\\d+\\/Foo\\+Fighters\\/[^\\\\\"]+'''\n",
    "print(pattern)"
   ]
  },
  {
   "cell_type": "code",
   "execution_count": null,
   "metadata": {
    "pycharm": {
     "name": "#%%\n"
    }
   },
   "outputs": [],
   "source": [
    "#Find Links\n",
    "links = re.findall(pattern, request.text)"
   ]
  },
  {
   "cell_type": "code",
   "execution_count": null,
   "metadata": {
    "pycharm": {
     "name": "#%%\n"
    }
   },
   "outputs": [],
   "source": [
    "songpattern = '''\\/lyric\\/.+\\/.+\\/(.+)$'''\n"
   ]
  },
  {
   "cell_type": "code",
   "execution_count": null,
   "metadata": {
    "pycharm": {
     "name": "#%%\n"
    }
   },
   "outputs": [],
   "source": [
    "temp = []\n",
    "for i in range(len(links)):\n",
    "    temp += re.findall(songpattern, links[i])\n",
    "print(temp)\n",
    "temp = pd.DataFrame(temp)\n",
    "temp = temp[0].unique()"
   ]
  },
  {
   "cell_type": "code",
   "execution_count": null,
   "metadata": {
    "pycharm": {
     "name": "#%%\n"
    }
   },
   "outputs": [],
   "source": [
    "###DON'T RUN!!!!!!!!!\n",
    "#Loop to create all lyric files\n",
    "# for i in range(len(links)):\n",
    "#     temp_url = \"https://www.lyrics.com/\" + links[i]\n",
    "#     temp_req = requests.get(temp_url)\n",
    "#\n",
    "#     with open(\"foofighters/FooFighters--\" + re.findall(songpattern, links[i])[0] + \".html\", \"w\", encoding=\"utf-8\") as file:\n",
    "#         file.write(temp_req.text)\n",
    "# file.close()\n"
   ]
  },
  {
   "cell_type": "code",
   "execution_count": null,
   "metadata": {
    "pycharm": {
     "name": "#%%\n"
    }
   },
   "outputs": [],
   "source": [
    "### Extract Lyrics with BeautifulSoup\n",
    "\n",
    "# for i in range(len(links)):\n",
    "#     with open(\"foofighters/FooFighters--\" + re.findall(songpattern, links[i])[0] + \".html\", \"r\", encoding=\"utf-8\") as reader:\n",
    "#\n",
    "#         soup = BeautifulSoup(reader)\n",
    "#\n",
    "#         for pre in soup.find_all('pre'):\n",
    "#             if \"lyric-body\" in pre.get('class', []):\n",
    "#                 temp_doc = pre.get_text()\n",
    "#\n",
    "#         with open(\"foofighters/txt/\" + re.findall(songpattern, links[i])[0] + \".txt\", \"w\", encoding=\"utf-8\") as writer:\n",
    "#             writer.write(temp_doc)\n",
    "#             writer.close()\n",
    "#\n",
    "#         reader.close()\n",
    "\n"
   ]
  },
  {
   "cell_type": "code",
   "execution_count": null,
   "metadata": {
    "pycharm": {
     "name": "#%%\n"
    }
   },
   "outputs": [],
   "source": [
    "\n",
    "# #select lyrics\n",
    "# lyricpattern = '<pre id=\\\"lyric-body-text\\\".+>([\\s\\S]+)</pre>'\n",
    "# deletepattern = \"(<.*?>)\"\n",
    "\n"
   ]
  },
  {
   "cell_type": "code",
   "execution_count": null,
   "metadata": {
    "pycharm": {
     "name": "#%%\n"
    }
   },
   "outputs": [],
   "source": [
    "###Write Songs in TXT files\n",
    "# songnames = []\n",
    "#\n",
    "# for i in range(len(links)):\n",
    "#\n",
    "#     with open(\"foofighters/FooFighters--\" + re.findall(songpattern, links[i])[0] + \".html\", \"r\", encoding=\"utf-8\") as reader:\n",
    "#         tempfile = reader.read()\n",
    "#         reader.close()\n",
    "#\n",
    "#     tempfile = re.findall(lyricpattern, tempfile)\n",
    "#\n",
    "#     tempfile = re.sub(deletepattern,\"\", tempfile[0])\n",
    "#\n",
    "#     with open(\"foofighters/txt/FooFighters--\" + re.findall(songpattern, links[i])[0] + \".txt\", \"w\", encoding=\"utf-8\") as writer:\n",
    "#         writer.write(tempfile)\n",
    "#         writer.close()"
   ]
  },
  {
   "cell_type": "code",
   "execution_count": null,
   "metadata": {
    "pycharm": {
     "name": "#%%\n"
    }
   },
   "outputs": [],
   "source": [
    "##Find Duplicates\n",
    "filenames = []\n",
    "sizes = []\n",
    "\n",
    "for fn in os.listdir('foofighters/txt'):\n",
    "    filenames += [fn]\n",
    "    sizes += [os.path.getsize('foofighters/txt/' + fn)]\n",
    "\n",
    "d = {\"Filename\": filenames, \"Size\": sizes}\n",
    "\n",
    "liste = pd.DataFrame(d)\n",
    "liste.drop_duplicates(keep=\"first\", subset=\"Size\", inplace=True)\n",
    "\n",
    "keepthese = pd.Series(liste[\"Filename\"])\n",
    "keepthese.reset_index(drop=True, inplace=True)\n"
   ]
  },
  {
   "cell_type": "code",
   "execution_count": null,
   "metadata": {
    "pycharm": {
     "name": "#%%\n"
    }
   },
   "outputs": [],
   "source": [
    "#Delete Duplicate Files\n",
    "\n",
    "for fn in os.listdir('foofighters/txt'):\n",
    "    if fn not in keepthese.values:\n",
    "        os.remove('foofighters/txt/' + fn)"
   ]
  },
  {
   "cell_type": "code",
   "execution_count": null,
   "metadata": {
    "pycharm": {
     "name": "#%%\n"
    }
   },
   "outputs": [],
   "source": [
    "###write all songs in one file\n",
    "lyrics = []\n",
    "songnames = []\n",
    "artists = []\n",
    "\n",
    "for fn in os.listdir('foofighters/txt'):\n",
    "    lyrics += [open('foofighters/txt/' + fn).read().lower()]\n",
    "    songnames += [fn[:-4]]\n",
    "    artists += [\"Foo Fighters\"]\n",
    "\n",
    "d = {\"Artist\": artists, \"Songname\": songnames, \"Lyric\": lyrics}\n",
    "\n",
    "corpus_foo = pd.DataFrame(d)\n",
    "\n",
    "corpus_foo"
   ]
  },
  {
   "cell_type": "markdown",
   "metadata": {},
   "source": [
    "## Britney Spears"
   ]
  },
  {
   "cell_type": "code",
   "execution_count": null,
   "metadata": {
    "pycharm": {
     "name": "#%%\n"
    }
   },
   "outputs": [],
   "source": [
    "# Choose the URL you want to request\n",
    "url = 'https://www.lyrics.com/artist/Britney-Spears/320976'\n",
    "\n",
    "# Send the request\n",
    "request = requests.get(url)\n",
    "\n",
    "# Save the html in a txt file and search in an editor\n",
    "with open('britney/BritneySpears.html', 'w') as file:\n",
    "    file.write(request.text)\n",
    "    file.close()"
   ]
  },
  {
   "cell_type": "code",
   "execution_count": null,
   "metadata": {
    "pycharm": {
     "name": "#%%\n"
    }
   },
   "outputs": [],
   "source": [
    "#RegEx Pattern\n",
    "pattern = '''/lyric\\/\\d+\\/Britney\\+Spears\\/[^\\\\\"]+'''"
   ]
  },
  {
   "cell_type": "code",
   "execution_count": null,
   "metadata": {
    "pycharm": {
     "name": "#%%\n"
    }
   },
   "outputs": [],
   "source": [
    "#Find Links\n",
    "links = re.findall(pattern, request.text)"
   ]
  },
  {
   "cell_type": "code",
   "execution_count": null,
   "metadata": {
    "pycharm": {
     "name": "#%%\n"
    }
   },
   "outputs": [],
   "source": [
    "songpattern = '''\\/lyric\\/.+\\/.+\\/(.+)$'''\n"
   ]
  },
  {
   "cell_type": "code",
   "execution_count": null,
   "metadata": {
    "pycharm": {
     "name": "#%%\n"
    }
   },
   "outputs": [],
   "source": [
    "temp = []\n",
    "for i in range(len(links)):\n",
    "    temp += re.findall(songpattern, links[i])\n",
    "print(temp)\n",
    "temp = pd.DataFrame(temp)\n",
    "temp = temp[0].unique()"
   ]
  },
  {
   "cell_type": "code",
   "execution_count": null,
   "metadata": {
    "pycharm": {
     "name": "#%%\n"
    }
   },
   "outputs": [],
   "source": [
    "###DON'T RUN!!!!!!!!!\n",
    "#Loop to create all lyric files\n",
    "# for i in range(len(links)):\n",
    "#     temp_url = \"https://www.lyrics.com/\" + links[i]\n",
    "#     temp_req = requests.get(temp_url)\n",
    "#\n",
    "#     with open(\"britney/BritneySpears--\" + re.findall(songpattern, links[i])[0] + \".html\", \"w\", encoding=\"utf-8\") as file:\n",
    "#         file.write(temp_req.text)\n",
    "# file.close()\n"
   ]
  },
  {
   "cell_type": "code",
   "execution_count": null,
   "metadata": {
    "pycharm": {
     "name": "#%%\n"
    }
   },
   "outputs": [],
   "source": [
    "### Extract Lyrics with BeautifulSoup\n",
    "\n",
    "# for i in range(len(links)):\n",
    "#     with open(\"britney/BritneySpears--\" + re.findall(songpattern, links[i])[0] + \".html\", \"r\", encoding=\"utf-8\") as reader:\n",
    "#\n",
    "#         soup = BeautifulSoup(reader)\n",
    "#\n",
    "#         for pre in soup.find_all('pre'):\n",
    "#             if \"lyric-body\" in pre.get('class', []):\n",
    "#                 temp_doc = pre.get_text()\n",
    "#\n",
    "#         with open(\"britney/txt/\" + re.findall(songpattern, links[i])[0] + \".txt\", \"w\", encoding=\"utf-8\") as writer:\n",
    "#             writer.write(temp_doc)\n",
    "#             writer.close()\n",
    "#\n",
    "#         reader.close()\n",
    "\n"
   ]
  },
  {
   "cell_type": "code",
   "execution_count": null,
   "metadata": {
    "pycharm": {
     "name": "#%%\n"
    }
   },
   "outputs": [],
   "source": [
    "##Find Duplicates\n",
    "filenames = []\n",
    "sizes = []\n",
    "\n",
    "for fn in os.listdir('britney/txt'):\n",
    "    print(fn)\n",
    "    filenames += [fn]\n",
    "    sizes += [os.path.getsize('britney/txt/' + fn)]\n",
    "\n",
    "d = {\"Filename\": filenames, \"Size\": sizes}\n",
    "\n",
    "liste = pd.DataFrame(d)\n",
    "liste.drop_duplicates(keep=\"first\", subset=\"Size\", inplace=True)\n",
    "\n",
    "keepthese = pd.Series(liste[\"Filename\"])\n",
    "keepthese.reset_index(drop=True, inplace=True)\n",
    "\n",
    "keepthese"
   ]
  },
  {
   "cell_type": "code",
   "execution_count": null,
   "metadata": {
    "pycharm": {
     "name": "#%%\n"
    }
   },
   "outputs": [],
   "source": [
    "#Delete Duplicate Files\n",
    "\n",
    "for fn in os.listdir('britney/txt'):\n",
    "    if fn not in keepthese.values:\n",
    "        os.remove('britney/txt/' + fn)"
   ]
  },
  {
   "cell_type": "code",
   "execution_count": null,
   "metadata": {
    "pycharm": {
     "name": "#%%\n"
    }
   },
   "outputs": [],
   "source": [
    "###write all songs in one file\n",
    "lyrics = []\n",
    "songnames = []\n",
    "artists = []\n",
    "\n",
    "for fn in os.listdir('britney/txt'):\n",
    "    lyrics += [open('britney/txt/' + fn).read().lower()]\n",
    "    songnames += [fn[:-4]]\n",
    "    artists += [\"Britney Spears\"]\n",
    "\n",
    "d = {\"Artist\": artists, \"Songname\": songnames, \"Lyric\": lyrics}\n",
    "\n",
    "corpus_britney = pd.DataFrame(d)\n",
    "\n",
    "corpus_britney\n"
   ]
  },
  {
   "cell_type": "code",
   "execution_count": 143,
   "metadata": {
    "pycharm": {
     "name": "#%%\n"
    }
   },
   "outputs": [
    {
     "name": "stdout",
     "output_type": "stream",
     "text": [
      "<class 'pandas.core.frame.DataFrame'>\n"
     ]
    },
    {
     "data": {
      "text/plain": "                                                 Lyric\n0    oh\\ndiamond, diamond\\nshinin', shinin'\\nooh bo...\n1    i can't get no satisfaction\\ni can't get no sa...\n2    [ying yang twins]\\n(shout it)\\nwe gonna go to ...\n3    shorty!\\nwe're gonna go to the club and get cr...\n4    (shorty)\\nwe gonna go to the club and get crun...\n..                                                 ...\n145  i have a choice between the bat or the belt\\ne...\n146  able bodied, chew the word\\ncop to plenty, sel...\n147  goodbye jimmy, farewell youth\\ni must be on my...\n148  when all is said and done\\nand the air we brea...\n149  leading everything along\\n\\nnever far from bei...\n\n[350 rows x 1 columns]",
      "text/html": "<div>\n<style scoped>\n    .dataframe tbody tr th:only-of-type {\n        vertical-align: middle;\n    }\n\n    .dataframe tbody tr th {\n        vertical-align: top;\n    }\n\n    .dataframe thead th {\n        text-align: right;\n    }\n</style>\n<table border=\"1\" class=\"dataframe\">\n  <thead>\n    <tr style=\"text-align: right;\">\n      <th></th>\n      <th>Lyric</th>\n    </tr>\n  </thead>\n  <tbody>\n    <tr>\n      <th>0</th>\n      <td>oh\\ndiamond, diamond\\nshinin', shinin'\\nooh bo...</td>\n    </tr>\n    <tr>\n      <th>1</th>\n      <td>i can't get no satisfaction\\ni can't get no sa...</td>\n    </tr>\n    <tr>\n      <th>2</th>\n      <td>[ying yang twins]\\n(shout it)\\nwe gonna go to ...</td>\n    </tr>\n    <tr>\n      <th>3</th>\n      <td>shorty!\\nwe're gonna go to the club and get cr...</td>\n    </tr>\n    <tr>\n      <th>4</th>\n      <td>(shorty)\\nwe gonna go to the club and get crun...</td>\n    </tr>\n    <tr>\n      <th>...</th>\n      <td>...</td>\n    </tr>\n    <tr>\n      <th>145</th>\n      <td>i have a choice between the bat or the belt\\ne...</td>\n    </tr>\n    <tr>\n      <th>146</th>\n      <td>able bodied, chew the word\\ncop to plenty, sel...</td>\n    </tr>\n    <tr>\n      <th>147</th>\n      <td>goodbye jimmy, farewell youth\\ni must be on my...</td>\n    </tr>\n    <tr>\n      <th>148</th>\n      <td>when all is said and done\\nand the air we brea...</td>\n    </tr>\n    <tr>\n      <th>149</th>\n      <td>leading everything along\\n\\nnever far from bei...</td>\n    </tr>\n  </tbody>\n</table>\n<p>350 rows × 1 columns</p>\n</div>"
     },
     "execution_count": 143,
     "metadata": {},
     "output_type": "execute_result"
    }
   ],
   "source": [
    "#Merge corpora\n",
    "corpus = pd.concat([corpus_britney, corpus_foo])\n",
    "\n",
    "\n",
    "corpus.drop(\"Songname\", axis=1, inplace=True)\n",
    "\n",
    "X = corpus[[\"Lyric\"]]\n",
    "y = corpus[\"Artist\"]\n",
    "\n",
    "print(type(X))\n",
    "X"
   ]
  },
  {
   "cell_type": "code",
   "execution_count": 144,
   "metadata": {
    "pycharm": {
     "name": "#%%\n"
    }
   },
   "outputs": [
    {
     "name": "stdout",
     "output_type": "stream",
     "text": [
      "(400,)\n"
     ]
    },
    {
     "data": {
      "text/plain": "                                                 Lyric\n0    oh\\ndiamond, diamond\\nshinin', shinin'\\nooh bo...\n1    i can't get no satisfaction\\ni can't get no sa...\n2    [ying yang twins]\\n(shout it)\\nwe gonna go to ...\n3    shorty!\\nwe're gonna go to the club and get cr...\n4    (shorty)\\nwe gonna go to the club and get crun...\n..                                                 ...\n395  sometimes i can't help the feeling that i'm\\ni...\n396  i should have known that it would end this way...\n397  yes or no?\\nwhat is truth\\nbut a dirty black c...\n398  stupid on the steinway\\nso sick upon a steinwa...\n399  dear haley\\ncan you save me from\\nthe borrowed...\n\n[400 rows x 1 columns]",
      "text/html": "<div>\n<style scoped>\n    .dataframe tbody tr th:only-of-type {\n        vertical-align: middle;\n    }\n\n    .dataframe tbody tr th {\n        vertical-align: top;\n    }\n\n    .dataframe thead th {\n        text-align: right;\n    }\n</style>\n<table border=\"1\" class=\"dataframe\">\n  <thead>\n    <tr style=\"text-align: right;\">\n      <th></th>\n      <th>Lyric</th>\n    </tr>\n  </thead>\n  <tbody>\n    <tr>\n      <th>0</th>\n      <td>oh\\ndiamond, diamond\\nshinin', shinin'\\nooh bo...</td>\n    </tr>\n    <tr>\n      <th>1</th>\n      <td>i can't get no satisfaction\\ni can't get no sa...</td>\n    </tr>\n    <tr>\n      <th>2</th>\n      <td>[ying yang twins]\\n(shout it)\\nwe gonna go to ...</td>\n    </tr>\n    <tr>\n      <th>3</th>\n      <td>shorty!\\nwe're gonna go to the club and get cr...</td>\n    </tr>\n    <tr>\n      <th>4</th>\n      <td>(shorty)\\nwe gonna go to the club and get crun...</td>\n    </tr>\n    <tr>\n      <th>...</th>\n      <td>...</td>\n    </tr>\n    <tr>\n      <th>395</th>\n      <td>sometimes i can't help the feeling that i'm\\ni...</td>\n    </tr>\n    <tr>\n      <th>396</th>\n      <td>i should have known that it would end this way...</td>\n    </tr>\n    <tr>\n      <th>397</th>\n      <td>yes or no?\\nwhat is truth\\nbut a dirty black c...</td>\n    </tr>\n    <tr>\n      <th>398</th>\n      <td>stupid on the steinway\\nso sick upon a steinwa...</td>\n    </tr>\n    <tr>\n      <th>399</th>\n      <td>dear haley\\ncan you save me from\\nthe borrowed...</td>\n    </tr>\n  </tbody>\n</table>\n<p>400 rows × 1 columns</p>\n</div>"
     },
     "execution_count": 144,
     "metadata": {},
     "output_type": "execute_result"
    }
   ],
   "source": [
    "#Oversampling\n",
    "from imblearn.over_sampling import RandomOverSampler\n",
    "\n",
    "ros = RandomOverSampler()\n",
    "X_resampled, y_resampled = ros.fit_resample(X, y)\n",
    "\n",
    "#X_resampled = X_resampled.transpose()\n",
    "\n",
    "print(y_resampled.shape)\n",
    "X_resampled"
   ]
  },
  {
   "cell_type": "code",
   "execution_count": 146,
   "metadata": {
    "pycharm": {
     "name": "#%%\n"
    }
   },
   "outputs": [
    {
     "data": {
      "text/plain": "                                                Lyric\n0   this kitten's got your tongue tied in knots, i...\n1   i used to think\\ni had the answers to everythi...\n2   for whatever reason\\ni feel like i've been wan...\n3   you got sex siren in your face\\nlet me get up ...\n4   said you're gonna be here in a minute\\nsitting...\n5   yeah yeah yeah yeah yeah\\n\\nyeah yeah yeah yea...\n6   ah, yeah\\nyeah, yeah, yeah\\nyeah, yeah, yeah, ...\n7   do you feel this\\ni know you feel this\\nare yo...\n8   superstar\\nwhere you from, how's it going?\\ni ...\n9   friends say, i'm away\\nbecause i'm down with y...\n10  (everybody)\\n(everybody's looking for somethin...\n11  will you turn me up?\\nyeah!\\n\\nthis is the mak...\n12  she's gonna pack her bags\\nshe's gonna find he...\n13  for tonight\\nit's just the two of us\\nturn the...\n14  i am sitting in the morning\\nat the diner on t...\n15  i'm not ashamed of the things that i dream \\ni...\n16  yeah, yeah, yeah, yeah, yeah, yeah\\nyeah, yeah...\n17  he was looking, said he want to hook up\\nbut s...\n18  oh baby, baby\\noh baby, baby\\n\\noh baby, baby,...\n19  yeah, smash on the radio bet, i penned it!\\nbr...\n20  i can't let go of control\\ni can't let go and ...\n21  you wanna, you wanna\\n\\nyou want a hot body? y...\n22  oh, oh-oh\\noh, oh, oh-oh\\n\\nfriends say, i'm a...\n23  lately i've been stuck imagining\\nwhat i wanna...\n24  [chorus]\\ni never promised you a happy ending ...\n25  people can take everything away from you\\n\\nbu...\n26  superstar\\nwhere you from, how's it going?\\ni ...\n27  oh, oh, yeah\\nyou're so bright\\nlike a dream\\n...\n28  it's been a while\\ni know i shouldn't have kep...\n29  j'oublie le monde, quand tu fais\\nfais-moi l'a...\n30  notice me\\ntake my hand\\nwhy are we\\nstrangers...\n31  i like it, like it\\ni like it, like it\\ni like...\n32  dear diary\\ntoday i saw a boy\\nand i wondered ...\n33  my friends say you're so into me\\nand that you...\n34  my friends say you're so into me \\nand that yo...\n35  forever\\nit's been hours seems like days \\nsin...\n36  okay, the shoe is going on the other foot toni...\n37  do you know what it's like?\\ncome on, come on\\...\n38  i can't get no satisfaction\\ni can't get no sa...\n39  confidence is a must\\n\\ncockiness is a plus\\n\\...\n40  got those heels on that you love\\nthe ones tha...\n41  let's undo all the distance\\nfrom your guts do...\n42  this is the story about mona lisa\\nthe mona li...\n43  so wicked\\nin the way he moves\\ndon't miss it\\...\n44  \"ladies and gentlemen, we interrupt our progra...\n45  down and up and down and up and down and up an...\n46  son dã©ri sang\\n\\nmini sondã©\\n\\nbika mi sanga...\n47  the one and only, britney\\nyeah (yeah)\\nyou re...\n48  french fingertips,\\nred lips\\nbitch is dangero...\n49  oh baby, baby\\noh baby, baby\\noh baby, baby\\nh...",
      "text/html": "<div>\n<style scoped>\n    .dataframe tbody tr th:only-of-type {\n        vertical-align: middle;\n    }\n\n    .dataframe tbody tr th {\n        vertical-align: top;\n    }\n\n    .dataframe thead th {\n        text-align: right;\n    }\n</style>\n<table border=\"1\" class=\"dataframe\">\n  <thead>\n    <tr style=\"text-align: right;\">\n      <th></th>\n      <th>Lyric</th>\n    </tr>\n  </thead>\n  <tbody>\n    <tr>\n      <th>0</th>\n      <td>this kitten's got your tongue tied in knots, i...</td>\n    </tr>\n    <tr>\n      <th>1</th>\n      <td>i used to think\\ni had the answers to everythi...</td>\n    </tr>\n    <tr>\n      <th>2</th>\n      <td>for whatever reason\\ni feel like i've been wan...</td>\n    </tr>\n    <tr>\n      <th>3</th>\n      <td>you got sex siren in your face\\nlet me get up ...</td>\n    </tr>\n    <tr>\n      <th>4</th>\n      <td>said you're gonna be here in a minute\\nsitting...</td>\n    </tr>\n    <tr>\n      <th>5</th>\n      <td>yeah yeah yeah yeah yeah\\n\\nyeah yeah yeah yea...</td>\n    </tr>\n    <tr>\n      <th>6</th>\n      <td>ah, yeah\\nyeah, yeah, yeah\\nyeah, yeah, yeah, ...</td>\n    </tr>\n    <tr>\n      <th>7</th>\n      <td>do you feel this\\ni know you feel this\\nare yo...</td>\n    </tr>\n    <tr>\n      <th>8</th>\n      <td>superstar\\nwhere you from, how's it going?\\ni ...</td>\n    </tr>\n    <tr>\n      <th>9</th>\n      <td>friends say, i'm away\\nbecause i'm down with y...</td>\n    </tr>\n    <tr>\n      <th>10</th>\n      <td>(everybody)\\n(everybody's looking for somethin...</td>\n    </tr>\n    <tr>\n      <th>11</th>\n      <td>will you turn me up?\\nyeah!\\n\\nthis is the mak...</td>\n    </tr>\n    <tr>\n      <th>12</th>\n      <td>she's gonna pack her bags\\nshe's gonna find he...</td>\n    </tr>\n    <tr>\n      <th>13</th>\n      <td>for tonight\\nit's just the two of us\\nturn the...</td>\n    </tr>\n    <tr>\n      <th>14</th>\n      <td>i am sitting in the morning\\nat the diner on t...</td>\n    </tr>\n    <tr>\n      <th>15</th>\n      <td>i'm not ashamed of the things that i dream \\ni...</td>\n    </tr>\n    <tr>\n      <th>16</th>\n      <td>yeah, yeah, yeah, yeah, yeah, yeah\\nyeah, yeah...</td>\n    </tr>\n    <tr>\n      <th>17</th>\n      <td>he was looking, said he want to hook up\\nbut s...</td>\n    </tr>\n    <tr>\n      <th>18</th>\n      <td>oh baby, baby\\noh baby, baby\\n\\noh baby, baby,...</td>\n    </tr>\n    <tr>\n      <th>19</th>\n      <td>yeah, smash on the radio bet, i penned it!\\nbr...</td>\n    </tr>\n    <tr>\n      <th>20</th>\n      <td>i can't let go of control\\ni can't let go and ...</td>\n    </tr>\n    <tr>\n      <th>21</th>\n      <td>you wanna, you wanna\\n\\nyou want a hot body? y...</td>\n    </tr>\n    <tr>\n      <th>22</th>\n      <td>oh, oh-oh\\noh, oh, oh-oh\\n\\nfriends say, i'm a...</td>\n    </tr>\n    <tr>\n      <th>23</th>\n      <td>lately i've been stuck imagining\\nwhat i wanna...</td>\n    </tr>\n    <tr>\n      <th>24</th>\n      <td>[chorus]\\ni never promised you a happy ending ...</td>\n    </tr>\n    <tr>\n      <th>25</th>\n      <td>people can take everything away from you\\n\\nbu...</td>\n    </tr>\n    <tr>\n      <th>26</th>\n      <td>superstar\\nwhere you from, how's it going?\\ni ...</td>\n    </tr>\n    <tr>\n      <th>27</th>\n      <td>oh, oh, yeah\\nyou're so bright\\nlike a dream\\n...</td>\n    </tr>\n    <tr>\n      <th>28</th>\n      <td>it's been a while\\ni know i shouldn't have kep...</td>\n    </tr>\n    <tr>\n      <th>29</th>\n      <td>j'oublie le monde, quand tu fais\\nfais-moi l'a...</td>\n    </tr>\n    <tr>\n      <th>30</th>\n      <td>notice me\\ntake my hand\\nwhy are we\\nstrangers...</td>\n    </tr>\n    <tr>\n      <th>31</th>\n      <td>i like it, like it\\ni like it, like it\\ni like...</td>\n    </tr>\n    <tr>\n      <th>32</th>\n      <td>dear diary\\ntoday i saw a boy\\nand i wondered ...</td>\n    </tr>\n    <tr>\n      <th>33</th>\n      <td>my friends say you're so into me\\nand that you...</td>\n    </tr>\n    <tr>\n      <th>34</th>\n      <td>my friends say you're so into me \\nand that yo...</td>\n    </tr>\n    <tr>\n      <th>35</th>\n      <td>forever\\nit's been hours seems like days \\nsin...</td>\n    </tr>\n    <tr>\n      <th>36</th>\n      <td>okay, the shoe is going on the other foot toni...</td>\n    </tr>\n    <tr>\n      <th>37</th>\n      <td>do you know what it's like?\\ncome on, come on\\...</td>\n    </tr>\n    <tr>\n      <th>38</th>\n      <td>i can't get no satisfaction\\ni can't get no sa...</td>\n    </tr>\n    <tr>\n      <th>39</th>\n      <td>confidence is a must\\n\\ncockiness is a plus\\n\\...</td>\n    </tr>\n    <tr>\n      <th>40</th>\n      <td>got those heels on that you love\\nthe ones tha...</td>\n    </tr>\n    <tr>\n      <th>41</th>\n      <td>let's undo all the distance\\nfrom your guts do...</td>\n    </tr>\n    <tr>\n      <th>42</th>\n      <td>this is the story about mona lisa\\nthe mona li...</td>\n    </tr>\n    <tr>\n      <th>43</th>\n      <td>so wicked\\nin the way he moves\\ndon't miss it\\...</td>\n    </tr>\n    <tr>\n      <th>44</th>\n      <td>\"ladies and gentlemen, we interrupt our progra...</td>\n    </tr>\n    <tr>\n      <th>45</th>\n      <td>down and up and down and up and down and up an...</td>\n    </tr>\n    <tr>\n      <th>46</th>\n      <td>son dã©ri sang\\n\\nmini sondã©\\n\\nbika mi sanga...</td>\n    </tr>\n    <tr>\n      <th>47</th>\n      <td>the one and only, britney\\nyeah (yeah)\\nyou re...</td>\n    </tr>\n    <tr>\n      <th>48</th>\n      <td>french fingertips,\\nred lips\\nbitch is dangero...</td>\n    </tr>\n    <tr>\n      <th>49</th>\n      <td>oh baby, baby\\noh baby, baby\\noh baby, baby\\nh...</td>\n    </tr>\n  </tbody>\n</table>\n</div>"
     },
     "execution_count": 146,
     "metadata": {},
     "output_type": "execute_result"
    }
   ],
   "source": [
    "#Undersampling\n",
    "from imblearn.under_sampling import RandomUnderSampler\n",
    "\n",
    "ros = RandomUnderSampler()\n",
    "X_resampled, y_resampled = ros.fit_resample(X, y)\n",
    "\n",
    "X_resampled.head(50)"
   ]
  },
  {
   "cell_type": "code",
   "execution_count": null,
   "metadata": {
    "pycharm": {
     "name": "#%%\n"
    }
   },
   "outputs": [],
   "source": [
    "def train_model(text, labels):\n",
    "    \"\"\"\n",
    "    Trains a scikit-learn classification model on text.\n",
    "\n",
    "    Parameters\n",
    "    ----------\n",
    "    text : list\n",
    "    labels : list\n",
    "\n",
    "    Returns\n",
    "    -------\n",
    "    model : Trained scikit-learn model.\n",
    "\n",
    "    \"\"\"\n",
    "\n",
    "    cv = CountVectorizer(stop_words='english')\n",
    "    #ros = RandomOverSampler()\n",
    "    tf = TfidfTransformer()\n",
    "    rf = RandomForestClassifier()\n",
    "    model = make_pipeline(cv, tf, rf)\n",
    "    model.fit(text, labels)\n",
    "\n",
    "    return model"
   ]
  },
  {
   "cell_type": "code",
   "execution_count": null,
   "metadata": {
    "pycharm": {
     "name": "#%%\n"
    }
   },
   "outputs": [],
   "source": [
    "def predict(model, new_text):\n",
    "    \"\"\"\n",
    "    Takes the pre-trained model pipeline and predicts new artist based on unseen text.\n",
    "\n",
    "    Parameters\n",
    "    ----------\n",
    "    model : Trained scikit-learn model pipeline.\n",
    "    new_text : str\n",
    "\n",
    "    Returns\n",
    "    ---------\n",
    "    prediction : str\n",
    "\n",
    "    \"\"\"\n",
    "    new_text = [new_text]\n",
    "    prediction = model.predict(new_text)\n",
    "\n",
    "    return prediction[0]"
   ]
  },
  {
   "cell_type": "code",
   "execution_count": 145,
   "metadata": {
    "pycharm": {
     "name": "#%%\n"
    }
   },
   "outputs": [
    {
     "ename": "ValueError",
     "evalue": "Found input variables with inconsistent numbers of samples: [1, 400]",
     "output_type": "error",
     "traceback": [
      "\u001B[1;31m---------------------------------------------------------------------------\u001B[0m",
      "\u001B[1;31mValueError\u001B[0m                                Traceback (most recent call last)",
      "\u001B[1;32m<ipython-input-145-9711940d78f1>\u001B[0m in \u001B[0;36m<module>\u001B[1;34m\u001B[0m\n\u001B[1;32m----> 1\u001B[1;33m \u001B[0mmodel\u001B[0m \u001B[1;33m=\u001B[0m \u001B[0mtrain_model\u001B[0m\u001B[1;33m(\u001B[0m\u001B[0mX_resampled\u001B[0m\u001B[1;33m,\u001B[0m \u001B[0my_resampled\u001B[0m\u001B[1;33m)\u001B[0m\u001B[1;33m\u001B[0m\u001B[1;33m\u001B[0m\u001B[0m\n\u001B[0m\u001B[0;32m      2\u001B[0m \u001B[1;31m# prediction = predict(model, 'oh baby, baby oh baby, baby oh baby, baby, how was i supposed to know')\u001B[0m\u001B[1;33m\u001B[0m\u001B[1;33m\u001B[0m\u001B[1;33m\u001B[0m\u001B[0m\n\u001B[0;32m      3\u001B[0m \u001B[1;31m# prediction\u001B[0m\u001B[1;33m\u001B[0m\u001B[1;33m\u001B[0m\u001B[1;33m\u001B[0m\u001B[0m\n\u001B[0;32m      4\u001B[0m \u001B[1;33m\u001B[0m\u001B[0m\n\u001B[0;32m      5\u001B[0m \u001B[1;31m#Oversampler doesn't work with the model\u001B[0m\u001B[1;33m\u001B[0m\u001B[1;33m\u001B[0m\u001B[1;33m\u001B[0m\u001B[0m\n",
      "\u001B[1;32m<ipython-input-64-dbedf1865cc1>\u001B[0m in \u001B[0;36mtrain_model\u001B[1;34m(text, labels)\u001B[0m\n\u001B[0;32m     18\u001B[0m     \u001B[0mrf\u001B[0m \u001B[1;33m=\u001B[0m \u001B[0mRandomForestClassifier\u001B[0m\u001B[1;33m(\u001B[0m\u001B[1;33m)\u001B[0m\u001B[1;33m\u001B[0m\u001B[1;33m\u001B[0m\u001B[0m\n\u001B[0;32m     19\u001B[0m     \u001B[0mmodel\u001B[0m \u001B[1;33m=\u001B[0m \u001B[0mmake_pipeline\u001B[0m\u001B[1;33m(\u001B[0m\u001B[0mcv\u001B[0m\u001B[1;33m,\u001B[0m \u001B[0mtf\u001B[0m\u001B[1;33m,\u001B[0m \u001B[0mrf\u001B[0m\u001B[1;33m)\u001B[0m\u001B[1;33m\u001B[0m\u001B[1;33m\u001B[0m\u001B[0m\n\u001B[1;32m---> 20\u001B[1;33m     \u001B[0mmodel\u001B[0m\u001B[1;33m.\u001B[0m\u001B[0mfit\u001B[0m\u001B[1;33m(\u001B[0m\u001B[0mtext\u001B[0m\u001B[1;33m,\u001B[0m \u001B[0mlabels\u001B[0m\u001B[1;33m)\u001B[0m\u001B[1;33m\u001B[0m\u001B[1;33m\u001B[0m\u001B[0m\n\u001B[0m\u001B[0;32m     21\u001B[0m \u001B[1;33m\u001B[0m\u001B[0m\n\u001B[0;32m     22\u001B[0m     \u001B[1;32mreturn\u001B[0m \u001B[0mmodel\u001B[0m\u001B[1;33m\u001B[0m\u001B[1;33m\u001B[0m\u001B[0m\n",
      "\u001B[1;32mc:\\users\\bastian matzen\\appdata\\local\\programs\\python\\python38\\lib\\site-packages\\sklearn\\pipeline.py\u001B[0m in \u001B[0;36mfit\u001B[1;34m(self, X, y, **fit_params)\u001B[0m\n\u001B[0;32m    333\u001B[0m             \u001B[1;32mif\u001B[0m \u001B[0mself\u001B[0m\u001B[1;33m.\u001B[0m\u001B[0m_final_estimator\u001B[0m \u001B[1;33m!=\u001B[0m \u001B[1;34m'passthrough'\u001B[0m\u001B[1;33m:\u001B[0m\u001B[1;33m\u001B[0m\u001B[1;33m\u001B[0m\u001B[0m\n\u001B[0;32m    334\u001B[0m                 \u001B[0mfit_params_last_step\u001B[0m \u001B[1;33m=\u001B[0m \u001B[0mfit_params_steps\u001B[0m\u001B[1;33m[\u001B[0m\u001B[0mself\u001B[0m\u001B[1;33m.\u001B[0m\u001B[0msteps\u001B[0m\u001B[1;33m[\u001B[0m\u001B[1;33m-\u001B[0m\u001B[1;36m1\u001B[0m\u001B[1;33m]\u001B[0m\u001B[1;33m[\u001B[0m\u001B[1;36m0\u001B[0m\u001B[1;33m]\u001B[0m\u001B[1;33m]\u001B[0m\u001B[1;33m\u001B[0m\u001B[1;33m\u001B[0m\u001B[0m\n\u001B[1;32m--> 335\u001B[1;33m                 \u001B[0mself\u001B[0m\u001B[1;33m.\u001B[0m\u001B[0m_final_estimator\u001B[0m\u001B[1;33m.\u001B[0m\u001B[0mfit\u001B[0m\u001B[1;33m(\u001B[0m\u001B[0mXt\u001B[0m\u001B[1;33m,\u001B[0m \u001B[0my\u001B[0m\u001B[1;33m,\u001B[0m \u001B[1;33m**\u001B[0m\u001B[0mfit_params_last_step\u001B[0m\u001B[1;33m)\u001B[0m\u001B[1;33m\u001B[0m\u001B[1;33m\u001B[0m\u001B[0m\n\u001B[0m\u001B[0;32m    336\u001B[0m \u001B[1;33m\u001B[0m\u001B[0m\n\u001B[0;32m    337\u001B[0m         \u001B[1;32mreturn\u001B[0m \u001B[0mself\u001B[0m\u001B[1;33m\u001B[0m\u001B[1;33m\u001B[0m\u001B[0m\n",
      "\u001B[1;32mc:\\users\\bastian matzen\\appdata\\local\\programs\\python\\python38\\lib\\site-packages\\sklearn\\ensemble\\_forest.py\u001B[0m in \u001B[0;36mfit\u001B[1;34m(self, X, y, sample_weight)\u001B[0m\n\u001B[0;32m    301\u001B[0m                 \u001B[1;34m\"sparse multilabel-indicator for y is not supported.\"\u001B[0m\u001B[1;33m\u001B[0m\u001B[1;33m\u001B[0m\u001B[0m\n\u001B[0;32m    302\u001B[0m             )\n\u001B[1;32m--> 303\u001B[1;33m         X, y = self._validate_data(X, y, multi_output=True,\n\u001B[0m\u001B[0;32m    304\u001B[0m                                    accept_sparse=\"csc\", dtype=DTYPE)\n\u001B[0;32m    305\u001B[0m         \u001B[1;32mif\u001B[0m \u001B[0msample_weight\u001B[0m \u001B[1;32mis\u001B[0m \u001B[1;32mnot\u001B[0m \u001B[1;32mNone\u001B[0m\u001B[1;33m:\u001B[0m\u001B[1;33m\u001B[0m\u001B[1;33m\u001B[0m\u001B[0m\n",
      "\u001B[1;32mc:\\users\\bastian matzen\\appdata\\local\\programs\\python\\python38\\lib\\site-packages\\sklearn\\base.py\u001B[0m in \u001B[0;36m_validate_data\u001B[1;34m(self, X, y, reset, validate_separately, **check_params)\u001B[0m\n\u001B[0;32m    430\u001B[0m                 \u001B[0my\u001B[0m \u001B[1;33m=\u001B[0m \u001B[0mcheck_array\u001B[0m\u001B[1;33m(\u001B[0m\u001B[0my\u001B[0m\u001B[1;33m,\u001B[0m \u001B[1;33m**\u001B[0m\u001B[0mcheck_y_params\u001B[0m\u001B[1;33m)\u001B[0m\u001B[1;33m\u001B[0m\u001B[1;33m\u001B[0m\u001B[0m\n\u001B[0;32m    431\u001B[0m             \u001B[1;32melse\u001B[0m\u001B[1;33m:\u001B[0m\u001B[1;33m\u001B[0m\u001B[1;33m\u001B[0m\u001B[0m\n\u001B[1;32m--> 432\u001B[1;33m                 \u001B[0mX\u001B[0m\u001B[1;33m,\u001B[0m \u001B[0my\u001B[0m \u001B[1;33m=\u001B[0m \u001B[0mcheck_X_y\u001B[0m\u001B[1;33m(\u001B[0m\u001B[0mX\u001B[0m\u001B[1;33m,\u001B[0m \u001B[0my\u001B[0m\u001B[1;33m,\u001B[0m \u001B[1;33m**\u001B[0m\u001B[0mcheck_params\u001B[0m\u001B[1;33m)\u001B[0m\u001B[1;33m\u001B[0m\u001B[1;33m\u001B[0m\u001B[0m\n\u001B[0m\u001B[0;32m    433\u001B[0m             \u001B[0mout\u001B[0m \u001B[1;33m=\u001B[0m \u001B[0mX\u001B[0m\u001B[1;33m,\u001B[0m \u001B[0my\u001B[0m\u001B[1;33m\u001B[0m\u001B[1;33m\u001B[0m\u001B[0m\n\u001B[0;32m    434\u001B[0m \u001B[1;33m\u001B[0m\u001B[0m\n",
      "\u001B[1;32mc:\\users\\bastian matzen\\appdata\\local\\programs\\python\\python38\\lib\\site-packages\\sklearn\\utils\\validation.py\u001B[0m in \u001B[0;36minner_f\u001B[1;34m(*args, **kwargs)\u001B[0m\n\u001B[0;32m     71\u001B[0m                           FutureWarning)\n\u001B[0;32m     72\u001B[0m         \u001B[0mkwargs\u001B[0m\u001B[1;33m.\u001B[0m\u001B[0mupdate\u001B[0m\u001B[1;33m(\u001B[0m\u001B[1;33m{\u001B[0m\u001B[0mk\u001B[0m\u001B[1;33m:\u001B[0m \u001B[0marg\u001B[0m \u001B[1;32mfor\u001B[0m \u001B[0mk\u001B[0m\u001B[1;33m,\u001B[0m \u001B[0marg\u001B[0m \u001B[1;32min\u001B[0m \u001B[0mzip\u001B[0m\u001B[1;33m(\u001B[0m\u001B[0msig\u001B[0m\u001B[1;33m.\u001B[0m\u001B[0mparameters\u001B[0m\u001B[1;33m,\u001B[0m \u001B[0margs\u001B[0m\u001B[1;33m)\u001B[0m\u001B[1;33m}\u001B[0m\u001B[1;33m)\u001B[0m\u001B[1;33m\u001B[0m\u001B[1;33m\u001B[0m\u001B[0m\n\u001B[1;32m---> 73\u001B[1;33m         \u001B[1;32mreturn\u001B[0m \u001B[0mf\u001B[0m\u001B[1;33m(\u001B[0m\u001B[1;33m**\u001B[0m\u001B[0mkwargs\u001B[0m\u001B[1;33m)\u001B[0m\u001B[1;33m\u001B[0m\u001B[1;33m\u001B[0m\u001B[0m\n\u001B[0m\u001B[0;32m     74\u001B[0m     \u001B[1;32mreturn\u001B[0m \u001B[0minner_f\u001B[0m\u001B[1;33m\u001B[0m\u001B[1;33m\u001B[0m\u001B[0m\n\u001B[0;32m     75\u001B[0m \u001B[1;33m\u001B[0m\u001B[0m\n",
      "\u001B[1;32mc:\\users\\bastian matzen\\appdata\\local\\programs\\python\\python38\\lib\\site-packages\\sklearn\\utils\\validation.py\u001B[0m in \u001B[0;36mcheck_X_y\u001B[1;34m(X, y, accept_sparse, accept_large_sparse, dtype, order, copy, force_all_finite, ensure_2d, allow_nd, multi_output, ensure_min_samples, ensure_min_features, y_numeric, estimator)\u001B[0m\n\u001B[0;32m    811\u001B[0m         \u001B[0my\u001B[0m \u001B[1;33m=\u001B[0m \u001B[0my\u001B[0m\u001B[1;33m.\u001B[0m\u001B[0mastype\u001B[0m\u001B[1;33m(\u001B[0m\u001B[0mnp\u001B[0m\u001B[1;33m.\u001B[0m\u001B[0mfloat64\u001B[0m\u001B[1;33m)\u001B[0m\u001B[1;33m\u001B[0m\u001B[1;33m\u001B[0m\u001B[0m\n\u001B[0;32m    812\u001B[0m \u001B[1;33m\u001B[0m\u001B[0m\n\u001B[1;32m--> 813\u001B[1;33m     \u001B[0mcheck_consistent_length\u001B[0m\u001B[1;33m(\u001B[0m\u001B[0mX\u001B[0m\u001B[1;33m,\u001B[0m \u001B[0my\u001B[0m\u001B[1;33m)\u001B[0m\u001B[1;33m\u001B[0m\u001B[1;33m\u001B[0m\u001B[0m\n\u001B[0m\u001B[0;32m    814\u001B[0m \u001B[1;33m\u001B[0m\u001B[0m\n\u001B[0;32m    815\u001B[0m     \u001B[1;32mreturn\u001B[0m \u001B[0mX\u001B[0m\u001B[1;33m,\u001B[0m \u001B[0my\u001B[0m\u001B[1;33m\u001B[0m\u001B[1;33m\u001B[0m\u001B[0m\n",
      "\u001B[1;32mc:\\users\\bastian matzen\\appdata\\local\\programs\\python\\python38\\lib\\site-packages\\sklearn\\utils\\validation.py\u001B[0m in \u001B[0;36mcheck_consistent_length\u001B[1;34m(*arrays)\u001B[0m\n\u001B[0;32m    254\u001B[0m     \u001B[0muniques\u001B[0m \u001B[1;33m=\u001B[0m \u001B[0mnp\u001B[0m\u001B[1;33m.\u001B[0m\u001B[0munique\u001B[0m\u001B[1;33m(\u001B[0m\u001B[0mlengths\u001B[0m\u001B[1;33m)\u001B[0m\u001B[1;33m\u001B[0m\u001B[1;33m\u001B[0m\u001B[0m\n\u001B[0;32m    255\u001B[0m     \u001B[1;32mif\u001B[0m \u001B[0mlen\u001B[0m\u001B[1;33m(\u001B[0m\u001B[0muniques\u001B[0m\u001B[1;33m)\u001B[0m \u001B[1;33m>\u001B[0m \u001B[1;36m1\u001B[0m\u001B[1;33m:\u001B[0m\u001B[1;33m\u001B[0m\u001B[1;33m\u001B[0m\u001B[0m\n\u001B[1;32m--> 256\u001B[1;33m         raise ValueError(\"Found input variables with inconsistent numbers of\"\n\u001B[0m\u001B[0;32m    257\u001B[0m                          \" samples: %r\" % [int(l) for l in lengths])\n\u001B[0;32m    258\u001B[0m \u001B[1;33m\u001B[0m\u001B[0m\n",
      "\u001B[1;31mValueError\u001B[0m: Found input variables with inconsistent numbers of samples: [1, 400]"
     ]
    }
   ],
   "source": [
    "model = train_model(X_resampled, y_resampled)\n",
    "# prediction = predict(model, 'oh baby, baby oh baby, baby oh baby, baby, how was i supposed to know')\n",
    "# prediction\n",
    "\n",
    "#Oversampler doesn't work with the model\n",
    "#Model with unequally sampled data always spits out Foo Fighters\n",
    "#What about the \\n in the lyrics?"
   ]
  },
  {
   "cell_type": "code",
   "execution_count": null,
   "metadata": {
    "pycharm": {
     "name": "#%%\n"
    }
   },
   "outputs": [],
   "source": []
  }
 ],
 "metadata": {
  "kernelspec": {
   "display_name": "Python 3",
   "language": "python",
   "name": "python3"
  },
  "language_info": {
   "codemirror_mode": {
    "name": "ipython",
    "version": 3
   },
   "file_extension": ".py",
   "mimetype": "text/x-python",
   "name": "python",
   "nbconvert_exporter": "python",
   "pygments_lexer": "ipython3",
   "version": "3.7.6"
  }
 },
 "nbformat": 4,
 "nbformat_minor": 1
}