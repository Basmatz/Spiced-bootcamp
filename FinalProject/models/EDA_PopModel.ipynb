{
 "cells": [
  {
   "cell_type": "markdown",
   "source": [
    "### Popmodel EDA\n",
    "###### Imports"
   ],
   "metadata": {
    "collapsed": false
   }
  },
  {
   "cell_type": "code",
   "execution_count": null,
   "outputs": [],
   "source": [
    "import pandas as pd\n",
    "import numpy as np\n",
    "import matplotlib.pyplot as plt\n",
    "\n",
    "import seaborn as sns\n",
    "\n",
    "import sweetviz as sv\n",
    "\n",
    "from sklearn.preprocessing import StandardScaler, OrdinalEncoder"
   ],
   "metadata": {
    "collapsed": false,
    "pycharm": {
     "name": "#%%\n"
    }
   }
  },
  {
   "cell_type": "markdown",
   "source": [
    "###### Notebook Settings"
   ],
   "metadata": {
    "collapsed": false
   }
  },
  {
   "cell_type": "code",
   "execution_count": null,
   "outputs": [],
   "source": [
    "pd.set_option('display.max_columns', 500)\n",
    "pd.set_option('display.max_rows', 500)\n",
    "pd.set_option('display.width', 1000)\n",
    "\n",
    "sns.set_style(\"whitegrid\")\n",
    "\n",
    "plt.rcParams.update({'figure.figsize': (12.0, 12.0)})\n",
    "plt.rcParams.update({'font.size': 14})"
   ],
   "metadata": {
    "collapsed": false,
    "pycharm": {
     "name": "#%%\n"
    }
   }
  },
  {
   "cell_type": "markdown",
   "source": [
    "###### Feature Engineering"
   ],
   "metadata": {
    "collapsed": false
   }
  },
  {
   "cell_type": "code",
   "execution_count": null,
   "outputs": [],
   "source": [
    "#Read CSVs\n",
    "data = pd.read_csv(\"SpotifyData.csv\")\n",
    "add_infos = pd.read_csv(\"additional_infos.csv\")"
   ],
   "metadata": {
    "collapsed": false,
    "pycharm": {
     "name": "#%%\n"
    }
   }
  },
  {
   "cell_type": "code",
   "execution_count": null,
   "outputs": [],
   "source": [
    "#Adjust inconsistent genre naming\n",
    "data.loc[data[\"genre\"] == 'Children’s Music', \"genre\"] = \"Children Music\"\n",
    "data.loc[data[\"genre\"] == \"Children's Music\", \"genre\"] = \"Children Music\""
   ],
   "metadata": {
    "collapsed": false,
    "pycharm": {
     "name": "#%%\n"
    }
   }
  },
  {
   "cell_type": "code",
   "execution_count": null,
   "outputs": [],
   "source": [
    "#Join duplicate tracks assigned to different genres together in one common row\n",
    "genre_df = data.groupby(['track_id'])['genre'].apply(', '.join).reset_index()"
   ],
   "metadata": {
    "collapsed": false,
    "pycharm": {
     "name": "#%%\n"
    }
   }
  },
  {
   "cell_type": "code",
   "execution_count": null,
   "outputs": [],
   "source": [
    "#Drop duplicates by track ID and remove ID column\n",
    "data.drop_duplicates(\"track_id\", inplace=True)\n",
    "data.sort_values(\"track_id\", inplace=True)\n",
    "data.reset_index(inplace=True, drop=True)"
   ],
   "metadata": {
    "collapsed": false,
    "pycharm": {
     "name": "#%%\n"
    }
   }
  },
  {
   "cell_type": "code",
   "execution_count": null,
   "outputs": [],
   "source": [
    "#Assign Features\n",
    "X = data"
   ],
   "metadata": {
    "collapsed": false,
    "pycharm": {
     "name": "#%%\n"
    }
   }
  },
  {
   "cell_type": "code",
   "execution_count": null,
   "outputs": [],
   "source": [
    "#Replace genre column in original dataset\n",
    "X[\"genre\"] = genre_df[\"genre\"]"
   ],
   "metadata": {
    "collapsed": false,
    "pycharm": {
     "name": "#%%\n"
    }
   }
  },
  {
   "cell_type": "code",
   "execution_count": null,
   "outputs": [],
   "source": [
    "#Genre encoding seperate since there can be multiple values in one row\n",
    "X = pd.concat([X, X['genre'].str.get_dummies(sep=', ')], axis=1)\n",
    "X = pd.concat([X, pd.get_dummies(X[[\"key\",\"mode\",\"time_signature\"]])], axis=1)\n",
    "X.drop([\"key\",\"mode\",\"time_signature\",\"genre\"], axis=1, inplace=True)"
   ],
   "metadata": {
    "collapsed": false,
    "pycharm": {
     "name": "#%%\n"
    }
   }
  },
  {
   "cell_type": "code",
   "execution_count": null,
   "outputs": [],
   "source": [
    "#Add explicit feature from external dataset\n",
    "add_infos.sort_values(\"id\", inplace=True)\n",
    "assert pd.Series(add_infos[\"id\"].values == X[\"track_id\"].values).value_counts().values[0] == len(add_infos)\n",
    "X[\"explicit\"] = add_infos[\"explicit\"]\n",
    "X[\"track_number\"] = add_infos[\"track_number\"]"
   ],
   "metadata": {
    "collapsed": false,
    "pycharm": {
     "name": "#%%\n"
    }
   }
  },
  {
   "cell_type": "code",
   "execution_count": null,
   "outputs": [],
   "source": [
    "#Get release Date from String and create new feature\n",
    "temp = []\n",
    "for i in range(len(add_infos)):\n",
    "    temp += [int(add_infos[\"album\"][i][add_infos[\"album\"][i].find(\"release_date\") + 16: add_infos[\"album\"][i].find(\"release_date\") + 20])]\n",
    "X[\"release_date\"] = temp\n",
    "X.loc[X[\"release_date\"] == 0000, \"release_date\"] = X[\"release_date\"].values.mean().round()"
   ],
   "metadata": {
    "collapsed": false,
    "pycharm": {
     "name": "#%%\n"
    }
   }
  },
  {
   "cell_type": "code",
   "execution_count": null,
   "outputs": [],
   "source": [
    "#Get total track number from String and create new feature\n",
    "temp = []\n",
    "for i in range(len(add_infos)):\n",
    "    if add_infos[\"album\"][i][add_infos[\"album\"][i].find(\"total_tracks\") + 16] == \",\":\n",
    "        temp += [int(add_infos[\"album\"][i][add_infos[\"album\"][i].find(\"total_tracks\") + 15: add_infos[\"album\"][i].find(\"total_tracks\") + 16])]\n",
    "    elif add_infos[\"album\"][i][add_infos[\"album\"][i].find(\"total_tracks\") + 17] == \",\":\n",
    "        temp += [int(add_infos[\"album\"][i][add_infos[\"album\"][i].find(\"total_tracks\") + 15: add_infos[\"album\"][i].find(\"total_tracks\") + 17])]\n",
    "    else:\n",
    "        temp += [int(add_infos[\"album\"][i][add_infos[\"album\"][i].find(\"total_tracks\") + 15: add_infos[\"album\"][i].find(\"total_tracks\") + 18])]\n",
    "X[\"total_tracks\"] = temp"
   ],
   "metadata": {
    "collapsed": false,
    "pycharm": {
     "name": "#%%\n"
    }
   }
  },
  {
   "cell_type": "code",
   "execution_count": null,
   "outputs": [],
   "source": [
    "#Get artist id from String and create new feature\n",
    "temp = []\n",
    "for i in range(len(add_infos)):\n",
    "    temp += [add_infos[\"album\"][i][add_infos[\"album\"][i].find(\"id\") + 6: add_infos[\"album\"][i].find(\"id\") + 28]]\n",
    "X[\"artist_id\"] = temp"
   ],
   "metadata": {
    "collapsed": false,
    "pycharm": {
     "name": "#%%\n"
    }
   }
  },
  {
   "cell_type": "code",
   "execution_count": null,
   "outputs": [],
   "source": [
    "#encoding track id and artist\n",
    "lenc = OrdinalEncoder()\n",
    "\n",
    "X[\"artist_id\"] = lenc.fit_transform(X[\"artist_id\"].values.reshape(-1,1))\n",
    "X[\"track_name\"] = lenc.fit_transform(X[\"track_name\"].values.reshape(-1,1))\n",
    "X[\"artist_name\"] = lenc.fit_transform(X[\"artist_name\"].values.reshape(-1,1))\n",
    "X[\"genre\"] = lenc.fit_transform(X[\"genre\"].values.reshape(-1,1))\n",
    "X[\"key\"] = lenc.fit_transform(X[\"key\"].values.reshape(-1,1))\n",
    "X[\"mode\"] = lenc.fit_transform(X[\"mode\"].values.reshape(-1,1))\n",
    "X[\"time_signature\"] = lenc.fit_transform(X[\"time_signature\"].values.reshape(-1,1))"
   ],
   "metadata": {
    "collapsed": false,
    "pycharm": {
     "name": "#%%\n"
    }
   }
  },
  {
   "cell_type": "code",
   "execution_count": null,
   "outputs": [],
   "source": [
    "X.select_dtypes(\"object\")"
   ],
   "metadata": {
    "collapsed": false,
    "pycharm": {
     "name": "#%%\n"
    }
   }
  },
  {
   "cell_type": "code",
   "execution_count": null,
   "outputs": [],
   "source": [
    "#Scaling all features\n",
    "sc = StandardScaler()\n",
    "X = sc.fit_transform(X)"
   ],
   "metadata": {
    "collapsed": false,
    "pycharm": {
     "name": "#%%\n"
    }
   }
  },
  {
   "cell_type": "code",
   "execution_count": null,
   "outputs": [],
   "source": [
    "#SweeViz\n",
    "my_report = sv.analyze(data)\n",
    "my_report.show_html()"
   ],
   "metadata": {
    "collapsed": false,
    "pycharm": {
     "name": "#%%\n"
    }
   }
  },
  {
   "cell_type": "code",
   "execution_count": null,
   "outputs": [],
   "source": [
    "#SweeViz\n",
    "my_report = sv.analyze(X)\n",
    "my_report.show_html()"
   ],
   "metadata": {
    "collapsed": false,
    "pycharm": {
     "name": "#%%\n"
    }
   }
  },
  {
   "cell_type": "markdown",
   "source": [
    "##### EDA"
   ],
   "metadata": {
    "collapsed": false
   }
  },
  {
   "cell_type": "code",
   "execution_count": null,
   "outputs": [],
   "source": [
    "corr = data.corr()\n",
    "ax = sns.heatmap(\n",
    "    corr,\n",
    "    vmin=-1, vmax=1, center=0,\n",
    "    cmap=sns.diverging_palette(20, 220, n=200),\n",
    "    square=True\n",
    ")\n",
    "ax.set_xticklabels(\n",
    "    ax.get_xticklabels(),\n",
    "    rotation=45,\n",
    "    horizontalalignment='right'\n",
    ");"
   ],
   "metadata": {
    "collapsed": false,
    "pycharm": {
     "name": "#%%\n"
    }
   }
  },
  {
   "cell_type": "code",
   "execution_count": null,
   "outputs": [],
   "source": [
    "cols = X.select_dtypes(\"object\").columns\n",
    "X[cols] = X[cols].apply(pd.to_numeric, errors='coerce', axis=1)"
   ],
   "metadata": {
    "collapsed": false,
    "pycharm": {
     "name": "#%%\n"
    }
   }
  },
  {
   "cell_type": "code",
   "execution_count": null,
   "outputs": [],
   "source": [
    "X"
   ],
   "metadata": {
    "collapsed": false,
    "pycharm": {
     "name": "#%%\n"
    }
   }
  },
  {
   "cell_type": "code",
   "execution_count": null,
   "outputs": [],
   "source": [
    "X.groupby('genre').unstack()"
   ],
   "metadata": {
    "collapsed": false,
    "pycharm": {
     "name": "#%%\n"
    }
   }
  },
  {
   "cell_type": "code",
   "execution_count": null,
   "outputs": [],
   "source": [
    "df1 = X.groupby([\"genre\"])[\"popularity\"]\\\n",
    "    .mean().reset_index(name='sum')#.pivot(\"genre\",\"mode\",\"sum\").sort_index(ascending=False)\n",
    "df1.sort_values(\"sum\").transpose()#.to_csv(\"pop_genre.csv\")\n",
    "\n"
   ],
   "metadata": {
    "collapsed": false,
    "pycharm": {
     "name": "#%%\n"
    }
   }
  },
  {
   "cell_type": "code",
   "execution_count": null,
   "outputs": [],
   "source": [
    "df1 = X.groupby([\"genre\"])[\"popularity\"]\\\n",
    "    .max().reset_index(name='sum')#.pivot(\"genre\",\"mode\",\"sum\").sort_index(ascending=False)\n",
    "df1 = df1.sort_values(\"sum\").transpose()#.to_csv(\"pop_genre.csv\")\n",
    "df1\n"
   ],
   "metadata": {
    "collapsed": false,
    "pycharm": {
     "name": "#%%\n"
    }
   }
  },
  {
   "cell_type": "code",
   "execution_count": null,
   "outputs": [],
   "source": [
    "\n",
    "sns.barplot(df1)\n"
   ],
   "metadata": {
    "collapsed": false,
    "pycharm": {
     "name": "#%%\n"
    }
   }
  },
  {
   "cell_type": "code",
   "execution_count": null,
   "outputs": [],
   "source": [
    "from wordcloud import WordCloud, STOPWORDS, ImageColorGenerator\n",
    "from PIL import Image\n",
    "\n",
    "# Start with one review:\n",
    "\n",
    "text = \" \".join(word for word in data[data[\"genre\"] == \"Pop\"].track_name)\n",
    "\n",
    "# Create stopword list:\n",
    "stopwords = set(STOPWORDS)\n",
    "stopwords.update([\"Remix\", \"Remastered\", \"feat\", \"Version\", \"Remaster\", \"Acoustic\", \"Flat Major\", \"Instrumental\"])\n",
    "\n",
    "mask = np.array(Image.open(\"spotify.png\"))\n",
    "\n",
    "# for i in range(len(mask)):\n",
    "#     transformed_mask[i] = list(map(transform_format(mask[i])))\n",
    "\n",
    "\n",
    "# Create a word cloud image\n",
    "wc = WordCloud(background_color=\"black\", max_words=10000, mask=mask,\n",
    "               stopwords=stopwords#, contour_width=10, contour_color=(0,176,129)\n",
    "               )\n",
    "\n",
    "# Generate a wordcloud\n",
    "wc.generate(text)\n",
    "\n",
    "# store to file\n",
    "wc.to_file(\"Pop.png\")\n",
    "\n",
    "# show\n",
    "plt.figure(figsize=[20,10])\n",
    "plt.imshow(wc, interpolation='bilinear')\n",
    "plt.axis(\"off\")\n",
    "plt.show()\n"
   ],
   "metadata": {
    "collapsed": false,
    "pycharm": {
     "name": "#%%\n"
    }
   }
  },
  {
   "cell_type": "code",
   "execution_count": null,
   "outputs": [],
   "source": [],
   "metadata": {
    "collapsed": false,
    "pycharm": {
     "name": "#%%\n"
    }
   }
  }
 ],
 "metadata": {
  "kernelspec": {
   "display_name": "Python 3",
   "language": "python",
   "name": "python3"
  },
  "language_info": {
   "codemirror_mode": {
    "name": "ipython",
    "version": 2
   },
   "file_extension": ".py",
   "mimetype": "text/x-python",
   "name": "python",
   "nbconvert_exporter": "python",
   "pygments_lexer": "ipython2",
   "version": "2.7.6"
  }
 },
 "nbformat": 4,
 "nbformat_minor": 0
}