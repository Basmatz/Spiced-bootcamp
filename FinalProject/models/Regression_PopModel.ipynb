{
 "cells": [
  {
   "cell_type": "markdown",
   "metadata": {
    "collapsed": true,
    "pycharm": {
     "name": "#%% md\n"
    }
   },
   "source": [
    "### Popmodel EDA\n",
    "###### Imports\n"
   ]
  },
  {
   "cell_type": "code",
   "execution_count": 93,
   "outputs": [],
   "source": [
    "import pandas as pd\n",
    "import seaborn as sns\n",
    "import matplotlib.pyplot as plt\n",
    "import sweetviz as sv\n",
    "from sklearn.preprocessing import OrdinalEncoder, KBinsDiscretizer\n",
    "from sklearn.model_selection import train_test_split\n",
    "from sklearn.ensemble import RandomForestRegressor\n",
    "from sklearn.metrics import mean_squared_error, mean_absolute_error, r2_score\n",
    "from sklearn.model_selection import GridSearchCV, cross_validate\n",
    "import imblearn\n",
    "from math import sqrt"
   ],
   "metadata": {
    "collapsed": false,
    "pycharm": {
     "name": "#%%\n"
    }
   }
  },
  {
   "cell_type": "markdown",
   "source": [
    "###### Notebook Settings"
   ],
   "metadata": {
    "collapsed": false,
    "pycharm": {
     "name": "#%% md\n"
    }
   }
  },
  {
   "cell_type": "code",
   "execution_count": 94,
   "outputs": [],
   "source": [
    "pd.set_option('display.max_columns', 500)\n",
    "pd.set_option('display.max_rows', 500)\n",
    "pd.set_option('display.width', 1000)\n",
    "\n",
    "sns.set_style(\"whitegrid\")\n",
    "\n",
    "plt.rcParams.update({'figure.figsize': (12.0, 12.0)})\n",
    "plt.rcParams.update({'font.size': 14})"
   ],
   "metadata": {
    "collapsed": false,
    "pycharm": {
     "name": "#%%\n"
    }
   }
  },
  {
   "cell_type": "markdown",
   "source": [
    "###### Feature Engineering"
   ],
   "metadata": {
    "collapsed": false,
    "pycharm": {
     "name": "#%% md\n"
    }
   }
  },
  {
   "cell_type": "code",
   "execution_count": 95,
   "outputs": [],
   "source": [
    "#Read CSVs\n",
    "data = pd.read_csv(\"SpotifyData.csv\")\n",
    "add_infos = pd.read_csv(\"additional_infos.csv\")"
   ],
   "metadata": {
    "collapsed": false,
    "pycharm": {
     "name": "#%%\n"
    }
   }
  },
  {
   "cell_type": "code",
   "execution_count": 96,
   "outputs": [],
   "source": [
    "#Adjust inconsistent genre naming\n",
    "data.loc[data[\"genre\"] == 'Children’s Music', \"genre\"] = \"Children Music\"\n",
    "data.loc[data[\"genre\"] == \"Children's Music\", \"genre\"] = \"Children Music\""
   ],
   "metadata": {
    "collapsed": false,
    "pycharm": {
     "name": "#%%\n"
    }
   }
  },
  {
   "cell_type": "code",
   "execution_count": 97,
   "outputs": [],
   "source": [
    "#Join duplicate tracks assigned to different genres together in one common row\n",
    "genre_df = data.groupby(['track_id'])['genre'].apply(', '.join).reset_index()"
   ],
   "metadata": {
    "collapsed": false,
    "pycharm": {
     "name": "#%%\n"
    }
   }
  },
  {
   "cell_type": "code",
   "execution_count": 98,
   "outputs": [],
   "source": [
    "#Drop duplicates by track ID and remove ID column\n",
    "data.drop_duplicates(\"track_id\", inplace=True)\n",
    "data.sort_values(\"track_id\", inplace=True)\n",
    "data.reset_index(inplace=True, drop=True)"
   ],
   "metadata": {
    "collapsed": false,
    "pycharm": {
     "name": "#%%\n"
    }
   }
  },
  {
   "cell_type": "code",
   "execution_count": 99,
   "outputs": [],
   "source": [
    "#Assign Features\n",
    "X = data"
   ],
   "metadata": {
    "collapsed": false,
    "pycharm": {
     "name": "#%%\n"
    }
   }
  },
  {
   "cell_type": "code",
   "execution_count": 100,
   "outputs": [],
   "source": [
    "#Replace genre column in original dataset\n",
    "X[\"genre\"] = genre_df[\"genre\"]"
   ],
   "metadata": {
    "collapsed": false,
    "pycharm": {
     "name": "#%%\n"
    }
   }
  },
  {
   "cell_type": "code",
   "execution_count": 101,
   "outputs": [],
   "source": [
    "#Genre encoding seperate since there can be multiple values in one row\n",
    "X = pd.concat([X, X['genre'].str.get_dummies(sep=', ')], axis=1)\n",
    "X = pd.concat([X, pd.get_dummies(X[[\"key\",\"mode\",\"time_signature\"]])], axis=1)\n",
    "X.drop([\"key\",\"mode\",\"time_signature\",\"genre\"], axis=1, inplace=True)"
   ],
   "metadata": {
    "collapsed": false,
    "pycharm": {
     "name": "#%%\n"
    }
   }
  },
  {
   "cell_type": "code",
   "execution_count": 102,
   "outputs": [],
   "source": [
    "#Add explicit feature from external dataset\n",
    "add_infos.sort_values(\"id\", inplace=True)\n",
    "assert pd.Series(add_infos[\"id\"].values == X[\"track_id\"].values).value_counts().values[0] == len(add_infos)\n",
    "X[\"explicit\"] = add_infos[\"explicit\"]\n",
    "X[\"track_number\"] = add_infos[\"track_number\"]"
   ],
   "metadata": {
    "collapsed": false,
    "pycharm": {
     "name": "#%%\n"
    }
   }
  },
  {
   "cell_type": "code",
   "execution_count": 103,
   "outputs": [],
   "source": [
    "#Get release Date from String and create new feature\n",
    "temp = []\n",
    "for i in range(len(add_infos)):\n",
    "    temp += [int(add_infos[\"album\"][i][add_infos[\"album\"][i].find(\"release_date\") + 16: add_infos[\"album\"][i].find(\"release_date\") + 20])]\n",
    "X[\"release_date\"] = temp\n",
    "X.loc[X[\"release_date\"] == 0000, \"release_date\"] = X[\"release_date\"].values.mean().round()"
   ],
   "metadata": {
    "collapsed": false,
    "pycharm": {
     "name": "#%%\n"
    }
   }
  },
  {
   "cell_type": "code",
   "execution_count": 104,
   "outputs": [],
   "source": [
    "#Get total track number from String and create new feature\n",
    "temp = []\n",
    "for i in range(len(add_infos)):\n",
    "    if add_infos[\"album\"][i][add_infos[\"album\"][i].find(\"total_tracks\") + 16] == \",\":\n",
    "        temp += [int(add_infos[\"album\"][i][add_infos[\"album\"][i].find(\"total_tracks\") + 15: add_infos[\"album\"][i].find(\"total_tracks\") + 16])]\n",
    "    elif add_infos[\"album\"][i][add_infos[\"album\"][i].find(\"total_tracks\") + 17] == \",\":\n",
    "        temp += [int(add_infos[\"album\"][i][add_infos[\"album\"][i].find(\"total_tracks\") + 15: add_infos[\"album\"][i].find(\"total_tracks\") + 17])]\n",
    "    else:\n",
    "        temp += [int(add_infos[\"album\"][i][add_infos[\"album\"][i].find(\"total_tracks\") + 15: add_infos[\"album\"][i].find(\"total_tracks\") + 18])]\n",
    "X[\"total_tracks\"] = temp"
   ],
   "metadata": {
    "collapsed": false,
    "pycharm": {
     "name": "#%%\n"
    }
   }
  },
  {
   "cell_type": "code",
   "execution_count": 105,
   "outputs": [],
   "source": [
    "#Get artist id from String and create new feature\n",
    "temp = []\n",
    "for i in range(len(add_infos)):\n",
    "    temp += [add_infos[\"album\"][i][add_infos[\"album\"][i].find(\"id\") + 6: add_infos[\"album\"][i].find(\"id\") + 28]]\n",
    "X[\"artist_id\"] = temp"
   ],
   "metadata": {
    "collapsed": false,
    "pycharm": {
     "name": "#%%\n"
    }
   }
  },
  {
   "cell_type": "code",
   "execution_count": 106,
   "outputs": [],
   "source": [
    "#encoding track id and artist\n",
    "lenc = OrdinalEncoder()\n",
    "X[\"track_id\"] = lenc.fit_transform(X[\"track_id\"].values.reshape(-1,1))\n",
    "X[\"artist_id\"] = lenc.fit_transform(X[\"artist_id\"].values.reshape(-1,1))\n",
    "X[\"track_name\"] = lenc.fit_transform(X[\"track_name\"].values.reshape(-1,1))\n",
    "X[\"artist_name\"] = lenc.fit_transform(X[\"artist_name\"].values.reshape(-1,1))"
   ],
   "metadata": {
    "collapsed": false,
    "pycharm": {
     "name": "#%%\n"
    }
   }
  },
  {
   "cell_type": "code",
   "execution_count": null,
   "outputs": [],
   "source": [
    "#Drop Songs with zero popularity\n",
    "X.drop(X[X[\"popularity\"] == 0].index, inplace=True)\n",
    "len(X)\n"
   ],
   "metadata": {
    "collapsed": false,
    "pycharm": {
     "name": "#%%\n"
    }
   }
  },
  {
   "cell_type": "code",
   "execution_count": null,
   "outputs": [],
   "source": [
    "#Drop voice only audio tracks\n",
    "X.drop(X[X[\"speechiness\"] > 0.70].index, inplace=True)\n",
    "len(X)"
   ],
   "metadata": {
    "collapsed": false,
    "pycharm": {
     "name": "#%%\n"
    }
   }
  },
  {
   "cell_type": "code",
   "execution_count": 107,
   "outputs": [],
   "source": [
    "#Assign Prediction Target\n",
    "y = X[\"popularity\"]\n",
    "X.drop([\"popularity\"], axis=1, inplace=True)"
   ],
   "metadata": {
    "collapsed": false,
    "pycharm": {
     "name": "#%%\n"
    }
   }
  },
  {
   "cell_type": "code",
   "execution_count": null,
   "outputs": [],
   "source": [
    "#Class binning of y\n",
    "est = KBinsDiscretizer(n_bins=100, encode='ordinal', strategy='uniform')\n",
    "y = pd.DataFrame(est.fit_transform(y.values.reshape(-1, 1)))\n",
    "\n"
   ],
   "metadata": {
    "collapsed": false,
    "pycharm": {
     "name": "#%%\n"
    }
   }
  },
  {
   "cell_type": "code",
   "execution_count": null,
   "outputs": [],
   "source": [
    "# Drop the categorical columns\n",
    "X.drop([\"track_id\", \"artist_name\", \"track_name\", \"artist_id\"], axis=1, inplace=True)"
   ],
   "metadata": {
    "collapsed": false,
    "pycharm": {
     "name": "#%%\n"
    }
   }
  },
  {
   "cell_type": "code",
   "execution_count": null,
   "outputs": [],
   "source": [
    "#Scaling all features (Brings less accuracy)\n",
    "minni = MinMaxScaler()\n",
    "pd.DataFrame(minni.fit_transform(X))"
   ],
   "metadata": {
    "collapsed": false,
    "pycharm": {
     "name": "#%%\n"
    }
   }
  },
  {
   "cell_type": "code",
   "execution_count": null,
   "outputs": [],
   "source": [
    "#Scaling all features (Brings less accuracy)\n",
    "minni = MinMaxScaler()\n",
    "pd.DataFrame(minni.fit_transform(X))"
   ],
   "metadata": {
    "collapsed": false,
    "pycharm": {
     "name": "#%%\n"
    }
   }
  },
  {
   "cell_type": "code",
   "execution_count": null,
   "outputs": [],
   "source": [
    "#SweeViz\n",
    "my_report = sv.analyze(data)\n",
    "my_report.show_html()"
   ],
   "metadata": {
    "collapsed": false,
    "pycharm": {
     "name": "#%%\n"
    }
   }
  },
  {
   "cell_type": "code",
   "execution_count": null,
   "outputs": [],
   "source": [
    "#SweeViz\n",
    "my_report = sv.analyze(X)\n",
    "my_report.show_html()\n"
   ],
   "metadata": {
    "collapsed": false,
    "pycharm": {
     "name": "#%%\n"
    }
   }
  },
  {
   "cell_type": "code",
   "execution_count": 108,
   "outputs": [
    {
     "data": {
      "text/plain": "             0     1    2    3    4    5    6    7    8    9     10    11    12    13    14    15    16    17    18    19    20    21    22    23    24    25    26    27    28    29    30    31    32    33    34    35    36    37    38    39    40    41    42    43    44    45    46    47    48    49    50    51    52    53    54    55    56    57    58    59    60    61    62    63    64    65   66   67   68   69   70   71   72   73   74   75   76   77   78   79   80   81   82   83   84   85   86   87   88   89   90   91   92   93   94   95   96   97   98   99   100\npopularity  6170  1285  903  811  805  913  787  773  921  986  1253  1432  1560  1664  1566  1699  1576  1658  1617  1866  1978  2244  2450  2635  2812  3087  3166  3378  3747  3795  3717  3766  3859  3895  3721  3856  3919  3796  3980  3819  3920  4051  4015  3954  3929  3734  3715  3693  3612  3583  3390  3199  3023  2847  2658  2421  2265  2108  1911  1769  1705  1504  1434  1295  1170  1054  948  799  730  638  575  509  435  411  327  240  222  204  170  134  117   81   74   57   58   46   39   32   21   14   14   16   10    6    3    7    3    6    1    2    1",
      "text/html": "<div>\n<style scoped>\n    .dataframe tbody tr th:only-of-type {\n        vertical-align: middle;\n    }\n\n    .dataframe tbody tr th {\n        vertical-align: top;\n    }\n\n    .dataframe thead th {\n        text-align: right;\n    }\n</style>\n<table border=\"1\" class=\"dataframe\">\n  <thead>\n    <tr style=\"text-align: right;\">\n      <th></th>\n      <th>0</th>\n      <th>1</th>\n      <th>2</th>\n      <th>3</th>\n      <th>4</th>\n      <th>5</th>\n      <th>6</th>\n      <th>7</th>\n      <th>8</th>\n      <th>9</th>\n      <th>10</th>\n      <th>11</th>\n      <th>12</th>\n      <th>13</th>\n      <th>14</th>\n      <th>15</th>\n      <th>16</th>\n      <th>17</th>\n      <th>18</th>\n      <th>19</th>\n      <th>20</th>\n      <th>21</th>\n      <th>22</th>\n      <th>23</th>\n      <th>24</th>\n      <th>25</th>\n      <th>26</th>\n      <th>27</th>\n      <th>28</th>\n      <th>29</th>\n      <th>30</th>\n      <th>31</th>\n      <th>32</th>\n      <th>33</th>\n      <th>34</th>\n      <th>35</th>\n      <th>36</th>\n      <th>37</th>\n      <th>38</th>\n      <th>39</th>\n      <th>40</th>\n      <th>41</th>\n      <th>42</th>\n      <th>43</th>\n      <th>44</th>\n      <th>45</th>\n      <th>46</th>\n      <th>47</th>\n      <th>48</th>\n      <th>49</th>\n      <th>50</th>\n      <th>51</th>\n      <th>52</th>\n      <th>53</th>\n      <th>54</th>\n      <th>55</th>\n      <th>56</th>\n      <th>57</th>\n      <th>58</th>\n      <th>59</th>\n      <th>60</th>\n      <th>61</th>\n      <th>62</th>\n      <th>63</th>\n      <th>64</th>\n      <th>65</th>\n      <th>66</th>\n      <th>67</th>\n      <th>68</th>\n      <th>69</th>\n      <th>70</th>\n      <th>71</th>\n      <th>72</th>\n      <th>73</th>\n      <th>74</th>\n      <th>75</th>\n      <th>76</th>\n      <th>77</th>\n      <th>78</th>\n      <th>79</th>\n      <th>80</th>\n      <th>81</th>\n      <th>82</th>\n      <th>83</th>\n      <th>84</th>\n      <th>85</th>\n      <th>86</th>\n      <th>87</th>\n      <th>88</th>\n      <th>89</th>\n      <th>90</th>\n      <th>91</th>\n      <th>92</th>\n      <th>93</th>\n      <th>94</th>\n      <th>95</th>\n      <th>96</th>\n      <th>97</th>\n      <th>98</th>\n      <th>99</th>\n      <th>100</th>\n    </tr>\n  </thead>\n  <tbody>\n    <tr>\n      <th>popularity</th>\n      <td>6170</td>\n      <td>1285</td>\n      <td>903</td>\n      <td>811</td>\n      <td>805</td>\n      <td>913</td>\n      <td>787</td>\n      <td>773</td>\n      <td>921</td>\n      <td>986</td>\n      <td>1253</td>\n      <td>1432</td>\n      <td>1560</td>\n      <td>1664</td>\n      <td>1566</td>\n      <td>1699</td>\n      <td>1576</td>\n      <td>1658</td>\n      <td>1617</td>\n      <td>1866</td>\n      <td>1978</td>\n      <td>2244</td>\n      <td>2450</td>\n      <td>2635</td>\n      <td>2812</td>\n      <td>3087</td>\n      <td>3166</td>\n      <td>3378</td>\n      <td>3747</td>\n      <td>3795</td>\n      <td>3717</td>\n      <td>3766</td>\n      <td>3859</td>\n      <td>3895</td>\n      <td>3721</td>\n      <td>3856</td>\n      <td>3919</td>\n      <td>3796</td>\n      <td>3980</td>\n      <td>3819</td>\n      <td>3920</td>\n      <td>4051</td>\n      <td>4015</td>\n      <td>3954</td>\n      <td>3929</td>\n      <td>3734</td>\n      <td>3715</td>\n      <td>3693</td>\n      <td>3612</td>\n      <td>3583</td>\n      <td>3390</td>\n      <td>3199</td>\n      <td>3023</td>\n      <td>2847</td>\n      <td>2658</td>\n      <td>2421</td>\n      <td>2265</td>\n      <td>2108</td>\n      <td>1911</td>\n      <td>1769</td>\n      <td>1705</td>\n      <td>1504</td>\n      <td>1434</td>\n      <td>1295</td>\n      <td>1170</td>\n      <td>1054</td>\n      <td>948</td>\n      <td>799</td>\n      <td>730</td>\n      <td>638</td>\n      <td>575</td>\n      <td>509</td>\n      <td>435</td>\n      <td>411</td>\n      <td>327</td>\n      <td>240</td>\n      <td>222</td>\n      <td>204</td>\n      <td>170</td>\n      <td>134</td>\n      <td>117</td>\n      <td>81</td>\n      <td>74</td>\n      <td>57</td>\n      <td>58</td>\n      <td>46</td>\n      <td>39</td>\n      <td>32</td>\n      <td>21</td>\n      <td>14</td>\n      <td>14</td>\n      <td>16</td>\n      <td>10</td>\n      <td>6</td>\n      <td>3</td>\n      <td>7</td>\n      <td>3</td>\n      <td>6</td>\n      <td>1</td>\n      <td>2</td>\n      <td>1</td>\n    </tr>\n  </tbody>\n</table>\n</div>"
     },
     "execution_count": 108,
     "metadata": {},
     "output_type": "execute_result"
    }
   ],
   "source": [
    "pop = y.value_counts().sort_index()\n",
    "pd.DataFrame(pop).transpose()"
   ],
   "metadata": {
    "collapsed": false,
    "pycharm": {
     "name": "#%%\n"
    }
   }
  },
  {
   "cell_type": "code",
   "execution_count": null,
   "outputs": [],
   "source": [
    "\n",
    "#sns.distplot(pop, bins=100)\n",
    "plot_ = sns.barplot(pop.index[-25:],pop[-25:])\n",
    "# for ind, label in enumerate(plot_.get_xticklabels()):\n",
    "#     if ind % 11 == 0:  # every 10th label is kept\n",
    "#         label.set_visible(True)\n",
    "#     else:\n",
    "#         label.set_visible(False)"
   ],
   "metadata": {
    "collapsed": false,
    "pycharm": {
     "name": "#%%\n"
    }
   }
  },
  {
   "cell_type": "markdown",
   "source": [
    "###### Models"
   ],
   "metadata": {
    "collapsed": false,
    "pycharm": {
     "name": "#%% md\n"
    }
   }
  },
  {
   "cell_type": "code",
   "execution_count": null,
   "outputs": [],
   "source": [
    "#Validation Set\n",
    "X_valid = X.sample(frac=0.1,random_state=1, replace=False)\n",
    "X.drop(X_valid.index, inplace=True)\n",
    "\n",
    "y_valid = y.iloc[X_valid.index]\n",
    "y.drop(y_valid.index, inplace=True)\n",
    "\n",
    "X.reset_index(inplace=True, drop=True)\n",
    "y.reset_index(inplace=True, drop=True)\n",
    "X_valid.reset_index(inplace=True, drop=True)\n",
    "y_valid.reset_index(inplace=True, drop=True)"
   ],
   "metadata": {
    "collapsed": false,
    "pycharm": {
     "name": "#%%\n"
    }
   }
  },
  {
   "cell_type": "code",
   "execution_count": null,
   "outputs": [],
   "source": [
    "#Train Test Split\n",
    "X_train, X_test, y_train, y_test = train_test_split(X, y, test_size=0.3, random_state=3, shuffle=True)"
   ],
   "metadata": {
    "collapsed": false,
    "pycharm": {
     "name": "#%%\n"
    }
   }
  },
  {
   "cell_type": "code",
   "execution_count": null,
   "outputs": [],
   "source": [
    "#Over and undersampling (Decreases Scores)\n",
    "smote = imblearn.over_sampling.SMOTE(sampling_strategy='minority', random_state=3, n_jobs=-1)\n",
    "X_train, y_train = smote.fit_resample(X_train,y_train)\n",
    "len(X)"
   ],
   "metadata": {
    "collapsed": false,
    "pycharm": {
     "name": "#%%\n"
    }
   }
  },
  {
   "cell_type": "code",
   "execution_count": null,
   "outputs": [],
   "source": [
    "#PopModel\n",
    "rfc = RandomForestRegressor(min_samples_split=11, verbose=1, n_jobs=-1, n_estimators=100)"
   ],
   "metadata": {
    "collapsed": false,
    "pycharm": {
     "name": "#%%\n"
    }
   }
  },
  {
   "cell_type": "code",
   "execution_count": null,
   "outputs": [],
   "source": [
    "#Fit\n",
    "rfc.fit(X_train, y_train)"
   ],
   "metadata": {
    "collapsed": false,
    "pycharm": {
     "name": "#%%\n"
    }
   }
  },
  {
   "cell_type": "code",
   "execution_count": null,
   "outputs": [],
   "source": [],
   "metadata": {
    "collapsed": false,
    "pycharm": {
     "name": "#%%\n"
    }
   }
  },
  {
   "cell_type": "code",
   "execution_count": null,
   "outputs": [],
   "source": [
    "#Predict Traindata\n",
    "pred_train = rfc.predict(X_train)\n",
    "sns.regplot(y_train, pred_train)"
   ],
   "metadata": {
    "collapsed": false,
    "pycharm": {
     "name": "#%%\n"
    }
   }
  },
  {
   "cell_type": "code",
   "execution_count": 116,
   "outputs": [
    {
     "name": "stderr",
     "output_type": "stream",
     "text": [
      "[Parallel(n_jobs=12)]: Using backend ThreadingBackend with 12 concurrent workers.\n",
      "[Parallel(n_jobs=12)]: Done  26 tasks      | elapsed:    0.0s\n",
      "[Parallel(n_jobs=12)]: Done 100 out of 100 | elapsed:    0.2s finished\n"
     ]
    },
    {
     "data": {
      "text/plain": "<Figure size 864x864 with 1 Axes>",
      "image/png": "[encoded data removed]"
     },
     "metadata": {},
     "output_type": "display_data"
    }
   ],
   "source": [
    "#Predict Testdata\n",
    "pred_test = rfc.predict(X_test)\n",
    "seab = sns.regplot(y_test, pred_test, scatter_kws={\"color\": \"#00b081\"}, line_kws={\"color\": \"gray\"})\n",
    "seab.set(xlabel='True y', ylabel='Predicted y')\n",
    "plt.savefig(\"regplot.png\")"
   ],
   "metadata": {
    "collapsed": false,
    "pycharm": {
     "name": "#%%\n"
    }
   }
  },
  {
   "cell_type": "code",
   "execution_count": 117,
   "outputs": [
    {
     "data": {
      "text/plain": "        genre   artist_name track_name                track_id  popularity  acousticness  danceability  duration_ms  energy  instrumentalness key  liveness  loudness   mode  speechiness    tempo time_signature  valence\n109411  Dance  David Guetta    Goodbye  4oKeAkeT2V1PBWfyywGAnL           0        0.0776         0.643       195419   0.904               0.0   C     0.189    -3.694  Major       0.0739  103.028            4/4    0.481",
      "text/html": "<div>\n<style scoped>\n    .dataframe tbody tr th:only-of-type {\n        vertical-align: middle;\n    }\n\n    .dataframe tbody tr th {\n        vertical-align: top;\n    }\n\n    .dataframe thead th {\n        text-align: right;\n    }\n</style>\n<table border=\"1\" class=\"dataframe\">\n  <thead>\n    <tr style=\"text-align: right;\">\n      <th></th>\n      <th>genre</th>\n      <th>artist_name</th>\n      <th>track_name</th>\n      <th>track_id</th>\n      <th>popularity</th>\n      <th>acousticness</th>\n      <th>danceability</th>\n      <th>duration_ms</th>\n      <th>energy</th>\n      <th>instrumentalness</th>\n      <th>key</th>\n      <th>liveness</th>\n      <th>loudness</th>\n      <th>mode</th>\n      <th>speechiness</th>\n      <th>tempo</th>\n      <th>time_signature</th>\n      <th>valence</th>\n    </tr>\n  </thead>\n  <tbody>\n    <tr>\n      <th>109411</th>\n      <td>Dance</td>\n      <td>David Guetta</td>\n      <td>Goodbye</td>\n      <td>4oKeAkeT2V1PBWfyywGAnL</td>\n      <td>0</td>\n      <td>0.0776</td>\n      <td>0.643</td>\n      <td>195419</td>\n      <td>0.904</td>\n      <td>0.0</td>\n      <td>C</td>\n      <td>0.189</td>\n      <td>-3.694</td>\n      <td>Major</td>\n      <td>0.0739</td>\n      <td>103.028</td>\n      <td>4/4</td>\n      <td>0.481</td>\n    </tr>\n  </tbody>\n</table>\n</div>"
     },
     "execution_count": 117,
     "metadata": {},
     "output_type": "execute_result"
    }
   ],
   "source": [
    "data[data[\"track_id\"] == \"4oKeAkeT2V1PBWfyywGAnL\"]"
   ],
   "metadata": {
    "collapsed": false,
    "pycharm": {
     "name": "#%%\n"
    }
   }
  },
  {
   "cell_type": "code",
   "execution_count": null,
   "outputs": [],
   "source": [
    "#Metrics\n",
    "RMSE = sqrt(mean_squared_error(y_test, pred_test.round().astype(int).tolist()))\n",
    "print(\"RMSE: \" + str(RMSE))\n",
    "\n",
    "MAE = mean_absolute_error(y_test, pred_test.round().astype(int).tolist())\n",
    "print(\"MAE: \" + str(MAE))\n",
    "\n",
    "r2 = r2_score(y_test, pred_test.round().astype(int).tolist())\n",
    "print(\"R²: \" + str(r2))"
   ],
   "metadata": {
    "collapsed": false,
    "pycharm": {
     "name": "#%%\n"
    }
   }
  },
  {
   "cell_type": "code",
   "execution_count": null,
   "outputs": [],
   "source": [
    "#Cross Validation\n",
    "scores = cross_validate(rfc, X, y, cv=5, scoring=('r2', 'neg_mean_squared_error', \"neg_median_absolute_error\", 'neg_mean_absolute_error'), return_train_score=True)\n",
    "\n",
    "print(\"test_r2: %0.2f (+/- %0.2f)\" % (scores[\"test_r2\"].mean(), scores[\"test_r2\"].std() * 2))\n",
    "print(\"test_neg_mean_squared_error: %0.2f (+/- %0.2f)\" % (scores[\"test_neg_mean_squared_error\"].mean(), scores[\"test_neg_mean_squared_error\"].std() * 2))\n",
    "print(\"test_neg_median_absolute_error: %0.2f (+/- %0.2f)\" % (scores[\"test_neg_median_absolute_error\"].mean(), scores[\"test_neg_median_absolute_error\"].std() * 2))\n",
    "print(\"test_neg_mean_absolute_error: %0.2f (+/- %0.2f)\" % (scores[\"test_neg_mean_absolute_error\"].mean(), scores[\"test_neg_mean_absolute_error\"].std() * 2))"
   ],
   "metadata": {
    "collapsed": false,
    "pycharm": {
     "name": "#%%\n"
    }
   }
  },
  {
   "cell_type": "code",
   "execution_count": null,
   "outputs": [],
   "source": [
    "pred = rfc.predict(X_valid)"
   ],
   "metadata": {
    "collapsed": false,
    "pycharm": {
     "name": "#%%\n"
    }
   }
  },
  {
   "cell_type": "code",
   "execution_count": null,
   "outputs": [],
   "source": [
    "d= {\"True\":y_test, \"Predict\":pred.round().astype(int).tolist()}\n",
    "erg = pd.DataFrame(d)\n",
    "erg"
   ],
   "metadata": {
    "collapsed": false,
    "pycharm": {
     "name": "#%%\n"
    }
   }
  },
  {
   "cell_type": "code",
   "execution_count": null,
   "outputs": [],
   "source": [
    "erg.to_csv(\"erg.csv\")"
   ],
   "metadata": {
    "collapsed": false,
    "pycharm": {
     "name": "#%%\n"
    }
   }
  },
  {
   "cell_type": "code",
   "execution_count": null,
   "outputs": [],
   "source": [
    "rfc.score(X_valid, y_valid)"
   ],
   "metadata": {
    "collapsed": false,
    "pycharm": {
     "name": "#%%\n"
    }
   }
  },
  {
   "cell_type": "code",
   "execution_count": null,
   "outputs": [],
   "source": [
    "mean_squared_error(y_valid,pred.round().astype(int).tolist())"
   ],
   "metadata": {
    "collapsed": false,
    "pycharm": {
     "name": "#%%\n"
    }
   }
  },
  {
   "cell_type": "code",
   "execution_count": null,
   "outputs": [],
   "source": [
    "mean_absolute_error(y_valid, pred.round().astype(int).tolist())"
   ],
   "metadata": {
    "collapsed": false,
    "pycharm": {
     "name": "#%%\n"
    }
   }
  },
  {
   "cell_type": "code",
   "execution_count": null,
   "outputs": [],
   "source": [
    "r2_score(y_valid, pred.round().astype(int).tolist())"
   ],
   "metadata": {
    "collapsed": false,
    "pycharm": {
     "name": "#%%\n"
    }
   }
  },
  {
   "cell_type": "code",
   "execution_count": null,
   "outputs": [],
   "source": [
    "sns.regplot(y_valid, pred.round().astype(int).tolist())"
   ],
   "metadata": {
    "collapsed": false,
    "pycharm": {
     "name": "#%%\n"
    }
   }
  },
  {
   "cell_type": "code",
   "execution_count": null,
   "outputs": [],
   "source": [
    "lenc.inverse_transform(X_valid[\"track_id\"].iloc[1082:1083])"
   ],
   "metadata": {
    "collapsed": false,
    "pycharm": {
     "name": "#%%\n"
    }
   }
  },
  {
   "cell_type": "code",
   "execution_count": null,
   "outputs": [],
   "source": [
    "###GridSearchCV\n",
    "\n",
    "\n",
    "params = { \"n_estimators\": [100]\n",
    "           }\n",
    "\n",
    "gsearch = GridSearchCV(estimator=m,\n",
    "                       param_grid=params,\n",
    "                       cv=5,\n",
    "                       verbose=1,\n",
    "                       n_jobs=-1\n",
    "                       )\n"
   ],
   "metadata": {
    "collapsed": false,
    "pycharm": {
     "name": "#%%\n"
    }
   }
  },
  {
   "cell_type": "code",
   "execution_count": null,
   "outputs": [],
   "source": [
    "\n",
    "gsearch.fit(X_train, y_train)\n",
    "\n",
    "print(\"\\nScore: \" + str(round(gsearch.score(X_train, y_train),4)))\n",
    "\n",
    "print(\"\\nBest Parameters: \"+ str(gsearch.best_params_))"
   ],
   "metadata": {
    "collapsed": false,
    "pycharm": {
     "name": "#%%\n"
    }
   }
  },
  {
   "cell_type": "code",
   "execution_count": null,
   "outputs": [],
   "source": [
    "X.reset_index(inplace=True)"
   ],
   "metadata": {
    "collapsed": false,
    "pycharm": {
     "name": "#%%\n"
    }
   }
  },
  {
   "cell_type": "code",
   "execution_count": null,
   "outputs": [],
   "source": [
    "\n",
    "X.drop([\"index\", \"level_0\"], axis=1, inplace=True)\n",
    "X\n",
    "\n"
   ],
   "metadata": {
    "collapsed": false,
    "pycharm": {
     "name": "#%%\n"
    }
   }
  },
  {
   "cell_type": "code",
   "execution_count": null,
   "outputs": [],
   "source": [
    "from sklearn.linear_model import LinearRegression\n",
    "# RMSE: 9.7\n",
    "# MAE: 7.35\n",
    "# R²: 0.633\n",
    "from sklearn.linear_model import Lasso #RMSE: 14.61\n",
    "from sklearn.linear_model import LassoLars #RMSE: 16.07\n",
    "from sklearn.linear_model import Ridge #same as linear regression\n",
    "from sklearn.linear_model import RidgeCV #same as linear regression\n",
    "from sklearn.linear_model import BayesianRidge #same as linear regression\n",
    "from sklearn.linear_model import TheilSenRegressor #same as linear regression\n",
    "from xgboost import XGBRegressor\n",
    "# RMSE: 8.300204795862877\n",
    "# MAE: 6.284962437051102\n",
    "# R²: 0.7331425830142111"
   ],
   "metadata": {
    "collapsed": false,
    "pycharm": {
     "name": "#%%\n"
    }
   }
  },
  {
   "cell_type": "code",
   "execution_count": null,
   "outputs": [],
   "source": [
    "model_x = XGBRegressor(seed=27, colsample_bytree=0.9, subsample=0.8,\n",
    "                       gamma=0.2, min_child_weight=1, max_depth=5, n_estimators=1000, learning_rate =0.3,\n",
    "                       sampling_method=\"gradient_based\", random_state=3, n_jobs=-1, tree_method='gpu_hist',\n",
    "                       predictor= 'gpu_predictor', verbosity=2)\n",
    "\n",
    "model_x = LassoLars()\n",
    "\n",
    "\n",
    "model_x.fit(X_train, y_train)\n",
    "\n",
    "\n",
    "pred = model_x.predict(X_test)\n",
    "\n",
    "RMSE = sqrt(mean_squared_error(y_test, pred.round().astype(int).tolist()))\n",
    "print(\"RMSE: \" + str(RMSE))\n",
    "\n",
    "MAE = mean_absolute_error(y_test, pred.round().astype(int).tolist())\n",
    "print(\"MAE: \" + str(MAE))\n",
    "\n",
    "r2 = r2_score(y_test, pred.round().astype(int).tolist())\n",
    "print(\"R²: \" + str(r2))"
   ],
   "metadata": {
    "collapsed": false,
    "pycharm": {
     "name": "#%%\n"
    }
   }
  },
  {
   "cell_type": "code",
   "execution_count": null,
   "outputs": [],
   "source": [],
   "metadata": {
    "collapsed": false,
    "pycharm": {
     "name": "#%%\n"
    }
   }
  }
 ],
 "metadata": {
  "kernelspec": {
   "display_name": "Python 3",
   "language": "python",
   "name": "python3"
  },
  "language_info": {
   "codemirror_mode": {
    "name": "ipython",
    "version": 2
   },
   "file_extension": ".py",
   "mimetype": "text/x-python",
   "name": "python",
   "nbconvert_exporter": "python",
   "pygments_lexer": "ipython2",
   "version": "2.7.6"
  }
 },
 "nbformat": 4,
 "nbformat_minor": 0
}