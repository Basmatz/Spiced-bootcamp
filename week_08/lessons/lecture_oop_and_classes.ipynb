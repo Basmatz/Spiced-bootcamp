{
 "cells": [
  {
   "cell_type": "code",
   "execution_count": 1,
   "metadata": {},
   "outputs": [],
   "source": [
    "import numpy as np"
   ]
  },
  {
   "cell_type": "markdown",
   "metadata": {},
   "source": [
    "# 1) Object Oriented Programming (OOP)\n",
    "\n",
    "**Programming paradigm** based on the concept of **objects**:\n",
    "> Programs are designed by making them out of objects that interct with each other\n",
    "\n",
    "\n",
    "## Objects\n",
    "\n",
    "1. Objects represent (tangible) **real world objects** (or concepts).\n",
    "2. Objects can **contain data** (They are called _attributes_ in Python). The attributes are used to describe the state of an object.\n",
    "3. Objects can **contain functions** (They are called _methods_ in Python). The methods are used to alter the state of the object or let the object do something.\n",
    "\n",
    "#### Which objects do we have in the supermarket project?"
   ]
  },
  {
   "cell_type": "markdown",
   "metadata": {},
   "source": []
  },
  {
   "cell_type": "markdown",
   "metadata": {},
   "source": []
  },
  {
   "cell_type": "markdown",
   "metadata": {},
   "source": [
    "#### How would we implement them in Python?"
   ]
  },
  {
   "cell_type": "markdown",
   "metadata": {},
   "source": [
    "# 2) Classes\n",
    "\n",
    "A class defines the data formats (attributes) and available procedures (methods) for a given class of objects.\n",
    "\n",
    "## Classes vs. Objects\n",
    "\n",
    "The concept of a customer with all his attributes and methods is a class, the x tangible customers are objects. Classes are blueprints of objects.\n",
    "\n",
    "## Class Syntax in Python\n",
    "\n",
    "#### Let us create a class"
   ]
  },
  {
   "cell_type": "code",
   "execution_count": 2,
   "metadata": {},
   "outputs": [],
   "source": []
  },
  {
   "cell_type": "markdown",
   "metadata": {},
   "source": [
    "#### Instanciate the class"
   ]
  },
  {
   "cell_type": "code",
   "execution_count": 4,
   "metadata": {},
   "outputs": [
    {
     "data": {
      "text/plain": [
       "<__main__.Customer at 0x110942668>"
      ]
     },
     "execution_count": 4,
     "metadata": {},
     "output_type": "execute_result"
    }
   ],
   "source": []
  },
  {
   "cell_type": "markdown",
   "metadata": {},
   "source": [
    "#### Include a docstring\n",
    "\n",
    "It is good practice to include the docstring for documentation purposes in a class (or a function, method, module)"
   ]
  },
  {
   "cell_type": "code",
   "execution_count": 5,
   "metadata": {},
   "outputs": [],
   "source": []
  },
  {
   "cell_type": "markdown",
   "metadata": {},
   "source": [
    "#### Write the constructor\n",
    "\n",
    "every class has an constructor `__init__()` where the attributest of the class are defined."
   ]
  },
  {
   "cell_type": "code",
   "execution_count": null,
   "metadata": {},
   "outputs": [],
   "source": []
  },
  {
   "cell_type": "markdown",
   "metadata": {},
   "source": [
    "#### Include a ``__repr__()``method\n",
    "\n",
    "This method comes in handy for debugging reasons"
   ]
  },
  {
   "cell_type": "code",
   "execution_count": null,
   "metadata": {},
   "outputs": [],
   "source": []
  },
  {
   "cell_type": "markdown",
   "metadata": {},
   "source": [
    "This ``__repr__`` method can be used to print out information about the state."
   ]
  },
  {
   "cell_type": "markdown",
   "metadata": {},
   "source": [
    "#### Give the class methods"
   ]
  },
  {
   "cell_type": "code",
   "execution_count": null,
   "metadata": {},
   "outputs": [],
   "source": []
  },
  {
   "cell_type": "markdown",
   "metadata": {},
   "source": [
    "# THE CODE UNTIL THIS POINT SHOULD BE SUFFICIENT FOR THE PROJECT"
   ]
  },
  {
   "cell_type": "code",
   "execution_count": null,
   "metadata": {},
   "outputs": [],
   "source": []
  },
  {
   "cell_type": "markdown",
   "metadata": {},
   "source": [
    "## When and why to use Classes?\n",
    "\n",
    "- Rule of thumb: Using classes starts payong off if you have more than 300-500 lines of code\n",
    "- **Classes are flexible, reproducible and increase readability of the code**"
   ]
  },
  {
   "cell_type": "markdown",
   "metadata": {},
   "source": [
    "## When have you seen or worked with classes before?"
   ]
  },
  {
   "cell_type": "code",
   "execution_count": null,
   "metadata": {},
   "outputs": [],
   "source": []
  }
 ],
 "metadata": {
  "kernelspec": {
   "display_name": "Python 3",
   "language": "python",
   "name": "python3"
  },
  "language_info": {
   "codemirror_mode": {
    "name": "ipython",
    "version": 3
   },
   "file_extension": ".py",
   "mimetype": "text/x-python",
   "name": "python",
   "nbconvert_exporter": "python",
   "pygments_lexer": "ipython3",
   "version": "3.8.3"
  }
 },
 "nbformat": 4,
 "nbformat_minor": 2
}
