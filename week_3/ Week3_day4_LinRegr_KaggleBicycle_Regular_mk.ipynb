{
 "cells": [
  {
   "cell_type": "markdown",
   "metadata": {},
   "source": [
    "# Week 3 Kaggle Bicycle data modeling"
   ]
  },
  {
   "cell_type": "code",
   "execution_count": 1,
   "metadata": {},
   "outputs": [],
   "source": [
    "import pandas as pd\n",
    "import seaborn as sns\n",
    "from matplotlib import pyplot as plt\n",
    "import numpy as np\n",
    "\n",
    "\n",
    "from sklearn.preprocessing import OneHotEncoder\n",
    "from sklearn.preprocessing import MinMaxScaler, StandardScaler\n",
    "from sklearn.preprocessing import KBinsDiscretizer\n",
    "from sklearn.preprocessing import FunctionTransformer\n",
    "from sklearn.preprocessing import PolynomialFeatures\n",
    "from sklearn.compose import ColumnTransformer\n",
    "\n",
    "from sklearn.pipeline import Pipeline\n",
    "from sklearn.pipeline import make_pipeline\n",
    "\n",
    "from sklearn.model_selection import train_test_split\n",
    "from sklearn.model_selection import cross_val_score\n",
    "from sklearn.model_selection import GridSearchCV\n",
    "\n",
    "from sklearn.linear_model import LinearRegression, Ridge, Lasso, ElasticNet\n",
    "from sklearn.linear_model import  RidgeCV, LassoCV, ElasticNetCV\n",
    "\n",
    "from sklearn.metrics import mean_squared_error, mean_absolute_error, r2_score"
   ]
  },
  {
   "cell_type": "code",
   "execution_count": 2,
   "metadata": {},
   "outputs": [],
   "source": [
    "df = pd.read_csv(\"train.csv\")"
   ]
  },
  {
   "cell_type": "code",
   "execution_count": 3,
   "metadata": {},
   "outputs": [
    {
     "data": {
      "text/html": [
       "<div>\n",
       "<style scoped>\n",
       "    .dataframe tbody tr th:only-of-type {\n",
       "        vertical-align: middle;\n",
       "    }\n",
       "\n",
       "    .dataframe tbody tr th {\n",
       "        vertical-align: top;\n",
       "    }\n",
       "\n",
       "    .dataframe thead th {\n",
       "        text-align: right;\n",
       "    }\n",
       "</style>\n",
       "<table border=\"1\" class=\"dataframe\">\n",
       "  <thead>\n",
       "    <tr style=\"text-align: right;\">\n",
       "      <th></th>\n",
       "      <th>datetime</th>\n",
       "      <th>season</th>\n",
       "      <th>holiday</th>\n",
       "      <th>workingday</th>\n",
       "      <th>weather</th>\n",
       "      <th>temp</th>\n",
       "      <th>atemp</th>\n",
       "      <th>humidity</th>\n",
       "      <th>windspeed</th>\n",
       "      <th>casual</th>\n",
       "      <th>registered</th>\n",
       "      <th>count</th>\n",
       "      <th>hour</th>\n",
       "    </tr>\n",
       "    <tr>\n",
       "      <th>datetime</th>\n",
       "      <th></th>\n",
       "      <th></th>\n",
       "      <th></th>\n",
       "      <th></th>\n",
       "      <th></th>\n",
       "      <th></th>\n",
       "      <th></th>\n",
       "      <th></th>\n",
       "      <th></th>\n",
       "      <th></th>\n",
       "      <th></th>\n",
       "      <th></th>\n",
       "      <th></th>\n",
       "    </tr>\n",
       "  </thead>\n",
       "  <tbody>\n",
       "    <tr>\n",
       "      <th>2011-01-01 00:00:00</th>\n",
       "      <td>2011-01-01 00:00:00</td>\n",
       "      <td>1</td>\n",
       "      <td>0</td>\n",
       "      <td>0</td>\n",
       "      <td>1</td>\n",
       "      <td>9.84</td>\n",
       "      <td>14.395</td>\n",
       "      <td>81</td>\n",
       "      <td>0.0</td>\n",
       "      <td>3</td>\n",
       "      <td>13</td>\n",
       "      <td>16</td>\n",
       "      <td>0</td>\n",
       "    </tr>\n",
       "    <tr>\n",
       "      <th>2011-01-01 01:00:00</th>\n",
       "      <td>2011-01-01 01:00:00</td>\n",
       "      <td>1</td>\n",
       "      <td>0</td>\n",
       "      <td>0</td>\n",
       "      <td>1</td>\n",
       "      <td>9.02</td>\n",
       "      <td>13.635</td>\n",
       "      <td>80</td>\n",
       "      <td>0.0</td>\n",
       "      <td>8</td>\n",
       "      <td>32</td>\n",
       "      <td>40</td>\n",
       "      <td>1</td>\n",
       "    </tr>\n",
       "    <tr>\n",
       "      <th>2011-01-01 02:00:00</th>\n",
       "      <td>2011-01-01 02:00:00</td>\n",
       "      <td>1</td>\n",
       "      <td>0</td>\n",
       "      <td>0</td>\n",
       "      <td>1</td>\n",
       "      <td>9.02</td>\n",
       "      <td>13.635</td>\n",
       "      <td>80</td>\n",
       "      <td>0.0</td>\n",
       "      <td>5</td>\n",
       "      <td>27</td>\n",
       "      <td>32</td>\n",
       "      <td>2</td>\n",
       "    </tr>\n",
       "    <tr>\n",
       "      <th>2011-01-01 03:00:00</th>\n",
       "      <td>2011-01-01 03:00:00</td>\n",
       "      <td>1</td>\n",
       "      <td>0</td>\n",
       "      <td>0</td>\n",
       "      <td>1</td>\n",
       "      <td>9.84</td>\n",
       "      <td>14.395</td>\n",
       "      <td>75</td>\n",
       "      <td>0.0</td>\n",
       "      <td>3</td>\n",
       "      <td>10</td>\n",
       "      <td>13</td>\n",
       "      <td>3</td>\n",
       "    </tr>\n",
       "    <tr>\n",
       "      <th>2011-01-01 04:00:00</th>\n",
       "      <td>2011-01-01 04:00:00</td>\n",
       "      <td>1</td>\n",
       "      <td>0</td>\n",
       "      <td>0</td>\n",
       "      <td>1</td>\n",
       "      <td>9.84</td>\n",
       "      <td>14.395</td>\n",
       "      <td>75</td>\n",
       "      <td>0.0</td>\n",
       "      <td>0</td>\n",
       "      <td>1</td>\n",
       "      <td>1</td>\n",
       "      <td>4</td>\n",
       "    </tr>\n",
       "  </tbody>\n",
       "</table>\n",
       "</div>"
      ],
      "text/plain": [
       "                                datetime  season  holiday  workingday  \\\n",
       "datetime                                                                \n",
       "2011-01-01 00:00:00  2011-01-01 00:00:00       1        0           0   \n",
       "2011-01-01 01:00:00  2011-01-01 01:00:00       1        0           0   \n",
       "2011-01-01 02:00:00  2011-01-01 02:00:00       1        0           0   \n",
       "2011-01-01 03:00:00  2011-01-01 03:00:00       1        0           0   \n",
       "2011-01-01 04:00:00  2011-01-01 04:00:00       1        0           0   \n",
       "\n",
       "                     weather  temp   atemp  humidity  windspeed  casual  \\\n",
       "datetime                                                                  \n",
       "2011-01-01 00:00:00        1  9.84  14.395        81        0.0       3   \n",
       "2011-01-01 01:00:00        1  9.02  13.635        80        0.0       8   \n",
       "2011-01-01 02:00:00        1  9.02  13.635        80        0.0       5   \n",
       "2011-01-01 03:00:00        1  9.84  14.395        75        0.0       3   \n",
       "2011-01-01 04:00:00        1  9.84  14.395        75        0.0       0   \n",
       "\n",
       "                     registered  count  hour  \n",
       "datetime                                      \n",
       "2011-01-01 00:00:00          13     16     0  \n",
       "2011-01-01 01:00:00          32     40     1  \n",
       "2011-01-01 02:00:00          27     32     2  \n",
       "2011-01-01 03:00:00          10     13     3  \n",
       "2011-01-01 04:00:00           1      1     4  "
      ]
     },
     "execution_count": 3,
     "metadata": {},
     "output_type": "execute_result"
    }
   ],
   "source": [
    "df.set_index(pd.to_datetime(df['datetime']), inplace = True)\n",
    "df.head()"
   ]
  },
  {
   "cell_type": "code",
   "execution_count": 4,
   "metadata": {},
   "outputs": [],
   "source": [
    "# split table into X table for variables and y for predicted variable\n",
    "X = df.drop(columns = ['count', 'registered', 'casual'])\n",
    "y = df['count']"
   ]
  },
  {
   "cell_type": "code",
   "execution_count": 5,
   "metadata": {},
   "outputs": [],
   "source": [
    "# split into training and testing dataset\n",
    "X_train, X_test, y_train, y_test = train_test_split(X,y, random_state = 42)"
   ]
  },
  {
   "cell_type": "code",
   "execution_count": 6,
   "metadata": {},
   "outputs": [
    {
     "data": {
      "text/html": [
       "<div>\n",
       "<style scoped>\n",
       "    .dataframe tbody tr th:only-of-type {\n",
       "        vertical-align: middle;\n",
       "    }\n",
       "\n",
       "    .dataframe tbody tr th {\n",
       "        vertical-align: top;\n",
       "    }\n",
       "\n",
       "    .dataframe thead th {\n",
       "        text-align: right;\n",
       "    }\n",
       "</style>\n",
       "<table border=\"1\" class=\"dataframe\">\n",
       "  <thead>\n",
       "    <tr style=\"text-align: right;\">\n",
       "      <th></th>\n",
       "      <th>datetime</th>\n",
       "      <th>season</th>\n",
       "      <th>holiday</th>\n",
       "      <th>workingday</th>\n",
       "      <th>weather</th>\n",
       "      <th>temp</th>\n",
       "      <th>atemp</th>\n",
       "      <th>humidity</th>\n",
       "      <th>windspeed</th>\n",
       "      <th>hour</th>\n",
       "    </tr>\n",
       "    <tr>\n",
       "      <th>datetime</th>\n",
       "      <th></th>\n",
       "      <th></th>\n",
       "      <th></th>\n",
       "      <th></th>\n",
       "      <th></th>\n",
       "      <th></th>\n",
       "      <th></th>\n",
       "      <th></th>\n",
       "      <th></th>\n",
       "      <th></th>\n",
       "    </tr>\n",
       "  </thead>\n",
       "  <tbody>\n",
       "    <tr>\n",
       "      <th>2011-07-11 00:00:00</th>\n",
       "      <td>2011-07-11 00:00:00</td>\n",
       "      <td>3</td>\n",
       "      <td>0</td>\n",
       "      <td>1</td>\n",
       "      <td>1</td>\n",
       "      <td>28.70</td>\n",
       "      <td>32.575</td>\n",
       "      <td>65</td>\n",
       "      <td>12.9980</td>\n",
       "      <td>0</td>\n",
       "    </tr>\n",
       "    <tr>\n",
       "      <th>2012-05-18 22:00:00</th>\n",
       "      <td>2012-05-18 22:00:00</td>\n",
       "      <td>2</td>\n",
       "      <td>0</td>\n",
       "      <td>1</td>\n",
       "      <td>1</td>\n",
       "      <td>22.96</td>\n",
       "      <td>26.515</td>\n",
       "      <td>52</td>\n",
       "      <td>22.0028</td>\n",
       "      <td>22</td>\n",
       "    </tr>\n",
       "    <tr>\n",
       "      <th>2011-04-01 23:00:00</th>\n",
       "      <td>2011-04-01 23:00:00</td>\n",
       "      <td>2</td>\n",
       "      <td>0</td>\n",
       "      <td>1</td>\n",
       "      <td>1</td>\n",
       "      <td>12.30</td>\n",
       "      <td>15.910</td>\n",
       "      <td>61</td>\n",
       "      <td>6.0032</td>\n",
       "      <td>23</td>\n",
       "    </tr>\n",
       "    <tr>\n",
       "      <th>2012-09-16 09:00:00</th>\n",
       "      <td>2012-09-16 09:00:00</td>\n",
       "      <td>3</td>\n",
       "      <td>0</td>\n",
       "      <td>0</td>\n",
       "      <td>1</td>\n",
       "      <td>23.78</td>\n",
       "      <td>27.275</td>\n",
       "      <td>60</td>\n",
       "      <td>8.9981</td>\n",
       "      <td>9</td>\n",
       "    </tr>\n",
       "    <tr>\n",
       "      <th>2011-02-01 23:00:00</th>\n",
       "      <td>2011-02-01 23:00:00</td>\n",
       "      <td>1</td>\n",
       "      <td>0</td>\n",
       "      <td>1</td>\n",
       "      <td>3</td>\n",
       "      <td>8.20</td>\n",
       "      <td>9.850</td>\n",
       "      <td>93</td>\n",
       "      <td>12.9980</td>\n",
       "      <td>23</td>\n",
       "    </tr>\n",
       "  </tbody>\n",
       "</table>\n",
       "</div>"
      ],
      "text/plain": [
       "                                datetime  season  holiday  workingday  \\\n",
       "datetime                                                                \n",
       "2011-07-11 00:00:00  2011-07-11 00:00:00       3        0           1   \n",
       "2012-05-18 22:00:00  2012-05-18 22:00:00       2        0           1   \n",
       "2011-04-01 23:00:00  2011-04-01 23:00:00       2        0           1   \n",
       "2012-09-16 09:00:00  2012-09-16 09:00:00       3        0           0   \n",
       "2011-02-01 23:00:00  2011-02-01 23:00:00       1        0           1   \n",
       "\n",
       "                     weather   temp   atemp  humidity  windspeed  hour  \n",
       "datetime                                                                \n",
       "2011-07-11 00:00:00        1  28.70  32.575        65    12.9980     0  \n",
       "2012-05-18 22:00:00        1  22.96  26.515        52    22.0028    22  \n",
       "2011-04-01 23:00:00        1  12.30  15.910        61     6.0032    23  \n",
       "2012-09-16 09:00:00        1  23.78  27.275        60     8.9981     9  \n",
       "2011-02-01 23:00:00        3   8.20   9.850        93    12.9980    23  "
      ]
     },
     "execution_count": 6,
     "metadata": {},
     "output_type": "execute_result"
    }
   ],
   "source": [
    "X_train.head()"
   ]
  },
  {
   "cell_type": "markdown",
   "metadata": {},
   "source": [
    "## Beginning feature engineering\n",
    "- variables come as \n",
    "    - continous/ numerical \n",
    "    - categorical\n",
    "    - "
   ]
  },
  {
   "cell_type": "code",
   "execution_count": 7,
   "metadata": {},
   "outputs": [],
   "source": [
    "def day_and_time_from_datetime(df):\n",
    "    '''\n",
    "    this helper function extracts hour, day, and month from the datetime column.\n",
    "    \n",
    "    Params:\n",
    "    -------\n",
    "    \n",
    "    datetime-column of dataframe df\n",
    "    '''\n",
    "    df = df.copy()\n",
    "    df['hour'] = pd.to_datetime(df['datetime']).dt.hour\n",
    "    df['weekday'] = pd.to_datetime(df['datetime']).dt.dayofweek\n",
    "    df['month'] = pd.to_datetime(df['datetime']).dt.month\n",
    "    df = df.drop('datetime', axis = 1)\n",
    "    return df"
   ]
  },
  {
   "cell_type": "code",
   "execution_count": 8,
   "metadata": {},
   "outputs": [],
   "source": [
    "## Feature engineering using above defined helper function\n",
    "\n",
    "# features from the original datetime-column are extracted, onehot-encoded and defined as interaction-features\n",
    "time_feat = ['datetime']\n",
    "time_transformer = Pipeline(steps=[\n",
    "    ('day_time_extract', FunctionTransformer(day_and_time_from_datetime)),\n",
    "    ('onehot', OneHotEncoder(handle_unknown='ignore')),\n",
    "    ('polynomial', PolynomialFeatures(interaction_only=True, include_bias=False))\n",
    "    ])\n",
    "\n",
    "# the numeric parameterswindspeed and atemp are scaled to a mean-value of 0 and a variance of 1\n",
    "numeric_features = ['windspeed', 'atemp']\n",
    "numeric_transformer = Pipeline(steps=[\n",
    "    ('scaler', StandardScaler()),\n",
    "    ])\n",
    "\n",
    "# categorical feature weather is onehot-encoded\n",
    "categorical_features = ['weather']\n",
    "categorical_transformer = Pipeline(steps=[   \n",
    "    ('onehot', OneHotEncoder(handle_unknown='ignore'))\n",
    "    ])\n",
    "\n",
    "# two more interacting features are defined: (humidity and workingday) and (workingday and atemp), both are onehot-encoded afterwards\n",
    "interact_features = ['humidity' ,'workingday']\n",
    "interaction_transformer = Pipeline(steps=[\n",
    "    ('polynomial', PolynomialFeatures(interaction_only = True, include_bias=False)),\n",
    "    ('onehot', OneHotEncoder(handle_unknown='ignore'))\n",
    "    ])\n",
    "\n",
    "interact_features3 = ['workingday' ,'atemp']\n",
    "interaction_transformer3 = Pipeline(steps=[\n",
    "    ('polynomial3', PolynomialFeatures(interaction_only = True, include_bias=False)),\n",
    "    ('onehot', OneHotEncoder(handle_unknown='ignore'))\n",
    "    ])\n",
    "\n",
    "# no features are included, which are not preprocessed\n",
    "passthrough_features = []"
   ]
  },
  {
   "cell_type": "code",
   "execution_count": 9,
   "metadata": {},
   "outputs": [],
   "source": [
    "# definition of the preprcessing column-transformer\n",
    "\n",
    "preprocessor = ColumnTransformer(\n",
    "    transformers=[\n",
    "        ('day_time_extract', time_transformer, time_feat),\n",
    "        ('num', numeric_transformer, numeric_features),\n",
    "        ('cat', categorical_transformer, categorical_features),\n",
    "        ('polynomial', interaction_transformer, interact_features),\n",
    "        ('polynomial3', interaction_transformer3, interact_features3)\n",
    "        #('pass', 'passthrough', passthrough_features)\n",
    "        ])"
   ]
  },
  {
   "cell_type": "code",
   "execution_count": 10,
   "metadata": {},
   "outputs": [],
   "source": [
    "# Append classifier to preprocessing pipeline.\n",
    "## Ridge-Regularization gave best values (see below), therefore it is chosen here\n",
    "\n",
    "p = Pipeline(steps=[('preprocessor', preprocessor),\n",
    "                    ('classifier', Ridge())\n",
    "                    ])"
   ]
  },
  {
   "cell_type": "code",
   "execution_count": 11,
   "metadata": {},
   "outputs": [
    {
     "name": "stdout",
     "output_type": "stream",
     "text": [
      "MSE: 5331.4012449878355\n",
      "MAE: 53.278792513903525\n",
      "r2: 0.83750103432238\n"
     ]
    }
   ],
   "source": [
    "# apply/ fit the pipeline to X_train & y_train; print some result-metrices\n",
    "\n",
    "p.fit(X_train, y_train)\n",
    "ypred_train = p.predict(X_train)\n",
    "print('MSE: ' + str(mean_squared_error(y_train, ypred_train)))\n",
    "print('MAE: ' + str(mean_absolute_error(y_train, ypred_train)))\n",
    "print('r2: ' + str(r2_score(y_train, ypred_train)))"
   ]
  },
  {
   "cell_type": "code",
   "execution_count": 12,
   "metadata": {},
   "outputs": [
    {
     "data": {
      "text/plain": [
       "Text(0.5, 1.0, 'mean cross validation score')"
      ]
     },
     "execution_count": 12,
     "metadata": {},
     "output_type": "execute_result"
    },
    {
     "data": {
      "image/png": "[encoded data removed]",
      "text/plain": [
       "<Figure size 360x360 with 1 Axes>"
      ]
     },
     "metadata": {
      "needs_background": "light"
     },
     "output_type": "display_data"
    }
   ],
   "source": [
    "# cross validation and plotting the mean validation score\n",
    "\n",
    "csv = cross_val_score(p, X_train, y_train, cv = 5, scoring = 'r2')\n",
    "CSV = pd.DataFrame(csv)\n",
    "plt.figure(figsize= (5,5))\n",
    "sns.barplot(y = CSV)\n",
    "plt.title('mean cross validation score')"
   ]
  },
  {
   "cell_type": "code",
   "execution_count": 13,
   "metadata": {},
   "outputs": [
    {
     "data": {
      "text/plain": [
       "<matplotlib.axes._subplots.AxesSubplot at 0x1a1f112150>"
      ]
     },
     "execution_count": 13,
     "metadata": {},
     "output_type": "execute_result"
    },
    {
     "data": {
      "image/png": "[encoded data removed]",
      "text/plain": [
       "<Figure size 432x288 with 1 Axes>"
      ]
     },
     "metadata": {
      "needs_background": "light"
     },
     "output_type": "display_data"
    }
   ],
   "source": [
    "# plot the distribution of predicted and trained y-values (counts)\n",
    "\n",
    "sns.scatterplot(y_train, ypred_train)"
   ]
  },
  {
   "cell_type": "code",
   "execution_count": 14,
   "metadata": {},
   "outputs": [
    {
     "name": "stderr",
     "output_type": "stream",
     "text": [
      "/opt/anaconda3/lib/python3.7/site-packages/ipykernel_launcher.py:3: SettingWithCopyWarning: \n",
      "A value is trying to be set on a copy of a slice from a DataFrame.\n",
      "Try using .loc[row_indexer,col_indexer] = value instead\n",
      "\n",
      "See the caveats in the documentation: https://pandas.pydata.org/pandas-docs/stable/user_guide/indexing.html#returning-a-view-versus-a-copy\n",
      "  This is separate from the ipykernel package so we can avoid doing imports until\n"
     ]
    },
    {
     "data": {
      "text/plain": [
       "<matplotlib.axes._subplots.AxesSubplot at 0x1a1f657110>"
      ]
     },
     "execution_count": 14,
     "metadata": {},
     "output_type": "execute_result"
    },
    {
     "data": {
      "image/png": "[encoded data removed]",
      "text/plain": [
       "<Figure size 432x288 with 1 Axes>"
      ]
     },
     "metadata": {
      "needs_background": "light"
     },
     "output_type": "display_data"
    }
   ],
   "source": [
    "# to plot the model-prediction over the hour of the day, the hour needs to be extracted first from the datetime\n",
    "\n",
    "X_train['hour'] = pd.to_datetime(X_train['datetime']).dt.hour\n",
    "sns.lineplot(x=X_train['hour'], y = ypred_train)"
   ]
  },
  {
   "cell_type": "code",
   "execution_count": 15,
   "metadata": {},
   "outputs": [],
   "source": [
    "# perform GridSearch to find the best CrossValidated model\n",
    "##  define our hyperparameters to combine: Test CrossValidation for different models\n",
    "\n",
    "param_grid = {\n",
    "    'classifier' : [LinearRegression(), RidgeCV(), LassoCV(), ElasticNetCV()]\n",
    "}\n",
    "grid_search = GridSearchCV(p, param_grid)"
   ]
  },
  {
   "cell_type": "code",
   "execution_count": 16,
   "metadata": {},
   "outputs": [
    {
     "data": {
      "text/html": [
       "<div>\n",
       "<style scoped>\n",
       "    .dataframe tbody tr th:only-of-type {\n",
       "        vertical-align: middle;\n",
       "    }\n",
       "\n",
       "    .dataframe tbody tr th {\n",
       "        vertical-align: top;\n",
       "    }\n",
       "\n",
       "    .dataframe thead th {\n",
       "        text-align: right;\n",
       "    }\n",
       "</style>\n",
       "<table border=\"1\" class=\"dataframe\">\n",
       "  <thead>\n",
       "    <tr style=\"text-align: right;\">\n",
       "      <th></th>\n",
       "      <th>mean_fit_time</th>\n",
       "      <th>std_fit_time</th>\n",
       "      <th>mean_score_time</th>\n",
       "      <th>std_score_time</th>\n",
       "      <th>param_classifier</th>\n",
       "      <th>params</th>\n",
       "      <th>split0_test_score</th>\n",
       "      <th>split1_test_score</th>\n",
       "      <th>split2_test_score</th>\n",
       "      <th>split3_test_score</th>\n",
       "      <th>split4_test_score</th>\n",
       "      <th>mean_test_score</th>\n",
       "      <th>std_test_score</th>\n",
       "      <th>rank_test_score</th>\n",
       "    </tr>\n",
       "  </thead>\n",
       "  <tbody>\n",
       "    <tr>\n",
       "      <th>0</th>\n",
       "      <td>0.223034</td>\n",
       "      <td>0.016572</td>\n",
       "      <td>0.026677</td>\n",
       "      <td>0.000725</td>\n",
       "      <td>LinearRegression(copy_X=True, fit_intercept=Tr...</td>\n",
       "      <td>{'classifier': LinearRegression(copy_X=True, f...</td>\n",
       "      <td>0.770670</td>\n",
       "      <td>0.786762</td>\n",
       "      <td>0.806225</td>\n",
       "      <td>0.802665</td>\n",
       "      <td>0.788326</td>\n",
       "      <td>0.790930</td>\n",
       "      <td>0.012699</td>\n",
       "      <td>3</td>\n",
       "    </tr>\n",
       "    <tr>\n",
       "      <th>1</th>\n",
       "      <td>2.166865</td>\n",
       "      <td>0.145490</td>\n",
       "      <td>0.027231</td>\n",
       "      <td>0.001164</td>\n",
       "      <td>RidgeCV(alphas=array([ 0.1,  1. , 10. ]), cv=N...</td>\n",
       "      <td>{'classifier': RidgeCV(alphas=array([ 0.1,  1....</td>\n",
       "      <td>0.775131</td>\n",
       "      <td>0.791667</td>\n",
       "      <td>0.808209</td>\n",
       "      <td>0.806234</td>\n",
       "      <td>0.791588</td>\n",
       "      <td>0.794566</td>\n",
       "      <td>0.011977</td>\n",
       "      <td>1</td>\n",
       "    </tr>\n",
       "    <tr>\n",
       "      <th>2</th>\n",
       "      <td>43.179738</td>\n",
       "      <td>2.052276</td>\n",
       "      <td>0.032793</td>\n",
       "      <td>0.004350</td>\n",
       "      <td>LassoCV(alphas=None, copy_X=True, cv=None, eps...</td>\n",
       "      <td>{'classifier': LassoCV(alphas=None, copy_X=Tru...</td>\n",
       "      <td>0.772271</td>\n",
       "      <td>0.792012</td>\n",
       "      <td>0.807354</td>\n",
       "      <td>0.801115</td>\n",
       "      <td>0.790627</td>\n",
       "      <td>0.792676</td>\n",
       "      <td>0.011897</td>\n",
       "      <td>2</td>\n",
       "    </tr>\n",
       "    <tr>\n",
       "      <th>3</th>\n",
       "      <td>15.580195</td>\n",
       "      <td>0.562845</td>\n",
       "      <td>0.031559</td>\n",
       "      <td>0.006893</td>\n",
       "      <td>ElasticNetCV(alphas=None, copy_X=True, cv=None...</td>\n",
       "      <td>{'classifier': ElasticNetCV(alphas=None, copy_...</td>\n",
       "      <td>0.485129</td>\n",
       "      <td>0.521793</td>\n",
       "      <td>0.499234</td>\n",
       "      <td>0.508747</td>\n",
       "      <td>0.501290</td>\n",
       "      <td>0.503239</td>\n",
       "      <td>0.012020</td>\n",
       "      <td>4</td>\n",
       "    </tr>\n",
       "  </tbody>\n",
       "</table>\n",
       "</div>"
      ],
      "text/plain": [
       "   mean_fit_time  std_fit_time  mean_score_time  std_score_time  \\\n",
       "0       0.223034      0.016572         0.026677        0.000725   \n",
       "1       2.166865      0.145490         0.027231        0.001164   \n",
       "2      43.179738      2.052276         0.032793        0.004350   \n",
       "3      15.580195      0.562845         0.031559        0.006893   \n",
       "\n",
       "                                    param_classifier  \\\n",
       "0  LinearRegression(copy_X=True, fit_intercept=Tr...   \n",
       "1  RidgeCV(alphas=array([ 0.1,  1. , 10. ]), cv=N...   \n",
       "2  LassoCV(alphas=None, copy_X=True, cv=None, eps...   \n",
       "3  ElasticNetCV(alphas=None, copy_X=True, cv=None...   \n",
       "\n",
       "                                              params  split0_test_score  \\\n",
       "0  {'classifier': LinearRegression(copy_X=True, f...           0.770670   \n",
       "1  {'classifier': RidgeCV(alphas=array([ 0.1,  1....           0.775131   \n",
       "2  {'classifier': LassoCV(alphas=None, copy_X=Tru...           0.772271   \n",
       "3  {'classifier': ElasticNetCV(alphas=None, copy_...           0.485129   \n",
       "\n",
       "   split1_test_score  split2_test_score  split3_test_score  split4_test_score  \\\n",
       "0           0.786762           0.806225           0.802665           0.788326   \n",
       "1           0.791667           0.808209           0.806234           0.791588   \n",
       "2           0.792012           0.807354           0.801115           0.790627   \n",
       "3           0.521793           0.499234           0.508747           0.501290   \n",
       "\n",
       "   mean_test_score  std_test_score  rank_test_score  \n",
       "0         0.790930        0.012699                3  \n",
       "1         0.794566        0.011977                1  \n",
       "2         0.792676        0.011897                2  \n",
       "3         0.503239        0.012020                4  "
      ]
     },
     "execution_count": 16,
     "metadata": {},
     "output_type": "execute_result"
    }
   ],
   "source": [
    "# perform GridSearch, store in Dataframe\n",
    "\n",
    "grid_search.fit(X_train, y_train) \n",
    "GS = pd.DataFrame(grid_search.cv_results_)\n",
    "GS"
   ]
  },
  {
   "cell_type": "code",
   "execution_count": 17,
   "metadata": {},
   "outputs": [
    {
     "name": "stderr",
     "output_type": "stream",
     "text": [
      "/opt/anaconda3/lib/python3.7/site-packages/pandas/core/frame.py:4133: SettingWithCopyWarning: \n",
      "A value is trying to be set on a copy of a slice from a DataFrame\n",
      "\n",
      "See the caveats in the documentation: https://pandas.pydata.org/pandas-docs/stable/user_guide/indexing.html#returning-a-view-versus-a-copy\n",
      "  errors=errors,\n"
     ]
    }
   ],
   "source": [
    "# wrangle with the datafram from GridSearch-Results for plotting\n",
    "\n",
    "GS2 = GS.stack() \n",
    "GS3 = GS2.unstack(0).reset_index()\n",
    "GS4 = GS3.iloc[6:11]\n",
    "GS4.rename(columns = {'index' :'index',  0:'LinReg', 1: 'RidgeCV', 2: 'LassoCV', 3:'ElasticNetCV'}, inplace =True)"
   ]
  },
  {
   "cell_type": "code",
   "execution_count": 18,
   "metadata": {},
   "outputs": [
    {
     "data": {
      "text/plain": [
       "Text(0.5, 1.0, 'r2-score model cross validation')"
      ]
     },
     "execution_count": 18,
     "metadata": {},
     "output_type": "execute_result"
    },
    {
     "data": {
      "image/png": "[encoded data removed]",
      "text/plain": [
       "<Figure size 432x288 with 1 Axes>"
      ]
     },
     "metadata": {
      "needs_background": "light"
     },
     "output_type": "display_data"
    }
   ],
   "source": [
    "# plot performance of the models from GridSearch\n",
    "\n",
    "sns.barplot(data = GS4) \n",
    "plt.title('r2-score model cross validation')"
   ]
  },
  {
   "cell_type": "code",
   "execution_count": 19,
   "metadata": {},
   "outputs": [
    {
     "data": {
      "text/plain": [
       "Text(0.5, 1.0, 'mean fit time')"
      ]
     },
     "execution_count": 19,
     "metadata": {},
     "output_type": "execute_result"
    },
    {
     "data": {
      "image/png": "[encoded data removed]",
      "text/plain": [
       "<Figure size 432x288 with 1 Axes>"
      ]
     },
     "metadata": {
      "needs_background": "light"
     },
     "output_type": "display_data"
    }
   ],
   "source": [
    "# plot time-usage of the models from GridSearch\n",
    "\n",
    "GS_label = ['LinReg', 'RidgeCV', 'LassoCV', 'ElasticNetCV'] \n",
    "sns.barplot(y = 'mean_fit_time', x = GS_label, data = GS)\n",
    "plt.title('mean fit time')"
   ]
  },
  {
   "cell_type": "markdown",
   "metadata": {},
   "source": [
    "### apply the derived model to the test-dataset\n",
    "- output the same result-matrices and\n",
    "- the distribution of predicted and test y-values (counts)\n",
    "- together with the perdicted count-values distributed over the hours of a day"
   ]
  },
  {
   "cell_type": "code",
   "execution_count": 20,
   "metadata": {},
   "outputs": [
    {
     "name": "stdout",
     "output_type": "stream",
     "text": [
      "MSE: 6624.832677804829\n",
      "MAE: 59.4016524467677\n",
      "r2: 0.7439672691660693\n"
     ]
    }
   ],
   "source": [
    "ypred_test = p.predict(X_test) # taking the model to the test data\n",
    "print('MSE: ' + str(mean_squared_error(ypred_test, y_test)))\n",
    "print('MAE: ' + str(mean_absolute_error(ypred_test, y_test)))\n",
    "print('r2: ' + str(r2_score(ypred_test, y_test)))"
   ]
  },
  {
   "cell_type": "code",
   "execution_count": 21,
   "metadata": {},
   "outputs": [
    {
     "data": {
      "text/plain": [
       "<matplotlib.axes._subplots.AxesSubplot at 0x1a1fae7b10>"
      ]
     },
     "execution_count": 21,
     "metadata": {},
     "output_type": "execute_result"
    },
    {
     "data": {
      "image/png": "[encoded data removed]",
      "text/plain": [
       "<Figure size 432x288 with 1 Axes>"
      ]
     },
     "metadata": {
      "needs_background": "light"
     },
     "output_type": "display_data"
    }
   ],
   "source": [
    "sns.scatterplot(ypred_test, y_test)"
   ]
  },
  {
   "cell_type": "code",
   "execution_count": 23,
   "metadata": {},
   "outputs": [
    {
     "name": "stderr",
     "output_type": "stream",
     "text": [
      "/opt/anaconda3/lib/python3.7/site-packages/ipykernel_launcher.py:1: SettingWithCopyWarning: \n",
      "A value is trying to be set on a copy of a slice from a DataFrame.\n",
      "Try using .loc[row_indexer,col_indexer] = value instead\n",
      "\n",
      "See the caveats in the documentation: https://pandas.pydata.org/pandas-docs/stable/user_guide/indexing.html#returning-a-view-versus-a-copy\n",
      "  \"\"\"Entry point for launching an IPython kernel.\n"
     ]
    },
    {
     "data": {
      "text/plain": [
       "<matplotlib.axes._subplots.AxesSubplot at 0x1a209bca10>"
      ]
     },
     "execution_count": 23,
     "metadata": {},
     "output_type": "execute_result"
    },
    {
     "data": {
      "image/png": "[encoded data removed]",
      "text/plain": [
       "<Figure size 432x288 with 1 Axes>"
      ]
     },
     "metadata": {
      "needs_background": "light"
     },
     "output_type": "display_data"
    }
   ],
   "source": [
    "X_test['hour'] = pd.to_datetime(X_test['datetime']).dt.hour\n",
    "sns.lineplot(x=X_test['hour'], y = ypred_test)"
   ]
  }
 ],
 "metadata": {
  "kernelspec": {
   "display_name": "Python 3",
   "language": "python",
   "name": "python3"
  },
  "language_info": {
   "codemirror_mode": {
    "name": "ipython",
    "version": 3
   },
   "file_extension": ".py",
   "mimetype": "text/x-python",
   "name": "python",
   "nbconvert_exporter": "python",
   "pygments_lexer": "ipython3",
   "version": "3.7.6"
  }
 },
 "nbformat": 4,
 "nbformat_minor": 4
}
